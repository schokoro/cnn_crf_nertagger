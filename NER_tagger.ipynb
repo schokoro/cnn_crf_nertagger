{
  "nbformat": 4,
  "nbformat_minor": 0,
  "metadata": {
    "kernelspec": {
      "name": "python3",
      "display_name": "Python 3"
    },
    "language_info": {
      "codemirror_mode": {
        "name": "ipython",
        "version": 3
      },
      "file_extension": ".py",
      "mimetype": "text/x-python",
      "name": "python",
      "nbconvert_exporter": "python",
      "pygments_lexer": "ipython3",
      "version": "3.7.1"
    },
    "latex_envs": {
      "LaTeX_envs_menu_present": true,
      "autoclose": false,
      "autocomplete": true,
      "bibliofile": "biblio.bib",
      "cite_by": "apalike",
      "current_citInitial": 1,
      "eqLabelWithNumbers": true,
      "eqNumInitial": 1,
      "hotkeys": {
        "equation": "Ctrl-E",
        "itemize": "Ctrl-I"
      },
      "labels_anchors": false,
      "latex_user_defs": false,
      "report_style_numbering": false,
      "user_envs_cfg": false
    },
    "toc": {
      "base_numbering": 1,
      "nav_menu": {},
      "number_sections": true,
      "sideBar": true,
      "skip_h1_title": false,
      "title_cell": "Table of Contents",
      "title_sidebar": "Contents",
      "toc_cell": false,
      "toc_position": {},
      "toc_section_display": true,
      "toc_window_display": true
    },
    "colab": {
      "name": "NER_tagger.ipynb",
      "provenance": [],
      "collapsed_sections": [],
      "include_colab_link": true
    },
    "accelerator": "GPU"
  },
  "cells": [
    {
      "cell_type": "markdown",
      "metadata": {
        "id": "view-in-github",
        "colab_type": "text"
      },
      "source": [
        "<a href=\"https://colab.research.google.com/github/schokoro/cnn_crf_nertagger/blob/dev/NER_tagger.ipynb\" target=\"_parent\"><img src=\"https://colab.research.google.com/assets/colab-badge.svg\" alt=\"Open In Colab\"/></a>"
      ]
    },
    {
      "cell_type": "markdown",
      "metadata": {
        "id": "p_aAUmhzgFqt",
        "colab_type": "text"
      },
      "source": [
        "# CNN и CRF для извлечения именованных сущностей\n",
        "\n"
      ]
    },
    {
      "cell_type": "code",
      "metadata": {
        "id": "kVSH61-2h4l6",
        "colab_type": "code",
        "colab": {
          "base_uri": "https://localhost:8080/",
          "height": 33
        },
        "outputId": "3cd59056-bae3-4015-f226-607d4813788b"
      },
      "source": [
        "import torch\n",
        "device = torch.device(\"cuda:0\" if torch.cuda.is_available() else \"cpu\")\n",
        "if device == 'cpu':\n",
        "    print('cpu')\n",
        "else:\n",
        "    n_gpu = torch.cuda.device_count()\n",
        "    print(torch.cuda.get_device_name(0))\n",
        "    "
      ],
      "execution_count": 1,
      "outputs": [
        {
          "output_type": "stream",
          "text": [
            "Tesla T4\n"
          ],
          "name": "stdout"
        }
      ]
    },
    {
      "cell_type": "code",
      "metadata": {
        "id": "SVzEU3MPb8nK",
        "colab_type": "code",
        "colab": {}
      },
      "source": [
        "!rm -rf cnn_crf_nertagger/"
      ],
      "execution_count": 0,
      "outputs": []
    },
    {
      "cell_type": "code",
      "metadata": {
        "id": "2BZw4sQ4gFrj",
        "colab_type": "code",
        "colab": {
          "base_uri": "https://localhost:8080/",
          "height": 133
        },
        "outputId": "6c2c562e-4b23-43dc-8c22-5587b3784eec"
      },
      "source": [
        "!git clone -b dev https://github.com/schokoro/cnn_crf_nertagger.git > /dev/null\n",
        "!pip install allennlp wget> /dev/null\n"
      ],
      "execution_count": 3,
      "outputs": [
        {
          "output_type": "stream",
          "text": [
            "Cloning into 'cnn_crf_nertagger'...\n",
            "remote: Enumerating objects: 106, done.\u001b[K\n",
            "remote: Counting objects:   0% (1/106)\u001b[K\rremote: Counting objects:   1% (2/106)\u001b[K\rremote: Counting objects:   2% (3/106)\u001b[K\rremote: Counting objects:   3% (4/106)\u001b[K\rremote: Counting objects:   4% (5/106)\u001b[K\rremote: Counting objects:   5% (6/106)\u001b[K\rremote: Counting objects:   6% (7/106)\u001b[K\rremote: Counting objects:   7% (8/106)\u001b[K\rremote: Counting objects:   8% (9/106)\u001b[K\rremote: Counting objects:   9% (10/106)\u001b[K\rremote: Counting objects:  10% (11/106)\u001b[K\rremote: Counting objects:  11% (12/106)\u001b[K\rremote: Counting objects:  12% (13/106)\u001b[K\rremote: Counting objects:  13% (14/106)\u001b[K\rremote: Counting objects:  14% (15/106)\u001b[K\rremote: Counting objects:  15% (16/106)\u001b[K\rremote: Counting objects:  16% (17/106)\u001b[K\rremote: Counting objects:  17% (19/106)\u001b[K\rremote: Counting objects:  18% (20/106)\u001b[K\rremote: Counting objects:  19% (21/106)\u001b[K\rremote: Counting objects:  20% (22/106)\u001b[K\rremote: Counting objects:  21% (23/106)\u001b[K\rremote: Counting objects:  22% (24/106)\u001b[K\rremote: Counting objects:  23% (25/106)\u001b[K\rremote: Counting objects:  24% (26/106)\u001b[K\rremote: Counting objects:  25% (27/106)\u001b[K\rremote: Counting objects:  26% (28/106)\u001b[K\rremote: Counting objects:  27% (29/106)\u001b[K\rremote: Counting objects:  28% (30/106)\u001b[K\rremote: Counting objects:  29% (31/106)\u001b[K\rremote: Counting objects:  30% (32/106)\u001b[K\rremote: Counting objects:  31% (33/106)\u001b[K\rremote: Counting objects:  32% (34/106)\u001b[K\rremote: Counting objects:  33% (35/106)\u001b[K\rremote: Counting objects:  34% (37/106)\u001b[K\rremote: Counting objects:  35% (38/106)\u001b[K\rremote: Counting objects:  36% (39/106)\u001b[K\rremote: Counting objects:  37% (40/106)\u001b[K\rremote: Counting objects:  38% (41/106)\u001b[K\rremote: Counting objects:  39% (42/106)\u001b[K\rremote: Counting objects:  40% (43/106)\u001b[K\rremote: Counting objects:  41% (44/106)\u001b[K\rremote: Counting objects:  42% (45/106)\u001b[K\rremote: Counting objects:  43% (46/106)\u001b[K\rremote: Counting objects:  44% (47/106)\u001b[K\rremote: Counting objects:  45% (48/106)\u001b[K\rremote: Counting objects:  46% (49/106)\u001b[K\rremote: Counting objects:  47% (50/106)\u001b[K\rremote: Counting objects:  48% (51/106)\u001b[K\rremote: Counting objects:  49% (52/106)\u001b[K\rremote: Counting objects:  50% (53/106)\u001b[K\rremote: Counting objects:  51% (55/106)\u001b[K\rremote: Counting objects:  52% (56/106)\u001b[K\rremote: Counting objects:  53% (57/106)\u001b[K\rremote: Counting objects:  54% (58/106)\u001b[K\rremote: Counting objects:  55% (59/106)\u001b[K\rremote: Counting objects:  56% (60/106)\u001b[K\rremote: Counting objects:  57% (61/106)\u001b[K\rremote: Counting objects:  58% (62/106)\u001b[K\rremote: Counting objects:  59% (63/106)\u001b[K\rremote: Counting objects:  60% (64/106)\u001b[K\rremote: Counting objects:  61% (65/106)\u001b[K\rremote: Counting objects:  62% (66/106)\u001b[K\rremote: Counting objects:  63% (67/106)\u001b[K\rremote: Counting objects:  64% (68/106)\u001b[K\rremote: Counting objects:  65% (69/106)\u001b[K\rremote: Counting objects:  66% (70/106)\u001b[K\rremote: Counting objects:  67% (72/106)\u001b[K\rremote: Counting objects:  68% (73/106)\u001b[K\rremote: Counting objects:  69% (74/106)\u001b[K\rremote: Counting objects:  70% (75/106)\u001b[K\rremote: Counting objects:  71% (76/106)\u001b[K\rremote: Counting objects:  72% (77/106)\u001b[K\rremote: Counting objects:  73% (78/106)\u001b[K\rremote: Counting objects:  74% (79/106)\u001b[K\rremote: Counting objects:  75% (80/106)\u001b[K\rremote: Counting objects:  76% (81/106)\u001b[K\rremote: Counting objects:  77% (82/106)\u001b[K\rremote: Counting objects:  78% (83/106)\u001b[K\rremote: Counting objects:  79% (84/106)\u001b[K\rremote: Counting objects:  80% (85/106)\u001b[K\rremote: Counting objects:  81% (86/106)\u001b[K\rremote: Counting objects:  82% (87/106)\u001b[K\rremote: Counting objects:  83% (88/106)\u001b[K\rremote: Counting objects:  84% (90/106)\u001b[K\rremote: Counting objects:  85% (91/106)\u001b[K\rremote: Counting objects:  86% (92/106)\u001b[K\rremote: Counting objects:  87% (93/106)\u001b[K\rremote: Counting objects:  88% (94/106)\u001b[K\rremote: Counting objects:  89% (95/106)\u001b[K\rremote: Counting objects:  90% (96/106)\u001b[K\rremote: Counting objects:  91% (97/106)\u001b[K\rremote: Counting objects:  92% (98/106)\u001b[K\rremote: Counting objects:  93% (99/106)\u001b[K\rremote: Counting objects:  94% (100/106)\u001b[K\rremote: Counting objects:  95% (101/106)\u001b[K\rremote: Counting objects:  96% (102/106)\u001b[K\rremote: Counting objects:  97% (103/106)\u001b[K\rremote: Counting objects:  98% (104/106)\u001b[K\rremote: Counting objects:  99% (105/106)\u001b[K\rremote: Counting objects: 100% (106/106)\u001b[K\rremote: Counting objects: 100% (106/106), done.\u001b[K\n",
            "remote: Compressing objects:   1% (1/57)\u001b[K\rremote: Compressing objects:   3% (2/57)\u001b[K\rremote: Compressing objects:   5% (3/57)\u001b[K\rremote: Compressing objects:   7% (4/57)\u001b[K\rremote: Compressing objects:   8% (5/57)\u001b[K\rremote: Compressing objects:  10% (6/57)\u001b[K\rremote: Compressing objects:  12% (7/57)\u001b[K\rremote: Compressing objects:  14% (8/57)\u001b[K\rremote: Compressing objects:  15% (9/57)\u001b[K\rremote: Compressing objects:  17% (10/57)\u001b[K\rremote: Compressing objects:  19% (11/57)\u001b[K\rremote: Compressing objects:  21% (12/57)\u001b[K\rremote: Compressing objects:  22% (13/57)\u001b[K\rremote: Compressing objects:  24% (14/57)\u001b[K\rremote: Compressing objects:  26% (15/57)\u001b[K\rremote: Compressing objects:  28% (16/57)\u001b[K\rremote: Compressing objects:  29% (17/57)\u001b[K\rremote: Compressing objects:  31% (18/57)\u001b[K\rremote: Compressing objects:  33% (19/57)\u001b[K\rremote: Compressing objects:  35% (20/57)\u001b[K\rremote: Compressing objects:  36% (21/57)\u001b[K\rremote: Compressing objects:  38% (22/57)\u001b[K\rremote: Compressing objects:  40% (23/57)\u001b[K\rremote: Compressing objects:  42% (24/57)\u001b[K\rremote: Compressing objects:  43% (25/57)\u001b[K\rremote: Compressing objects:  45% (26/57)\u001b[K\rremote: Compressing objects:  47% (27/57)\u001b[K\rremote: Compressing objects:  49% (28/57)\u001b[K\rremote: Compressing objects:  50% (29/57)\u001b[K\rremote: Compressing objects:  52% (30/57)\u001b[K\rremote: Compressing objects:  54% (31/57)\u001b[K\rremote: Compressing objects:  56% (32/57)\u001b[K\rremote: Compressing objects:  57% (33/57)\u001b[K\rremote: Compressing objects:  59% (34/57)\u001b[K\rremote: Compressing objects:  61% (35/57)\u001b[K\rremote: Compressing objects:  63% (36/57)\u001b[K\rremote: Compressing objects:  64% (37/57)\u001b[K\rremote: Compressing objects:  66% (38/57)\u001b[K\rremote: Compressing objects:  68% (39/57)\u001b[K\rremote: Compressing objects:  70% (40/57)\u001b[K\rremote: Compressing objects:  71% (41/57)\u001b[K\rremote: Compressing objects:  73% (42/57)\u001b[K\rremote: Compressing objects:  75% (43/57)\u001b[K\rremote: Compressing objects:  77% (44/57)\u001b[K\rremote: Compressing objects:  78% (45/57)\u001b[K\rremote: Compressing objects:  80% (46/57)\u001b[K\rremote: Compressing objects:  82% (47/57)\u001b[K\rremote: Compressing objects:  84% (48/57)\u001b[K\rremote: Compressing objects:  85% (49/57)\u001b[K\rremote: Compressing objects:  87% (50/57)\u001b[K\rremote: Compressing objects:  89% (51/57)\u001b[K\rremote: Compressing objects:  91% (52/57)\u001b[K\rremote: Compressing objects:  92% (53/57)\u001b[K\rremote: Compressing objects:  94% (54/57)\u001b[K\rremote: Compressing objects:  96% (55/57)\u001b[K\rremote: Compressing objects:  98% (56/57)\u001b[K\rremote: Compressing objects: 100% (57/57)\u001b[K\rremote: Compressing objects: 100% (57/57), done.\u001b[K\n",
            "remote: Total 106 (delta 44), reused 92 (delta 35), pack-reused 0\u001b[K\n",
            "Receiving objects:   0% (1/106)   \rReceiving objects:   1% (2/106)   \rReceiving objects:   2% (3/106)   \rReceiving objects:   3% (4/106)   \rReceiving objects:   4% (5/106)   \rReceiving objects:   5% (6/106)   \rReceiving objects:   6% (7/106)   \rReceiving objects:   7% (8/106)   \rReceiving objects:   8% (9/106)   \rReceiving objects:   9% (10/106)   \rReceiving objects:  10% (11/106)   \rReceiving objects:  11% (12/106)   \rReceiving objects:  12% (13/106)   \rReceiving objects:  13% (14/106)   \rReceiving objects:  14% (15/106)   \rReceiving objects:  15% (16/106)   \rReceiving objects:  16% (17/106)   \rReceiving objects:  17% (19/106)   \rReceiving objects:  18% (20/106)   \rReceiving objects:  19% (21/106)   \rReceiving objects:  20% (22/106)   \rReceiving objects:  21% (23/106)   \rReceiving objects:  22% (24/106)   \rReceiving objects:  23% (25/106)   \rReceiving objects:  24% (26/106)   \rReceiving objects:  25% (27/106)   \rReceiving objects:  26% (28/106)   \rReceiving objects:  27% (29/106)   \rReceiving objects:  28% (30/106)   \rReceiving objects:  29% (31/106)   \rReceiving objects:  30% (32/106)   \rReceiving objects:  31% (33/106)   \rReceiving objects:  32% (34/106)   \rReceiving objects:  33% (35/106)   \rReceiving objects:  34% (37/106)   \rReceiving objects:  35% (38/106)   \rReceiving objects:  36% (39/106)   \rReceiving objects:  37% (40/106)   \rReceiving objects:  38% (41/106)   \rReceiving objects:  39% (42/106)   \rReceiving objects:  40% (43/106)   \rReceiving objects:  41% (44/106)   \rReceiving objects:  42% (45/106)   \rReceiving objects:  43% (46/106)   \rReceiving objects:  44% (47/106)   \rReceiving objects:  45% (48/106)   \rReceiving objects:  46% (49/106)   \rReceiving objects:  47% (50/106)   \rReceiving objects:  48% (51/106)   \rReceiving objects:  49% (52/106)   \rReceiving objects:  50% (53/106)   \rReceiving objects:  51% (55/106)   \rReceiving objects:  52% (56/106)   \rReceiving objects:  53% (57/106)   \rReceiving objects:  54% (58/106)   \rReceiving objects:  55% (59/106)   \rReceiving objects:  56% (60/106)   \rReceiving objects:  57% (61/106)   \rReceiving objects:  58% (62/106)   \rReceiving objects:  59% (63/106)   \rReceiving objects:  60% (64/106)   \rReceiving objects:  61% (65/106)   \rReceiving objects:  62% (66/106)   \rReceiving objects:  63% (67/106)   \rReceiving objects:  64% (68/106)   \rReceiving objects:  65% (69/106)   \rReceiving objects:  66% (70/106)   \rReceiving objects:  67% (72/106)   \rReceiving objects:  68% (73/106)   \rReceiving objects:  69% (74/106)   \rReceiving objects:  70% (75/106)   \rReceiving objects:  71% (76/106)   \rReceiving objects:  72% (77/106)   \rReceiving objects:  73% (78/106)   \rReceiving objects:  74% (79/106)   \rReceiving objects:  75% (80/106)   \rReceiving objects:  76% (81/106)   \rReceiving objects:  77% (82/106)   \rReceiving objects:  78% (83/106)   \rReceiving objects:  79% (84/106)   \rReceiving objects:  80% (85/106)   \rReceiving objects:  81% (86/106)   \rReceiving objects:  82% (87/106)   \rReceiving objects:  83% (88/106)   \rReceiving objects:  84% (90/106)   \rReceiving objects:  85% (91/106)   \rReceiving objects:  86% (92/106)   \rReceiving objects:  87% (93/106)   \rReceiving objects:  88% (94/106)   \rReceiving objects:  89% (95/106)   \rReceiving objects:  90% (96/106)   \rReceiving objects:  91% (97/106)   \rReceiving objects:  92% (98/106)   \rReceiving objects:  93% (99/106)   \rReceiving objects:  94% (100/106)   \rReceiving objects:  95% (101/106)   \rReceiving objects:  96% (102/106)   \rReceiving objects:  97% (103/106)   \rReceiving objects:  98% (104/106)   \rReceiving objects:  99% (105/106)   \rReceiving objects: 100% (106/106)   \rReceiving objects: 100% (106/106), 24.58 KiB | 12.29 MiB/s, done.\n",
            "Resolving deltas:   0% (0/44)   \rResolving deltas:   9% (4/44)   \rResolving deltas:  47% (21/44)   \rResolving deltas:  52% (23/44)   \rResolving deltas:  72% (32/44)   \rResolving deltas:  86% (38/44)   \rResolving deltas:  90% (40/44)   \rResolving deltas: 100% (44/44)   \rResolving deltas: 100% (44/44), done.\n"
          ],
          "name": "stdout"
        }
      ]
    },
    {
      "cell_type": "code",
      "metadata": {
        "id": "yS5uM1WVOCz8",
        "colab_type": "code",
        "colab": {}
      },
      "source": [
        "import sys\n",
        "sys.path.append('/content/cnn_crf_nertagger')"
      ],
      "execution_count": 0,
      "outputs": []
    },
    {
      "cell_type": "code",
      "metadata": {
        "ExecuteTime": {
          "end_time": "2019-10-29T19:49:34.549739Z",
          "start_time": "2019-10-29T19:49:32.179692Z"
        },
        "id": "ol61j2fHgFsh",
        "colab_type": "code",
        "colab": {}
      },
      "source": [
        "%load_ext autoreload\n",
        "%autoreload 2\n",
        "\n",
        "import spacy\n",
        "import warnings\n",
        "warnings.filterwarnings('ignore')\n",
        "from sklearn.metrics import classification_report\n",
        "import numpy as np\n",
        "from torch.nn import functional as F\n",
        "from torch.utils.data import TensorDataset\n",
        "from allennlp.data.dataset_readers.conll2003 import Conll2003DatasetReader\n",
        "from allennlp.common.util import ensure_list\n",
        "from torch import nn\n",
        "from torch.nn import functional as F\n",
        "from torch.utils.data import TensorDataset\n",
        "from pdb import set_trace\n",
        "from gc import collect\n",
        "import wget\n",
        "import cnn_crf_nertagger\n",
        "from cnn_crf_nertagger.modules.modules import NERTaggerModel, NERTagger\n",
        "from cnn_crf_nertagger.utils.pipeline import train_eval_loop, predict_with_model\n",
        "from cnn_crf_nertagger.utils.prepare import tag_corpus_to_tensor, tokenize_corpus\n",
        "from os import path, listdir\n",
        "\n",
        "\n",
        "\n",
        "# torch.backends.cudnn.deterministic=False "
      ],
      "execution_count": 0,
      "outputs": []
    },
    {
      "cell_type": "markdown",
      "metadata": {
        "id": "inP4QwcDgFs3",
        "colab_type": "text"
      },
      "source": [
        "## Загрузка корпусов"
      ]
    },
    {
      "cell_type": "code",
      "metadata": {
        "id": "7HUaGBS4nD1g",
        "colab_type": "code",
        "colab": {}
      },
      "source": [
        "!rm /content/cnn_crf_nertagger/data/*\n"
      ],
      "execution_count": 0,
      "outputs": []
    },
    {
      "cell_type": "code",
      "metadata": {
        "ExecuteTime": {
          "end_time": "2019-10-29T19:49:56.525561Z",
          "start_time": "2019-10-29T19:49:37.315213Z"
        },
        "id": "uo0ZTJ1FgFti",
        "colab_type": "code",
        "colab": {}
      },
      "source": [
        "path_data = '/content/cnn_crf_nertagger/data/'\n",
        "path_train = '/content/cnn_crf_nertagger/data/eng.train'\n",
        "path_valid = '/content/cnn_crf_nertagger/data/eng.testa'\n",
        "path_test = '/content/cnn_crf_nertagger/data/eng.testb'\n",
        "\n",
        "dataset_urls = {\n",
        "    'eng.testa': 'https://raw.githubusercontent.com/synalp/NER/master/corpus/CoNLL-2003/eng.testa',\n",
        "    'eng.testb': 'https://raw.githubusercontent.com/synalp/NER/master/corpus/CoNLL-2003/eng.testb',\n",
        "    'eng.train': 'https://raw.githubusercontent.com/synalp/NER/master/corpus/CoNLL-2003/eng.train'}\n",
        "for file_name in dataset_urls:\n",
        "    wget.download(dataset_urls[file_name], path.join(path_data, file_name))"
      ],
      "execution_count": 0,
      "outputs": []
    },
    {
      "cell_type": "code",
      "metadata": {
        "id": "r6AABrk05iiC",
        "colab_type": "code",
        "colab": {
          "base_uri": "https://localhost:8080/",
          "height": 100
        },
        "outputId": "fbcbd9ca-b2e3-46e9-cf66-c8ce4712c8dc"
      },
      "source": [
        "%%time\n",
        "conll_reader = Conll2003DatasetReader()\n",
        "train_conll = ensure_list(conll_reader.read(path_train))\n",
        "valid_conll = ensure_list(conll_reader.read(path_valid))\n",
        "test_conll = ensure_list(conll_reader.read(path_test))"
      ],
      "execution_count": 8,
      "outputs": [
        {
          "output_type": "stream",
          "text": [
            "14041it [00:01, 11745.55it/s]\n",
            "3250it [00:00, 8785.82it/s]\n",
            "3453it [00:00, 21923.31it/s]"
          ],
          "name": "stderr"
        },
        {
          "output_type": "stream",
          "text": [
            "CPU times: user 1.65 s, sys: 70.5 ms, total: 1.72 s\n",
            "Wall time: 1.73 s\n"
          ],
          "name": "stdout"
        },
        {
          "output_type": "stream",
          "text": [
            "\n"
          ],
          "name": "stderr"
        }
      ]
    },
    {
      "cell_type": "code",
      "metadata": {
        "id": "WCYr630b8O5w",
        "colab_type": "code",
        "colab": {
          "base_uri": "https://localhost:8080/",
          "height": 33
        },
        "outputId": "a4872f5c-881c-4f64-b67a-6e62923bf1be"
      },
      "source": [
        "all_conll = train_conll + valid_conll + test_conll\n",
        "len(all_conll), len(train_conll), len(valid_conll), len(test_conll)"
      ],
      "execution_count": 9,
      "outputs": [
        {
          "output_type": "execute_result",
          "data": {
            "text/plain": [
              "(20744, 14041, 3250, 3453)"
            ]
          },
          "metadata": {
            "tags": []
          },
          "execution_count": 9
        }
      ]
    },
    {
      "cell_type": "code",
      "metadata": {
        "id": "662ybzBM8hxE",
        "colab_type": "code",
        "colab": {}
      },
      "source": [
        ""
      ],
      "execution_count": 0,
      "outputs": []
    },
    {
      "cell_type": "code",
      "metadata": {
        "id": "joAECv5_8htA",
        "colab_type": "code",
        "colab": {
          "base_uri": "https://localhost:8080/",
          "height": 33
        },
        "outputId": "d97564f6-14d1-4785-ad03-7824920bd08e"
      },
      "source": [
        "tags = set()\n",
        "tokens = set()\n",
        "\n",
        "max_sent_len = 0\n",
        "for instance in all_conll[: ]:\n",
        "    if len(instance['tokens']) >  max_sent_len:\n",
        "        max_sent_len = len(instance['tokens'])\n",
        "    tags.update(instance['tags'])\n",
        "    tokens.update(instance['tokens'])\n",
        "    \n",
        "max_sent_len"
      ],
      "execution_count": 10,
      "outputs": [
        {
          "output_type": "execute_result",
          "data": {
            "text/plain": [
              "124"
            ]
          },
          "metadata": {
            "tags": []
          },
          "execution_count": 10
        }
      ]
    },
    {
      "cell_type": "code",
      "metadata": {
        "id": "SaDuu3t_8hqd",
        "colab_type": "code",
        "colab": {
          "base_uri": "https://localhost:8080/",
          "height": 33
        },
        "outputId": "e0e333db-130e-4a7b-b5de-0eef32fc27e4"
      },
      "source": [
        "max_token_len = max([len(token.text) for token in tokens])\n",
        "max_token_len"
      ],
      "execution_count": 11,
      "outputs": [
        {
          "output_type": "execute_result",
          "data": {
            "text/plain": [
              "61"
            ]
          },
          "metadata": {
            "tags": []
          },
          "execution_count": 11
        }
      ]
    },
    {
      "cell_type": "code",
      "metadata": {
        "id": "nw8rY17i8hnK",
        "colab_type": "code",
        "colab": {
          "base_uri": "https://localhost:8080/",
          "height": 33
        },
        "outputId": "105d7fad-0bc6-434c-fa24-9ddc6bee9cc3"
      },
      "source": [
        "chars = set()\n",
        "for token in tokens:\n",
        "    chars.update(token.text)\n",
        "    \n",
        "len(chars)"
      ],
      "execution_count": 12,
      "outputs": [
        {
          "output_type": "execute_result",
          "data": {
            "text/plain": [
              "85"
            ]
          },
          "metadata": {
            "tags": []
          },
          "execution_count": 12
        }
      ]
    },
    {
      "cell_type": "code",
      "metadata": {
        "ExecuteTime": {
          "end_time": "2019-10-29T19:49:58.524125Z",
          "start_time": "2019-10-29T19:49:58.125577Z"
        },
        "id": "WzDDott3gFul",
        "colab_type": "code",
        "colab": {}
      },
      "source": [
        "tag2id = {tag: num for num, tag in enumerate(['<NOTAG>'] + list(tags))}\n",
        "char2id = {char: num+1 for num, char in enumerate(chars)}\n",
        "id2char = {item[1]: item[0] for item in char2id.items()}"
      ],
      "execution_count": 0,
      "outputs": []
    },
    {
      "cell_type": "code",
      "metadata": {
        "id": "GO0uquKu87yj",
        "colab_type": "code",
        "colab": {
          "base_uri": "https://localhost:8080/",
          "height": 100
        },
        "outputId": "f346231a-3024-4ba3-b8fe-751e7016c661"
      },
      "source": [
        "%%time\n",
        "\n",
        "train_inputs, train_targets = tag_corpus_to_tensor(train_conll, char2id, tag2id, max_sent_len, max_token_len)\n",
        "valid_inputs, valid_targets = tag_corpus_to_tensor(valid_conll, char2id, tag2id, max_sent_len, max_token_len)\n",
        "test_inputs, test_targets = tag_corpus_to_tensor(test_conll, char2id, tag2id, max_sent_len, max_token_len)"
      ],
      "execution_count": 14,
      "outputs": [
        {
          "output_type": "stream",
          "text": [
            "100%|██████████| 14041/14041 [00:08<00:00, 1689.35it/s]\n",
            "100%|██████████| 3250/3250 [00:02<00:00, 1568.89it/s]\n",
            "100%|██████████| 3453/3453 [00:01<00:00, 1842.29it/s]"
          ],
          "name": "stderr"
        },
        {
          "output_type": "stream",
          "text": [
            "CPU times: user 12.3 s, sys: 568 ms, total: 12.8 s\n",
            "Wall time: 12.8 s\n"
          ],
          "name": "stdout"
        },
        {
          "output_type": "stream",
          "text": [
            "\n"
          ],
          "name": "stderr"
        }
      ]
    },
    {
      "cell_type": "code",
      "metadata": {
        "ExecuteTime": {
          "end_time": "2019-10-29T19:49:58.752672Z",
          "start_time": "2019-10-29T19:49:58.526431Z"
        },
        "id": "K_03GuyhgFur",
        "colab_type": "code",
        "colab": {}
      },
      "source": [
        "train_dataset = TensorDataset(train_inputs, train_targets)\n",
        "valid_dataset = TensorDataset(valid_inputs, valid_targets)\n",
        "test_dataset = TensorDataset(test_inputs, test_targets)"
      ],
      "execution_count": 0,
      "outputs": []
    },
    {
      "cell_type": "code",
      "metadata": {
        "id": "U5k4Z4b6craL",
        "colab_type": "code",
        "colab": {}
      },
      "source": [
        "models_path = '/content/cnn_crf_nertagger/models/best_model.pth'"
      ],
      "execution_count": 0,
      "outputs": []
    },
    {
      "cell_type": "code",
      "metadata": {
        "id": "DfRjCwqZu4BW",
        "colab_type": "code",
        "colab": {
          "base_uri": "https://localhost:8080/",
          "height": 33
        },
        "outputId": "5dc318e0-da7e-4545-d0b7-6b584da77581"
      },
      "source": [
        "try:\n",
        "    del model    \n",
        "    collect()\n",
        "except:\n",
        "    print('no model')\n",
        "finally:\n",
        "    torch.cuda.empty_cache()\n"
      ],
      "execution_count": 17,
      "outputs": [
        {
          "output_type": "stream",
          "text": [
            "no model\n"
          ],
          "name": "stdout"
        }
      ]
    },
    {
      "cell_type": "code",
      "metadata": {
        "ExecuteTime": {
          "end_time": "2019-10-29T19:47:48.326925Z",
          "start_time": "2019-10-29T19:46:50.310Z"
        },
        "id": "jj9cwrRBgFwR",
        "colab_type": "code",
        "colab": {
          "base_uri": "https://localhost:8080/",
          "height": 33
        },
        "outputId": "6f8eda0c-52d7-40c9-c8cc-e936c8baca41"
      },
      "source": [
        "torch.cuda.empty_cache()\n",
        "model = NERTaggerModel(len(char2id), len(tag2id), tag2id, embedding_size=32,\n",
        "                                              single_backbone_kwargs=dict(layers_n=3, kernel_size=3, dropout=0.2, dilation=[1,1,1]),\n",
        "                                              context_backbone_kwargs=dict(layers_n=5, kernel_size=3, dropout=0.2, dilation=[1, 1, 2, 3, 1]))\n",
        "print('Количество параметров', sum(np.product(t.shape) for t in model.parameters()))"
      ],
      "execution_count": 18,
      "outputs": [
        {
          "output_type": "stream",
          "text": [
            "Количество параметров 28069\n"
          ],
          "name": "stdout"
        }
      ]
    },
    {
      "cell_type": "code",
      "metadata": {
        "id": "luP8K58IIlw8",
        "colab_type": "code",
        "colab": {}
      },
      "source": [
        "# try:\n",
        "#     model.load_state_dict(torch.load(models_path))\n",
        "# except:\n",
        "#     print('no model')"
      ],
      "execution_count": 0,
      "outputs": []
    },
    {
      "cell_type": "code",
      "metadata": {
        "ExecuteTime": {
          "end_time": "2019-10-29T19:47:48.327888Z",
          "start_time": "2019-10-29T19:46:50.737Z"
        },
        "scrolled": false,
        "id": "4aa02MY9gFwZ",
        "colab_type": "code",
        "colab": {
          "base_uri": "https://localhost:8080/",
          "height": 1000
        },
        "outputId": "cb191ff7-fdee-44d0-c93a-7fd2d232f268"
      },
      "source": [
        "(best_val_loss,\n",
        " best_model) = train_eval_loop(model,\n",
        "                               train_dataset,\n",
        "                               valid_dataset,\n",
        "                               lr=2.5e-2,\n",
        "                               epoch_n=200,\n",
        "                               batch_size=256,\n",
        "                               device=device,\n",
        "                               early_stopping_patience=8,\n",
        "                               l2_reg_alpha = 1e-6,\n",
        "                               max_batches_per_epoch_train=100,\n",
        "                               max_batches_per_epoch_val=250,\n",
        "                               lr_scheduler_ctor=lambda optim: torch.optim.lr_scheduler.ReduceLROnPlateau(\n",
        "                                                                                     optim, patience=3,\n",
        "                                                                                     factor=0.2,\n",
        "                                                                                     threshold=1e-4,\n",
        "                                                                                     verbose=True),\n",
        "                               verbose_batch=False)\n",
        " \n",
        "torch.save(best_model.state_dict(), models_path)"
      ],
      "execution_count": 20,
      "outputs": [
        {
          "output_type": "stream",
          "text": [
            "Эпоха 0\n",
            "Эпоха: 55 итераций, 15.68 сек\n",
            "Среднее значение функции потерь на обучении 13.690856118635697\n",
            "Среднее значение функции потерь на валидации 5.635078026698186\n",
            "Новая лучшая модель!\n",
            "\n",
            "Эпоха 1\n",
            "Эпоха: 55 итераций, 15.61 сек\n",
            "Среднее значение функции потерь на обучении 4.116903274709528\n",
            "Среднее значение функции потерь на валидации 3.1206105855795054\n",
            "Новая лучшая модель!\n",
            "\n",
            "Эпоха 2\n",
            "Эпоха: 55 итераций, 15.62 сек\n",
            "Среднее значение функции потерь на обучении 2.949314407868819\n",
            "Среднее значение функции потерь на валидации 2.493960609802833\n",
            "Новая лучшая модель!\n",
            "\n",
            "Эпоха 3\n",
            "Эпоха: 55 итераций, 15.58 сек\n",
            "Среднее значение функции потерь на обучении 2.522727528485385\n",
            "Среднее значение функции потерь на валидации 2.2361261936334462\n",
            "Новая лучшая модель!\n",
            "\n",
            "Эпоха 4\n",
            "Эпоха: 55 итераций, 15.57 сек\n",
            "Среднее значение функции потерь на обучении 2.2990297707644376\n",
            "Среднее значение функции потерь на валидации 2.046815743813148\n",
            "Новая лучшая модель!\n",
            "\n",
            "Эпоха 5\n",
            "Эпоха: 55 итераций, 15.46 сек\n",
            "Среднее значение функции потерь на обучении 2.107539562745528\n",
            "Среднее значение функции потерь на валидации 1.8632211593481212\n",
            "Новая лучшая модель!\n",
            "\n",
            "Эпоха 6\n",
            "Эпоха: 55 итераций, 15.54 сек\n",
            "Среднее значение функции потерь на обучении 1.9611508824608543\n",
            "Среднее значение функции потерь на валидации 1.8497618345113902\n",
            "Новая лучшая модель!\n",
            "\n",
            "Эпоха 7\n",
            "Эпоха: 55 итераций, 15.44 сек\n",
            "Среднее значение функции потерь на обучении 1.8352444193579933\n",
            "Среднее значение функции потерь на валидации 1.704363043491657\n",
            "Новая лучшая модель!\n",
            "\n",
            "Эпоха 8\n",
            "Эпоха: 55 итераций, 15.38 сек\n",
            "Среднее значение функции потерь на обучении 1.7645821528001264\n",
            "Среднее значение функции потерь на валидации 1.6556480205976045\n",
            "Новая лучшая модель!\n",
            "\n",
            "Эпоха 9\n",
            "Эпоха: 55 итераций, 15.34 сек\n",
            "Среднее значение функции потерь на обучении 1.7052386435595426\n",
            "Среднее значение функции потерь на валидации 1.6219985026579637\n",
            "Новая лучшая модель!\n",
            "\n",
            "Эпоха 10\n",
            "Эпоха: 55 итераций, 15.31 сек\n",
            "Среднее значение функции потерь на обучении 1.655811223116788\n",
            "Среднее значение функции потерь на валидации 1.5789207357626696\n",
            "Новая лучшая модель!\n",
            "\n",
            "Эпоха 11\n",
            "Эпоха: 55 итераций, 15.27 сек\n",
            "Среднее значение функции потерь на обучении 1.615693094513633\n",
            "Среднее значение функции потерь на валидации 1.5516170079891498\n",
            "Новая лучшая модель!\n",
            "\n",
            "Эпоха 12\n",
            "Эпоха: 55 итераций, 15.47 сек\n",
            "Среднее значение функции потерь на обучении 1.576225436817516\n",
            "Среднее значение функции потерь на валидации 1.5334236805255597\n",
            "Новая лучшая модель!\n",
            "\n",
            "Эпоха 13\n",
            "Эпоха: 55 итераций, 15.27 сек\n",
            "Среднее значение функции потерь на обучении 1.52749625119296\n",
            "Среднее значение функции потерь на валидации 1.4640765281823964\n",
            "Новая лучшая модель!\n",
            "\n",
            "Эпоха 14\n",
            "Эпоха: 55 итераций, 15.20 сек\n",
            "Среднее значение функции потерь на обучении 1.481232593276284\n",
            "Среднее значение функции потерь на валидации 1.4354453591200023\n",
            "Новая лучшая модель!\n",
            "\n",
            "Эпоха 15\n",
            "Эпоха: 55 итераций, 15.22 сек\n",
            "Среднее значение функции потерь на обучении 1.4732398748397828\n",
            "Среднее значение функции потерь на валидации 1.4133002253679128\n",
            "Новая лучшая модель!\n",
            "\n",
            "Эпоха 16\n",
            "Эпоха: 55 итераций, 15.17 сек\n",
            "Среднее значение функции потерь на обучении 1.4366318074139681\n",
            "Среднее значение функции потерь на валидации 1.4221007365446825\n",
            "\n",
            "Эпоха 17\n",
            "Эпоха: 55 итераций, 15.16 сек\n",
            "Среднее значение функции потерь на обучении 1.4224702163176104\n",
            "Среднее значение функции потерь на валидации 1.4535814477847173\n",
            "\n",
            "Эпоха 18\n",
            "Эпоха: 55 итераций, 15.17 сек\n",
            "Среднее значение функции потерь на обучении 1.4025893904946067\n",
            "Среднее значение функции потерь на валидации 1.4136492013931274\n",
            "\n",
            "Эпоха 19\n",
            "Эпоха: 55 итераций, 15.14 сек\n",
            "Среднее значение функции потерь на обучении 1.3650806762955405\n",
            "Среднее значение функции потерь на валидации 1.3864645866247325\n",
            "Новая лучшая модель!\n",
            "\n",
            "Эпоха 20\n",
            "Эпоха: 55 итераций, 15.15 сек\n",
            "Среднее значение функции потерь на обучении 1.362244059822776\n",
            "Среднее значение функции потерь на валидации 1.37260829943877\n",
            "Новая лучшая модель!\n",
            "\n",
            "Эпоха 21\n",
            "Эпоха: 55 итераций, 15.16 сек\n",
            "Среднее значение функции потерь на обучении 1.3351630655201998\n",
            "Среднее значение функции потерь на валидации 1.3553904065719018\n",
            "Новая лучшая модель!\n",
            "\n",
            "Эпоха 22\n",
            "Эпоха: 55 итераций, 15.17 сек\n",
            "Среднее значение функции потерь на обучении 1.3152532122351908\n",
            "Среднее значение функции потерь на валидации 1.3521307431734526\n",
            "Новая лучшая модель!\n",
            "\n",
            "Эпоха 23\n",
            "Эпоха: 55 итераций, 15.28 сек\n",
            "Среднее значение функции потерь на обучении 1.3235564903779464\n",
            "Среднее значение функции потерь на валидации 1.3533028639279878\n",
            "\n",
            "Эпоха 24\n",
            "Эпоха: 55 итераций, 15.13 сек\n",
            "Среднее значение функции потерь на обучении 1.326852974024686\n",
            "Среднее значение функции потерь на валидации 1.3455769694768465\n",
            "Новая лучшая модель!\n",
            "\n",
            "Эпоха 25\n",
            "Эпоха: 55 итераций, 15.10 сек\n",
            "Среднее значение функции потерь на обучении 1.2972925587133928\n",
            "Среднее значение функции потерь на валидации 1.3894974268399751\n",
            "\n",
            "Эпоха 26\n",
            "Эпоха: 55 итераций, 15.15 сек\n",
            "Среднее значение функции потерь на обучении 1.307983766902577\n",
            "Среднее значение функции потерь на валидации 1.3165208834868212\n",
            "Новая лучшая модель!\n",
            "\n",
            "Эпоха 27\n",
            "Эпоха: 55 итераций, 15.12 сек\n",
            "Среднее значение функции потерь на обучении 1.2713226448405872\n",
            "Среднее значение функции потерь на валидации 1.4208680803959186\n",
            "\n",
            "Эпоха 28\n",
            "Эпоха: 55 итераций, 15.17 сек\n",
            "Среднее значение функции потерь на обучении 1.276287399638783\n",
            "Среднее значение функции потерь на валидации 1.3445630440345178\n",
            "\n",
            "Эпоха 29\n",
            "Эпоха: 55 итераций, 15.10 сек\n",
            "Среднее значение функции потерь на обучении 1.2885729269547896\n",
            "Среднее значение функции потерь на валидации 1.3552582951692433\n",
            "\n",
            "Эпоха 30\n",
            "Эпоха: 55 итераций, 15.10 сек\n",
            "Среднее значение функции потерь на обучении 1.2612326329404657\n",
            "Среднее значение функции потерь на валидации 1.3644664470966046\n",
            "Epoch    31: reducing learning rate of group 0 to 5.0000e-03.\n",
            "\n",
            "Эпоха 31\n",
            "Эпоха: 55 итераций, 15.08 сек\n",
            "Среднее значение функции потерь на обучении 1.1226045987822793\n",
            "Среднее значение функции потерь на валидации 1.229432844198667\n",
            "Новая лучшая модель!\n",
            "\n",
            "Эпоха 32\n",
            "Эпоха: 55 итераций, 15.07 сек\n",
            "Среднее значение функции потерь на обучении 1.0388886256651444\n",
            "Среднее значение функции потерь на валидации 1.2082864000247076\n",
            "Новая лучшая модель!\n",
            "\n",
            "Эпоха 33\n",
            "Эпоха: 55 итераций, 15.14 сек\n",
            "Среднее значение функции потерь на обучении 1.0348087148232894\n",
            "Среднее значение функции потерь на валидации 1.1951943635940552\n",
            "Новая лучшая модель!\n",
            "\n",
            "Эпоха 34\n",
            "Эпоха: 55 итераций, 15.10 сек\n",
            "Среднее значение функции потерь на обучении 1.010258067737926\n",
            "Среднее значение функции потерь на валидации 1.1872324164097126\n",
            "Новая лучшая модель!\n",
            "\n",
            "Эпоха 35\n",
            "Эпоха: 55 итераций, 15.06 сек\n",
            "Среднее значение функции потерь на обучении 1.004053906960921\n",
            "Среднее значение функции потерь на валидации 1.1914011240005493\n",
            "\n",
            "Эпоха 36\n",
            "Эпоха: 55 итераций, 15.07 сек\n",
            "Среднее значение функции потерь на обучении 0.9942288225347345\n",
            "Среднее значение функции потерь на валидации 1.1870544094305773\n",
            "Новая лучшая модель!\n",
            "\n",
            "Эпоха 37\n",
            "Эпоха: 55 итераций, 15.07 сек\n",
            "Среднее значение функции потерь на обучении 0.9757501873103055\n",
            "Среднее значение функции потерь на валидации 1.2128022083869348\n",
            "\n",
            "Эпоха 38\n",
            "Эпоха: 55 итераций, 15.10 сек\n",
            "Среднее значение функции потерь на обучении 0.9778733004223217\n",
            "Среднее значение функции потерь на валидации 1.1805224281090956\n",
            "Новая лучшая модель!\n",
            "\n",
            "Эпоха 39\n",
            "Эпоха: 55 итераций, 15.13 сек\n",
            "Среднее значение функции потерь на обучении 0.96578885641965\n",
            "Среднее значение функции потерь на валидации 1.1855913813297565\n",
            "\n",
            "Эпоха 40\n",
            "Эпоха: 55 итераций, 15.11 сек\n",
            "Среднее значение функции потерь на обучении 0.951071758703752\n",
            "Среднее значение функции потерь на валидации 1.1742158119495099\n",
            "Новая лучшая модель!\n",
            "\n",
            "Эпоха 41\n",
            "Эпоха: 55 итераций, 15.08 сек\n",
            "Среднее значение функции потерь на обучении 0.9592880368232727\n",
            "Среднее значение функции потерь на валидации 1.1549612283706665\n",
            "Новая лучшая модель!\n",
            "\n",
            "Эпоха 42\n",
            "Эпоха: 55 итераций, 15.18 сек\n",
            "Среднее значение функции потерь на обучении 0.9551339723847129\n",
            "Среднее значение функции потерь на валидации 1.1617228893133311\n",
            "\n",
            "Эпоха 43\n",
            "Эпоха: 55 итераций, 15.12 сек\n",
            "Среднее значение функции потерь на обучении 0.9573612776669589\n",
            "Среднее значение функции потерь на валидации 1.1681892092411335\n",
            "\n",
            "Эпоха 44\n",
            "Эпоха: 55 итераций, 15.12 сек\n",
            "Среднее значение функции потерь на обучении 0.9589393095536666\n",
            "Среднее значение функции потерь на валидации 1.1588064202895532\n",
            "\n",
            "Эпоха 45\n",
            "Эпоха: 55 итераций, 15.26 сек\n",
            "Среднее значение функции потерь на обучении 0.9537039225751703\n",
            "Среднее значение функции потерь на валидации 1.1515585734294012\n",
            "Новая лучшая модель!\n",
            "\n",
            "Эпоха 46\n",
            "Эпоха: 55 итераций, 15.12 сек\n",
            "Среднее значение функции потерь на обучении 0.938438280062242\n",
            "Среднее значение функции потерь на валидации 1.1569100297414339\n",
            "\n",
            "Эпоха 47\n",
            "Эпоха: 55 итераций, 15.15 сек\n",
            "Среднее значение функции потерь на обучении 0.9302473415027965\n",
            "Среднее значение функции потерь на валидации 1.1555182612859285\n",
            "\n",
            "Эпоха 48\n",
            "Эпоха: 55 итераций, 15.17 сек\n",
            "Среднее значение функции потерь на обучении 0.9233831990848888\n",
            "Среднее значение функции потерь на валидации 1.1695941640780523\n",
            "\n",
            "Эпоха 49\n",
            "Эпоха: 55 итераций, 15.11 сек\n",
            "Среднее значение функции потерь на обучении 0.9268564224243164\n",
            "Среднее значение функции потерь на валидации 1.1504264840712914\n",
            "Новая лучшая модель!\n",
            "\n",
            "Эпоха 50\n",
            "Эпоха: 55 итераций, 15.08 сек\n",
            "Среднее значение функции потерь на обучении 0.9250593185424805\n",
            "Среднее значение функции потерь на валидации 1.136612594127655\n",
            "Новая лучшая модель!\n",
            "\n",
            "Эпоха 51\n",
            "Эпоха: 55 итераций, 15.11 сек\n",
            "Среднее значение функции потерь на обучении 0.9154678756540472\n",
            "Среднее значение функции потерь на валидации 1.1428995728492737\n",
            "\n",
            "Эпоха 52\n",
            "Эпоха: 55 итераций, 15.10 сек\n",
            "Среднее значение функции потерь на обучении 0.9251387325200168\n",
            "Среднее значение функции потерь на валидации 1.1656923844264104\n",
            "\n",
            "Эпоха 53\n",
            "Эпоха: 55 итераций, 15.14 сек\n",
            "Среднее значение функции потерь на обучении 0.9208293069492687\n",
            "Среднее значение функции потерь на валидации 1.154377098266895\n",
            "\n",
            "Эпоха 54\n",
            "Эпоха: 55 итераций, 15.11 сек\n",
            "Среднее значение функции потерь на обучении 0.9159081881696528\n",
            "Среднее значение функции потерь на валидации 1.152504930129418\n",
            "Epoch    55: reducing learning rate of group 0 to 1.0000e-03.\n",
            "\n",
            "Эпоха 55\n",
            "Эпоха: 55 итераций, 15.08 сек\n",
            "Среднее значение функции потерь на обучении 0.8906130660663951\n",
            "Среднее значение функции потерь на валидации 1.1195287842016954\n",
            "Новая лучшая модель!\n",
            "\n",
            "Эпоха 56\n",
            "Эпоха: 55 итераций, 15.10 сек\n",
            "Среднее значение функции потерь на обучении 0.851339899409901\n",
            "Среднее значение функции потерь на валидации 1.1135643904025738\n",
            "Новая лучшая модель!\n",
            "\n",
            "Эпоха 57\n",
            "Эпоха: 55 итераций, 15.13 сек\n",
            "Среднее значение функции потерь на обучении 0.8539701732722196\n",
            "Среднее значение функции потерь на валидации 1.1044350816653326\n",
            "Новая лучшая модель!\n",
            "\n",
            "Эпоха 58\n",
            "Эпоха: 55 итераций, 15.15 сек\n",
            "Среднее значение функции потерь на обучении 0.8544177976521579\n",
            "Среднее значение функции потерь на валидации 1.1030654494579022\n",
            "Новая лучшая модель!\n",
            "\n",
            "Эпоха 59\n",
            "Эпоха: 55 итераций, 15.29 сек\n",
            "Среднее значение функции потерь на обучении 0.8366185979409652\n",
            "Среднее значение функции потерь на валидации 1.103942600580362\n",
            "\n",
            "Эпоха 60\n",
            "Эпоха: 55 итераций, 15.06 сек\n",
            "Среднее значение функции потерь на обучении 0.8461407618089156\n",
            "Среднее значение функции потерь на валидации 1.1055759970958416\n",
            "\n",
            "Эпоха 61\n",
            "Эпоха: 55 итераций, 15.10 сек\n",
            "Среднее значение функции потерь на обучении 0.8308114203539761\n",
            "Среднее значение функции потерь на валидации 1.0988508875553424\n",
            "Новая лучшая модель!\n",
            "\n",
            "Эпоха 62\n",
            "Эпоха: 55 итераций, 15.06 сек\n",
            "Среднее значение функции потерь на обучении 0.8276935935020446\n",
            "Среднее значение функции потерь на валидации 1.1020318086330707\n",
            "\n",
            "Эпоха 63\n",
            "Эпоха: 55 итераций, 15.05 сек\n",
            "Среднее значение функции потерь на обучении 0.8373084079135548\n",
            "Среднее значение функции потерь на валидации 1.1005349709437444\n",
            "\n",
            "Эпоха 64\n",
            "Эпоха: 55 итераций, 15.04 сек\n",
            "Среднее значение функции потерь на обучении 0.829477660222487\n",
            "Среднее значение функции потерь на валидации 1.1063569738314702\n",
            "\n",
            "Эпоха 65\n",
            "Эпоха: 55 итераций, 14.98 сек\n",
            "Среднее значение функции потерь на обучении 0.825612076846036\n",
            "Среднее значение функции потерь на валидации 1.0999343074285066\n",
            "Epoch    66: reducing learning rate of group 0 to 2.0000e-04.\n",
            "\n",
            "Эпоха 66\n",
            "Эпоха: 55 итераций, 15.01 сек\n",
            "Среднее значение функции потерь на обучении 0.8198368592695756\n",
            "Среднее значение функции потерь на валидации 1.098542869091034\n",
            "Новая лучшая модель!\n",
            "\n",
            "Эпоха 67\n",
            "Эпоха: 55 итераций, 14.97 сек\n",
            "Среднее значение функции потерь на обучении 0.8165052533149719\n",
            "Среднее значение функции потерь на валидации 1.0992796466900752\n",
            "\n",
            "Эпоха 68\n",
            "Эпоха: 55 итераций, 15.04 сек\n",
            "Среднее значение функции потерь на обучении 0.8062114227901805\n",
            "Среднее значение функции потерь на валидации 1.0977172897412226\n",
            "Новая лучшая модель!\n",
            "\n",
            "Эпоха 69\n",
            "Эпоха: 55 итераций, 15.01 сек\n",
            "Среднее значение функции потерь на обучении 0.8205274354327808\n",
            "Среднее значение функции потерь на валидации 1.0961230855721693\n",
            "Новая лучшая модель!\n",
            "\n",
            "Эпоха 70\n",
            "Эпоха: 55 итераций, 15.05 сек\n",
            "Среднее значение функции потерь на обучении 0.817094297842546\n",
            "Среднее значение функции потерь на валидации 1.0963072776794434\n",
            "\n",
            "Эпоха 71\n",
            "Эпоха: 55 итераций, 15.01 сек\n",
            "Среднее значение функции потерь на обучении 0.813940966129303\n",
            "Среднее значение функции потерь на валидации 1.096002725454477\n",
            "Новая лучшая модель!\n",
            "\n",
            "Эпоха 72\n",
            "Эпоха: 55 итераций, 15.00 сек\n",
            "Среднее значение функции потерь на обучении 0.8163816863840276\n",
            "Среднее значение функции потерь на валидации 1.0951327039645269\n",
            "Новая лучшая модель!\n",
            "\n",
            "Эпоха 73\n",
            "Эпоха: 55 итераций, 15.02 сек\n",
            "Среднее значение функции потерь на обучении 0.8043533054265108\n",
            "Среднее значение функции потерь на валидации 1.0983961407954876\n",
            "\n",
            "Эпоха 74\n",
            "Досрочно остановлено пользователем\n"
          ],
          "name": "stdout"
        }
      ]
    },
    {
      "cell_type": "code",
      "metadata": {
        "ExecuteTime": {
          "end_time": "2019-08-29T13:56:16.564926Z",
          "start_time": "2019-08-29T13:56:16.544481Z"
        },
        "id": "j6_Z8S3SgFwn",
        "colab_type": "code",
        "colab": {
          "base_uri": "https://localhost:8080/",
          "height": 33
        },
        "outputId": "88c30685-a7e4-4802-8249-2f8944e9528c"
      },
      "source": [
        "\n",
        "model.load_state_dict(torch.load(models_path))"
      ],
      "execution_count": 31,
      "outputs": [
        {
          "output_type": "execute_result",
          "data": {
            "text/plain": [
              "<All keys matched successfully>"
            ]
          },
          "metadata": {
            "tags": []
          },
          "execution_count": 31
        }
      ]
    },
    {
      "cell_type": "markdown",
      "metadata": {
        "id": "9yBwoQnWypb5",
        "colab_type": "text"
      },
      "source": [
        "## Проверки"
      ]
    },
    {
      "cell_type": "code",
      "metadata": {
        "id": "rDx8tvIeyoe0",
        "colab_type": "code",
        "colab": {}
      },
      "source": [
        "id2tag = {item[1]: item[0] for item in tag2id.items()}\n",
        "UNIQUE_TAGS = [id2tag[i] for i in range(len(tag2id))]\n"
      ],
      "execution_count": 0,
      "outputs": []
    },
    {
      "cell_type": "markdown",
      "metadata": {
        "id": "vaq1J92ryPNx",
        "colab_type": "text"
      },
      "source": [
        "### Проверка - train"
      ]
    },
    {
      "cell_type": "code",
      "metadata": {
        "id": "3aNr47CYdSFa",
        "colab_type": "code",
        "colab": {
          "base_uri": "https://localhost:8080/",
          "height": 316
        },
        "outputId": "ebfc052f-cc56-422a-c2e5-d1e2650765d1"
      },
      "source": [
        "train_pred = predict_with_model(model, train_dataset)\n",
        "# train_loss = F.cross_entropy(torch.tensor(train_pred),\n",
        "                            #  torch.tensor(train_targets))\n",
        "# print('Среднее значение функции потерь на обучении', float(train_loss))\n",
        "\n",
        "print(classification_report(train_targets.view(-1), train_pred.reshape(-1), target_names=UNIQUE_TAGS))\n",
        "print()"
      ],
      "execution_count": 23,
      "outputs": [
        {
          "output_type": "stream",
          "text": [
            "100%|██████████| 439/438.78125 [00:14<00:00, 31.20it/s]\n"
          ],
          "name": "stderr"
        },
        {
          "output_type": "stream",
          "text": [
            "              precision    recall  f1-score   support\n",
            "\n",
            "     <NOTAG>       1.00      1.00      1.00   1537463\n",
            "      I-MISC       0.70      0.88      0.78      4556\n",
            "       I-ORG       0.72      0.92      0.81     10001\n",
            "           O       1.00      0.97      0.99    169578\n",
            "       I-PER       0.93      0.95      0.94     11128\n",
            "      B-MISC       1.00      0.14      0.24        37\n",
            "       B-ORG       0.00      0.00      0.00        24\n",
            "       B-LOC       0.00      0.00      0.00        11\n",
            "       I-LOC       0.90      0.91      0.91      8286\n",
            "\n",
            "    accuracy                           1.00   1741084\n",
            "   macro avg       0.69      0.64      0.63   1741084\n",
            "weighted avg       1.00      1.00      1.00   1741084\n",
            "\n",
            "\n"
          ],
          "name": "stdout"
        }
      ]
    },
    {
      "cell_type": "markdown",
      "metadata": {
        "id": "5p2jdVB-yUHQ",
        "colab_type": "text"
      },
      "source": [
        "### Проверка - valid"
      ]
    },
    {
      "cell_type": "code",
      "metadata": {
        "id": "qAh6GumkdR4G",
        "colab_type": "code",
        "colab": {
          "base_uri": "https://localhost:8080/",
          "height": 33
        },
        "outputId": "da3ff9da-ff57-43ad-8d95-87d88f64b06d"
      },
      "source": [
        "valid_pred = predict_with_model(model, valid_dataset)\n",
        "# valid_loss = F.cross_entropy(torch.tensor(valid_pred),\n",
        "#                             torch.tensor(valid_targets))\n",
        "# print('Среднее значение функции потерь на валидации', float(valid_loss))\n",
        "\n",
        "# print(classification_report(valid_targets.view(-1), valid_pred.reshape(-1), target_names=UNIQUE_TAGS))"
      ],
      "execution_count": 24,
      "outputs": [
        {
          "output_type": "stream",
          "text": [
            "100%|██████████| 102/101.5625 [00:03<00:00, 28.78it/s]\n"
          ],
          "name": "stderr"
        }
      ]
    },
    {
      "cell_type": "markdown",
      "metadata": {
        "id": "CtXo2-Ioybnx",
        "colab_type": "text"
      },
      "source": [
        "### Проверка - test"
      ]
    },
    {
      "cell_type": "code",
      "metadata": {
        "id": "pIC16ECm_58u",
        "colab_type": "code",
        "colab": {
          "base_uri": "https://localhost:8080/",
          "height": 300
        },
        "outputId": "138dc5f3-d258-4ee6-dc72-2d4fc7e0cc0b"
      },
      "source": [
        "test_pred = predict_with_model(model, test_dataset)\n",
        "# test_loss = F.cross_entropy(torch.tensor(test_pred),\n",
        "#                             torch.tensor(test_targets))\n",
        "# print('Среднее значение функции потерь на тесте', float(test_loss))\n",
        "print(classification_report(test_targets.view(-1), test_pred.reshape(-1), target_names=UNIQUE_TAGS))"
      ],
      "execution_count": 25,
      "outputs": [
        {
          "output_type": "stream",
          "text": [
            "100%|██████████| 108/107.90625 [00:03<00:00, 30.56it/s]\n"
          ],
          "name": "stderr"
        },
        {
          "output_type": "stream",
          "text": [
            "              precision    recall  f1-score   support\n",
            "\n",
            "     <NOTAG>       1.00      1.00      1.00    381737\n",
            "      I-MISC       0.53      0.77      0.62       909\n",
            "       I-ORG       0.60      0.80      0.68      2491\n",
            "           O       1.00      0.96      0.98     38323\n",
            "       I-PER       0.83      0.87      0.85      2773\n",
            "      B-MISC       0.00      0.00      0.00         9\n",
            "       B-ORG       0.00      0.00      0.00         5\n",
            "       B-LOC       0.00      0.00      0.00         6\n",
            "       I-LOC       0.80      0.81      0.81      1919\n",
            "\n",
            "    accuracy                           0.99    428172\n",
            "   macro avg       0.53      0.58      0.55    428172\n",
            "weighted avg       0.99      0.99      0.99    428172\n",
            "\n"
          ],
          "name": "stdout"
        }
      ]
    },
    {
      "cell_type": "markdown",
      "metadata": {
        "id": "8tZ3TbhngFxV",
        "colab_type": "text"
      },
      "source": [
        "## Применение теггера"
      ]
    },
    {
      "cell_type": "code",
      "metadata": {
        "id": "dBORSeRvdITg",
        "colab_type": "code",
        "colab": {}
      },
      "source": [
        "!python -m spacy download en_core_web_sm > /dev/null"
      ],
      "execution_count": 0,
      "outputs": []
    },
    {
      "cell_type": "code",
      "metadata": {
        "ExecuteTime": {
          "end_time": "2019-08-29T13:56:42.105418Z",
          "start_time": "2019-08-29T13:56:42.093744Z"
        },
        "id": "gM1646Q7gFxX",
        "colab_type": "code",
        "colab": {}
      },
      "source": [
        "\n",
        "ner_tagger = NERTagger(model, char2id, UNIQUE_TAGS, max_sent_len, max_token_len)"
      ],
      "execution_count": 0,
      "outputs": []
    },
    {
      "cell_type": "code",
      "metadata": {
        "id": "XnZHW0OKbcLO",
        "colab_type": "code",
        "colab": {}
      },
      "source": [
        "nlp = spacy.load('en_core_web_sm')\n"
      ],
      "execution_count": 0,
      "outputs": []
    },
    {
      "cell_type": "code",
      "metadata": {
        "ExecuteTime": {
          "end_time": "2019-08-29T13:56:42.125540Z",
          "start_time": "2019-08-29T13:56:42.106771Z"
        },
        "id": "JHOY3BpZgFxd",
        "colab_type": "code",
        "colab": {}
      },
      "source": [
        "test_sentences = [\n",
        "    'Mr Trump said Mr Linick no longer had his full confidence and that he would be removed in 30 days.',\n",
        "    'Mr Linick had begun investigating Secretary of State Mike Pompeo for suspected abuse of office, reports say.',\n",
        "    'Democrats say Mr Trump is retaliating against public servants who want to hold his administration to account.',\n",
        "    'Donald Trump, who is campaigning for re-election in November, has stepped up his attacks on China in recent weeks, blaming it for the spread of Covid-19.'\n",
        "]\n",
        "test_sentences_tokenized = tokenize_corpus(test_sentences)\n",
        "# test_sentences_tokenized = [[token.text for token in nlp.tokenizer(sent) ] for sent in test_sentences]"
      ],
      "execution_count": 0,
      "outputs": []
    },
    {
      "cell_type": "code",
      "metadata": {
        "ExecuteTime": {
          "end_time": "2019-08-29T13:56:42.168810Z",
          "start_time": "2019-08-29T13:56:42.149698Z"
        },
        "id": "vbozpJwYgFxs",
        "colab_type": "code",
        "colab": {
          "base_uri": "https://localhost:8080/",
          "height": 186
        },
        "outputId": "fb8a9883-96f6-4fe8-8a3d-941bd20aa939"
      },
      "source": [
        "for sent_tokens, sent_tags in zip(test_sentences_tokenized, ner_tagger(test_sentences)):\n",
        "    print()\n",
        "    assert len(sent_tokens) == len(sent_tags)\n",
        "    print(' '.join('{}-{}'.format(tok, tag) for tok, tag in zip(sent_tokens, sent_tags)))"
      ],
      "execution_count": 30,
      "outputs": [
        {
          "output_type": "stream",
          "text": [
            "1it [00:00, 116.36it/s]                  "
          ],
          "name": "stderr"
        },
        {
          "output_type": "stream",
          "text": [
            "\n",
            "Mr-I-ORG Trump-I-ORG said-O Mr-I-PER Linick-I-PER no-O longer-O had-O his-O full-O confidence-O and-O that-O he-O would-O be-O removed-O in-O 30-O days-O .-O\n",
            "\n",
            "Mr-I-ORG Linick-I-ORG had-O begun-O investigating-O Secretary-O of-O State-I-PER Mike-I-PER Pompeo-I-PER for-O suspected-O abuse-O of-O office-O ,-O reports-O say-O .-O\n",
            "\n",
            "Democrats-I-MISC say-O Mr-I-PER Trump-I-PER is-O retaliating-O against-O public-O servants-O who-O want-O to-O hold-O his-O administration-O to-O account-O .-O\n",
            "\n",
            "Donald-I-PER Trump-I-PER ,-O who-O is-O campaigning-O for-O re-O --O election-O in-O November-O ,-O has-O stepped-O up-O his-O attacks-O on-O China-I-LOC in-O recent-O weeks-O ,-O blaming-O it-O for-O the-O spread-O of-O Covid-19-I-MISC .-O\n"
          ],
          "name": "stdout"
        },
        {
          "output_type": "stream",
          "text": [
            "\n"
          ],
          "name": "stderr"
        }
      ]
    },
    {
      "cell_type": "code",
      "metadata": {
        "id": "TxHF5NAVFuvi",
        "colab_type": "code",
        "colab": {}
      },
      "source": [
        ""
      ],
      "execution_count": 0,
      "outputs": []
    }
  ]
}