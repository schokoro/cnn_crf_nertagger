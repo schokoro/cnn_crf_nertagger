{
  "nbformat": 4,
  "nbformat_minor": 0,
  "metadata": {
    "kernelspec": {
      "name": "python3",
      "display_name": "Python 3"
    },
    "language_info": {
      "codemirror_mode": {
        "name": "ipython",
        "version": 3
      },
      "file_extension": ".py",
      "mimetype": "text/x-python",
      "name": "python",
      "nbconvert_exporter": "python",
      "pygments_lexer": "ipython3",
      "version": "3.7.1"
    },
    "latex_envs": {
      "LaTeX_envs_menu_present": true,
      "autoclose": false,
      "autocomplete": true,
      "bibliofile": "biblio.bib",
      "cite_by": "apalike",
      "current_citInitial": 1,
      "eqLabelWithNumbers": true,
      "eqNumInitial": 1,
      "hotkeys": {
        "equation": "Ctrl-E",
        "itemize": "Ctrl-I"
      },
      "labels_anchors": false,
      "latex_user_defs": false,
      "report_style_numbering": false,
      "user_envs_cfg": false
    },
    "toc": {
      "base_numbering": 1,
      "nav_menu": {},
      "number_sections": true,
      "sideBar": true,
      "skip_h1_title": false,
      "title_cell": "Table of Contents",
      "title_sidebar": "Contents",
      "toc_cell": false,
      "toc_position": {},
      "toc_section_display": true,
      "toc_window_display": true
    },
    "colab": {
      "name": "NER_tagger.ipynb",
      "provenance": [],
      "collapsed_sections": [],
      "toc_visible": true,
      "include_colab_link": true
    },
    "accelerator": "GPU",
    "widgets": {
      "application/vnd.jupyter.widget-state+json": {
        "73917580855549738dfa5a46ab2a14a0": {
          "model_module": "@jupyter-widgets/controls",
          "model_name": "HBoxModel",
          "state": {
            "_view_name": "HBoxView",
            "_dom_classes": [],
            "_model_name": "HBoxModel",
            "_view_module": "@jupyter-widgets/controls",
            "_model_module_version": "1.5.0",
            "_view_count": null,
            "_view_module_version": "1.5.0",
            "box_style": "",
            "layout": "IPY_MODEL_7203819e9b734e2c87d687bd50ceec05",
            "_model_module": "@jupyter-widgets/controls",
            "children": [
              "IPY_MODEL_940cac660a2b45efa6da4a6f07942efd",
              "IPY_MODEL_f05bde13b45a4e7b91b793154a5d89d3"
            ]
          }
        },
        "7203819e9b734e2c87d687bd50ceec05": {
          "model_module": "@jupyter-widgets/base",
          "model_name": "LayoutModel",
          "state": {
            "_view_name": "LayoutView",
            "grid_template_rows": null,
            "right": null,
            "justify_content": null,
            "_view_module": "@jupyter-widgets/base",
            "overflow": null,
            "_model_module_version": "1.2.0",
            "_view_count": null,
            "flex_flow": null,
            "width": null,
            "min_width": null,
            "border": null,
            "align_items": null,
            "bottom": null,
            "_model_module": "@jupyter-widgets/base",
            "top": null,
            "grid_column": null,
            "overflow_y": null,
            "overflow_x": null,
            "grid_auto_flow": null,
            "grid_area": null,
            "grid_template_columns": null,
            "flex": null,
            "_model_name": "LayoutModel",
            "justify_items": null,
            "grid_row": null,
            "max_height": null,
            "align_content": null,
            "visibility": null,
            "align_self": null,
            "height": null,
            "min_height": null,
            "padding": null,
            "grid_auto_rows": null,
            "grid_gap": null,
            "max_width": null,
            "order": null,
            "_view_module_version": "1.2.0",
            "grid_template_areas": null,
            "object_position": null,
            "object_fit": null,
            "grid_auto_columns": null,
            "margin": null,
            "display": null,
            "left": null
          }
        },
        "940cac660a2b45efa6da4a6f07942efd": {
          "model_module": "@jupyter-widgets/controls",
          "model_name": "FloatProgressModel",
          "state": {
            "_view_name": "ProgressView",
            "style": "IPY_MODEL_8d3728957a564c4e840ddfacf14591a2",
            "_dom_classes": [],
            "description": "100%",
            "_model_name": "FloatProgressModel",
            "bar_style": "success",
            "max": 101,
            "_view_module": "@jupyter-widgets/controls",
            "_model_module_version": "1.5.0",
            "value": 101,
            "_view_count": null,
            "_view_module_version": "1.5.0",
            "orientation": "horizontal",
            "min": 0,
            "description_tooltip": null,
            "_model_module": "@jupyter-widgets/controls",
            "layout": "IPY_MODEL_6efc0fea61364768b4154162467c9e30"
          }
        },
        "f05bde13b45a4e7b91b793154a5d89d3": {
          "model_module": "@jupyter-widgets/controls",
          "model_name": "HTMLModel",
          "state": {
            "_view_name": "HTMLView",
            "style": "IPY_MODEL_f978a273949b4454814bf655ad4ad9d4",
            "_dom_classes": [],
            "description": "",
            "_model_name": "HTMLModel",
            "placeholder": "​",
            "_view_module": "@jupyter-widgets/controls",
            "_model_module_version": "1.5.0",
            "value": " 101/101 [00:24&lt;00:00,  4.07it/s]",
            "_view_count": null,
            "_view_module_version": "1.5.0",
            "description_tooltip": null,
            "_model_module": "@jupyter-widgets/controls",
            "layout": "IPY_MODEL_7c7206b763b84fa5ac1e9646ff930587"
          }
        },
        "8d3728957a564c4e840ddfacf14591a2": {
          "model_module": "@jupyter-widgets/controls",
          "model_name": "ProgressStyleModel",
          "state": {
            "_view_name": "StyleView",
            "_model_name": "ProgressStyleModel",
            "description_width": "initial",
            "_view_module": "@jupyter-widgets/base",
            "_model_module_version": "1.5.0",
            "_view_count": null,
            "_view_module_version": "1.2.0",
            "bar_color": null,
            "_model_module": "@jupyter-widgets/controls"
          }
        },
        "6efc0fea61364768b4154162467c9e30": {
          "model_module": "@jupyter-widgets/base",
          "model_name": "LayoutModel",
          "state": {
            "_view_name": "LayoutView",
            "grid_template_rows": null,
            "right": null,
            "justify_content": null,
            "_view_module": "@jupyter-widgets/base",
            "overflow": null,
            "_model_module_version": "1.2.0",
            "_view_count": null,
            "flex_flow": null,
            "width": null,
            "min_width": null,
            "border": null,
            "align_items": null,
            "bottom": null,
            "_model_module": "@jupyter-widgets/base",
            "top": null,
            "grid_column": null,
            "overflow_y": null,
            "overflow_x": null,
            "grid_auto_flow": null,
            "grid_area": null,
            "grid_template_columns": null,
            "flex": null,
            "_model_name": "LayoutModel",
            "justify_items": null,
            "grid_row": null,
            "max_height": null,
            "align_content": null,
            "visibility": null,
            "align_self": null,
            "height": null,
            "min_height": null,
            "padding": null,
            "grid_auto_rows": null,
            "grid_gap": null,
            "max_width": null,
            "order": null,
            "_view_module_version": "1.2.0",
            "grid_template_areas": null,
            "object_position": null,
            "object_fit": null,
            "grid_auto_columns": null,
            "margin": null,
            "display": null,
            "left": null
          }
        },
        "f978a273949b4454814bf655ad4ad9d4": {
          "model_module": "@jupyter-widgets/controls",
          "model_name": "DescriptionStyleModel",
          "state": {
            "_view_name": "StyleView",
            "_model_name": "DescriptionStyleModel",
            "description_width": "",
            "_view_module": "@jupyter-widgets/base",
            "_model_module_version": "1.5.0",
            "_view_count": null,
            "_view_module_version": "1.2.0",
            "_model_module": "@jupyter-widgets/controls"
          }
        },
        "7c7206b763b84fa5ac1e9646ff930587": {
          "model_module": "@jupyter-widgets/base",
          "model_name": "LayoutModel",
          "state": {
            "_view_name": "LayoutView",
            "grid_template_rows": null,
            "right": null,
            "justify_content": null,
            "_view_module": "@jupyter-widgets/base",
            "overflow": null,
            "_model_module_version": "1.2.0",
            "_view_count": null,
            "flex_flow": null,
            "width": null,
            "min_width": null,
            "border": null,
            "align_items": null,
            "bottom": null,
            "_model_module": "@jupyter-widgets/base",
            "top": null,
            "grid_column": null,
            "overflow_y": null,
            "overflow_x": null,
            "grid_auto_flow": null,
            "grid_area": null,
            "grid_template_columns": null,
            "flex": null,
            "_model_name": "LayoutModel",
            "justify_items": null,
            "grid_row": null,
            "max_height": null,
            "align_content": null,
            "visibility": null,
            "align_self": null,
            "height": null,
            "min_height": null,
            "padding": null,
            "grid_auto_rows": null,
            "grid_gap": null,
            "max_width": null,
            "order": null,
            "_view_module_version": "1.2.0",
            "grid_template_areas": null,
            "object_position": null,
            "object_fit": null,
            "grid_auto_columns": null,
            "margin": null,
            "display": null,
            "left": null
          }
        }
      }
    }
  },
  "cells": [
    {
      "cell_type": "markdown",
      "metadata": {
        "id": "view-in-github",
        "colab_type": "text"
      },
      "source": [
        "<a href=\"https://colab.research.google.com/github/schokoro/cnn_crf_nertagger/blob/dev/NER_tagger.ipynb\" target=\"_parent\"><img src=\"https://colab.research.google.com/assets/colab-badge.svg\" alt=\"Open In Colab\"/></a>"
      ]
    },
    {
      "cell_type": "markdown",
      "metadata": {
        "id": "p_aAUmhzgFqt",
        "colab_type": "text"
      },
      "source": [
        "# CNN и CRF для извлечения именованных сущностей\n",
        "\n"
      ]
    },
    {
      "cell_type": "code",
      "metadata": {
        "id": "kVSH61-2h4l6",
        "colab_type": "code",
        "outputId": "d7532423-3b48-4c52-8eb9-528fbb11ad4b",
        "colab": {
          "base_uri": "https://localhost:8080/",
          "height": 34
        }
      },
      "source": [
        "import torch\n",
        "device = torch.device(\"cuda:0\" if torch.cuda.is_available() else \"cpu\")\n",
        "if device == 'cpu':\n",
        "    print('cpu')\n",
        "else:\n",
        "    n_gpu = torch.cuda.device_count()\n",
        "    print(torch.cuda.get_device_name(0))\n",
        "    "
      ],
      "execution_count": 1,
      "outputs": [
        {
          "output_type": "stream",
          "text": [
            "Tesla T4\n"
          ],
          "name": "stdout"
        }
      ]
    },
    {
      "cell_type": "code",
      "metadata": {
        "id": "yS5uM1WVOCz8",
        "colab_type": "code",
        "colab": {}
      },
      "source": [
        "import sys\n",
        "sys.path.append('/content/cnn_crf_nertagger')"
      ],
      "execution_count": 0,
      "outputs": []
    },
    {
      "cell_type": "code",
      "metadata": {
        "id": "SVzEU3MPb8nK",
        "colab_type": "code",
        "colab": {}
      },
      "source": [
        "!rm -rf cnn_crf_nertagger/"
      ],
      "execution_count": 0,
      "outputs": []
    },
    {
      "cell_type": "code",
      "metadata": {
        "id": "2BZw4sQ4gFrj",
        "colab_type": "code",
        "outputId": "4bd7b8a7-cf56-476d-be9d-c878899af9f6",
        "colab": {
          "base_uri": "https://localhost:8080/",
          "height": 136
        }
      },
      "source": [
        "!git clone -b dev https://github.com/schokoro/cnn_crf_nertagger.git > /dev/null\n",
        "!pip install allennlp wget youtokentome ipymarkup seqeval> /dev/null\n"
      ],
      "execution_count": 4,
      "outputs": [
        {
          "output_type": "stream",
          "text": [
            "Cloning into 'cnn_crf_nertagger'...\n",
            "remote: Enumerating objects: 176, done.\u001b[K\n",
            "remote: Counting objects:   0% (1/176)\u001b[K\rremote: Counting objects:   1% (2/176)\u001b[K\rremote: Counting objects:   2% (4/176)\u001b[K\rremote: Counting objects:   3% (6/176)\u001b[K\rremote: Counting objects:   4% (8/176)\u001b[K\rremote: Counting objects:   5% (9/176)\u001b[K\rremote: Counting objects:   6% (11/176)\u001b[K\rremote: Counting objects:   7% (13/176)\u001b[K\rremote: Counting objects:   8% (15/176)\u001b[K\rremote: Counting objects:   9% (16/176)\u001b[K\rremote: Counting objects:  10% (18/176)\u001b[K\rremote: Counting objects:  11% (20/176)\u001b[K\rremote: Counting objects:  12% (22/176)\u001b[K\rremote: Counting objects:  13% (23/176)\u001b[K\rremote: Counting objects:  14% (25/176)\u001b[K\rremote: Counting objects:  15% (27/176)\u001b[K\rremote: Counting objects:  16% (29/176)\u001b[K\rremote: Counting objects:  17% (30/176)\u001b[K\rremote: Counting objects:  18% (32/176)\u001b[K\rremote: Counting objects:  19% (34/176)\u001b[K\rremote: Counting objects:  20% (36/176)\u001b[K\rremote: Counting objects:  21% (37/176)\u001b[K\rremote: Counting objects:  22% (39/176)\u001b[K\rremote: Counting objects:  23% (41/176)\u001b[K\rremote: Counting objects:  24% (43/176)\u001b[K\rremote: Counting objects:  25% (44/176)\u001b[K\rremote: Counting objects:  26% (46/176)\u001b[K\rremote: Counting objects:  27% (48/176)\u001b[K\rremote: Counting objects:  28% (50/176)\u001b[K\rremote: Counting objects:  29% (52/176)\u001b[K\rremote: Counting objects:  30% (53/176)\u001b[K\rremote: Counting objects:  31% (55/176)\u001b[K\rremote: Counting objects:  32% (57/176)\u001b[K\rremote: Counting objects:  33% (59/176)\u001b[K\rremote: Counting objects:  34% (60/176)\u001b[K\rremote: Counting objects:  35% (62/176)\u001b[K\rremote: Counting objects:  36% (64/176)\u001b[K\rremote: Counting objects:  37% (66/176)\u001b[K\rremote: Counting objects:  38% (67/176)\u001b[K\rremote: Counting objects:  39% (69/176)\u001b[K\rremote: Counting objects:  40% (71/176)\u001b[K\rremote: Counting objects:  41% (73/176)\u001b[K\rremote: Counting objects:  42% (74/176)\u001b[K\rremote: Counting objects:  43% (76/176)\u001b[K\rremote: Counting objects:  44% (78/176)\u001b[K\rremote: Counting objects:  45% (80/176)\u001b[K\rremote: Counting objects:  46% (81/176)\u001b[K\rremote: Counting objects:  47% (83/176)\u001b[K\rremote: Counting objects:  48% (85/176)\u001b[K\rremote: Counting objects:  49% (87/176)\u001b[K\rremote: Counting objects:  50% (88/176)\u001b[K\rremote: Counting objects:  51% (90/176)\u001b[K\rremote: Counting objects:  52% (92/176)\u001b[K\rremote: Counting objects:  53% (94/176)\u001b[K\rremote: Counting objects:  54% (96/176)\u001b[K\rremote: Counting objects:  55% (97/176)\u001b[K\rremote: Counting objects:  56% (99/176)\u001b[K\rremote: Counting objects:  57% (101/176)\u001b[K\rremote: Counting objects:  58% (103/176)\u001b[K\rremote: Counting objects:  59% (104/176)\u001b[K\rremote: Counting objects:  60% (106/176)\u001b[K\rremote: Counting objects:  61% (108/176)\u001b[K\rremote: Counting objects:  62% (110/176)\u001b[K\rremote: Counting objects:  63% (111/176)\u001b[K\rremote: Counting objects:  64% (113/176)\u001b[K\rremote: Counting objects:  65% (115/176)\u001b[K\rremote: Counting objects:  66% (117/176)\u001b[K\rremote: Counting objects:  67% (118/176)\u001b[K\rremote: Counting objects:  68% (120/176)\u001b[K\rremote: Counting objects:  69% (122/176)\u001b[K\rremote: Counting objects:  70% (124/176)\u001b[K\rremote: Counting objects:  71% (125/176)\u001b[K\rremote: Counting objects:  72% (127/176)\u001b[K\rremote: Counting objects:  73% (129/176)\u001b[K\rremote: Counting objects:  74% (131/176)\u001b[K\rremote: Counting objects:  75% (132/176)\u001b[K\rremote: Counting objects:  76% (134/176)\u001b[K\rremote: Counting objects:  77% (136/176)\u001b[K\rremote: Counting objects:  78% (138/176)\u001b[K\rremote: Counting objects:  79% (140/176)\u001b[K\rremote: Counting objects:  80% (141/176)\u001b[K\rremote: Counting objects:  81% (143/176)\u001b[K\rremote: Counting objects:  82% (145/176)\u001b[K\rremote: Counting objects:  83% (147/176)\u001b[K\rremote: Counting objects:  84% (148/176)\u001b[K\rremote: Counting objects:  85% (150/176)\u001b[K\rremote: Counting objects:  86% (152/176)\u001b[K\rremote: Counting objects:  87% (154/176)\u001b[K\rremote: Counting objects:  88% (155/176)\u001b[K\rremote: Counting objects:  89% (157/176)\u001b[K\rremote: Counting objects:  90% (159/176)\u001b[K\rremote: Counting objects:  91% (161/176)\u001b[K\rremote: Counting objects:  92% (162/176)\u001b[K\rremote: Counting objects:  93% (164/176)\u001b[K\rremote: Counting objects:  94% (166/176)\u001b[K\rremote: Counting objects:  95% (168/176)\u001b[K\rremote: Counting objects:  96% (169/176)\u001b[K\rremote: Counting objects:  97% (171/176)\u001b[K\rremote: Counting objects:  98% (173/176)\u001b[K\rremote: Counting objects:  99% (175/176)\u001b[K\rremote: Counting objects: 100% (176/176)\u001b[K\rremote: Counting objects: 100% (176/176), done.\u001b[K\n",
            "remote: Compressing objects:   0% (1/102)\u001b[K\rremote: Compressing objects:   1% (2/102)\u001b[K\rremote: Compressing objects:   2% (3/102)\u001b[K\rremote: Compressing objects:   3% (4/102)\u001b[K\rremote: Compressing objects:   4% (5/102)\u001b[K\rremote: Compressing objects:   5% (6/102)\u001b[K\rremote: Compressing objects:   6% (7/102)\u001b[K\rremote: Compressing objects:   7% (8/102)\u001b[K\rremote: Compressing objects:   8% (9/102)\u001b[K\rremote: Compressing objects:   9% (10/102)\u001b[K\rremote: Compressing objects:  10% (11/102)\u001b[K\rremote: Compressing objects:  11% (12/102)\u001b[K\rremote: Compressing objects:  12% (13/102)\u001b[K\rremote: Compressing objects:  13% (14/102)\u001b[K\rremote: Compressing objects:  14% (15/102)\u001b[K\rremote: Compressing objects:  15% (16/102)\u001b[K\rremote: Compressing objects:  16% (17/102)\u001b[K\rremote: Compressing objects:  17% (18/102)\u001b[K\rremote: Compressing objects:  18% (19/102)\u001b[K\rremote: Compressing objects:  19% (20/102)\u001b[K\rremote: Compressing objects:  20% (21/102)\u001b[K\rremote: Compressing objects:  21% (22/102)\u001b[K\rremote: Compressing objects:  22% (23/102)\u001b[K\rremote: Compressing objects:  23% (24/102)\u001b[K\rremote: Compressing objects:  24% (25/102)\u001b[K\rremote: Compressing objects:  25% (26/102)\u001b[K\rremote: Compressing objects:  26% (27/102)\u001b[K\rremote: Compressing objects:  27% (28/102)\u001b[K\rremote: Compressing objects:  28% (29/102)\u001b[K\rremote: Compressing objects:  29% (30/102)\u001b[K\rremote: Compressing objects:  30% (31/102)\u001b[K\rremote: Compressing objects:  31% (32/102)\u001b[K\rremote: Compressing objects:  32% (33/102)\u001b[K\rremote: Compressing objects:  33% (34/102)\u001b[K\rremote: Compressing objects:  34% (35/102)\u001b[K\rremote: Compressing objects:  35% (36/102)\u001b[K\rremote: Compressing objects:  36% (37/102)\u001b[K\rremote: Compressing objects:  37% (38/102)\u001b[K\rremote: Compressing objects:  38% (39/102)\u001b[K\rremote: Compressing objects:  39% (40/102)\u001b[K\rremote: Compressing objects:  40% (41/102)\u001b[K\rremote: Compressing objects:  41% (42/102)\u001b[K\rremote: Compressing objects:  42% (43/102)\u001b[K\rremote: Compressing objects:  43% (44/102)\u001b[K\rremote: Compressing objects:  44% (45/102)\u001b[K\rremote: Compressing objects:  45% (46/102)\u001b[K\rremote: Compressing objects:  46% (47/102)\u001b[K\rremote: Compressing objects:  47% (48/102)\u001b[K\rremote: Compressing objects:  48% (49/102)\u001b[K\rremote: Compressing objects:  49% (50/102)\u001b[K\rremote: Compressing objects:  50% (51/102)\u001b[K\rremote: Compressing objects:  51% (53/102)\u001b[K\rremote: Compressing objects:  52% (54/102)\u001b[K\rremote: Compressing objects:  53% (55/102)\u001b[K\rremote: Compressing objects:  54% (56/102)\u001b[K\rremote: Compressing objects:  55% (57/102)\u001b[K\rremote: Compressing objects:  56% (58/102)\u001b[K\rremote: Compressing objects:  57% (59/102)\u001b[K\rremote: Compressing objects:  58% (60/102)\u001b[K\rremote: Compressing objects:  59% (61/102)\u001b[K\rremote: Compressing objects:  60% (62/102)\u001b[K\rremote: Compressing objects:  61% (63/102)\u001b[K\rremote: Compressing objects:  62% (64/102)\u001b[K\rremote: Compressing objects:  63% (65/102)\u001b[K\rremote: Compressing objects:  64% (66/102)\u001b[K\rremote: Compressing objects:  65% (67/102)\u001b[K\rremote: Compressing objects:  66% (68/102)\u001b[K\rremote: Compressing objects:  67% (69/102)\u001b[K\rremote: Compressing objects:  68% (70/102)\u001b[K\rremote: Compressing objects:  69% (71/102)\u001b[K\rremote: Compressing objects:  70% (72/102)\u001b[K\rremote: Compressing objects:  71% (73/102)\u001b[K\rremote: Compressing objects:  72% (74/102)\u001b[K\rremote: Compressing objects:  73% (75/102)\u001b[K\rremote: Compressing objects:  74% (76/102)\u001b[K\rremote: Compressing objects:  75% (77/102)\u001b[K\rremote: Compressing objects:  76% (78/102)\u001b[K\rremote: Compressing objects:  77% (79/102)\u001b[K\rremote: Compressing objects:  78% (80/102)\u001b[K\rremote: Compressing objects:  79% (81/102)\u001b[K\rremote: Compressing objects:  80% (82/102)\u001b[K\rremote: Compressing objects:  81% (83/102)\u001b[K\rremote: Compressing objects:  82% (84/102)\u001b[K\rremote: Compressing objects:  83% (85/102)\u001b[K\rremote: Compressing objects:  84% (86/102)\u001b[K\rremote: Compressing objects:  85% (87/102)\u001b[K\rremote: Compressing objects:  86% (88/102)\u001b[K\rremote: Compressing objects:  87% (89/102)\u001b[K\rremote: Compressing objects:  88% (90/102)\u001b[K\rremote: Compressing objects:  89% (91/102)\u001b[K\rremote: Compressing objects:  90% (92/102)\u001b[K\rremote: Compressing objects:  91% (93/102)\u001b[K\rremote: Compressing objects:  92% (94/102)\u001b[K\rremote: Compressing objects:  93% (95/102)\u001b[K\rremote: Compressing objects:  94% (96/102)\u001b[K\rremote: Compressing objects:  95% (97/102)\u001b[K\rremote: Compressing objects:  96% (98/102)\u001b[K\rremote: Compressing objects:  97% (99/102)\u001b[K\rremote: Compressing objects:  98% (100/102)\u001b[K\rremote: Compressing objects:  99% (101/102)\u001b[K\rremote: Compressing objects: 100% (102/102)\u001b[K\rremote: Compressing objects: 100% (102/102), done.\u001b[K\n",
            "Receiving objects:   0% (1/176)   \rReceiving objects:   1% (2/176)   \rReceiving objects:   2% (4/176)   \rReceiving objects:   3% (6/176)   \rReceiving objects:   4% (8/176)   \rReceiving objects:   5% (9/176)   \rReceiving objects:   6% (11/176)   \rReceiving objects:   7% (13/176)   \rReceiving objects:   8% (15/176)   \rReceiving objects:   9% (16/176)   \rReceiving objects:  10% (18/176)   \rReceiving objects:  11% (20/176)   \rReceiving objects:  12% (22/176)   \rReceiving objects:  13% (23/176)   \rReceiving objects:  14% (25/176)   \rReceiving objects:  15% (27/176)   \rReceiving objects:  16% (29/176)   \rReceiving objects:  17% (30/176)   \rReceiving objects:  18% (32/176)   \rReceiving objects:  19% (34/176)   \rReceiving objects:  20% (36/176)   \rReceiving objects:  21% (37/176)   \rReceiving objects:  22% (39/176)   \rReceiving objects:  23% (41/176)   \rReceiving objects:  24% (43/176)   \rReceiving objects:  25% (44/176)   \rReceiving objects:  26% (46/176)   \rReceiving objects:  27% (48/176)   \rReceiving objects:  28% (50/176)   \rReceiving objects:  29% (52/176)   \rReceiving objects:  30% (53/176)   \rReceiving objects:  31% (55/176)   \rReceiving objects:  32% (57/176)   \rReceiving objects:  33% (59/176)   \rReceiving objects:  34% (60/176)   \rReceiving objects:  35% (62/176)   \rReceiving objects:  36% (64/176)   \rReceiving objects:  37% (66/176)   \rReceiving objects:  38% (67/176)   \rReceiving objects:  39% (69/176)   \rReceiving objects:  40% (71/176)   \rReceiving objects:  41% (73/176)   \rReceiving objects:  42% (74/176)   \rReceiving objects:  43% (76/176)   \rReceiving objects:  44% (78/176)   \rReceiving objects:  45% (80/176)   \rReceiving objects:  46% (81/176)   \rReceiving objects:  47% (83/176)   \rReceiving objects:  48% (85/176)   \rReceiving objects:  49% (87/176)   \rReceiving objects:  50% (88/176)   \rReceiving objects:  51% (90/176)   \rReceiving objects:  52% (92/176)   \rReceiving objects:  53% (94/176)   \rReceiving objects:  54% (96/176)   \rReceiving objects:  55% (97/176)   \rReceiving objects:  56% (99/176)   \rReceiving objects:  57% (101/176)   \rReceiving objects:  58% (103/176)   \rReceiving objects:  59% (104/176)   \rReceiving objects:  60% (106/176)   \rReceiving objects:  61% (108/176)   \rReceiving objects:  62% (110/176)   \rReceiving objects:  63% (111/176)   \rReceiving objects:  64% (113/176)   \rReceiving objects:  65% (115/176)   \rReceiving objects:  66% (117/176)   \rReceiving objects:  67% (118/176)   \rReceiving objects:  68% (120/176)   \rReceiving objects:  69% (122/176)   \rReceiving objects:  70% (124/176)   \rReceiving objects:  71% (125/176)   \rremote: Total 176 (delta 83), reused 140 (delta 57), pack-reused 0\u001b[K\n",
            "Receiving objects:  72% (127/176)   \rReceiving objects:  73% (129/176)   \rReceiving objects:  74% (131/176)   \rReceiving objects:  75% (132/176)   \rReceiving objects:  76% (134/176)   \rReceiving objects:  77% (136/176)   \rReceiving objects:  78% (138/176)   \rReceiving objects:  79% (140/176)   \rReceiving objects:  80% (141/176)   \rReceiving objects:  81% (143/176)   \rReceiving objects:  82% (145/176)   \rReceiving objects:  83% (147/176)   \rReceiving objects:  84% (148/176)   \rReceiving objects:  85% (150/176)   \rReceiving objects:  86% (152/176)   \rReceiving objects:  87% (154/176)   \rReceiving objects:  88% (155/176)   \rReceiving objects:  89% (157/176)   \rReceiving objects:  90% (159/176)   \rReceiving objects:  91% (161/176)   \rReceiving objects:  92% (162/176)   \rReceiving objects:  93% (164/176)   \rReceiving objects:  94% (166/176)   \rReceiving objects:  95% (168/176)   \rReceiving objects:  96% (169/176)   \rReceiving objects:  97% (171/176)   \rReceiving objects:  98% (173/176)   \rReceiving objects:  99% (175/176)   \rReceiving objects: 100% (176/176)   \rReceiving objects: 100% (176/176), 109.62 KiB | 660.00 KiB/s, done.\n",
            "Resolving deltas:   0% (0/83)   \rResolving deltas:   7% (6/83)   \rResolving deltas:  50% (42/83)   \rResolving deltas:  53% (44/83)   \rResolving deltas:  66% (55/83)   \rResolving deltas:  78% (65/83)   \rResolving deltas:  90% (75/83)   \rResolving deltas:  92% (77/83)   \rResolving deltas: 100% (83/83)   \rResolving deltas: 100% (83/83), done.\n"
          ],
          "name": "stdout"
        }
      ]
    },
    {
      "cell_type": "code",
      "metadata": {
        "ExecuteTime": {
          "end_time": "2019-10-29T19:49:34.549739Z",
          "start_time": "2019-10-29T19:49:32.179692Z"
        },
        "id": "ol61j2fHgFsh",
        "colab_type": "code",
        "colab": {}
      },
      "source": [
        "%load_ext autoreload\n",
        "%autoreload 2\n",
        "\n",
        "import spacy\n",
        "import warnings\n",
        "warnings.filterwarnings('ignore')\n",
        "import numpy as np\n",
        "from torch.nn import functional as F\n",
        "from torch.utils.data import TensorDataset\n",
        "from allennlp.data.dataset_readers.conll2003 import Conll2003DatasetReader\n",
        "from allennlp.common.util import ensure_list\n",
        "from torch import nn\n",
        "from torch.nn import functional as F\n",
        "from torch.utils.data import TensorDataset\n",
        "from pdb import set_trace\n",
        "from gc import collect\n",
        "from tqdm.notebook import tqdm\n",
        "import wget\n",
        "import cnn_crf_nertagger\n",
        "from cnn_crf_nertagger.modules.modules import NERTaggerModel, NERTagger\n",
        "from cnn_crf_nertagger.utils.pipeline import train_eval_loop, predict_with_model\n",
        "from cnn_crf_nertagger.utils.prepare import tag_corpus_to_tensor, tokenize_corpus, make_yttm_tokenizer, highlight_text, tensor_to_tags\n",
        "from os import path, listdir\n",
        "import pandas as pd\n",
        "import seaborn as sns\n",
        "from matplotlib import rcParams\n",
        "from seqeval.metrics import classification_report\n",
        "sns.set()\n",
        "%matplotlib inline\n",
        "\n",
        "rcParams['figure.figsize'] = 12, 12\n",
        "torch.backends.cudnn.deterministic=False "
      ],
      "execution_count": 0,
      "outputs": []
    },
    {
      "cell_type": "markdown",
      "metadata": {
        "id": "inP4QwcDgFs3",
        "colab_type": "text"
      },
      "source": [
        "## Подготовка данных\n",
        "\n"
      ]
    },
    {
      "cell_type": "markdown",
      "metadata": {
        "id": "aXvdhaF5nPcQ",
        "colab_type": "text"
      },
      "source": [
        "\n",
        "### Загружаем корпуса"
      ]
    },
    {
      "cell_type": "code",
      "metadata": {
        "id": "7HUaGBS4nD1g",
        "colab_type": "code",
        "outputId": "e4609951-d7f3-4d44-92d5-cbb293342b55",
        "colab": {
          "base_uri": "https://localhost:8080/",
          "height": 34
        }
      },
      "source": [
        "!rm -fv /content/cnn_crf_nertagger/data/*\n"
      ],
      "execution_count": 6,
      "outputs": [
        {
          "output_type": "stream",
          "text": [
            "removed '/content/cnn_crf_nertagger/data/readme.txt'\n"
          ],
          "name": "stdout"
        }
      ]
    },
    {
      "cell_type": "code",
      "metadata": {
        "ExecuteTime": {
          "end_time": "2019-10-29T19:49:56.525561Z",
          "start_time": "2019-10-29T19:49:37.315213Z"
        },
        "id": "uo0ZTJ1FgFti",
        "colab_type": "code",
        "colab": {}
      },
      "source": [
        "path_data = '/content/cnn_crf_nertagger/data/'\n",
        "path_train = '/content/cnn_crf_nertagger/data/eng.train'\n",
        "path_valid = '/content/cnn_crf_nertagger/data/eng.testa'\n",
        "path_test = '/content/cnn_crf_nertagger/data/eng.testb'\n",
        "\n",
        "dataset_urls = {\n",
        "    'eng.testa': 'https://raw.githubusercontent.com/synalp/NER/master/corpus/CoNLL-2003/eng.testa',\n",
        "    'eng.testb': 'https://raw.githubusercontent.com/synalp/NER/master/corpus/CoNLL-2003/eng.testb',\n",
        "    'eng.train': 'https://raw.githubusercontent.com/synalp/NER/master/corpus/CoNLL-2003/eng.train'}\n",
        "for file_name in dataset_urls:\n",
        "    wget.download(dataset_urls[file_name], path.join(path_data, file_name))"
      ],
      "execution_count": 0,
      "outputs": []
    },
    {
      "cell_type": "code",
      "metadata": {
        "id": "r6AABrk05iiC",
        "colab_type": "code",
        "outputId": "50d54639-075f-4c13-e6bb-3f794feb5b87",
        "colab": {
          "base_uri": "https://localhost:8080/",
          "height": 102
        }
      },
      "source": [
        "%%time\n",
        "conll_reader = Conll2003DatasetReader()\n",
        "train_conll = ensure_list(conll_reader.read(path_train))\n",
        "valid_conll = ensure_list(conll_reader.read(path_valid))\n",
        "test_conll = ensure_list(conll_reader.read(path_test))"
      ],
      "execution_count": 8,
      "outputs": [
        {
          "output_type": "stream",
          "text": [
            "14041it [00:01, 11749.57it/s]\n",
            "3250it [00:00, 9070.19it/s]\n",
            "3453it [00:00, 24140.39it/s]"
          ],
          "name": "stderr"
        },
        {
          "output_type": "stream",
          "text": [
            "CPU times: user 1.63 s, sys: 73.3 ms, total: 1.71 s\n",
            "Wall time: 1.7 s\n"
          ],
          "name": "stdout"
        },
        {
          "output_type": "stream",
          "text": [
            "\n"
          ],
          "name": "stderr"
        }
      ]
    },
    {
      "cell_type": "code",
      "metadata": {
        "id": "WCYr630b8O5w",
        "colab_type": "code",
        "outputId": "91b8202f-ca09-4324-9334-90ccfb161a8e",
        "colab": {
          "base_uri": "https://localhost:8080/",
          "height": 34
        }
      },
      "source": [
        "all_conll = train_conll + valid_conll + test_conll\n",
        "len(all_conll), len(train_conll), len(valid_conll), len(test_conll)"
      ],
      "execution_count": 9,
      "outputs": [
        {
          "output_type": "execute_result",
          "data": {
            "text/plain": [
              "(20744, 14041, 3250, 3453)"
            ]
          },
          "metadata": {
            "tags": []
          },
          "execution_count": 9
        }
      ]
    },
    {
      "cell_type": "markdown",
      "metadata": {
        "id": "LeAP6B5WfzoR",
        "colab_type": "text"
      },
      "source": [
        "### Готовим словари соответсвия тег-id и bpe - токенизатор\n",
        "\n"
      ]
    },
    {
      "cell_type": "code",
      "metadata": {
        "id": "joAECv5_8htA",
        "colab_type": "code",
        "outputId": "95cf4480-10c3-4c09-bc88-11c84c14d101",
        "colab": {
          "base_uri": "https://localhost:8080/",
          "height": 34
        }
      },
      "source": [
        "tags = set()\n",
        "tokens = set()\n",
        "\n",
        "max_sent_len = 0\n",
        "for instance in all_conll[: ]:\n",
        "    if len(instance['tokens']) >  max_sent_len:\n",
        "        max_sent_len = len(instance['tokens'])\n",
        "    tags.update(instance['tags'])\n",
        "    tokens.update(instance['tokens'])\n",
        "    \n",
        "print(f'Максимальная длина предложения: {max_sent_len} токенов')"
      ],
      "execution_count": 10,
      "outputs": [
        {
          "output_type": "stream",
          "text": [
            "Максимальная длина предложения: 124 токенов\n"
          ],
          "name": "stdout"
        }
      ]
    },
    {
      "cell_type": "code",
      "metadata": {
        "id": "l75L7ILeme3k",
        "colab_type": "code",
        "outputId": "5bc7bb81-703e-446a-bcf8-636809076458",
        "colab": {
          "base_uri": "https://localhost:8080/",
          "height": 51
        }
      },
      "source": [
        "%time bpe_tokenizer = make_yttm_tokenizer(train_conll, 400)"
      ],
      "execution_count": 11,
      "outputs": [
        {
          "output_type": "stream",
          "text": [
            "CPU times: user 155 ms, sys: 27.3 ms, total: 182 ms\n",
            "Wall time: 133 ms\n"
          ],
          "name": "stdout"
        }
      ]
    },
    {
      "cell_type": "code",
      "metadata": {
        "id": "SaDuu3t_8hqd",
        "colab_type": "code",
        "outputId": "a2f7e5bd-36ba-4efd-9978-9adf9867ef7a",
        "colab": {
          "base_uri": "https://localhost:8080/",
          "height": 117,
          "referenced_widgets": [
            "73917580855549738dfa5a46ab2a14a0",
            "7203819e9b734e2c87d687bd50ceec05",
            "940cac660a2b45efa6da4a6f07942efd",
            "f05bde13b45a4e7b91b793154a5d89d3",
            "8d3728957a564c4e840ddfacf14591a2",
            "6efc0fea61364768b4154162467c9e30",
            "f978a273949b4454814bf655ad4ad9d4",
            "7c7206b763b84fa5ac1e9646ff930587"
          ]
        }
      },
      "source": [
        "%%time\n",
        "max_token_len = 0\n",
        "for p in tqdm(range(101)):\n",
        "    len_tokens = [len(bpe_tokenizer.encode(token.text, dropout_prob=p/100))  for token in tokens]\n",
        "    if max(len_tokens) > max_token_len:\n",
        "        p_dropout = .01 * p\n",
        "        max_token_len = max(len_tokens)\n",
        "\n",
        "print(f'Максимальная длина токена: {max_token_len} субтокенов при вероятности дропаута {p_dropout}')"
      ],
      "execution_count": 12,
      "outputs": [
        {
          "output_type": "display_data",
          "data": {
            "application/vnd.jupyter.widget-view+json": {
              "model_id": "73917580855549738dfa5a46ab2a14a0",
              "version_minor": 0,
              "version_major": 2
            },
            "text/plain": [
              "HBox(children=(FloatProgress(value=0.0, max=101.0), HTML(value='')))"
            ]
          },
          "metadata": {
            "tags": []
          }
        },
        {
          "output_type": "stream",
          "text": [
            "\n",
            "Максимальная длина токена: 62 субтокенов при вероятности дропаута 0.1\n",
            "CPU times: user 10.5 s, sys: 68.3 ms, total: 10.6 s\n",
            "Wall time: 10.6 s\n"
          ],
          "name": "stdout"
        }
      ]
    },
    {
      "cell_type": "code",
      "metadata": {
        "ExecuteTime": {
          "end_time": "2019-10-29T19:49:58.524125Z",
          "start_time": "2019-10-29T19:49:58.125577Z"
        },
        "id": "WzDDott3gFul",
        "colab_type": "code",
        "colab": {}
      },
      "source": [
        "tag2id = {tag: num for num, tag in enumerate(['<NOTAG>'] + list(tags))}\n",
        "# char2id = {char: num+1 for num, char in enumerate(chars)}\n",
        "# id2char = {item[1]: item[0] for item in char2id.items()}"
      ],
      "execution_count": 0,
      "outputs": []
    },
    {
      "cell_type": "code",
      "metadata": {
        "id": "C5R5GbuZAp_r",
        "colab_type": "code",
        "colab": {}
      },
      "source": [
        ""
      ],
      "execution_count": 0,
      "outputs": []
    },
    {
      "cell_type": "markdown",
      "metadata": {
        "id": "AiqJ56QiAsZF",
        "colab_type": "text"
      },
      "source": [
        "В датасете присутствует очень мало тегов вида B-XXX. Попробуем чуть размножить предложения с этими тегами. Использование дропаута в bpe внесёт немного разнообразия в эти предложения."
      ]
    },
    {
      "cell_type": "code",
      "metadata": {
        "id": "GO0uquKu87yj",
        "colab_type": "code",
        "outputId": "d904d2a1-69b3-455f-887c-a7c689c6d6b0",
        "colab": {
          "base_uri": "https://localhost:8080/",
          "height": 102
        }
      },
      "source": [
        "%%time\n",
        "BPE_DROPOUT = .2\n",
        "train_inputs, train_targets = tag_corpus_to_tensor(train_conll, bpe_tokenizer, tag2id, max_sent_len, max_token_len, augm=20, dropout=BPE_DROPOUT)\n",
        "valid_inputs, valid_targets = tag_corpus_to_tensor(valid_conll, bpe_tokenizer, tag2id, max_sent_len, max_token_len, dropout=0)\n",
        "test_inputs, test_targets = tag_corpus_to_tensor(test_conll, bpe_tokenizer, tag2id, max_sent_len, max_token_len, dropout=0)"
      ],
      "execution_count": 14,
      "outputs": [
        {
          "output_type": "stream",
          "text": [
            "100%|██████████| 14041/14041 [00:06<00:00, 2198.51it/s]\n",
            "100%|██████████| 3250/3250 [00:01<00:00, 2170.69it/s]\n",
            "100%|██████████| 3453/3453 [00:01<00:00, 2544.85it/s]"
          ],
          "name": "stderr"
        },
        {
          "output_type": "stream",
          "text": [
            "CPU times: user 9.45 s, sys: 811 ms, total: 10.3 s\n",
            "Wall time: 10.3 s\n"
          ],
          "name": "stdout"
        },
        {
          "output_type": "stream",
          "text": [
            "\n"
          ],
          "name": "stderr"
        }
      ]
    },
    {
      "cell_type": "code",
      "metadata": {
        "ExecuteTime": {
          "end_time": "2019-10-29T19:49:58.752672Z",
          "start_time": "2019-10-29T19:49:58.526431Z"
        },
        "id": "K_03GuyhgFur",
        "colab_type": "code",
        "colab": {}
      },
      "source": [
        "train_dataset = TensorDataset(train_inputs, train_targets)\n",
        "valid_dataset = TensorDataset(valid_inputs, valid_targets)\n",
        "test_dataset = TensorDataset(test_inputs, test_targets)"
      ],
      "execution_count": 0,
      "outputs": []
    },
    {
      "cell_type": "markdown",
      "metadata": {
        "id": "V0KNokGoadtA",
        "colab_type": "text"
      },
      "source": [
        "## Создаём и обучаем сеть"
      ]
    },
    {
      "cell_type": "code",
      "metadata": {
        "id": "U5k4Z4b6craL",
        "colab_type": "code",
        "colab": {}
      },
      "source": [
        "models_path = '/content/cnn_crf_nertagger/models/best_model.pth'"
      ],
      "execution_count": 0,
      "outputs": []
    },
    {
      "cell_type": "code",
      "metadata": {
        "id": "DfRjCwqZu4BW",
        "colab_type": "code",
        "outputId": "1f724cfd-a040-4751-9b8a-e21a5c011164",
        "colab": {
          "base_uri": "https://localhost:8080/",
          "height": 34
        }
      },
      "source": [
        "try:\n",
        "    del model    \n",
        "    collect()\n",
        "except:\n",
        "    print('no model')\n",
        "finally:\n",
        "    torch.cuda.empty_cache()\n"
      ],
      "execution_count": 17,
      "outputs": [
        {
          "output_type": "stream",
          "text": [
            "no model\n"
          ],
          "name": "stdout"
        }
      ]
    },
    {
      "cell_type": "markdown",
      "metadata": {
        "id": "yYZiVrJYFCC1",
        "colab_type": "text"
      },
      "source": [
        "Сеть состоит из двух однотипных свёрточных блоков и CRF. На первом уровне мы осуществляем свёртку над субтокенами и делаем глобал-пуллинг. Затем получившиеся эмбедденги токенов передаём на следующий свёрточный блок. Он значительно глубже, чтобы увеличить рецептивное поле. Выход второго блока передаём в CRF, который возвращает нам `log-likelihood`."
      ]
    },
    {
      "cell_type": "code",
      "metadata": {
        "ExecuteTime": {
          "end_time": "2019-10-29T19:47:48.326925Z",
          "start_time": "2019-10-29T19:46:50.310Z"
        },
        "id": "jj9cwrRBgFwR",
        "colab_type": "code",
        "outputId": "8b4ff179-8402-42bd-ea87-6961dc730522",
        "colab": {
          "base_uri": "https://localhost:8080/",
          "height": 34
        }
      },
      "source": [
        "torch.cuda.empty_cache()\n",
        "model = NERTaggerModel(len(bpe_tokenizer.vocab()), len(tag2id), tag2id, embedding_size=64,\n",
        "                                              single_backbone_kwargs=dict(layers_n=2, kernel_size=3, dropout=0.3, dilation=None),\n",
        "                                              context_backbone_kwargs=dict(layers_n=5, kernel_size=3, dropout=0.3, dilation=[1, 1, 2 , 2, 1]))\n",
        "print('Количество параметров', sum(np.product(t.shape) for t in model.parameters()))"
      ],
      "execution_count": 18,
      "outputs": [
        {
          "output_type": "stream",
          "text": [
            "Количество параметров 112869\n"
          ],
          "name": "stdout"
        }
      ]
    },
    {
      "cell_type": "code",
      "metadata": {
        "id": "luP8K58IIlw8",
        "colab_type": "code",
        "colab": {}
      },
      "source": [
        "# try:\n",
        "#     model.load_state_dict(torch.load(models_path))\n",
        "# except:\n",
        "#     print('no model')"
      ],
      "execution_count": 0,
      "outputs": []
    },
    {
      "cell_type": "code",
      "metadata": {
        "ExecuteTime": {
          "end_time": "2019-10-29T19:47:48.327888Z",
          "start_time": "2019-10-29T19:46:50.737Z"
        },
        "scrolled": false,
        "id": "4aa02MY9gFwZ",
        "colab_type": "code",
        "outputId": "7a10e552-2963-4f1a-8a04-22db70a19d1f",
        "colab": {
          "base_uri": "https://localhost:8080/",
          "height": 1000
        }
      },
      "source": [
        "(best_val_loss,\n",
        " best_model,\n",
        " losses) = train_eval_loop(model,\n",
        "                               train_dataset,\n",
        "                               valid_dataset,\n",
        "                               lr=5e-3,\n",
        "                               epoch_n=200,\n",
        "                               batch_size=256,\n",
        "                               device=device,\n",
        "                               early_stopping_patience=10,\n",
        "                               l2_reg_alpha = 1e-6,\n",
        "                               max_batches_per_epoch_train=100,\n",
        "                               max_batches_per_epoch_val=100,\n",
        "                               lr_scheduler_ctor=lambda optim: torch.optim.lr_scheduler.ReduceLROnPlateau(\n",
        "                                                                                     optim, patience=4,\n",
        "                                                                                     factor=0.1,\n",
        "                                                                                     threshold=1e-3,\n",
        "                                                                                     verbose=True),\n",
        "                               verbose_batch=False)\n",
        " \n",
        "torch.save(best_model.state_dict(), models_path)"
      ],
      "execution_count": 20,
      "outputs": [
        {
          "output_type": "stream",
          "text": [
            "Эпоха 0\n",
            "Эпоха: 59 итераций, 21.80 сек\n",
            "Среднее значение функции потерь на обучении 13.298161312685174\n",
            "Среднее значение функции потерь на валидации 5.411460032829871\n",
            "Новая лучшая модель!\n",
            "\n",
            "Эпоха 1\n",
            "Эпоха: 59 итераций, 21.79 сек\n",
            "Среднее значение функции потерь на обучении 4.629345538252491\n",
            "Среднее значение функции потерь на валидации 3.3930464341090274\n",
            "Новая лучшая модель!\n",
            "\n",
            "Эпоха 2\n",
            "Эпоха: 59 итераций, 22.06 сек\n",
            "Среднее значение функции потерь на обучении 3.267924672466213\n",
            "Среднее значение функции потерь на валидации 2.6844792182628927\n",
            "Новая лучшая модель!\n",
            "\n",
            "Эпоха 3\n",
            "Эпоха: 59 итераций, 22.40 сек\n",
            "Среднее значение функции потерь на обучении 2.6310241060741877\n",
            "Среднее значение функции потерь на валидации 2.296366966687716\n",
            "Новая лучшая модель!\n",
            "\n",
            "Эпоха 4\n",
            "Эпоха: 59 итераций, 22.63 сек\n",
            "Среднее значение функции потерь на обучении 2.253990995681892\n",
            "Среднее значение функции потерь на валидации 2.019188715861394\n",
            "Новая лучшая модель!\n",
            "\n",
            "Эпоха 5\n",
            "Эпоха: 59 итераций, 23.02 сек\n",
            "Среднее значение функции потерь на обучении 1.9811105425074949\n",
            "Среднее значение функции потерь на валидации 1.8182442830159113\n",
            "Новая лучшая модель!\n",
            "\n",
            "Эпоха 6\n",
            "Эпоха: 59 итераций, 22.88 сек\n",
            "Среднее значение функции потерь на обучении 1.7976602194672924\n",
            "Среднее значение функции потерь на валидации 1.6670745427791889\n",
            "Новая лучшая модель!\n",
            "\n",
            "Эпоха 7\n",
            "Эпоха: 59 итераций, 22.72 сек\n",
            "Среднее значение функции потерь на обучении 1.6490838123580156\n",
            "Среднее значение функции потерь на валидации 1.5916607838410597\n",
            "Новая лучшая модель!\n",
            "\n",
            "Эпоха 8\n",
            "Эпоха: 59 итераций, 22.95 сек\n",
            "Среднее значение функции потерь на обучении 1.5308769759485277\n",
            "Среднее значение функции потерь на валидации 1.5146531691918006\n",
            "Новая лучшая модель!\n",
            "\n",
            "Эпоха 9\n",
            "Эпоха: 59 итераций, 22.91 сек\n",
            "Среднее значение функции потерь на обучении 1.439241690150762\n",
            "Среднее значение функции потерь на валидации 1.4335966110229492\n",
            "Новая лучшая модель!\n",
            "\n",
            "Эпоха 10\n",
            "Эпоха: 59 итераций, 22.90 сек\n",
            "Среднее значение функции потерь на обучении 1.3692182433807243\n",
            "Среднее значение функции потерь на валидации 1.4025192260742188\n",
            "Новая лучшая модель!\n",
            "\n",
            "Эпоха 11\n",
            "Эпоха: 59 итераций, 22.79 сек\n",
            "Среднее значение функции потерь на обучении 1.3082341258808718\n",
            "Среднее значение функции потерь на валидации 1.364127883544335\n",
            "Новая лучшая модель!\n",
            "\n",
            "Эпоха 12\n",
            "Эпоха: 59 итераций, 22.78 сек\n",
            "Среднее значение функции потерь на обучении 1.2480773622706784\n",
            "Среднее значение функции потерь на валидации 1.3357509695566618\n",
            "Новая лучшая модель!\n",
            "\n",
            "Эпоха 13\n",
            "Эпоха: 59 итераций, 22.86 сек\n",
            "Среднее значение функции потерь на обучении 1.1834898490016743\n",
            "Среднее значение функции потерь на валидации 1.3149015720073993\n",
            "Новая лучшая модель!\n",
            "\n",
            "Эпоха 14\n",
            "Эпоха: 59 итераций, 22.77 сек\n",
            "Среднее значение функции потерь на обучении 1.1284600597316936\n",
            "Среднее значение функции потерь на валидации 1.2710143877909734\n",
            "Новая лучшая модель!\n",
            "\n",
            "Эпоха 15\n",
            "Эпоха: 59 итераций, 23.06 сек\n",
            "Среднее значение функции потерь на обучении 1.107094925338939\n",
            "Среднее значение функции потерь на валидации 1.2371328794039214\n",
            "Новая лучшая модель!\n",
            "\n",
            "Эпоха 16\n",
            "Эпоха: 59 итераций, 22.78 сек\n",
            "Среднее значение функции потерь на обучении 1.0494728441965782\n",
            "Среднее значение функции потерь на валидации 1.2334852585425744\n",
            "Новая лучшая модель!\n",
            "\n",
            "Эпоха 17\n",
            "Эпоха: 59 итераций, 22.73 сек\n",
            "Среднее значение функции потерь на обучении 1.0275130221399211\n",
            "Среднее значение функции потерь на валидации 1.2464454540839562\n",
            "\n",
            "Эпоха 18\n",
            "Эпоха: 59 итераций, 22.79 сек\n",
            "Среднее значение функции потерь на обучении 0.9848977579908856\n",
            "Среднее значение функции потерь на валидации 1.218842258820167\n",
            "Новая лучшая модель!\n",
            "\n",
            "Эпоха 19\n",
            "Эпоха: 59 итераций, 22.76 сек\n",
            "Среднее значение функции потерь на обучении 0.9689166495355509\n",
            "Среднее значение функции потерь на валидации 1.2058598445012019\n",
            "Новая лучшая модель!\n",
            "\n",
            "Эпоха 20\n",
            "Эпоха: 59 итераций, 22.80 сек\n",
            "Среднее значение функции потерь на обучении 0.9305000042511244\n",
            "Среднее значение функции потерь на валидации 1.161452747308291\n",
            "Новая лучшая модель!\n",
            "\n",
            "Эпоха 21\n",
            "Эпоха: 59 итераций, 22.80 сек\n",
            "Среднее значение функции потерь на обучении 0.9226857140912847\n",
            "Среднее значение функции потерь на валидации 1.166045904159546\n",
            "\n",
            "Эпоха 22\n",
            "Эпоха: 59 итераций, 22.74 сек\n",
            "Среднее значение функции потерь на обучении 0.8931855852321043\n",
            "Среднее значение функции потерь на валидации 1.1679741465128386\n",
            "\n",
            "Эпоха 23\n",
            "Эпоха: 59 итераций, 22.73 сек\n",
            "Среднее значение функции потерь на обучении 0.8698149535615566\n",
            "Среднее значение функции потерь на валидации 1.160034335576571\n",
            "Новая лучшая модель!\n",
            "\n",
            "Эпоха 24\n",
            "Эпоха: 59 итераций, 22.72 сек\n",
            "Среднее значение функции потерь на обучении 0.8535440968254865\n",
            "Среднее значение функции потерь на валидации 1.128937657062824\n",
            "Новая лучшая модель!\n",
            "\n",
            "Эпоха 25\n",
            "Эпоха: 59 итераций, 22.75 сек\n",
            "Среднее значение функции потерь на обучении 0.8347779785172414\n",
            "Среднее значение функции потерь на валидации 1.1512285058314984\n",
            "\n",
            "Эпоха 26\n",
            "Эпоха: 59 итераций, 22.74 сек\n",
            "Среднее значение функции потерь на обучении 0.8252342353432865\n",
            "Среднее значение функции потерь на валидации 1.1169808827913725\n",
            "Новая лучшая модель!\n",
            "\n",
            "Эпоха 27\n",
            "Эпоха: 59 итераций, 22.74 сек\n",
            "Среднее значение функции потерь на обучении 0.797468877444833\n",
            "Среднее значение функции потерь на валидации 1.1479882552073553\n",
            "\n",
            "Эпоха 28\n",
            "Эпоха: 59 итераций, 22.69 сек\n",
            "Среднее значение функции потерь на обучении 0.7837107444213609\n",
            "Среднее значение функции потерь на валидации 1.100582086122953\n",
            "Новая лучшая модель!\n",
            "\n",
            "Эпоха 29\n",
            "Эпоха: 59 итераций, 22.62 сек\n",
            "Среднее значение функции потерь на обучении 0.7644152802936102\n",
            "Среднее значение функции потерь на валидации 1.1252868634003859\n",
            "\n",
            "Эпоха 30\n",
            "Эпоха: 59 итераций, 22.68 сек\n",
            "Среднее значение функции потерь на обучении 0.7616683234602718\n",
            "Среднее значение функции потерь на валидации 1.0996135885898883\n",
            "Новая лучшая модель!\n",
            "\n",
            "Эпоха 31\n",
            "Эпоха: 59 итераций, 22.70 сек\n",
            "Среднее значение функции потерь на обучении 0.7453251895257982\n",
            "Среднее значение функции потерь на валидации 1.1364812163206248\n",
            "\n",
            "Эпоха 32\n",
            "Эпоха: 59 итераций, 22.59 сек\n",
            "Среднее значение функции потерь на обучении 0.7237665895688332\n",
            "Среднее значение функции потерь на валидации 1.118906786808601\n",
            "\n",
            "Эпоха 33\n",
            "Эпоха: 59 итераций, 22.56 сек\n",
            "Среднее значение функции потерь на обучении 0.713167644153207\n",
            "Среднее значение функции потерь на валидации 1.1314937609892626\n",
            "Epoch    34: reducing learning rate of group 0 to 5.0000e-04.\n",
            "\n",
            "Эпоха 34\n",
            "Эпоха: 59 итераций, 22.68 сек\n",
            "Среднее значение функции потерь на обучении 0.6308552057056104\n",
            "Среднее значение функции потерь на валидации 1.0725121864905725\n",
            "Новая лучшая модель!\n",
            "\n",
            "Эпоха 35\n",
            "Эпоха: 59 итераций, 22.68 сек\n",
            "Среднее значение функции потерь на обучении 0.6188659713429919\n",
            "Среднее значение функции потерь на валидации 1.0670270048654997\n",
            "Новая лучшая модель!\n",
            "\n",
            "Эпоха 36\n",
            "Эпоха: 59 итераций, 22.68 сек\n",
            "Среднее значение функции потерь на обучении 0.5948889472727048\n",
            "Среднее значение функции потерь на валидации 1.0577114086884718\n",
            "Новая лучшая модель!\n",
            "\n",
            "Эпоха 37\n",
            "Эпоха: 59 итераций, 22.59 сек\n",
            "Среднее значение функции потерь на обучении 0.5832492113113403\n",
            "Среднее значение функции потерь на валидации 1.0565625429153442\n",
            "Новая лучшая модель!\n",
            "\n",
            "Эпоха 38\n",
            "Эпоха: 59 итераций, 22.68 сек\n",
            "Среднее значение функции потерь на обучении 0.576507567854251\n",
            "Среднее значение функции потерь на валидации 1.052840260358957\n",
            "Новая лучшая модель!\n",
            "\n",
            "Эпоха 39\n",
            "Эпоха: 59 итераций, 22.69 сек\n",
            "Среднее значение функции потерь на обучении 0.5679614498453626\n",
            "Среднее значение функции потерь на валидации 1.04900540296848\n",
            "Новая лучшая модель!\n",
            "\n",
            "Эпоха 40\n",
            "Эпоха: 59 итераций, 22.63 сек\n",
            "Среднее значение функции потерь на обучении 0.5705289290112964\n",
            "Среднее значение функции потерь на валидации 1.0454159470704885\n",
            "Новая лучшая модель!\n",
            "\n",
            "Эпоха 41\n",
            "Эпоха: 59 итераций, 22.62 сек\n",
            "Среднее значение функции потерь на обучении 0.55794130543531\n",
            "Среднее значение функции потерь на валидации 1.0409860886060274\n",
            "Новая лучшая модель!\n",
            "\n",
            "Эпоха 42\n",
            "Эпоха: 59 итераций, 22.57 сек\n",
            "Среднее значение функции потерь на обучении 0.5533422140751855\n",
            "Среднее значение функции потерь на валидации 1.0473938951125512\n",
            "\n",
            "Эпоха 43\n",
            "Эпоха: 59 итераций, 22.57 сек\n",
            "Среднее значение функции потерь на обучении 0.5576808149531737\n",
            "Среднее значение функции потерь на валидации 1.0475679223354046\n",
            "\n",
            "Эпоха 44\n",
            "Эпоха: 59 итераций, 22.59 сек\n",
            "Среднее значение функции потерь на обучении 0.5405975706496481\n",
            "Среднее значение функции потерь на валидации 1.050559672025534\n",
            "\n",
            "Эпоха 45\n",
            "Эпоха: 59 итераций, 22.59 сек\n",
            "Среднее значение функции потерь на обучении 0.5363268695645413\n",
            "Среднее значение функции потерь на валидации 1.0500588096105135\n",
            "\n",
            "Эпоха 46\n",
            "Эпоха: 59 итераций, 22.52 сек\n",
            "Среднее значение функции потерь на обучении 0.5433580728910737\n",
            "Среднее значение функции потерь на валидации 1.04120646073268\n",
            "Epoch    47: reducing learning rate of group 0 to 5.0000e-05.\n",
            "\n",
            "Эпоха 47\n",
            "Эпоха: 59 итераций, 22.56 сек\n",
            "Среднее значение функции потерь на обучении 0.5339105422213927\n",
            "Среднее значение функции потерь на валидации 1.0430488219627967\n",
            "\n",
            "Эпоха 48\n",
            "Эпоха: 59 итераций, 22.56 сек\n",
            "Среднее значение функции потерь на обучении 0.5355609412920677\n",
            "Среднее значение функции потерь на валидации 1.0436670734332159\n",
            "\n",
            "Эпоха 49\n",
            "Эпоха: 59 итераций, 22.54 сек\n",
            "Среднее значение функции потерь на обучении 0.52701757014808\n",
            "Среднее значение функции потерь на валидации 1.0441030768247752\n",
            "\n",
            "Эпоха 50\n",
            "Эпоха: 59 итераций, 22.55 сек\n",
            "Среднее значение функции потерь на обучении 0.5331568677546614\n",
            "Среднее значение функции потерь на валидации 1.0436744689941406\n",
            "\n",
            "Эпоха 51\n",
            "Эпоха: 59 итераций, 22.69 сек\n",
            "Среднее значение функции потерь на обучении 0.5271902963266535\n",
            "Среднее значение функции потерь на валидации 1.043766480225783\n",
            "Epoch    52: reducing learning rate of group 0 to 5.0000e-06.\n",
            "\n",
            "Эпоха 52\n",
            "Эпоха: 59 итераций, 22.64 сек\n",
            "Среднее значение функции потерь на обучении 0.5191597701129267\n",
            "Среднее значение функции потерь на валидации 1.0437457057145925\n",
            "Модель не улучшилась за последние 10 эпох, прекращаем обучение\n"
          ],
          "name": "stdout"
        }
      ]
    },
    {
      "cell_type": "code",
      "metadata": {
        "id": "ghe0zoP4c3vt",
        "colab_type": "code",
        "outputId": "d30878c5-e5dd-4ddb-d266-95d9ee904d0b",
        "colab": {
          "base_uri": "https://localhost:8080/",
          "height": 703
        }
      },
      "source": [
        "pd.DataFrame(losses).plot();"
      ],
      "execution_count": 21,
      "outputs": [
        {
          "output_type": "display_data",
          "data": {
            "image/png": "[encoded data removed]",
            "text/plain": [
              "<Figure size 864x864 with 1 Axes>"
            ]
          },
          "metadata": {
            "tags": [],
            "needs_background": "light"
          }
        }
      ]
    },
    {
      "cell_type": "code",
      "metadata": {
        "ExecuteTime": {
          "end_time": "2019-08-29T13:56:16.564926Z",
          "start_time": "2019-08-29T13:56:16.544481Z"
        },
        "id": "j6_Z8S3SgFwn",
        "colab_type": "code",
        "outputId": "1a42d7b7-e607-4e11-abd3-8f10ad234710",
        "colab": {
          "base_uri": "https://localhost:8080/",
          "height": 34
        }
      },
      "source": [
        "model.load_state_dict(torch.load(models_path))"
      ],
      "execution_count": 22,
      "outputs": [
        {
          "output_type": "execute_result",
          "data": {
            "text/plain": [
              "<All keys matched successfully>"
            ]
          },
          "metadata": {
            "tags": []
          },
          "execution_count": 22
        }
      ]
    },
    {
      "cell_type": "markdown",
      "metadata": {
        "id": "9yBwoQnWypb5",
        "colab_type": "text"
      },
      "source": [
        "## Проверки"
      ]
    },
    {
      "cell_type": "code",
      "metadata": {
        "id": "rDx8tvIeyoe0",
        "colab_type": "code",
        "colab": {}
      },
      "source": [
        "id2tag = {item[1]: item[0] for item in tag2id.items()}\n",
        "UNIQUE_TAGS = [id2tag[i] for i in range(len(tag2id))]\n"
      ],
      "execution_count": 0,
      "outputs": []
    },
    {
      "cell_type": "markdown",
      "metadata": {
        "id": "vaq1J92ryPNx",
        "colab_type": "text"
      },
      "source": [
        "### Проверка - train"
      ]
    },
    {
      "cell_type": "code",
      "metadata": {
        "id": "3aNr47CYdSFa",
        "colab_type": "code",
        "outputId": "4adb0a6d-4785-48d8-9bee-0d7562bde7e3",
        "colab": {
          "base_uri": "https://localhost:8080/",
          "height": 340
        }
      },
      "source": [
        "train_pred = predict_with_model(model, train_dataset)\n",
        "train_golden_tags = tensor_to_tags(train_targets, id2tag)\n",
        "train_pred_tags = tensor_to_tags(train_pred, id2tag)\n",
        "print(classification_report(train_golden_tags, train_pred_tags))\n",
        "print(classification_report(train_golden_tags, train_pred_tags, suffix=True))\n"
      ],
      "execution_count": 24,
      "outputs": [
        {
          "output_type": "stream",
          "text": [
            "472it [00:15, 30.22it/s]                               \n"
          ],
          "name": "stderr"
        },
        {
          "output_type": "stream",
          "text": [
            "           precision    recall  f1-score   support\n",
            "\n",
            "     MISC       0.83      0.84      0.84      5098\n",
            "      ORG       0.87      0.82      0.84      7201\n",
            "      LOC       0.95      0.92      0.93      8100\n",
            "      PER       0.96      0.97      0.97      6860\n",
            "\n",
            "micro avg       0.91      0.89      0.90     27259\n",
            "macro avg       0.91      0.89      0.90     27259\n",
            "\n",
            "           precision    recall  f1-score   support\n",
            "\n",
            "        I       0.93      0.95      0.94     26078\n",
            "        B       0.69      0.52      0.59      1134\n",
            "\n",
            "micro avg       0.92      0.93      0.93     27212\n",
            "macro avg       0.92      0.93      0.92     27212\n",
            "\n"
          ],
          "name": "stdout"
        }
      ]
    },
    {
      "cell_type": "code",
      "metadata": {
        "id": "fw3YNFEfm8va",
        "colab_type": "code",
        "colab": {}
      },
      "source": [
        ""
      ],
      "execution_count": 0,
      "outputs": []
    },
    {
      "cell_type": "markdown",
      "metadata": {
        "id": "5p2jdVB-yUHQ",
        "colab_type": "text"
      },
      "source": [
        "### Проверка - valid"
      ]
    },
    {
      "cell_type": "code",
      "metadata": {
        "id": "qAh6GumkdR4G",
        "colab_type": "code",
        "colab": {
          "base_uri": "https://localhost:8080/",
          "height": 340
        },
        "outputId": "cb3daf0a-e114-4825-b208-2a704429c95a"
      },
      "source": [
        "valid_pred = predict_with_model(model, valid_dataset)\n",
        "\n",
        " \n",
        "valid_golden_tags = tensor_to_tags(valid_targets, id2tag)\n",
        "valid_pred_tags = tensor_to_tags(valid_pred, id2tag)\n",
        "print(classification_report(valid_golden_tags, valid_pred_tags))\n",
        "print(classification_report(valid_golden_tags, valid_pred_tags, suffix=True))\n"
      ],
      "execution_count": 25,
      "outputs": [
        {
          "output_type": "stream",
          "text": [
            "100%|██████████| 102/101.5625 [00:03<00:00, 28.70it/s]\n"
          ],
          "name": "stderr"
        },
        {
          "output_type": "stream",
          "text": [
            "           precision    recall  f1-score   support\n",
            "\n",
            "      PER       0.87      0.86      0.87      1842\n",
            "      ORG       0.78      0.74      0.76      1341\n",
            "      LOC       0.88      0.89      0.89      1837\n",
            "     MISC       0.76      0.80      0.78       922\n",
            "\n",
            "micro avg       0.84      0.83      0.84      5942\n",
            "macro avg       0.84      0.83      0.84      5942\n",
            "\n",
            "           precision    recall  f1-score   support\n",
            "\n",
            "        I       0.92      0.92      0.92      5899\n",
            "        B       0.00      0.00      0.00         4\n",
            "\n",
            "micro avg       0.92      0.92      0.92      5903\n",
            "macro avg       0.92      0.92      0.92      5903\n",
            "\n"
          ],
          "name": "stdout"
        }
      ]
    },
    {
      "cell_type": "markdown",
      "metadata": {
        "id": "CtXo2-Ioybnx",
        "colab_type": "text"
      },
      "source": [
        "### Проверка - test"
      ]
    },
    {
      "cell_type": "code",
      "metadata": {
        "id": "pIC16ECm_58u",
        "colab_type": "code",
        "outputId": "373ec1b0-2ae0-44ea-cc22-cdad660deb1b",
        "colab": {
          "base_uri": "https://localhost:8080/",
          "height": 340
        }
      },
      "source": [
        "test_pred = predict_with_model(model, test_dataset)\n",
        " \n",
        "test_golden_tags = tensor_to_tags(test_targets, id2tag)\n",
        "test_pred_tags = tensor_to_tags(test_pred, id2tag)\n",
        "print(classification_report(test_golden_tags, test_pred_tags))\n",
        "print(classification_report(test_golden_tags, test_pred_tags, suffix=True))"
      ],
      "execution_count": 26,
      "outputs": [
        {
          "output_type": "stream",
          "text": [
            "100%|██████████| 108/107.90625 [00:03<00:00, 29.83it/s]\n"
          ],
          "name": "stderr"
        },
        {
          "output_type": "stream",
          "text": [
            "           precision    recall  f1-score   support\n",
            "\n",
            "     MISC       0.57      0.70      0.63       702\n",
            "      ORG       0.72      0.70      0.71      1661\n",
            "      LOC       0.84      0.85      0.85      1668\n",
            "      PER       0.86      0.82      0.84      1617\n",
            "\n",
            "micro avg       0.77      0.78      0.78      5648\n",
            "macro avg       0.78      0.78      0.78      5648\n",
            "\n",
            "           precision    recall  f1-score   support\n",
            "\n",
            "        I       0.88      0.90      0.89      5599\n",
            "        B       0.00      0.00      0.00        18\n",
            "\n",
            "micro avg       0.88      0.90      0.89      5617\n",
            "macro avg       0.88      0.90      0.89      5617\n",
            "\n"
          ],
          "name": "stdout"
        }
      ]
    },
    {
      "cell_type": "markdown",
      "metadata": {
        "id": "8tZ3TbhngFxV",
        "colab_type": "text"
      },
      "source": [
        "## Применение теггера"
      ]
    },
    {
      "cell_type": "code",
      "metadata": {
        "id": "dBORSeRvdITg",
        "colab_type": "code",
        "colab": {}
      },
      "source": [
        "!python -m spacy download en_core_web_sm > /dev/null\n",
        "nlp = spacy.load('en_core_web_sm')"
      ],
      "execution_count": 0,
      "outputs": []
    },
    {
      "cell_type": "code",
      "metadata": {
        "ExecuteTime": {
          "end_time": "2019-08-29T13:56:42.105418Z",
          "start_time": "2019-08-29T13:56:42.093744Z"
        },
        "id": "gM1646Q7gFxX",
        "colab_type": "code",
        "colab": {}
      },
      "source": [
        "\n",
        "ner_tagger = NERTagger(model, bpe_tokenizer, UNIQUE_TAGS, max_sent_len, max_token_len, BPE_DROPOUT)"
      ],
      "execution_count": 0,
      "outputs": []
    },
    {
      "cell_type": "markdown",
      "metadata": {
        "id": "qGbRPrQ1oMM_",
        "colab_type": "text"
      },
      "source": [
        "Несколько предложений из новостей с сайта [BBC](https://www.bbc.com/news)"
      ]
    },
    {
      "cell_type": "code",
      "metadata": {
        "ExecuteTime": {
          "end_time": "2019-08-29T13:56:42.125540Z",
          "start_time": "2019-08-29T13:56:42.106771Z"
        },
        "id": "JHOY3BpZgFxd",
        "colab_type": "code",
        "colab": {}
      },
      "source": [
        "test_sentences = [\n",
        "    'Mr Trump said Mr Linick no longer had his full confidence and that he would be removed in 30 days.',\n",
        "    'Mr Linick had begun investigating Secretary of State Mike Pompeo for suspected abuse of office, reports say.',\n",
        "    'Democrats say Mr Trump is retaliating against public servants who want to hold his administration to account.',\n",
        "    'Donald Trump, who is campaigning for re-election in November, has stepped up his attacks on China in recent weeks, blaming it for the spread of Covid-19.',\n",
        "    'The team led by Fernando Novas from the Natural Sciences Museum in Buenos Aires discovered many fossils during its month-long field work in Estancia La Anita, in southern Santa Cruz province.',\n",
        "    \"The rehearsal at Kennedy Space Center saw a Falcon-9 vehicle's ascent into the sky deliberately terminated just 80 seconds after lift-off.\"\n",
        "]\n",
        "test_sentences_tokenized = tokenize_corpus(test_sentences)\n",
        "# test_sentences_tokenized = [[token.text for token in nlp.tokenizer(sent) ] for sent in test_sentences]"
      ],
      "execution_count": 0,
      "outputs": []
    },
    {
      "cell_type": "code",
      "metadata": {
        "id": "TxHF5NAVFuvi",
        "colab_type": "code",
        "outputId": "e99e4391-d733-49ec-ddb5-71236fa9a848",
        "colab": {
          "base_uri": "https://localhost:8080/",
          "height": 170
        }
      },
      "source": [
        "for sent_tokens, sent_tags in zip(test_sentences_tokenized, ner_tagger(test_sentences)):\n",
        "    highlight_text(sent_tokens, sent_tags)"
      ],
      "execution_count": 30,
      "outputs": [
        {
          "output_type": "stream",
          "text": [
            "1it [00:00, 75.73it/s]                    \n"
          ],
          "name": "stderr"
        },
        {
          "output_type": "display_data",
          "data": {
            "text/html": [
              "<div class=\"tex2jax_ignore\" style=\"white-space: pre-wrap\"><span style=\"padding: 2px; border-radius: 4px; border: 1px solid #bbdefb; background: #e3f2fd\">Mr<span style=\"vertical-align: middle; margin-left: 2px; font-size: 0.7em; color: #64b5f6;\">O</span></span> <span style=\"padding: 2px; border-radius: 4px; border: 1px solid #bbdefb; background: #e3f2fd\">Trump<span style=\"vertical-align: middle; margin-left: 2px; font-size: 0.7em; color: #64b5f6;\">O</span></span> <span style=\"padding: 2px; border-radius: 4px; border: 1px solid #bbdefb; background: #e3f2fd\">said<span style=\"vertical-align: middle; margin-left: 2px; font-size: 0.7em; color: #64b5f6;\">O</span></span> <span style=\"padding: 2px; border-radius: 4px; border: 1px solid #bbdefb; background: #e3f2fd\">Mr<span style=\"vertical-align: middle; margin-left: 2px; font-size: 0.7em; color: #64b5f6;\">O</span></span> <span style=\"padding: 2px; border-radius: 4px; border: 1px solid #c8e6c9; background: #e8f5e9\">Linick<span style=\"vertical-align: middle; margin-left: 2px; font-size: 0.7em; color: #66bb6a;\">I-PER</span></span> <span style=\"padding: 2px; border-radius: 4px; border: 1px solid #bbdefb; background: #e3f2fd\">no<span style=\"vertical-align: middle; margin-left: 2px; font-size: 0.7em; color: #64b5f6;\">O</span></span> <span style=\"padding: 2px; border-radius: 4px; border: 1px solid #bbdefb; background: #e3f2fd\">longer<span style=\"vertical-align: middle; margin-left: 2px; font-size: 0.7em; color: #64b5f6;\">O</span></span> <span style=\"padding: 2px; border-radius: 4px; border: 1px solid #bbdefb; background: #e3f2fd\">had<span style=\"vertical-align: middle; margin-left: 2px; font-size: 0.7em; color: #64b5f6;\">O</span></span> <span style=\"padding: 2px; border-radius: 4px; border: 1px solid #bbdefb; background: #e3f2fd\">his<span style=\"vertical-align: middle; margin-left: 2px; font-size: 0.7em; color: #64b5f6;\">O</span></span> <span style=\"padding: 2px; border-radius: 4px; border: 1px solid #bbdefb; background: #e3f2fd\">full<span style=\"vertical-align: middle; margin-left: 2px; font-size: 0.7em; color: #64b5f6;\">O</span></span> <span style=\"padding: 2px; border-radius: 4px; border: 1px solid #bbdefb; background: #e3f2fd\">confidence<span style=\"vertical-align: middle; margin-left: 2px; font-size: 0.7em; color: #64b5f6;\">O</span></span> <span style=\"padding: 2px; border-radius: 4px; border: 1px solid #bbdefb; background: #e3f2fd\">and<span style=\"vertical-align: middle; margin-left: 2px; font-size: 0.7em; color: #64b5f6;\">O</span></span> <span style=\"padding: 2px; border-radius: 4px; border: 1px solid #bbdefb; background: #e3f2fd\">that<span style=\"vertical-align: middle; margin-left: 2px; font-size: 0.7em; color: #64b5f6;\">O</span></span> <span style=\"padding: 2px; border-radius: 4px; border: 1px solid #bbdefb; background: #e3f2fd\">he<span style=\"vertical-align: middle; margin-left: 2px; font-size: 0.7em; color: #64b5f6;\">O</span></span> <span style=\"padding: 2px; border-radius: 4px; border: 1px solid #bbdefb; background: #e3f2fd\">would<span style=\"vertical-align: middle; margin-left: 2px; font-size: 0.7em; color: #64b5f6;\">O</span></span> <span style=\"padding: 2px; border-radius: 4px; border: 1px solid #bbdefb; background: #e3f2fd\">be<span style=\"vertical-align: middle; margin-left: 2px; font-size: 0.7em; color: #64b5f6;\">O</span></span> <span style=\"padding: 2px; border-radius: 4px; border: 1px solid #bbdefb; background: #e3f2fd\">removed<span style=\"vertical-align: middle; margin-left: 2px; font-size: 0.7em; color: #64b5f6;\">O</span></span> <span style=\"padding: 2px; border-radius: 4px; border: 1px solid #bbdefb; background: #e3f2fd\">in<span style=\"vertical-align: middle; margin-left: 2px; font-size: 0.7em; color: #64b5f6;\">O</span></span> <span style=\"padding: 2px; border-radius: 4px; border: 1px solid #bbdefb; background: #e3f2fd\">30<span style=\"vertical-align: middle; margin-left: 2px; font-size: 0.7em; color: #64b5f6;\">O</span></span> <span style=\"padding: 2px; border-radius: 4px; border: 1px solid #bbdefb; background: #e3f2fd\">days<span style=\"vertical-align: middle; margin-left: 2px; font-size: 0.7em; color: #64b5f6;\">O</span></span> <span style=\"padding: 2px; border-radius: 4px; border: 1px solid #bbdefb; background: #e3f2fd\">.<span style=\"vertical-align: middle; margin-left: 2px; font-size: 0.7em; color: #64b5f6;\">O</span></span></div>"
            ],
            "text/plain": [
              "<IPython.core.display.HTML object>"
            ]
          },
          "metadata": {
            "tags": []
          }
        },
        {
          "output_type": "display_data",
          "data": {
            "text/html": [
              "<div class=\"tex2jax_ignore\" style=\"white-space: pre-wrap\"><span style=\"padding: 2px; border-radius: 4px; border: 1px solid #bbdefb; background: #e3f2fd\">Mr<span style=\"vertical-align: middle; margin-left: 2px; font-size: 0.7em; color: #64b5f6;\">O</span></span> <span style=\"padding: 2px; border-radius: 4px; border: 1px solid #c8e6c9; background: #e8f5e9\">Linick<span style=\"vertical-align: middle; margin-left: 2px; font-size: 0.7em; color: #66bb6a;\">I-PER</span></span> <span style=\"padding: 2px; border-radius: 4px; border: 1px solid #bbdefb; background: #e3f2fd\">had<span style=\"vertical-align: middle; margin-left: 2px; font-size: 0.7em; color: #64b5f6;\">O</span></span> <span style=\"padding: 2px; border-radius: 4px; border: 1px solid #bbdefb; background: #e3f2fd\">begun<span style=\"vertical-align: middle; margin-left: 2px; font-size: 0.7em; color: #64b5f6;\">O</span></span> <span style=\"padding: 2px; border-radius: 4px; border: 1px solid #bbdefb; background: #e3f2fd\">investigating<span style=\"vertical-align: middle; margin-left: 2px; font-size: 0.7em; color: #64b5f6;\">O</span></span> <span style=\"padding: 2px; border-radius: 4px; border: 1px solid #bbdefb; background: #e3f2fd\">Secretary<span style=\"vertical-align: middle; margin-left: 2px; font-size: 0.7em; color: #64b5f6;\">O</span></span> <span style=\"padding: 2px; border-radius: 4px; border: 1px solid #bbdefb; background: #e3f2fd\">of<span style=\"vertical-align: middle; margin-left: 2px; font-size: 0.7em; color: #64b5f6;\">O</span></span> <span style=\"padding: 2px; border-radius: 4px; border: 1px solid #ffcdd2; background: #ffebee\">State<span style=\"vertical-align: middle; margin-left: 2px; font-size: 0.7em; color: #e57373;\">I-ORG</span></span> <span style=\"padding: 2px; border-radius: 4px; border: 1px solid #ffcdd2; background: #ffebee\">Mike<span style=\"vertical-align: middle; margin-left: 2px; font-size: 0.7em; color: #e57373;\">I-ORG</span></span> <span style=\"padding: 2px; border-radius: 4px; border: 1px solid #ffcdd2; background: #ffebee\">Pompeo<span style=\"vertical-align: middle; margin-left: 2px; font-size: 0.7em; color: #e57373;\">I-ORG</span></span> <span style=\"padding: 2px; border-radius: 4px; border: 1px solid #bbdefb; background: #e3f2fd\">for<span style=\"vertical-align: middle; margin-left: 2px; font-size: 0.7em; color: #64b5f6;\">O</span></span> <span style=\"padding: 2px; border-radius: 4px; border: 1px solid #bbdefb; background: #e3f2fd\">suspected<span style=\"vertical-align: middle; margin-left: 2px; font-size: 0.7em; color: #64b5f6;\">O</span></span> <span style=\"padding: 2px; border-radius: 4px; border: 1px solid #bbdefb; background: #e3f2fd\">abuse<span style=\"vertical-align: middle; margin-left: 2px; font-size: 0.7em; color: #64b5f6;\">O</span></span> <span style=\"padding: 2px; border-radius: 4px; border: 1px solid #bbdefb; background: #e3f2fd\">of<span style=\"vertical-align: middle; margin-left: 2px; font-size: 0.7em; color: #64b5f6;\">O</span></span> <span style=\"padding: 2px; border-radius: 4px; border: 1px solid #bbdefb; background: #e3f2fd\">office<span style=\"vertical-align: middle; margin-left: 2px; font-size: 0.7em; color: #64b5f6;\">O</span></span> <span style=\"padding: 2px; border-radius: 4px; border: 1px solid #bbdefb; background: #e3f2fd\">,<span style=\"vertical-align: middle; margin-left: 2px; font-size: 0.7em; color: #64b5f6;\">O</span></span> <span style=\"padding: 2px; border-radius: 4px; border: 1px solid #bbdefb; background: #e3f2fd\">reports<span style=\"vertical-align: middle; margin-left: 2px; font-size: 0.7em; color: #64b5f6;\">O</span></span> <span style=\"padding: 2px; border-radius: 4px; border: 1px solid #bbdefb; background: #e3f2fd\">say<span style=\"vertical-align: middle; margin-left: 2px; font-size: 0.7em; color: #64b5f6;\">O</span></span> <span style=\"padding: 2px; border-radius: 4px; border: 1px solid #bbdefb; background: #e3f2fd\">.<span style=\"vertical-align: middle; margin-left: 2px; font-size: 0.7em; color: #64b5f6;\">O</span></span></div>"
            ],
            "text/plain": [
              "<IPython.core.display.HTML object>"
            ]
          },
          "metadata": {
            "tags": []
          }
        },
        {
          "output_type": "display_data",
          "data": {
            "text/html": [
              "<div class=\"tex2jax_ignore\" style=\"white-space: pre-wrap\"><span style=\"padding: 2px; border-radius: 4px; border: 1px solid #ffe0b2; background: #fff3e0\">Democrats<span style=\"vertical-align: middle; margin-left: 2px; font-size: 0.7em; color: #ffb74d;\">I-MISC</span></span> <span style=\"padding: 2px; border-radius: 4px; border: 1px solid #bbdefb; background: #e3f2fd\">say<span style=\"vertical-align: middle; margin-left: 2px; font-size: 0.7em; color: #64b5f6;\">O</span></span> <span style=\"padding: 2px; border-radius: 4px; border: 1px solid #bbdefb; background: #e3f2fd\">Mr<span style=\"vertical-align: middle; margin-left: 2px; font-size: 0.7em; color: #64b5f6;\">O</span></span> <span style=\"padding: 2px; border-radius: 4px; border: 1px solid #bbdefb; background: #e3f2fd\">Trump<span style=\"vertical-align: middle; margin-left: 2px; font-size: 0.7em; color: #64b5f6;\">O</span></span> <span style=\"padding: 2px; border-radius: 4px; border: 1px solid #bbdefb; background: #e3f2fd\">is<span style=\"vertical-align: middle; margin-left: 2px; font-size: 0.7em; color: #64b5f6;\">O</span></span> <span style=\"padding: 2px; border-radius: 4px; border: 1px solid #bbdefb; background: #e3f2fd\">retaliating<span style=\"vertical-align: middle; margin-left: 2px; font-size: 0.7em; color: #64b5f6;\">O</span></span> <span style=\"padding: 2px; border-radius: 4px; border: 1px solid #bbdefb; background: #e3f2fd\">against<span style=\"vertical-align: middle; margin-left: 2px; font-size: 0.7em; color: #64b5f6;\">O</span></span> <span style=\"padding: 2px; border-radius: 4px; border: 1px solid #bbdefb; background: #e3f2fd\">public<span style=\"vertical-align: middle; margin-left: 2px; font-size: 0.7em; color: #64b5f6;\">O</span></span> <span style=\"padding: 2px; border-radius: 4px; border: 1px solid #bbdefb; background: #e3f2fd\">servants<span style=\"vertical-align: middle; margin-left: 2px; font-size: 0.7em; color: #64b5f6;\">O</span></span> <span style=\"padding: 2px; border-radius: 4px; border: 1px solid #bbdefb; background: #e3f2fd\">who<span style=\"vertical-align: middle; margin-left: 2px; font-size: 0.7em; color: #64b5f6;\">O</span></span> <span style=\"padding: 2px; border-radius: 4px; border: 1px solid #bbdefb; background: #e3f2fd\">want<span style=\"vertical-align: middle; margin-left: 2px; font-size: 0.7em; color: #64b5f6;\">O</span></span> <span style=\"padding: 2px; border-radius: 4px; border: 1px solid #bbdefb; background: #e3f2fd\">to<span style=\"vertical-align: middle; margin-left: 2px; font-size: 0.7em; color: #64b5f6;\">O</span></span> <span style=\"padding: 2px; border-radius: 4px; border: 1px solid #bbdefb; background: #e3f2fd\">hold<span style=\"vertical-align: middle; margin-left: 2px; font-size: 0.7em; color: #64b5f6;\">O</span></span> <span style=\"padding: 2px; border-radius: 4px; border: 1px solid #bbdefb; background: #e3f2fd\">his<span style=\"vertical-align: middle; margin-left: 2px; font-size: 0.7em; color: #64b5f6;\">O</span></span> <span style=\"padding: 2px; border-radius: 4px; border: 1px solid #bbdefb; background: #e3f2fd\">administration<span style=\"vertical-align: middle; margin-left: 2px; font-size: 0.7em; color: #64b5f6;\">O</span></span> <span style=\"padding: 2px; border-radius: 4px; border: 1px solid #bbdefb; background: #e3f2fd\">to<span style=\"vertical-align: middle; margin-left: 2px; font-size: 0.7em; color: #64b5f6;\">O</span></span> <span style=\"padding: 2px; border-radius: 4px; border: 1px solid #bbdefb; background: #e3f2fd\">account<span style=\"vertical-align: middle; margin-left: 2px; font-size: 0.7em; color: #64b5f6;\">O</span></span> <span style=\"padding: 2px; border-radius: 4px; border: 1px solid #bbdefb; background: #e3f2fd\">.<span style=\"vertical-align: middle; margin-left: 2px; font-size: 0.7em; color: #64b5f6;\">O</span></span></div>"
            ],
            "text/plain": [
              "<IPython.core.display.HTML object>"
            ]
          },
          "metadata": {
            "tags": []
          }
        },
        {
          "output_type": "display_data",
          "data": {
            "text/html": [
              "<div class=\"tex2jax_ignore\" style=\"white-space: pre-wrap\"><span style=\"padding: 2px; border-radius: 4px; border: 1px solid #c8e6c9; background: #e8f5e9\">Donald<span style=\"vertical-align: middle; margin-left: 2px; font-size: 0.7em; color: #66bb6a;\">I-PER</span></span> <span style=\"padding: 2px; border-radius: 4px; border: 1px solid #c8e6c9; background: #e8f5e9\">Trump<span style=\"vertical-align: middle; margin-left: 2px; font-size: 0.7em; color: #66bb6a;\">I-PER</span></span> <span style=\"padding: 2px; border-radius: 4px; border: 1px solid #bbdefb; background: #e3f2fd\">,<span style=\"vertical-align: middle; margin-left: 2px; font-size: 0.7em; color: #64b5f6;\">O</span></span> <span style=\"padding: 2px; border-radius: 4px; border: 1px solid #bbdefb; background: #e3f2fd\">who<span style=\"vertical-align: middle; margin-left: 2px; font-size: 0.7em; color: #64b5f6;\">O</span></span> <span style=\"padding: 2px; border-radius: 4px; border: 1px solid #bbdefb; background: #e3f2fd\">is<span style=\"vertical-align: middle; margin-left: 2px; font-size: 0.7em; color: #64b5f6;\">O</span></span> <span style=\"padding: 2px; border-radius: 4px; border: 1px solid #bbdefb; background: #e3f2fd\">campaigning<span style=\"vertical-align: middle; margin-left: 2px; font-size: 0.7em; color: #64b5f6;\">O</span></span> <span style=\"padding: 2px; border-radius: 4px; border: 1px solid #bbdefb; background: #e3f2fd\">for<span style=\"vertical-align: middle; margin-left: 2px; font-size: 0.7em; color: #64b5f6;\">O</span></span> <span style=\"padding: 2px; border-radius: 4px; border: 1px solid #bbdefb; background: #e3f2fd\">re<span style=\"vertical-align: middle; margin-left: 2px; font-size: 0.7em; color: #64b5f6;\">O</span></span> <span style=\"padding: 2px; border-radius: 4px; border: 1px solid #bbdefb; background: #e3f2fd\">-<span style=\"vertical-align: middle; margin-left: 2px; font-size: 0.7em; color: #64b5f6;\">O</span></span> <span style=\"padding: 2px; border-radius: 4px; border: 1px solid #bbdefb; background: #e3f2fd\">election<span style=\"vertical-align: middle; margin-left: 2px; font-size: 0.7em; color: #64b5f6;\">O</span></span> <span style=\"padding: 2px; border-radius: 4px; border: 1px solid #bbdefb; background: #e3f2fd\">in<span style=\"vertical-align: middle; margin-left: 2px; font-size: 0.7em; color: #64b5f6;\">O</span></span> <span style=\"padding: 2px; border-radius: 4px; border: 1px solid #bbdefb; background: #e3f2fd\">November<span style=\"vertical-align: middle; margin-left: 2px; font-size: 0.7em; color: #64b5f6;\">O</span></span> <span style=\"padding: 2px; border-radius: 4px; border: 1px solid #bbdefb; background: #e3f2fd\">,<span style=\"vertical-align: middle; margin-left: 2px; font-size: 0.7em; color: #64b5f6;\">O</span></span> <span style=\"padding: 2px; border-radius: 4px; border: 1px solid #bbdefb; background: #e3f2fd\">has<span style=\"vertical-align: middle; margin-left: 2px; font-size: 0.7em; color: #64b5f6;\">O</span></span> <span style=\"padding: 2px; border-radius: 4px; border: 1px solid #bbdefb; background: #e3f2fd\">stepped<span style=\"vertical-align: middle; margin-left: 2px; font-size: 0.7em; color: #64b5f6;\">O</span></span> <span style=\"padding: 2px; border-radius: 4px; border: 1px solid #bbdefb; background: #e3f2fd\">up<span style=\"vertical-align: middle; margin-left: 2px; font-size: 0.7em; color: #64b5f6;\">O</span></span> <span style=\"padding: 2px; border-radius: 4px; border: 1px solid #bbdefb; background: #e3f2fd\">his<span style=\"vertical-align: middle; margin-left: 2px; font-size: 0.7em; color: #64b5f6;\">O</span></span> <span style=\"padding: 2px; border-radius: 4px; border: 1px solid #bbdefb; background: #e3f2fd\">attacks<span style=\"vertical-align: middle; margin-left: 2px; font-size: 0.7em; color: #64b5f6;\">O</span></span> <span style=\"padding: 2px; border-radius: 4px; border: 1px solid #bbdefb; background: #e3f2fd\">on<span style=\"vertical-align: middle; margin-left: 2px; font-size: 0.7em; color: #64b5f6;\">O</span></span> <span style=\"padding: 2px; border-radius: 4px; border: 1px solid #d1c4e9; background: #ede7f6\">China<span style=\"vertical-align: middle; margin-left: 2px; font-size: 0.7em; color: #9575cd;\">I-LOC</span></span> <span style=\"padding: 2px; border-radius: 4px; border: 1px solid #bbdefb; background: #e3f2fd\">in<span style=\"vertical-align: middle; margin-left: 2px; font-size: 0.7em; color: #64b5f6;\">O</span></span> <span style=\"padding: 2px; border-radius: 4px; border: 1px solid #bbdefb; background: #e3f2fd\">recent<span style=\"vertical-align: middle; margin-left: 2px; font-size: 0.7em; color: #64b5f6;\">O</span></span> <span style=\"padding: 2px; border-radius: 4px; border: 1px solid #bbdefb; background: #e3f2fd\">weeks<span style=\"vertical-align: middle; margin-left: 2px; font-size: 0.7em; color: #64b5f6;\">O</span></span> <span style=\"padding: 2px; border-radius: 4px; border: 1px solid #bbdefb; background: #e3f2fd\">,<span style=\"vertical-align: middle; margin-left: 2px; font-size: 0.7em; color: #64b5f6;\">O</span></span> <span style=\"padding: 2px; border-radius: 4px; border: 1px solid #bbdefb; background: #e3f2fd\">blaming<span style=\"vertical-align: middle; margin-left: 2px; font-size: 0.7em; color: #64b5f6;\">O</span></span> <span style=\"padding: 2px; border-radius: 4px; border: 1px solid #bbdefb; background: #e3f2fd\">it<span style=\"vertical-align: middle; margin-left: 2px; font-size: 0.7em; color: #64b5f6;\">O</span></span> <span style=\"padding: 2px; border-radius: 4px; border: 1px solid #bbdefb; background: #e3f2fd\">for<span style=\"vertical-align: middle; margin-left: 2px; font-size: 0.7em; color: #64b5f6;\">O</span></span> <span style=\"padding: 2px; border-radius: 4px; border: 1px solid #bbdefb; background: #e3f2fd\">the<span style=\"vertical-align: middle; margin-left: 2px; font-size: 0.7em; color: #64b5f6;\">O</span></span> <span style=\"padding: 2px; border-radius: 4px; border: 1px solid #bbdefb; background: #e3f2fd\">spread<span style=\"vertical-align: middle; margin-left: 2px; font-size: 0.7em; color: #64b5f6;\">O</span></span> <span style=\"padding: 2px; border-radius: 4px; border: 1px solid #bbdefb; background: #e3f2fd\">of<span style=\"vertical-align: middle; margin-left: 2px; font-size: 0.7em; color: #64b5f6;\">O</span></span> <span style=\"padding: 2px; border-radius: 4px; border: 1px solid #bbdefb; background: #e3f2fd\">Covid-19<span style=\"vertical-align: middle; margin-left: 2px; font-size: 0.7em; color: #64b5f6;\">O</span></span> <span style=\"padding: 2px; border-radius: 4px; border: 1px solid #bbdefb; background: #e3f2fd\">.<span style=\"vertical-align: middle; margin-left: 2px; font-size: 0.7em; color: #64b5f6;\">O</span></span></div>"
            ],
            "text/plain": [
              "<IPython.core.display.HTML object>"
            ]
          },
          "metadata": {
            "tags": []
          }
        },
        {
          "output_type": "display_data",
          "data": {
            "text/html": [
              "<div class=\"tex2jax_ignore\" style=\"white-space: pre-wrap\"><span style=\"padding: 2px; border-radius: 4px; border: 1px solid #bbdefb; background: #e3f2fd\">The<span style=\"vertical-align: middle; margin-left: 2px; font-size: 0.7em; color: #64b5f6;\">O</span></span> <span style=\"padding: 2px; border-radius: 4px; border: 1px solid #bbdefb; background: #e3f2fd\">team<span style=\"vertical-align: middle; margin-left: 2px; font-size: 0.7em; color: #64b5f6;\">O</span></span> <span style=\"padding: 2px; border-radius: 4px; border: 1px solid #bbdefb; background: #e3f2fd\">led<span style=\"vertical-align: middle; margin-left: 2px; font-size: 0.7em; color: #64b5f6;\">O</span></span> <span style=\"padding: 2px; border-radius: 4px; border: 1px solid #bbdefb; background: #e3f2fd\">by<span style=\"vertical-align: middle; margin-left: 2px; font-size: 0.7em; color: #64b5f6;\">O</span></span> <span style=\"padding: 2px; border-radius: 4px; border: 1px solid #c8e6c9; background: #e8f5e9\">Fernando<span style=\"vertical-align: middle; margin-left: 2px; font-size: 0.7em; color: #66bb6a;\">I-PER</span></span> <span style=\"padding: 2px; border-radius: 4px; border: 1px solid #c8e6c9; background: #e8f5e9\">Novas<span style=\"vertical-align: middle; margin-left: 2px; font-size: 0.7em; color: #66bb6a;\">I-PER</span></span> <span style=\"padding: 2px; border-radius: 4px; border: 1px solid #bbdefb; background: #e3f2fd\">from<span style=\"vertical-align: middle; margin-left: 2px; font-size: 0.7em; color: #64b5f6;\">O</span></span> <span style=\"padding: 2px; border-radius: 4px; border: 1px solid #bbdefb; background: #e3f2fd\">the<span style=\"vertical-align: middle; margin-left: 2px; font-size: 0.7em; color: #64b5f6;\">O</span></span> <span style=\"padding: 2px; border-radius: 4px; border: 1px solid #d1c4e9; background: #ede7f6\">Natural<span style=\"vertical-align: middle; margin-left: 2px; font-size: 0.7em; color: #9575cd;\">I-LOC</span></span> <span style=\"padding: 2px; border-radius: 4px; border: 1px solid #d1c4e9; background: #ede7f6\">Sciences<span style=\"vertical-align: middle; margin-left: 2px; font-size: 0.7em; color: #9575cd;\">I-LOC</span></span> <span style=\"padding: 2px; border-radius: 4px; border: 1px solid #d1c4e9; background: #ede7f6\">Museum<span style=\"vertical-align: middle; margin-left: 2px; font-size: 0.7em; color: #9575cd;\">I-LOC</span></span> <span style=\"padding: 2px; border-radius: 4px; border: 1px solid #bbdefb; background: #e3f2fd\">in<span style=\"vertical-align: middle; margin-left: 2px; font-size: 0.7em; color: #64b5f6;\">O</span></span> <span style=\"padding: 2px; border-radius: 4px; border: 1px solid #d1c4e9; background: #ede7f6\">Buenos<span style=\"vertical-align: middle; margin-left: 2px; font-size: 0.7em; color: #9575cd;\">I-LOC</span></span> <span style=\"padding: 2px; border-radius: 4px; border: 1px solid #d1c4e9; background: #ede7f6\">Aires<span style=\"vertical-align: middle; margin-left: 2px; font-size: 0.7em; color: #9575cd;\">I-LOC</span></span> <span style=\"padding: 2px; border-radius: 4px; border: 1px solid #bbdefb; background: #e3f2fd\">discovered<span style=\"vertical-align: middle; margin-left: 2px; font-size: 0.7em; color: #64b5f6;\">O</span></span> <span style=\"padding: 2px; border-radius: 4px; border: 1px solid #bbdefb; background: #e3f2fd\">many<span style=\"vertical-align: middle; margin-left: 2px; font-size: 0.7em; color: #64b5f6;\">O</span></span> <span style=\"padding: 2px; border-radius: 4px; border: 1px solid #bbdefb; background: #e3f2fd\">fossils<span style=\"vertical-align: middle; margin-left: 2px; font-size: 0.7em; color: #64b5f6;\">O</span></span> <span style=\"padding: 2px; border-radius: 4px; border: 1px solid #bbdefb; background: #e3f2fd\">during<span style=\"vertical-align: middle; margin-left: 2px; font-size: 0.7em; color: #64b5f6;\">O</span></span> <span style=\"padding: 2px; border-radius: 4px; border: 1px solid #bbdefb; background: #e3f2fd\">its<span style=\"vertical-align: middle; margin-left: 2px; font-size: 0.7em; color: #64b5f6;\">O</span></span> <span style=\"padding: 2px; border-radius: 4px; border: 1px solid #bbdefb; background: #e3f2fd\">month<span style=\"vertical-align: middle; margin-left: 2px; font-size: 0.7em; color: #64b5f6;\">O</span></span> <span style=\"padding: 2px; border-radius: 4px; border: 1px solid #bbdefb; background: #e3f2fd\">-<span style=\"vertical-align: middle; margin-left: 2px; font-size: 0.7em; color: #64b5f6;\">O</span></span> <span style=\"padding: 2px; border-radius: 4px; border: 1px solid #bbdefb; background: #e3f2fd\">long<span style=\"vertical-align: middle; margin-left: 2px; font-size: 0.7em; color: #64b5f6;\">O</span></span> <span style=\"padding: 2px; border-radius: 4px; border: 1px solid #bbdefb; background: #e3f2fd\">field<span style=\"vertical-align: middle; margin-left: 2px; font-size: 0.7em; color: #64b5f6;\">O</span></span> <span style=\"padding: 2px; border-radius: 4px; border: 1px solid #bbdefb; background: #e3f2fd\">work<span style=\"vertical-align: middle; margin-left: 2px; font-size: 0.7em; color: #64b5f6;\">O</span></span> <span style=\"padding: 2px; border-radius: 4px; border: 1px solid #bbdefb; background: #e3f2fd\">in<span style=\"vertical-align: middle; margin-left: 2px; font-size: 0.7em; color: #64b5f6;\">O</span></span> <span style=\"padding: 2px; border-radius: 4px; border: 1px solid #d1c4e9; background: #ede7f6\">Estancia<span style=\"vertical-align: middle; margin-left: 2px; font-size: 0.7em; color: #9575cd;\">I-LOC</span></span> <span style=\"padding: 2px; border-radius: 4px; border: 1px solid #d1c4e9; background: #ede7f6\">La<span style=\"vertical-align: middle; margin-left: 2px; font-size: 0.7em; color: #9575cd;\">I-LOC</span></span> <span style=\"padding: 2px; border-radius: 4px; border: 1px solid #d1c4e9; background: #ede7f6\">Anita<span style=\"vertical-align: middle; margin-left: 2px; font-size: 0.7em; color: #9575cd;\">I-LOC</span></span> <span style=\"padding: 2px; border-radius: 4px; border: 1px solid #bbdefb; background: #e3f2fd\">,<span style=\"vertical-align: middle; margin-left: 2px; font-size: 0.7em; color: #64b5f6;\">O</span></span> <span style=\"padding: 2px; border-radius: 4px; border: 1px solid #bbdefb; background: #e3f2fd\">in<span style=\"vertical-align: middle; margin-left: 2px; font-size: 0.7em; color: #64b5f6;\">O</span></span> <span style=\"padding: 2px; border-radius: 4px; border: 1px solid #bbdefb; background: #e3f2fd\">southern<span style=\"vertical-align: middle; margin-left: 2px; font-size: 0.7em; color: #64b5f6;\">O</span></span> <span style=\"padding: 2px; border-radius: 4px; border: 1px solid #d1c4e9; background: #ede7f6\">Santa<span style=\"vertical-align: middle; margin-left: 2px; font-size: 0.7em; color: #9575cd;\">I-LOC</span></span> <span style=\"padding: 2px; border-radius: 4px; border: 1px solid #d1c4e9; background: #ede7f6\">Cruz<span style=\"vertical-align: middle; margin-left: 2px; font-size: 0.7em; color: #9575cd;\">I-LOC</span></span> <span style=\"padding: 2px; border-radius: 4px; border: 1px solid #bbdefb; background: #e3f2fd\">province<span style=\"vertical-align: middle; margin-left: 2px; font-size: 0.7em; color: #64b5f6;\">O</span></span> <span style=\"padding: 2px; border-radius: 4px; border: 1px solid #bbdefb; background: #e3f2fd\">.<span style=\"vertical-align: middle; margin-left: 2px; font-size: 0.7em; color: #64b5f6;\">O</span></span></div>"
            ],
            "text/plain": [
              "<IPython.core.display.HTML object>"
            ]
          },
          "metadata": {
            "tags": []
          }
        },
        {
          "output_type": "display_data",
          "data": {
            "text/html": [
              "<div class=\"tex2jax_ignore\" style=\"white-space: pre-wrap\"><span style=\"padding: 2px; border-radius: 4px; border: 1px solid #bbdefb; background: #e3f2fd\">The<span style=\"vertical-align: middle; margin-left: 2px; font-size: 0.7em; color: #64b5f6;\">O</span></span> <span style=\"padding: 2px; border-radius: 4px; border: 1px solid #bbdefb; background: #e3f2fd\">rehearsal<span style=\"vertical-align: middle; margin-left: 2px; font-size: 0.7em; color: #64b5f6;\">O</span></span> <span style=\"padding: 2px; border-radius: 4px; border: 1px solid #bbdefb; background: #e3f2fd\">at<span style=\"vertical-align: middle; margin-left: 2px; font-size: 0.7em; color: #64b5f6;\">O</span></span> <span style=\"padding: 2px; border-radius: 4px; border: 1px solid #c8e6c9; background: #e8f5e9\">Kennedy<span style=\"vertical-align: middle; margin-left: 2px; font-size: 0.7em; color: #66bb6a;\">I-PER</span></span> <span style=\"padding: 2px; border-radius: 4px; border: 1px solid #c8e6c9; background: #e8f5e9\">Space<span style=\"vertical-align: middle; margin-left: 2px; font-size: 0.7em; color: #66bb6a;\">I-PER</span></span> <span style=\"padding: 2px; border-radius: 4px; border: 1px solid #c8e6c9; background: #e8f5e9\">Center<span style=\"vertical-align: middle; margin-left: 2px; font-size: 0.7em; color: #66bb6a;\">I-PER</span></span> <span style=\"padding: 2px; border-radius: 4px; border: 1px solid #bbdefb; background: #e3f2fd\">saw<span style=\"vertical-align: middle; margin-left: 2px; font-size: 0.7em; color: #64b5f6;\">O</span></span> <span style=\"padding: 2px; border-radius: 4px; border: 1px solid #bbdefb; background: #e3f2fd\">a<span style=\"vertical-align: middle; margin-left: 2px; font-size: 0.7em; color: #64b5f6;\">O</span></span> <span style=\"padding: 2px; border-radius: 4px; border: 1px solid #ffe0b2; background: #fff3e0\">Falcon-9<span style=\"vertical-align: middle; margin-left: 2px; font-size: 0.7em; color: #ffb74d;\">I-MISC</span></span> <span style=\"padding: 2px; border-radius: 4px; border: 1px solid #bbdefb; background: #e3f2fd\">vehicle<span style=\"vertical-align: middle; margin-left: 2px; font-size: 0.7em; color: #64b5f6;\">O</span></span> <span style=\"padding: 2px; border-radius: 4px; border: 1px solid #bbdefb; background: #e3f2fd\">&#x27;s<span style=\"vertical-align: middle; margin-left: 2px; font-size: 0.7em; color: #64b5f6;\">O</span></span> <span style=\"padding: 2px; border-radius: 4px; border: 1px solid #bbdefb; background: #e3f2fd\">ascent<span style=\"vertical-align: middle; margin-left: 2px; font-size: 0.7em; color: #64b5f6;\">O</span></span> <span style=\"padding: 2px; border-radius: 4px; border: 1px solid #bbdefb; background: #e3f2fd\">into<span style=\"vertical-align: middle; margin-left: 2px; font-size: 0.7em; color: #64b5f6;\">O</span></span> <span style=\"padding: 2px; border-radius: 4px; border: 1px solid #bbdefb; background: #e3f2fd\">the<span style=\"vertical-align: middle; margin-left: 2px; font-size: 0.7em; color: #64b5f6;\">O</span></span> <span style=\"padding: 2px; border-radius: 4px; border: 1px solid #bbdefb; background: #e3f2fd\">sky<span style=\"vertical-align: middle; margin-left: 2px; font-size: 0.7em; color: #64b5f6;\">O</span></span> <span style=\"padding: 2px; border-radius: 4px; border: 1px solid #bbdefb; background: #e3f2fd\">deliberately<span style=\"vertical-align: middle; margin-left: 2px; font-size: 0.7em; color: #64b5f6;\">O</span></span> <span style=\"padding: 2px; border-radius: 4px; border: 1px solid #bbdefb; background: #e3f2fd\">terminated<span style=\"vertical-align: middle; margin-left: 2px; font-size: 0.7em; color: #64b5f6;\">O</span></span> <span style=\"padding: 2px; border-radius: 4px; border: 1px solid #bbdefb; background: #e3f2fd\">just<span style=\"vertical-align: middle; margin-left: 2px; font-size: 0.7em; color: #64b5f6;\">O</span></span> <span style=\"padding: 2px; border-radius: 4px; border: 1px solid #bbdefb; background: #e3f2fd\">80<span style=\"vertical-align: middle; margin-left: 2px; font-size: 0.7em; color: #64b5f6;\">O</span></span> <span style=\"padding: 2px; border-radius: 4px; border: 1px solid #bbdefb; background: #e3f2fd\">seconds<span style=\"vertical-align: middle; margin-left: 2px; font-size: 0.7em; color: #64b5f6;\">O</span></span> <span style=\"padding: 2px; border-radius: 4px; border: 1px solid #bbdefb; background: #e3f2fd\">after<span style=\"vertical-align: middle; margin-left: 2px; font-size: 0.7em; color: #64b5f6;\">O</span></span> <span style=\"padding: 2px; border-radius: 4px; border: 1px solid #bbdefb; background: #e3f2fd\">lift<span style=\"vertical-align: middle; margin-left: 2px; font-size: 0.7em; color: #64b5f6;\">O</span></span> <span style=\"padding: 2px; border-radius: 4px; border: 1px solid #bbdefb; background: #e3f2fd\">-<span style=\"vertical-align: middle; margin-left: 2px; font-size: 0.7em; color: #64b5f6;\">O</span></span> <span style=\"padding: 2px; border-radius: 4px; border: 1px solid #bbdefb; background: #e3f2fd\">off<span style=\"vertical-align: middle; margin-left: 2px; font-size: 0.7em; color: #64b5f6;\">O</span></span> <span style=\"padding: 2px; border-radius: 4px; border: 1px solid #bbdefb; background: #e3f2fd\">.<span style=\"vertical-align: middle; margin-left: 2px; font-size: 0.7em; color: #64b5f6;\">O</span></span></div>"
            ],
            "text/plain": [
              "<IPython.core.display.HTML object>"
            ]
          },
          "metadata": {
            "tags": []
          }
        }
      ]
    },
    {
      "cell_type": "code",
      "metadata": {
        "id": "cm4s5YXJIjTv",
        "colab_type": "code",
        "colab": {}
      },
      "source": [
        ""
      ],
      "execution_count": 0,
      "outputs": []
    },
    {
      "cell_type": "code",
      "metadata": {
        "id": "J4Mm_wmAZSFD",
        "colab_type": "code",
        "colab": {}
      },
      "source": [
        ""
      ],
      "execution_count": 0,
      "outputs": []
    }
  ]
}