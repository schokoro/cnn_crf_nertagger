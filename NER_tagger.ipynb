{
  "nbformat": 4,
  "nbformat_minor": 0,
  "metadata": {
    "kernelspec": {
      "name": "python3",
      "display_name": "Python 3"
    },
    "language_info": {
      "codemirror_mode": {
        "name": "ipython",
        "version": 3
      },
      "file_extension": ".py",
      "mimetype": "text/x-python",
      "name": "python",
      "nbconvert_exporter": "python",
      "pygments_lexer": "ipython3",
      "version": "3.7.1"
    },
    "latex_envs": {
      "LaTeX_envs_menu_present": true,
      "autoclose": false,
      "autocomplete": true,
      "bibliofile": "biblio.bib",
      "cite_by": "apalike",
      "current_citInitial": 1,
      "eqLabelWithNumbers": true,
      "eqNumInitial": 1,
      "hotkeys": {
        "equation": "Ctrl-E",
        "itemize": "Ctrl-I"
      },
      "labels_anchors": false,
      "latex_user_defs": false,
      "report_style_numbering": false,
      "user_envs_cfg": false
    },
    "toc": {
      "base_numbering": 1,
      "nav_menu": {},
      "number_sections": true,
      "sideBar": true,
      "skip_h1_title": false,
      "title_cell": "Table of Contents",
      "title_sidebar": "Contents",
      "toc_cell": false,
      "toc_position": {},
      "toc_section_display": true,
      "toc_window_display": true
    },
    "colab": {
      "name": "NER_tagger.ipynb",
      "provenance": [],
      "collapsed_sections": [],
      "toc_visible": true,
      "include_colab_link": true
    },
    "accelerator": "GPU",
    "widgets": {
      "application/vnd.jupyter.widget-state+json": {
<<<<<<< HEAD
        "c8abf93be7974d158172b54d9cf3245c": {
=======
        "d36fee1589b74bcf831df2680b79aae2": {
>>>>>>> origin/master
          "model_module": "@jupyter-widgets/controls",
          "model_name": "HBoxModel",
          "state": {
            "_view_name": "HBoxView",
            "_dom_classes": [],
            "_model_name": "HBoxModel",
            "_view_module": "@jupyter-widgets/controls",
            "_model_module_version": "1.5.0",
            "_view_count": null,
            "_view_module_version": "1.5.0",
            "box_style": "",
<<<<<<< HEAD
            "layout": "IPY_MODEL_3ad2a6b206be4fa589abe9d173c7f6b0",
            "_model_module": "@jupyter-widgets/controls",
            "children": [
              "IPY_MODEL_76edc8bfc67e4f79adcfd92aabdc8939",
              "IPY_MODEL_f1dcb6ddd65b436380b33e1bb40f14ac"
            ]
          }
        },
        "3ad2a6b206be4fa589abe9d173c7f6b0": {
=======
            "layout": "IPY_MODEL_db06108f75584d00b3cd05a9d7461c84",
            "_model_module": "@jupyter-widgets/controls",
            "children": [
              "IPY_MODEL_9fb15623c3d24a6ba9d6633aeac89673",
              "IPY_MODEL_3ed116277b0845e397a39791ffac8c15"
            ]
          }
        },
        "db06108f75584d00b3cd05a9d7461c84": {
>>>>>>> origin/master
          "model_module": "@jupyter-widgets/base",
          "model_name": "LayoutModel",
          "state": {
            "_view_name": "LayoutView",
            "grid_template_rows": null,
            "right": null,
            "justify_content": null,
            "_view_module": "@jupyter-widgets/base",
            "overflow": null,
            "_model_module_version": "1.2.0",
            "_view_count": null,
            "flex_flow": null,
            "width": null,
            "min_width": null,
            "border": null,
            "align_items": null,
            "bottom": null,
            "_model_module": "@jupyter-widgets/base",
            "top": null,
            "grid_column": null,
            "overflow_y": null,
            "overflow_x": null,
            "grid_auto_flow": null,
            "grid_area": null,
            "grid_template_columns": null,
            "flex": null,
            "_model_name": "LayoutModel",
            "justify_items": null,
            "grid_row": null,
            "max_height": null,
            "align_content": null,
            "visibility": null,
            "align_self": null,
            "height": null,
            "min_height": null,
            "padding": null,
            "grid_auto_rows": null,
            "grid_gap": null,
            "max_width": null,
            "order": null,
            "_view_module_version": "1.2.0",
            "grid_template_areas": null,
            "object_position": null,
            "object_fit": null,
            "grid_auto_columns": null,
            "margin": null,
            "display": null,
            "left": null
          }
        },
<<<<<<< HEAD
        "76edc8bfc67e4f79adcfd92aabdc8939": {
=======
        "9fb15623c3d24a6ba9d6633aeac89673": {
>>>>>>> origin/master
          "model_module": "@jupyter-widgets/controls",
          "model_name": "FloatProgressModel",
          "state": {
            "_view_name": "ProgressView",
<<<<<<< HEAD
            "style": "IPY_MODEL_382a84e921b84d67adf2b92396f176da",
=======
            "style": "IPY_MODEL_d5d86124d99547beb05f85db478951ca",
>>>>>>> origin/master
            "_dom_classes": [],
            "description": "100%",
            "_model_name": "FloatProgressModel",
            "bar_style": "success",
            "max": 101,
            "_view_module": "@jupyter-widgets/controls",
            "_model_module_version": "1.5.0",
            "value": 101,
            "_view_count": null,
            "_view_module_version": "1.5.0",
            "orientation": "horizontal",
            "min": 0,
            "description_tooltip": null,
            "_model_module": "@jupyter-widgets/controls",
<<<<<<< HEAD
            "layout": "IPY_MODEL_3a863c03c5744323b9a7051a9fe2601d"
          }
        },
        "f1dcb6ddd65b436380b33e1bb40f14ac": {
=======
            "layout": "IPY_MODEL_f8a3499e83104384ac28404abdf005db"
          }
        },
        "3ed116277b0845e397a39791ffac8c15": {
>>>>>>> origin/master
          "model_module": "@jupyter-widgets/controls",
          "model_name": "HTMLModel",
          "state": {
            "_view_name": "HTMLView",
<<<<<<< HEAD
            "style": "IPY_MODEL_accb716c74334d1ab4af94eec778cf6e",
=======
            "style": "IPY_MODEL_7eaa5cc0647340fe93b3eb77a4015d67",
>>>>>>> origin/master
            "_dom_classes": [],
            "description": "",
            "_model_name": "HTMLModel",
            "placeholder": "​",
            "_view_module": "@jupyter-widgets/controls",
            "_model_module_version": "1.5.0",
<<<<<<< HEAD
            "value": " 101/101 [00:21&lt;00:00,  4.74it/s]",
=======
            "value": " 101/101 [00:09&lt;00:00, 11.07it/s]",
>>>>>>> origin/master
            "_view_count": null,
            "_view_module_version": "1.5.0",
            "description_tooltip": null,
            "_model_module": "@jupyter-widgets/controls",
<<<<<<< HEAD
            "layout": "IPY_MODEL_c1c26116e96e43389bcb0a31e49406c0"
          }
        },
        "382a84e921b84d67adf2b92396f176da": {
=======
            "layout": "IPY_MODEL_bae58d30992e496a8f2c468bff4c3f2c"
          }
        },
        "d5d86124d99547beb05f85db478951ca": {
>>>>>>> origin/master
          "model_module": "@jupyter-widgets/controls",
          "model_name": "ProgressStyleModel",
          "state": {
            "_view_name": "StyleView",
            "_model_name": "ProgressStyleModel",
            "description_width": "initial",
            "_view_module": "@jupyter-widgets/base",
            "_model_module_version": "1.5.0",
            "_view_count": null,
            "_view_module_version": "1.2.0",
            "bar_color": null,
            "_model_module": "@jupyter-widgets/controls"
          }
        },
<<<<<<< HEAD
        "3a863c03c5744323b9a7051a9fe2601d": {
=======
        "f8a3499e83104384ac28404abdf005db": {
>>>>>>> origin/master
          "model_module": "@jupyter-widgets/base",
          "model_name": "LayoutModel",
          "state": {
            "_view_name": "LayoutView",
            "grid_template_rows": null,
            "right": null,
            "justify_content": null,
            "_view_module": "@jupyter-widgets/base",
            "overflow": null,
            "_model_module_version": "1.2.0",
            "_view_count": null,
            "flex_flow": null,
            "width": null,
            "min_width": null,
            "border": null,
            "align_items": null,
            "bottom": null,
            "_model_module": "@jupyter-widgets/base",
            "top": null,
            "grid_column": null,
            "overflow_y": null,
            "overflow_x": null,
            "grid_auto_flow": null,
            "grid_area": null,
            "grid_template_columns": null,
            "flex": null,
            "_model_name": "LayoutModel",
            "justify_items": null,
            "grid_row": null,
            "max_height": null,
            "align_content": null,
            "visibility": null,
            "align_self": null,
            "height": null,
            "min_height": null,
            "padding": null,
            "grid_auto_rows": null,
            "grid_gap": null,
            "max_width": null,
            "order": null,
            "_view_module_version": "1.2.0",
            "grid_template_areas": null,
            "object_position": null,
            "object_fit": null,
            "grid_auto_columns": null,
            "margin": null,
            "display": null,
            "left": null
          }
        },
<<<<<<< HEAD
        "accb716c74334d1ab4af94eec778cf6e": {
=======
        "7eaa5cc0647340fe93b3eb77a4015d67": {
>>>>>>> origin/master
          "model_module": "@jupyter-widgets/controls",
          "model_name": "DescriptionStyleModel",
          "state": {
            "_view_name": "StyleView",
            "_model_name": "DescriptionStyleModel",
            "description_width": "",
            "_view_module": "@jupyter-widgets/base",
            "_model_module_version": "1.5.0",
            "_view_count": null,
            "_view_module_version": "1.2.0",
            "_model_module": "@jupyter-widgets/controls"
          }
        },
<<<<<<< HEAD
        "c1c26116e96e43389bcb0a31e49406c0": {
=======
        "bae58d30992e496a8f2c468bff4c3f2c": {
>>>>>>> origin/master
          "model_module": "@jupyter-widgets/base",
          "model_name": "LayoutModel",
          "state": {
            "_view_name": "LayoutView",
            "grid_template_rows": null,
            "right": null,
            "justify_content": null,
            "_view_module": "@jupyter-widgets/base",
            "overflow": null,
            "_model_module_version": "1.2.0",
            "_view_count": null,
            "flex_flow": null,
            "width": null,
            "min_width": null,
            "border": null,
            "align_items": null,
            "bottom": null,
            "_model_module": "@jupyter-widgets/base",
            "top": null,
            "grid_column": null,
            "overflow_y": null,
            "overflow_x": null,
            "grid_auto_flow": null,
            "grid_area": null,
            "grid_template_columns": null,
            "flex": null,
            "_model_name": "LayoutModel",
            "justify_items": null,
            "grid_row": null,
            "max_height": null,
            "align_content": null,
            "visibility": null,
            "align_self": null,
            "height": null,
            "min_height": null,
            "padding": null,
            "grid_auto_rows": null,
            "grid_gap": null,
            "max_width": null,
            "order": null,
            "_view_module_version": "1.2.0",
            "grid_template_areas": null,
            "object_position": null,
            "object_fit": null,
            "grid_auto_columns": null,
            "margin": null,
            "display": null,
            "left": null
          }
        }
      }
    }
  },
  "cells": [
    {
      "cell_type": "markdown",
      "metadata": {
        "id": "view-in-github",
        "colab_type": "text"
      },
      "source": [
        "<a href=\"https://colab.research.google.com/github/schokoro/cnn_crf_nertagger/blob/dev/NER_tagger.ipynb\" target=\"_parent\"><img src=\"https://colab.research.google.com/assets/colab-badge.svg\" alt=\"Open In Colab\"/></a>"
      ]
    },
    {
      "cell_type": "markdown",
      "metadata": {
        "id": "p_aAUmhzgFqt",
        "colab_type": "text"
      },
      "source": [
        "# CNN и CRF для извлечения именованных сущностей\n",
        "\n"
      ]
    },
    {
      "cell_type": "code",
      "metadata": {
        "id": "kVSH61-2h4l6",
        "colab_type": "code",
<<<<<<< HEAD
        "outputId": "ce0d982d-a11c-4d3d-e7a4-a0c7b0f61855",
=======
        "outputId": "c2745524-e8bb-40f2-f4b8-a487ab86bfba",
>>>>>>> origin/master
        "colab": {
          "base_uri": "https://localhost:8080/",
          "height": 34
        }
      },
      "source": [
        "import torch\n",
        "device = torch.device(\"cuda:0\" if torch.cuda.is_available() else \"cpu\")\n",
        "if device == 'cpu':\n",
        "    print('cpu')\n",
        "else:\n",
        "    n_gpu = torch.cuda.device_count()\n",
        "    print(torch.cuda.get_device_name(0))\n",
        "    "
      ],
      "execution_count": 1,
      "outputs": [
        {
          "output_type": "stream",
          "text": [
            "Tesla T4\n"
          ],
          "name": "stdout"
        }
      ]
    },
    {
      "cell_type": "code",
      "metadata": {
        "id": "yS5uM1WVOCz8",
        "colab_type": "code",
        "colab": {}
      },
      "source": [
        "import sys\n",
        "sys.path.append('/content/cnn_crf_nertagger')"
      ],
      "execution_count": 0,
      "outputs": []
    },
    {
      "cell_type": "code",
      "metadata": {
        "id": "SVzEU3MPb8nK",
        "colab_type": "code",
        "colab": {}
      },
      "source": [
        "!rm -rf cnn_crf_nertagger/"
      ],
      "execution_count": 0,
      "outputs": []
    },
    {
      "cell_type": "code",
      "metadata": {
        "id": "2BZw4sQ4gFrj",
        "colab_type": "code",
<<<<<<< HEAD
        "outputId": "6b651561-4e2e-42cb-fce0-78af1848f88c",
=======
        "outputId": "bfe6960a-8e8f-4f5d-d169-865427b6d594",
>>>>>>> origin/master
        "colab": {
          "base_uri": "https://localhost:8080/",
          "height": 153
        }
      },
      "source": [
<<<<<<< HEAD
        "!git clone -b dev https://github.com/schokoro/cnn_crf_nertagger.git > /dev/null\n",
        "!pip install allennlp wget youtokentome ipymarkup seqeval> /dev/null\n"
=======
        "!git clone -b master https://github.com/schokoro/cnn_crf_nertagger.git > /dev/null\n",
        "!pip install allennlp wget youtokentome ipymarkup> /dev/null\n"
>>>>>>> origin/master
      ],
      "execution_count": 4,
      "outputs": [
        {
          "output_type": "stream",
          "text": [
            "Cloning into 'cnn_crf_nertagger'...\n",
<<<<<<< HEAD
            "remote: Enumerating objects: 179, done.\u001b[K\n",
            "remote: Counting objects: 100% (179/179), done.\u001b[K\n",
            "remote: Compressing objects: 100% (105/105), done.\u001b[K\n",
            "remote: Total 179 (delta 85), reused 140 (delta 57), pack-reused 0\u001b[K\n",
            "Receiving objects: 100% (179/179), 138.19 KiB | 326.00 KiB/s, done.\n",
            "Resolving deltas: 100% (85/85), done.\n",
            "\u001b[31mERROR: en-core-web-sm 2.2.5 has requirement spacy>=2.2.2, but you'll have spacy 2.1.9 which is incompatible.\u001b[0m\n"
=======
            "remote: Enumerating objects: 168, done.\u001b[K\n",
            "remote: Counting objects: 100% (168/168), done.\u001b[K\n",
            "remote: Compressing objects: 100% (101/101), done.\u001b[K\n",
            "remote: Total 168 (delta 78), reused 129 (delta 50), pack-reused 0\u001b[K\n",
            "Receiving objects: 100% (168/168), 77.65 KiB | 192.00 KiB/s, done.\n",
            "Resolving deltas: 100% (78/78), done.\n"
>>>>>>> origin/master
          ],
          "name": "stdout"
        }
      ]
    },
    {
      "cell_type": "code",
      "metadata": {
        "ExecuteTime": {
          "end_time": "2019-10-29T19:49:34.549739Z",
          "start_time": "2019-10-29T19:49:32.179692Z"
        },
        "id": "ol61j2fHgFsh",
        "colab_type": "code",
        "colab": {}
      },
      "source": [
        "%load_ext autoreload\n",
        "%autoreload 2\n",
        "\n",
        "import spacy\n",
        "import warnings\n",
        "warnings.filterwarnings('ignore')\n",
        "import numpy as np\n",
        "from torch.nn import functional as F\n",
        "from torch.utils.data import TensorDataset\n",
        "from allennlp.data.dataset_readers.conll2003 import Conll2003DatasetReader\n",
        "from allennlp.common.util import ensure_list\n",
        "from torch import nn\n",
        "from torch.nn import functional as F\n",
        "from torch.utils.data import TensorDataset\n",
        "from pdb import set_trace\n",
        "from gc import collect\n",
        "from tqdm.notebook import tqdm\n",
        "import wget\n",
        "import cnn_crf_nertagger\n",
        "from cnn_crf_nertagger.modules.modules import NERTaggerModel, NERTagger\n",
        "from cnn_crf_nertagger.utils.pipeline import train_eval_loop, predict_with_model\n",
        "from cnn_crf_nertagger.utils.prepare import tag_corpus_to_tensor, tokenize_corpus, make_yttm_tokenizer, highlight_text, tensor_to_tags\n",
        "from os import path, listdir\n",
        "import pandas as pd\n",
        "import seaborn as sns\n",
        "from matplotlib import rcParams\n",
<<<<<<< HEAD
        "from seqeval.metrics import classification_report\n",
=======
        "from ipymarkup import show_box_markup\n",
        "from ipymarkup.palette import palette, PALETTE, BLUE, RED, GREEN, PURPLE, BROWN, ORANGE, PURPLE\n",
>>>>>>> origin/master
        "sns.set()\n",
        "%matplotlib inline\n",
        "\n",
        "rcParams['figure.figsize'] = 12, 12\n",
        "torch.backends.cudnn.deterministic=False "
      ],
      "execution_count": 0,
      "outputs": []
    },
    {
      "cell_type": "markdown",
      "metadata": {
        "id": "inP4QwcDgFs3",
        "colab_type": "text"
      },
      "source": [
        "## Подготовка данных\n",
        "\n"
      ]
    },
    {
      "cell_type": "markdown",
      "metadata": {
        "id": "aXvdhaF5nPcQ",
        "colab_type": "text"
      },
      "source": [
        "\n",
        "### Загружаем корпуса"
      ]
    },
    {
      "cell_type": "code",
      "metadata": {
        "id": "7HUaGBS4nD1g",
        "colab_type": "code",
<<<<<<< HEAD
        "outputId": "664620d8-07cb-4be7-d3e3-1d2b3ebb9e5a",
        "colab": {
          "base_uri": "https://localhost:8080/",
          "height": 34
=======
        "outputId": "955c2dbe-a015-4f0b-b783-677697476d4a",
        "colab": {
          "base_uri": "https://localhost:8080/",
          "height": 33
>>>>>>> origin/master
        }
      },
      "source": [
        "!rm -fv /content/cnn_crf_nertagger/data/*\n"
      ],
      "execution_count": 6,
      "outputs": [
        {
          "output_type": "stream",
          "text": [
            "removed '/content/cnn_crf_nertagger/data/readme.txt'\n"
          ],
          "name": "stdout"
        }
      ]
    },
    {
      "cell_type": "code",
      "metadata": {
        "ExecuteTime": {
          "end_time": "2019-10-29T19:49:56.525561Z",
          "start_time": "2019-10-29T19:49:37.315213Z"
        },
        "id": "uo0ZTJ1FgFti",
        "colab_type": "code",
        "colab": {}
      },
      "source": [
        "path_data = '/content/cnn_crf_nertagger/data/'\n",
        "path_train = '/content/cnn_crf_nertagger/data/eng.train'\n",
        "path_valid = '/content/cnn_crf_nertagger/data/eng.testa'\n",
        "path_test = '/content/cnn_crf_nertagger/data/eng.testb'\n",
        "\n",
        "dataset_urls = {\n",
        "    'eng.testa': 'https://raw.githubusercontent.com/synalp/NER/master/corpus/CoNLL-2003/eng.testa',\n",
        "    'eng.testb': 'https://raw.githubusercontent.com/synalp/NER/master/corpus/CoNLL-2003/eng.testb',\n",
        "    'eng.train': 'https://raw.githubusercontent.com/synalp/NER/master/corpus/CoNLL-2003/eng.train'}\n",
        "for file_name in dataset_urls:\n",
        "    wget.download(dataset_urls[file_name], path.join(path_data, file_name))"
      ],
      "execution_count": 0,
      "outputs": []
    },
    {
      "cell_type": "code",
      "metadata": {
        "id": "r6AABrk05iiC",
        "colab_type": "code",
<<<<<<< HEAD
        "outputId": "91400e08-02dc-460f-b603-81ed28d44c56",
        "colab": {
          "base_uri": "https://localhost:8080/",
          "height": 102
=======
        "outputId": "cba03a4b-b3aa-4a4d-9860-fdcd0251542d",
        "colab": {
          "base_uri": "https://localhost:8080/",
          "height": 100
>>>>>>> origin/master
        }
      },
      "source": [
        "%%time\n",
        "conll_reader = Conll2003DatasetReader()\n",
        "train_conll = ensure_list(conll_reader.read(path_train))\n",
        "valid_conll = ensure_list(conll_reader.read(path_valid))\n",
        "test_conll = ensure_list(conll_reader.read(path_test))"
      ],
      "execution_count": 8,
      "outputs": [
        {
          "output_type": "stream",
          "text": [
<<<<<<< HEAD
            "14041it [00:01, 12288.51it/s]\n",
            "3250it [00:00, 8885.83it/s]\n",
            "3453it [00:00, 23020.20it/s]"
=======
            "14041it [00:01, 13611.92it/s]\n",
            "3250it [00:00, 10156.17it/s]\n",
            "3453it [00:00, 26618.09it/s]"
>>>>>>> origin/master
          ],
          "name": "stderr"
        },
        {
          "output_type": "stream",
          "text": [
<<<<<<< HEAD
            "CPU times: user 1.59 s, sys: 77.1 ms, total: 1.66 s\n",
            "Wall time: 1.67 s\n"
=======
            "CPU times: user 1.41 s, sys: 75.9 ms, total: 1.49 s\n",
            "Wall time: 1.49 s\n"
>>>>>>> origin/master
          ],
          "name": "stdout"
        },
        {
          "output_type": "stream",
          "text": [
            "\n"
          ],
          "name": "stderr"
        }
      ]
    },
    {
      "cell_type": "code",
      "metadata": {
        "id": "WCYr630b8O5w",
        "colab_type": "code",
<<<<<<< HEAD
        "outputId": "8b1704fd-a59d-48f9-f5fc-68c800e3f0cb",
        "colab": {
          "base_uri": "https://localhost:8080/",
          "height": 34
=======
        "outputId": "5571429f-6452-46f1-fb7c-ea4a2a897b3c",
        "colab": {
          "base_uri": "https://localhost:8080/",
          "height": 33
>>>>>>> origin/master
        }
      },
      "source": [
        "all_conll = train_conll + valid_conll + test_conll\n",
        "len(all_conll), len(train_conll), len(valid_conll), len(test_conll)"
      ],
      "execution_count": 9,
      "outputs": [
        {
          "output_type": "execute_result",
          "data": {
            "text/plain": [
              "(20744, 14041, 3250, 3453)"
            ]
          },
          "metadata": {
            "tags": []
          },
          "execution_count": 9
        }
      ]
    },
    {
      "cell_type": "markdown",
      "metadata": {
        "id": "LeAP6B5WfzoR",
        "colab_type": "text"
      },
      "source": [
        "### Готовим словари соответсвия тег-id и bpe - токенизатор\n",
        "\n"
      ]
    },
    {
      "cell_type": "code",
      "metadata": {
        "id": "joAECv5_8htA",
        "colab_type": "code",
<<<<<<< HEAD
        "outputId": "93a29c1b-7fad-47d9-a16a-b0a953834f82",
        "colab": {
          "base_uri": "https://localhost:8080/",
          "height": 34
=======
        "outputId": "d27e1297-42cd-4a4e-9ad5-65e4999173c0",
        "colab": {
          "base_uri": "https://localhost:8080/",
          "height": 33
>>>>>>> origin/master
        }
      },
      "source": [
        "tags = set()\n",
        "tokens = set()\n",
        "\n",
        "max_sent_len = 0\n",
        "for instance in all_conll[: ]:\n",
        "    if len(instance['tokens']) >  max_sent_len:\n",
        "        max_sent_len = len(instance['tokens'])\n",
        "    tags.update(instance['tags'])\n",
        "    tokens.update(instance['tokens'])\n",
        "    \n",
        "print(f'Максимальная длина предложения: {max_sent_len} токенов')"
      ],
      "execution_count": 10,
      "outputs": [
        {
          "output_type": "stream",
          "text": [
            "Максимальная длина предложения: 124 токенов\n"
          ],
          "name": "stdout"
        }
      ]
    },
    {
      "cell_type": "code",
      "metadata": {
        "id": "l75L7ILeme3k",
        "colab_type": "code",
<<<<<<< HEAD
        "outputId": "c581bee6-0364-4c78-94bb-7794a4e96db8",
        "colab": {
          "base_uri": "https://localhost:8080/",
          "height": 51
=======
        "outputId": "cbc852fe-6f05-4cd1-ebe4-674652f2dc66",
        "colab": {
          "base_uri": "https://localhost:8080/",
          "height": 50
>>>>>>> origin/master
        }
      },
      "source": [
        "%time bpe_tokenizer = make_yttm_tokenizer(train_conll, 500)"
      ],
      "execution_count": 11,
      "outputs": [
        {
          "output_type": "stream",
          "text": [
<<<<<<< HEAD
            "CPU times: user 175 ms, sys: 24.9 ms, total: 199 ms\n",
            "Wall time: 149 ms\n"
=======
            "CPU times: user 141 ms, sys: 22.6 ms, total: 164 ms\n",
            "Wall time: 122 ms\n"
>>>>>>> origin/master
          ],
          "name": "stdout"
        }
      ]
    },
    {
      "cell_type": "code",
      "metadata": {
        "id": "SaDuu3t_8hqd",
        "colab_type": "code",
<<<<<<< HEAD
        "outputId": "e742e767-a139-41fc-bc1b-01f4a7b3c02f",
=======
        "outputId": "8ebaa246-7fb2-47a4-ff50-6c36f1cc4168",
>>>>>>> origin/master
        "colab": {
          "base_uri": "https://localhost:8080/",
          "height": 117,
          "referenced_widgets": [
<<<<<<< HEAD
            "c8abf93be7974d158172b54d9cf3245c",
            "3ad2a6b206be4fa589abe9d173c7f6b0",
            "76edc8bfc67e4f79adcfd92aabdc8939",
            "f1dcb6ddd65b436380b33e1bb40f14ac",
            "382a84e921b84d67adf2b92396f176da",
            "3a863c03c5744323b9a7051a9fe2601d",
            "accb716c74334d1ab4af94eec778cf6e",
            "c1c26116e96e43389bcb0a31e49406c0"
=======
            "d36fee1589b74bcf831df2680b79aae2",
            "db06108f75584d00b3cd05a9d7461c84",
            "9fb15623c3d24a6ba9d6633aeac89673",
            "3ed116277b0845e397a39791ffac8c15",
            "d5d86124d99547beb05f85db478951ca",
            "f8a3499e83104384ac28404abdf005db",
            "7eaa5cc0647340fe93b3eb77a4015d67",
            "bae58d30992e496a8f2c468bff4c3f2c"
>>>>>>> origin/master
          ]
        }
      },
      "source": [
        "%%time\n",
        "max_token_len = 0\n",
        "for p in tqdm(range(101)):\n",
        "    len_tokens = [len(bpe_tokenizer.encode(token.text, dropout_prob=p/100))  for token in tokens]\n",
        "    if max(len_tokens) > max_token_len:\n",
        "        p_dropout = .01 * p\n",
        "        max_token_len = max(len_tokens)\n",
        "\n",
        "print(f'Максимальная длина токена: {max_token_len} субтокенов при вероятности дропаута {p_dropout}')"
      ],
      "execution_count": 12,
      "outputs": [
        {
          "output_type": "display_data",
          "data": {
            "application/vnd.jupyter.widget-view+json": {
<<<<<<< HEAD
              "model_id": "c8abf93be7974d158172b54d9cf3245c",
=======
              "model_id": "d36fee1589b74bcf831df2680b79aae2",
>>>>>>> origin/master
              "version_minor": 0,
              "version_major": 2
            },
            "text/plain": [
              "HBox(children=(FloatProgress(value=0.0, max=101.0), HTML(value='')))"
            ]
          },
          "metadata": {
            "tags": []
          }
        },
        {
          "output_type": "stream",
          "text": [
            "\n",
<<<<<<< HEAD
            "Максимальная длина токена: 62 субтокенов при вероятности дропаута 0.11\n",
            "CPU times: user 10.5 s, sys: 75.1 ms, total: 10.6 s\n",
            "Wall time: 10.6 s\n"
=======
            "Максимальная длина токена: 62 субтокенов при вероятности дропаута 0.1\n",
            "CPU times: user 9.09 s, sys: 45.5 ms, total: 9.14 s\n",
            "Wall time: 9.12 s\n"
>>>>>>> origin/master
          ],
          "name": "stdout"
        }
      ]
    },
    {
      "cell_type": "code",
      "metadata": {
        "ExecuteTime": {
          "end_time": "2019-10-29T19:49:58.524125Z",
          "start_time": "2019-10-29T19:49:58.125577Z"
        },
        "id": "WzDDott3gFul",
        "colab_type": "code",
        "colab": {}
      },
      "source": [
        "tag2id = {tag: num for num, tag in enumerate(['<NOTAG>'] + list(tags))}\n",
        "# char2id = {char: num+1 for num, char in enumerate(chars)}\n",
        "# id2char = {item[1]: item[0] for item in char2id.items()}"
      ],
      "execution_count": 0,
      "outputs": []
    },
    {
      "cell_type": "code",
      "metadata": {
        "id": "C5R5GbuZAp_r",
        "colab_type": "code",
        "colab": {}
      },
      "source": [
        ""
      ],
      "execution_count": 0,
      "outputs": []
    },
    {
      "cell_type": "markdown",
      "metadata": {
        "id": "AiqJ56QiAsZF",
        "colab_type": "text"
      },
      "source": [
        "В датасете присутствует очень мало тегов вида B-XXX. Попробуем чуть размножить предложения с этими тегами. Использование дропаута в bpe внесёт немного разнообразия в эти предложения."
      ]
    },
    {
      "cell_type": "code",
      "metadata": {
        "id": "GO0uquKu87yj",
        "colab_type": "code",
<<<<<<< HEAD
        "outputId": "8959a645-0fb4-49ec-ea5b-505e12d3bb76",
        "colab": {
          "base_uri": "https://localhost:8080/",
          "height": 102
=======
        "outputId": "bfa1ab2a-906a-4fb5-cb15-debf845fb506",
        "colab": {
          "base_uri": "https://localhost:8080/",
          "height": 100
>>>>>>> origin/master
        }
      },
      "source": [
        "%%time\n",
        "BPE_DROPOUT = .2\n",
        "train_inputs, train_targets = tag_corpus_to_tensor(train_conll, bpe_tokenizer, tag2id, max_sent_len, max_token_len, augm=20, dropout=BPE_DROPOUT)\n",
        "valid_inputs, valid_targets = tag_corpus_to_tensor(valid_conll, bpe_tokenizer, tag2id, max_sent_len, max_token_len, dropout=0)\n",
        "test_inputs, test_targets = tag_corpus_to_tensor(test_conll, bpe_tokenizer, tag2id, max_sent_len, max_token_len, dropout=0)"
      ],
      "execution_count": 14,
      "outputs": [
        {
          "output_type": "stream",
          "text": [
<<<<<<< HEAD
            "100%|██████████| 14041/14041 [00:06<00:00, 2165.09it/s]\n",
            "100%|██████████| 3250/3250 [00:01<00:00, 2143.40it/s]\n",
            "100%|██████████| 3453/3453 [00:01<00:00, 2519.68it/s]"
=======
            "100%|██████████| 14041/14041 [00:06<00:00, 2189.04it/s]\n",
            "100%|██████████| 3250/3250 [00:01<00:00, 1769.10it/s]\n",
            "100%|██████████| 3453/3453 [00:01<00:00, 2254.49it/s]"
>>>>>>> origin/master
          ],
          "name": "stderr"
        },
        {
          "output_type": "stream",
          "text": [
<<<<<<< HEAD
            "CPU times: user 9.59 s, sys: 810 ms, total: 10.4 s\n",
            "Wall time: 10.5 s\n"
=======
            "CPU times: user 10 s, sys: 742 ms, total: 10.8 s\n",
            "Wall time: 10.8 s\n"
>>>>>>> origin/master
          ],
          "name": "stdout"
        },
        {
          "output_type": "stream",
          "text": [
            "\n"
          ],
          "name": "stderr"
        }
      ]
    },
    {
      "cell_type": "code",
      "metadata": {
        "ExecuteTime": {
          "end_time": "2019-10-29T19:49:58.752672Z",
          "start_time": "2019-10-29T19:49:58.526431Z"
        },
        "id": "K_03GuyhgFur",
        "colab_type": "code",
        "colab": {}
      },
      "source": [
        "train_dataset = TensorDataset(train_inputs, train_targets)\n",
        "valid_dataset = TensorDataset(valid_inputs, valid_targets)\n",
        "test_dataset = TensorDataset(test_inputs, test_targets)"
      ],
      "execution_count": 0,
      "outputs": []
    },
    {
      "cell_type": "markdown",
      "metadata": {
        "id": "V0KNokGoadtA",
        "colab_type": "text"
      },
      "source": [
        "## Создаём и обучаем сеть"
      ]
    },
    {
      "cell_type": "code",
      "metadata": {
        "id": "U5k4Z4b6craL",
        "colab_type": "code",
        "colab": {}
      },
      "source": [
        "models_path = '/content/cnn_crf_nertagger/models/best_model.pth'"
      ],
      "execution_count": 0,
      "outputs": []
    },
    {
      "cell_type": "code",
      "metadata": {
        "id": "DfRjCwqZu4BW",
        "colab_type": "code",
<<<<<<< HEAD
        "outputId": "38cbd8de-6e57-49d6-f2c9-48a5c3ce271e",
        "colab": {
          "base_uri": "https://localhost:8080/",
          "height": 34
=======
        "outputId": "a24961aa-4b76-465a-bd63-8bc945e1c973",
        "colab": {
          "base_uri": "https://localhost:8080/",
          "height": 33
>>>>>>> origin/master
        }
      },
      "source": [
        "try:\n",
        "    del model    \n",
        "    collect()\n",
        "except:\n",
        "    print('no model')\n",
        "finally:\n",
        "    torch.cuda.empty_cache()\n"
      ],
      "execution_count": 17,
      "outputs": [
        {
          "output_type": "stream",
          "text": [
            "no model\n"
          ],
          "name": "stdout"
        }
      ]
    },
    {
      "cell_type": "markdown",
      "metadata": {
        "id": "yYZiVrJYFCC1",
        "colab_type": "text"
      },
      "source": [
        "Сеть состоит из двух однотипных свёрточных блоков и CRF. На первом уровне мы осуществляем свёртку над субтокенами и делаем глобал-пуллинг. Затем получившиеся эмбедденги токенов передаём на следующий свёрточный блок. Он значительно глубже, чтобы увеличить рецептивное поле. Выход второго блока передаём в CRF, который возвращает нам `log-likelihood`."
      ]
    },
    {
      "cell_type": "code",
      "metadata": {
        "ExecuteTime": {
          "end_time": "2019-10-29T19:47:48.326925Z",
          "start_time": "2019-10-29T19:46:50.310Z"
        },
        "id": "jj9cwrRBgFwR",
        "colab_type": "code",
<<<<<<< HEAD
        "outputId": "9d80c5fb-bff9-4b25-9935-cd53fc733efe",
        "colab": {
          "base_uri": "https://localhost:8080/",
          "height": 34
=======
        "outputId": "75787730-b25a-4218-bd37-36f007acd8f7",
        "colab": {
          "base_uri": "https://localhost:8080/",
          "height": 33
>>>>>>> origin/master
        }
      },
      "source": [
        "torch.cuda.empty_cache()\n",
        "model = NERTaggerModel(len(bpe_tokenizer.vocab()), len(tag2id), tag2id, embedding_size=64,\n",
        "                                              single_backbone_kwargs=dict(layers_n=2, kernel_size=3, dropout=0.3, dilation=None),\n",
        "                                              context_backbone_kwargs=dict(layers_n=5, kernel_size=3, dropout=0.3, dilation=[1, 1, 2 , 2, 2]))\n",
        "print('Количество параметров', sum(np.product(t.shape) for t in model.parameters()))"
      ],
      "execution_count": 18,
      "outputs": [
        {
          "output_type": "stream",
          "text": [
            "Количество параметров 119269\n"
          ],
          "name": "stdout"
        }
      ]
    },
    {
      "cell_type": "code",
      "metadata": {
        "id": "luP8K58IIlw8",
        "colab_type": "code",
        "colab": {}
      },
      "source": [
        "# try:\n",
        "#     model.load_state_dict(torch.load(models_path))\n",
        "# except:\n",
        "#     print('no model')"
      ],
      "execution_count": 0,
      "outputs": []
    },
    {
      "cell_type": "code",
      "metadata": {
        "ExecuteTime": {
          "end_time": "2019-10-29T19:47:48.327888Z",
          "start_time": "2019-10-29T19:46:50.737Z"
        },
        "scrolled": false,
        "id": "4aa02MY9gFwZ",
        "colab_type": "code",
<<<<<<< HEAD
        "outputId": "0fe4f5e6-15e1-4fdb-f194-87f8db4d9427",
        "colab": {
          "base_uri": "https://localhost:8080/",
          "height": 935
=======
        "outputId": "276522dc-12d2-4a75-93b4-5039009e4354",
        "colab": {
          "base_uri": "https://localhost:8080/",
          "height": 1000
>>>>>>> origin/master
        }
      },
      "source": [
        "(best_val_loss,\n",
        " best_model,\n",
        " losses) = train_eval_loop(model,\n",
        "                               train_dataset,\n",
        "                               valid_dataset,\n",
        "                               lr=5e-6,\n",
        "                               epoch_n=200,\n",
        "                               batch_size=128,\n",
        "                               device=device,\n",
        "                               early_stopping_patience=10,\n",
        "                               l2_reg_alpha = 1e-6,\n",
        "                               max_batches_per_epoch_train=100,\n",
        "                               max_batches_per_epoch_val=100,\n",
        "                               lr_scheduler_ctor=lambda optim: torch.optim.lr_scheduler.ReduceLROnPlateau(\n",
        "                                                                                     optim, patience=4,\n",
        "                                                                                     factor=0.1,\n",
        "                                                                                     threshold=1e-3,\n",
        "                                                                                     verbose=True),\n",
        "                               verbose_batch=False)\n",
        " \n",
        "torch.save(best_model.state_dict(), models_path)"
      ],
      "execution_count": 33,
      "outputs": [
        {
          "output_type": "stream",
          "text": [
            "Эпоха 0\n",
<<<<<<< HEAD
            "Эпоха: 101 итераций, 23.83 сек\n",
            "Среднее значение функции потерь на обучении 0.37689943080491356\n",
            "Среднее значение функции потерь на валидации 0.9942977858277467\n",
            "Новая лучшая модель!\n",
            "\n",
            "Эпоха 1\n",
            "Эпоха: 101 итераций, 23.78 сек\n",
            "Среднее значение функции потерь на обучении 0.38268873862700886\n",
            "Среднее значение функции потерь на валидации 0.9945038972565761\n",
            "\n",
            "Эпоха 2\n",
            "Эпоха: 101 итераций, 23.79 сек\n",
            "Среднее значение функции потерь на обучении 0.3684569194470302\n",
            "Среднее значение функции потерь на валидации 0.9948714937155063\n",
            "\n",
            "Эпоха 3\n",
            "Эпоха: 101 итераций, 23.93 сек\n",
            "Среднее значение функции потерь на обучении 0.37039414195731135\n",
            "Среднее значение функции потерь на валидации 0.9949355303094938\n",
            "\n",
            "Эпоха 4\n",
            "Эпоха: 101 итераций, 23.86 сек\n",
            "Среднее значение функции потерь на обучении 0.3805220395621687\n",
            "Среднее значение функции потерь на валидации 0.9950142488456689\n",
            "\n",
            "Эпоха 5\n",
            "Эпоха: 101 итераций, 23.91 сек\n",
            "Среднее значение функции потерь на обучении 0.37660082186212634\n",
            "Среднее значение функции потерь на валидации 0.9951519332826138\n",
            "Epoch     6: reducing learning rate of group 0 to 5.0000e-07.\n",
            "\n",
            "Эпоха 6\n",
            "Эпоха: 101 итераций, 23.95 сек\n",
            "Среднее значение функции потерь на обучении 0.37278913477859876\n",
            "Среднее значение функции потерь на валидации 0.99516407887523\n",
            "\n",
            "Эпоха 7\n",
            "Эпоха: 101 итераций, 23.90 сек\n",
            "Среднее значение функции потерь на обучении 0.37307080257647107\n",
            "Среднее значение функции потерь на валидации 0.9952671166795951\n",
            "\n",
            "Эпоха 8\n",
            "Эпоха: 101 итераций, 23.93 сек\n",
            "Среднее значение функции потерь на обучении 0.3692273006285771\n",
            "Среднее значение функции потерь на валидации 0.9952929710539488\n",
            "\n",
            "Эпоха 9\n",
            "Эпоха: 101 итераций, 24.00 сек\n",
            "Среднее значение функции потерь на обучении 0.373927437580458\n",
            "Среднее значение функции потерь на валидации 0.9953030786262109\n",
            "\n",
            "Эпоха 10\n",
            "Досрочно остановлено пользователем\n"
=======
            "Эпоха: 101 итераций, 23.28 сек\n",
            "Среднее значение функции потерь на обучении 8.629520505961805\n",
            "Среднее значение функции потерь на валидации 4.819824952345628\n",
            "Новая лучшая модель!\n",
            "\n",
            "Эпоха 1\n",
            "Эпоха: 101 итераций, 22.83 сек\n",
            "Среднее значение функции потерь на обучении 4.208500821991723\n",
            "Среднее значение функции потерь на валидации 3.412286478739518\n",
            "Новая лучшая модель!\n",
            "\n",
            "Эпоха 2\n",
            "Эпоха: 101 итераций, 23.01 сек\n",
            "Среднее значение функции потерь на обучении 3.1564586799923737\n",
            "Среднее значение функции потерь на валидации 2.822719952234855\n",
            "Новая лучшая модель!\n",
            "\n",
            "Эпоха 3\n",
            "Эпоха: 101 итераций, 23.40 сек\n",
            "Среднее значение функции потерь на обучении 2.663495322265247\n",
            "Среднее значение функции потерь на валидации 2.443986271436398\n",
            "Новая лучшая модель!\n",
            "\n",
            "Эпоха 4\n",
            "Эпоха: 101 итераций, 23.23 сек\n",
            "Среднее значение функции потерь на обучении 2.301550554757071\n",
            "Среднее значение функции потерь на валидации 2.216554501881966\n",
            "Новая лучшая модель!\n",
            "\n",
            "Эпоха 5\n",
            "Эпоха: 101 итераций, 23.94 сек\n",
            "Среднее значение функции потерь на обучении 2.057335295299492\n",
            "Среднее значение функции потерь на валидации 2.0138751360086293\n",
            "Новая лучшая модель!\n",
            "\n",
            "Эпоха 6\n",
            "Эпоха: 101 итераций, 23.37 сек\n",
            "Среднее значение функции потерь на обучении 1.8803398880628075\n",
            "Среднее значение функции потерь на валидации 1.9196113038521547\n",
            "Новая лучшая модель!\n",
            "\n",
            "Эпоха 7\n",
            "Эпоха: 101 итераций, 23.86 сек\n",
            "Среднее значение функции потерь на обучении 1.7119377580019508\n",
            "Среднее значение функции потерь на валидации 1.8102392898156092\n",
            "Новая лучшая модель!\n",
            "\n",
            "Эпоха 8\n",
            "Эпоха: 101 итераций, 23.85 сек\n",
            "Среднее значение функции потерь на обучении 1.620117770563258\n",
            "Среднее значение функции потерь на валидации 1.714728985268336\n",
            "Новая лучшая модель!\n",
            "\n",
            "Эпоха 9\n",
            "Эпоха: 101 итераций, 23.97 сек\n",
            "Среднее значение функции потерь на обучении 1.512960162493262\n",
            "Среднее значение функции потерь на валидации 1.6579507251198475\n",
            "Новая лучшая модель!\n",
            "\n",
            "Эпоха 10\n",
            "Эпоха: 101 итераций, 23.68 сек\n",
            "Среднее значение функции потерь на обучении 1.4408678937666486\n",
            "Среднее значение функции потерь на валидации 1.5978202905792456\n",
            "Новая лучшая модель!\n",
            "\n",
            "Эпоха 11\n",
            "Эпоха: 101 итераций, 23.88 сек\n",
            "Среднее значение функции потерь на обучении 1.349799093633595\n",
            "Среднее значение функции потерь на валидации 1.5108808072713704\n",
            "Новая лучшая модель!\n",
            "\n",
            "Эпоха 12\n",
            "Эпоха: 101 итераций, 23.83 сек\n",
            "Среднее значение функции потерь на обучении 1.2681769923408432\n",
            "Среднее значение функции потерь на валидации 1.4997305061954718\n",
            "Новая лучшая модель!\n",
            "\n",
            "Эпоха 13\n",
            "Эпоха: 101 итераций, 23.91 сек\n",
            "Среднее значение функции потерь на обучении 1.2265957245732297\n",
            "Среднее значение функции потерь на валидации 1.4769723919721751\n",
            "Новая лучшая модель!\n",
            "\n",
            "Эпоха 14\n",
            "Эпоха: 101 итераций, 24.28 сек\n",
            "Среднее значение функции потерь на обучении 1.202227750036976\n",
            "Среднее значение функции потерь на валидации 1.4825708602483456\n",
            "\n",
            "Эпоха 15\n",
            "Эпоха: 101 итераций, 24.00 сек\n",
            "Среднее значение функции потерь на обучении 1.1268892052150008\n",
            "Среднее значение функции потерь на валидации 1.387172131584241\n",
            "Новая лучшая модель!\n",
            "\n",
            "Эпоха 16\n",
            "Эпоха: 101 итераций, 23.70 сек\n",
            "Среднее значение функции потерь на обучении 1.1121889234769462\n",
            "Среднее значение функции потерь на валидации 1.3757505044341087\n",
            "Новая лучшая модель!\n",
            "\n",
            "Эпоха 17\n",
            "Эпоха: 101 итераций, 23.93 сек\n",
            "Среднее значение функции потерь на обучении 1.0670649851902876\n",
            "Среднее значение функции потерь на валидации 1.3557165700655718\n",
            "Новая лучшая модель!\n",
            "\n",
            "Эпоха 18\n",
            "Эпоха: 101 итераций, 23.84 сек\n",
            "Среднее значение функции потерь на обучении 1.0274231351248109\n",
            "Среднее значение функции потерь на валидации 1.2994215717682471\n",
            "Новая лучшая модель!\n",
            "\n",
            "Эпоха 19\n",
            "Эпоха: 101 итераций, 24.32 сек\n",
            "Среднее значение функции потерь на обучении 0.9805922425619447\n",
            "Среднее значение функции потерь на валидации 1.2950252552445118\n",
            "Новая лучшая модель!\n",
            "\n",
            "Эпоха 20\n",
            "Эпоха: 101 итераций, 24.06 сек\n",
            "Среднее значение функции потерь на обучении 0.9456515270884674\n",
            "Среднее значение функции потерь на валидации 1.2711644591047213\n",
            "Новая лучшая модель!\n",
            "\n",
            "Эпоха 21\n",
            "Эпоха: 101 итераций, 23.51 сек\n",
            "Среднее значение функции потерь на обучении 0.9240827342071155\n",
            "Среднее значение функции потерь на валидации 1.2841434014531283\n",
            "\n",
            "Эпоха 22\n",
            "Эпоха: 101 итераций, 23.91 сек\n",
            "Среднее значение функции потерь на обучении 0.900366089426645\n",
            "Среднее значение функции потерь на валидации 1.2378177780371447\n",
            "Новая лучшая модель!\n",
            "\n",
            "Эпоха 23\n",
            "Эпоха: 101 итераций, 24.15 сек\n",
            "Среднее значение функции потерь на обучении 0.8637150691287352\n",
            "Среднее значение функции потерь на валидации 1.2253696150504625\n",
            "Новая лучшая модель!\n",
            "\n",
            "Эпоха 24\n",
            "Эпоха: 101 итераций, 23.60 сек\n",
            "Среднее значение функции потерь на обучении 0.8351382565970468\n",
            "Среднее значение функции потерь на валидации 1.237032476812601\n",
            "\n",
            "Эпоха 25\n",
            "Эпоха: 101 итераций, 24.09 сек\n",
            "Среднее значение функции потерь на обучении 0.8220301884235722\n",
            "Среднее значение функции потерь на валидации 1.2340779760136054\n",
            "\n",
            "Эпоха 26\n",
            "Эпоха: 101 итераций, 24.14 сек\n",
            "Среднее значение функции потерь на обучении 0.8147519103961416\n",
            "Среднее значение функции потерь на валидации 1.2573456403154593\n",
            "\n",
            "Эпоха 27\n",
            "Эпоха: 101 итераций, 23.99 сек\n",
            "Среднее значение функции потерь на обучении 0.7982092552846021\n",
            "Среднее значение функции потерь на валидации 1.208132901157324\n",
            "Новая лучшая модель!\n",
            "\n",
            "Эпоха 28\n",
            "Эпоха: 101 итераций, 24.11 сек\n",
            "Среднее значение функции потерь на обучении 0.7630845081098009\n",
            "Среднее значение функции потерь на валидации 1.186586808699828\n",
            "Новая лучшая модель!\n",
            "\n",
            "Эпоха 29\n",
            "Эпоха: 101 итераций, 23.90 сек\n",
            "Среднее значение функции потерь на обучении 0.7724049353953635\n",
            "Среднее значение функции потерь на валидации 1.1773796620277257\n",
            "Новая лучшая модель!\n",
            "\n",
            "Эпоха 30\n",
            "Эпоха: 101 итераций, 24.09 сек\n",
            "Среднее значение функции потерь на обучении 0.7218958213187681\n",
            "Среднее значение функции потерь на валидации 1.1976899109207666\n",
            "\n",
            "Эпоха 31\n",
            "Эпоха: 101 итераций, 23.90 сек\n",
            "Среднее значение функции потерь на обучении 0.7291217927295383\n",
            "Среднее значение функции потерь на валидации 1.1904587866022036\n",
            "\n",
            "Эпоха 32\n",
            "Эпоха: 101 итераций, 23.92 сек\n",
            "Среднее значение функции потерь на обучении 0.7092841783962628\n",
            "Среднее значение функции потерь на валидации 1.1916541053125491\n",
            "\n",
            "Эпоха 33\n",
            "Эпоха: 101 итераций, 24.06 сек\n",
            "Среднее значение функции потерь на обучении 0.7090449837764891\n",
            "Среднее значение функции потерь на валидации 1.1612211924332838\n",
            "Новая лучшая модель!\n",
            "\n",
            "Эпоха 34\n",
            "Эпоха: 101 итераций, 24.17 сек\n",
            "Среднее значение функции потерь на обучении 0.676498810843666\n",
            "Среднее значение функции потерь на валидации 1.1293907566712453\n",
            "Новая лучшая модель!\n",
            "\n",
            "Эпоха 35\n",
            "Эпоха: 101 итераций, 24.20 сек\n",
            "Среднее значение функции потерь на обучении 0.6552938134363382\n",
            "Среднее значение функции потерь на валидации 1.1410059928894043\n",
            "\n",
            "Эпоха 36\n",
            "Эпоха: 101 итераций, 24.00 сек\n",
            "Среднее значение функции потерь на обучении 0.6424372458812033\n",
            "Среднее значение функции потерь на валидации 1.1367948149832396\n",
            "\n",
            "Эпоха 37\n",
            "Эпоха: 101 итераций, 23.86 сек\n",
            "Среднее значение функции потерь на обучении 0.6268655566295774\n",
            "Среднее значение функции потерь на валидации 1.1370071854728918\n",
            "\n",
            "Эпоха 38\n",
            "Эпоха: 101 итераций, 24.08 сек\n",
            "Среднее значение функции потерь на обучении 0.6229953765869141\n",
            "Среднее значение функции потерь на валидации 1.1303371752683933\n",
            "Epoch    39: reducing learning rate of group 0 to 2.5000e-04.\n",
            "\n",
            "Эпоха 39\n",
            "Эпоха: 101 итераций, 23.94 сек\n",
            "Среднее значение функции потерь на обучении 0.559620330534359\n",
            "Среднее значение функции потерь на валидации 1.1020630128108537\n",
            "Новая лучшая модель!\n",
            "\n",
            "Эпоха 40\n",
            "Эпоха: 101 итераций, 24.01 сек\n",
            "Среднее значение функции потерь на обучении 0.5281861439199731\n",
            "Среднее значение функции потерь на валидации 1.107537142932415\n",
            "\n",
            "Эпоха 41\n",
            "Эпоха: 101 итераций, 24.32 сек\n",
            "Среднее значение функции потерь на обучении 0.5207206179009806\n",
            "Среднее значение функции потерь на валидации 1.0936347395181656\n",
            "Новая лучшая модель!\n",
            "\n",
            "Эпоха 42\n",
            "Эпоха: 101 итераций, 23.84 сек\n",
            "Среднее значение функции потерь на обучении 0.5054288777974573\n",
            "Среднее значение функции потерь на валидации 1.0941721539084728\n",
            "\n",
            "Эпоха 43\n",
            "Эпоха: 101 итераций, 24.46 сек\n",
            "Среднее значение функции потерь на обучении 0.4962996577862466\n",
            "Среднее значение функции потерь на валидации 1.0971936537669256\n",
            "\n",
            "Эпоха 44\n",
            "Эпоха: 101 итераций, 23.98 сек\n",
            "Среднее значение функции потерь на обучении 0.5026270139335406\n",
            "Среднее значение функции потерь на валидации 1.0985826460214763\n",
            "\n",
            "Эпоха 45\n",
            "Эпоха: 101 итераций, 24.49 сек\n",
            "Среднее значение функции потерь на обучении 0.48972896656187453\n",
            "Среднее значение функции потерь на валидации 1.096808080203258\n",
            "Epoch    46: reducing learning rate of group 0 to 5.0000e-05.\n",
            "\n",
            "Эпоха 46\n",
            "Эпоха: 101 итераций, 24.25 сек\n",
            "Среднее значение функции потерь на обучении 0.4844934780998985\n",
            "Среднее значение функции потерь на валидации 1.0929831673319523\n",
            "Новая лучшая модель!\n",
            "\n",
            "Эпоха 47\n",
            "Эпоха: 101 итераций, 23.88 сек\n",
            "Среднее значение функции потерь на обучении 0.4932835866319071\n",
            "Среднее значение функции потерь на валидации 1.0876937018564115\n",
            "Новая лучшая модель!\n",
            "\n",
            "Эпоха 48\n",
            "Эпоха: 101 итераций, 24.40 сек\n",
            "Среднее значение функции потерь на обучении 0.48209136724472046\n",
            "Среднее значение функции потерь на валидации 1.0898097487023244\n",
            "\n",
            "Эпоха 49\n",
            "Эпоха: 101 итераций, 23.97 сек\n",
            "Среднее значение функции потерь на обучении 0.4733475610466287\n",
            "Среднее значение функции потерь на валидации 1.086190511400883\n",
            "Новая лучшая модель!\n",
            "\n",
            "Эпоха 50\n",
            "Эпоха: 101 итераций, 24.12 сек\n",
            "Среднее значение функции потерь на обучении 0.48389890553927656\n",
            "Среднее значение функции потерь на валидации 1.0872994741568198\n",
            "\n",
            "Эпоха 51\n",
            "Эпоха: 101 итераций, 24.24 сек\n",
            "Среднее значение функции потерь на обучении 0.48365180120609774\n",
            "Среднее значение функции потерь на валидации 1.0857873564729323\n",
            "Новая лучшая модель!\n",
            "\n",
            "Эпоха 52\n",
            "Эпоха: 101 итераций, 24.48 сек\n",
            "Среднее значение функции потерь на обучении 0.4849452422101899\n",
            "Среднее значение функции потерь на валидации 1.0838130039091294\n",
            "Новая лучшая модель!\n",
            "\n",
            "Эпоха 53\n",
            "Эпоха: 101 итераций, 24.54 сек\n",
            "Среднее значение функции потерь на обучении 0.4719244561868139\n",
            "Среднее значение функции потерь на валидации 1.0871309222510228\n",
            "\n",
            "Эпоха 54\n",
            "Эпоха: 101 итераций, 24.67 сек\n",
            "Среднее значение функции потерь на обучении 0.4708925888384923\n",
            "Среднее значение функции потерь на валидации 1.0895193067307656\n",
            "\n",
            "Эпоха 55\n",
            "Эпоха: 101 итераций, 24.78 сек\n",
            "Среднее значение функции потерь на обучении 0.47284340297821725\n",
            "Среднее значение функции потерь на валидации 1.0867860036400647\n",
            "\n",
            "Эпоха 56\n",
            "Эпоха: 101 итераций, 24.39 сек\n",
            "Среднее значение функции потерь на обучении 0.46194013894194424\n",
            "Среднее значение функции потерь на валидации 1.091189798540794\n",
            "Epoch    57: reducing learning rate of group 0 to 1.0000e-05.\n",
            "\n",
            "Эпоха 57\n",
            "Эпоха: 101 итераций, 24.55 сек\n",
            "Среднее значение функции потерь на обучении 0.46114133032831817\n",
            "Среднее значение функции потерь на валидации 1.0907743848287141\n",
            "\n",
            "Эпоха 58\n",
            "Эпоха: 101 итераций, 24.70 сек\n",
            "Среднее значение функции потерь на обучении 0.4512870978600908\n",
            "Среднее значение функции потерь на валидации 1.0900992481754377\n",
            "\n",
            "Эпоха 59\n",
            "Эпоха: 101 итераций, 24.52 сек\n",
            "Среднее значение функции потерь на обучении 0.46213769322574727\n",
            "Среднее значение функции потерь на валидации 1.0890647522532022\n",
            "\n",
            "Эпоха 60\n",
            "Эпоха: 101 итераций, 24.90 сек\n",
            "Среднее значение функции потерь на обучении 0.4580920949430749\n",
            "Среднее значение функции потерь на валидации 1.0889534073380323\n",
            "Epoch    61: reducing learning rate of group 0 to 2.0000e-06.\n",
            "\n",
            "Эпоха 61\n",
            "Эпоха: 101 итераций, 24.58 сек\n",
            "Среднее значение функции потерь на обучении 0.45553678421690913\n",
            "Среднее значение функции потерь на валидации 1.0889348548192244\n",
            "Модель не улучшилась за последние 8 эпох, прекращаем обучение\n"
>>>>>>> origin/master
          ],
          "name": "stdout"
        }
      ]
    },
    {
      "cell_type": "code",
      "metadata": {
        "id": "ghe0zoP4c3vt",
        "colab_type": "code",
<<<<<<< HEAD
        "outputId": "c7aafc69-98c4-40b7-9cdb-c213b184967d",
        "colab": {
          "base_uri": "https://localhost:8080/",
          "height": 703
=======
        "outputId": "caf18645-aecc-4000-f372-46b9af1af757",
        "colab": {
          "base_uri": "https://localhost:8080/",
          "height": 704
>>>>>>> origin/master
        }
      },
      "source": [
        "pd.DataFrame(losses).plot();"
      ],
      "execution_count": 21,
      "outputs": [
        {
          "output_type": "display_data",
          "data": {
<<<<<<< HEAD
            "image/png": "iVBORw0KGgoAAAANSUhEUgAAAsMAAAKuCAYAAABE5hHGAAAABHNCSVQICAgIfAhkiAAAAAlwSFlzAAALEgAACxIB0t1+/AAAADh0RVh0U29mdHdhcmUAbWF0cGxvdGxpYiB2ZXJzaW9uMy4yLjEsIGh0dHA6Ly9tYXRwbG90bGliLm9yZy+j8jraAAAgAElEQVR4nOzdeZhcVZ3/8c+591bvW3pJ0kmHrOQmkEASSIjsKqAw4qjMMKKC66jMgr9xwV0GkRlnHMYZcBQXFBRHZVRcwAVBFAiGHSRbJWQlpJNekk7v3VV17++Pqk463dVJOt1dVV3n/XqePAl9q2+d6hN5Pnz93u8xYRgKAAAAsJGT7QUAAAAA2UIYBgAAgLUIwwAAALAWYRgAAADWIgwDAADAWl4W37tQ0kpJjZISWVwHAAAA8pcrqV7SU5L6hl7MZhheKenRLL4/AAAA7HGepMeGfjGbYbhRkg4c6FIQZHbWcU1NmVpbOzP6nhgZ+5Fb2I/cwn7kDvYit7AfuSWX98NxjKZMKZVS2XOobIbhhCQFQZjxMDzwvsgd7EduYT9yC/uRO9iL3MJ+5JZJsB9p23J5gA4AAADWIgwDAADAWtlskwAAAMh7PT1d6uxsUyIRz/ZSJkxTk6MgCLK8CqOCgiJNmVInY8xxfxdhGAAAYIL09HSpo+OAqqrqFIkUjCqkTSae5ygez24YDsNAbW0t6uw8qPLyquP+PtokAAAAJkhnZ5uqqupUUFCYt0E4VxjjqLx8inp6RjfVgjAMAAAwQRKJuCKRgmwvwxqu6ykIRneWG2EYAABgAlERzpwT+VkThgEAAGAtwjAAAIBF7rjj64rFYqP+vk2bNujGGz9zwu97883/rJ/85Ecn/P0ThTAMAABgke9855tpw3A8fvTRb4sWnaIbbvjCRC0raxitBgAAkCFrXmzUY39unJB7n3tavc5ZWn/U19xyy79Jkq699j0yxlF9fb0qK6u0a9dOdXd36847/1c33vgZ7dq1U7FYv2bOnKVPfvJzqqio0LPPPq3/+Z//1h13fE+NjXv0vvddrTe+8S1au3aN+vr69PGPf1ann77suNba3d2t//qvL2njxvWSpNe//i/09re/U5L07W9/Qw8++NvUBA7p1lu/rkgkoi984Qbt2LFNruvppJNm66abvjiGn9ZhhGEAAABLfOQjH9e99/6fvva1b6ukpEQ33/zP2rJls77ylW+ouLhYkvShD31UVVXJOb3f+MZX9f3v36Vrr/3HYfc6ePCgliw5TR/4wN/rwQd/o9tvv1Vf+9q3j2sdd975LQVBoO9+90fq7u7SBz7wHs2bt0CnnrpE99zzv/r5z3+jwsIidXd3qaCgUGvWPKru7i7dfff/SZLa29vH6SdCGAYAAMiYc5Yeu3qbaRde+NpDQViSfvOb+/TAA79RPB5TT0+vZs06Ke33FReX6JxzzpMkLVmyVLfe+uXjfs+nn35SH/rQR2WMUWlpmS666BI9/fSTWrVqtWbOnKWbbrpBq1at1tlnn6eSklItWHCyduzYrltu+TctX36Gzj773LF96EHoGQYAALBYScnhIPzCC8/pZz/7iW655TZ997s/0t/+7bXq7+9L+30FBZFDf3Ycd1yOm3ZdV1//+nd0xRVXqrm5Se997zv00ktbNHNmg+6++x6tXHmWnn76Cb3rXVepry/9ukaLMAwAAGCRkpJSdXWlP6Wto6NDpaVlqqysVH9/v+6//xcTsoYzz1yl++//ucIwVHd3lx566AGtXHmWuru71NbWpuXLz9B73/sBzZs3X9u2bVVT0z45jqvzz79Q1133EbW1HVBHx/i0ShyzTcL3/f+QdIWkOZKWRqPRdamvL5R0l6QaSa2SrolGo1vGZVUAAACYEG9969t13XUfVGFhkerrj2zZWL36bD3wwK911VVvUWVllZYtW64NG9aP+xre9a736ctf/nddc83fSJJe97rLtHr12Wpq2qdPf/p69ff3KQgCLVy4SBdc8Go9++zTuv32r0iSgiChd7zjXaqtrRuXtZgwDI/6At/3z5W0U9Kjkt4wKAz/XtK3o9Ho3b7vv0PSe6LR6GtG8d5zJG1vbe1UEBx9DeOtrq5czc0dGX1PjIz9yC3sR25hP3IHe5FbJst+7N27U9Onz872Miac5zmKx4NsL0PS8J+54xjV1JRJ0lxJO4a+/phtEtFo9LFoNPry4K/5vj9V0gpJP0h96QeSVvi+Pz4RHQAAAMiAE50mMUvSK9FoNCFJ0Wg04fv+ntTXm8drcQAAAJg8tmyJ6uabbxz29SuuuFKXX/6mLKzo2LI+Wi1Vts64urryrLwv0mM/cgv7kVvYj9zBXuSWybAfTU2OPM+OeQWe52jx4sW6++4fZnUdjuOM6u/GiYbhlyXN9H3fTVWFXUkzUl8fFXqGwX7kFvYjt7AfuYO9yC2TZT+CIMiZXtqJlEs9w0EQHPF3Y1DPcFon9J8q0Wi0SdLzkq5KfekqSc9Fo1FaJAAAADBpHDMM+75/q+/7uyU1SHrQ9/2B+RoflPSPvu9vlvSPqX8GAAAAJo1jtklEo9HrJF2X5uubJJ01EYsCAAAAMsGOjm4AAACckH/4h/drzZpHR7ze2LhHr3vdaI6ayC3WheEwDJXI8AN7AAAAyE1ZH62WaT9/bLs27z6o669anu2lAAAAy8Q2r1Es+siE3Dvin6/IwnOO+po77/yW2tsP6rrrPiJJOniwTW972xX69Kdv1F133aH+/j4lEgldc817dNFFrzuhdaxd+7i+/vWvKAgCVVVN0cc+9ik1NMzSrl07dPPNN6q3t1dBkNCll16ut73taj366B/0zW9+TY7jKpGI65/+6XqtWHHmCb33ibAuDLd39Wvv/u5sLwMAACDjXv/6N+gDH3in/u7vPiTP8/S73/1G55xzvpYsOU1f/eq35Lqu9u9v1Xvfe7VWrXqVKioqRnX/Awf26wtf+Jxuu+0bmjt3nu6772e68cbP6JvfvEs//emPde655+vqq98tSWpvb5ckfetbX9f1139aS5acpkQiod7ennH/3EdjXRh2XUexHJmDBwAA7BJZeM4xq7cTafr06ZozZ77Wrl2jc8+9QL/61X267roPq63tgP71Xz+v3bt3yXU9tbcf1K5dO7VkydJR3X/9+nWaP3+h5s6dJ0m67LI36pZb/k3d3V1atmy5vvrVW9Xb26sVK848VP0944wzdeut/6kLL3yNVq8+W/PmLRj3z3001vUMR1xH8QRhGAAA2Omyy96gX//6Pm3d+pK6ujp1+unLdcstX9Ty5Wfou9/9ke68839VVzdN/f194/q+F174Wn31q9/SzJkNuvvuO3XTTZ+TJF133Uf08Y9/Rp4X0Wc/+wn94hf3juv7Hot1Ydh1DZVhAABgrQsueI1eeOE5/fCHd+vSS98gY4w6OjpUX18vY4yeemqtXnll1IcKS5JOPXWptm7drJ07d0iSfv3r+3Tyyb5KSkq1e/fLqq6u0WWXXa53v/tvtWFD8uiKXbt2aP78Bbryyqt0ySWXauPGDeP1UY+LdW0SEddREIQKglCOY7K9HAAAgIwqKipKtUj8Uvfc8wtJ0rXX/oNuueXfdMcd39Dixado/vyTT+jeU6ZM0Wc+83ndeOOnlUgkVFU1RZ/73E2SpN///nd64IHfKBLxZIzRhz6UfIjva1/7yqH2jLKyMn3yk58bnw96nEwYZm3M2BxJ21tbOxVkcNTZ/X/aoZ/8cZtu/8gFKoi4GXtfjGyynC9vC/Yjt7AfuYO9yC2TZT/27t2p6dNnZ3sZE87zHMVz5P95H/ozdxyjmpoySZoracfQ11vXJhFxkx85nmDWMAAAgO2sa5NwD4Xh3PivFwAAgMngS1/6F61fv+6Ir7muqzvu+F6WVjQ+rAvDEY8wDAAAMFof+9insr2ECWFdm4SbemiOMAwAADIhi89nWedEftbWheHDlWH+YgIAgInlup5isf5sL8MaiURcjjO6AQnWhWHXoU0CAABkRllZldramtXf30eFeIKFYaCOjgMqLi4b1fdZ2DM80CbBX0gAADCxiotLJUkHD7YokYhneTUTx3EcBUG2C41GBQVFKiurHNV3WReGmSYBAAAyqbi49FAozleTZe5zOta1SXg8QAcAAIAU+8Iwo9UAAACQYl8YdpgmAQAAgCT7wjCVYQAAAKTYF4ZdeoYBAACQZF0Yjri0SQAAACDJujDMaDUAAAAMsC4MRwbaJOKEYQAAANtZF4YPVYYD2iQAAABsZ10YjtAmAQAAgBTrwrDjGDmGMAwAAAALw7AkeZ7LNAkAAADYGYYjruEBOgAAAFgahj2XB+gAAABgZxj2qAwDAABAlobhZGWYMAwAAGA7K8Ow51EZBgAAgKVhOOIyTQIAAACWhmHPM8wZBgAAgJ1hOOK5hGEAAADYGYY919AmAQAAADvDMJVhAAAASJaG4WRlmDAMAABgOyvDcLIyTJsEAACA7awMw1SGAQAAIFkbhh3CMAAAAOwMwxHPoU0CAAAAdoZhz6MyDAAAAEvDcIQ2CQAAAMjSMOyl2iTCkFYJAAAAm1kZhiNe8mMnAsIwAACAzewMw27yY9MqAQAAYDcrw7DnDYRhKsMAAAA2szIMUxkGAACAZGsY9gjDAAAAsDQMey5tEgAAALA0DEc8VxKVYQAAANtZGYY910giDAMAANjOyjB8uDJMmwQAAIDNrAzDnpeqDMepDAMAANjMyjAccVOV4YAwDAAAYDMrw/DhyjBtEgAAADazMgwzTQIAAACSpWGYaRIAAACQLA3DTJMAAACAZGkYpjIMAAAAydIwTM8wAAAAJEvD8OHKMG0SAAAANrMyDEe85MemMgwAAGA3K8Ow5xKGAQAAYGkYNsbIdQxtEgAAAJazMgxLkuc5VIYBAAAsZ28YdgxhGAAAwHL2hmHPoU0CAADAcvaGYYc2CQAAANvZG4bpGQYAALCevWHYZZoEAACA7SwOw1SGAQAAbGdxGGaaBAAAgO2sDcMRl2kSAAAAtrM2DLu0SQAAAFjP2jAcIQwDAABYz9ow7DJNAgAAwHrWhmEqwwAAALA2DLtMkwAAALCetWGYaRIAAACwNgy7rqN4nMowAACAzawNwxHXUTwgDAMAANjM2jDsukbxOG0SAAAANrM2DEdcR0EYKggIxAAAALayNgy7rpEkJkoAAABYzNowHHGTH52JEgAAAPayNgy7h8IwlWEAAABbWRuGPdokAAAArGdxGKYyDAAAYDvCMD3DAAAA1iIMUxkGAACwlsVheKBnmMowAACArewNwx6VYQAAANvZG4YdpkkAAADYzt4w7PEAHQAAgO3sDcMObRIAAAC2szcM0zMMAABgPXvDMCfQAQAAWM/aMBzh0A0AAADrWRuGXQ7dAAAAsJ61YTjCoRsAAADWszYMUxkGAACAtWE4QhgGAACwnrVh2HGMjCEMAwAA2MzaMCwlq8P0DAMAANjL6jDsuo7icSrDAAAAtrI6DEdco3hAZRgAAMBWVodhKsMAAAB2szoMR1xH8YAwDAAAYCurw7DrGirDAAAAFrM6DDNNAgAAwG5Wh2GXNgkAAACrWR2GPdokAAAArOaN9Qa+779B0k2STOrXjdFo9KdjvW8meK6jGCfQAQAAWGtMlWHf942k70m6OhqNLpN0taS7fN+fFBVnj9FqAAAAVhuP0BpIqkz9uUpSYzQanRQJ03MND9ABAABYbExhOBqNhpKulPRz3/d3SvqZpGvGY2GZ4LmO4rRJAAAAWGtMPcO+73uSPinpL6PR6Brf98+RdI/v+6dEo9HO47lHTU3ZWJZwwurqylVWWqAw9WdkF3uQW9iP3MJ+5A72IrewH7llsu7HWB+gWyZpRjQaXSNJqUDcJWmxpKeO5watrZ0Kgsy2KtTVlau5uUPxWEJ9/XE1N3dk9P1xpIH9QG5gP3IL+5E72Ivcwn7kllzeD8cxRy2+jrVneLekBt/3fUnyfX+xpGmSto7xvhnheRy6AQAAYLMxVYaj0ehe3/evlfRj3/cHmm/fE41G9499aRPPc+gZBgAAsNmY5wxHo9HvS/r+OKwl4zyPaRIAAAA2mxTzgCfKQGU4DAnEAAAANrI7DHvJj5/I8AN8AAAAyA12h2HXSBJ9wwAAAJayPAwnPz59wwAAAHYiDIvKMAAAgK0sD8O0SQAAANjM8jBMmwQAAIDNrA7DEdokAAAArGZ1GHZpkwAAALCa1WE4QpsEAACA1awOw+5AGI5TGQYAALCR1WH4UGU4IAwDAADYyOowfLhnmDYJAAAAG1kdhj3aJAAAAKxmeRhOVYZpkwAAALCS5WF4oDJMmwQAAICNCMOiMgwAAGAry8Nwqk2CnmEAAAArWR6GOXQDAADAZoRhcRwzAACArSwPwwNzhgnDAAAANrI6DBtj5DqGNgkAAABLWR2GJcnzHCrDAAAAliIMO4YwDAAAYCnCsOfQJgEAAGApwrBDmwQAAICtCMP0DAMAAFiLMOwyTQIAAMBWhGGXyjAAAICtCMMu0yQAAABsZX0YjrhMkwAAALCV9WHYpU0CAADAWtaH4QhhGAAAwFrWh2GXaRIAAADWsj4MUxkGAACwl/Vh2HWNEoRhAAAAK1kfhiOuoxhtEgAAAFayPgy7rkNlGAAAwFLWh2HPNYoRhgEAAKxEGHYdJWiTAAAAsBJh2HWUCEIFIYEYAADANoRh10gSfcMAAAAWIgy7yR9BLE5lGAAAwDaE4VQYjgdUhgEAAGxDGE61ScTjhGEAAADbEIYPVYZpkwAAALANYXggDFMZBgAAsA5heCAMM00CAADAOoThgZ5hDt4AAACwDmHYozIMAABgK8KwM1AZJgwDAADYhjB8qDJMmwQAAIBtCMMObRIAAAC2IgzTMwwAAGAtwrBLzzAAAICtrA/DEZeeYQAAAFtZH4bdVBhOUBkGAACwjvVhOJJqk4hRGQYAALCO9WGYyjAAAIC9rA/DAz3DMcIwAACAdawPw45jZAwP0AEAANjI+jAsSZ7rMFoNAADAQoRhEYYBAABsRRhW8uAN2iQAAADsQxgWlWEAAABbEYY1UBkmDAMAANiGMKyByjBtEgAAALYhDCsVhuNUhgEAAGxDGFYqDAeEYQAAANsQhpXqGaYyDAAAYB3CsAYqw/QMAwAA2IYwLHqGAQAAbEUYFoduAAAA2IowLA7dAAAAsBVhWIRhAAAAWxGGxQl0AAAAtiIMS/I8TqADAACwEWFYkufQJgEAAGAjwrAkz2OaBAAAgI0Iw0pWhhOJQGFIIAYAALAJYVjJnuFQUoJT6AAAAKxCGFZymoQkJWiVAAAAsAphWMk5w5IU4yE6AAAAqxCGdTgMJwjDAAAAViEM63CbBJVhAAAAuxCGNbgyTM8wAACATQjDomcYAADAVoRhMU0CAADAVoRhURkGAACwFWFYTJMAAACwFWFYTJMAAACwFWFYhyvDcXqGAQAArEIY1qAwHKcyDAAAYBPCsA63ScQDwjAAAIBNCMMaXBmmTQIAAMAmhGENCsNUhgEAAKxCGNagNgl6hgEAAKxCGBbTJAAAAGxFGNbgMExlGAAAwCaEYQ1qkyAMAwAAWIUwLMkYI9cxtEkAAABYhjCc4nkOlWEAAADLEIZTPMcoQWUYAADAKoThFM9zFKMyDAAAYBXCcIrnOEoQhgEAAKxCGE6hMgwAAGAfwnCK59IzDAAAYBvCcIrnUhkGAACwDWE4JVkZJgwDAADYhDCc4jmOYrRJAAAAWIUwnOJ5TJMAAACwDWE4xXMMPcMAAACWIQynJCvDtEkAAADYhDCcwjQJAAAA+xCGU5gmAQAAYB9vrDfwfb9I0pclXSSpV9KfotHo+8d630xLVoZpkwAAALDJmMOwpH9XMgQvjEajoe/708bhnhnnuUyTAAAAsM2YwrDv+2WSrpHUEI1GQ0mKRqP7xmNhmea5TJMAAACwzVgrw/MltUq6wff9V0vqlPSZaDT62JhXlmHJyjBtEgAAADYZaxh2Jc2T9Fw0Gv2Y7/tnSfql7/sLotFo+/HcoKambIxLODF1deVH/HNleZESQaiamjI5jsnKmmw2dD+QXexHbmE/cgd7kVvYj9wyWfdjrGF4l6S4pB9IUjQafcL3/RZJCyU9fTw3aG3tVBBktiJbV1eu5uaOI77W1xeTJO3dd1ARz83oemyXbj+QPexHbmE/cgd7kVvYj9ySy/vhOOaoxdcxjVaLRqMtkh6WdLEk+b6/UNJUSS+N5b7Z4LnJH0UsTqsEAACALcZjmsQHJX3b9/1bJMUkXR2NRtvG4b4ZNRCG4wEP0QEAANhizGE4Go1uk3Th2JeSXZ6b7BPmIToAAAB7cAJdyqE2CcarAQAAWIMwnDIQhjl4AwAAwB6E4ZTDD9ARhgEAAGxBGE451DOc4TFvAAAAyB7CcIrnURkGAACwDWE4xXMGpkkQhgEAAGxBGE45VBlmtBoAAIA1CMMpnsM0CQAAANsQhlMOV4YJwwAAALYgDKdwAh0AAIB9CMMpA20SVIYBAADsQRhOGWiToGcYAADAHoThlIE2CaZJAAAA2IMwnDJwHDOVYQAAAHsQhlMOV4YJwwAAALYgDKe4jiNjpDhtEgAAANYgDA/iuY7iVIYBAACsQRgehDAMAABgF8LwIJ5raJMAAACwCGF4ECrDAAAAdiEMD5KsDBOGAQAAbEEYHiRZGaZNAgAAwBaE4UE81+HQDQAAAIsQhgfxXIdDNwAAACxCGB7Ec40StEkAAABYgzA8CJVhAAAAuxCGB6FnGAAAwC6E4UE81ygWp00CAADAFoThQTzXUSKgMgwAAGALwvAgnusoFicMAwAA2IIwPIjnGiUC2iQAAABsQRgexPOoDAMAANiEMDyI59AzDAAAYBPC8CCexzQJAAAAmxCGB/Gc5JzhMCQQAwAA2IAwPIjnGoUSD9EBAABYgjA8iOclfxyJBGEYAADABoThQTwn+eOIcSQzAACAFQjDgxyuDBOGAQAAbEAYHsRzjCQqwwAAALYgDA9CzzAAAIBdCMODeC49wwAAADYhDA/iuck2CSrDAAAAdiAMD0JlGAAAwC6E4UEGwjDTJAAAAOxAGB5koE0iTpsEAACAFQjDg9AmAQAAYBfC8CC0SQAAANiFMDzIQJsElWEAAAA7EIYHOVwZpmcYAADABoThQegZBgAAsAtheBAO3QAAALALYXiQQ5XhOJVhAAAAGxCGBznUMxwQhgEAAGxAGB7k0DQJKsMAAABWIAwPYoyR6xglAnqGAQAAbEAYHsLzHCrDAAAAliAMD+E5hmkSAAAAliAMD+G5DnOGAQAALEEYHsJzHSUIwwAAAFYgDA/huYbKMAAAgCUIw0N4nkPPMAAAgCUIw0N4Dj3DAAAAtiAMD+F5hp5hAAAASxCGh0hWhmmTAAAAsAFheIhkzzCVYQAAABsQhofwHKM4lWEAAAArEIaH8DxHcSrDAAAAViAMD+G5hGEAAABbEIaH8FxDGAYAALAEYXiIZGWYnmEAAAAbEIaHoE0CAADAHoThIZJtElSGAQAAbEAYHoLKMAAAgD0Iw0N4rqNEECoIqQ4DAADkO8LwEJ5rJIlT6AAAACxAGB7Cc5M/EvqGAQAA8h9heIiBMByjMgwAAJD3CMNDHG6ToDIMAACQ7wjDQ1AZBgAAsAdheIiBMMwDdAAAAPmPMDzEocpwnDAMAACQ7wjDQxzqGQ7oGQYAAMh3hOEhqAwDAADYgzA8BIduAAAA2IMwPMThaRK0SQAAAOQ7wvAQTJMAAACwB2F4iIE2CeYMAwAA5D/C8BCeN1AZpk0CAAAg3xGGh/Cc5I8kTmUYAAAg7xGGhxioDBOGAQAA8h9heIiBnuE4bRIAAAB5jzA8xMA0CSrDAAAA+Y8wPMThyjBhGAAAIN8RhodwHUfGcOgGAACADQjDaXiuw6EbAAAAFiAMp+G5DoduAAAAWIAwnIbnGg7dAAAAsABhOA0qwwAAAHYgDKeRrAwThgEAAPIdYTiNZGWYNgkAAIB8RxhOg2kSAAAAdiAMp0HPMAAAgB0Iw2kwTQIAAMAOhOE0qAwDAADYgTCcBj3DAAAAdiAMp+G5RrE4bRIAAAD5jjCchuc6SgRUhgEAAPIdYTiNZGWYMAwAAJDvCMNpJCvDtEkAAADkO8JwGp7rUBkGAACwAGE4DXqGAQAA7EAYTsNzjeIcugEAAJD3CMNpeK6jeDxQGBKIAQAA8hlhOA3PNQolBYRhAACAvEYYTsPzkj+WOAdvAAAA5LVxC8O+79/g+37o+/6S8bpntnhOKgzzEB0AAEBeG5cw7Pv+CkmrJe0cj/tl2+HKMGEYAAAgn405DPu+XyjpfyRdO/bl5AbPMZLERAkAAIA8Nx6V4c9Lujsaje4Yh3vlhEOV4QSVYQAAgHzmjeWbfd9/laQzJX3iRO9RU1M2liWMWvuzD2jfY+s07c0fHvE11VPaJUnllcWqqyvP1NKsxs85t7AfuYX9yB3sRW5hP3LLZN2PMYVhSRdIWixpu+/7ktQg6be+7787Go0+cDw3aG3tVBBkrh2hb8/L6t/0hJqaDsqY9IXx7q4+SVJzc6dKXJOxtdmqrq5czc0d2V4GUtiP3MJ+5A72IrewH7kll/fDccxRi69jCsPRaPSLkr448M++7++Q9IZoNLpuLPedSKa8VgriCrvaZMqq077Gc2mTAAAAsIF1c4ad8jpJUtDZMuJrCMMAAAB2GGubxBGi0eic8bzfRHDKayVJYXuzNH1h2td4LtMkAAAAbGBdZdiU1UiSgo5jV4ZjVIYBAADymn1h2CuQWzbluMJwgjAMAACQ16wLw5LkVU1V2NE88vVUmwSVYQAAgPxmZRiOVE1TcNQwPFAZpmcYAAAgn1kZhr3KOoVdBxQGifTX6RkGAACwgp1huGqqFAYKO/env55qk6AyDAAAkN+sDMORqmmSRp41fKgyHKcyDAAAkM+sDMNeZfLgjbA9fd/woZ7hgDAMAACQz+wMwxW1kjEjPkTncugGAACAFawMw8b1ZEqrR5w17Bgj1zEcxwwAAJDnrAzDUvJY5vAYB28QhgEAAPKbtWHYlNcdY9awUTxOmwQAAEA+szYMO+W1CrvbFCZiaa97rqM4D9ABAADkNVrzRQ0AACAASURBVIvDcGqiREdr2uue6yjOaDUAAIC8Zm0YNuW1ko42a9goHtAmAQAAkM+sDcPOQBgeadawR2UYAAAg31kbhk3JFMlxFY7wEJ3nME0CAAAg39kbhh1HpqxmxFnDnsecYQAAgHxnbRiWkg/RjRiGHYcT6AAAAPKc5WG4VuFID9B5tEkAAADkO6vDsCmvVdjTrjDWN+ya5xgqwwAAAHnO6jA8MGs4XasElWEAAID8Z3kYTo5XCzuHT5TwXEcxwjAAAEBeszoMHzp4o314Zbi8JKK2zj4FIa0SAAAA+cruMFxcKbkRBWlmDc+oKVV/LNCB9uH9xAAAAMgPdodhY5ITJdL0DNfXlEiSGvd3ZXpZAAAAyBCrw7AkmRFmDdfXlEqSGlu7M70kAAAAZIj1Ydgpr1WQZtZweUlEpUUeYRgAACCPEYbLa6W+LoX9R4ZeY4ym15RobyttEgAAAPnK+jBsBmYNtw9/iK6+plR7qAwDAADkLevD8KGDN9K0StTXlKi9q19dvbFMLwsAAAAZQBgeOHgjzaxhHqIDAADIb9aHYRWWSpGitLOGD41Xo28YAAAgL1kfhgdmDacbr1ZXWSzPNdpLZRgAACAvWR+GpWTfcLqDNxzHaFp1CW0SAAAAeYowLMmkZg2HYTjsWn1NKW0SAAAAeYowrNRDdLFehX2dw67VV5eoqa1HsXiQhZUBAABgIhGGdXjWcJh21nCJwlBqOkCrBAAAQL4hDOtYs4YZrwYAAJCvCMM6PGs4SDNreHo149UAAADyFWFYkikolgpLFaaZNVxY4KqmokiN+6kMAwAA5BvCcIqTmiiRTn1NiRpbCMMAAAD5hjCc4pTXpX2ATkqNV9vfpSDN6DUAAABMXoThlOSs4dYRZg2XqD8W6EB7XxZWBgAAgIlCGE5xymulRExhz8Fh1+prUg/R7echOgAAgHxCGE5xjjprODVejb5hAACAvEIYTjFHmTVcXhJRaZHHRAkAAIA8QxhOccprJElBmsqwMUb1NaXay6xhAACAvEIYTjFeoUxxhcIRxqtNrynRHk6hAwAAyCuE4UFMea2CjvRheEZNqdq7+tXVG8vwqgAAADBRCMODOOV1adskpGRlWJIaqQ4DAADkDcLwIE55ncLO/QqDYNi1Q+PV6BsGAADIG4ThQUx5rRQmFHYfGHatrrJYnmuoDAMAAOQRwvAgTnmtpPQTJRzHaFp1ifYShgEAAPIGYXiQQwdvjDBRor6mlDYJAACAPEIYHsSUVUsyIz5EV19doqa2HsXiw3uKAQAAMPkQhgcxbkSmdEraU+gkqb62RGEoNR2gVQIAACAfEIaHcMprFY4wa7i+ulQS49UAAADyBWF4CFNeO/Ks4WrGqwEAAOQTwvAQTnmdwu4DChPxYdcKC1zVVBRRGQYAAMgThOEhnPJaKQwVdu1Pe72+poQwDAAAkCcIw0OYo8wallLj1fZ3KQjDTC4LAAAAE4AwPMTArOERJ0rUlKg/FuhAe18mlwUAAIAJQBgewpROkYyjcMTKcOohuv08RAcAADDZEYaHMI4rU1ZzlMpwarxaC33DAAAAkx1hOA2nvFbBCLOGy0siKi3y1LifMAwAADDZEYbTcMprR2yTMMYkH6JroU0CAABgsiMMp2HK6xT2HFQY7097fXpNCZVhAACAPEAYTsMZGK82Qt/wjJpStXf1q6s3lsllAQAAYJwRhtMwqfFqYXv6MDx9YKIEh28AAABMaoThNI5dGR4Iw/QNAwAATGaE4TRMSaXkeiOeQldbWSzPNVSGAQAAJjnCcBrGODJltQpHqAw7jtG06hLtJQwDAABMaoThERxt1rCUPHyDNgkAAIDJjTA8AmfKTAX7X1YY70t7vb66RE1tPYrFgwyvDAAAAOOFMDwCb9ZSKRFXYk807fX62hKFodR0gFYJAACAyYowPAJ3+kLJLVB894tpr9dXl0pivBoAAMBkRhgegfEK5M5YpPjL6cPwdMarAQAATHqE4aPwZi1VeHCvgvamYdcKI65qKoqoDAMAAExihOGj8BqWSpLiu9elvV5fU0IYBgAAmMQIw0dhKqfJlNcpMUKrRH1NqRr3dykIwwyvDAAAAOOBMHwUxhh5s5Yq/soGhYn4sOv1NSXqjwU60J5+/BoAAAByG2H4GLyGpVK8T4l9W4Zdqx94iG4/D9EBAABMRoThY3BnLJIcN22rRH1NarxaC33DAAAAkxFh+BhMQbHc6QvTjlgrL4motMhT437CMAAAwGREGD4ObsNSBftfVtB14IivG2OSD9G10CYBAAAwGRGGj4M3KzliLZFmxNrs6eXa3tiu3v7hD9gBAAAgtxGGj4NT3SBTUpW2VWLloqnqjwd6/qWWLKwMAAAAY0EYPg7GGLkNSxV/Zb3CIHHEtQUNlZpSXqgnNww/pQ4AAAC5jTB8nLxZS6W+LgXN24/4umOMVi2eqhe3taqrN5al1QEAAOBEEIaPkzfzFMmYtK0SqxZPUyII9Wy0OQsrAwAAwIkiDB8nU1QmZ+r8tGF4zvRyTa0q1pMb92VhZQAAADhRhOFR8BqWKmjerqC344ivG2O06pRp2rDzgA529WdpdQAAABgtwvAoJEeshUrsXj/s2lmLpyoMpac38SAdAADAZEEYHgWndo5MYVnaVomZdWWaWVdKqwQAAMAkQhgeBeM4chuWKLH7RYVhMOz6qsXTtGX3Qe1v783C6gAAADBahOFR8mYtVdjTrqD15WHXVi2eKkl6ciOtEgAAAJMBYXiU3IZTJSltq8S0KSWaW1+uJ2iVAAAAmBQIw6PklFTJqTlJid3Dw7CUbJXYubdD+/Z3Z3hlAAAAGC3C8AnwZi1VYu9LCvuHB96ViwZaJagOAwAA5DrC8AlwG5ZKYULxVzYOu1ZdUaSFDZX0DQMAAEwChOET4E5bIEWKlEjTNyxJq06ZpldaurS7qTPDKwMAAMBoEIZPgHE9eTNPUXz3iwrDcNj1M/2pcozhQToAAIAcRxg+QW7DUoWdrQraGoddqygt0OI5U/Tkxn1pwzIAAAByA2H4BHmzlkjSyK0Si6equa1XO/Z2ZHJZAAAAGAXC8AlyyuvkVNUrPsKItTMW1sl1jJ7YQKsEAABAriIMj4HbsFSJxk0K433DrpUURbR0Xo2e3LhPAa0SAAAAOYkwPAberKVSIq7Enmja62edMk1tnf3a8nJbhlcGAACA40EYHgO33pfcyIitEssW1Kog4jBzGAAAIEcRhsfAeAVyZyxSfMezCoNg2PXCAlfLFtTqqU1NiieGXwcAAEB2EYbHKOKfp7CzVYldL6S9vmrxNHX2xLRp54EMrwwAAADHQhgeI2/OCpnSavWv/13a60vnVau40OUADgAAgBxEGB4j43iKnPoaJV7ZoMT+3cOuRzxXKxbW6dnNzYrFaZUAAADIJYThcVCw6ELJjSi27sG0189aPE09fQmt29aa2YUBAADgqAjD48AUlSly8qsU2/K4wt7OYdcXzZ6isuKI1nIABwAAQE7xxvLNvu/XSPqepPmS+iVtkfSBaDTaPA5rm1QiSy5WbNMj6t/0iAqXXXbENc919KpTp+uhZ3Zr34FuTZtSkqVVAgAAYLCxVoZDSf8ejUb9aDS6VNJWSV8c+7ImH7d6ltwZixVb/6DCIDHs+qWrT5LnGv3ise1ZWB0AAADSGVMYjkaj+6PR6B8GfWmtpNljWtEkFllyscKu/YrveHbYtaqyQr3mjAatXb9PrzQPb6UAAABA5o1bz7Dv+46kayX9YrzuOdl4Jy2TKa9TbF36MWuXrZ6twgJXP6M6DAAAkBPG1DM8xG2SOiV9ZTTfVFNTNo5LOH51deUTct+2sy7T/gfvUkWiWYXT5x35npLefOEC/eCBqA72JbSgoWpC1jAZTdR+4MSwH7mF/cgd7EVuYT9yy2TdDxOG4Zhv4vv+f0g6TdLl0Wi07zi/bY6k7a2tnQqCsa9hNOrqytXc3DEh9w77utT5/Q/Lm7dSxRe+b9j17t64Pn7745o3o1L/dOXpE7KGyWYi9wOjx37kFvYjd7AXuYX9yC25vB+OYwaKr3Ml7Rh2faxv4Pv+v0g6Q9KbRhGE85YpLFVk4TmKv7RWQU/7sOslRZ4uXT1bL25r1ZbdbVlYIQAAAAaMKQz7vn+qpE9KmiHpcd/3n/d9/95xWdkkFllykRTEFdv4h7TXX7uiQRWlBbr3kW0aj8o8AAAATsyYeoaj0eh6SWac1pI33KoZchuWKLbh9ypYdpmMc+SPubDA1V+8arZ+8OAWbdh5QKfOqc7SSgEAAOzGCXQTpGDJxQq72xTf9nTa6xcum6nqikKqwwAAAFlEGJ4g7qylMpXT1b/ugbTXI56jN54zV9v2tOuFl1ozvDoAAABIhOEJY4yjglMvUtC0TYmmrWlfc/aS6ZpaVayfPrJNAdVhAACAjCMMT6DIwnOkSLH6RziEw3Md/eV5c7W7uVNPb2rK8OoAAABAGJ5ApqBYEf88xbc+paDrQNrXnLV4mmbWlupnj25XIggyvEIAAAC7EYYnWMGSi6QwUGzjw2mvO47Rm86bq737u/WndfsyvDoAAAC7EYYnmFMxVe5Jpyu24WGFiVja16xYWKfZ08v1izXbFU9QHQYAAMgUwnAGFCy5WGFvh+Jbn0h73Rijt5w/Ty0He/XoC3syvDoAAAB7EYYzwJ15ipwpM9X33C8V9nWlfc2SudVa0FCpXz6+Q/2xRIZXCAAAYCfCcAYYY1R4ztUKO1rU88BtadsljDG64vx5auvs1++ffSULqwQAALAPYThDvBmLVHTh+5Ro3KTeP96hMBzeG+yfNEVL5lbrp49s0/od+7OwSgAAALsQhjMosuBVKlj1V4q/tFb9T/0k7Wv+9vJTNL26WLf9+M/atDP9ODYAAACMD8JwhhWc/heKLL5Q/c/fr/4Nvx92vbykQB9963LVVhXrv3/8Z21+uS0LqwQAALADYTjDBvqH3ZNOV9+a7ym+8/lhr6koLdDH3rpMVeWF+vL/vaCtrxzMwkoBAADyH2E4C4zjqvi1fyenZrZ6HvqqEk3bhr2msqxQ11+1XJUlBfrPe57X9sb2LKwUAAAgvxGGs8REClX8+v8nU1yhnt/+l4L2pmGvmVJeqOvftlylRRHd8sPntXNvRxZWCgAAkL8Iw1nklFSp+NIPKwwS6v71fyrs7Rz2muqKIl1/1XIVF7r6jx8+p5ebhr8GAAAAJ4YwnGVu1QwVX3Kdws4W9fz2vxXG+4e9praqWB+7arkKIslA/EpL+oM7AAAAMDqE4Rzg1fsquvD9Suzbot4/fDPtDOKpU0r0sauWy3GMvvSD59TYSiAGAAAYK8JwjojMX6XC1X+j+Lan1PfoXWkrxNOrS3T9VculMNSXfvCc9h3ozsJKAQAA8gdhOIdElr5eBadfptimP6r7J59TYu+WYa+prynVR69arngi1L987xlt4KQ6AACAE0YYziHGGBWedaWKL/uowkRM3b/4F/U+/r8K431HvK6hrkyffMcKlRVHdMuPntd9j+9QEIZZWjUAAMDkRRjOQV7DEpX+1RcUOeXViq17QF0//qziezYd8Zr6mlJ99p1natXiafrpI9t024//rK7eWJZWDAAAMDkRhnOUKShW0bnXqPgNH5fCUD33fVG9j31XYaz30GuKCjy9//JT9PaLF2rd9v268TtPMYsYAABgFAjDOc6bsThZJV5ysWIbHlbX/31a8d3rD103xui1ZzToE29foUQQ6ubvPaNHXtiTxRUDAABMHoThScBEClV09ttV/MZPSW5EPb/6knof+bbC/sPTJObPrNQN716phbMqdeevN+nb929UfyyRxVUDAADkPsLwJOJNP1mlV3xekdMuVSz6qLru+ZRiWx5XmHp4rqKkQB++cpkuP3uOHnuxUTd/7xnGrwEAABwFYXiSMV6Bilb/jUr+8rMypVPU+/A31PPLf1WiZackyXGM3nz+PP2/vz5N+9t79fk7n9Yz0aYsrxoAACA3EYYnKXfqPJW86bMqPP/dCtoa1X3vPycfsOvtlCSdNr9WN7xrpaZNKdb/3LtOt/98ndq7hx/kAQAAYDMv2wvAiTPGUcGiCxSZe6b6nr5XsQ0PKb71SRWsvEKRRReotqpYn7r6DP167U79Ys0ObdhxQO+4ZKFWLpoqY0y2lw8AAJB1VIbzgCksVdE571DJWz4vp3qm+h67S90/u1GJfS/Jcx1dfs5c3fDulaqrKtLtP1+vr/z0RbV19h37xgAAAHmOMJxH3JpZKn7DJ1T0mg8q7D6o7p9/QT0Pf1NBd5sa6sr0qavP0JWvXqB12/frM998QmtebDz08B0AAICNaJPIM8YYRRasljd7mfqf+6X6//wbxbc+IW/BahUsuVivP2u2lp1cq+/8aqPuuH+jnti4T+983SLVVBZle+kAAAAZRxjOUyZSpMJVf62If776X/ytYpsfU3zzY3LrfdUsvUTXX7VMf3i+UT/+w1Z99o4ndOWrF+j8ZTPk0EsMAAAsQhjOc07lNBWde40KV16h2KZH1L/+QfU+cJtMeZ3OO/UinXb1St350E5997dRPb5ur/761fN1ckNVtpcNAACQEYRhS5jCUhWcfqkiSy9RfMeziq37nfrW/kBFkXv1jwvP1QvzTtMPn2zXv979rJYtqNVbzp+nhqll2V42AADAhCIMW8Y4riLzVioyb6USzTvUv+4BxTY+rFOCh3RTwzztTlTrT42F+uZdUZ3k+3rj+Serrqo428sGAACYEIRhi7l1c1T86vcrOOtKxTY8rMSejZrZ9qL+qrBXKpTijb/Wvh9Uqqlylmb5i1UyY57cmpNkCgjHAAAgPxCGIaekSoVnvlnSmxWGgcL2JiVadqlrz1a52zeron2zzDN/Vs8zydebiqlyp8yUU91w+FflNBnn2H+dwjCU+roUdDQr6GhW2NGinpOXSCUnTeyHBAAASIMwjCMY48hUTpdTOV1V81ep6jypsaVTP/7jOrXu2Kx5RW1aZvpU17ZX2vWCFAbJb3RcOVX1yWA8pUFudYNkTDL0tidDb9DRpKC9RYr1HPGejU/co4LTL1PByrccV6AGAAAYLyQPHFN9bZnefcVqbW88RT/941bdt/2ACiOuLlhSp9cu9FQVb1Gwf7cS+3crsXeL4i+tPfIGbkROeZ1Mea0i0xcm/1xRl/y9pErOuvvU8dyvFN+7WcWv+aCc8trsfFAAAGAdwjCO29z6Cn3krcu1a1+HHnjqZT30wj797rlQyxfW6ZKVl+jkVZUyxijs71aw/xWFkpyKOpniChkz8mGHdZd9QLHq+ep95Dvq+snnVHThexWZc0bmPhgAALAWYRijdtK0cr3vDafoigvm6+HnduvhZ1/Rs5ubNWd6uS5ZOUtnLpoqb/rJo7pnZP5ZcuvmqufBr6r3gduUWHKxCs+6UsaNTNCnAAAAkEYu1wHHMKW8UG85f77+4+/P0TWv89Xbn9A3frlBH7/9T/rV2p3q7ImN6n5OxVSV/OWnFVlyiWLrfqfun39BwcF9E7R6AAAAKsMYB4URVxcun6nzl83Qum2t+u2TL+vHf9iqex/ZpqXzarT61GlatqBWBRH3mPcybkRFZ79N3ozF6vnjt9T10xtUdN67FFmwOgOfBAAA2IYwjHHjGKPT5tfqtPm12t3UqTXrGrV2wz49/1KLigpcnbGwTqtPna7Fs6fIccxR7+XNWa7S2s+r56Gvqff3tyuxZ4MKVv6VTFG5jDn69x6PMAgkY8blXgAAYPIiDGNCNEwt09+85mT99YULtGnXAa1dv0/PbG7SmnV7VVlaoLNOmabVp07T7GnlI97DKatRyeWfUP/TP1P/8/crtukRybgyxeUyxZWDfq+QU1IhU1QhU1IpBYHC3o7Dv3qSvwe9HQp7OxX2dkh9XZJXkJpyUSenok5OxVQ55bUy5VPlVNTKeIUZ/InZK2jbq77n75c3ZxkPTgIAMs6EYZit954jaXtra6eCILNrqKsrV3NzR0bfE1J/LKE/b23Vn9bv1YvbWhVPhJpeXaJXnTZD9VVFmltfoeqKwrTV2sS+l5Ro2qqwp11hT7uC1O9h90GFPe1SEE//pgPhuagsWVU+9KtMYX+PwtThH0F7sxTvO/JbiyuTI+CKK2UKS6TCUpmCEpnC0tSv1J8LSqXCknGrWh+vMEgoaN8np7RGJjJ+wT1T//sIEzH1P3+/+p+7TwoSkkJ5s5er8Jx3yCmrmfD3nyz491XuYC9yC/uRW3J5PxzHqKamTJLmStox9DqVYWRMQcTVmYum6sxFU9XVG9PTm5r0xIZ9+uWj2xRPJA/vqCgt0Lz6Cs2dUZH8vb5cJUURudMWyJ22IO19wzCUYj0Ku9sV9ByUcdxkMC0ulyLFxxVQwzBMVpFTwTjoaFaY+j04uE9hf5fCvi4p3j/iPUxptbw5K+TNWSG3fuG4HiASBgkFbY0Kmrcr0bJDiZadClp2SYl+KVKkyLxV8vxz5U47eVK0fsT3bFTfo3cpOLhX3vzVKjzrSsW3rlXfMz9T/J5PqfDMNymy5BIZ59h95oOFibji255UfPszcmcsUsQ/f1z/QwEAkH+oDCPrqqaU6rkNjdq2p13bG5O/Glu7D12fXl2iufUVWnZyrVYsrJXrZG8ISpiIKezrVtjfJfV1K+xLhuSwt1OJPRsV371OSsSkwlJ5s05LhuNZS2UiRcf/Hv09CtqbFOx/WYnmHUq07DgcfCUpUiS35iQ5dXPlTpmp+N4tim97Uor3yVROU2ThuYqcfI6csuoT+owT+b+PoLdDfWt/pPjmx2TK61R07jXyZi09fL2jRb1rvqfErhfk1JykovPeJXfqvGPft7tNsQ0PK7bxDwp7DsoUlins65QpLFNkyUUqOPUimaKyCflMxyvoaVfQslOJ1p0K21vkzT1DbsOSY/7HC/++yh3sRW5hP3JLLu/HsSrDhGFkXbr96O6NafveDm1PBeSte9rV3tWv2soiXbJyls47bYYKC0ZXNcyEMNan+CvrFN/xrOI7n0/2Jrue3JmnJoPx7OUyXqGCjhaFnc0K2lsUdLYkq9CdLQo6WpLfM8ArlFs7W07tHLl1c+TUzZFTMV1myH8QhLFexbc9pdjmx5RojEoychtOVWThufLmrJDxCkZcb9h9QEFXm8LuAwq7D6p8SqW6giKZkqrkr+KKUVdoh71PGCq+ZY36/vRDhf09Kjj99SpY8ca0fdlhGCq+/Wn1Pf59hd0HFTnlNSpcdYVMQcmw1yaatqp/3e8U3/aUFCTkzjpNBUsulttwqhL7tqr/+fuV2PW85BUosugCFZz2+glvwQjDUGFnixItuxS07kxW8Vt3Kew6cPhFXqEU75NTM1sFy/5C3twzh+3pAP59lTvYi9zCfuSWXN4PwnAaubxhNjqe/QiCUM+/1KLfPLFLL71yUKVFnl69YqZeu6JBlWW5+X+Dh0FCib2bk8F4x7MKO1vTv9CNpB7cq5NTXpv6c62cKQ1yKocH32MJ2psU2/yYYpvXJN+zoESR+atkCksPh96uNgXdB6T+nuO4o0n2XafCsVNSeTgol06Rk/p9pNActO1V72N3KbFno5xpC1R03jvlVs865ruG/T3qe+oniq1/SKakUoVnv03e3JVSEFd821PqX/f/27vTGEnO+77j3zq6+p772mv2ElmkuNRSEhndlg1JTqLYSOIESmQkMgIEjo0gAQIEEBLDVhAggeAYCJBEhh0khgU70AsjjuJAsoTIEa2TlMR7SbG4XO7u7Ozu3FffR1XlxVPTM7MHubszs92z/fsAjep+eqanZp7p7l89/a/n+b9EixdNmYj/MbzHPoE9OHXT44QrV2m+9PXOMuHuuz6Id/bTOCNH7uB3f2dxq0G4cIHwekA4f55w6fLWAY1lYQ8dxh6dTg5qjuOMToPr0T7/QxovfZ14fQ5rYBLv7F8n9fBHblpoRq9XvePt+iJuNQivvUZ75mWi8jLu8SdwTz2Fnbn9ScKyO3pu9JZe7g+F4Vvo5Q7rR3fbH2/OrvONH83wwhuLOI7Fh89M8fNPTXN4LL+Pe7k7cRwTLc/QnnkJLHtH6LWyg/tS5xvHEeG112kF36V98ScQRzsD7I1hNgm6IwMplq7MElXXiKtr5iTF6trO27V1uPG1w7LM77IZmvNDYNlmFhA3RfqvfIbUox9/26W5byVcvEj9u39ItHQZZ+phovU54toG9uAUqTOfJPXQR7C87Ds+TlRepvnyN2i9/pfQbuJMnzWhePzEXc0cEjcq5iDn+huEcwHR4mWIQxN8R6Zxxk9ijyXhd+To2z52HEW0Lz9P88WvES1exMoN4T3+86Qe/bnO7/S2ASyOiWvmJFI7P9L1UpD9FMcR0dIM7SsvE61dM3/rydM44ydv+8nHXruxL6L1edpXXqY98xLh9dchbIObxsoNEm8sgGWbT2hOf9B8QnMH/6dy5/Re3lt6uT8Uhm+hlzusH91rf8yvVPnmj6/w/Veu02pHnD09yl/7wDQPHxs6ECeR3U9x1AbLvqMgeif9EUcRcX2DOBlp3jnivHU9bpRxTz5F+sO/jJ0b2sX+h7Re/QuaL34Ne/yEKYU48u67DtYAcb1M89Vv0Tr3LeJG2TQ63rYZRwrbLsltN23qt+feIFqZBWKwXZzxkziHfJxDD5uTF+8x7MRxTHjtp6as4+qr4GXx3v0JUmc+xehonqVLl4hKSUlNyZTTxKUlovKyqVFPWJmi+TRhcAp7KLkMHsIemMBy3B0/z5wwuvMxTfnOspmhJZ0zM6nkzPSFVnLdTqYz7LTv45LpUW2DcPYc7SuvEM6eM9MiAlZuiLi6lvzSjjn4mDidnGh7Gqsw9ravAXEcQ7PamWoxbtXBSZkDF9czJ126ngnZTqrzfzY2nGHulZ/QnnmZ9pWXidfnALAHp3Cmz+Ieew/OoYfBdolWrtB+8xlaU2naiAAAGlRJREFUF541n9A4Kdzps7inP4A7ffa+BfgHmd7Le0sv94fC8C30cof1o932x0a1ybefv8pfPDdLudZiMO9xZDzPkbFCss1zeCxPNq3JU+7EXj4/4ji6p8B6P8StBu1LzxFVVpM5qcvbtmUTlG+s3558lwm+Uz7OxKl9CTTh4kWaL36N9sXngJtfG61M0ZTRFEbNtjiGlR0gLi8Trc0Rrc8Rrc2Z0fvON1mmDKcwSlxdN7Xp4Q0zo6Tz2IVtj9eomFHn6jpRbQOaVW7JTZspBjN5rHTBTD+YXGf7NIRuBlJprFTahM5Uxvz9UunOzCtxFBIuvEV45WXas+eIFi8BMVamiHP0DO6xx3GOPIadGzQnJC5cIJy/YKZeXHyrM9uLlR3EmTyNPXyEuFk1c403yp05x+N6KZnO7w45STAOm8TtpjkP4PCj5iTZ6bPYAxO3/dY4jokWLtB68xnab/3IHGikMp1zCOyBcaxkVL9Xnyu9Su/lvaWX+0Nh+BZ6ucP60V71R6MV8uxr85yfXePqYoVrSxWa7ahz/+hAphOOj4znOXlogKmRnEaRb6Dnx5Y4Cs2Ues2qKWnZw+ny3km0dp3WWz+iODpK1SpgFcaxi6N3PDNJ3KxuheMkIEeVFTOym4ToTn16YewdR7XjdtMEyepmQDblGWZGlfK22VXKxPVkKsLbzf99I9uFVNoE1FYdLAtn4l04xx7HPfY49tjxdwyKcRQSrcyaYLw5L/nGAnhZsyBPtoiVLmBni52pF63MAFamCF7GlDi0GsTtBrRN6I3bTWhvtWXzWVojD+EcfvSepuyLo5Dw2uu0LzxL6+JPdh5g2E5StjRsypbyw6b0pTBs9tdJmb+T7YDjmP9F2wHbNbX6jmtGsXd5sut+icMWxPGeHkDuxWuVmZqzTlwvm/8/N2X+jo7ZYjvv+B4Rx5H5hKbdMr9nu2m2sPVpg+uZA8cuzoa033r5vUNh+BZ6ucP60X71RxTHLK3XubpY7oTj2cUKcysV2qH5nxvMe/jTQzwyPcwjx4eZHL6zeYkfZHp+9JaD2h9xHJuR1HrFTEXYapjZS9oNEz7azSR81rdCKOAcegT3yLux0rs/ByCOoj0NH3v6qUnYIlq+Yj6ZqKwQV1aT66udtu0lMHfM8bC8jJlj3ctgpbJmFN7LmksqA46bBP2W2YbNzgEAYdLWbkIcgeslYS6dlJIkoc71wE11auLjZo24WTPlJ61acrsKm9swOTByvW3lSLfZpjKABZ3X4m3Xt7UNDWZYWy1D1CaOQhNmk8v223GrkRykmU97zCc/WwduxG/3KYG1daDhpExYhiT4mr/hHR/0gXksN70zJNsu2EkZm2WBZScXq7O1NttsGyzH3Nf5Hidpt8x14uR3j8zfIb7hbxNH5vpu8t8t3ic9z6XZbN/ma7aue2c/jXv4kXv/2fdAi25I37Iti4mhLBNDWd770HinPYwi5lZqvDm7RjCzxk9nVvnRTxcAGCx4PDI9jD89xKPTw0woHIvcE8uyzJt+IQ3c25zXu96HHh6Fs5wUzsQpbjeOG8cxNCqdMh6iNoShqf/vBL62CZlRaAJhu0XcqpmDjWbdXG/WiCsrRKub7TXzWM62MOumsByvE86s3KAJfpa9LSA3oF4i2gzKnfC8Nf+55eXMJwxe1tSvD0wkITwHXhawkgC6VZYUrc+bkNq6k5ltdrqr79g8LyCdx8oUsIcPm7KebW3YDoRtM6obtra2m4F3c+SXOPl7bRtBdr0kLHtboTkm+WRh8+/V2LndPAjcDKZxZC5RSBy3ktuxCbWb98XJ9Sja9vXb28MkPDvJJwebF9t8amBt3eZey3JuGaJjosghboebN3fct8MNq732AoVh6TuObZtSibE8H3/iCHEcM79a4/WZVYKZNV6/vMqzr80DMFTwOD5ZZHIkx+RIjqnhLJMjOYaKaWyFZBHZJ5ZlQaaAsw8zhMRxvGcH+XEcm/KHXR54xGG7E5RpNSCOkwgVb4WvOGZ7sBoayrG20TQhL7lY9s4QaNnu1gis7KuD+ikWKAyLYFkWUyM5pkZy/GwSjudWqiYYz6xybanCa5dXaW2rP/Zcm4kkGE8O55gcznJkvMDR8Txeqjdr9kREgD39tMuyrFt+ZH7Xj+O4WLkhuItZZ7LjRcoHNHxJb1EYFrmBZVkcGs1zaDTPz77XLMwQxTFrpQZzK1XmV2vMr1SZX6kyu1jhxfNLhEndu21ZHBrNMT1Z4NhEkeOTBaaniuQz+zf9lIiIiNw7hWGRO2BbFiMDGUYGMrz7xM77wihiab3O7EKZy/NlZuZL/PTyKj98db7zNaMDGaYnCxyfLHIs2Q4X06pHFhER6TKFYZFdcmw7KZXI8X5/a77RjUqTmfkSl+dLXEmC8ovnlzoVb4VsiunJAtMTRbOdLDI1ksO2FZBFRETuF4VhkX0ykPc4c2qUM6dGO221RpvZxTIzyQjyzHyZbz13pTPVm+faHJ0wwfjEVJGThwY4PJbD6eGz4kVERA4yhWGR+yibdnno6BAPHd06SaQdRlxfrnZGkWfmyzz72hxPv3AVAC9lc3zSBOMTh4qcOjTA+JCmfBMREdkLCsMiXeY6NscmChybKPCRxw8B5oS9hdUaF69vcPHaBhfnNvj2C1dp/djMaJHPuJw4NMDJQ0WOTw5wfLLA6GBGAVlEROQuKQyL9CB723RvH3psCjAjyFcXK1yc2+DS9Q3eulbi6z+cIUrm4MxnXI4lJRbHJ00d8tTonZdYRFFMoxXSxVUpRURE7juFYZEDwnVsjk8VOT5VhCfMlG+NVnhDDXKJ//f8VdqhGUFOuTZHxwtMTxZwbZtas02t0abeDKk329QaIbVmm3ojpNEyKwelPYeJITOHsgnkW9c1RZyIiDxoFIZFDrB0yuH04UFOHx7stIXRVg3yZkj+yetmuemM55JNO2Q8l3w2xdhgtnM74zmkPYdGGHPp6joz8yWeDxY7I89gZsDYHLGeHMkykSw4MjGcJePp5URERA4evXuJPGAc24wGHx0v8OEzd//925fUbIcRi2s1s9jIyua2yitvLfO9V5o7vm+w4DE5lGVixATkyeEcE8NZhotp8tmUlq8WEZGepDAsIrflOnZnNb4b1ZttFlZrzK/WWFg1YXl+tcorF5b5XmVnUHZsi2IuxUDeYyDvMZhLtsntgbxHMedRyKYoZFOkXE0lJyIi94fCsIjck4znMj1ZZHqyeNN9tYYJygtrNdbKDTYqTdYrTTaSy9XFChuVZmcZ65sf26GYS1HIesk2tSMo25aFbVs49rbttjbHtshlXAq55PszKS1mIiIit6QwLCJ7Lpt2t072u404jqk22iYol5uUay1KtRblatNsay3K1RbrSXgu11qdk/zulgXksymKuRTFbMqMQufM7YGcx2Ah3RmlHsx7ZDxH09SJiPQJhWER6QrLsshnUuQzqVuWYdxKqx3RDiOiOCaMYqLk0rmetIdhTLluwnSp2qRUNeG6VDWhe26lSmm2SbnW3nGC4KaUazO4rYxjMCnjKOZMkB5ItsVcikIupRUCRUQOMIVhETkwUq69p/XEURxTrrW2yjjKW+Uc6xVT3rG4VuPNq+uUay1uNwVzPuN2QvJQMc1QIc1IMc1QMc1wchkqpHEdhWYRkV6jMCwifcu2LAZyHgM5j6Pjb/+1UWRGm0tVU8qxkYw6b1RMWUepYtouXS+xWl6i1Y5ueoyBXIrhYobBgkfKtZP65mTrbNVAu7aNbVt4rs3p4yMUPXMio04sFBHZewrDIiJ3wLa3gjO8fVlHHMdU6m1WSw1WSw3Wyo3kep3VUpO1UoNWGHVKPDqXzRKQcKuN710EwLJgcjjHkbE8h8fyHBk326mRnEacRUR2QWFYRGSPWZbVmf3i2EThnh+n1Y5oYnHujQWuLVW4tlTh6lKFF84vdWqdHdticiTH9GSB45NFTkyZGT6y6Tt/eY/jmOWNOrMLFa4slllerzFSzDCZLK4yOZy7q8cTETlI9OomItKjUq7N4fEieXfnzBatdsTcSpWrS2WuLVWYXagQzKzxzKvzna+ZHMlxYqq4IyDnMi61RpurSxVmF8pcWSwzu1BmdrFMrbE1U0cxl6JcbbG9RHow75nFVJIVCCeSRVWKOXMSpEo4ROSgUhgWETlgUq7NsYnCTaPO65Uml+dKXJ7b4NJcifOzazz72lZAHsh7bGxbECWbdjg6XuCDj01xbLzA0YkCR8byZNMuzVbIwlqN+ZUq86tbqw++9OYS3622btqndMohn3WTGULMct/5TIp81qWQSZmp7bKpzhR3+ezt53/eLDNZ2aizstFgpVRneaPO6kaD5Y061Uab8cFsZ1nwzSXCB/KepsQTkbumMCwi8oAYzHu85/Qo7zk92mnbqDS5PF/i0lyJhdUqE8O5JPjmGR3I3DY8eimns6z3jar1FvOrNRbXalRqLcr1NpVai0q9RaXWplJvcX25au6rtW67uIoFZnGUpKTESzmslU3gbbZ2noDo2BbDxTQjAxnGB7MsrtU4d3GFdrj1ddm0w+RwLgnJZlnwoYKZ1WMw7+2q1KPZCilXm8RxrMAt8oBRGBYReYAN5D0ePzXK46dG3/mL71Auk+LkoRQnDw2849fGcUyjFZpFVLZfqq2b2hqtkMOjec6cHGVkIM3oQIbhZDuQ97BvCKFRZGqd51eqzCWX+ZUq52fXeGbbiPimtOcwlPcYKqQZLJjtUCFNLuNSrbc7+2FCfYtyEuwrtRbNZHYQx7Y6c08P5j0GCx4D+fSO2xNDWQYL6b35Y4vIvlMYFhGRfWNZFhnPJeO5jA1m9/SxbdtifCjL+FCWMzeE/WYrZHG9zlq5wXq5wXq5yWqyXSs3uHS9xFp5qRNywQTdfDJKnc+4jA9lOJEpmttZl6HBHNcXSqxXGqxXmqyWGlyaK7FRbe6Yg9q2LD76nkP8zY+eZLioUCzS6xSGRUTkgeOlHI6M5Tkydvtp8OI4ptYIqTXa5DLuOy7DPT5eZHGxdFN7FMWUai3Wy2ahlpcuLPP0C1f54atzfPLJo3z6g8fJZ1J78nuJyN5TGBYRkb5kWRa5jEsus7u3Qtu2OmUSAGdOjfKpp47x1e++xTeemeEvX7jG3/jQcT7x/qN4KWcvdl1E9pDmwhEREdljE0NZfvUXH+ML/+gpTh8Z5E+evsC/+q/P8J2XrhFGN69OKCLdozAsIiKyT6Yni/yLz5zl87/8XoaLaf7wz1/nt/77j3guWCCObz3LhojcXyqTEBER2Wf+9DC/8Q/fz/NvLPGn37nAl/7XOaYnCjzx0BhnTo5y8nARx9b4lEg3KAyLiIjcB5Zl8X5/nCceGuUHr8zx9IvX+D8/uMSfff8S2bTDo8dHeOykuUwM7e3MGyJyewrDIiIi95Fj23zs7GE+dvYw5VqL1y+vcu7iCq9eXOb5NxYBU3P82KkRzpwY4eHpIc1GIbKPFIZFRES6pJBN8eQjEzz5yARxHDO/WuPcW8u8enGFH7wyx7efvwqY1fVGimYRkpFihpFkOzpgVuUbLqY1U4XIPVIYFhER6QGWZTE1YpaT/uSTx2iHEReurvPW9Q1WNhqsbNRZ2Whwea5Eqdq66fsL2VSy/LTHcLK63nBx+9ajeIuV/ET6ncKwiIhID3IdG396GH96+Kb7Wu2QlVJjKySXGqxu1FlLVtq7Ml9mo9LkxvkqNpeTHimmGSqakNy5FNIMD2QYLnik3JtHmaM4ptWKaLRDWq2IZjuk2YqwLBgqpCnkUgraciApDIuIiBwwKddhcjjH5HDutl8TRlGy/LRZOnqtbC6rJXO5tlTh3FsrNFrhTd9byKbIZVxa7YhmK6TRimiHbz8/8mbQHiqYUejN7WAySp3Puri2jWNbOI6FY1vYtoVj253bjm2Rcm3NrCH3lcKwiIjIA8ixbUYGMowMZG77NZtLUq+WG6yW6p2gvFZqUG208VIOadfBS9mkXJt0ysFLOXiuTSplk3YdwihmvdLshO21cpPFtRrnZ9cp124u57gTnmuT8RwyabNMdtZLtmm30zZQzLBRqhOGMe0oIgwj2mFMGMW0w6jTnkk5HBkvcHQ8z9HxAuNDWWxbI9iyRWFYRESkT21fkvrIWH7PH7/VjlivmIBcrbcIk7BqLtENt01bqxVRb4bUm21qzZB6w2xXyw2uL1c77WEY4Tqbo8o27rbt9vaFlRrPBYudkhHPtTk0lufoWN6E5Ik8R8YKDBY82u2IVhjRakc7rrfC5HY7IorNKLht0RnZtm0L2wbb2hrxTrk2uSS8q3yktykMi4iIyL5IuTZjg1nGBvd+3uTx8SKLi6U7+tpGM+TacoXZxTJXF8323MUVvn9ubs/361ayaTOqvXnJbbvuuaYkxLYsLAuw6IRny7KwACsJ3q5j49oWThL23c2DgG3tEO8YIW+HkTnQCOPO9XYYYVuWGeVPJSP+rkM6ZXfavOQTAQuLMLph1D2KzUh88rhhGDEwX6ZcqicHBtbWgYFldQ4WHNvmyFi+50bmFYZFRETkgZb2HE4eGuDkoYEd7aVqsxOOK/U2Kdcm5di4yTbl2rjJdvM+yzInE0bJaPaO65G5Lwwjmu2IWqNNrdGmmmxrjZBqvcV6ucnccpVqo00rjCA2JSsxyTbGXDDXHyS/9DOn+IUPn+j2buygMCwiIiJ9qZjzeOS4xyPHb56xo5fEcZyEbDPq294sMUlGZzs10mGElYzIdspFkhHjnbct4hgaLTMjiDlJMqSZnDDZTGYLaTRDYthRgrJ5wuONI9RDwzlWVirJQUFyibe2mwcL7z7Re39rhWERERGRHmZZFo5l4djg7eFihK5jk7/9+ZV3ZXy8yGL6YC78orlLRERERKRvKQyLiIiISN9SGBYRERGRvqUwLCIiIiJ9S2FYRERERPqWwrCIiIiI9C2FYRERERHpWwrDIiIiItK3FIZFREREpG8pDIuIiIhI31IYFhEREZG+pTAsIiIiIn1LYVhERERE+pbCsIiIiIj0LYVhEREREelbCsMiIiIi0rfc3T6A7/sPA18GRoFl4HNBEJzf7eOKiIiIiOy3vRgZ/j3gS0EQPAx8Cfj9PXhMEREREZF9t6sw7Pv+BPA+4CtJ01eA9/m+P77bHRMRERER2W+7HRk+BlwNgiAESLbXknYRERERkZ6265rh3RodLXTl546PF7vyc+XW1B+9Rf3RW9QfvUN90VvUH73loPbHbsPwFeCI7/tOEASh7/sOcDhpvyPLy2WiKN7lbtyd8fEii4ul+/oz5fbUH71F/dFb1B+9Q33RW9QfvaWX+8O2rbcdfN1VmUQQBAvAi8Bnk6bPAi8EQbC4m8cVEREREbkf9qJM4teAL/u+/1vAKvC5PXhMEREREZF9t+swHATB68AH9mBfRERERETuK61AJyIiIiJ9q5uzSThgipq7oVs/V25N/dFb1B+9Rf3RO9QXvUX90Vt6tT+27Zdzq/utOL6/Mzls81Hgu9364SIiIiLSVz4GfO/Gxm6G4TTwFHAdCLu1EyIiIiLyQHOAQ8CPgcaNd3YzDIuIiIiIdJVOoBMRERGRvqUwLCIiIiJ9S2FYRERERPqWwrCIiIiI9C2FYRERERHpWwrDIiIiItK3FIZFREREpG91cznm+873/YeBLwOjwDLwuSAIznd3r/qH7/u/A/wd4ATweBAE55J29UsX+L4/CvwRcBpoAueBfxIEwaLv+x8Efh/IApeAfxAEwUK39rUf+L7/VeAkEAFl4J8FQfCinh/d5fv+F4B/Q/KapedGd/i+fwmoJxeAzwdB8E31R3f4vp8B/iPwSUyf/DAIgl89qK9X/TYy/HvAl4IgeBj4EuYJJPfPV4GfAS7f0K5+6Y4Y+O0gCPwgCB4HLgBf9H3fBv4Y+KdJn3wH+GIX97Nf/EoQBGeDIHgv8DvAHyTten50ie/77wM+SPKapedG1/3dIAieSC7fVH901W9jQvDDyfvHbybtB/L1qm/CsO/7E8D7gK8kTV8B3uf7/nj39qq/BEHwvSAIrmxvU790TxAEK0EQPL2t6RngOPB+oB4Eweb67b8HfOY+717fCYJgfdvNQSDS86N7fN9PY97Mf31bs54bvUX90QW+7xeAzwG/GQRBDBAEwfxBfr3qmzAMHAOuBkEQAiTba0m7dI/6pQckIyy/DvwZMM220fsgCJYA2/f9kS7tXt/wff+/+b4/A/w74FfQ86Ob/i3wx0EQXNrWpudGd/0P3/df9n3/d33fH0L90S2nMSUQX/B9/ye+7z/t+/5HOcCvV/0UhkXk9v4zpk71v3R7R/pZEAT/OAiCaeBfA/+h2/vTr3zf/xDwJPC73d4X6fhYEARngacAC71WdZMDnAJeCILgSeDzwJ8Cha7u1S70Uxi+Ahzxfd8BSLaHk3bpHvVLlyUnNj4E/L0gCCJgBlMusXn/GBAFQbDSpV3sO0EQ/BHwc8Asen50w8eBR4GLyYlbR4FvAu9Cz42u2CyxC4KggTlI+Qh6reqWGaBNUg4RBMGzwBJQ44C+XvVNGE7OLn0R+GzS9FnMUc1i9/ZK1C/d5fv+v8fU3f2t5E0G4Dkgm3zsBfBrwJ90Y//6he/7Bd/3j227/YvACqDnRxcEQfDFIAgOB0FwIgiCE5iDkr+KGa3Xc+M+830/7/v+YHLdAv4+5nmh16ouSMpRvg18CjozQk0Ab3BAX6+sOI67vQ/3je/7j2Cm/BgGVjFTfgTd3av+4fv+fwJ+CZjCHEUuB0HwmPqlO3zffww4h3kBqyXNF4Mg+Nu+738YcxZwhq3piua7sqN9wPf9SeB/A3kgxAThfxkEwfN6fnRfMjr8C8nUanpu3Ge+758C/ifm43kHeA3450EQXFd/dEfSJ3+AmUKtBfxGEAR/flBfr/oqDIuIiIiIbNc3ZRIiIiIiIjdSGBYRERGRvqUwLCIiIiJ9S2FYRERERPqWwrCIiIiI9C2FYRERERHpWwrDIiIiItK3FIZFREREpG/9f+esQQsguHpVAAAAAElFTkSuQmCC\n",
=======
            "image/png": "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\n",
>>>>>>> origin/master
            "text/plain": [
              "<Figure size 864x864 with 1 Axes>"
            ]
          },
          "metadata": {
            "tags": [],
            "needs_background": "light"
          }
        }
      ]
    },
    {
      "cell_type": "code",
      "metadata": {
        "ExecuteTime": {
          "end_time": "2019-08-29T13:56:16.564926Z",
          "start_time": "2019-08-29T13:56:16.544481Z"
        },
        "id": "j6_Z8S3SgFwn",
        "colab_type": "code",
<<<<<<< HEAD
        "outputId": "cafae0dc-7a3f-4f08-ecef-97261b3c259e",
        "colab": {
          "base_uri": "https://localhost:8080/",
          "height": 34
=======
        "outputId": "5df8cfb5-0127-4d46-a515-37346e2646c3",
        "colab": {
          "base_uri": "https://localhost:8080/",
          "height": 33
>>>>>>> origin/master
        }
      },
      "source": [
        "model.load_state_dict(torch.load(models_path))"
      ],
      "execution_count": 34,
      "outputs": [
        {
          "output_type": "execute_result",
          "data": {
            "text/plain": [
              "<All keys matched successfully>"
            ]
          },
          "metadata": {
            "tags": []
          },
          "execution_count": 34
        }
      ]
    },
    {
      "cell_type": "markdown",
      "metadata": {
        "id": "9yBwoQnWypb5",
        "colab_type": "text"
      },
      "source": [
        "## Проверки"
      ]
    },
    {
      "cell_type": "code",
      "metadata": {
        "id": "rDx8tvIeyoe0",
        "colab_type": "code",
        "colab": {}
      },
      "source": [
        "id2tag = {item[1]: item[0] for item in tag2id.items()}\n",
        "UNIQUE_TAGS = [id2tag[i] for i in range(len(tag2id))]\n"
      ],
      "execution_count": 0,
      "outputs": []
    },
    {
      "cell_type": "markdown",
      "metadata": {
        "id": "vaq1J92ryPNx",
        "colab_type": "text"
      },
      "source": [
        "### Проверка - train"
      ]
    },
    {
      "cell_type": "code",
      "metadata": {
        "id": "3aNr47CYdSFa",
        "colab_type": "code",
<<<<<<< HEAD
        "outputId": "87fcc1b8-4f61-46c8-d4fa-590db54db63c",
        "colab": {
          "base_uri": "https://localhost:8080/",
          "height": 340
=======
        "outputId": "be7039e5-199e-4ba0-afb8-bbd26e58826f",
        "colab": {
          "base_uri": "https://localhost:8080/",
          "height": 300
>>>>>>> origin/master
        }
      },
      "source": [
        "train_pred = predict_with_model(model, train_dataset)\n",
        "train_golden_tags = tensor_to_tags(train_targets, id2tag)\n",
        "train_pred_tags = tensor_to_tags(train_pred, id2tag)\n",
        "print(classification_report(train_golden_tags, train_pred_tags))\n",
        "print(classification_report(train_golden_tags, train_pred_tags, suffix=True))\n"
      ],
      "execution_count": 35,
      "outputs": [
        {
          "output_type": "stream",
          "text": [
<<<<<<< HEAD
            "472it [00:17, 27.33it/s]                               \n"
=======
            "472it [00:17, 27.34it/s]                               \n"
>>>>>>> origin/master
          ],
          "name": "stderr"
        },
        {
          "output_type": "stream",
          "text": [
            "           precision    recall  f1-score   support\n",
            "\n",
<<<<<<< HEAD
            "     MISC       0.85      0.86      0.85      5098\n",
            "      ORG       0.83      0.88      0.86      7201\n",
            "      PER       0.97      0.97      0.97      6860\n",
            "      LOC       0.93      0.93      0.93      8100\n",
            "\n",
            "micro avg       0.90      0.91      0.91     27259\n",
            "macro avg       0.90      0.91      0.91     27259\n",
            "\n",
            "           precision    recall  f1-score   support\n",
            "\n",
            "        I       0.91      0.96      0.93     26078\n",
            "        B       0.72      0.52      0.60      1134\n",
            "\n",
            "micro avg       0.90      0.94      0.92     27212\n",
            "macro avg       0.90      0.94      0.92     27212\n",
=======
            "     <NOTAG>       1.00      1.00      1.00   1646703\n",
            "       I-LOC       0.95      0.98      0.96      9166\n",
            "       I-ORG       0.95      0.96      0.95     10721\n",
            "      I-MISC       0.92      0.97      0.94      6076\n",
            "       B-ORG       1.00      0.50      0.67       504\n",
            "       B-LOC       1.00      0.18      0.31       231\n",
            "      B-MISC       0.99      0.84      0.91       777\n",
            "       I-PER       0.98      0.99      0.98     11588\n",
            "           O       1.00      1.00      1.00    184278\n",
            "\n",
            "    accuracy                           1.00   1870044\n",
            "   macro avg       0.98      0.82      0.86   1870044\n",
            "weighted avg       1.00      1.00      1.00   1870044\n",
>>>>>>> origin/master
            "\n"
          ],
          "name": "stdout"
        }
      ]
    },
    {
      "cell_type": "code",
      "metadata": {
        "id": "fw3YNFEfm8va",
        "colab_type": "code",
        "colab": {}
      },
      "source": [
        ""
      ],
      "execution_count": 0,
      "outputs": []
    },
    {
      "cell_type": "markdown",
      "metadata": {
        "id": "5p2jdVB-yUHQ",
        "colab_type": "text"
      },
      "source": [
        "### Проверка - valid"
      ]
    },
    {
      "cell_type": "code",
      "metadata": {
        "id": "qAh6GumkdR4G",
        "colab_type": "code",
        "outputId": "36d2bc1f-6c7c-4b04-f5b6-062a21a0d1de",
        "colab": {
          "base_uri": "https://localhost:8080/",
          "height": 340
        }
      },
      "source": [
        "valid_pred = predict_with_model(model, valid_dataset)\n",
        "\n",
        " \n",
        "valid_golden_tags = tensor_to_tags(valid_targets, id2tag)\n",
        "valid_pred_tags = tensor_to_tags(valid_pred, id2tag)\n",
        "print(classification_report(valid_golden_tags, valid_pred_tags))\n",
        "print(classification_report(valid_golden_tags, valid_pred_tags, suffix=True))\n"
      ],
      "execution_count": 36,
      "outputs": [
        {
          "output_type": "stream",
          "text": [
            "100%|██████████| 102/101.5625 [00:03<00:00, 25.63it/s]\n"
          ],
          "name": "stderr"
        },
        {
          "output_type": "stream",
          "text": [
            "           precision    recall  f1-score   support\n",
            "\n",
            "     MISC       0.78      0.80      0.79       922\n",
            "      PER       0.90      0.87      0.89      1842\n",
            "      ORG       0.72      0.79      0.75      1341\n",
            "      LOC       0.86      0.90      0.88      1837\n",
            "\n",
            "micro avg       0.83      0.85      0.84      5942\n",
            "macro avg       0.83      0.85      0.84      5942\n",
            "\n",
            "           precision    recall  f1-score   support\n",
            "\n",
            "        I       0.90      0.93      0.91      5899\n",
            "        B       0.09      0.25      0.13         4\n",
            "\n",
            "micro avg       0.90      0.93      0.91      5903\n",
            "macro avg       0.90      0.93      0.91      5903\n",
            "\n"
          ],
          "name": "stdout"
        }
      ]
    },
    {
      "cell_type": "markdown",
      "metadata": {
        "id": "CtXo2-Ioybnx",
        "colab_type": "text"
      },
      "source": [
        "### Проверка - test"
      ]
    },
    {
      "cell_type": "code",
      "metadata": {
        "id": "pIC16ECm_58u",
        "colab_type": "code",
<<<<<<< HEAD
        "outputId": "74f9c118-6e0a-45b9-f1fd-459e4bb32997",
        "colab": {
          "base_uri": "https://localhost:8080/",
          "height": 340
=======
        "outputId": "890b57e8-fb1d-45ed-87a5-57c56836a319",
        "colab": {
          "base_uri": "https://localhost:8080/",
          "height": 300
>>>>>>> origin/master
        }
      },
      "source": [
        "test_pred = predict_with_model(model, test_dataset)\n",
        " \n",
        "test_golden_tags = tensor_to_tags(test_targets, id2tag)\n",
        "test_pred_tags = tensor_to_tags(test_pred, id2tag)\n",
        "print(classification_report(test_golden_tags, test_pred_tags))\n",
        "print(classification_report(test_golden_tags, test_pred_tags, suffix=True))"
      ],
      "execution_count": 37,
      "outputs": [
        {
          "output_type": "stream",
          "text": [
<<<<<<< HEAD
            "100%|██████████| 108/107.90625 [00:03<00:00, 27.57it/s]\n"
=======
            "100%|██████████| 108/107.90625 [00:04<00:00, 25.15it/s]\n"
>>>>>>> origin/master
          ],
          "name": "stderr"
        },
        {
          "output_type": "stream",
          "text": [
            "           precision    recall  f1-score   support\n",
            "\n",
            "      PER       0.84      0.82      0.83      1617\n",
            "     MISC       0.64      0.70      0.67       702\n",
            "      ORG       0.68      0.74      0.71      1661\n",
            "      LOC       0.81      0.87      0.84      1668\n",
            "\n",
            "micro avg       0.75      0.80      0.77      5648\n",
            "macro avg       0.76      0.80      0.78      5648\n",
            "\n",
<<<<<<< HEAD
            "           precision    recall  f1-score   support\n",
            "\n",
            "        I       0.87      0.92      0.89      5599\n",
            "        B       0.00      0.00      0.00        18\n",
            "\n",
            "micro avg       0.87      0.91      0.89      5617\n",
            "macro avg       0.86      0.91      0.89      5617\n",
=======
            "     <NOTAG>       1.00      1.00      1.00    381737\n",
            "       I-LOC       0.83      0.84      0.84      1919\n",
            "       I-ORG       0.75      0.77      0.76      2491\n",
            "      I-MISC       0.67      0.77      0.72       909\n",
            "       B-ORG       0.00      0.00      0.00         5\n",
            "       B-LOC       0.00      0.00      0.00         6\n",
            "      B-MISC       0.00      0.00      0.00         9\n",
            "       I-PER       0.86      0.88      0.87      2773\n",
            "           O       0.99      0.98      0.99     38323\n",
            "\n",
            "    accuracy                           1.00    428172\n",
            "   macro avg       0.57      0.58      0.58    428172\n",
            "weighted avg       1.00      1.00      1.00    428172\n",
>>>>>>> origin/master
            "\n"
          ],
          "name": "stdout"
        }
      ]
    },
    {
      "cell_type": "markdown",
      "metadata": {
        "id": "8tZ3TbhngFxV",
        "colab_type": "text"
      },
      "source": [
        "## Применение теггера"
      ]
    },
    {
      "cell_type": "code",
      "metadata": {
        "id": "dBORSeRvdITg",
        "colab_type": "code",
        "colab": {}
      },
      "source": [
        "!python -m spacy download en_core_web_sm > /dev/null\n",
        "nlp = spacy.load('en_core_web_sm')"
      ],
      "execution_count": 0,
      "outputs": []
    },
    {
      "cell_type": "code",
      "metadata": {
        "ExecuteTime": {
          "end_time": "2019-08-29T13:56:42.105418Z",
          "start_time": "2019-08-29T13:56:42.093744Z"
        },
        "id": "gM1646Q7gFxX",
        "colab_type": "code",
        "colab": {}
      },
      "source": [
        "\n",
        "ner_tagger = NERTagger(model, bpe_tokenizer, UNIQUE_TAGS, max_sent_len, max_token_len, 0)"
      ],
      "execution_count": 0,
      "outputs": []
    },
    {
      "cell_type": "markdown",
      "metadata": {
        "id": "qGbRPrQ1oMM_",
        "colab_type": "text"
      },
      "source": [
        "Несколько предложений из новостей с сайта [BBC](https://www.bbc.com/news)"
      ]
    },
    {
      "cell_type": "code",
      "metadata": {
        "ExecuteTime": {
          "end_time": "2019-08-29T13:56:42.125540Z",
          "start_time": "2019-08-29T13:56:42.106771Z"
        },
        "id": "JHOY3BpZgFxd",
        "colab_type": "code",
        "colab": {}
      },
      "source": [
        "test_sentences = [\n",
        "    'Mr Trump said Mr Linick no longer had his full confidence and that he would be removed in 30 days.',\n",
        "    'Mr Linick had begun investigating Secretary of State Mike Pompeo for suspected abuse of office, reports say.',\n",
        "    'Democrats say Mr Trump is retaliating against public servants who want to hold his administration to account.',\n",
        "    'Donald Trump, who is campaigning for re-election in November, has stepped up his attacks on China in recent weeks, blaming it for the spread of Covid-19.',\n",
        "    'The team led by Fernando Novas from the Natural Sciences Museum in Buenos Aires discovered many fossils during its month-long field work in Estancia La Anita, in southern Santa Cruz province.',\n",
        "    \"The rehearsal at Kennedy Space Center saw a Falcon-9 vehicle's ascent into the sky deliberately terminated just 80 seconds after lift-off.\"\n",
        "]\n",
        "test_sentences_tokenized = tokenize_corpus(test_sentences)\n",
        "# test_sentences_tokenized = [[token.text for token in nlp.tokenizer(sent) ] for sent in test_sentences]"
      ],
      "execution_count": 0,
      "outputs": []
    },
    {
      "cell_type": "code",
      "metadata": {
        "id": "TxHF5NAVFuvi",
        "colab_type": "code",
<<<<<<< HEAD
        "outputId": "ed1942b3-882d-41d9-fbd7-afc42af0df9e",
        "colab": {
          "base_uri": "https://localhost:8080/",
          "height": 170
        }
=======
        "colab": {}
      },
      "source": [
        "def highlight_text(tokens, tags):\n",
        "    assert len(tokens) == len(tags)\n",
        "    spans = []\n",
        "    start = 0\n",
        "    for i in range(len(tokens)):\n",
        "        len_token = len(tokens[i])\n",
        "        spans.append((start, start + len_token, tags[i]))\n",
        "        start += len_token + 1\n",
        "    text = ' '.join(tokens)\n",
        "    show_box_markup(text, spans)"
      ],
      "execution_count": 0,
      "outputs": []
    },
    {
      "cell_type": "code",
      "metadata": {
        "id": "TxHF5NAVFuvi",
        "colab_type": "code",
        "colab": {
          "base_uri": "https://localhost:8080/",
          "height": 150
        },
        "outputId": "65509d12-f1f4-44ad-cf0f-b36ff6c3b592"
>>>>>>> origin/master
      },
      "source": [
        "for sent_tokens, sent_tags in zip(test_sentences_tokenized, ner_tagger(test_sentences)):\n",
        "    highlight_text(sent_tokens, sent_tags)"
      ],
<<<<<<< HEAD
      "execution_count": 39,
=======
      "execution_count": 32,
>>>>>>> origin/master
      "outputs": [
        {
          "output_type": "stream",
          "text": [
<<<<<<< HEAD
            "1it [00:00, 71.75it/s]                    \n"
=======
            "1it [00:00, 71.96it/s]                    \n"
>>>>>>> origin/master
          ],
          "name": "stderr"
        },
        {
          "output_type": "display_data",
          "data": {
            "text/html": [
<<<<<<< HEAD
              "<div class=\"tex2jax_ignore\" style=\"white-space: pre-wrap\"><span style=\"padding: 2px; border-radius: 4px; border: 1px solid #bbdefb; background: #e3f2fd\">Mr<span style=\"vertical-align: middle; margin-left: 2px; font-size: 0.7em; color: #64b5f6;\">I-PER</span></span> <span style=\"padding: 2px; border-radius: 4px; border: 1px solid #bbdefb; background: #e3f2fd\">Trump<span style=\"vertical-align: middle; margin-left: 2px; font-size: 0.7em; color: #64b5f6;\">I-PER</span></span> <span style=\"padding: 2px; border-radius: 4px; border: 1px solid #c8e6c9; background: #e8f5e9\">said<span style=\"vertical-align: middle; margin-left: 2px; font-size: 0.7em; color: #66bb6a;\">O</span></span> <span style=\"padding: 2px; border-radius: 4px; border: 1px solid #c8e6c9; background: #e8f5e9\">Mr<span style=\"vertical-align: middle; margin-left: 2px; font-size: 0.7em; color: #66bb6a;\">O</span></span> <span style=\"padding: 2px; border-radius: 4px; border: 1px solid #bbdefb; background: #e3f2fd\">Linick<span style=\"vertical-align: middle; margin-left: 2px; font-size: 0.7em; color: #64b5f6;\">I-PER</span></span> <span style=\"padding: 2px; border-radius: 4px; border: 1px solid #c8e6c9; background: #e8f5e9\">no<span style=\"vertical-align: middle; margin-left: 2px; font-size: 0.7em; color: #66bb6a;\">O</span></span> <span style=\"padding: 2px; border-radius: 4px; border: 1px solid #c8e6c9; background: #e8f5e9\">longer<span style=\"vertical-align: middle; margin-left: 2px; font-size: 0.7em; color: #66bb6a;\">O</span></span> <span style=\"padding: 2px; border-radius: 4px; border: 1px solid #c8e6c9; background: #e8f5e9\">had<span style=\"vertical-align: middle; margin-left: 2px; font-size: 0.7em; color: #66bb6a;\">O</span></span> <span style=\"padding: 2px; border-radius: 4px; border: 1px solid #c8e6c9; background: #e8f5e9\">his<span style=\"vertical-align: middle; margin-left: 2px; font-size: 0.7em; color: #66bb6a;\">O</span></span> <span style=\"padding: 2px; border-radius: 4px; border: 1px solid #c8e6c9; background: #e8f5e9\">full<span style=\"vertical-align: middle; margin-left: 2px; font-size: 0.7em; color: #66bb6a;\">O</span></span> <span style=\"padding: 2px; border-radius: 4px; border: 1px solid #c8e6c9; background: #e8f5e9\">confidence<span style=\"vertical-align: middle; margin-left: 2px; font-size: 0.7em; color: #66bb6a;\">O</span></span> <span style=\"padding: 2px; border-radius: 4px; border: 1px solid #c8e6c9; background: #e8f5e9\">and<span style=\"vertical-align: middle; margin-left: 2px; font-size: 0.7em; color: #66bb6a;\">O</span></span> <span style=\"padding: 2px; border-radius: 4px; border: 1px solid #c8e6c9; background: #e8f5e9\">that<span style=\"vertical-align: middle; margin-left: 2px; font-size: 0.7em; color: #66bb6a;\">O</span></span> <span style=\"padding: 2px; border-radius: 4px; border: 1px solid #c8e6c9; background: #e8f5e9\">he<span style=\"vertical-align: middle; margin-left: 2px; font-size: 0.7em; color: #66bb6a;\">O</span></span> <span style=\"padding: 2px; border-radius: 4px; border: 1px solid #c8e6c9; background: #e8f5e9\">would<span style=\"vertical-align: middle; margin-left: 2px; font-size: 0.7em; color: #66bb6a;\">O</span></span> <span style=\"padding: 2px; border-radius: 4px; border: 1px solid #c8e6c9; background: #e8f5e9\">be<span style=\"vertical-align: middle; margin-left: 2px; font-size: 0.7em; color: #66bb6a;\">O</span></span> <span style=\"padding: 2px; border-radius: 4px; border: 1px solid #c8e6c9; background: #e8f5e9\">removed<span style=\"vertical-align: middle; margin-left: 2px; font-size: 0.7em; color: #66bb6a;\">O</span></span> <span style=\"padding: 2px; border-radius: 4px; border: 1px solid #c8e6c9; background: #e8f5e9\">in<span style=\"vertical-align: middle; margin-left: 2px; font-size: 0.7em; color: #66bb6a;\">O</span></span> <span style=\"padding: 2px; border-radius: 4px; border: 1px solid #c8e6c9; background: #e8f5e9\">30<span style=\"vertical-align: middle; margin-left: 2px; font-size: 0.7em; color: #66bb6a;\">O</span></span> <span style=\"padding: 2px; border-radius: 4px; border: 1px solid #c8e6c9; background: #e8f5e9\">days<span style=\"vertical-align: middle; margin-left: 2px; font-size: 0.7em; color: #66bb6a;\">O</span></span> <span style=\"padding: 2px; border-radius: 4px; border: 1px solid #c8e6c9; background: #e8f5e9\">.<span style=\"vertical-align: middle; margin-left: 2px; font-size: 0.7em; color: #66bb6a;\">O</span></span></div>"
=======
              "<div class=\"tex2jax_ignore\" style=\"white-space: pre-wrap\"><span style=\"padding: 2px; border-radius: 4px; border: 1px solid #bbdefb; background: #e3f2fd\">Mr<span style=\"vertical-align: middle; margin-left: 2px; font-size: 0.7em; color: #64b5f6;\">O</span></span> <span style=\"padding: 2px; border-radius: 4px; border: 1px solid #c8e6c9; background: #e8f5e9\">Trump<span style=\"vertical-align: middle; margin-left: 2px; font-size: 0.7em; color: #66bb6a;\">I-PER</span></span> <span style=\"padding: 2px; border-radius: 4px; border: 1px solid #bbdefb; background: #e3f2fd\">said<span style=\"vertical-align: middle; margin-left: 2px; font-size: 0.7em; color: #64b5f6;\">O</span></span> <span style=\"padding: 2px; border-radius: 4px; border: 1px solid #c8e6c9; background: #e8f5e9\">Mr<span style=\"vertical-align: middle; margin-left: 2px; font-size: 0.7em; color: #66bb6a;\">I-PER</span></span> <span style=\"padding: 2px; border-radius: 4px; border: 1px solid #c8e6c9; background: #e8f5e9\">Linick<span style=\"vertical-align: middle; margin-left: 2px; font-size: 0.7em; color: #66bb6a;\">I-PER</span></span> <span style=\"padding: 2px; border-radius: 4px; border: 1px solid #bbdefb; background: #e3f2fd\">no<span style=\"vertical-align: middle; margin-left: 2px; font-size: 0.7em; color: #64b5f6;\">O</span></span> <span style=\"padding: 2px; border-radius: 4px; border: 1px solid #bbdefb; background: #e3f2fd\">longer<span style=\"vertical-align: middle; margin-left: 2px; font-size: 0.7em; color: #64b5f6;\">O</span></span> <span style=\"padding: 2px; border-radius: 4px; border: 1px solid #bbdefb; background: #e3f2fd\">had<span style=\"vertical-align: middle; margin-left: 2px; font-size: 0.7em; color: #64b5f6;\">O</span></span> <span style=\"padding: 2px; border-radius: 4px; border: 1px solid #bbdefb; background: #e3f2fd\">his<span style=\"vertical-align: middle; margin-left: 2px; font-size: 0.7em; color: #64b5f6;\">O</span></span> <span style=\"padding: 2px; border-radius: 4px; border: 1px solid #bbdefb; background: #e3f2fd\">full<span style=\"vertical-align: middle; margin-left: 2px; font-size: 0.7em; color: #64b5f6;\">O</span></span> <span style=\"padding: 2px; border-radius: 4px; border: 1px solid #bbdefb; background: #e3f2fd\">confidence<span style=\"vertical-align: middle; margin-left: 2px; font-size: 0.7em; color: #64b5f6;\">O</span></span> <span style=\"padding: 2px; border-radius: 4px; border: 1px solid #bbdefb; background: #e3f2fd\">and<span style=\"vertical-align: middle; margin-left: 2px; font-size: 0.7em; color: #64b5f6;\">O</span></span> <span style=\"padding: 2px; border-radius: 4px; border: 1px solid #bbdefb; background: #e3f2fd\">that<span style=\"vertical-align: middle; margin-left: 2px; font-size: 0.7em; color: #64b5f6;\">O</span></span> <span style=\"padding: 2px; border-radius: 4px; border: 1px solid #bbdefb; background: #e3f2fd\">he<span style=\"vertical-align: middle; margin-left: 2px; font-size: 0.7em; color: #64b5f6;\">O</span></span> <span style=\"padding: 2px; border-radius: 4px; border: 1px solid #bbdefb; background: #e3f2fd\">would<span style=\"vertical-align: middle; margin-left: 2px; font-size: 0.7em; color: #64b5f6;\">O</span></span> <span style=\"padding: 2px; border-radius: 4px; border: 1px solid #bbdefb; background: #e3f2fd\">be<span style=\"vertical-align: middle; margin-left: 2px; font-size: 0.7em; color: #64b5f6;\">O</span></span> <span style=\"padding: 2px; border-radius: 4px; border: 1px solid #bbdefb; background: #e3f2fd\">removed<span style=\"vertical-align: middle; margin-left: 2px; font-size: 0.7em; color: #64b5f6;\">O</span></span> <span style=\"padding: 2px; border-radius: 4px; border: 1px solid #bbdefb; background: #e3f2fd\">in<span style=\"vertical-align: middle; margin-left: 2px; font-size: 0.7em; color: #64b5f6;\">O</span></span> <span style=\"padding: 2px; border-radius: 4px; border: 1px solid #bbdefb; background: #e3f2fd\">30<span style=\"vertical-align: middle; margin-left: 2px; font-size: 0.7em; color: #64b5f6;\">O</span></span> <span style=\"padding: 2px; border-radius: 4px; border: 1px solid #bbdefb; background: #e3f2fd\">days<span style=\"vertical-align: middle; margin-left: 2px; font-size: 0.7em; color: #64b5f6;\">O</span></span> <span style=\"padding: 2px; border-radius: 4px; border: 1px solid #bbdefb; background: #e3f2fd\">.<span style=\"vertical-align: middle; margin-left: 2px; font-size: 0.7em; color: #64b5f6;\">O</span></span></div>"
>>>>>>> origin/master
            ],
            "text/plain": [
              "<IPython.core.display.HTML object>"
            ]
          },
          "metadata": {
            "tags": []
          }
        },
        {
          "output_type": "display_data",
          "data": {
            "text/html": [
<<<<<<< HEAD
              "<div class=\"tex2jax_ignore\" style=\"white-space: pre-wrap\"><span style=\"padding: 2px; border-radius: 4px; border: 1px solid #bbdefb; background: #e3f2fd\">Mr<span style=\"vertical-align: middle; margin-left: 2px; font-size: 0.7em; color: #64b5f6;\">I-PER</span></span> <span style=\"padding: 2px; border-radius: 4px; border: 1px solid #bbdefb; background: #e3f2fd\">Linick<span style=\"vertical-align: middle; margin-left: 2px; font-size: 0.7em; color: #64b5f6;\">I-PER</span></span> <span style=\"padding: 2px; border-radius: 4px; border: 1px solid #c8e6c9; background: #e8f5e9\">had<span style=\"vertical-align: middle; margin-left: 2px; font-size: 0.7em; color: #66bb6a;\">O</span></span> <span style=\"padding: 2px; border-radius: 4px; border: 1px solid #c8e6c9; background: #e8f5e9\">begun<span style=\"vertical-align: middle; margin-left: 2px; font-size: 0.7em; color: #66bb6a;\">O</span></span> <span style=\"padding: 2px; border-radius: 4px; border: 1px solid #c8e6c9; background: #e8f5e9\">investigating<span style=\"vertical-align: middle; margin-left: 2px; font-size: 0.7em; color: #66bb6a;\">O</span></span> <span style=\"padding: 2px; border-radius: 4px; border: 1px solid #c8e6c9; background: #e8f5e9\">Secretary<span style=\"vertical-align: middle; margin-left: 2px; font-size: 0.7em; color: #66bb6a;\">O</span></span> <span style=\"padding: 2px; border-radius: 4px; border: 1px solid #c8e6c9; background: #e8f5e9\">of<span style=\"vertical-align: middle; margin-left: 2px; font-size: 0.7em; color: #66bb6a;\">O</span></span> <span style=\"padding: 2px; border-radius: 4px; border: 1px solid #c8e6c9; background: #e8f5e9\">State<span style=\"vertical-align: middle; margin-left: 2px; font-size: 0.7em; color: #66bb6a;\">O</span></span> <span style=\"padding: 2px; border-radius: 4px; border: 1px solid #bbdefb; background: #e3f2fd\">Mike<span style=\"vertical-align: middle; margin-left: 2px; font-size: 0.7em; color: #64b5f6;\">I-PER</span></span> <span style=\"padding: 2px; border-radius: 4px; border: 1px solid #bbdefb; background: #e3f2fd\">Pompeo<span style=\"vertical-align: middle; margin-left: 2px; font-size: 0.7em; color: #64b5f6;\">I-PER</span></span> <span style=\"padding: 2px; border-radius: 4px; border: 1px solid #c8e6c9; background: #e8f5e9\">for<span style=\"vertical-align: middle; margin-left: 2px; font-size: 0.7em; color: #66bb6a;\">O</span></span> <span style=\"padding: 2px; border-radius: 4px; border: 1px solid #c8e6c9; background: #e8f5e9\">suspected<span style=\"vertical-align: middle; margin-left: 2px; font-size: 0.7em; color: #66bb6a;\">O</span></span> <span style=\"padding: 2px; border-radius: 4px; border: 1px solid #c8e6c9; background: #e8f5e9\">abuse<span style=\"vertical-align: middle; margin-left: 2px; font-size: 0.7em; color: #66bb6a;\">O</span></span> <span style=\"padding: 2px; border-radius: 4px; border: 1px solid #c8e6c9; background: #e8f5e9\">of<span style=\"vertical-align: middle; margin-left: 2px; font-size: 0.7em; color: #66bb6a;\">O</span></span> <span style=\"padding: 2px; border-radius: 4px; border: 1px solid #c8e6c9; background: #e8f5e9\">office<span style=\"vertical-align: middle; margin-left: 2px; font-size: 0.7em; color: #66bb6a;\">O</span></span> <span style=\"padding: 2px; border-radius: 4px; border: 1px solid #c8e6c9; background: #e8f5e9\">,<span style=\"vertical-align: middle; margin-left: 2px; font-size: 0.7em; color: #66bb6a;\">O</span></span> <span style=\"padding: 2px; border-radius: 4px; border: 1px solid #c8e6c9; background: #e8f5e9\">reports<span style=\"vertical-align: middle; margin-left: 2px; font-size: 0.7em; color: #66bb6a;\">O</span></span> <span style=\"padding: 2px; border-radius: 4px; border: 1px solid #c8e6c9; background: #e8f5e9\">say<span style=\"vertical-align: middle; margin-left: 2px; font-size: 0.7em; color: #66bb6a;\">O</span></span> <span style=\"padding: 2px; border-radius: 4px; border: 1px solid #c8e6c9; background: #e8f5e9\">.<span style=\"vertical-align: middle; margin-left: 2px; font-size: 0.7em; color: #66bb6a;\">O</span></span></div>"
=======
              "<div class=\"tex2jax_ignore\" style=\"white-space: pre-wrap\"><span style=\"padding: 2px; border-radius: 4px; border: 1px solid #bbdefb; background: #e3f2fd\">Mr<span style=\"vertical-align: middle; margin-left: 2px; font-size: 0.7em; color: #64b5f6;\">O</span></span> <span style=\"padding: 2px; border-radius: 4px; border: 1px solid #c8e6c9; background: #e8f5e9\">Linick<span style=\"vertical-align: middle; margin-left: 2px; font-size: 0.7em; color: #66bb6a;\">I-PER</span></span> <span style=\"padding: 2px; border-radius: 4px; border: 1px solid #bbdefb; background: #e3f2fd\">had<span style=\"vertical-align: middle; margin-left: 2px; font-size: 0.7em; color: #64b5f6;\">O</span></span> <span style=\"padding: 2px; border-radius: 4px; border: 1px solid #bbdefb; background: #e3f2fd\">begun<span style=\"vertical-align: middle; margin-left: 2px; font-size: 0.7em; color: #64b5f6;\">O</span></span> <span style=\"padding: 2px; border-radius: 4px; border: 1px solid #bbdefb; background: #e3f2fd\">investigating<span style=\"vertical-align: middle; margin-left: 2px; font-size: 0.7em; color: #64b5f6;\">O</span></span> <span style=\"padding: 2px; border-radius: 4px; border: 1px solid #bbdefb; background: #e3f2fd\">Secretary<span style=\"vertical-align: middle; margin-left: 2px; font-size: 0.7em; color: #64b5f6;\">O</span></span> <span style=\"padding: 2px; border-radius: 4px; border: 1px solid #bbdefb; background: #e3f2fd\">of<span style=\"vertical-align: middle; margin-left: 2px; font-size: 0.7em; color: #64b5f6;\">O</span></span> <span style=\"padding: 2px; border-radius: 4px; border: 1px solid #ffcdd2; background: #ffebee\">State<span style=\"vertical-align: middle; margin-left: 2px; font-size: 0.7em; color: #e57373;\">I-ORG</span></span> <span style=\"padding: 2px; border-radius: 4px; border: 1px solid #ffcdd2; background: #ffebee\">Mike<span style=\"vertical-align: middle; margin-left: 2px; font-size: 0.7em; color: #e57373;\">I-ORG</span></span> <span style=\"padding: 2px; border-radius: 4px; border: 1px solid #ffcdd2; background: #ffebee\">Pompeo<span style=\"vertical-align: middle; margin-left: 2px; font-size: 0.7em; color: #e57373;\">I-ORG</span></span> <span style=\"padding: 2px; border-radius: 4px; border: 1px solid #bbdefb; background: #e3f2fd\">for<span style=\"vertical-align: middle; margin-left: 2px; font-size: 0.7em; color: #64b5f6;\">O</span></span> <span style=\"padding: 2px; border-radius: 4px; border: 1px solid #bbdefb; background: #e3f2fd\">suspected<span style=\"vertical-align: middle; margin-left: 2px; font-size: 0.7em; color: #64b5f6;\">O</span></span> <span style=\"padding: 2px; border-radius: 4px; border: 1px solid #bbdefb; background: #e3f2fd\">abuse<span style=\"vertical-align: middle; margin-left: 2px; font-size: 0.7em; color: #64b5f6;\">O</span></span> <span style=\"padding: 2px; border-radius: 4px; border: 1px solid #bbdefb; background: #e3f2fd\">of<span style=\"vertical-align: middle; margin-left: 2px; font-size: 0.7em; color: #64b5f6;\">O</span></span> <span style=\"padding: 2px; border-radius: 4px; border: 1px solid #bbdefb; background: #e3f2fd\">office<span style=\"vertical-align: middle; margin-left: 2px; font-size: 0.7em; color: #64b5f6;\">O</span></span> <span style=\"padding: 2px; border-radius: 4px; border: 1px solid #bbdefb; background: #e3f2fd\">,<span style=\"vertical-align: middle; margin-left: 2px; font-size: 0.7em; color: #64b5f6;\">O</span></span> <span style=\"padding: 2px; border-radius: 4px; border: 1px solid #bbdefb; background: #e3f2fd\">reports<span style=\"vertical-align: middle; margin-left: 2px; font-size: 0.7em; color: #64b5f6;\">O</span></span> <span style=\"padding: 2px; border-radius: 4px; border: 1px solid #bbdefb; background: #e3f2fd\">say<span style=\"vertical-align: middle; margin-left: 2px; font-size: 0.7em; color: #64b5f6;\">O</span></span> <span style=\"padding: 2px; border-radius: 4px; border: 1px solid #bbdefb; background: #e3f2fd\">.<span style=\"vertical-align: middle; margin-left: 2px; font-size: 0.7em; color: #64b5f6;\">O</span></span></div>"
>>>>>>> origin/master
            ],
            "text/plain": [
              "<IPython.core.display.HTML object>"
            ]
          },
          "metadata": {
            "tags": []
          }
        },
        {
          "output_type": "display_data",
          "data": {
            "text/html": [
<<<<<<< HEAD
              "<div class=\"tex2jax_ignore\" style=\"white-space: pre-wrap\"><span style=\"padding: 2px; border-radius: 4px; border: 1px solid #ffcdd2; background: #ffebee\">Democrats<span style=\"vertical-align: middle; margin-left: 2px; font-size: 0.7em; color: #e57373;\">I-MISC</span></span> <span style=\"padding: 2px; border-radius: 4px; border: 1px solid #c8e6c9; background: #e8f5e9\">say<span style=\"vertical-align: middle; margin-left: 2px; font-size: 0.7em; color: #66bb6a;\">O</span></span> <span style=\"padding: 2px; border-radius: 4px; border: 1px solid #c8e6c9; background: #e8f5e9\">Mr<span style=\"vertical-align: middle; margin-left: 2px; font-size: 0.7em; color: #66bb6a;\">O</span></span> <span style=\"padding: 2px; border-radius: 4px; border: 1px solid #bbdefb; background: #e3f2fd\">Trump<span style=\"vertical-align: middle; margin-left: 2px; font-size: 0.7em; color: #64b5f6;\">I-PER</span></span> <span style=\"padding: 2px; border-radius: 4px; border: 1px solid #c8e6c9; background: #e8f5e9\">is<span style=\"vertical-align: middle; margin-left: 2px; font-size: 0.7em; color: #66bb6a;\">O</span></span> <span style=\"padding: 2px; border-radius: 4px; border: 1px solid #c8e6c9; background: #e8f5e9\">retaliating<span style=\"vertical-align: middle; margin-left: 2px; font-size: 0.7em; color: #66bb6a;\">O</span></span> <span style=\"padding: 2px; border-radius: 4px; border: 1px solid #c8e6c9; background: #e8f5e9\">against<span style=\"vertical-align: middle; margin-left: 2px; font-size: 0.7em; color: #66bb6a;\">O</span></span> <span style=\"padding: 2px; border-radius: 4px; border: 1px solid #c8e6c9; background: #e8f5e9\">public<span style=\"vertical-align: middle; margin-left: 2px; font-size: 0.7em; color: #66bb6a;\">O</span></span> <span style=\"padding: 2px; border-radius: 4px; border: 1px solid #c8e6c9; background: #e8f5e9\">servants<span style=\"vertical-align: middle; margin-left: 2px; font-size: 0.7em; color: #66bb6a;\">O</span></span> <span style=\"padding: 2px; border-radius: 4px; border: 1px solid #c8e6c9; background: #e8f5e9\">who<span style=\"vertical-align: middle; margin-left: 2px; font-size: 0.7em; color: #66bb6a;\">O</span></span> <span style=\"padding: 2px; border-radius: 4px; border: 1px solid #c8e6c9; background: #e8f5e9\">want<span style=\"vertical-align: middle; margin-left: 2px; font-size: 0.7em; color: #66bb6a;\">O</span></span> <span style=\"padding: 2px; border-radius: 4px; border: 1px solid #c8e6c9; background: #e8f5e9\">to<span style=\"vertical-align: middle; margin-left: 2px; font-size: 0.7em; color: #66bb6a;\">O</span></span> <span style=\"padding: 2px; border-radius: 4px; border: 1px solid #c8e6c9; background: #e8f5e9\">hold<span style=\"vertical-align: middle; margin-left: 2px; font-size: 0.7em; color: #66bb6a;\">O</span></span> <span style=\"padding: 2px; border-radius: 4px; border: 1px solid #c8e6c9; background: #e8f5e9\">his<span style=\"vertical-align: middle; margin-left: 2px; font-size: 0.7em; color: #66bb6a;\">O</span></span> <span style=\"padding: 2px; border-radius: 4px; border: 1px solid #c8e6c9; background: #e8f5e9\">administration<span style=\"vertical-align: middle; margin-left: 2px; font-size: 0.7em; color: #66bb6a;\">O</span></span> <span style=\"padding: 2px; border-radius: 4px; border: 1px solid #c8e6c9; background: #e8f5e9\">to<span style=\"vertical-align: middle; margin-left: 2px; font-size: 0.7em; color: #66bb6a;\">O</span></span> <span style=\"padding: 2px; border-radius: 4px; border: 1px solid #c8e6c9; background: #e8f5e9\">account<span style=\"vertical-align: middle; margin-left: 2px; font-size: 0.7em; color: #66bb6a;\">O</span></span> <span style=\"padding: 2px; border-radius: 4px; border: 1px solid #c8e6c9; background: #e8f5e9\">.<span style=\"vertical-align: middle; margin-left: 2px; font-size: 0.7em; color: #66bb6a;\">O</span></span></div>"
=======
              "<div class=\"tex2jax_ignore\" style=\"white-space: pre-wrap\"><span style=\"padding: 2px; border-radius: 4px; border: 1px solid #ffe0b2; background: #fff3e0\">Democrats<span style=\"vertical-align: middle; margin-left: 2px; font-size: 0.7em; color: #ffb74d;\">I-MISC</span></span> <span style=\"padding: 2px; border-radius: 4px; border: 1px solid #bbdefb; background: #e3f2fd\">say<span style=\"vertical-align: middle; margin-left: 2px; font-size: 0.7em; color: #64b5f6;\">O</span></span> <span style=\"padding: 2px; border-radius: 4px; border: 1px solid #c8e6c9; background: #e8f5e9\">Mr<span style=\"vertical-align: middle; margin-left: 2px; font-size: 0.7em; color: #66bb6a;\">I-PER</span></span> <span style=\"padding: 2px; border-radius: 4px; border: 1px solid #c8e6c9; background: #e8f5e9\">Trump<span style=\"vertical-align: middle; margin-left: 2px; font-size: 0.7em; color: #66bb6a;\">I-PER</span></span> <span style=\"padding: 2px; border-radius: 4px; border: 1px solid #bbdefb; background: #e3f2fd\">is<span style=\"vertical-align: middle; margin-left: 2px; font-size: 0.7em; color: #64b5f6;\">O</span></span> <span style=\"padding: 2px; border-radius: 4px; border: 1px solid #bbdefb; background: #e3f2fd\">retaliating<span style=\"vertical-align: middle; margin-left: 2px; font-size: 0.7em; color: #64b5f6;\">O</span></span> <span style=\"padding: 2px; border-radius: 4px; border: 1px solid #bbdefb; background: #e3f2fd\">against<span style=\"vertical-align: middle; margin-left: 2px; font-size: 0.7em; color: #64b5f6;\">O</span></span> <span style=\"padding: 2px; border-radius: 4px; border: 1px solid #bbdefb; background: #e3f2fd\">public<span style=\"vertical-align: middle; margin-left: 2px; font-size: 0.7em; color: #64b5f6;\">O</span></span> <span style=\"padding: 2px; border-radius: 4px; border: 1px solid #bbdefb; background: #e3f2fd\">servants<span style=\"vertical-align: middle; margin-left: 2px; font-size: 0.7em; color: #64b5f6;\">O</span></span> <span style=\"padding: 2px; border-radius: 4px; border: 1px solid #bbdefb; background: #e3f2fd\">who<span style=\"vertical-align: middle; margin-left: 2px; font-size: 0.7em; color: #64b5f6;\">O</span></span> <span style=\"padding: 2px; border-radius: 4px; border: 1px solid #bbdefb; background: #e3f2fd\">want<span style=\"vertical-align: middle; margin-left: 2px; font-size: 0.7em; color: #64b5f6;\">O</span></span> <span style=\"padding: 2px; border-radius: 4px; border: 1px solid #bbdefb; background: #e3f2fd\">to<span style=\"vertical-align: middle; margin-left: 2px; font-size: 0.7em; color: #64b5f6;\">O</span></span> <span style=\"padding: 2px; border-radius: 4px; border: 1px solid #bbdefb; background: #e3f2fd\">hold<span style=\"vertical-align: middle; margin-left: 2px; font-size: 0.7em; color: #64b5f6;\">O</span></span> <span style=\"padding: 2px; border-radius: 4px; border: 1px solid #bbdefb; background: #e3f2fd\">his<span style=\"vertical-align: middle; margin-left: 2px; font-size: 0.7em; color: #64b5f6;\">O</span></span> <span style=\"padding: 2px; border-radius: 4px; border: 1px solid #bbdefb; background: #e3f2fd\">administration<span style=\"vertical-align: middle; margin-left: 2px; font-size: 0.7em; color: #64b5f6;\">O</span></span> <span style=\"padding: 2px; border-radius: 4px; border: 1px solid #bbdefb; background: #e3f2fd\">to<span style=\"vertical-align: middle; margin-left: 2px; font-size: 0.7em; color: #64b5f6;\">O</span></span> <span style=\"padding: 2px; border-radius: 4px; border: 1px solid #bbdefb; background: #e3f2fd\">account<span style=\"vertical-align: middle; margin-left: 2px; font-size: 0.7em; color: #64b5f6;\">O</span></span> <span style=\"padding: 2px; border-radius: 4px; border: 1px solid #bbdefb; background: #e3f2fd\">.<span style=\"vertical-align: middle; margin-left: 2px; font-size: 0.7em; color: #64b5f6;\">O</span></span></div>"
>>>>>>> origin/master
            ],
            "text/plain": [
              "<IPython.core.display.HTML object>"
            ]
          },
          "metadata": {
            "tags": []
          }
        },
        {
          "output_type": "display_data",
          "data": {
            "text/html": [
<<<<<<< HEAD
              "<div class=\"tex2jax_ignore\" style=\"white-space: pre-wrap\"><span style=\"padding: 2px; border-radius: 4px; border: 1px solid #bbdefb; background: #e3f2fd\">Donald<span style=\"vertical-align: middle; margin-left: 2px; font-size: 0.7em; color: #64b5f6;\">I-PER</span></span> <span style=\"padding: 2px; border-radius: 4px; border: 1px solid #bbdefb; background: #e3f2fd\">Trump<span style=\"vertical-align: middle; margin-left: 2px; font-size: 0.7em; color: #64b5f6;\">I-PER</span></span> <span style=\"padding: 2px; border-radius: 4px; border: 1px solid #c8e6c9; background: #e8f5e9\">,<span style=\"vertical-align: middle; margin-left: 2px; font-size: 0.7em; color: #66bb6a;\">O</span></span> <span style=\"padding: 2px; border-radius: 4px; border: 1px solid #c8e6c9; background: #e8f5e9\">who<span style=\"vertical-align: middle; margin-left: 2px; font-size: 0.7em; color: #66bb6a;\">O</span></span> <span style=\"padding: 2px; border-radius: 4px; border: 1px solid #c8e6c9; background: #e8f5e9\">is<span style=\"vertical-align: middle; margin-left: 2px; font-size: 0.7em; color: #66bb6a;\">O</span></span> <span style=\"padding: 2px; border-radius: 4px; border: 1px solid #c8e6c9; background: #e8f5e9\">campaigning<span style=\"vertical-align: middle; margin-left: 2px; font-size: 0.7em; color: #66bb6a;\">O</span></span> <span style=\"padding: 2px; border-radius: 4px; border: 1px solid #c8e6c9; background: #e8f5e9\">for<span style=\"vertical-align: middle; margin-left: 2px; font-size: 0.7em; color: #66bb6a;\">O</span></span> <span style=\"padding: 2px; border-radius: 4px; border: 1px solid #c8e6c9; background: #e8f5e9\">re<span style=\"vertical-align: middle; margin-left: 2px; font-size: 0.7em; color: #66bb6a;\">O</span></span> <span style=\"padding: 2px; border-radius: 4px; border: 1px solid #c8e6c9; background: #e8f5e9\">-<span style=\"vertical-align: middle; margin-left: 2px; font-size: 0.7em; color: #66bb6a;\">O</span></span> <span style=\"padding: 2px; border-radius: 4px; border: 1px solid #c8e6c9; background: #e8f5e9\">election<span style=\"vertical-align: middle; margin-left: 2px; font-size: 0.7em; color: #66bb6a;\">O</span></span> <span style=\"padding: 2px; border-radius: 4px; border: 1px solid #c8e6c9; background: #e8f5e9\">in<span style=\"vertical-align: middle; margin-left: 2px; font-size: 0.7em; color: #66bb6a;\">O</span></span> <span style=\"padding: 2px; border-radius: 4px; border: 1px solid #c8e6c9; background: #e8f5e9\">November<span style=\"vertical-align: middle; margin-left: 2px; font-size: 0.7em; color: #66bb6a;\">O</span></span> <span style=\"padding: 2px; border-radius: 4px; border: 1px solid #c8e6c9; background: #e8f5e9\">,<span style=\"vertical-align: middle; margin-left: 2px; font-size: 0.7em; color: #66bb6a;\">O</span></span> <span style=\"padding: 2px; border-radius: 4px; border: 1px solid #c8e6c9; background: #e8f5e9\">has<span style=\"vertical-align: middle; margin-left: 2px; font-size: 0.7em; color: #66bb6a;\">O</span></span> <span style=\"padding: 2px; border-radius: 4px; border: 1px solid #c8e6c9; background: #e8f5e9\">stepped<span style=\"vertical-align: middle; margin-left: 2px; font-size: 0.7em; color: #66bb6a;\">O</span></span> <span style=\"padding: 2px; border-radius: 4px; border: 1px solid #c8e6c9; background: #e8f5e9\">up<span style=\"vertical-align: middle; margin-left: 2px; font-size: 0.7em; color: #66bb6a;\">O</span></span> <span style=\"padding: 2px; border-radius: 4px; border: 1px solid #c8e6c9; background: #e8f5e9\">his<span style=\"vertical-align: middle; margin-left: 2px; font-size: 0.7em; color: #66bb6a;\">O</span></span> <span style=\"padding: 2px; border-radius: 4px; border: 1px solid #c8e6c9; background: #e8f5e9\">attacks<span style=\"vertical-align: middle; margin-left: 2px; font-size: 0.7em; color: #66bb6a;\">O</span></span> <span style=\"padding: 2px; border-radius: 4px; border: 1px solid #c8e6c9; background: #e8f5e9\">on<span style=\"vertical-align: middle; margin-left: 2px; font-size: 0.7em; color: #66bb6a;\">O</span></span> <span style=\"padding: 2px; border-radius: 4px; border: 1px solid #ffe0b2; background: #fff3e0\">China<span style=\"vertical-align: middle; margin-left: 2px; font-size: 0.7em; color: #ffb74d;\">I-LOC</span></span> <span style=\"padding: 2px; border-radius: 4px; border: 1px solid #c8e6c9; background: #e8f5e9\">in<span style=\"vertical-align: middle; margin-left: 2px; font-size: 0.7em; color: #66bb6a;\">O</span></span> <span style=\"padding: 2px; border-radius: 4px; border: 1px solid #c8e6c9; background: #e8f5e9\">recent<span style=\"vertical-align: middle; margin-left: 2px; font-size: 0.7em; color: #66bb6a;\">O</span></span> <span style=\"padding: 2px; border-radius: 4px; border: 1px solid #c8e6c9; background: #e8f5e9\">weeks<span style=\"vertical-align: middle; margin-left: 2px; font-size: 0.7em; color: #66bb6a;\">O</span></span> <span style=\"padding: 2px; border-radius: 4px; border: 1px solid #c8e6c9; background: #e8f5e9\">,<span style=\"vertical-align: middle; margin-left: 2px; font-size: 0.7em; color: #66bb6a;\">O</span></span> <span style=\"padding: 2px; border-radius: 4px; border: 1px solid #c8e6c9; background: #e8f5e9\">blaming<span style=\"vertical-align: middle; margin-left: 2px; font-size: 0.7em; color: #66bb6a;\">O</span></span> <span style=\"padding: 2px; border-radius: 4px; border: 1px solid #c8e6c9; background: #e8f5e9\">it<span style=\"vertical-align: middle; margin-left: 2px; font-size: 0.7em; color: #66bb6a;\">O</span></span> <span style=\"padding: 2px; border-radius: 4px; border: 1px solid #c8e6c9; background: #e8f5e9\">for<span style=\"vertical-align: middle; margin-left: 2px; font-size: 0.7em; color: #66bb6a;\">O</span></span> <span style=\"padding: 2px; border-radius: 4px; border: 1px solid #c8e6c9; background: #e8f5e9\">the<span style=\"vertical-align: middle; margin-left: 2px; font-size: 0.7em; color: #66bb6a;\">O</span></span> <span style=\"padding: 2px; border-radius: 4px; border: 1px solid #c8e6c9; background: #e8f5e9\">spread<span style=\"vertical-align: middle; margin-left: 2px; font-size: 0.7em; color: #66bb6a;\">O</span></span> <span style=\"padding: 2px; border-radius: 4px; border: 1px solid #c8e6c9; background: #e8f5e9\">of<span style=\"vertical-align: middle; margin-left: 2px; font-size: 0.7em; color: #66bb6a;\">O</span></span> <span style=\"padding: 2px; border-radius: 4px; border: 1px solid #c8e6c9; background: #e8f5e9\">Covid-19<span style=\"vertical-align: middle; margin-left: 2px; font-size: 0.7em; color: #66bb6a;\">O</span></span> <span style=\"padding: 2px; border-radius: 4px; border: 1px solid #c8e6c9; background: #e8f5e9\">.<span style=\"vertical-align: middle; margin-left: 2px; font-size: 0.7em; color: #66bb6a;\">O</span></span></div>"
=======
              "<div class=\"tex2jax_ignore\" style=\"white-space: pre-wrap\"><span style=\"padding: 2px; border-radius: 4px; border: 1px solid #c8e6c9; background: #e8f5e9\">Donald<span style=\"vertical-align: middle; margin-left: 2px; font-size: 0.7em; color: #66bb6a;\">I-PER</span></span> <span style=\"padding: 2px; border-radius: 4px; border: 1px solid #c8e6c9; background: #e8f5e9\">Trump<span style=\"vertical-align: middle; margin-left: 2px; font-size: 0.7em; color: #66bb6a;\">I-PER</span></span> <span style=\"padding: 2px; border-radius: 4px; border: 1px solid #bbdefb; background: #e3f2fd\">,<span style=\"vertical-align: middle; margin-left: 2px; font-size: 0.7em; color: #64b5f6;\">O</span></span> <span style=\"padding: 2px; border-radius: 4px; border: 1px solid #bbdefb; background: #e3f2fd\">who<span style=\"vertical-align: middle; margin-left: 2px; font-size: 0.7em; color: #64b5f6;\">O</span></span> <span style=\"padding: 2px; border-radius: 4px; border: 1px solid #bbdefb; background: #e3f2fd\">is<span style=\"vertical-align: middle; margin-left: 2px; font-size: 0.7em; color: #64b5f6;\">O</span></span> <span style=\"padding: 2px; border-radius: 4px; border: 1px solid #bbdefb; background: #e3f2fd\">campaigning<span style=\"vertical-align: middle; margin-left: 2px; font-size: 0.7em; color: #64b5f6;\">O</span></span> <span style=\"padding: 2px; border-radius: 4px; border: 1px solid #bbdefb; background: #e3f2fd\">for<span style=\"vertical-align: middle; margin-left: 2px; font-size: 0.7em; color: #64b5f6;\">O</span></span> <span style=\"padding: 2px; border-radius: 4px; border: 1px solid #bbdefb; background: #e3f2fd\">re<span style=\"vertical-align: middle; margin-left: 2px; font-size: 0.7em; color: #64b5f6;\">O</span></span> <span style=\"padding: 2px; border-radius: 4px; border: 1px solid #bbdefb; background: #e3f2fd\">-<span style=\"vertical-align: middle; margin-left: 2px; font-size: 0.7em; color: #64b5f6;\">O</span></span> <span style=\"padding: 2px; border-radius: 4px; border: 1px solid #bbdefb; background: #e3f2fd\">election<span style=\"vertical-align: middle; margin-left: 2px; font-size: 0.7em; color: #64b5f6;\">O</span></span> <span style=\"padding: 2px; border-radius: 4px; border: 1px solid #bbdefb; background: #e3f2fd\">in<span style=\"vertical-align: middle; margin-left: 2px; font-size: 0.7em; color: #64b5f6;\">O</span></span> <span style=\"padding: 2px; border-radius: 4px; border: 1px solid #bbdefb; background: #e3f2fd\">November<span style=\"vertical-align: middle; margin-left: 2px; font-size: 0.7em; color: #64b5f6;\">O</span></span> <span style=\"padding: 2px; border-radius: 4px; border: 1px solid #bbdefb; background: #e3f2fd\">,<span style=\"vertical-align: middle; margin-left: 2px; font-size: 0.7em; color: #64b5f6;\">O</span></span> <span style=\"padding: 2px; border-radius: 4px; border: 1px solid #bbdefb; background: #e3f2fd\">has<span style=\"vertical-align: middle; margin-left: 2px; font-size: 0.7em; color: #64b5f6;\">O</span></span> <span style=\"padding: 2px; border-radius: 4px; border: 1px solid #bbdefb; background: #e3f2fd\">stepped<span style=\"vertical-align: middle; margin-left: 2px; font-size: 0.7em; color: #64b5f6;\">O</span></span> <span style=\"padding: 2px; border-radius: 4px; border: 1px solid #bbdefb; background: #e3f2fd\">up<span style=\"vertical-align: middle; margin-left: 2px; font-size: 0.7em; color: #64b5f6;\">O</span></span> <span style=\"padding: 2px; border-radius: 4px; border: 1px solid #bbdefb; background: #e3f2fd\">his<span style=\"vertical-align: middle; margin-left: 2px; font-size: 0.7em; color: #64b5f6;\">O</span></span> <span style=\"padding: 2px; border-radius: 4px; border: 1px solid #bbdefb; background: #e3f2fd\">attacks<span style=\"vertical-align: middle; margin-left: 2px; font-size: 0.7em; color: #64b5f6;\">O</span></span> <span style=\"padding: 2px; border-radius: 4px; border: 1px solid #bbdefb; background: #e3f2fd\">on<span style=\"vertical-align: middle; margin-left: 2px; font-size: 0.7em; color: #64b5f6;\">O</span></span> <span style=\"padding: 2px; border-radius: 4px; border: 1px solid #d1c4e9; background: #ede7f6\">China<span style=\"vertical-align: middle; margin-left: 2px; font-size: 0.7em; color: #9575cd;\">I-LOC</span></span> <span style=\"padding: 2px; border-radius: 4px; border: 1px solid #bbdefb; background: #e3f2fd\">in<span style=\"vertical-align: middle; margin-left: 2px; font-size: 0.7em; color: #64b5f6;\">O</span></span> <span style=\"padding: 2px; border-radius: 4px; border: 1px solid #bbdefb; background: #e3f2fd\">recent<span style=\"vertical-align: middle; margin-left: 2px; font-size: 0.7em; color: #64b5f6;\">O</span></span> <span style=\"padding: 2px; border-radius: 4px; border: 1px solid #bbdefb; background: #e3f2fd\">weeks<span style=\"vertical-align: middle; margin-left: 2px; font-size: 0.7em; color: #64b5f6;\">O</span></span> <span style=\"padding: 2px; border-radius: 4px; border: 1px solid #bbdefb; background: #e3f2fd\">,<span style=\"vertical-align: middle; margin-left: 2px; font-size: 0.7em; color: #64b5f6;\">O</span></span> <span style=\"padding: 2px; border-radius: 4px; border: 1px solid #bbdefb; background: #e3f2fd\">blaming<span style=\"vertical-align: middle; margin-left: 2px; font-size: 0.7em; color: #64b5f6;\">O</span></span> <span style=\"padding: 2px; border-radius: 4px; border: 1px solid #bbdefb; background: #e3f2fd\">it<span style=\"vertical-align: middle; margin-left: 2px; font-size: 0.7em; color: #64b5f6;\">O</span></span> <span style=\"padding: 2px; border-radius: 4px; border: 1px solid #bbdefb; background: #e3f2fd\">for<span style=\"vertical-align: middle; margin-left: 2px; font-size: 0.7em; color: #64b5f6;\">O</span></span> <span style=\"padding: 2px; border-radius: 4px; border: 1px solid #bbdefb; background: #e3f2fd\">the<span style=\"vertical-align: middle; margin-left: 2px; font-size: 0.7em; color: #64b5f6;\">O</span></span> <span style=\"padding: 2px; border-radius: 4px; border: 1px solid #bbdefb; background: #e3f2fd\">spread<span style=\"vertical-align: middle; margin-left: 2px; font-size: 0.7em; color: #64b5f6;\">O</span></span> <span style=\"padding: 2px; border-radius: 4px; border: 1px solid #bbdefb; background: #e3f2fd\">of<span style=\"vertical-align: middle; margin-left: 2px; font-size: 0.7em; color: #64b5f6;\">O</span></span> <span style=\"padding: 2px; border-radius: 4px; border: 1px solid #bbdefb; background: #e3f2fd\">Covid-19<span style=\"vertical-align: middle; margin-left: 2px; font-size: 0.7em; color: #64b5f6;\">O</span></span> <span style=\"padding: 2px; border-radius: 4px; border: 1px solid #bbdefb; background: #e3f2fd\">.<span style=\"vertical-align: middle; margin-left: 2px; font-size: 0.7em; color: #64b5f6;\">O</span></span></div>"
>>>>>>> origin/master
            ],
            "text/plain": [
              "<IPython.core.display.HTML object>"
            ]
          },
          "metadata": {
            "tags": []
          }
        },
        {
          "output_type": "display_data",
          "data": {
            "text/html": [
<<<<<<< HEAD
              "<div class=\"tex2jax_ignore\" style=\"white-space: pre-wrap\"><span style=\"padding: 2px; border-radius: 4px; border: 1px solid #c8e6c9; background: #e8f5e9\">The<span style=\"vertical-align: middle; margin-left: 2px; font-size: 0.7em; color: #66bb6a;\">O</span></span> <span style=\"padding: 2px; border-radius: 4px; border: 1px solid #c8e6c9; background: #e8f5e9\">team<span style=\"vertical-align: middle; margin-left: 2px; font-size: 0.7em; color: #66bb6a;\">O</span></span> <span style=\"padding: 2px; border-radius: 4px; border: 1px solid #c8e6c9; background: #e8f5e9\">led<span style=\"vertical-align: middle; margin-left: 2px; font-size: 0.7em; color: #66bb6a;\">O</span></span> <span style=\"padding: 2px; border-radius: 4px; border: 1px solid #c8e6c9; background: #e8f5e9\">by<span style=\"vertical-align: middle; margin-left: 2px; font-size: 0.7em; color: #66bb6a;\">O</span></span> <span style=\"padding: 2px; border-radius: 4px; border: 1px solid #bbdefb; background: #e3f2fd\">Fernando<span style=\"vertical-align: middle; margin-left: 2px; font-size: 0.7em; color: #64b5f6;\">I-PER</span></span> <span style=\"padding: 2px; border-radius: 4px; border: 1px solid #bbdefb; background: #e3f2fd\">Novas<span style=\"vertical-align: middle; margin-left: 2px; font-size: 0.7em; color: #64b5f6;\">I-PER</span></span> <span style=\"padding: 2px; border-radius: 4px; border: 1px solid #c8e6c9; background: #e8f5e9\">from<span style=\"vertical-align: middle; margin-left: 2px; font-size: 0.7em; color: #66bb6a;\">O</span></span> <span style=\"padding: 2px; border-radius: 4px; border: 1px solid #c8e6c9; background: #e8f5e9\">the<span style=\"vertical-align: middle; margin-left: 2px; font-size: 0.7em; color: #66bb6a;\">O</span></span> <span style=\"padding: 2px; border-radius: 4px; border: 1px solid #ffe0b2; background: #fff3e0\">Natural<span style=\"vertical-align: middle; margin-left: 2px; font-size: 0.7em; color: #ffb74d;\">I-LOC</span></span> <span style=\"padding: 2px; border-radius: 4px; border: 1px solid #ffe0b2; background: #fff3e0\">Sciences<span style=\"vertical-align: middle; margin-left: 2px; font-size: 0.7em; color: #ffb74d;\">I-LOC</span></span> <span style=\"padding: 2px; border-radius: 4px; border: 1px solid #ffe0b2; background: #fff3e0\">Museum<span style=\"vertical-align: middle; margin-left: 2px; font-size: 0.7em; color: #ffb74d;\">I-LOC</span></span> <span style=\"padding: 2px; border-radius: 4px; border: 1px solid #c8e6c9; background: #e8f5e9\">in<span style=\"vertical-align: middle; margin-left: 2px; font-size: 0.7em; color: #66bb6a;\">O</span></span> <span style=\"padding: 2px; border-radius: 4px; border: 1px solid #ffe0b2; background: #fff3e0\">Buenos<span style=\"vertical-align: middle; margin-left: 2px; font-size: 0.7em; color: #ffb74d;\">I-LOC</span></span> <span style=\"padding: 2px; border-radius: 4px; border: 1px solid #ffe0b2; background: #fff3e0\">Aires<span style=\"vertical-align: middle; margin-left: 2px; font-size: 0.7em; color: #ffb74d;\">I-LOC</span></span> <span style=\"padding: 2px; border-radius: 4px; border: 1px solid #c8e6c9; background: #e8f5e9\">discovered<span style=\"vertical-align: middle; margin-left: 2px; font-size: 0.7em; color: #66bb6a;\">O</span></span> <span style=\"padding: 2px; border-radius: 4px; border: 1px solid #c8e6c9; background: #e8f5e9\">many<span style=\"vertical-align: middle; margin-left: 2px; font-size: 0.7em; color: #66bb6a;\">O</span></span> <span style=\"padding: 2px; border-radius: 4px; border: 1px solid #c8e6c9; background: #e8f5e9\">fossils<span style=\"vertical-align: middle; margin-left: 2px; font-size: 0.7em; color: #66bb6a;\">O</span></span> <span style=\"padding: 2px; border-radius: 4px; border: 1px solid #c8e6c9; background: #e8f5e9\">during<span style=\"vertical-align: middle; margin-left: 2px; font-size: 0.7em; color: #66bb6a;\">O</span></span> <span style=\"padding: 2px; border-radius: 4px; border: 1px solid #c8e6c9; background: #e8f5e9\">its<span style=\"vertical-align: middle; margin-left: 2px; font-size: 0.7em; color: #66bb6a;\">O</span></span> <span style=\"padding: 2px; border-radius: 4px; border: 1px solid #c8e6c9; background: #e8f5e9\">month<span style=\"vertical-align: middle; margin-left: 2px; font-size: 0.7em; color: #66bb6a;\">O</span></span> <span style=\"padding: 2px; border-radius: 4px; border: 1px solid #c8e6c9; background: #e8f5e9\">-<span style=\"vertical-align: middle; margin-left: 2px; font-size: 0.7em; color: #66bb6a;\">O</span></span> <span style=\"padding: 2px; border-radius: 4px; border: 1px solid #c8e6c9; background: #e8f5e9\">long<span style=\"vertical-align: middle; margin-left: 2px; font-size: 0.7em; color: #66bb6a;\">O</span></span> <span style=\"padding: 2px; border-radius: 4px; border: 1px solid #c8e6c9; background: #e8f5e9\">field<span style=\"vertical-align: middle; margin-left: 2px; font-size: 0.7em; color: #66bb6a;\">O</span></span> <span style=\"padding: 2px; border-radius: 4px; border: 1px solid #c8e6c9; background: #e8f5e9\">work<span style=\"vertical-align: middle; margin-left: 2px; font-size: 0.7em; color: #66bb6a;\">O</span></span> <span style=\"padding: 2px; border-radius: 4px; border: 1px solid #c8e6c9; background: #e8f5e9\">in<span style=\"vertical-align: middle; margin-left: 2px; font-size: 0.7em; color: #66bb6a;\">O</span></span> <span style=\"padding: 2px; border-radius: 4px; border: 1px solid #ffe0b2; background: #fff3e0\">Estancia<span style=\"vertical-align: middle; margin-left: 2px; font-size: 0.7em; color: #ffb74d;\">I-LOC</span></span> <span style=\"padding: 2px; border-radius: 4px; border: 1px solid #ffe0b2; background: #fff3e0\">La<span style=\"vertical-align: middle; margin-left: 2px; font-size: 0.7em; color: #ffb74d;\">I-LOC</span></span> <span style=\"padding: 2px; border-radius: 4px; border: 1px solid #ffe0b2; background: #fff3e0\">Anita<span style=\"vertical-align: middle; margin-left: 2px; font-size: 0.7em; color: #ffb74d;\">I-LOC</span></span> <span style=\"padding: 2px; border-radius: 4px; border: 1px solid #c8e6c9; background: #e8f5e9\">,<span style=\"vertical-align: middle; margin-left: 2px; font-size: 0.7em; color: #66bb6a;\">O</span></span> <span style=\"padding: 2px; border-radius: 4px; border: 1px solid #c8e6c9; background: #e8f5e9\">in<span style=\"vertical-align: middle; margin-left: 2px; font-size: 0.7em; color: #66bb6a;\">O</span></span> <span style=\"padding: 2px; border-radius: 4px; border: 1px solid #c8e6c9; background: #e8f5e9\">southern<span style=\"vertical-align: middle; margin-left: 2px; font-size: 0.7em; color: #66bb6a;\">O</span></span> <span style=\"padding: 2px; border-radius: 4px; border: 1px solid #bbdefb; background: #e3f2fd\">Santa<span style=\"vertical-align: middle; margin-left: 2px; font-size: 0.7em; color: #64b5f6;\">I-PER</span></span> <span style=\"padding: 2px; border-radius: 4px; border: 1px solid #bbdefb; background: #e3f2fd\">Cruz<span style=\"vertical-align: middle; margin-left: 2px; font-size: 0.7em; color: #64b5f6;\">I-PER</span></span> <span style=\"padding: 2px; border-radius: 4px; border: 1px solid #c8e6c9; background: #e8f5e9\">province<span style=\"vertical-align: middle; margin-left: 2px; font-size: 0.7em; color: #66bb6a;\">O</span></span> <span style=\"padding: 2px; border-radius: 4px; border: 1px solid #c8e6c9; background: #e8f5e9\">.<span style=\"vertical-align: middle; margin-left: 2px; font-size: 0.7em; color: #66bb6a;\">O</span></span></div>"
=======
              "<div class=\"tex2jax_ignore\" style=\"white-space: pre-wrap\"><span style=\"padding: 2px; border-radius: 4px; border: 1px solid #bbdefb; background: #e3f2fd\">The<span style=\"vertical-align: middle; margin-left: 2px; font-size: 0.7em; color: #64b5f6;\">O</span></span> <span style=\"padding: 2px; border-radius: 4px; border: 1px solid #bbdefb; background: #e3f2fd\">team<span style=\"vertical-align: middle; margin-left: 2px; font-size: 0.7em; color: #64b5f6;\">O</span></span> <span style=\"padding: 2px; border-radius: 4px; border: 1px solid #bbdefb; background: #e3f2fd\">led<span style=\"vertical-align: middle; margin-left: 2px; font-size: 0.7em; color: #64b5f6;\">O</span></span> <span style=\"padding: 2px; border-radius: 4px; border: 1px solid #bbdefb; background: #e3f2fd\">by<span style=\"vertical-align: middle; margin-left: 2px; font-size: 0.7em; color: #64b5f6;\">O</span></span> <span style=\"padding: 2px; border-radius: 4px; border: 1px solid #c8e6c9; background: #e8f5e9\">Fernando<span style=\"vertical-align: middle; margin-left: 2px; font-size: 0.7em; color: #66bb6a;\">I-PER</span></span> <span style=\"padding: 2px; border-radius: 4px; border: 1px solid #c8e6c9; background: #e8f5e9\">Novas<span style=\"vertical-align: middle; margin-left: 2px; font-size: 0.7em; color: #66bb6a;\">I-PER</span></span> <span style=\"padding: 2px; border-radius: 4px; border: 1px solid #bbdefb; background: #e3f2fd\">from<span style=\"vertical-align: middle; margin-left: 2px; font-size: 0.7em; color: #64b5f6;\">O</span></span> <span style=\"padding: 2px; border-radius: 4px; border: 1px solid #bbdefb; background: #e3f2fd\">the<span style=\"vertical-align: middle; margin-left: 2px; font-size: 0.7em; color: #64b5f6;\">O</span></span> <span style=\"padding: 2px; border-radius: 4px; border: 1px solid #ffcdd2; background: #ffebee\">Natural<span style=\"vertical-align: middle; margin-left: 2px; font-size: 0.7em; color: #e57373;\">I-ORG</span></span> <span style=\"padding: 2px; border-radius: 4px; border: 1px solid #ffcdd2; background: #ffebee\">Sciences<span style=\"vertical-align: middle; margin-left: 2px; font-size: 0.7em; color: #e57373;\">I-ORG</span></span> <span style=\"padding: 2px; border-radius: 4px; border: 1px solid #ffcdd2; background: #ffebee\">Museum<span style=\"vertical-align: middle; margin-left: 2px; font-size: 0.7em; color: #e57373;\">I-ORG</span></span> <span style=\"padding: 2px; border-radius: 4px; border: 1px solid #bbdefb; background: #e3f2fd\">in<span style=\"vertical-align: middle; margin-left: 2px; font-size: 0.7em; color: #64b5f6;\">O</span></span> <span style=\"padding: 2px; border-radius: 4px; border: 1px solid #d1c4e9; background: #ede7f6\">Buenos<span style=\"vertical-align: middle; margin-left: 2px; font-size: 0.7em; color: #9575cd;\">I-LOC</span></span> <span style=\"padding: 2px; border-radius: 4px; border: 1px solid #d1c4e9; background: #ede7f6\">Aires<span style=\"vertical-align: middle; margin-left: 2px; font-size: 0.7em; color: #9575cd;\">I-LOC</span></span> <span style=\"padding: 2px; border-radius: 4px; border: 1px solid #bbdefb; background: #e3f2fd\">discovered<span style=\"vertical-align: middle; margin-left: 2px; font-size: 0.7em; color: #64b5f6;\">O</span></span> <span style=\"padding: 2px; border-radius: 4px; border: 1px solid #bbdefb; background: #e3f2fd\">many<span style=\"vertical-align: middle; margin-left: 2px; font-size: 0.7em; color: #64b5f6;\">O</span></span> <span style=\"padding: 2px; border-radius: 4px; border: 1px solid #bbdefb; background: #e3f2fd\">fossils<span style=\"vertical-align: middle; margin-left: 2px; font-size: 0.7em; color: #64b5f6;\">O</span></span> <span style=\"padding: 2px; border-radius: 4px; border: 1px solid #bbdefb; background: #e3f2fd\">during<span style=\"vertical-align: middle; margin-left: 2px; font-size: 0.7em; color: #64b5f6;\">O</span></span> <span style=\"padding: 2px; border-radius: 4px; border: 1px solid #bbdefb; background: #e3f2fd\">its<span style=\"vertical-align: middle; margin-left: 2px; font-size: 0.7em; color: #64b5f6;\">O</span></span> <span style=\"padding: 2px; border-radius: 4px; border: 1px solid #bbdefb; background: #e3f2fd\">month<span style=\"vertical-align: middle; margin-left: 2px; font-size: 0.7em; color: #64b5f6;\">O</span></span> <span style=\"padding: 2px; border-radius: 4px; border: 1px solid #bbdefb; background: #e3f2fd\">-<span style=\"vertical-align: middle; margin-left: 2px; font-size: 0.7em; color: #64b5f6;\">O</span></span> <span style=\"padding: 2px; border-radius: 4px; border: 1px solid #bbdefb; background: #e3f2fd\">long<span style=\"vertical-align: middle; margin-left: 2px; font-size: 0.7em; color: #64b5f6;\">O</span></span> <span style=\"padding: 2px; border-radius: 4px; border: 1px solid #bbdefb; background: #e3f2fd\">field<span style=\"vertical-align: middle; margin-left: 2px; font-size: 0.7em; color: #64b5f6;\">O</span></span> <span style=\"padding: 2px; border-radius: 4px; border: 1px solid #bbdefb; background: #e3f2fd\">work<span style=\"vertical-align: middle; margin-left: 2px; font-size: 0.7em; color: #64b5f6;\">O</span></span> <span style=\"padding: 2px; border-radius: 4px; border: 1px solid #bbdefb; background: #e3f2fd\">in<span style=\"vertical-align: middle; margin-left: 2px; font-size: 0.7em; color: #64b5f6;\">O</span></span> <span style=\"padding: 2px; border-radius: 4px; border: 1px solid #ffcdd2; background: #ffebee\">Estancia<span style=\"vertical-align: middle; margin-left: 2px; font-size: 0.7em; color: #e57373;\">I-ORG</span></span> <span style=\"padding: 2px; border-radius: 4px; border: 1px solid #ffcdd2; background: #ffebee\">La<span style=\"vertical-align: middle; margin-left: 2px; font-size: 0.7em; color: #e57373;\">I-ORG</span></span> <span style=\"padding: 2px; border-radius: 4px; border: 1px solid #ffcdd2; background: #ffebee\">Anita<span style=\"vertical-align: middle; margin-left: 2px; font-size: 0.7em; color: #e57373;\">I-ORG</span></span> <span style=\"padding: 2px; border-radius: 4px; border: 1px solid #bbdefb; background: #e3f2fd\">,<span style=\"vertical-align: middle; margin-left: 2px; font-size: 0.7em; color: #64b5f6;\">O</span></span> <span style=\"padding: 2px; border-radius: 4px; border: 1px solid #bbdefb; background: #e3f2fd\">in<span style=\"vertical-align: middle; margin-left: 2px; font-size: 0.7em; color: #64b5f6;\">O</span></span> <span style=\"padding: 2px; border-radius: 4px; border: 1px solid #bbdefb; background: #e3f2fd\">southern<span style=\"vertical-align: middle; margin-left: 2px; font-size: 0.7em; color: #64b5f6;\">O</span></span> <span style=\"padding: 2px; border-radius: 4px; border: 1px solid #d1c4e9; background: #ede7f6\">Santa<span style=\"vertical-align: middle; margin-left: 2px; font-size: 0.7em; color: #9575cd;\">I-LOC</span></span> <span style=\"padding: 2px; border-radius: 4px; border: 1px solid #d1c4e9; background: #ede7f6\">Cruz<span style=\"vertical-align: middle; margin-left: 2px; font-size: 0.7em; color: #9575cd;\">I-LOC</span></span> <span style=\"padding: 2px; border-radius: 4px; border: 1px solid #bbdefb; background: #e3f2fd\">province<span style=\"vertical-align: middle; margin-left: 2px; font-size: 0.7em; color: #64b5f6;\">O</span></span> <span style=\"padding: 2px; border-radius: 4px; border: 1px solid #bbdefb; background: #e3f2fd\">.<span style=\"vertical-align: middle; margin-left: 2px; font-size: 0.7em; color: #64b5f6;\">O</span></span></div>"
>>>>>>> origin/master
            ],
            "text/plain": [
              "<IPython.core.display.HTML object>"
            ]
          },
          "metadata": {
            "tags": []
          }
        },
        {
          "output_type": "display_data",
          "data": {
            "text/html": [
<<<<<<< HEAD
              "<div class=\"tex2jax_ignore\" style=\"white-space: pre-wrap\"><span style=\"padding: 2px; border-radius: 4px; border: 1px solid #c8e6c9; background: #e8f5e9\">The<span style=\"vertical-align: middle; margin-left: 2px; font-size: 0.7em; color: #66bb6a;\">O</span></span> <span style=\"padding: 2px; border-radius: 4px; border: 1px solid #c8e6c9; background: #e8f5e9\">rehearsal<span style=\"vertical-align: middle; margin-left: 2px; font-size: 0.7em; color: #66bb6a;\">O</span></span> <span style=\"padding: 2px; border-radius: 4px; border: 1px solid #c8e6c9; background: #e8f5e9\">at<span style=\"vertical-align: middle; margin-left: 2px; font-size: 0.7em; color: #66bb6a;\">O</span></span> <span style=\"padding: 2px; border-radius: 4px; border: 1px solid #d1c4e9; background: #ede7f6\">Kennedy<span style=\"vertical-align: middle; margin-left: 2px; font-size: 0.7em; color: #9575cd;\">I-ORG</span></span> <span style=\"padding: 2px; border-radius: 4px; border: 1px solid #d1c4e9; background: #ede7f6\">Space<span style=\"vertical-align: middle; margin-left: 2px; font-size: 0.7em; color: #9575cd;\">I-ORG</span></span> <span style=\"padding: 2px; border-radius: 4px; border: 1px solid #d1c4e9; background: #ede7f6\">Center<span style=\"vertical-align: middle; margin-left: 2px; font-size: 0.7em; color: #9575cd;\">I-ORG</span></span> <span style=\"padding: 2px; border-radius: 4px; border: 1px solid #c8e6c9; background: #e8f5e9\">saw<span style=\"vertical-align: middle; margin-left: 2px; font-size: 0.7em; color: #66bb6a;\">O</span></span> <span style=\"padding: 2px; border-radius: 4px; border: 1px solid #c8e6c9; background: #e8f5e9\">a<span style=\"vertical-align: middle; margin-left: 2px; font-size: 0.7em; color: #66bb6a;\">O</span></span> <span style=\"padding: 2px; border-radius: 4px; border: 1px solid #bbdefb; background: #e3f2fd\">Falcon-9<span style=\"vertical-align: middle; margin-left: 2px; font-size: 0.7em; color: #64b5f6;\">I-PER</span></span> <span style=\"padding: 2px; border-radius: 4px; border: 1px solid #c8e6c9; background: #e8f5e9\">vehicle<span style=\"vertical-align: middle; margin-left: 2px; font-size: 0.7em; color: #66bb6a;\">O</span></span> <span style=\"padding: 2px; border-radius: 4px; border: 1px solid #c8e6c9; background: #e8f5e9\">&#x27;s<span style=\"vertical-align: middle; margin-left: 2px; font-size: 0.7em; color: #66bb6a;\">O</span></span> <span style=\"padding: 2px; border-radius: 4px; border: 1px solid #c8e6c9; background: #e8f5e9\">ascent<span style=\"vertical-align: middle; margin-left: 2px; font-size: 0.7em; color: #66bb6a;\">O</span></span> <span style=\"padding: 2px; border-radius: 4px; border: 1px solid #c8e6c9; background: #e8f5e9\">into<span style=\"vertical-align: middle; margin-left: 2px; font-size: 0.7em; color: #66bb6a;\">O</span></span> <span style=\"padding: 2px; border-radius: 4px; border: 1px solid #c8e6c9; background: #e8f5e9\">the<span style=\"vertical-align: middle; margin-left: 2px; font-size: 0.7em; color: #66bb6a;\">O</span></span> <span style=\"padding: 2px; border-radius: 4px; border: 1px solid #c8e6c9; background: #e8f5e9\">sky<span style=\"vertical-align: middle; margin-left: 2px; font-size: 0.7em; color: #66bb6a;\">O</span></span> <span style=\"padding: 2px; border-radius: 4px; border: 1px solid #c8e6c9; background: #e8f5e9\">deliberately<span style=\"vertical-align: middle; margin-left: 2px; font-size: 0.7em; color: #66bb6a;\">O</span></span> <span style=\"padding: 2px; border-radius: 4px; border: 1px solid #c8e6c9; background: #e8f5e9\">terminated<span style=\"vertical-align: middle; margin-left: 2px; font-size: 0.7em; color: #66bb6a;\">O</span></span> <span style=\"padding: 2px; border-radius: 4px; border: 1px solid #c8e6c9; background: #e8f5e9\">just<span style=\"vertical-align: middle; margin-left: 2px; font-size: 0.7em; color: #66bb6a;\">O</span></span> <span style=\"padding: 2px; border-radius: 4px; border: 1px solid #c8e6c9; background: #e8f5e9\">80<span style=\"vertical-align: middle; margin-left: 2px; font-size: 0.7em; color: #66bb6a;\">O</span></span> <span style=\"padding: 2px; border-radius: 4px; border: 1px solid #c8e6c9; background: #e8f5e9\">seconds<span style=\"vertical-align: middle; margin-left: 2px; font-size: 0.7em; color: #66bb6a;\">O</span></span> <span style=\"padding: 2px; border-radius: 4px; border: 1px solid #c8e6c9; background: #e8f5e9\">after<span style=\"vertical-align: middle; margin-left: 2px; font-size: 0.7em; color: #66bb6a;\">O</span></span> <span style=\"padding: 2px; border-radius: 4px; border: 1px solid #c8e6c9; background: #e8f5e9\">lift<span style=\"vertical-align: middle; margin-left: 2px; font-size: 0.7em; color: #66bb6a;\">O</span></span> <span style=\"padding: 2px; border-radius: 4px; border: 1px solid #c8e6c9; background: #e8f5e9\">-<span style=\"vertical-align: middle; margin-left: 2px; font-size: 0.7em; color: #66bb6a;\">O</span></span> <span style=\"padding: 2px; border-radius: 4px; border: 1px solid #c8e6c9; background: #e8f5e9\">off<span style=\"vertical-align: middle; margin-left: 2px; font-size: 0.7em; color: #66bb6a;\">O</span></span> <span style=\"padding: 2px; border-radius: 4px; border: 1px solid #c8e6c9; background: #e8f5e9\">.<span style=\"vertical-align: middle; margin-left: 2px; font-size: 0.7em; color: #66bb6a;\">O</span></span></div>"
=======
              "<div class=\"tex2jax_ignore\" style=\"white-space: pre-wrap\"><span style=\"padding: 2px; border-radius: 4px; border: 1px solid #bbdefb; background: #e3f2fd\">The<span style=\"vertical-align: middle; margin-left: 2px; font-size: 0.7em; color: #64b5f6;\">O</span></span> <span style=\"padding: 2px; border-radius: 4px; border: 1px solid #bbdefb; background: #e3f2fd\">rehearsal<span style=\"vertical-align: middle; margin-left: 2px; font-size: 0.7em; color: #64b5f6;\">O</span></span> <span style=\"padding: 2px; border-radius: 4px; border: 1px solid #bbdefb; background: #e3f2fd\">at<span style=\"vertical-align: middle; margin-left: 2px; font-size: 0.7em; color: #64b5f6;\">O</span></span> <span style=\"padding: 2px; border-radius: 4px; border: 1px solid #ffcdd2; background: #ffebee\">Kennedy<span style=\"vertical-align: middle; margin-left: 2px; font-size: 0.7em; color: #e57373;\">I-ORG</span></span> <span style=\"padding: 2px; border-radius: 4px; border: 1px solid #ffcdd2; background: #ffebee\">Space<span style=\"vertical-align: middle; margin-left: 2px; font-size: 0.7em; color: #e57373;\">I-ORG</span></span> <span style=\"padding: 2px; border-radius: 4px; border: 1px solid #ffcdd2; background: #ffebee\">Center<span style=\"vertical-align: middle; margin-left: 2px; font-size: 0.7em; color: #e57373;\">I-ORG</span></span> <span style=\"padding: 2px; border-radius: 4px; border: 1px solid #bbdefb; background: #e3f2fd\">saw<span style=\"vertical-align: middle; margin-left: 2px; font-size: 0.7em; color: #64b5f6;\">O</span></span> <span style=\"padding: 2px; border-radius: 4px; border: 1px solid #bbdefb; background: #e3f2fd\">a<span style=\"vertical-align: middle; margin-left: 2px; font-size: 0.7em; color: #64b5f6;\">O</span></span> <span style=\"padding: 2px; border-radius: 4px; border: 1px solid #ffe0b2; background: #fff3e0\">Falcon-9<span style=\"vertical-align: middle; margin-left: 2px; font-size: 0.7em; color: #ffb74d;\">I-MISC</span></span> <span style=\"padding: 2px; border-radius: 4px; border: 1px solid #bbdefb; background: #e3f2fd\">vehicle<span style=\"vertical-align: middle; margin-left: 2px; font-size: 0.7em; color: #64b5f6;\">O</span></span> <span style=\"padding: 2px; border-radius: 4px; border: 1px solid #bbdefb; background: #e3f2fd\">&#x27;s<span style=\"vertical-align: middle; margin-left: 2px; font-size: 0.7em; color: #64b5f6;\">O</span></span> <span style=\"padding: 2px; border-radius: 4px; border: 1px solid #bbdefb; background: #e3f2fd\">ascent<span style=\"vertical-align: middle; margin-left: 2px; font-size: 0.7em; color: #64b5f6;\">O</span></span> <span style=\"padding: 2px; border-radius: 4px; border: 1px solid #bbdefb; background: #e3f2fd\">into<span style=\"vertical-align: middle; margin-left: 2px; font-size: 0.7em; color: #64b5f6;\">O</span></span> <span style=\"padding: 2px; border-radius: 4px; border: 1px solid #bbdefb; background: #e3f2fd\">the<span style=\"vertical-align: middle; margin-left: 2px; font-size: 0.7em; color: #64b5f6;\">O</span></span> <span style=\"padding: 2px; border-radius: 4px; border: 1px solid #bbdefb; background: #e3f2fd\">sky<span style=\"vertical-align: middle; margin-left: 2px; font-size: 0.7em; color: #64b5f6;\">O</span></span> <span style=\"padding: 2px; border-radius: 4px; border: 1px solid #bbdefb; background: #e3f2fd\">deliberately<span style=\"vertical-align: middle; margin-left: 2px; font-size: 0.7em; color: #64b5f6;\">O</span></span> <span style=\"padding: 2px; border-radius: 4px; border: 1px solid #bbdefb; background: #e3f2fd\">terminated<span style=\"vertical-align: middle; margin-left: 2px; font-size: 0.7em; color: #64b5f6;\">O</span></span> <span style=\"padding: 2px; border-radius: 4px; border: 1px solid #bbdefb; background: #e3f2fd\">just<span style=\"vertical-align: middle; margin-left: 2px; font-size: 0.7em; color: #64b5f6;\">O</span></span> <span style=\"padding: 2px; border-radius: 4px; border: 1px solid #bbdefb; background: #e3f2fd\">80<span style=\"vertical-align: middle; margin-left: 2px; font-size: 0.7em; color: #64b5f6;\">O</span></span> <span style=\"padding: 2px; border-radius: 4px; border: 1px solid #bbdefb; background: #e3f2fd\">seconds<span style=\"vertical-align: middle; margin-left: 2px; font-size: 0.7em; color: #64b5f6;\">O</span></span> <span style=\"padding: 2px; border-radius: 4px; border: 1px solid #bbdefb; background: #e3f2fd\">after<span style=\"vertical-align: middle; margin-left: 2px; font-size: 0.7em; color: #64b5f6;\">O</span></span> <span style=\"padding: 2px; border-radius: 4px; border: 1px solid #bbdefb; background: #e3f2fd\">lift<span style=\"vertical-align: middle; margin-left: 2px; font-size: 0.7em; color: #64b5f6;\">O</span></span> <span style=\"padding: 2px; border-radius: 4px; border: 1px solid #bbdefb; background: #e3f2fd\">-<span style=\"vertical-align: middle; margin-left: 2px; font-size: 0.7em; color: #64b5f6;\">O</span></span> <span style=\"padding: 2px; border-radius: 4px; border: 1px solid #bbdefb; background: #e3f2fd\">off<span style=\"vertical-align: middle; margin-left: 2px; font-size: 0.7em; color: #64b5f6;\">O</span></span> <span style=\"padding: 2px; border-radius: 4px; border: 1px solid #bbdefb; background: #e3f2fd\">.<span style=\"vertical-align: middle; margin-left: 2px; font-size: 0.7em; color: #64b5f6;\">O</span></span></div>"
>>>>>>> origin/master
            ],
            "text/plain": [
              "<IPython.core.display.HTML object>"
            ]
          },
          "metadata": {
            "tags": []
          }
        }
      ]
<<<<<<< HEAD
    },
    {
      "cell_type": "code",
      "metadata": {
        "id": "cm4s5YXJIjTv",
        "colab_type": "code",
        "colab": {}
      },
      "source": [
        ""
      ],
      "execution_count": 0,
      "outputs": []
    },
    {
      "cell_type": "code",
      "metadata": {
        "id": "J4Mm_wmAZSFD",
        "colab_type": "code",
        "colab": {}
      },
      "source": [
        ""
      ],
      "execution_count": 0,
      "outputs": []
=======
>>>>>>> origin/master
    }
  ]
}