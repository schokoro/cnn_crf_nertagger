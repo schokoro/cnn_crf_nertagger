{
  "nbformat": 4,
  "nbformat_minor": 0,
  "metadata": {
    "kernelspec": {
      "name": "python3",
      "display_name": "Python 3"
    },
    "language_info": {
      "codemirror_mode": {
        "name": "ipython",
        "version": 3
      },
      "file_extension": ".py",
      "mimetype": "text/x-python",
      "name": "python",
      "nbconvert_exporter": "python",
      "pygments_lexer": "ipython3",
      "version": "3.7.1"
    },
    "latex_envs": {
      "LaTeX_envs_menu_present": true,
      "autoclose": false,
      "autocomplete": true,
      "bibliofile": "biblio.bib",
      "cite_by": "apalike",
      "current_citInitial": 1,
      "eqLabelWithNumbers": true,
      "eqNumInitial": 1,
      "hotkeys": {
        "equation": "Ctrl-E",
        "itemize": "Ctrl-I"
      },
      "labels_anchors": false,
      "latex_user_defs": false,
      "report_style_numbering": false,
      "user_envs_cfg": false
    },
    "toc": {
      "base_numbering": 1,
      "nav_menu": {},
      "number_sections": true,
      "sideBar": true,
      "skip_h1_title": false,
      "title_cell": "Table of Contents",
      "title_sidebar": "Contents",
      "toc_cell": false,
      "toc_position": {},
      "toc_section_display": true,
      "toc_window_display": true
    },
    "colab": {
      "name": "NER_tagger.ipynb",
      "provenance": [],
      "collapsed_sections": [],
      "include_colab_link": true
    },
    "accelerator": "GPU"
  },
  "cells": [
    {
      "cell_type": "markdown",
      "metadata": {
        "id": "view-in-github",
        "colab_type": "text"
      },
      "source": [
        "<a href=\"https://colab.research.google.com/github/schokoro/cnn_crf_nertagger/blob/dev/NER_tagger.ipynb\" target=\"_parent\"><img src=\"https://colab.research.google.com/assets/colab-badge.svg\" alt=\"Open In Colab\"/></a>"
      ]
    },
    {
      "cell_type": "markdown",
      "metadata": {
        "id": "p_aAUmhzgFqt",
        "colab_type": "text"
      },
      "source": [
        "# CNN и CRF для извлечения именованных сущностей\n",
        "\n"
      ]
    },
    {
      "cell_type": "code",
      "metadata": {
        "id": "kVSH61-2h4l6",
        "colab_type": "code",
        "outputId": "023c80ad-d5c3-4a77-e243-4f37340efe89",
        "colab": {
          "base_uri": "https://localhost:8080/",
          "height": 33
        }
      },
      "source": [
        "import torch\n",
        "device = torch.device(\"cuda:0\" if torch.cuda.is_available() else \"cpu\")\n",
        "if device == 'cpu':\n",
        "    print('cpu')\n",
        "else:\n",
        "    n_gpu = torch.cuda.device_count()\n",
        "    print(torch.cuda.get_device_name(0))\n",
        "    "
      ],
      "execution_count": 1,
      "outputs": [
        {
          "output_type": "stream",
          "text": [
            "Tesla T4\n"
          ],
          "name": "stdout"
        }
      ]
    },
    {
      "cell_type": "code",
      "metadata": {
        "id": "SVzEU3MPb8nK",
        "colab_type": "code",
        "colab": {}
      },
      "source": [
        "!rm -rf cnn_crf_nertagger/"
      ],
      "execution_count": 0,
      "outputs": []
    },
    {
      "cell_type": "code",
      "metadata": {
        "id": "2BZw4sQ4gFrj",
        "colab_type": "code",
        "outputId": "17ee9ec1-ae3c-4681-af3e-c7774771d077",
        "colab": {
          "base_uri": "https://localhost:8080/",
          "height": 131
        }
      },
      "source": [
        "!git clone -b dev https://github.com/schokoro/cnn_crf_nertagger.git > /dev/null\n",
        "!pip install allennlp wget> /dev/null\n"
      ],
      "execution_count": 3,
      "outputs": [
        {
          "output_type": "stream",
          "text": [
            "Cloning into 'cnn_crf_nertagger'...\n",
            "remote: Enumerating objects: 117, done.\u001b[K\n",
            "remote: Counting objects: 100% (117/117), done.\u001b[K\n",
            "remote: Compressing objects: 100% (64/64), done.\u001b[K\n",
            "remote: Total 117 (delta 50), reused 99 (delta 38), pack-reused 0\u001b[K\n",
            "Receiving objects: 100% (117/117), 33.39 KiB | 16.70 MiB/s, done.\n",
            "Resolving deltas: 100% (50/50), done.\n"
          ],
          "name": "stdout"
        }
      ]
    },
    {
      "cell_type": "code",
      "metadata": {
        "id": "yS5uM1WVOCz8",
        "colab_type": "code",
        "colab": {}
      },
      "source": [
        "import sys\n",
        "sys.path.append('/content/cnn_crf_nertagger')"
      ],
      "execution_count": 0,
      "outputs": []
    },
    {
      "cell_type": "code",
      "metadata": {
        "ExecuteTime": {
          "end_time": "2019-10-29T19:49:34.549739Z",
          "start_time": "2019-10-29T19:49:32.179692Z"
        },
        "id": "ol61j2fHgFsh",
        "colab_type": "code",
        "colab": {}
      },
      "source": [
        "%load_ext autoreload\n",
        "%autoreload 2\n",
        "\n",
        "import spacy\n",
        "import warnings\n",
        "warnings.filterwarnings('ignore')\n",
        "from sklearn.metrics import classification_report\n",
        "import numpy as np\n",
        "from torch.nn import functional as F\n",
        "from torch.utils.data import TensorDataset\n",
        "from allennlp.data.dataset_readers.conll2003 import Conll2003DatasetReader\n",
        "from allennlp.common.util import ensure_list\n",
        "from torch import nn\n",
        "from torch.nn import functional as F\n",
        "from torch.utils.data import TensorDataset\n",
        "from pdb import set_trace\n",
        "from gc import collect\n",
        "import wget\n",
        "import cnn_crf_nertagger\n",
        "from cnn_crf_nertagger.modules.modules import NERTaggerModel, NERTagger\n",
        "from cnn_crf_nertagger.utils.pipeline import train_eval_loop, predict_with_model\n",
        "from cnn_crf_nertagger.utils.prepare import tag_corpus_to_tensor, tokenize_corpus\n",
        "from os import path, listdir\n",
        "\n",
        "\n",
        "\n",
        "# torch.backends.cudnn.deterministic=False "
      ],
      "execution_count": 0,
      "outputs": []
    },
    {
      "cell_type": "markdown",
      "metadata": {
        "id": "inP4QwcDgFs3",
        "colab_type": "text"
      },
      "source": [
        "## Загрузка корпусов"
      ]
    },
    {
      "cell_type": "code",
      "metadata": {
        "id": "7HUaGBS4nD1g",
        "colab_type": "code",
        "colab": {}
      },
      "source": [
        "!rm /content/cnn_crf_nertagger/data/*\n"
      ],
      "execution_count": 0,
      "outputs": []
    },
    {
      "cell_type": "code",
      "metadata": {
        "ExecuteTime": {
          "end_time": "2019-10-29T19:49:56.525561Z",
          "start_time": "2019-10-29T19:49:37.315213Z"
        },
        "id": "uo0ZTJ1FgFti",
        "colab_type": "code",
        "colab": {}
      },
      "source": [
        "path_data = '/content/cnn_crf_nertagger/data/'\n",
        "path_train = '/content/cnn_crf_nertagger/data/eng.train'\n",
        "path_valid = '/content/cnn_crf_nertagger/data/eng.testa'\n",
        "path_test = '/content/cnn_crf_nertagger/data/eng.testb'\n",
        "\n",
        "dataset_urls = {\n",
        "    'eng.testa': 'https://raw.githubusercontent.com/synalp/NER/master/corpus/CoNLL-2003/eng.testa',\n",
        "    'eng.testb': 'https://raw.githubusercontent.com/synalp/NER/master/corpus/CoNLL-2003/eng.testb',\n",
        "    'eng.train': 'https://raw.githubusercontent.com/synalp/NER/master/corpus/CoNLL-2003/eng.train'}\n",
        "for file_name in dataset_urls:\n",
        "    wget.download(dataset_urls[file_name], path.join(path_data, file_name))"
      ],
      "execution_count": 0,
      "outputs": []
    },
    {
      "cell_type": "code",
      "metadata": {
        "id": "r6AABrk05iiC",
        "colab_type": "code",
        "outputId": "a530ebe7-6cb2-40b5-faa7-3d6925afad56",
        "colab": {
          "base_uri": "https://localhost:8080/",
          "height": 98
        }
      },
      "source": [
        "%%time\n",
        "conll_reader = Conll2003DatasetReader()\n",
        "train_conll = ensure_list(conll_reader.read(path_train))\n",
        "valid_conll = ensure_list(conll_reader.read(path_valid))\n",
        "test_conll = ensure_list(conll_reader.read(path_test))"
      ],
      "execution_count": 8,
      "outputs": [
        {
          "output_type": "stream",
          "text": [
            "14041it [00:01, 13300.16it/s]\n",
            "3250it [00:00, 10023.37it/s]\n",
            "3453it [00:00, 25732.70it/s]"
          ],
          "name": "stderr"
        },
        {
          "output_type": "stream",
          "text": [
            "CPU times: user 1.46 s, sys: 67.8 ms, total: 1.52 s\n",
            "Wall time: 1.52 s\n"
          ],
          "name": "stdout"
        },
        {
          "output_type": "stream",
          "text": [
            "\n"
          ],
          "name": "stderr"
        }
      ]
    },
    {
      "cell_type": "code",
      "metadata": {
        "id": "WCYr630b8O5w",
        "colab_type": "code",
        "outputId": "0ade5210-5123-406c-cabf-3d8a0e03ecbe",
        "colab": {
          "base_uri": "https://localhost:8080/",
          "height": 33
        }
      },
      "source": [
        "all_conll = train_conll + valid_conll + test_conll\n",
        "len(all_conll), len(train_conll), len(valid_conll), len(test_conll)"
      ],
      "execution_count": 9,
      "outputs": [
        {
          "output_type": "execute_result",
          "data": {
            "text/plain": [
              "(20744, 14041, 3250, 3453)"
            ]
          },
          "metadata": {
            "tags": []
          },
          "execution_count": 9
        }
      ]
    },
    {
      "cell_type": "code",
      "metadata": {
        "id": "joAECv5_8htA",
        "colab_type": "code",
        "outputId": "3a46d4e1-23fa-4a60-dc55-bf2ded86c163",
        "colab": {
          "base_uri": "https://localhost:8080/",
          "height": 33
        }
      },
      "source": [
        "tags = set()\n",
        "tokens = set()\n",
        "\n",
        "max_sent_len = 0\n",
        "for instance in all_conll[: ]:\n",
        "    if len(instance['tokens']) >  max_sent_len:\n",
        "        max_sent_len = len(instance['tokens'])\n",
        "    tags.update(instance['tags'])\n",
        "    tokens.update(instance['tokens'])\n",
        "    \n",
        "print(f'Максимальная длина предложения: {max_sent_len} токенов')"
      ],
      "execution_count": 10,
      "outputs": [
        {
          "output_type": "stream",
          "text": [
            "Максимальная длина предложения: 124 токенов\n"
          ],
          "name": "stdout"
        }
      ]
    },
    {
      "cell_type": "code",
      "metadata": {
        "id": "SaDuu3t_8hqd",
        "colab_type": "code",
        "outputId": "278d43b6-7751-4d58-f3db-e64b69651bc1",
        "colab": {
          "base_uri": "https://localhost:8080/",
          "height": 33
        }
      },
      "source": [
        "max_token_len = max([len(token.text) for token in tokens])\n",
        "print(f'Максимальная длина токена: {max_token_len} символов')"
      ],
      "execution_count": 11,
      "outputs": [
        {
          "output_type": "stream",
          "text": [
            "Максимальная длина токена: 61 символов\n"
          ],
          "name": "stdout"
        }
      ]
    },
    {
      "cell_type": "markdown",
      "metadata": {
        "id": "8mflbVYRgQBn",
        "colab_type": "text"
      },
      "source": [
        "Находим множество всех символов"
      ]
    },
    {
      "cell_type": "code",
      "metadata": {
        "id": "nw8rY17i8hnK",
        "colab_type": "code",
        "outputId": "be595bf0-6854-4c5c-dc80-6d1bde6e0629",
        "colab": {
          "base_uri": "https://localhost:8080/",
          "height": 33
        }
      },
      "source": [
        "chars = set()\n",
        "for token in tokens:\n",
        "    chars.update(token.text)\n",
        "    \n",
        "len(chars)"
      ],
      "execution_count": 12,
      "outputs": [
        {
          "output_type": "execute_result",
          "data": {
            "text/plain": [
              "85"
            ]
          },
          "metadata": {
            "tags": []
          },
          "execution_count": 12
        }
      ]
    },
    {
      "cell_type": "markdown",
      "metadata": {
        "id": "LeAP6B5WfzoR",
        "colab_type": "text"
      },
      "source": [
        "Составляем словари соответсвия тег-id, символ-id\n",
        "\n"
      ]
    },
    {
      "cell_type": "code",
      "metadata": {
        "ExecuteTime": {
          "end_time": "2019-10-29T19:49:58.524125Z",
          "start_time": "2019-10-29T19:49:58.125577Z"
        },
        "id": "WzDDott3gFul",
        "colab_type": "code",
        "colab": {}
      },
      "source": [
        "tag2id = {tag: num for num, tag in enumerate(['<NOTAG>'] + list(tags))}\n",
        "char2id = {char: num+1 for num, char in enumerate(chars)}\n",
        "id2char = {item[1]: item[0] for item in char2id.items()}"
      ],
      "execution_count": 0,
      "outputs": []
    },
    {
      "cell_type": "code",
      "metadata": {
        "id": "GO0uquKu87yj",
        "colab_type": "code",
        "outputId": "0d377dff-7aae-46b7-bd8b-3e357e61352a",
        "colab": {
          "base_uri": "https://localhost:8080/",
          "height": 98
        }
      },
      "source": [
        "%%time\n",
        "\n",
        "train_inputs, train_targets = tag_corpus_to_tensor(train_conll, char2id, tag2id, max_sent_len, max_token_len, 50)\n",
        "valid_inputs, valid_targets = tag_corpus_to_tensor(valid_conll, char2id, tag2id, max_sent_len, max_token_len)\n",
        "test_inputs, test_targets = tag_corpus_to_tensor(test_conll, char2id, tag2id, max_sent_len, max_token_len)"
      ],
      "execution_count": 14,
      "outputs": [
        {
          "output_type": "stream",
          "text": [
            "100%|██████████| 14041/14041 [00:07<00:00, 1759.75it/s]\n",
            "100%|██████████| 3250/3250 [00:02<00:00, 1367.17it/s]\n",
            "100%|██████████| 3453/3453 [00:01<00:00, 2125.12it/s]"
          ],
          "name": "stderr"
        },
        {
          "output_type": "stream",
          "text": [
            "CPU times: user 12.2 s, sys: 853 ms, total: 13.1 s\n",
            "Wall time: 13.1 s\n"
          ],
          "name": "stdout"
        },
        {
          "output_type": "stream",
          "text": [
            "\n"
          ],
          "name": "stderr"
        }
      ]
    },
    {
      "cell_type": "code",
      "metadata": {
        "ExecuteTime": {
          "end_time": "2019-10-29T19:49:58.752672Z",
          "start_time": "2019-10-29T19:49:58.526431Z"
        },
        "id": "K_03GuyhgFur",
        "colab_type": "code",
        "colab": {}
      },
      "source": [
        "train_dataset = TensorDataset(train_inputs, train_targets)\n",
        "valid_dataset = TensorDataset(valid_inputs, valid_targets)\n",
        "test_dataset = TensorDataset(test_inputs, test_targets)"
      ],
      "execution_count": 0,
      "outputs": []
    },
    {
      "cell_type": "code",
      "metadata": {
        "id": "U5k4Z4b6craL",
        "colab_type": "code",
        "colab": {}
      },
      "source": [
        "models_path = '/content/cnn_crf_nertagger/models/best_model.pth'"
      ],
      "execution_count": 0,
      "outputs": []
    },
    {
      "cell_type": "code",
      "metadata": {
        "id": "DfRjCwqZu4BW",
        "colab_type": "code",
        "colab": {}
      },
      "source": [
        "try:\n",
        "    del model    \n",
        "    collect()\n",
        "except:\n",
        "    print('no model')\n",
        "finally:\n",
        "    torch.cuda.empty_cache()\n"
      ],
      "execution_count": 0,
      "outputs": []
    },
    {
      "cell_type": "code",
      "metadata": {
        "ExecuteTime": {
          "end_time": "2019-10-29T19:47:48.326925Z",
          "start_time": "2019-10-29T19:46:50.310Z"
        },
        "id": "jj9cwrRBgFwR",
        "colab_type": "code",
        "outputId": "0bb4cc72-bc78-4405-d216-88cd70460b6b",
        "colab": {
          "base_uri": "https://localhost:8080/",
          "height": 33
        }
      },
      "source": [
        "torch.cuda.empty_cache()\n",
        "model = NERTaggerModel(len(char2id), len(tag2id), tag2id, embedding_size=64,\n",
        "                                              single_backbone_kwargs=dict(layers_n=3, kernel_size=3, dropout=0.3, dilation=None),\n",
        "                                              context_backbone_kwargs=dict(layers_n=5, kernel_size=3, dropout=0.3, dilation=[1,1,2,2,1]))\n",
        "print('Количество параметров', sum(np.product(t.shape) for t in model.parameters()))"
      ],
      "execution_count": 25,
      "outputs": [
        {
          "output_type": "stream",
          "text": [
            "Количество параметров 105061\n"
          ],
          "name": "stdout"
        }
      ]
    },
    {
      "cell_type": "code",
      "metadata": {
        "id": "luP8K58IIlw8",
        "colab_type": "code",
        "colab": {}
      },
      "source": [
        "# try:\n",
        "#     model.load_state_dict(torch.load(models_path))\n",
        "# except:\n",
        "#     print('no model')"
      ],
      "execution_count": 0,
      "outputs": []
    },
    {
      "cell_type": "code",
      "metadata": {
        "ExecuteTime": {
          "end_time": "2019-10-29T19:47:48.327888Z",
          "start_time": "2019-10-29T19:46:50.737Z"
        },
        "scrolled": false,
        "id": "4aa02MY9gFwZ",
        "colab_type": "code",
        "outputId": "3ccc4943-4a98-451e-ff10-a2d5b2c0b0d5",
        "colab": {
          "base_uri": "https://localhost:8080/",
          "height": 1000
        }
      },
      "source": [
        "(best_val_loss,\n",
        " best_model) = train_eval_loop(model,\n",
        "                               train_dataset,\n",
        "                               valid_dataset,\n",
        "                               lr=1.25e-3,\n",
        "                               epoch_n=200,\n",
        "                               batch_size=128,\n",
        "                               device=device,\n",
        "                               early_stopping_patience=8,\n",
        "                               l2_reg_alpha = 1e-6,\n",
        "                               max_batches_per_epoch_train=100,\n",
        "                               max_batches_per_epoch_val=100,\n",
        "                               lr_scheduler_ctor=lambda optim: torch.optim.lr_scheduler.ReduceLROnPlateau(\n",
        "                                                                                     optim, patience=3,\n",
        "                                                                                     factor=0.2,\n",
        "                                                                                     threshold=1e-3,\n",
        "                                                                                     verbose=True),\n",
        "                               verbose_batch=False)\n",
        " \n",
        "torch.save(best_model.state_dict(), models_path)"
      ],
      "execution_count": 27,
      "outputs": [
        {
          "output_type": "stream",
          "text": [
            "Эпоха 0\n",
            "Эпоха: 101 итераций, 28.92 сек\n",
            "Среднее значение функции потерь на обучении 10.75617245400306\n",
            "Среднее значение функции потерь на валидации 5.743589428754953\n",
            "Новая лучшая модель!\n",
            "\n",
            "Эпоха 1\n",
            "Эпоха: 101 итераций, 29.06 сек\n",
            "Среднее значение функции потерь на обучении 5.055423805029085\n",
            "Среднее значение функции потерь на валидации 3.9450427156228285\n",
            "Новая лучшая модель!\n",
            "\n",
            "Эпоха 2\n",
            "Эпоха: 101 итераций, 28.48 сек\n",
            "Среднее значение функции потерь на обучении 3.7963552923485784\n",
            "Среднее значение функции потерь на валидации 3.2114748450425954\n",
            "Новая лучшая модель!\n",
            "\n",
            "Эпоха 3\n",
            "Эпоха: 101 итераций, 28.92 сек\n",
            "Среднее значение функции потерь на обучении 3.1256460340896455\n",
            "Среднее значение функции потерь на валидации 2.787000495653886\n",
            "Новая лучшая модель!\n",
            "\n",
            "Эпоха 4\n",
            "Эпоха: 101 итераций, 28.77 сек\n",
            "Среднее значение функции потерь на обучении 2.6602400435079443\n",
            "Среднее значение функции потерь на валидации 2.4811268872939625\n",
            "Новая лучшая модель!\n",
            "\n",
            "Эпоха 5\n",
            "Эпоха: 101 итераций, 28.32 сек\n",
            "Среднее значение функции потерь на обучении 2.3471565789515427\n",
            "Среднее значение функции потерь на валидации 2.2312110295662513\n",
            "Новая лучшая модель!\n",
            "\n",
            "Эпоха 6\n",
            "Эпоха: 101 итераций, 28.81 сек\n",
            "Среднее значение функции потерь на обучении 2.142457881776413\n",
            "Среднее значение функции потерь на валидации 2.076851215500098\n",
            "Новая лучшая модель!\n",
            "\n",
            "Эпоха 7\n",
            "Эпоха: 101 итераций, 28.66 сек\n",
            "Среднее значение функции потерь на обучении 1.976877221966734\n",
            "Среднее значение функции потерь на валидации 1.9645217187129533\n",
            "Новая лучшая модель!\n",
            "\n",
            "Эпоха 8\n",
            "Эпоха: 101 итераций, 28.82 сек\n",
            "Среднее значение функции потерь на обучении 1.7955183463521522\n",
            "Среднее значение функции потерь на валидации 1.8243428056056683\n",
            "Новая лучшая модель!\n",
            "\n",
            "Эпоха 9\n",
            "Эпоха: 101 итераций, 28.73 сек\n",
            "Среднее значение функции потерь на обучении 1.7166763107375342\n",
            "Среднее значение функции потерь на валидации 1.841120013823876\n",
            "\n",
            "Эпоха 10\n",
            "Эпоха: 101 итераций, 28.65 сек\n",
            "Среднее значение функции потерь на обучении 1.6269615097801284\n",
            "Среднее значение функции потерь на валидации 1.6919616575424488\n",
            "Новая лучшая модель!\n",
            "\n",
            "Эпоха 11\n",
            "Эпоха: 101 итераций, 29.12 сек\n",
            "Среднее значение функции потерь на обучении 1.5384391327895741\n",
            "Среднее значение функции потерь на валидации 1.5888595076707692\n",
            "Новая лучшая модель!\n",
            "\n",
            "Эпоха 12\n",
            "Эпоха: 101 итераций, 28.71 сек\n",
            "Среднее значение функции потерь на обучении 1.4804296464023023\n",
            "Среднее значение функции потерь на валидации 1.5279010075789232\n",
            "Новая лучшая модель!\n",
            "\n",
            "Эпоха 13\n",
            "Эпоха: 101 итераций, 28.52 сек\n",
            "Среднее значение функции потерь на обучении 1.389712657078658\n",
            "Среднее значение функции потерь на валидации 1.5179252509887402\n",
            "Новая лучшая модель!\n",
            "\n",
            "Эпоха 14\n",
            "Эпоха: 101 итераций, 28.68 сек\n",
            "Среднее значение функции потерь на обучении 1.3347603708210558\n",
            "Среднее значение функции потерь на валидации 1.5319823920726776\n",
            "\n",
            "Эпоха 15\n",
            "Эпоха: 101 итераций, 28.50 сек\n",
            "Среднее значение функции потерь на обучении 1.288129506724896\n",
            "Среднее значение функции потерь на валидации 1.4475331421081836\n",
            "Новая лучшая модель!\n",
            "\n",
            "Эпоха 16\n",
            "Эпоха: 101 итераций, 28.42 сек\n",
            "Среднее значение функции потерь на обучении 1.2203383622783246\n",
            "Среднее значение функции потерь на валидации 1.4059777706861496\n",
            "Новая лучшая модель!\n",
            "\n",
            "Эпоха 17\n",
            "Эпоха: 101 итераций, 28.40 сек\n",
            "Среднее значение функции потерь на обучении 1.1945213846641012\n",
            "Среднее значение функции потерь на валидации 1.35225398093462\n",
            "Новая лучшая модель!\n",
            "\n",
            "Эпоха 18\n",
            "Эпоха: 101 итераций, 28.78 сек\n",
            "Среднее значение функции потерь на обучении 1.1527223421795534\n",
            "Среднее значение функции потерь на валидации 1.3197769969701767\n",
            "Новая лучшая модель!\n",
            "\n",
            "Эпоха 19\n",
            "Эпоха: 101 итераций, 28.63 сек\n",
            "Среднее значение функции потерь на обучении 1.129215127170676\n",
            "Среднее значение функции потерь на валидации 1.3386430671581855\n",
            "\n",
            "Эпоха 20\n",
            "Эпоха: 101 итераций, 28.82 сек\n",
            "Среднее значение функции потерь на обучении 1.1019628248592415\n",
            "Среднее значение функции потерь на валидации 1.3054238145168011\n",
            "Новая лучшая модель!\n",
            "\n",
            "Эпоха 21\n",
            "Эпоха: 101 итераций, 28.32 сек\n",
            "Среднее значение функции потерь на обучении 1.0775233424536073\n",
            "Среднее значение функции потерь на валидации 1.3217750661648238\n",
            "\n",
            "Эпоха 22\n",
            "Эпоха: 101 итераций, 28.92 сек\n",
            "Среднее значение функции потерь на обучении 1.0304444562090505\n",
            "Среднее значение функции потерь на валидации 1.2694439452428083\n",
            "Новая лучшая модель!\n",
            "\n",
            "Эпоха 23\n",
            "Эпоха: 101 итераций, 28.36 сек\n",
            "Среднее значение функции потерь на обучении 1.015310827458259\n",
            "Среднее значение функции потерь на валидации 1.2457557572768285\n",
            "Новая лучшая модель!\n",
            "\n",
            "Эпоха 24\n",
            "Эпоха: 101 итераций, 28.51 сек\n",
            "Среднее значение функции потерь на обучении 1.01411636690102\n",
            "Среднее значение функции потерь на валидации 1.2637668194679113\n",
            "\n",
            "Эпоха 25\n",
            "Эпоха: 101 итераций, 28.40 сек\n",
            "Среднее значение функции потерь на обучении 0.9761271069545557\n",
            "Среднее значение функции потерь на валидации 1.2314766123890877\n",
            "Новая лучшая модель!\n",
            "\n",
            "Эпоха 26\n",
            "Эпоха: 101 итераций, 28.64 сек\n",
            "Среднее значение функции потерь на обучении 0.9491336201087083\n",
            "Среднее значение функции потерь на валидации 1.1989183076299155\n",
            "Новая лучшая модель!\n",
            "\n",
            "Эпоха 27\n",
            "Эпоха: 101 итераций, 28.66 сек\n",
            "Среднее значение функции потерь на обучении 0.9360193185286947\n",
            "Среднее значение функции потерь на валидации 1.2154232452695186\n",
            "\n",
            "Эпоха 28\n",
            "Эпоха: 101 итераций, 28.52 сек\n",
            "Среднее значение функции потерь на обучении 0.9341092304428025\n",
            "Среднее значение функции потерь на валидации 1.199312118956676\n",
            "\n",
            "Эпоха 29\n",
            "Эпоха: 101 итераций, 28.78 сек\n",
            "Среднее значение функции потерь на обучении 0.9059537383589414\n",
            "Среднее значение функции потерь на валидации 1.1831285139689078\n",
            "Новая лучшая модель!\n",
            "\n",
            "Эпоха 30\n",
            "Эпоха: 101 итераций, 28.50 сек\n",
            "Среднее значение функции потерь на обучении 0.8936943181670538\n",
            "Среднее значение функции потерь на валидации 1.1501445157023578\n",
            "Новая лучшая модель!\n",
            "\n",
            "Эпоха 31\n",
            "Эпоха: 101 итераций, 28.50 сек\n",
            "Среднее значение функции потерь на обучении 0.8852371479024982\n",
            "Среднее значение функции потерь на валидации 1.1508874360185404\n",
            "\n",
            "Эпоха 32\n",
            "Эпоха: 101 итераций, 28.41 сек\n",
            "Среднее значение функции потерь на обучении 0.866969393031432\n",
            "Среднее значение функции потерь на валидации 1.1453548434835215\n",
            "Новая лучшая модель!\n",
            "\n",
            "Эпоха 33\n",
            "Эпоха: 101 итераций, 28.49 сек\n",
            "Среднее значение функции потерь на обучении 0.849938160122031\n",
            "Среднее значение функции потерь на валидации 1.1309482076993356\n",
            "Новая лучшая модель!\n",
            "\n",
            "Эпоха 34\n",
            "Эпоха: 101 итераций, 28.57 сек\n",
            "Среднее значение функции потерь на обучении 0.817821483210762\n",
            "Среднее значение функции потерь на валидации 1.106754727088488\n",
            "Новая лучшая модель!\n",
            "\n",
            "Эпоха 35\n",
            "Эпоха: 101 итераций, 28.61 сек\n",
            "Среднее значение функции потерь на обучении 0.8249210225473537\n",
            "Среднее значение функции потерь на валидации 1.1085740860838156\n",
            "\n",
            "Эпоха 36\n",
            "Эпоха: 101 итераций, 28.56 сек\n",
            "Среднее значение функции потерь на обучении 0.801941452640118\n",
            "Среднее значение функции потерь на валидации 1.1151442201091692\n",
            "\n",
            "Эпоха 37\n",
            "Эпоха: 101 итераций, 28.77 сек\n",
            "Среднее значение функции потерь на обучении 0.779491374398222\n",
            "Среднее значение функции потерь на валидации 1.0848155233722467\n",
            "Новая лучшая модель!\n",
            "\n",
            "Эпоха 38\n",
            "Эпоха: 101 итераций, 28.31 сек\n",
            "Среднее значение функции потерь на обучении 0.7874365528621295\n",
            "Среднее значение функции потерь на валидации 1.1152150246959467\n",
            "\n",
            "Эпоха 39\n",
            "Эпоха: 101 итераций, 28.48 сек\n",
            "Среднее значение функции потерь на обучении 0.7746513547873733\n",
            "Среднее значение функции потерь на валидации 1.0780079571100383\n",
            "Новая лучшая модель!\n",
            "\n",
            "Эпоха 40\n",
            "Эпоха: 101 итераций, 28.87 сек\n",
            "Среднее значение функции потерь на обучении 0.7490415540662142\n",
            "Среднее значение функции потерь на валидации 1.0892734080553055\n",
            "\n",
            "Эпоха 41\n",
            "Эпоха: 101 итераций, 28.22 сек\n",
            "Среднее значение функции потерь на обучении 0.7307914994140663\n",
            "Среднее значение функции потерь на валидации 1.0452462910459592\n",
            "Новая лучшая модель!\n",
            "\n",
            "Эпоха 42\n",
            "Эпоха: 101 итераций, 28.28 сек\n",
            "Среднее значение функции потерь на обучении 0.7310539773195097\n",
            "Среднее значение функции потерь на валидации 1.068683928022018\n",
            "\n",
            "Эпоха 43\n",
            "Эпоха: 101 итераций, 28.30 сек\n",
            "Среднее значение функции потерь на обучении 0.7419443649820762\n",
            "Среднее значение функции потерь на валидации 1.0449676049443393\n",
            "Новая лучшая модель!\n",
            "\n",
            "Эпоха 44\n",
            "Эпоха: 101 итераций, 28.38 сек\n",
            "Среднее значение функции потерь на обучении 0.6931490883378699\n",
            "Среднее значение функции потерь на валидации 1.070753462612629\n",
            "\n",
            "Эпоха 45\n",
            "Эпоха: 101 итераций, 28.20 сек\n",
            "Среднее значение функции потерь на обучении 0.6886620766455585\n",
            "Среднее значение функции потерь на валидации 1.0392761482642248\n",
            "Новая лучшая модель!\n",
            "\n",
            "Эпоха 46\n",
            "Эпоха: 101 итераций, 28.41 сек\n",
            "Среднее значение функции потерь на обучении 0.705629288560093\n",
            "Среднее значение функции потерь на валидации 1.0463083544029639\n",
            "\n",
            "Эпоха 47\n",
            "Эпоха: 101 итераций, 28.54 сек\n",
            "Среднее значение функции потерь на обучении 0.7050716844525667\n",
            "Среднее значение функции потерь на валидации 1.0058973887218878\n",
            "Новая лучшая модель!\n",
            "\n",
            "Эпоха 48\n",
            "Эпоха: 101 итераций, 28.67 сек\n",
            "Среднее значение функции потерь на обучении 0.6685396300093962\n",
            "Среднее значение функции потерь на валидации 1.009118779634054\n",
            "\n",
            "Эпоха 49\n",
            "Эпоха: 101 итераций, 28.60 сек\n",
            "Среднее значение функции потерь на обучении 0.6753173001331858\n",
            "Среднее значение функции потерь на валидации 1.014391639484809\n",
            "\n",
            "Эпоха 50\n",
            "Эпоха: 101 итераций, 28.40 сек\n",
            "Среднее значение функции потерь на обучении 0.6636035483662445\n",
            "Среднее значение функции потерь на валидации 1.0125391686765046\n",
            "\n",
            "Эпоха 51\n",
            "Эпоха: 101 итераций, 28.35 сек\n",
            "Среднее значение функции потерь на обучении 0.653879696189767\n",
            "Среднее значение функции потерь на валидации 1.0099735979277353\n",
            "Epoch    52: reducing learning rate of group 0 to 2.5000e-04.\n",
            "\n",
            "Эпоха 52\n",
            "Эпоха: 101 итераций, 28.27 сек\n",
            "Среднее значение функции потерь на обучении 0.5791315008508097\n",
            "Среднее значение функции потерь на валидации 0.9779647568670603\n",
            "Новая лучшая модель!\n",
            "\n",
            "Эпоха 53\n",
            "Эпоха: 101 итераций, 28.81 сек\n",
            "Среднее значение функции потерь на обучении 0.5584462417824434\n",
            "Среднее значение функции потерь на валидации 0.9803709986691291\n",
            "\n",
            "Эпоха 54\n",
            "Эпоха: 101 итераций, 28.27 сек\n",
            "Среднее значение функции потерь на обучении 0.5558842683192526\n",
            "Среднее значение функции потерь на валидации 0.9694395423508607\n",
            "Новая лучшая модель!\n",
            "\n",
            "Эпоха 55\n",
            "Эпоха: 101 итераций, 28.43 сек\n",
            "Среднее значение функции потерь на обучении 0.5296036778110089\n",
            "Среднее значение функции потерь на валидации 0.9647573533539588\n",
            "Новая лучшая модель!\n",
            "\n",
            "Эпоха 56\n",
            "Эпоха: 101 итераций, 28.85 сек\n",
            "Среднее значение функции потерь на обучении 0.546122547718558\n",
            "Среднее значение функции потерь на валидации 0.9717070884429492\n",
            "\n",
            "Эпоха 57\n",
            "Эпоха: 101 итераций, 28.52 сек\n",
            "Среднее значение функции потерь на обучении 0.5273710315180297\n",
            "Среднее значение функции потерь на валидации 0.9681407072796271\n",
            "\n",
            "Эпоха 58\n",
            "Эпоха: 101 итераций, 28.23 сек\n",
            "Среднее значение функции потерь на обучении 0.5233276931956263\n",
            "Среднее значение функции потерь на валидации 0.9692460736976221\n",
            "\n",
            "Эпоха 59\n",
            "Эпоха: 101 итераций, 28.56 сек\n",
            "Среднее значение функции потерь на обучении 0.5125027110080907\n",
            "Среднее значение функции потерь на валидации 0.9680354279967455\n",
            "Epoch    60: reducing learning rate of group 0 to 5.0000e-05.\n",
            "\n",
            "Эпоха 60\n",
            "Эпоха: 101 итераций, 28.40 сек\n",
            "Среднее значение функции потерь на обучении 0.5049744242488747\n",
            "Среднее значение функции потерь на валидации 0.9594137625625501\n",
            "Новая лучшая модель!\n",
            "\n",
            "Эпоха 61\n",
            "Эпоха: 101 итераций, 28.34 сек\n",
            "Среднее значение функции потерь на обучении 0.499370267485628\n",
            "Среднее значение функции потерь на валидации 0.9582875909713598\n",
            "Новая лучшая модель!\n",
            "\n",
            "Эпоха 62\n",
            "Эпоха: 101 итераций, 28.47 сек\n",
            "Среднее значение функции потерь на обучении 0.48793692990104753\n",
            "Среднее значение функции потерь на валидации 0.9561398470631013\n",
            "Новая лучшая модель!\n",
            "\n",
            "Эпоха 63\n",
            "Эпоха: 101 итераций, 28.35 сек\n",
            "Среднее значение функции потерь на обучении 0.5147968678191157\n",
            "Среднее значение функции потерь на валидации 0.9545905569998118\n",
            "Новая лучшая модель!\n",
            "\n",
            "Эпоха 64\n",
            "Эпоха: 101 итераций, 28.65 сек\n",
            "Среднее значение функции потерь на обучении 0.4969941516323845\n",
            "Среднее значение функции потерь на валидации 0.9561072934705478\n",
            "\n",
            "Эпоха 65\n",
            "Эпоха: 101 итераций, 28.70 сек\n",
            "Среднее значение функции потерь на обучении 0.4998918624207525\n",
            "Среднее значение функции потерь на валидации 0.9540752278497586\n",
            "Новая лучшая модель!\n",
            "\n",
            "Эпоха 66\n",
            "Эпоха: 101 итераций, 28.56 сек\n",
            "Среднее значение функции потерь на обучении 0.4929807672996332\n",
            "Среднее значение функции потерь на валидации 0.954631118533703\n",
            "\n",
            "Эпоха 67\n",
            "Эпоха: 101 итераций, 28.18 сек\n",
            "Среднее значение функции потерь на обучении 0.4974781071195508\n",
            "Среднее значение функции потерь на валидации 0.9548438701492089\n",
            "Epoch    68: reducing learning rate of group 0 to 1.0000e-05.\n",
            "\n",
            "Эпоха 68\n",
            "Эпоха: 101 итераций, 28.62 сек\n",
            "Среднее значение функции потерь на обучении 0.4850962259391747\n",
            "Среднее значение функции потерь на валидации 0.9540819456944098\n",
            "\n",
            "Эпоха 69\n",
            "Эпоха: 101 итераций, 28.36 сек\n",
            "Среднее значение функции потерь на обучении 0.49554441205345756\n",
            "Среднее значение функции потерь на валидации 0.9536097287558593\n",
            "Новая лучшая модель!\n",
            "\n",
            "Эпоха 70\n",
            "Эпоха: 101 итераций, 28.32 сек\n",
            "Среднее значение функции потерь на обучении 0.49139416070267705\n",
            "Среднее значение функции потерь на валидации 0.9534757650242403\n",
            "Новая лучшая модель!\n",
            "\n",
            "Эпоха 71\n",
            "Эпоха: 101 итераций, 28.49 сек\n",
            "Среднее значение функции потерь на обучении 0.48700155863667477\n",
            "Среднее значение функции потерь на валидации 0.9546665248389428\n",
            "\n",
            "Эпоха 72\n",
            "Эпоха: 101 итераций, 28.36 сек\n",
            "Среднее значение функции потерь на обучении 0.4889233723135278\n",
            "Среднее значение функции потерь на валидации 0.9526725746691227\n",
            "Новая лучшая модель!\n",
            "\n",
            "Эпоха 73\n",
            "Эпоха: 101 итераций, 28.38 сек\n",
            "Среднее значение функции потерь на обучении 0.5014850820350175\n",
            "Среднее значение функции потерь на валидации 0.9526244989381387\n",
            "Новая лучшая модель!\n",
            "\n",
            "Эпоха 74\n",
            "Эпоха: 101 итераций, 28.40 сек\n",
            "Среднее значение функции потерь на обучении 0.4802518841063622\n",
            "Среднее значение функции потерь на валидации 0.9534976582687634\n",
            "\n",
            "Эпоха 75\n",
            "Эпоха: 101 итераций, 28.33 сек\n",
            "Среднее значение функции потерь на обучении 0.48551590194796573\n",
            "Среднее значение функции потерь на валидации 0.9514405601299726\n",
            "Новая лучшая модель!\n",
            "\n",
            "Эпоха 76\n",
            "Эпоха: 101 итераций, 28.71 сек\n",
            "Среднее значение функции потерь на обучении 0.4806633638863516\n",
            "Среднее значение функции потерь на валидации 0.9518238314642355\n",
            "\n",
            "Эпоха 77\n",
            "Эпоха: 101 итераций, 28.51 сек\n",
            "Среднее значение функции потерь на обучении 0.48912570677181283\n",
            "Среднее значение функции потерь на валидации 0.9513644985854626\n",
            "Новая лучшая модель!\n",
            "\n",
            "Эпоха 78\n",
            "Эпоха: 101 итераций, 28.55 сек\n",
            "Среднее значение функции потерь на обучении 0.4889744419862728\n",
            "Среднее значение функции потерь на валидации 0.9522795442205209\n",
            "\n",
            "Эпоха 79\n",
            "Эпоха: 101 итераций, 28.42 сек\n",
            "Среднее значение функции потерь на обучении 0.4844054656453652\n",
            "Среднее значение функции потерь на валидации 0.9516903325342215\n",
            "Epoch    80: reducing learning rate of group 0 to 2.0000e-06.\n",
            "\n",
            "Эпоха 80\n",
            "Эпоха: 101 итераций, 28.54 сек\n",
            "Среднее значение функции потерь на обучении 0.4777773267561846\n",
            "Среднее значение функции потерь на валидации 0.9515074093181354\n",
            "\n",
            "Эпоха 81\n",
            "Эпоха: 101 итераций, 28.34 сек\n",
            "Среднее значение функции потерь на обучении 0.48648646370609205\n",
            "Среднее значение функции потерь на валидации 0.9515438231711204\n",
            "\n",
            "Эпоха 82\n",
            "Эпоха: 101 итераций, 28.63 сек\n",
            "Среднее значение функции потерь на обучении 0.48477207670117367\n",
            "Среднее значение функции потерь на валидации 0.9517906098984755\n",
            "\n",
            "Эпоха 83\n",
            "Эпоха: 101 итераций, 28.23 сек\n",
            "Среднее значение функции потерь на обучении 0.479554749803968\n",
            "Среднее значение функции потерь на валидации 0.9520237279626039\n",
            "Epoch    84: reducing learning rate of group 0 to 4.0000e-07.\n",
            "\n",
            "Эпоха 84\n",
            "Эпоха: 101 итераций, 28.63 сек\n",
            "Среднее значение функции потерь на обучении 0.4933700717911862\n",
            "Среднее значение функции потерь на валидации 0.952040162224036\n",
            "\n",
            "Эпоха 85\n",
            "Эпоха: 101 итераций, 28.24 сек\n",
            "Среднее значение функции потерь на обучении 0.4919978563148196\n",
            "Среднее значение функции потерь на валидации 0.9519945755600929\n",
            "\n",
            "Эпоха 86\n",
            "Эпоха: 101 итераций, 28.61 сек\n",
            "Среднее значение функции потерь на обучении 0.47751453769679114\n",
            "Среднее значение функции потерь на валидации 0.9519896255089686\n",
            "Модель не улучшилась за последние 8 эпох, прекращаем обучение\n"
          ],
          "name": "stdout"
        }
      ]
    },
    {
      "cell_type": "code",
      "metadata": {
        "ExecuteTime": {
          "end_time": "2019-08-29T13:56:16.564926Z",
          "start_time": "2019-08-29T13:56:16.544481Z"
        },
        "id": "j6_Z8S3SgFwn",
        "colab_type": "code",
        "colab": {
          "base_uri": "https://localhost:8080/",
          "height": 33
        },
        "outputId": "e9d48a3d-d854-4812-a5d3-215c9691444b"
      },
      "source": [
        "model.load_state_dict(torch.load(models_path))"
      ],
      "execution_count": 28,
      "outputs": [
        {
          "output_type": "execute_result",
          "data": {
            "text/plain": [
              "<All keys matched successfully>"
            ]
          },
          "metadata": {
            "tags": []
          },
          "execution_count": 28
        }
      ]
    },
    {
      "cell_type": "markdown",
      "metadata": {
        "id": "9yBwoQnWypb5",
        "colab_type": "text"
      },
      "source": [
        "## Проверки"
      ]
    },
    {
      "cell_type": "code",
      "metadata": {
        "id": "rDx8tvIeyoe0",
        "colab_type": "code",
        "colab": {}
      },
      "source": [
        "id2tag = {item[1]: item[0] for item in tag2id.items()}\n",
        "UNIQUE_TAGS = [id2tag[i] for i in range(len(tag2id))]\n"
      ],
      "execution_count": 0,
      "outputs": []
    },
    {
      "cell_type": "markdown",
      "metadata": {
        "id": "vaq1J92ryPNx",
        "colab_type": "text"
      },
      "source": [
        "### Проверка - train"
      ]
    },
    {
      "cell_type": "code",
      "metadata": {
        "id": "3aNr47CYdSFa",
        "colab_type": "code",
        "colab": {
          "base_uri": "https://localhost:8080/",
          "height": 293
        },
        "outputId": "6cbe3f5c-9217-4a2a-e1e5-4e141376ba25"
      },
      "source": [
        "train_pred = predict_with_model(model, train_dataset)\n",
        "print(classification_report(train_targets.view(-1), train_pred.reshape(-1), target_names=UNIQUE_TAGS))"
      ],
      "execution_count": 30,
      "outputs": [
        {
          "output_type": "stream",
          "text": [
            "521it [00:20, 25.44it/s]                               \n"
          ],
          "name": "stderr"
        },
        {
          "output_type": "stream",
          "text": [
            "              precision    recall  f1-score   support\n",
            "\n",
            "     <NOTAG>       1.00      1.00      1.00   1810563\n",
            "      I-MISC       0.90      0.96      0.93      8356\n",
            "       B-LOC       1.00      0.09      0.17       561\n",
            "       I-PER       0.97      0.99      0.98     12278\n",
            "       I-LOC       0.93      0.98      0.95     10486\n",
            "       I-ORG       0.91      0.95      0.93     11801\n",
            "      B-MISC       0.98      0.78      0.87      1887\n",
            "           O       1.00      1.00      1.00    206328\n",
            "       B-ORG       1.00      0.50      0.67      1224\n",
            "\n",
            "    accuracy                           1.00   2063484\n",
            "   macro avg       0.97      0.81      0.83   2063484\n",
            "weighted avg       1.00      1.00      1.00   2063484\n",
            "\n"
          ],
          "name": "stdout"
        }
      ]
    },
    {
      "cell_type": "markdown",
      "metadata": {
        "id": "5p2jdVB-yUHQ",
        "colab_type": "text"
      },
      "source": [
        "### Проверка - valid"
      ]
    },
    {
      "cell_type": "code",
      "metadata": {
        "id": "qAh6GumkdR4G",
        "colab_type": "code",
        "colab": {
          "base_uri": "https://localhost:8080/",
          "height": 33
        },
        "outputId": "54e57a50-8b08-4efe-8890-fe9e1d93a481"
      },
      "source": [
        "valid_pred = predict_with_model(model, valid_dataset)\n",
        "\n",
        "\n",
        "# print(classification_report(valid_targets.view(-1), valid_pred.reshape(-1), target_names=UNIQUE_TAGS))"
      ],
      "execution_count": 31,
      "outputs": [
        {
          "output_type": "stream",
          "text": [
            "100%|██████████| 102/101.5625 [00:04<00:00, 24.77it/s]\n"
          ],
          "name": "stderr"
        }
      ]
    },
    {
      "cell_type": "markdown",
      "metadata": {
        "id": "CtXo2-Ioybnx",
        "colab_type": "text"
      },
      "source": [
        "### Проверка - test"
      ]
    },
    {
      "cell_type": "code",
      "metadata": {
        "id": "pIC16ECm_58u",
        "colab_type": "code",
        "colab": {
          "base_uri": "https://localhost:8080/",
          "height": 293
        },
        "outputId": "bbcba81e-88f9-4da6-a995-9d2b58d4c300"
      },
      "source": [
        "test_pred = predict_with_model(model, test_dataset)\n",
        "\n",
        "print(classification_report(test_targets.view(-1), test_pred.reshape(-1), target_names=UNIQUE_TAGS))"
      ],
      "execution_count": 32,
      "outputs": [
        {
          "output_type": "stream",
          "text": [
            "100%|██████████| 108/107.90625 [00:04<00:00, 26.94it/s]\n"
          ],
          "name": "stderr"
        },
        {
          "output_type": "stream",
          "text": [
            "              precision    recall  f1-score   support\n",
            "\n",
            "     <NOTAG>       1.00      1.00      1.00    381737\n",
            "      I-MISC       0.72      0.77      0.75       909\n",
            "       B-LOC       0.00      0.00      0.00         6\n",
            "       I-PER       0.87      0.88      0.88      2773\n",
            "       I-LOC       0.79      0.87      0.83      1919\n",
            "       I-ORG       0.77      0.80      0.78      2491\n",
            "      B-MISC       0.00      0.00      0.00         9\n",
            "           O       0.99      0.98      0.99     38323\n",
            "       B-ORG       0.00      0.00      0.00         5\n",
            "\n",
            "    accuracy                           1.00    428172\n",
            "   macro avg       0.57      0.59      0.58    428172\n",
            "weighted avg       1.00      1.00      1.00    428172\n",
            "\n"
          ],
          "name": "stdout"
        }
      ]
    },
    {
      "cell_type": "markdown",
      "metadata": {
        "id": "8tZ3TbhngFxV",
        "colab_type": "text"
      },
      "source": [
        "## Применение теггера"
      ]
    },
    {
      "cell_type": "code",
      "metadata": {
        "id": "dBORSeRvdITg",
        "colab_type": "code",
        "colab": {}
      },
      "source": [
        "!python -m spacy download en_core_web_sm > /dev/null"
      ],
      "execution_count": 0,
      "outputs": []
    },
    {
      "cell_type": "code",
      "metadata": {
        "ExecuteTime": {
          "end_time": "2019-08-29T13:56:42.105418Z",
          "start_time": "2019-08-29T13:56:42.093744Z"
        },
        "id": "gM1646Q7gFxX",
        "colab_type": "code",
        "colab": {}
      },
      "source": [
        "\n",
        "ner_tagger = NERTagger(model, char2id, UNIQUE_TAGS, max_sent_len, max_token_len)"
      ],
      "execution_count": 0,
      "outputs": []
    },
    {
      "cell_type": "code",
      "metadata": {
        "id": "XnZHW0OKbcLO",
        "colab_type": "code",
        "colab": {}
      },
      "source": [
        "nlp = spacy.load('en_core_web_sm')\n"
      ],
      "execution_count": 0,
      "outputs": []
    },
    {
      "cell_type": "code",
      "metadata": {
        "ExecuteTime": {
          "end_time": "2019-08-29T13:56:42.125540Z",
          "start_time": "2019-08-29T13:56:42.106771Z"
        },
        "id": "JHOY3BpZgFxd",
        "colab_type": "code",
        "colab": {}
      },
      "source": [
        "test_sentences = [\n",
        "    'Mr Trump said Mr Linick no longer had his full confidence and that he would be removed in 30 days.',\n",
        "    'Mr Linick had begun investigating Secretary of State Mike Pompeo for suspected abuse of office, reports say.',\n",
        "    'Democrats say Mr Trump is retaliating against public servants who want to hold his administration to account.',\n",
        "    'Donald Trump, who is campaigning for re-election in November, has stepped up his attacks on China in recent weeks, blaming it for the spread of Covid-19.'\n",
        "]\n",
        "test_sentences_tokenized = tokenize_corpus(test_sentences)\n",
        "# test_sentences_tokenized = [[token.text for token in nlp.tokenizer(sent) ] for sent in test_sentences]"
      ],
      "execution_count": 0,
      "outputs": []
    },
    {
      "cell_type": "code",
      "metadata": {
        "ExecuteTime": {
          "end_time": "2019-08-29T13:56:42.168810Z",
          "start_time": "2019-08-29T13:56:42.149698Z"
        },
        "id": "vbozpJwYgFxs",
        "colab_type": "code",
        "colab": {
          "base_uri": "https://localhost:8080/",
          "height": 183
        },
        "outputId": "35ca7b04-0435-42d8-d412-384325349cf3"
      },
      "source": [
        "for sent_tokens, sent_tags in zip(test_sentences_tokenized, ner_tagger(test_sentences)):\n",
        "    print()\n",
        "    assert len(sent_tokens) == len(sent_tags)\n",
        "    print(' '.join('{}-{}'.format(tok, tag) for tok, tag in zip(sent_tokens, sent_tags)))"
      ],
      "execution_count": 37,
      "outputs": [
        {
          "output_type": "stream",
          "text": [
            "1it [00:00, 93.97it/s]                   "
          ],
          "name": "stderr"
        },
        {
          "output_type": "stream",
          "text": [
            "\n",
            "Mr-O Trump-O said-O Mr-O Linick-I-PER no-O longer-O had-O his-O full-O confidence-O and-O that-O he-O would-O be-O removed-O in-O 30-O days-O .-O\n",
            "\n",
            "Mr-I-PER Linick-I-PER had-O begun-O investigating-O Secretary-O of-O State-I-ORG Mike-I-ORG Pompeo-I-ORG for-O suspected-O abuse-O of-O office-O ,-O reports-O say-O .-O\n",
            "\n",
            "Democrats-I-MISC say-O Mr-O Trump-O is-O retaliating-O against-O public-O servants-O who-O want-O to-O hold-O his-O administration-O to-O account-O .-O\n",
            "\n",
            "Donald-I-PER Trump-I-PER ,-O who-O is-O campaigning-O for-O re-O --O election-O in-O November-O ,-O has-O stepped-O up-O his-O attacks-O on-O China-I-LOC in-O recent-O weeks-O ,-O blaming-O it-O for-O the-O spread-O of-O Covid-19-I-MISC .-O\n"
          ],
          "name": "stdout"
        },
        {
          "output_type": "stream",
          "text": [
            "\n"
          ],
          "name": "stderr"
        }
      ]
    },
    {
      "cell_type": "code",
      "metadata": {
        "id": "TxHF5NAVFuvi",
        "colab_type": "code",
        "colab": {}
      },
      "source": [
        ""
      ],
      "execution_count": 0,
      "outputs": []
    }
  ]
}