{
  "nbformat": 4,
  "nbformat_minor": 0,
  "metadata": {
    "kernelspec": {
      "name": "python3",
      "display_name": "Python 3"
    },
    "language_info": {
      "codemirror_mode": {
        "name": "ipython",
        "version": 3
      },
      "file_extension": ".py",
      "mimetype": "text/x-python",
      "name": "python",
      "nbconvert_exporter": "python",
      "pygments_lexer": "ipython3",
      "version": "3.7.1"
    },
    "latex_envs": {
      "LaTeX_envs_menu_present": true,
      "autoclose": false,
      "autocomplete": true,
      "bibliofile": "biblio.bib",
      "cite_by": "apalike",
      "current_citInitial": 1,
      "eqLabelWithNumbers": true,
      "eqNumInitial": 1,
      "hotkeys": {
        "equation": "Ctrl-E",
        "itemize": "Ctrl-I"
      },
      "labels_anchors": false,
      "latex_user_defs": false,
      "report_style_numbering": false,
      "user_envs_cfg": false
    },
    "toc": {
      "base_numbering": 1,
      "nav_menu": {},
      "number_sections": true,
      "sideBar": true,
      "skip_h1_title": false,
      "title_cell": "Table of Contents",
      "title_sidebar": "Contents",
      "toc_cell": false,
      "toc_position": {},
      "toc_section_display": true,
      "toc_window_display": true
    },
    "colab": {
      "name": "NER_tagger.ipynb",
      "provenance": [],
      "collapsed_sections": [],
      "include_colab_link": true
    },
    "accelerator": "GPU",
    "widgets": {
      "application/vnd.jupyter.widget-state+json": {
        "528ebf071e044ea8aa3db1cccd5e9e3c": {
          "model_module": "@jupyter-widgets/controls",
          "model_name": "HBoxModel",
          "state": {
            "_view_name": "HBoxView",
            "_dom_classes": [],
            "_model_name": "HBoxModel",
            "_view_module": "@jupyter-widgets/controls",
            "_model_module_version": "1.5.0",
            "_view_count": null,
            "_view_module_version": "1.5.0",
            "box_style": "",
            "layout": "IPY_MODEL_385ee7a0188a4e409f7e1f86bcc65da5",
            "_model_module": "@jupyter-widgets/controls",
            "children": [
              "IPY_MODEL_9ea1b2b594704b3bb5cade308a5ac82e",
              "IPY_MODEL_4b7ad7dcef6940e3bf337a0e449e1a22"
            ]
          }
        },
        "385ee7a0188a4e409f7e1f86bcc65da5": {
          "model_module": "@jupyter-widgets/base",
          "model_name": "LayoutModel",
          "state": {
            "_view_name": "LayoutView",
            "grid_template_rows": null,
            "right": null,
            "justify_content": null,
            "_view_module": "@jupyter-widgets/base",
            "overflow": null,
            "_model_module_version": "1.2.0",
            "_view_count": null,
            "flex_flow": null,
            "width": null,
            "min_width": null,
            "border": null,
            "align_items": null,
            "bottom": null,
            "_model_module": "@jupyter-widgets/base",
            "top": null,
            "grid_column": null,
            "overflow_y": null,
            "overflow_x": null,
            "grid_auto_flow": null,
            "grid_area": null,
            "grid_template_columns": null,
            "flex": null,
            "_model_name": "LayoutModel",
            "justify_items": null,
            "grid_row": null,
            "max_height": null,
            "align_content": null,
            "visibility": null,
            "align_self": null,
            "height": null,
            "min_height": null,
            "padding": null,
            "grid_auto_rows": null,
            "grid_gap": null,
            "max_width": null,
            "order": null,
            "_view_module_version": "1.2.0",
            "grid_template_areas": null,
            "object_position": null,
            "object_fit": null,
            "grid_auto_columns": null,
            "margin": null,
            "display": null,
            "left": null
          }
        },
        "9ea1b2b594704b3bb5cade308a5ac82e": {
          "model_module": "@jupyter-widgets/controls",
          "model_name": "FloatProgressModel",
          "state": {
            "_view_name": "ProgressView",
            "style": "IPY_MODEL_8fcc67a9540942ee86defdc264b7f77d",
            "_dom_classes": [],
            "description": "100%",
            "_model_name": "FloatProgressModel",
            "bar_style": "success",
            "max": 101,
            "_view_module": "@jupyter-widgets/controls",
            "_model_module_version": "1.5.0",
            "value": 101,
            "_view_count": null,
            "_view_module_version": "1.5.0",
            "orientation": "horizontal",
            "min": 0,
            "description_tooltip": null,
            "_model_module": "@jupyter-widgets/controls",
            "layout": "IPY_MODEL_6a105406ba3e4aacba3b9426d645a7a2"
          }
        },
        "4b7ad7dcef6940e3bf337a0e449e1a22": {
          "model_module": "@jupyter-widgets/controls",
          "model_name": "HTMLModel",
          "state": {
            "_view_name": "HTMLView",
            "style": "IPY_MODEL_f91293e1f06045b8bcb5efd654041fe8",
            "_dom_classes": [],
            "description": "",
            "_model_name": "HTMLModel",
            "placeholder": "​",
            "_view_module": "@jupyter-widgets/controls",
            "_model_module_version": "1.5.0",
            "value": " 101/101 [00:09&lt;00:00, 10.88it/s]",
            "_view_count": null,
            "_view_module_version": "1.5.0",
            "description_tooltip": null,
            "_model_module": "@jupyter-widgets/controls",
            "layout": "IPY_MODEL_836bbc2c1c47446786500351902b0b00"
          }
        },
        "8fcc67a9540942ee86defdc264b7f77d": {
          "model_module": "@jupyter-widgets/controls",
          "model_name": "ProgressStyleModel",
          "state": {
            "_view_name": "StyleView",
            "_model_name": "ProgressStyleModel",
            "description_width": "initial",
            "_view_module": "@jupyter-widgets/base",
            "_model_module_version": "1.5.0",
            "_view_count": null,
            "_view_module_version": "1.2.0",
            "bar_color": null,
            "_model_module": "@jupyter-widgets/controls"
          }
        },
        "6a105406ba3e4aacba3b9426d645a7a2": {
          "model_module": "@jupyter-widgets/base",
          "model_name": "LayoutModel",
          "state": {
            "_view_name": "LayoutView",
            "grid_template_rows": null,
            "right": null,
            "justify_content": null,
            "_view_module": "@jupyter-widgets/base",
            "overflow": null,
            "_model_module_version": "1.2.0",
            "_view_count": null,
            "flex_flow": null,
            "width": null,
            "min_width": null,
            "border": null,
            "align_items": null,
            "bottom": null,
            "_model_module": "@jupyter-widgets/base",
            "top": null,
            "grid_column": null,
            "overflow_y": null,
            "overflow_x": null,
            "grid_auto_flow": null,
            "grid_area": null,
            "grid_template_columns": null,
            "flex": null,
            "_model_name": "LayoutModel",
            "justify_items": null,
            "grid_row": null,
            "max_height": null,
            "align_content": null,
            "visibility": null,
            "align_self": null,
            "height": null,
            "min_height": null,
            "padding": null,
            "grid_auto_rows": null,
            "grid_gap": null,
            "max_width": null,
            "order": null,
            "_view_module_version": "1.2.0",
            "grid_template_areas": null,
            "object_position": null,
            "object_fit": null,
            "grid_auto_columns": null,
            "margin": null,
            "display": null,
            "left": null
          }
        },
        "f91293e1f06045b8bcb5efd654041fe8": {
          "model_module": "@jupyter-widgets/controls",
          "model_name": "DescriptionStyleModel",
          "state": {
            "_view_name": "StyleView",
            "_model_name": "DescriptionStyleModel",
            "description_width": "",
            "_view_module": "@jupyter-widgets/base",
            "_model_module_version": "1.5.0",
            "_view_count": null,
            "_view_module_version": "1.2.0",
            "_model_module": "@jupyter-widgets/controls"
          }
        },
        "836bbc2c1c47446786500351902b0b00": {
          "model_module": "@jupyter-widgets/base",
          "model_name": "LayoutModel",
          "state": {
            "_view_name": "LayoutView",
            "grid_template_rows": null,
            "right": null,
            "justify_content": null,
            "_view_module": "@jupyter-widgets/base",
            "overflow": null,
            "_model_module_version": "1.2.0",
            "_view_count": null,
            "flex_flow": null,
            "width": null,
            "min_width": null,
            "border": null,
            "align_items": null,
            "bottom": null,
            "_model_module": "@jupyter-widgets/base",
            "top": null,
            "grid_column": null,
            "overflow_y": null,
            "overflow_x": null,
            "grid_auto_flow": null,
            "grid_area": null,
            "grid_template_columns": null,
            "flex": null,
            "_model_name": "LayoutModel",
            "justify_items": null,
            "grid_row": null,
            "max_height": null,
            "align_content": null,
            "visibility": null,
            "align_self": null,
            "height": null,
            "min_height": null,
            "padding": null,
            "grid_auto_rows": null,
            "grid_gap": null,
            "max_width": null,
            "order": null,
            "_view_module_version": "1.2.0",
            "grid_template_areas": null,
            "object_position": null,
            "object_fit": null,
            "grid_auto_columns": null,
            "margin": null,
            "display": null,
            "left": null
          }
        }
      }
    }
  },
  "cells": [
    {
      "cell_type": "markdown",
      "metadata": {
        "id": "view-in-github",
        "colab_type": "text"
      },
      "source": [
        "<a href=\"https://colab.research.google.com/github/schokoro/cnn_crf_nertagger/blob/dev/NER_tagger.ipynb\" target=\"_parent\"><img src=\"https://colab.research.google.com/assets/colab-badge.svg\" alt=\"Open In Colab\"/></a>"
      ]
    },
    {
      "cell_type": "markdown",
      "metadata": {
        "id": "p_aAUmhzgFqt",
        "colab_type": "text"
      },
      "source": [
        "# CNN и CRF для извлечения именованных сущностей\n",
        "\n"
      ]
    },
    {
      "cell_type": "code",
      "metadata": {
        "id": "kVSH61-2h4l6",
        "colab_type": "code",
        "outputId": "4277e8b8-f2a5-450a-dc57-2a9bc4f4946d",
        "colab": {
          "base_uri": "https://localhost:8080/",
          "height": 33
        }
      },
      "source": [
        "import torch\n",
        "device = torch.device(\"cuda:0\" if torch.cuda.is_available() else \"cpu\")\n",
        "if device == 'cpu':\n",
        "    print('cpu')\n",
        "else:\n",
        "    n_gpu = torch.cuda.device_count()\n",
        "    print(torch.cuda.get_device_name(0))\n",
        "    "
      ],
      "execution_count": 1,
      "outputs": [
        {
          "output_type": "stream",
          "text": [
            "Tesla T4\n"
          ],
          "name": "stdout"
        }
      ]
    },
    {
      "cell_type": "code",
      "metadata": {
        "id": "yS5uM1WVOCz8",
        "colab_type": "code",
        "colab": {}
      },
      "source": [
        "import sys\n",
        "sys.path.append('/content/cnn_crf_nertagger')"
      ],
      "execution_count": 0,
      "outputs": []
    },
    {
      "cell_type": "code",
      "metadata": {
        "id": "2BZw4sQ4gFrj",
        "colab_type": "code",
        "outputId": "8d4c1c9e-2bc0-489e-d1aa-aca1b97ebf33",
        "colab": {
          "base_uri": "https://localhost:8080/",
          "height": 131
        }
      },
      "source": [
        "!rm -rf cnn_crf_nertagger/\n",
        "!git clone -b dev https://github.com/schokoro/cnn_crf_nertagger.git > /dev/null\n",
        "!pip install allennlp wget youtokentome ipymarkup seqeval livelossplot> /dev/null\n"
      ],
      "execution_count": 3,
      "outputs": [
        {
          "output_type": "stream",
          "text": [
            "Cloning into 'cnn_crf_nertagger'...\n",
            "remote: Enumerating objects: 273, done.\u001b[K\n",
            "remote: Counting objects:   0% (1/273)\u001b[K\rremote: Counting objects:   1% (3/273)\u001b[K\rremote: Counting objects:   2% (6/273)\u001b[K\rremote: Counting objects:   3% (9/273)\u001b[K\rremote: Counting objects:   4% (11/273)\u001b[K\rremote: Counting objects:   5% (14/273)\u001b[K\rremote: Counting objects:   6% (17/273)\u001b[K\rremote: Counting objects:   7% (20/273)\u001b[K\rremote: Counting objects:   8% (22/273)\u001b[K\rremote: Counting objects:   9% (25/273)\u001b[K\rremote: Counting objects:  10% (28/273)\u001b[K\rremote: Counting objects:  11% (31/273)\u001b[K\rremote: Counting objects:  12% (33/273)\u001b[K\rremote: Counting objects:  13% (36/273)\u001b[K\rremote: Counting objects:  14% (39/273)\u001b[K\rremote: Counting objects:  15% (41/273)\u001b[K\rremote: Counting objects:  16% (44/273)\u001b[K\rremote: Counting objects:  17% (47/273)\u001b[K\rremote: Counting objects:  18% (50/273)\u001b[K\rremote: Counting objects:  19% (52/273)\u001b[K\rremote: Counting objects:  20% (55/273)\u001b[K\rremote: Counting objects:  21% (58/273)\u001b[K\rremote: Counting objects:  22% (61/273)\u001b[K\rremote: Counting objects:  23% (63/273)\u001b[K\rremote: Counting objects:  24% (66/273)\u001b[K\rremote: Counting objects:  25% (69/273)\u001b[K\rremote: Counting objects:  26% (71/273)\u001b[K\rremote: Counting objects:  27% (74/273)\u001b[K\rremote: Counting objects:  28% (77/273)\u001b[K\rremote: Counting objects:  29% (80/273)\u001b[K\rremote: Counting objects:  30% (82/273)\u001b[K\rremote: Counting objects:  31% (85/273)\u001b[K\rremote: Counting objects:  32% (88/273)\u001b[K\rremote: Counting objects:  33% (91/273)\u001b[K\rremote: Counting objects:  34% (93/273)\u001b[K\rremote: Counting objects:  35% (96/273)\u001b[K\rremote: Counting objects:  36% (99/273)\u001b[K\rremote: Counting objects:  37% (102/273)\u001b[K\rremote: Counting objects:  38% (104/273)\u001b[K\rremote: Counting objects:  39% (107/273)\u001b[K\rremote: Counting objects:  40% (110/273)\u001b[K\rremote: Counting objects:  41% (112/273)\u001b[K\rremote: Counting objects:  42% (115/273)\u001b[K\rremote: Counting objects:  43% (118/273)\u001b[K\rremote: Counting objects:  44% (121/273)\u001b[K\rremote: Counting objects:  45% (123/273)\u001b[K\rremote: Counting objects:  46% (126/273)\u001b[K\rremote: Counting objects:  47% (129/273)\u001b[K\rremote: Counting objects:  48% (132/273)\u001b[K\rremote: Counting objects:  49% (134/273)\u001b[K\rremote: Counting objects:  50% (137/273)\u001b[K\rremote: Counting objects:  51% (140/273)\u001b[K\rremote: Counting objects:  52% (142/273)\u001b[K\rremote: Counting objects:  53% (145/273)\u001b[K\rremote: Counting objects:  54% (148/273)\u001b[K\rremote: Counting objects:  55% (151/273)\u001b[K\rremote: Counting objects:  56% (153/273)\u001b[K\rremote: Counting objects:  57% (156/273)\u001b[K\rremote: Counting objects:  58% (159/273)\u001b[K\rremote: Counting objects:  59% (162/273)\u001b[K\rremote: Counting objects:  60% (164/273)\u001b[K\rremote: Counting objects:  61% (167/273)\u001b[K\rremote: Counting objects:  62% (170/273)\u001b[K\rremote: Counting objects:  63% (172/273)\u001b[K\rremote: Counting objects:  64% (175/273)\u001b[K\rremote: Counting objects:  65% (178/273)\u001b[K\rremote: Counting objects:  66% (181/273)\u001b[K\rremote: Counting objects:  67% (183/273)\u001b[K\rremote: Counting objects:  68% (186/273)\u001b[K\rremote: Counting objects:  69% (189/273)\u001b[K\rremote: Counting objects:  70% (192/273)\u001b[K\rremote: Counting objects:  71% (194/273)\u001b[K\rremote: Counting objects:  72% (197/273)\u001b[K\rremote: Counting objects:  73% (200/273)\u001b[K\rremote: Counting objects:  74% (203/273)\u001b[K\rremote: Counting objects:  75% (205/273)\u001b[K\rremote: Counting objects:  76% (208/273)\u001b[K\rremote: Counting objects:  77% (211/273)\u001b[K\rremote: Counting objects:  78% (213/273)\u001b[K\rremote: Counting objects:  79% (216/273)\u001b[K\rremote: Counting objects:  80% (219/273)\u001b[K\rremote: Counting objects:  81% (222/273)\u001b[K\rremote: Counting objects:  82% (224/273)\u001b[K\rremote: Counting objects:  83% (227/273)\u001b[K\rremote: Counting objects:  84% (230/273)\u001b[K\rremote: Counting objects:  85% (233/273)\u001b[K\rremote: Counting objects:  86% (235/273)\u001b[K\rremote: Counting objects:  87% (238/273)\u001b[K\rremote: Counting objects:  88% (241/273)\u001b[K\rremote: Counting objects:  89% (243/273)\u001b[K\rremote: Counting objects:  90% (246/273)\u001b[K\rremote: Counting objects:  91% (249/273)\u001b[K\rremote: Counting objects:  92% (252/273)\u001b[K\rremote: Counting objects:  93% (254/273)\u001b[K\rremote: Counting objects:  94% (257/273)\u001b[K\rremote: Counting objects:  95% (260/273)\u001b[K\rremote: Counting objects:  96% (263/273)\u001b[K\rremote: Counting objects:  97% (265/273)\u001b[K\rremote: Counting objects:  98% (268/273)\u001b[K\rremote: Counting objects:  99% (271/273)\u001b[K\rremote: Counting objects: 100% (273/273)\u001b[K\rremote: Counting objects: 100% (273/273), done.\u001b[K\n",
            "remote: Compressing objects:   0% (1/173)\u001b[K\rremote: Compressing objects:   1% (2/173)\u001b[K\rremote: Compressing objects:   2% (4/173)\u001b[K\rremote: Compressing objects:   3% (6/173)\u001b[K\rremote: Compressing objects:   4% (7/173)\u001b[K\rremote: Compressing objects:   5% (9/173)\u001b[K\rremote: Compressing objects:   6% (11/173)\u001b[K\rremote: Compressing objects:   7% (13/173)\u001b[K\rremote: Compressing objects:   8% (14/173)\u001b[K\rremote: Compressing objects:   9% (16/173)\u001b[K\rremote: Compressing objects:  10% (18/173)\u001b[K\rremote: Compressing objects:  11% (20/173)\u001b[K\rremote: Compressing objects:  12% (21/173)\u001b[K\rremote: Compressing objects:  13% (23/173)\u001b[K\rremote: Compressing objects:  14% (25/173)\u001b[K\rremote: Compressing objects:  15% (26/173)\u001b[K\rremote: Compressing objects:  16% (28/173)\u001b[K\rremote: Compressing objects:  17% (30/173)\u001b[K\rremote: Compressing objects:  18% (32/173)\u001b[K\rremote: Compressing objects:  19% (33/173)\u001b[K\rremote: Compressing objects:  20% (35/173)\u001b[K\rremote: Compressing objects:  21% (37/173)\u001b[K\rremote: Compressing objects:  22% (39/173)\u001b[K\rremote: Compressing objects:  23% (40/173)\u001b[K\rremote: Compressing objects:  24% (42/173)\u001b[K\rremote: Compressing objects:  25% (44/173)\u001b[K\rremote: Compressing objects:  26% (45/173)\u001b[K\rremote: Compressing objects:  27% (47/173)\u001b[K\rremote: Compressing objects:  28% (49/173)\u001b[K\rremote: Compressing objects:  29% (51/173)\u001b[K\rremote: Compressing objects:  30% (52/173)\u001b[K\rremote: Compressing objects:  31% (54/173)\u001b[K\rremote: Compressing objects:  32% (56/173)\u001b[K\rremote: Compressing objects:  33% (58/173)\u001b[K\rremote: Compressing objects:  34% (59/173)\u001b[K\rremote: Compressing objects:  35% (61/173)\u001b[K\rremote: Compressing objects:  36% (63/173)\u001b[K\rremote: Compressing objects:  37% (65/173)\u001b[K\rremote: Compressing objects:  38% (66/173)\u001b[K\rremote: Compressing objects:  39% (68/173)\u001b[K\rremote: Compressing objects:  40% (70/173)\u001b[K\rremote: Compressing objects:  41% (71/173)\u001b[K\rremote: Compressing objects:  42% (73/173)\u001b[K\rremote: Compressing objects:  43% (75/173)\u001b[K\rremote: Compressing objects:  44% (77/173)\u001b[K\rremote: Compressing objects:  45% (78/173)\u001b[K\rremote: Compressing objects:  46% (80/173)\u001b[K\rremote: Compressing objects:  47% (82/173)\u001b[K\rremote: Compressing objects:  48% (84/173)\u001b[K\rremote: Compressing objects:  49% (85/173)\u001b[K\rremote: Compressing objects:  50% (87/173)\u001b[K\rremote: Compressing objects:  51% (89/173)\u001b[K\rremote: Compressing objects:  52% (90/173)\u001b[K\rremote: Compressing objects:  53% (92/173)\u001b[K\rremote: Compressing objects:  54% (94/173)\u001b[K\rremote: Compressing objects:  55% (96/173)\u001b[K\rremote: Compressing objects:  56% (97/173)\u001b[K\rremote: Compressing objects:  57% (99/173)\u001b[K\rremote: Compressing objects:  58% (101/173)\u001b[K\rremote: Compressing objects:  59% (103/173)\u001b[K\rremote: Compressing objects:  60% (104/173)\u001b[K\rremote: Compressing objects:  61% (106/173)\u001b[K\rremote: Compressing objects:  62% (108/173)\u001b[K\rremote: Compressing objects:  63% (109/173)\u001b[K\rremote: Compressing objects:  64% (111/173)\u001b[K\rremote: Compressing objects:  65% (113/173)\u001b[K\rremote: Compressing objects:  66% (115/173)\u001b[K\rremote: Compressing objects:  67% (116/173)\u001b[K\rremote: Compressing objects:  68% (118/173)\u001b[K\rremote: Compressing objects:  69% (120/173)\u001b[K\rremote: Compressing objects:  70% (122/173)\u001b[K\rremote: Compressing objects:  71% (123/173)\u001b[K\rremote: Compressing objects:  72% (125/173)\u001b[K\rremote: Compressing objects:  73% (127/173)\u001b[K\rremote: Compressing objects:  74% (129/173)\u001b[K\rremote: Compressing objects:  75% (130/173)\u001b[K\rremote: Compressing objects:  76% (132/173)\u001b[K\rremote: Compressing objects:  77% (134/173)\u001b[K\rremote: Compressing objects:  78% (135/173)\u001b[K\rremote: Compressing objects:  79% (137/173)\u001b[K\rremote: Compressing objects:  80% (139/173)\u001b[K\rremote: Compressing objects:  81% (141/173)\u001b[K\rremote: Compressing objects:  82% (142/173)\u001b[K\rremote: Compressing objects:  83% (144/173)\u001b[K\rremote: Compressing objects:  84% (146/173)\u001b[K\rremote: Compressing objects:  85% (148/173)\u001b[K\rremote: Compressing objects:  86% (149/173)\u001b[K\rremote: Compressing objects:  87% (151/173)\u001b[K\rremote: Compressing objects:  88% (153/173)\u001b[K\rremote: Compressing objects:  89% (154/173)\u001b[K\rremote: Compressing objects:  90% (156/173)\u001b[K\rremote: Compressing objects:  91% (158/173)\u001b[K\rremote: Compressing objects:  92% (160/173)\u001b[K\rremote: Compressing objects:  93% (161/173)\u001b[K\rremote: Compressing objects:  94% (163/173)\u001b[K\rremote: Compressing objects:  95% (165/173)\u001b[K\rremote: Compressing objects:  96% (167/173)\u001b[K\rremote: Compressing objects:  97% (168/173)\u001b[K\rremote: Compressing objects:  98% (170/173)\u001b[K\rremote: Compressing objects:  99% (172/173)\u001b[K\rremote: Compressing objects: 100% (173/173)\u001b[K\rremote: Compressing objects: 100% (173/173), done.\u001b[K\n",
            "Receiving objects:   0% (1/273)   \rReceiving objects:   1% (3/273)   \rReceiving objects:   2% (6/273)   \rReceiving objects:   3% (9/273)   \rReceiving objects:   4% (11/273)   \rReceiving objects:   5% (14/273)   \rReceiving objects:   6% (17/273)   \rReceiving objects:   7% (20/273)   \rReceiving objects:   8% (22/273)   \rReceiving objects:   9% (25/273)   \rReceiving objects:  10% (28/273)   \rReceiving objects:  11% (31/273)   \rReceiving objects:  12% (33/273)   \rReceiving objects:  13% (36/273)   \rReceiving objects:  14% (39/273)   \rReceiving objects:  15% (41/273)   \rReceiving objects:  16% (44/273)   \rReceiving objects:  17% (47/273)   \rReceiving objects:  18% (50/273)   \rReceiving objects:  19% (52/273)   \rReceiving objects:  20% (55/273)   \rReceiving objects:  21% (58/273)   \rReceiving objects:  22% (61/273)   \rReceiving objects:  23% (63/273)   \rReceiving objects:  24% (66/273)   \rReceiving objects:  25% (69/273)   \rReceiving objects:  26% (71/273)   \rReceiving objects:  27% (74/273)   \rReceiving objects:  28% (77/273)   \rReceiving objects:  29% (80/273)   \rReceiving objects:  30% (82/273)   \rReceiving objects:  31% (85/273)   \rReceiving objects:  32% (88/273)   \rReceiving objects:  33% (91/273)   \rReceiving objects:  34% (93/273)   \rReceiving objects:  35% (96/273)   \rReceiving objects:  36% (99/273)   \rReceiving objects:  37% (102/273)   \rReceiving objects:  38% (104/273)   \rReceiving objects:  39% (107/273)   \rReceiving objects:  40% (110/273)   \rReceiving objects:  41% (112/273)   \rReceiving objects:  42% (115/273)   \rReceiving objects:  43% (118/273)   \rReceiving objects:  44% (121/273)   \rReceiving objects:  45% (123/273)   \rReceiving objects:  46% (126/273)   \rReceiving objects:  47% (129/273)   \rReceiving objects:  48% (132/273)   \rReceiving objects:  49% (134/273)   \rReceiving objects:  50% (137/273)   \rReceiving objects:  51% (140/273)   \rReceiving objects:  52% (142/273)   \rReceiving objects:  53% (145/273)   \rReceiving objects:  54% (148/273)   \rReceiving objects:  55% (151/273)   \rReceiving objects:  56% (153/273)   \rReceiving objects:  57% (156/273)   \rReceiving objects:  58% (159/273)   \rReceiving objects:  59% (162/273)   \rReceiving objects:  60% (164/273)   \rReceiving objects:  61% (167/273)   \rReceiving objects:  62% (170/273)   \rReceiving objects:  63% (172/273)   \rReceiving objects:  64% (175/273)   \rReceiving objects:  65% (178/273)   \rremote: Total 273 (delta 135), reused 204 (delta 79), pack-reused 0\u001b[K\n",
            "Receiving objects:  66% (181/273)   \rReceiving objects:  67% (183/273)   \rReceiving objects:  68% (186/273)   \rReceiving objects:  69% (189/273)   \rReceiving objects:  70% (192/273)   \rReceiving objects:  71% (194/273)   \rReceiving objects:  72% (197/273)   \rReceiving objects:  73% (200/273)   \rReceiving objects:  74% (203/273)   \rReceiving objects:  75% (205/273)   \rReceiving objects:  76% (208/273)   \rReceiving objects:  77% (211/273)   \rReceiving objects:  78% (213/273)   \rReceiving objects:  79% (216/273)   \rReceiving objects:  80% (219/273)   \rReceiving objects:  81% (222/273)   \rReceiving objects:  82% (224/273)   \rReceiving objects:  83% (227/273)   \rReceiving objects:  84% (230/273)   \rReceiving objects:  85% (233/273)   \rReceiving objects:  86% (235/273)   \rReceiving objects:  87% (238/273)   \rReceiving objects:  88% (241/273)   \rReceiving objects:  89% (243/273)   \rReceiving objects:  90% (246/273)   \rReceiving objects:  91% (249/273)   \rReceiving objects:  92% (252/273)   \rReceiving objects:  93% (254/273)   \rReceiving objects:  94% (257/273)   \rReceiving objects:  95% (260/273)   \rReceiving objects:  96% (263/273)   \rReceiving objects:  97% (265/273)   \rReceiving objects:  98% (268/273)   \rReceiving objects:  99% (271/273)   \rReceiving objects: 100% (273/273)   \rReceiving objects: 100% (273/273), 211.36 KiB | 1.18 MiB/s, done.\n",
            "Resolving deltas:   0% (0/135)   \rResolving deltas:   2% (4/135)   \rResolving deltas:  48% (66/135)   \rResolving deltas:  60% (81/135)   \rResolving deltas:  76% (103/135)   \rResolving deltas:  89% (121/135)   \rResolving deltas:  91% (123/135)   \rResolving deltas:  92% (125/135)   \rResolving deltas: 100% (135/135)   \rResolving deltas: 100% (135/135), done.\n"
          ],
          "name": "stdout"
        }
      ]
    },
    {
      "cell_type": "code",
      "metadata": {
        "ExecuteTime": {
          "end_time": "2019-10-29T19:49:34.549739Z",
          "start_time": "2019-10-29T19:49:32.179692Z"
        },
        "id": "ol61j2fHgFsh",
        "colab_type": "code",
        "colab": {}
      },
      "source": [
        "%load_ext autoreload\n",
        "%autoreload 2\n",
        "\n",
        "import spacy\n",
        "import warnings\n",
        "warnings.filterwarnings('ignore')\n",
        "import numpy as np\n",
        "from torch.nn import functional as F\n",
        "from torch.utils.data import TensorDataset\n",
        "from allennlp.data.dataset_readers.conll2003 import Conll2003DatasetReader\n",
        "from allennlp.common.util import ensure_list\n",
        "# from allennlp.data.vocabulary import Vocabulary\n",
        "from allennlp.training.metrics import SpanBasedF1Measure\n",
        "from torch import nn\n",
        "from torch.nn import functional as F\n",
        "# from torch.utils.data import TensorDataset\n",
        "from pdb import set_trace\n",
        "from gc import collect\n",
        "from tqdm.notebook import tqdm\n",
        "import wget\n",
        "from multiprocessing import cpu_count\n",
        "import cnn_crf_nertagger\n",
        "from cnn_crf_nertagger.modules.modules import NERTaggerModel, NERTagger\n",
        "from cnn_crf_nertagger.utils.pipeline import train_eval_loop, predict_with_model\n",
        "from cnn_crf_nertagger.utils.prepare import tag_corpus_to_tensor, tokenize_corpus, make_yttm_tokenizer, highlight_text, tensor_to_tags, ConllDataset\n",
        "from os import path, listdir\n",
        "import pandas as pd\n",
        "import seaborn as sns\n",
        "from matplotlib import rcParams\n",
        "from seqeval.metrics import classification_report\n",
        "sns.set()\n",
        "%matplotlib inline\n",
        "\n",
        "rcParams['figure.figsize'] = 12, 12\n",
        "torch.backends.cudnn.deterministic=False "
      ],
      "execution_count": 0,
      "outputs": []
    },
    {
      "cell_type": "markdown",
      "metadata": {
        "id": "inP4QwcDgFs3",
        "colab_type": "text"
      },
      "source": [
        "## Подготовка данных\n",
        "\n"
      ]
    },
    {
      "cell_type": "markdown",
      "metadata": {
        "id": "aXvdhaF5nPcQ",
        "colab_type": "text"
      },
      "source": [
        "\n",
        "### Загружаем корпуса"
      ]
    },
    {
      "cell_type": "code",
      "metadata": {
        "id": "7HUaGBS4nD1g",
        "colab_type": "code",
        "outputId": "4b5f2fe0-07d2-4786-8874-d7f55164051f",
        "colab": {
          "base_uri": "https://localhost:8080/",
          "height": 33
        }
      },
      "source": [
        "!rm -fv /content/cnn_crf_nertagger/data/*\n"
      ],
      "execution_count": 5,
      "outputs": [
        {
          "output_type": "stream",
          "text": [
            "removed '/content/cnn_crf_nertagger/data/readme.txt'\n"
          ],
          "name": "stdout"
        }
      ]
    },
    {
      "cell_type": "code",
      "metadata": {
        "ExecuteTime": {
          "end_time": "2019-10-29T19:49:56.525561Z",
          "start_time": "2019-10-29T19:49:37.315213Z"
        },
        "id": "uo0ZTJ1FgFti",
        "colab_type": "code",
        "colab": {}
      },
      "source": [
        "path_data = '/content/cnn_crf_nertagger/data/'\n",
        "path_train = '/content/cnn_crf_nertagger/data/eng.train'\n",
        "path_valid = '/content/cnn_crf_nertagger/data/eng.testa'\n",
        "path_test = '/content/cnn_crf_nertagger/data/eng.testb'\n",
        "\n",
        "dataset_urls = {\n",
        "    'eng.testa': 'https://raw.githubusercontent.com/synalp/NER/master/corpus/CoNLL-2003/eng.testa',\n",
        "    'eng.testb': 'https://raw.githubusercontent.com/synalp/NER/master/corpus/CoNLL-2003/eng.testb',\n",
        "    'eng.train': 'https://raw.githubusercontent.com/synalp/NER/master/corpus/CoNLL-2003/eng.train'}\n",
        "for file_name in dataset_urls:\n",
        "    wget.download(dataset_urls[file_name], path.join(path_data, file_name))"
      ],
      "execution_count": 0,
      "outputs": []
    },
    {
      "cell_type": "code",
      "metadata": {
        "id": "r6AABrk05iiC",
        "colab_type": "code",
        "outputId": "6b120b64-59d8-4209-b9cb-c6c0a8c1a40e",
        "colab": {
          "base_uri": "https://localhost:8080/",
          "height": 98
        }
      },
      "source": [
        "%%time\n",
        "conll_reader = Conll2003DatasetReader()\n",
        "train_conll = ensure_list(conll_reader.read(path_train))\n",
        "valid_conll = ensure_list(conll_reader.read(path_valid))\n",
        "test_conll = ensure_list(conll_reader.read(path_test))"
      ],
      "execution_count": 7,
      "outputs": [
        {
          "output_type": "stream",
          "text": [
            "14041it [00:01, 12247.90it/s]\n",
            "3250it [00:00, 9073.05it/s]\n",
            "3453it [00:00, 23470.48it/s]"
          ],
          "name": "stderr"
        },
        {
          "output_type": "stream",
          "text": [
            "CPU times: user 1.58 s, sys: 70.5 ms, total: 1.65 s\n",
            "Wall time: 1.66 s\n"
          ],
          "name": "stdout"
        },
        {
          "output_type": "stream",
          "text": [
            "\n"
          ],
          "name": "stderr"
        }
      ]
    },
    {
      "cell_type": "code",
      "metadata": {
        "id": "WCYr630b8O5w",
        "colab_type": "code",
        "outputId": "9e407bd2-d385-4733-e5a8-75c5bd1a3d11",
        "colab": {
          "base_uri": "https://localhost:8080/",
          "height": 33
        }
      },
      "source": [
        "all_conll = train_conll + valid_conll + test_conll\n",
        "len(all_conll), len(train_conll), len(valid_conll), len(test_conll)"
      ],
      "execution_count": 8,
      "outputs": [
        {
          "output_type": "execute_result",
          "data": {
            "text/plain": [
              "(20744, 14041, 3250, 3453)"
            ]
          },
          "metadata": {
            "tags": []
          },
          "execution_count": 8
        }
      ]
    },
    {
      "cell_type": "markdown",
      "metadata": {
        "id": "LeAP6B5WfzoR",
        "colab_type": "text"
      },
      "source": [
        "### Готовим словари соответсвия тег-id и bpe - токенизатор\n",
        "\n"
      ]
    },
    {
      "cell_type": "code",
      "metadata": {
        "id": "joAECv5_8htA",
        "colab_type": "code",
        "outputId": "9eb72cea-650a-436a-b452-38deedeb7542",
        "colab": {
          "base_uri": "https://localhost:8080/",
          "height": 33
        }
      },
      "source": [
        "tags = set()\n",
        "tokens = set()\n",
        "\n",
        "max_sent_len = 0\n",
        "for instance in all_conll[: ]:\n",
        "    if len(instance['tokens']) >  max_sent_len:\n",
        "        max_sent_len = len(instance['tokens'])\n",
        "    tags.update(instance['tags'])\n",
        "    tokens.update(instance['tokens'])\n",
        "    \n",
        "print(f'Максимальная длина предложения: {max_sent_len} токенов')"
      ],
      "execution_count": 9,
      "outputs": [
        {
          "output_type": "stream",
          "text": [
            "Максимальная длина предложения: 124 токенов\n"
          ],
          "name": "stdout"
        }
      ]
    },
    {
      "cell_type": "code",
      "metadata": {
        "id": "l75L7ILeme3k",
        "colab_type": "code",
        "outputId": "52a029ca-3fc1-4d1e-a402-9f0a90caa1af",
        "colab": {
          "base_uri": "https://localhost:8080/",
          "height": 50
        }
      },
      "source": [
        "%time bpe_tokenizer = make_yttm_tokenizer(train_conll, 400)"
      ],
      "execution_count": 10,
      "outputs": [
        {
          "output_type": "stream",
          "text": [
            "CPU times: user 137 ms, sys: 35.8 ms, total: 173 ms\n",
            "Wall time: 130 ms\n"
          ],
          "name": "stdout"
        }
      ]
    },
    {
      "cell_type": "code",
      "metadata": {
        "id": "SaDuu3t_8hqd",
        "colab_type": "code",
        "outputId": "de4729ed-479b-4d39-8b48-81e821184236",
        "colab": {
          "base_uri": "https://localhost:8080/",
          "height": 113,
          "referenced_widgets": [
            "528ebf071e044ea8aa3db1cccd5e9e3c",
            "385ee7a0188a4e409f7e1f86bcc65da5",
            "9ea1b2b594704b3bb5cade308a5ac82e",
            "4b7ad7dcef6940e3bf337a0e449e1a22",
            "8fcc67a9540942ee86defdc264b7f77d",
            "6a105406ba3e4aacba3b9426d645a7a2",
            "f91293e1f06045b8bcb5efd654041fe8",
            "836bbc2c1c47446786500351902b0b00"
          ]
        }
      },
      "source": [
        "%%time\n",
        "max_token_len = 0\n",
        "for p in tqdm(range(101)):\n",
        "    len_tokens = [len(bpe_tokenizer.encode(token.text, dropout_prob=p/100))  for token in tokens]\n",
        "    if max(len_tokens) > max_token_len:\n",
        "        p_dropout = .01 * p\n",
        "        max_token_len = max(len_tokens)\n",
        "\n",
        "print(f'Максимальная длина токена: {max_token_len} субтокенов при вероятности дропаута {p_dropout}')"
      ],
      "execution_count": 11,
      "outputs": [
        {
          "output_type": "display_data",
          "data": {
            "application/vnd.jupyter.widget-view+json": {
              "model_id": "528ebf071e044ea8aa3db1cccd5e9e3c",
              "version_minor": 0,
              "version_major": 2
            },
            "text/plain": [
              "HBox(children=(FloatProgress(value=0.0, max=101.0), HTML(value='')))"
            ]
          },
          "metadata": {
            "tags": []
          }
        },
        {
          "output_type": "stream",
          "text": [
            "\n",
            "Максимальная длина токена: 62 субтокенов при вероятности дропаута 0.11\n",
            "CPU times: user 9.19 s, sys: 53 ms, total: 9.24 s\n",
            "Wall time: 9.24 s\n"
          ],
          "name": "stdout"
        }
      ]
    },
    {
      "cell_type": "code",
      "metadata": {
        "ExecuteTime": {
          "end_time": "2019-10-29T19:49:58.524125Z",
          "start_time": "2019-10-29T19:49:58.125577Z"
        },
        "id": "WzDDott3gFul",
        "colab_type": "code",
        "colab": {}
      },
      "source": [
        "tag2id = {tag: num for num, tag in enumerate(['<NOTAG>'] + list(tags))}"
      ],
      "execution_count": 0,
      "outputs": []
    },
    {
      "cell_type": "markdown",
      "metadata": {
        "id": "AiqJ56QiAsZF",
        "colab_type": "text"
      },
      "source": [
        "В датасете присутствует очень мало тегов вида B-XXX. Попробуем чуть размножить предложения с этими тегами. Использование дропаута в bpe внесёт немного разнообразия в эти предложения."
      ]
    },
    {
      "cell_type": "code",
      "metadata": {
        "id": "-OFmMzN9Fo-M",
        "colab_type": "code",
        "colab": {}
      },
      "source": [
        ""
      ],
      "execution_count": 0,
      "outputs": []
    },
    {
      "cell_type": "code",
      "metadata": {
        "id": "bL-haaq9GD26",
        "colab_type": "code",
        "outputId": "89c02979-1f11-4046-e311-d0d536dbf6ec",
        "colab": {
          "base_uri": "https://localhost:8080/",
          "height": 50
        }
      },
      "source": [
        "%%time\n",
        "BPE_DROPOUT = .2\n",
        "train_dataset = ConllDataset(train_conll, bpe_tokenizer, tag2id, max_sent_len, max_token_len, 50, BPE_DROPOUT)\n",
        "valid_dataset = ConllDataset(valid_conll, bpe_tokenizer, tag2id, max_sent_len, max_token_len)\n",
        "test_dataset = ConllDataset(test_conll, bpe_tokenizer, tag2id, max_sent_len, max_token_len)\n"
      ],
      "execution_count": 13,
      "outputs": [
        {
          "output_type": "stream",
          "text": [
            "CPU times: user 16.7 ms, sys: 983 µs, total: 17.7 ms\n",
            "Wall time: 17.7 ms\n"
          ],
          "name": "stdout"
        }
      ]
    },
    {
      "cell_type": "code",
      "metadata": {
        "id": "EdK-vuKoVpen",
        "colab_type": "code",
        "outputId": "fd598b34-c12a-400b-8ad2-360a35f0e817",
        "colab": {
          "base_uri": "https://localhost:8080/",
          "height": 33
        }
      },
      "source": [
        "len(train_dataset), len(valid_dataset), len(test_dataset) "
      ],
      "execution_count": 14,
      "outputs": [
        {
          "output_type": "execute_result",
          "data": {
            "text/plain": [
              "(16641, 3250, 3453)"
            ]
          },
          "metadata": {
            "tags": []
          },
          "execution_count": 14
        }
      ]
    },
    {
      "cell_type": "markdown",
      "metadata": {
        "id": "V0KNokGoadtA",
        "colab_type": "text"
      },
      "source": [
        "## Создаём и обучаем сеть"
      ]
    },
    {
      "cell_type": "code",
      "metadata": {
        "id": "U5k4Z4b6craL",
        "colab_type": "code",
        "colab": {}
      },
      "source": [
        "models_path = '/content/cnn_crf_nertagger/models/best_model.pth'"
      ],
      "execution_count": 0,
      "outputs": []
    },
    {
      "cell_type": "code",
      "metadata": {
        "id": "DfRjCwqZu4BW",
        "colab_type": "code",
        "outputId": "e8ffc02b-071a-4e6b-ebc2-0b3807cdcaab",
        "colab": {
          "base_uri": "https://localhost:8080/",
          "height": 33
        }
      },
      "source": [
        "try:\n",
        "    del model    \n",
        "    collect()\n",
        "except:\n",
        "    print('no model')\n",
        "finally:\n",
        "    torch.cuda.empty_cache()\n"
      ],
      "execution_count": 16,
      "outputs": [
        {
          "output_type": "stream",
          "text": [
            "no model\n"
          ],
          "name": "stdout"
        }
      ]
    },
    {
      "cell_type": "markdown",
      "metadata": {
        "id": "yYZiVrJYFCC1",
        "colab_type": "text"
      },
      "source": [
        "Сеть состоит из двух однотипных свёрточных блоков и CRF. На первом уровне мы осуществляем свёртку над субтокенами и делаем глобал-пуллинг. Затем получившиеся эмбедденги токенов передаём на следующий свёрточный блок. Он значительно глубже, чтобы увеличить рецептивное поле. Выход второго блока передаём в CRF, который возвращает нам `log-likelihood`."
      ]
    },
    {
      "cell_type": "code",
      "metadata": {
        "ExecuteTime": {
          "end_time": "2019-10-29T19:47:48.326925Z",
          "start_time": "2019-10-29T19:46:50.310Z"
        },
        "id": "jj9cwrRBgFwR",
        "colab_type": "code",
        "outputId": "10ad53d1-cab0-4b1b-96e9-19598aee4e79",
        "colab": {
          "base_uri": "https://localhost:8080/",
          "height": 33
        }
      },
      "source": [
        "torch.cuda.empty_cache()\n",
        "model = NERTaggerModel(len(bpe_tokenizer.vocab()), len(tag2id), tag2id, embedding_size=64,\n",
        "                                              single_backbone_kwargs=dict(layers_n=2, kernel_size=3, dropout=0.25, dilation=[1, 2]),\n",
        "                                              context_backbone_kwargs=dict(layers_n=4, kernel_size=3, dropout=0.25, dilation=[1, 1, 2 , 2]))\n",
        "print('Количество параметров', sum(np.product(t.shape) for t in model.parameters()))"
      ],
      "execution_count": 17,
      "outputs": [
        {
          "output_type": "stream",
          "text": [
            "Количество параметров 100517\n"
          ],
          "name": "stdout"
        }
      ]
    },
    {
      "cell_type": "code",
      "metadata": {
        "id": "luP8K58IIlw8",
        "colab_type": "code",
        "colab": {}
      },
      "source": [
        "# try:\n",
        "#     model.load_state_dict(torch.load(models_path))\n",
        "# except:\n",
        "#     print('no model')"
      ],
      "execution_count": 0,
      "outputs": []
    },
    {
      "cell_type": "code",
      "metadata": {
        "id": "1lRzQca4fXdc",
        "colab_type": "code",
        "colab": {}
      },
      "source": [
        "losses = {}"
      ],
      "execution_count": 0,
      "outputs": []
    },
    {
      "cell_type": "code",
      "metadata": {
        "ExecuteTime": {
          "end_time": "2019-10-29T19:47:48.327888Z",
          "start_time": "2019-10-29T19:46:50.737Z"
        },
        "scrolled": false,
        "id": "4aa02MY9gFwZ",
        "colab_type": "code",
        "outputId": "135a00a1-04ac-4941-9373-3c6cee93deb4",
        "colab": {
          "base_uri": "https://localhost:8080/",
          "height": 1000
        }
      },
      "source": [
        "(best_val_loss,\n",
        " best_model,\n",
        " losses) = train_eval_loop(\n",
        "     model,\n",
        "     train_dataset,\n",
        "     valid_dataset,\n",
        "     lr=5e-3,\n",
        "     epoch_n=200,\n",
        "     batch_size=128,\n",
        "     device=device,\n",
        "     early_stopping_patience=8,\n",
        "     l2_reg_alpha = 1e-6,\n",
        "     max_batches_per_epoch_train=100,\n",
        "     max_batches_per_epoch_val=100,\n",
        "     dataloader_workers_n=cpu_count(),\n",
        "     lr_scheduler_ctor=lambda optim: torch.optim.lr_scheduler.ReduceLROnPlateau(\n",
        "         optim, patience=4,\n",
        "         factor=0.1,\n",
        "         threshold=1e-2,\n",
        "         verbose=True),\n",
        "     verbose_batch=False,\n",
        "     verbose_liveloss=False,\n",
        "     prev_loss=losses\n",
        "    )\n",
        " \n",
        "torch.save(best_model.state_dict(), models_path)"
      ],
      "execution_count": 20,
      "outputs": [
        {
          "output_type": "stream",
          "text": [
            "Эпоха 0\n",
            "Эпоха: 101 итераций, 26.81 сек\n",
            "Среднее значение функции потерь на обучении 8.134181433384962\n",
            "Среднее значение функции потерь на валидации 3.4818560572770925\n",
            "Новая лучшая модель!\n",
            "\n",
            "Эпоха 1\n",
            "Эпоха: 101 итераций, 27.03 сек\n",
            "Среднее значение функции потерь на обучении 2.980026039746728\n",
            "Среднее значение функции потерь на валидации 2.460226822357911\n",
            "Новая лучшая модель!\n",
            "\n",
            "Эпоха 2\n",
            "Эпоха: 101 итераций, 26.75 сек\n",
            "Среднее значение функции потерь на обучении 2.2250967934580133\n",
            "Среднее значение функции потерь на валидации 2.0264229957874003\n",
            "Новая лучшая модель!\n",
            "\n",
            "Эпоха 3\n",
            "Эпоха: 101 итераций, 26.79 сек\n",
            "Среднее значение функции потерь на обучении 1.8753874313713301\n",
            "Среднее значение функции потерь на валидации 1.805140386407192\n",
            "Новая лучшая модель!\n",
            "\n",
            "Эпоха 4\n",
            "Эпоха: 101 итераций, 26.93 сек\n",
            "Среднее значение функции потерь на обучении 1.631031653668621\n",
            "Среднее значение функции потерь на валидации 1.6393384062326872\n",
            "Новая лучшая модель!\n",
            "\n",
            "Эпоха 5\n",
            "Эпоха: 101 итераций, 27.61 сек\n",
            "Среднее значение функции потерь на обучении 1.5016388220362145\n",
            "Среднее значение функции потерь на валидации 1.5307894028150117\n",
            "Новая лучшая модель!\n",
            "\n",
            "Эпоха 6\n",
            "Эпоха: 101 итераций, 26.37 сек\n",
            "Среднее значение функции потерь на обучении 1.3674048976142807\n",
            "Среднее значение функции потерь на валидации 1.453770474745677\n",
            "Новая лучшая модель!\n",
            "\n",
            "Эпоха 7\n",
            "Эпоха: 101 итераций, 27.11 сек\n",
            "Среднее значение функции потерь на обучении 1.281518813407067\n",
            "Среднее значение функции потерь на валидации 1.3924968597980647\n",
            "Новая лучшая модель!\n",
            "\n",
            "Эпоха 8\n",
            "Эпоха: 101 итераций, 27.30 сек\n",
            "Среднее значение функции потерь на обучении 1.232723320474719\n",
            "Среднее значение функции потерь на валидации 1.3308704380805676\n",
            "Новая лучшая модель!\n",
            "\n",
            "Эпоха 9\n",
            "Эпоха: 101 итераций, 27.59 сек\n",
            "Среднее значение функции потерь на обучении 1.1486591673133397\n",
            "Среднее значение функции потерь на валидации 1.3063083010224195\n",
            "Новая лучшая модель!\n",
            "\n",
            "Эпоха 10\n",
            "Эпоха: 101 итераций, 26.84 сек\n",
            "Среднее значение функции потерь на обучении 1.146838384689671\n",
            "Среднее значение функции потерь на валидации 1.2436913034090629\n",
            "Новая лучшая модель!\n",
            "\n",
            "Эпоха 11\n",
            "Эпоха: 101 итераций, 27.33 сек\n",
            "Среднее значение функции потерь на обучении 1.0783817897928822\n",
            "Среднее значение функции потерь на валидации 1.2609987728870833\n",
            "\n",
            "Эпоха 12\n",
            "Эпоха: 101 итераций, 27.47 сек\n",
            "Среднее значение функции потерь на обучении 1.0801626243213616\n",
            "Среднее значение функции потерь на валидации 1.2211852566553996\n",
            "Новая лучшая модель!\n",
            "\n",
            "Эпоха 13\n",
            "Эпоха: 101 итераций, 27.35 сек\n",
            "Среднее значение функции потерь на обучении 1.0202123044741036\n",
            "Среднее значение функции потерь на валидации 1.1899671176305184\n",
            "Новая лучшая модель!\n",
            "\n",
            "Эпоха 14\n",
            "Эпоха: 101 итераций, 27.54 сек\n",
            "Среднее значение функции потерь на обучении 0.970822536709285\n",
            "Среднее значение функции потерь на валидации 1.1284345732285426\n",
            "Новая лучшая модель!\n",
            "\n",
            "Эпоха 15\n",
            "Эпоха: 101 итераций, 27.54 сек\n",
            "Среднее значение функции потерь на обучении 0.9451367099686424\n",
            "Среднее значение функции потерь на валидации 1.133535891198195\n",
            "\n",
            "Эпоха 16\n",
            "Эпоха: 101 итераций, 27.29 сек\n",
            "Среднее значение функции потерь на обучении 0.9190817767440682\n",
            "Среднее значение функции потерь на валидации 1.1029931713755314\n",
            "Новая лучшая модель!\n",
            "\n",
            "Эпоха 17\n",
            "Эпоха: 101 итераций, 27.52 сек\n",
            "Среднее значение функции потерь на обучении 0.9057550282761602\n",
            "Среднее значение функции потерь на валидации 1.126099091882889\n",
            "\n",
            "Эпоха 18\n",
            "Эпоха: 101 итераций, 27.99 сек\n",
            "Среднее значение функции потерь на обучении 0.9087936954923196\n",
            "Среднее значение функции потерь на валидации 1.1663623985189657\n",
            "\n",
            "Эпоха 19\n",
            "Эпоха: 101 итераций, 28.06 сек\n",
            "Среднее значение функции потерь на обучении 0.862284249008292\n",
            "Среднее значение функции потерь на валидации 1.073768210525696\n",
            "Новая лучшая модель!\n",
            "\n",
            "Эпоха 20\n",
            "Эпоха: 101 итераций, 27.12 сек\n",
            "Среднее значение функции потерь на обучении 0.8599869030536992\n",
            "Среднее значение функции потерь на валидации 1.1877167906898718\n",
            "\n",
            "Эпоха 21\n",
            "Эпоха: 101 итераций, 27.62 сек\n",
            "Среднее значение функции потерь на обучении 0.8454278223585374\n",
            "Среднее значение функции потерь на валидации 1.1218757789868574\n",
            "\n",
            "Эпоха 22\n",
            "Эпоха: 101 итераций, 27.51 сек\n",
            "Среднее значение функции потерь на обучении 0.8406826065908565\n",
            "Среднее значение функции потерь на валидации 1.1073753146024852\n",
            "\n",
            "Эпоха 23\n",
            "Эпоха: 101 итераций, 27.60 сек\n",
            "Среднее значение функции потерь на обучении 0.8118442072726713\n",
            "Среднее значение функции потерь на валидации 1.1390225761211836\n",
            "\n",
            "Эпоха 24\n",
            "Эпоха: 101 итераций, 27.32 сек\n",
            "Среднее значение функции потерь на обучении 0.816881782937758\n",
            "Среднее значение функции потерь на валидации 1.0681029477944741\n",
            "Новая лучшая модель!\n",
            "Epoch    25: reducing learning rate of group 0 to 5.0000e-04.\n",
            "\n",
            "Эпоха 25\n",
            "Эпоха: 101 итераций, 27.12 сек\n",
            "Среднее значение функции потерь на обучении 0.723854501353632\n",
            "Среднее значение функции потерь на валидации 1.0169753243143742\n",
            "Новая лучшая модель!\n",
            "\n",
            "Эпоха 26\n",
            "Эпоха: 101 итераций, 27.14 сек\n",
            "Среднее значение функции потерь на обучении 0.6817652957864327\n",
            "Среднее значение функции потерь на валидации 0.9976355548088367\n",
            "Новая лучшая модель!\n",
            "\n",
            "Эпоха 27\n",
            "Эпоха: 101 итераций, 26.97 сек\n",
            "Среднее значение функции потерь на обучении 0.6746860285206596\n",
            "Среднее значение функции потерь на валидации 1.001105003632032\n",
            "\n",
            "Эпоха 28\n",
            "Эпоха: 101 итераций, 27.15 сек\n",
            "Среднее значение функции потерь на обучении 0.6566012773183313\n",
            "Среднее значение функции потерь на валидации 0.9781290072088058\n",
            "Новая лучшая модель!\n",
            "\n",
            "Эпоха 29\n",
            "Эпоха: 101 итераций, 27.30 сек\n",
            "Среднее значение функции потерь на обучении 0.6428805796226652\n",
            "Среднее значение функции потерь на валидации 0.9708218600314397\n",
            "Новая лучшая модель!\n",
            "\n",
            "Эпоха 30\n",
            "Эпоха: 101 итераций, 27.55 сек\n",
            "Среднее значение функции потерь на обучении 0.6151716664876088\n",
            "Среднее значение функции потерь на валидации 0.9691160507500172\n",
            "Новая лучшая модель!\n",
            "\n",
            "Эпоха 31\n",
            "Эпоха: 101 итераций, 28.10 сек\n",
            "Среднее значение функции потерь на обучении 0.6064510454635809\n",
            "Среднее значение функции потерь на валидации 0.9677847211177533\n",
            "Новая лучшая модель!\n",
            "\n",
            "Эпоха 32\n",
            "Эпоха: 101 итераций, 27.87 сек\n",
            "Среднее значение функции потерь на обучении 0.6036156289058157\n",
            "Среднее значение функции потерь на валидации 0.971492752719384\n",
            "\n",
            "Эпоха 33\n",
            "Эпоха: 101 итераций, 27.19 сек\n",
            "Среднее значение функции потерь на обучении 0.5975423281145568\n",
            "Среднее значение функции потерь на валидации 0.9639985856528466\n",
            "Новая лучшая модель!\n",
            "\n",
            "Эпоха 34\n",
            "Эпоха: 101 итераций, 27.48 сек\n",
            "Среднее значение функции потерь на обучении 0.6090351399218682\n",
            "Среднее значение функции потерь на валидации 0.9657961892393919\n",
            "\n",
            "Эпоха 35\n",
            "Эпоха: 101 итераций, 27.86 сек\n",
            "Среднее значение функции потерь на обучении 0.5963931074827025\n",
            "Среднее значение функции потерь на валидации 0.9641058419186336\n",
            "\n",
            "Эпоха 36\n",
            "Эпоха: 101 итераций, 27.36 сек\n",
            "Среднее значение функции потерь на обучении 0.6055340221022615\n",
            "Среднее значение функции потерь на валидации 0.9592683065969211\n",
            "Новая лучшая модель!\n",
            "Epoch    37: reducing learning rate of group 0 to 5.0000e-05.\n",
            "\n",
            "Эпоха 37\n",
            "Эпоха: 101 итераций, 27.49 сек\n",
            "Среднее значение функции потерь на обучении 0.5936110739660735\n",
            "Среднее значение функции потерь на валидации 0.9570765578402922\n",
            "Новая лучшая модель!\n",
            "\n",
            "Эпоха 38\n",
            "Эпоха: 101 итераций, 27.61 сек\n",
            "Среднее значение функции потерь на обучении 0.5657418331887463\n",
            "Среднее значение функции потерь на валидации 0.954679093681849\n",
            "Новая лучшая модель!\n",
            "\n",
            "Эпоха 39\n",
            "Эпоха: 101 итераций, 27.71 сек\n",
            "Среднее значение функции потерь на обучении 0.5743490979813113\n",
            "Среднее значение функции потерь на валидации 0.9548117008346778\n",
            "\n",
            "Эпоха 40\n",
            "Эпоха: 101 итераций, 28.11 сек\n",
            "Среднее значение функции потерь на обучении 0.5919294773352028\n",
            "Среднее значение функции потерь на валидации 0.9562832690202273\n",
            "\n",
            "Эпоха 41\n",
            "Эпоха: 101 итераций, 27.36 сек\n",
            "Среднее значение функции потерь на обучении 0.56080361728621\n",
            "Среднее значение функции потерь на валидации 0.9537870067243392\n",
            "Новая лучшая модель!\n",
            "\n",
            "Эпоха 42\n",
            "Эпоха: 101 итераций, 27.01 сек\n",
            "Среднее значение функции потерь на обучении 0.5850283556645459\n",
            "Среднее значение функции потерь на валидации 0.9527704933514962\n",
            "Новая лучшая модель!\n",
            "Epoch    43: reducing learning rate of group 0 to 5.0000e-06.\n",
            "\n",
            "Эпоха 43\n",
            "Эпоха: 101 итераций, 27.05 сек\n",
            "Среднее значение функции потерь на обучении 0.5799862819142861\n",
            "Среднее значение функции потерь на валидации 0.9526786990463734\n",
            "Новая лучшая модель!\n",
            "\n",
            "Эпоха 44\n",
            "Эпоха: 101 итераций, 27.24 сек\n",
            "Среднее значение функции потерь на обучении 0.5584625383414844\n",
            "Среднее значение функции потерь на валидации 0.9525916874408722\n",
            "Новая лучшая модель!\n",
            "\n",
            "Эпоха 45\n",
            "Эпоха: 101 итераций, 27.69 сек\n",
            "Среднее значение функции потерь на обучении 0.5759766199211083\n",
            "Среднее значение функции потерь на валидации 0.952615717282662\n",
            "\n",
            "Эпоха 46\n",
            "Эпоха: 101 итераций, 27.41 сек\n",
            "Среднее значение функции потерь на обучении 0.5773163656196972\n",
            "Среднее значение функции потерь на валидации 0.9525802493668519\n",
            "Новая лучшая модель!\n",
            "\n",
            "Эпоха 47\n",
            "Эпоха: 101 итераций, 27.72 сек\n",
            "Среднее значение функции потерь на обучении 0.5734204289936783\n",
            "Среднее значение функции потерь на валидации 0.9525077044963837\n",
            "Новая лучшая модель!\n",
            "Epoch    48: reducing learning rate of group 0 to 5.0000e-07.\n",
            "\n",
            "Эпоха 48\n",
            "Эпоха: 101 итераций, 27.31 сек\n",
            "Среднее значение функции потерь на обучении 0.5688287804622462\n",
            "Среднее значение функции потерь на валидации 0.9525290521291586\n",
            "\n",
            "Эпоха 49\n",
            "Эпоха: 101 итераций, 27.46 сек\n",
            "Среднее значение функции потерь на обучении 0.5685809337266601\n",
            "Среднее значение функции потерь на валидации 0.9525110331865457\n",
            "\n",
            "Эпоха 50\n",
            "Эпоха: 101 итераций, 27.59 сек\n",
            "Среднее значение функции потерь на обучении 0.5769509198051868\n",
            "Среднее значение функции потерь на валидации 0.9525487910096462\n",
            "\n",
            "Эпоха 51\n",
            "Эпоха: 101 итераций, 27.70 сек\n",
            "Среднее значение функции потерь на обучении 0.5853405937109843\n",
            "Среднее значение функции потерь на валидации 0.9525655765946095\n",
            "\n",
            "Эпоха 52\n",
            "Эпоха: 101 итераций, 27.13 сек\n",
            "Среднее значение функции потерь на обучении 0.5850696758468552\n",
            "Среднее значение функции потерь на валидации 0.9525883490076432\n",
            "Epoch    53: reducing learning rate of group 0 to 5.0000e-08.\n",
            "\n",
            "Эпоха 53\n",
            "Эпоха: 101 итераций, 27.08 сек\n",
            "Среднее значение функции потерь на обучении 0.583396457504518\n",
            "Среднее значение функции потерь на валидации 0.9525941306581864\n",
            "\n",
            "Эпоха 54\n",
            "Эпоха: 101 итераций, 27.26 сек\n",
            "Среднее значение функции потерь на обучении 0.5756618882169818\n",
            "Среднее значение функции потерь на валидации 0.9525939226150513\n",
            "\n",
            "Эпоха 55\n",
            "Эпоха: 101 итераций, 26.87 сек\n",
            "Среднее значение функции потерь на обучении 0.5745431181817952\n",
            "Среднее значение функции потерь на валидации 0.9525975625102336\n",
            "\n",
            "Эпоха 56\n",
            "Эпоха: 101 итераций, 27.50 сек\n",
            "Среднее значение функции потерь на обучении 0.5826150727744149\n",
            "Среднее значение функции потерь на валидации 0.9525989540494405\n",
            "Модель не улучшилась за последние 8 эпох, прекращаем обучение\n"
          ],
          "name": "stdout"
        }
      ]
    },
    {
      "cell_type": "code",
      "metadata": {
        "id": "ghe0zoP4c3vt",
        "colab_type": "code",
        "outputId": "6449c7e8-16c3-4a8d-f8c9-39d096ef45f3",
        "colab": {
          "base_uri": "https://localhost:8080/",
          "height": 702
        }
      },
      "source": [
        "pd.DataFrame(losses).plot();"
      ],
      "execution_count": 21,
      "outputs": [
        {
          "output_type": "display_data",
          "data": {
            "image/png": "[encoded data removed]",
            "text/plain": [
              "<Figure size 864x864 with 1 Axes>"
            ]
          },
          "metadata": {
            "tags": [],
            "needs_background": "light"
          }
        }
      ]
    },
    {
      "cell_type": "code",
      "metadata": {
        "ExecuteTime": {
          "end_time": "2019-08-29T13:56:16.564926Z",
          "start_time": "2019-08-29T13:56:16.544481Z"
        },
        "id": "j6_Z8S3SgFwn",
        "colab_type": "code",
        "outputId": "e4df858f-5814-4134-fc3d-cceab021d0d6",
        "colab": {
          "base_uri": "https://localhost:8080/",
          "height": 33
        }
      },
      "source": [
        "model.load_state_dict(torch.load(models_path))"
      ],
      "execution_count": 22,
      "outputs": [
        {
          "output_type": "execute_result",
          "data": {
            "text/plain": [
              "<All keys matched successfully>"
            ]
          },
          "metadata": {
            "tags": []
          },
          "execution_count": 22
        }
      ]
    },
    {
      "cell_type": "markdown",
      "metadata": {
        "id": "9yBwoQnWypb5",
        "colab_type": "text"
      },
      "source": [
        "## Проверки"
      ]
    },
    {
      "cell_type": "code",
      "metadata": {
        "id": "rDx8tvIeyoe0",
        "colab_type": "code",
        "colab": {}
      },
      "source": [
        "id2tag = {item[1]: item[0] for item in tag2id.items()}\n",
        "UNIQUE_TAGS = [id2tag[i] for i in range(len(tag2id))]\n"
      ],
      "execution_count": 0,
      "outputs": []
    },
    {
      "cell_type": "markdown",
      "metadata": {
        "id": "vaq1J92ryPNx",
        "colab_type": "text"
      },
      "source": [
        "### Проверка - train"
      ]
    },
    {
      "cell_type": "code",
      "metadata": {
        "id": "jrgKw3hxYiS5",
        "colab_type": "code",
        "outputId": "12dde0a0-c5a2-44d1-851d-72d76096f299",
        "colab": {
          "base_uri": "https://localhost:8080/",
          "height": 50
        }
      },
      "source": [
        "%%time \n",
        "train_targets = [item[1] for item in train_dataset]\n",
        "train_targets = torch.stack(train_targets)\n",
        "train_targets.shape"
      ],
      "execution_count": 24,
      "outputs": [
        {
          "output_type": "stream",
          "text": [
            "CPU times: user 7.68 s, sys: 44.5 ms, total: 7.73 s\n",
            "Wall time: 7.73 s\n"
          ],
          "name": "stdout"
        }
      ]
    },
    {
      "cell_type": "code",
      "metadata": {
        "id": "3aNr47CYdSFa",
        "colab_type": "code",
        "outputId": "57f78a93-4ca4-4519-dfc4-a256e277baf2",
        "colab": {
          "base_uri": "https://localhost:8080/",
          "height": 326
        }
      },
      "source": [
        "train_pred = predict_with_model(model, train_dataset)\n",
        "train_golden_tags = tensor_to_tags(train_targets, id2tag)\n",
        "train_pred_tags = tensor_to_tags(train_pred, id2tag)\n",
        "print(classification_report(train_golden_tags, train_pred_tags, digits=4))\n",
        "print(classification_report(train_golden_tags, train_pred_tags, digits=4, suffix=True))\n"
      ],
      "execution_count": 25,
      "outputs": [
        {
          "output_type": "stream",
          "text": [
            "521it [00:30, 16.93it/s]                               \n"
          ],
          "name": "stderr"
        },
        {
          "output_type": "stream",
          "text": [
            "           precision    recall  f1-score   support\n",
            "\n",
            "      ORG     0.8147    0.8026    0.8086      8521\n",
            "     MISC     0.8451    0.8138    0.8291      7588\n",
            "      LOC     0.9507    0.8996    0.9244      9540\n",
            "      PER     0.9169    0.9599    0.9379      7250\n",
            "\n",
            "micro avg     0.8836    0.8680    0.8757     32899\n",
            "macro avg     0.8837    0.8680    0.8754     32899\n",
            "\n",
            "           precision    recall  f1-score   support\n",
            "\n",
            "        I     0.9062    0.9519    0.9285     30278\n",
            "        B     0.7206    0.5966    0.6528      2754\n",
            "\n",
            "micro avg     0.8938    0.9223    0.9078     33032\n",
            "macro avg     0.8907    0.9223    0.9055     33032\n",
            "\n"
          ],
          "name": "stdout"
        }
      ]
    },
    {
      "cell_type": "markdown",
      "metadata": {
        "id": "5p2jdVB-yUHQ",
        "colab_type": "text"
      },
      "source": [
        "### Проверка - valid"
      ]
    },
    {
      "cell_type": "code",
      "metadata": {
        "id": "dvJuUNPzaG35",
        "colab_type": "code",
        "outputId": "3865b115-128f-428c-d7b0-d13a6da9c85a",
        "colab": {
          "base_uri": "https://localhost:8080/",
          "height": 50
        }
      },
      "source": [
        "%%time \n",
        "valid_targets = [item[1] for item in valid_dataset]\n",
        "valid_targets = torch.stack(valid_targets)\n",
        "valid_targets.shape"
      ],
      "execution_count": 26,
      "outputs": [
        {
          "output_type": "stream",
          "text": [
            "CPU times: user 1.35 s, sys: 1.11 ms, total: 1.36 s\n",
            "Wall time: 1.36 s\n"
          ],
          "name": "stdout"
        }
      ]
    },
    {
      "cell_type": "code",
      "metadata": {
        "id": "qAh6GumkdR4G",
        "colab_type": "code",
        "outputId": "cfed09d3-55e6-4670-a0a5-f205d2803e7c",
        "colab": {
          "base_uri": "https://localhost:8080/",
          "height": 326
        }
      },
      "source": [
        "valid_pred = predict_with_model(model, valid_dataset)\n",
        "\n",
        " \n",
        "valid_golden_tags = tensor_to_tags(valid_targets, id2tag)\n",
        "valid_pred_tags = tensor_to_tags(valid_pred, id2tag)\n",
        "print(classification_report(valid_golden_tags, valid_pred_tags, digits=4))\n",
        "print(classification_report(valid_golden_tags, valid_pred_tags, digits=4, suffix=True))\n"
      ],
      "execution_count": 27,
      "outputs": [
        {
          "output_type": "stream",
          "text": [
            "100%|██████████| 102/101.5625 [00:06<00:00, 16.63it/s]\n"
          ],
          "name": "stderr"
        },
        {
          "output_type": "stream",
          "text": [
            "           precision    recall  f1-score   support\n",
            "\n",
            "      ORG     0.7298    0.7733    0.7509      1341\n",
            "      LOC     0.8871    0.8938    0.8905      1837\n",
            "     MISC     0.8331    0.8015    0.8170       922\n",
            "      PER     0.8649    0.8795    0.8721      1842\n",
            "\n",
            "micro avg     0.8352    0.8479    0.8415      5942\n",
            "macro avg     0.8363    0.8479    0.8419      5942\n",
            "\n",
            "           precision    recall  f1-score   support\n",
            "\n",
            "        I     0.9128    0.9302    0.9214      5899\n",
            "        B     0.1000    0.2500    0.1429         4\n",
            "\n",
            "micro avg     0.9115    0.9297    0.9205      5903\n",
            "macro avg     0.9123    0.9297    0.9209      5903\n",
            "\n"
          ],
          "name": "stdout"
        }
      ]
    },
    {
      "cell_type": "markdown",
      "metadata": {
        "id": "CtXo2-Ioybnx",
        "colab_type": "text"
      },
      "source": [
        "### Проверка - test"
      ]
    },
    {
      "cell_type": "code",
      "metadata": {
        "id": "2EIZF08wahVv",
        "colab_type": "code",
        "outputId": "43194a26-2c8f-457f-898a-9ec0458ccf65",
        "colab": {
          "base_uri": "https://localhost:8080/",
          "height": 50
        }
      },
      "source": [
        "%%time \n",
        "test_targets = [item[1] for item in test_dataset]\n",
        "test_targets = torch.stack(test_targets)\n",
        "test_targets.shape"
      ],
      "execution_count": 28,
      "outputs": [
        {
          "output_type": "stream",
          "text": [
            "CPU times: user 1.18 s, sys: 2.22 ms, total: 1.18 s\n",
            "Wall time: 1.19 s\n"
          ],
          "name": "stdout"
        }
      ]
    },
    {
      "cell_type": "code",
      "metadata": {
        "id": "pIC16ECm_58u",
        "colab_type": "code",
        "outputId": "1f733056-e79e-4178-b89b-c0866e0bb0d0",
        "colab": {
          "base_uri": "https://localhost:8080/",
          "height": 326
        }
      },
      "source": [
        "test_pred = predict_with_model(model, test_dataset)\n",
        " \n",
        "test_golden_tags = tensor_to_tags(test_targets, id2tag)\n",
        "test_pred_tags = tensor_to_tags(test_pred, id2tag)\n",
        "print(classification_report(test_golden_tags, test_pred_tags, digits=4))\n",
        "print(classification_report(test_golden_tags, test_pred_tags, digits=4, suffix=True))"
      ],
      "execution_count": 29,
      "outputs": [
        {
          "output_type": "stream",
          "text": [
            "100%|██████████| 108/107.90625 [00:05<00:00, 18.32it/s]\n"
          ],
          "name": "stderr"
        },
        {
          "output_type": "stream",
          "text": [
            "           precision    recall  f1-score   support\n",
            "\n",
            "      ORG     0.6877    0.7477    0.7165      1661\n",
            "     MISC     0.6595    0.7009    0.6796       702\n",
            "      LOC     0.8450    0.8435    0.8443      1668\n",
            "      PER     0.8147    0.8318    0.8231      1617\n",
            "\n",
            "micro avg     0.7645    0.7943    0.7791      5648\n",
            "macro avg     0.7670    0.7943    0.7802      5648\n",
            "\n",
            "           precision    recall  f1-score   support\n",
            "\n",
            "        I     0.8801    0.9193    0.8993      5599\n",
            "        B     0.0000    0.0000    0.0000        18\n",
            "\n",
            "micro avg     0.8792    0.9163    0.8974      5617\n",
            "macro avg     0.8773    0.9163    0.8964      5617\n",
            "\n"
          ],
          "name": "stdout"
        }
      ]
    },
    {
      "cell_type": "markdown",
      "metadata": {
        "id": "YJFiJ4uo70T_",
        "colab_type": "text"
      },
      "source": [
        "           precision    recall  f1-score   support\n",
        "\n",
        "      PER       0.86      0.84      0.85      1617\n",
        "      LOC       0.81      0.87      0.84      1668\n",
        "      ORG       0.72      0.77      0.74      1661\n",
        "     MISC       0.75      0.73      0.74       702\n",
        "\n",
        "    micro avg   0.79      0.81      0.80      5648\n",
        "    macro avg   0.79      0.81      0.80      5648\n",
        "\n",
        "           precision    recall  f1-score   support\n",
        "\n",
        "        I       0.91      0.94      0.92      5599\n",
        "        B       0.11      0.06      0.07        18\n",
        "\n",
        "    micro avg   0.91      0.94      0.92      5617\n",
        "    macro avg   0.91      0.94      0.92      5617\n"
      ]
    },
    {
      "cell_type": "markdown",
      "metadata": {
        "id": "8tZ3TbhngFxV",
        "colab_type": "text"
      },
      "source": [
        "## Применение теггера"
      ]
    },
    {
      "cell_type": "code",
      "metadata": {
        "id": "dBORSeRvdITg",
        "colab_type": "code",
        "colab": {}
      },
      "source": [
        "!python -m spacy download en_core_web_sm > /dev/null\n",
        "nlp = spacy.load('en_core_web_sm')"
      ],
      "execution_count": 0,
      "outputs": []
    },
    {
      "cell_type": "code",
      "metadata": {
        "ExecuteTime": {
          "end_time": "2019-08-29T13:56:42.105418Z",
          "start_time": "2019-08-29T13:56:42.093744Z"
        },
        "id": "gM1646Q7gFxX",
        "colab_type": "code",
        "colab": {}
      },
      "source": [
        "\n",
        "ner_tagger = NERTagger(model, bpe_tokenizer, UNIQUE_TAGS, max_sent_len, max_token_len, 0)"
      ],
      "execution_count": 0,
      "outputs": []
    },
    {
      "cell_type": "markdown",
      "metadata": {
        "id": "qGbRPrQ1oMM_",
        "colab_type": "text"
      },
      "source": [
        "Несколько предложений из новостей с сайта [BBC](https://www.bbc.com/news)"
      ]
    },
    {
      "cell_type": "code",
      "metadata": {
        "ExecuteTime": {
          "end_time": "2019-08-29T13:56:42.125540Z",
          "start_time": "2019-08-29T13:56:42.106771Z"
        },
        "id": "JHOY3BpZgFxd",
        "colab_type": "code",
        "colab": {}
      },
      "source": [
        "test_sentences = [\n",
        "    'Mr Trump said Mr Linick no longer had his full confidence and that he would be removed in 30 days.',\n",
        "    'Mr Linick had begun investigating Secretary of State Mike Pompeo for suspected abuse of office, reports say.',\n",
        "    'Democrats say Mr Trump is retaliating against public servants who want to hold his administration to account.',\n",
        "    'Donald Trump, who is campaigning for re-election in November, has stepped up his attacks on China in recent weeks, blaming it for the spread of Covid-19.',\n",
        "    'The team led by Fernando Novas from the Natural Sciences Museum in Buenos Aires discovered many fossils during its month-long field work in Estancia La Anita, in southern Santa Cruz province.',\n",
        "    \"The rehearsal at Kennedy Space Center saw a Falcon-9 vehicle's ascent into the sky deliberately terminated just 80 seconds after lift-off.\"\n",
        "]\n",
        "test_sentences_tokenized = tokenize_corpus(test_sentences)\n",
        "# test_sentences_tokenized = [[token.text for token in nlp.tokenizer(sent) ] for sent in test_sentences]"
      ],
      "execution_count": 0,
      "outputs": []
    },
    {
      "cell_type": "code",
      "metadata": {
        "id": "TxHF5NAVFuvi",
        "colab_type": "code",
        "outputId": "0151417e-62e2-4982-cf9d-160c2dba9013",
        "colab": {
          "base_uri": "https://localhost:8080/",
          "height": 147
        }
      },
      "source": [
        "for sent_tokens, sent_tags in zip(test_sentences_tokenized, ner_tagger(test_sentences)):\n",
        "    highlight_text(sent_tokens, sent_tags)"
      ],
      "execution_count": 33,
      "outputs": [
        {
          "output_type": "stream",
          "text": [
            "1it [00:00, 70.79it/s]                    \n"
          ],
          "name": "stderr"
        },
        {
          "output_type": "display_data",
          "data": {
            "text/html": [
              "<div class=\"tex2jax_ignore\" style=\"white-space: pre-wrap\"><span style=\"padding: 2px; border-radius: 4px; border: 1px solid #bbdefb; background: #e3f2fd\">Mr<span style=\"vertical-align: middle; margin-left: 2px; font-size: 0.7em; color: #64b5f6;\">I-PER</span></span> <span style=\"padding: 2px; border-radius: 4px; border: 1px solid #bbdefb; background: #e3f2fd\">Trump<span style=\"vertical-align: middle; margin-left: 2px; font-size: 0.7em; color: #64b5f6;\">I-PER</span></span> <span style=\"padding: 2px; border-radius: 4px; border: 1px solid #c8e6c9; background: #e8f5e9\">said<span style=\"vertical-align: middle; margin-left: 2px; font-size: 0.7em; color: #66bb6a;\">O</span></span> <span style=\"padding: 2px; border-radius: 4px; border: 1px solid #bbdefb; background: #e3f2fd\">Mr<span style=\"vertical-align: middle; margin-left: 2px; font-size: 0.7em; color: #64b5f6;\">I-PER</span></span> <span style=\"padding: 2px; border-radius: 4px; border: 1px solid #bbdefb; background: #e3f2fd\">Linick<span style=\"vertical-align: middle; margin-left: 2px; font-size: 0.7em; color: #64b5f6;\">I-PER</span></span> <span style=\"padding: 2px; border-radius: 4px; border: 1px solid #c8e6c9; background: #e8f5e9\">no<span style=\"vertical-align: middle; margin-left: 2px; font-size: 0.7em; color: #66bb6a;\">O</span></span> <span style=\"padding: 2px; border-radius: 4px; border: 1px solid #c8e6c9; background: #e8f5e9\">longer<span style=\"vertical-align: middle; margin-left: 2px; font-size: 0.7em; color: #66bb6a;\">O</span></span> <span style=\"padding: 2px; border-radius: 4px; border: 1px solid #c8e6c9; background: #e8f5e9\">had<span style=\"vertical-align: middle; margin-left: 2px; font-size: 0.7em; color: #66bb6a;\">O</span></span> <span style=\"padding: 2px; border-radius: 4px; border: 1px solid #c8e6c9; background: #e8f5e9\">his<span style=\"vertical-align: middle; margin-left: 2px; font-size: 0.7em; color: #66bb6a;\">O</span></span> <span style=\"padding: 2px; border-radius: 4px; border: 1px solid #c8e6c9; background: #e8f5e9\">full<span style=\"vertical-align: middle; margin-left: 2px; font-size: 0.7em; color: #66bb6a;\">O</span></span> <span style=\"padding: 2px; border-radius: 4px; border: 1px solid #c8e6c9; background: #e8f5e9\">confidence<span style=\"vertical-align: middle; margin-left: 2px; font-size: 0.7em; color: #66bb6a;\">O</span></span> <span style=\"padding: 2px; border-radius: 4px; border: 1px solid #c8e6c9; background: #e8f5e9\">and<span style=\"vertical-align: middle; margin-left: 2px; font-size: 0.7em; color: #66bb6a;\">O</span></span> <span style=\"padding: 2px; border-radius: 4px; border: 1px solid #c8e6c9; background: #e8f5e9\">that<span style=\"vertical-align: middle; margin-left: 2px; font-size: 0.7em; color: #66bb6a;\">O</span></span> <span style=\"padding: 2px; border-radius: 4px; border: 1px solid #c8e6c9; background: #e8f5e9\">he<span style=\"vertical-align: middle; margin-left: 2px; font-size: 0.7em; color: #66bb6a;\">O</span></span> <span style=\"padding: 2px; border-radius: 4px; border: 1px solid #c8e6c9; background: #e8f5e9\">would<span style=\"vertical-align: middle; margin-left: 2px; font-size: 0.7em; color: #66bb6a;\">O</span></span> <span style=\"padding: 2px; border-radius: 4px; border: 1px solid #c8e6c9; background: #e8f5e9\">be<span style=\"vertical-align: middle; margin-left: 2px; font-size: 0.7em; color: #66bb6a;\">O</span></span> <span style=\"padding: 2px; border-radius: 4px; border: 1px solid #c8e6c9; background: #e8f5e9\">removed<span style=\"vertical-align: middle; margin-left: 2px; font-size: 0.7em; color: #66bb6a;\">O</span></span> <span style=\"padding: 2px; border-radius: 4px; border: 1px solid #c8e6c9; background: #e8f5e9\">in<span style=\"vertical-align: middle; margin-left: 2px; font-size: 0.7em; color: #66bb6a;\">O</span></span> <span style=\"padding: 2px; border-radius: 4px; border: 1px solid #c8e6c9; background: #e8f5e9\">30<span style=\"vertical-align: middle; margin-left: 2px; font-size: 0.7em; color: #66bb6a;\">O</span></span> <span style=\"padding: 2px; border-radius: 4px; border: 1px solid #c8e6c9; background: #e8f5e9\">days<span style=\"vertical-align: middle; margin-left: 2px; font-size: 0.7em; color: #66bb6a;\">O</span></span> <span style=\"padding: 2px; border-radius: 4px; border: 1px solid #c8e6c9; background: #e8f5e9\">.<span style=\"vertical-align: middle; margin-left: 2px; font-size: 0.7em; color: #66bb6a;\">O</span></span></div>"
            ],
            "text/plain": [
              "<IPython.core.display.HTML object>"
            ]
          },
          "metadata": {
            "tags": []
          }
        },
        {
          "output_type": "display_data",
          "data": {
            "text/html": [
              "<div class=\"tex2jax_ignore\" style=\"white-space: pre-wrap\"><span style=\"padding: 2px; border-radius: 4px; border: 1px solid #bbdefb; background: #e3f2fd\">Mr<span style=\"vertical-align: middle; margin-left: 2px; font-size: 0.7em; color: #64b5f6;\">I-PER</span></span> <span style=\"padding: 2px; border-radius: 4px; border: 1px solid #bbdefb; background: #e3f2fd\">Linick<span style=\"vertical-align: middle; margin-left: 2px; font-size: 0.7em; color: #64b5f6;\">I-PER</span></span> <span style=\"padding: 2px; border-radius: 4px; border: 1px solid #c8e6c9; background: #e8f5e9\">had<span style=\"vertical-align: middle; margin-left: 2px; font-size: 0.7em; color: #66bb6a;\">O</span></span> <span style=\"padding: 2px; border-radius: 4px; border: 1px solid #c8e6c9; background: #e8f5e9\">begun<span style=\"vertical-align: middle; margin-left: 2px; font-size: 0.7em; color: #66bb6a;\">O</span></span> <span style=\"padding: 2px; border-radius: 4px; border: 1px solid #c8e6c9; background: #e8f5e9\">investigating<span style=\"vertical-align: middle; margin-left: 2px; font-size: 0.7em; color: #66bb6a;\">O</span></span> <span style=\"padding: 2px; border-radius: 4px; border: 1px solid #c8e6c9; background: #e8f5e9\">Secretary<span style=\"vertical-align: middle; margin-left: 2px; font-size: 0.7em; color: #66bb6a;\">O</span></span> <span style=\"padding: 2px; border-radius: 4px; border: 1px solid #c8e6c9; background: #e8f5e9\">of<span style=\"vertical-align: middle; margin-left: 2px; font-size: 0.7em; color: #66bb6a;\">O</span></span> <span style=\"padding: 2px; border-radius: 4px; border: 1px solid #ffcdd2; background: #ffebee\">State<span style=\"vertical-align: middle; margin-left: 2px; font-size: 0.7em; color: #e57373;\">I-ORG</span></span> <span style=\"padding: 2px; border-radius: 4px; border: 1px solid #ffcdd2; background: #ffebee\">Mike<span style=\"vertical-align: middle; margin-left: 2px; font-size: 0.7em; color: #e57373;\">I-ORG</span></span> <span style=\"padding: 2px; border-radius: 4px; border: 1px solid #ffcdd2; background: #ffebee\">Pompeo<span style=\"vertical-align: middle; margin-left: 2px; font-size: 0.7em; color: #e57373;\">I-ORG</span></span> <span style=\"padding: 2px; border-radius: 4px; border: 1px solid #c8e6c9; background: #e8f5e9\">for<span style=\"vertical-align: middle; margin-left: 2px; font-size: 0.7em; color: #66bb6a;\">O</span></span> <span style=\"padding: 2px; border-radius: 4px; border: 1px solid #c8e6c9; background: #e8f5e9\">suspected<span style=\"vertical-align: middle; margin-left: 2px; font-size: 0.7em; color: #66bb6a;\">O</span></span> <span style=\"padding: 2px; border-radius: 4px; border: 1px solid #c8e6c9; background: #e8f5e9\">abuse<span style=\"vertical-align: middle; margin-left: 2px; font-size: 0.7em; color: #66bb6a;\">O</span></span> <span style=\"padding: 2px; border-radius: 4px; border: 1px solid #c8e6c9; background: #e8f5e9\">of<span style=\"vertical-align: middle; margin-left: 2px; font-size: 0.7em; color: #66bb6a;\">O</span></span> <span style=\"padding: 2px; border-radius: 4px; border: 1px solid #c8e6c9; background: #e8f5e9\">office<span style=\"vertical-align: middle; margin-left: 2px; font-size: 0.7em; color: #66bb6a;\">O</span></span> <span style=\"padding: 2px; border-radius: 4px; border: 1px solid #c8e6c9; background: #e8f5e9\">,<span style=\"vertical-align: middle; margin-left: 2px; font-size: 0.7em; color: #66bb6a;\">O</span></span> <span style=\"padding: 2px; border-radius: 4px; border: 1px solid #c8e6c9; background: #e8f5e9\">reports<span style=\"vertical-align: middle; margin-left: 2px; font-size: 0.7em; color: #66bb6a;\">O</span></span> <span style=\"padding: 2px; border-radius: 4px; border: 1px solid #c8e6c9; background: #e8f5e9\">say<span style=\"vertical-align: middle; margin-left: 2px; font-size: 0.7em; color: #66bb6a;\">O</span></span> <span style=\"padding: 2px; border-radius: 4px; border: 1px solid #c8e6c9; background: #e8f5e9\">.<span style=\"vertical-align: middle; margin-left: 2px; font-size: 0.7em; color: #66bb6a;\">O</span></span></div>"
            ],
            "text/plain": [
              "<IPython.core.display.HTML object>"
            ]
          },
          "metadata": {
            "tags": []
          }
        },
        {
          "output_type": "display_data",
          "data": {
            "text/html": [
              "<div class=\"tex2jax_ignore\" style=\"white-space: pre-wrap\"><span style=\"padding: 2px; border-radius: 4px; border: 1px solid #ffe0b2; background: #fff3e0\">Democrats<span style=\"vertical-align: middle; margin-left: 2px; font-size: 0.7em; color: #ffb74d;\">I-MISC</span></span> <span style=\"padding: 2px; border-radius: 4px; border: 1px solid #c8e6c9; background: #e8f5e9\">say<span style=\"vertical-align: middle; margin-left: 2px; font-size: 0.7em; color: #66bb6a;\">O</span></span> <span style=\"padding: 2px; border-radius: 4px; border: 1px solid #c8e6c9; background: #e8f5e9\">Mr<span style=\"vertical-align: middle; margin-left: 2px; font-size: 0.7em; color: #66bb6a;\">O</span></span> <span style=\"padding: 2px; border-radius: 4px; border: 1px solid #bbdefb; background: #e3f2fd\">Trump<span style=\"vertical-align: middle; margin-left: 2px; font-size: 0.7em; color: #64b5f6;\">I-PER</span></span> <span style=\"padding: 2px; border-radius: 4px; border: 1px solid #c8e6c9; background: #e8f5e9\">is<span style=\"vertical-align: middle; margin-left: 2px; font-size: 0.7em; color: #66bb6a;\">O</span></span> <span style=\"padding: 2px; border-radius: 4px; border: 1px solid #c8e6c9; background: #e8f5e9\">retaliating<span style=\"vertical-align: middle; margin-left: 2px; font-size: 0.7em; color: #66bb6a;\">O</span></span> <span style=\"padding: 2px; border-radius: 4px; border: 1px solid #c8e6c9; background: #e8f5e9\">against<span style=\"vertical-align: middle; margin-left: 2px; font-size: 0.7em; color: #66bb6a;\">O</span></span> <span style=\"padding: 2px; border-radius: 4px; border: 1px solid #c8e6c9; background: #e8f5e9\">public<span style=\"vertical-align: middle; margin-left: 2px; font-size: 0.7em; color: #66bb6a;\">O</span></span> <span style=\"padding: 2px; border-radius: 4px; border: 1px solid #c8e6c9; background: #e8f5e9\">servants<span style=\"vertical-align: middle; margin-left: 2px; font-size: 0.7em; color: #66bb6a;\">O</span></span> <span style=\"padding: 2px; border-radius: 4px; border: 1px solid #c8e6c9; background: #e8f5e9\">who<span style=\"vertical-align: middle; margin-left: 2px; font-size: 0.7em; color: #66bb6a;\">O</span></span> <span style=\"padding: 2px; border-radius: 4px; border: 1px solid #c8e6c9; background: #e8f5e9\">want<span style=\"vertical-align: middle; margin-left: 2px; font-size: 0.7em; color: #66bb6a;\">O</span></span> <span style=\"padding: 2px; border-radius: 4px; border: 1px solid #c8e6c9; background: #e8f5e9\">to<span style=\"vertical-align: middle; margin-left: 2px; font-size: 0.7em; color: #66bb6a;\">O</span></span> <span style=\"padding: 2px; border-radius: 4px; border: 1px solid #c8e6c9; background: #e8f5e9\">hold<span style=\"vertical-align: middle; margin-left: 2px; font-size: 0.7em; color: #66bb6a;\">O</span></span> <span style=\"padding: 2px; border-radius: 4px; border: 1px solid #c8e6c9; background: #e8f5e9\">his<span style=\"vertical-align: middle; margin-left: 2px; font-size: 0.7em; color: #66bb6a;\">O</span></span> <span style=\"padding: 2px; border-radius: 4px; border: 1px solid #c8e6c9; background: #e8f5e9\">administration<span style=\"vertical-align: middle; margin-left: 2px; font-size: 0.7em; color: #66bb6a;\">O</span></span> <span style=\"padding: 2px; border-radius: 4px; border: 1px solid #c8e6c9; background: #e8f5e9\">to<span style=\"vertical-align: middle; margin-left: 2px; font-size: 0.7em; color: #66bb6a;\">O</span></span> <span style=\"padding: 2px; border-radius: 4px; border: 1px solid #c8e6c9; background: #e8f5e9\">account<span style=\"vertical-align: middle; margin-left: 2px; font-size: 0.7em; color: #66bb6a;\">O</span></span> <span style=\"padding: 2px; border-radius: 4px; border: 1px solid #c8e6c9; background: #e8f5e9\">.<span style=\"vertical-align: middle; margin-left: 2px; font-size: 0.7em; color: #66bb6a;\">O</span></span></div>"
            ],
            "text/plain": [
              "<IPython.core.display.HTML object>"
            ]
          },
          "metadata": {
            "tags": []
          }
        },
        {
          "output_type": "display_data",
          "data": {
            "text/html": [
              "<div class=\"tex2jax_ignore\" style=\"white-space: pre-wrap\"><span style=\"padding: 2px; border-radius: 4px; border: 1px solid #bbdefb; background: #e3f2fd\">Donald<span style=\"vertical-align: middle; margin-left: 2px; font-size: 0.7em; color: #64b5f6;\">I-PER</span></span> <span style=\"padding: 2px; border-radius: 4px; border: 1px solid #bbdefb; background: #e3f2fd\">Trump<span style=\"vertical-align: middle; margin-left: 2px; font-size: 0.7em; color: #64b5f6;\">I-PER</span></span> <span style=\"padding: 2px; border-radius: 4px; border: 1px solid #c8e6c9; background: #e8f5e9\">,<span style=\"vertical-align: middle; margin-left: 2px; font-size: 0.7em; color: #66bb6a;\">O</span></span> <span style=\"padding: 2px; border-radius: 4px; border: 1px solid #c8e6c9; background: #e8f5e9\">who<span style=\"vertical-align: middle; margin-left: 2px; font-size: 0.7em; color: #66bb6a;\">O</span></span> <span style=\"padding: 2px; border-radius: 4px; border: 1px solid #c8e6c9; background: #e8f5e9\">is<span style=\"vertical-align: middle; margin-left: 2px; font-size: 0.7em; color: #66bb6a;\">O</span></span> <span style=\"padding: 2px; border-radius: 4px; border: 1px solid #c8e6c9; background: #e8f5e9\">campaigning<span style=\"vertical-align: middle; margin-left: 2px; font-size: 0.7em; color: #66bb6a;\">O</span></span> <span style=\"padding: 2px; border-radius: 4px; border: 1px solid #c8e6c9; background: #e8f5e9\">for<span style=\"vertical-align: middle; margin-left: 2px; font-size: 0.7em; color: #66bb6a;\">O</span></span> <span style=\"padding: 2px; border-radius: 4px; border: 1px solid #c8e6c9; background: #e8f5e9\">re<span style=\"vertical-align: middle; margin-left: 2px; font-size: 0.7em; color: #66bb6a;\">O</span></span> <span style=\"padding: 2px; border-radius: 4px; border: 1px solid #c8e6c9; background: #e8f5e9\">-<span style=\"vertical-align: middle; margin-left: 2px; font-size: 0.7em; color: #66bb6a;\">O</span></span> <span style=\"padding: 2px; border-radius: 4px; border: 1px solid #c8e6c9; background: #e8f5e9\">election<span style=\"vertical-align: middle; margin-left: 2px; font-size: 0.7em; color: #66bb6a;\">O</span></span> <span style=\"padding: 2px; border-radius: 4px; border: 1px solid #c8e6c9; background: #e8f5e9\">in<span style=\"vertical-align: middle; margin-left: 2px; font-size: 0.7em; color: #66bb6a;\">O</span></span> <span style=\"padding: 2px; border-radius: 4px; border: 1px solid #c8e6c9; background: #e8f5e9\">November<span style=\"vertical-align: middle; margin-left: 2px; font-size: 0.7em; color: #66bb6a;\">O</span></span> <span style=\"padding: 2px; border-radius: 4px; border: 1px solid #c8e6c9; background: #e8f5e9\">,<span style=\"vertical-align: middle; margin-left: 2px; font-size: 0.7em; color: #66bb6a;\">O</span></span> <span style=\"padding: 2px; border-radius: 4px; border: 1px solid #c8e6c9; background: #e8f5e9\">has<span style=\"vertical-align: middle; margin-left: 2px; font-size: 0.7em; color: #66bb6a;\">O</span></span> <span style=\"padding: 2px; border-radius: 4px; border: 1px solid #c8e6c9; background: #e8f5e9\">stepped<span style=\"vertical-align: middle; margin-left: 2px; font-size: 0.7em; color: #66bb6a;\">O</span></span> <span style=\"padding: 2px; border-radius: 4px; border: 1px solid #c8e6c9; background: #e8f5e9\">up<span style=\"vertical-align: middle; margin-left: 2px; font-size: 0.7em; color: #66bb6a;\">O</span></span> <span style=\"padding: 2px; border-radius: 4px; border: 1px solid #c8e6c9; background: #e8f5e9\">his<span style=\"vertical-align: middle; margin-left: 2px; font-size: 0.7em; color: #66bb6a;\">O</span></span> <span style=\"padding: 2px; border-radius: 4px; border: 1px solid #c8e6c9; background: #e8f5e9\">attacks<span style=\"vertical-align: middle; margin-left: 2px; font-size: 0.7em; color: #66bb6a;\">O</span></span> <span style=\"padding: 2px; border-radius: 4px; border: 1px solid #c8e6c9; background: #e8f5e9\">on<span style=\"vertical-align: middle; margin-left: 2px; font-size: 0.7em; color: #66bb6a;\">O</span></span> <span style=\"padding: 2px; border-radius: 4px; border: 1px solid #d1c4e9; background: #ede7f6\">China<span style=\"vertical-align: middle; margin-left: 2px; font-size: 0.7em; color: #9575cd;\">I-LOC</span></span> <span style=\"padding: 2px; border-radius: 4px; border: 1px solid #c8e6c9; background: #e8f5e9\">in<span style=\"vertical-align: middle; margin-left: 2px; font-size: 0.7em; color: #66bb6a;\">O</span></span> <span style=\"padding: 2px; border-radius: 4px; border: 1px solid #c8e6c9; background: #e8f5e9\">recent<span style=\"vertical-align: middle; margin-left: 2px; font-size: 0.7em; color: #66bb6a;\">O</span></span> <span style=\"padding: 2px; border-radius: 4px; border: 1px solid #c8e6c9; background: #e8f5e9\">weeks<span style=\"vertical-align: middle; margin-left: 2px; font-size: 0.7em; color: #66bb6a;\">O</span></span> <span style=\"padding: 2px; border-radius: 4px; border: 1px solid #c8e6c9; background: #e8f5e9\">,<span style=\"vertical-align: middle; margin-left: 2px; font-size: 0.7em; color: #66bb6a;\">O</span></span> <span style=\"padding: 2px; border-radius: 4px; border: 1px solid #c8e6c9; background: #e8f5e9\">blaming<span style=\"vertical-align: middle; margin-left: 2px; font-size: 0.7em; color: #66bb6a;\">O</span></span> <span style=\"padding: 2px; border-radius: 4px; border: 1px solid #c8e6c9; background: #e8f5e9\">it<span style=\"vertical-align: middle; margin-left: 2px; font-size: 0.7em; color: #66bb6a;\">O</span></span> <span style=\"padding: 2px; border-radius: 4px; border: 1px solid #c8e6c9; background: #e8f5e9\">for<span style=\"vertical-align: middle; margin-left: 2px; font-size: 0.7em; color: #66bb6a;\">O</span></span> <span style=\"padding: 2px; border-radius: 4px; border: 1px solid #c8e6c9; background: #e8f5e9\">the<span style=\"vertical-align: middle; margin-left: 2px; font-size: 0.7em; color: #66bb6a;\">O</span></span> <span style=\"padding: 2px; border-radius: 4px; border: 1px solid #c8e6c9; background: #e8f5e9\">spread<span style=\"vertical-align: middle; margin-left: 2px; font-size: 0.7em; color: #66bb6a;\">O</span></span> <span style=\"padding: 2px; border-radius: 4px; border: 1px solid #c8e6c9; background: #e8f5e9\">of<span style=\"vertical-align: middle; margin-left: 2px; font-size: 0.7em; color: #66bb6a;\">O</span></span> <span style=\"padding: 2px; border-radius: 4px; border: 1px solid #c8e6c9; background: #e8f5e9\">Covid-19<span style=\"vertical-align: middle; margin-left: 2px; font-size: 0.7em; color: #66bb6a;\">O</span></span> <span style=\"padding: 2px; border-radius: 4px; border: 1px solid #c8e6c9; background: #e8f5e9\">.<span style=\"vertical-align: middle; margin-left: 2px; font-size: 0.7em; color: #66bb6a;\">O</span></span></div>"
            ],
            "text/plain": [
              "<IPython.core.display.HTML object>"
            ]
          },
          "metadata": {
            "tags": []
          }
        },
        {
          "output_type": "display_data",
          "data": {
            "text/html": [
              "<div class=\"tex2jax_ignore\" style=\"white-space: pre-wrap\"><span style=\"padding: 2px; border-radius: 4px; border: 1px solid #c8e6c9; background: #e8f5e9\">The<span style=\"vertical-align: middle; margin-left: 2px; font-size: 0.7em; color: #66bb6a;\">O</span></span> <span style=\"padding: 2px; border-radius: 4px; border: 1px solid #c8e6c9; background: #e8f5e9\">team<span style=\"vertical-align: middle; margin-left: 2px; font-size: 0.7em; color: #66bb6a;\">O</span></span> <span style=\"padding: 2px; border-radius: 4px; border: 1px solid #c8e6c9; background: #e8f5e9\">led<span style=\"vertical-align: middle; margin-left: 2px; font-size: 0.7em; color: #66bb6a;\">O</span></span> <span style=\"padding: 2px; border-radius: 4px; border: 1px solid #c8e6c9; background: #e8f5e9\">by<span style=\"vertical-align: middle; margin-left: 2px; font-size: 0.7em; color: #66bb6a;\">O</span></span> <span style=\"padding: 2px; border-radius: 4px; border: 1px solid #bbdefb; background: #e3f2fd\">Fernando<span style=\"vertical-align: middle; margin-left: 2px; font-size: 0.7em; color: #64b5f6;\">I-PER</span></span> <span style=\"padding: 2px; border-radius: 4px; border: 1px solid #bbdefb; background: #e3f2fd\">Novas<span style=\"vertical-align: middle; margin-left: 2px; font-size: 0.7em; color: #64b5f6;\">I-PER</span></span> <span style=\"padding: 2px; border-radius: 4px; border: 1px solid #c8e6c9; background: #e8f5e9\">from<span style=\"vertical-align: middle; margin-left: 2px; font-size: 0.7em; color: #66bb6a;\">O</span></span> <span style=\"padding: 2px; border-radius: 4px; border: 1px solid #c8e6c9; background: #e8f5e9\">the<span style=\"vertical-align: middle; margin-left: 2px; font-size: 0.7em; color: #66bb6a;\">O</span></span> <span style=\"padding: 2px; border-radius: 4px; border: 1px solid #ffe0b2; background: #fff3e0\">Natural<span style=\"vertical-align: middle; margin-left: 2px; font-size: 0.7em; color: #ffb74d;\">I-MISC</span></span> <span style=\"padding: 2px; border-radius: 4px; border: 1px solid #ffe0b2; background: #fff3e0\">Sciences<span style=\"vertical-align: middle; margin-left: 2px; font-size: 0.7em; color: #ffb74d;\">I-MISC</span></span> <span style=\"padding: 2px; border-radius: 4px; border: 1px solid #ffe0b2; background: #fff3e0\">Museum<span style=\"vertical-align: middle; margin-left: 2px; font-size: 0.7em; color: #ffb74d;\">I-MISC</span></span> <span style=\"padding: 2px; border-radius: 4px; border: 1px solid #c8e6c9; background: #e8f5e9\">in<span style=\"vertical-align: middle; margin-left: 2px; font-size: 0.7em; color: #66bb6a;\">O</span></span> <span style=\"padding: 2px; border-radius: 4px; border: 1px solid #d1c4e9; background: #ede7f6\">Buenos<span style=\"vertical-align: middle; margin-left: 2px; font-size: 0.7em; color: #9575cd;\">I-LOC</span></span> <span style=\"padding: 2px; border-radius: 4px; border: 1px solid #d1c4e9; background: #ede7f6\">Aires<span style=\"vertical-align: middle; margin-left: 2px; font-size: 0.7em; color: #9575cd;\">I-LOC</span></span> <span style=\"padding: 2px; border-radius: 4px; border: 1px solid #c8e6c9; background: #e8f5e9\">discovered<span style=\"vertical-align: middle; margin-left: 2px; font-size: 0.7em; color: #66bb6a;\">O</span></span> <span style=\"padding: 2px; border-radius: 4px; border: 1px solid #c8e6c9; background: #e8f5e9\">many<span style=\"vertical-align: middle; margin-left: 2px; font-size: 0.7em; color: #66bb6a;\">O</span></span> <span style=\"padding: 2px; border-radius: 4px; border: 1px solid #c8e6c9; background: #e8f5e9\">fossils<span style=\"vertical-align: middle; margin-left: 2px; font-size: 0.7em; color: #66bb6a;\">O</span></span> <span style=\"padding: 2px; border-radius: 4px; border: 1px solid #c8e6c9; background: #e8f5e9\">during<span style=\"vertical-align: middle; margin-left: 2px; font-size: 0.7em; color: #66bb6a;\">O</span></span> <span style=\"padding: 2px; border-radius: 4px; border: 1px solid #c8e6c9; background: #e8f5e9\">its<span style=\"vertical-align: middle; margin-left: 2px; font-size: 0.7em; color: #66bb6a;\">O</span></span> <span style=\"padding: 2px; border-radius: 4px; border: 1px solid #c8e6c9; background: #e8f5e9\">month<span style=\"vertical-align: middle; margin-left: 2px; font-size: 0.7em; color: #66bb6a;\">O</span></span> <span style=\"padding: 2px; border-radius: 4px; border: 1px solid #c8e6c9; background: #e8f5e9\">-<span style=\"vertical-align: middle; margin-left: 2px; font-size: 0.7em; color: #66bb6a;\">O</span></span> <span style=\"padding: 2px; border-radius: 4px; border: 1px solid #c8e6c9; background: #e8f5e9\">long<span style=\"vertical-align: middle; margin-left: 2px; font-size: 0.7em; color: #66bb6a;\">O</span></span> <span style=\"padding: 2px; border-radius: 4px; border: 1px solid #c8e6c9; background: #e8f5e9\">field<span style=\"vertical-align: middle; margin-left: 2px; font-size: 0.7em; color: #66bb6a;\">O</span></span> <span style=\"padding: 2px; border-radius: 4px; border: 1px solid #c8e6c9; background: #e8f5e9\">work<span style=\"vertical-align: middle; margin-left: 2px; font-size: 0.7em; color: #66bb6a;\">O</span></span> <span style=\"padding: 2px; border-radius: 4px; border: 1px solid #c8e6c9; background: #e8f5e9\">in<span style=\"vertical-align: middle; margin-left: 2px; font-size: 0.7em; color: #66bb6a;\">O</span></span> <span style=\"padding: 2px; border-radius: 4px; border: 1px solid #d1c4e9; background: #ede7f6\">Estancia<span style=\"vertical-align: middle; margin-left: 2px; font-size: 0.7em; color: #9575cd;\">I-LOC</span></span> <span style=\"padding: 2px; border-radius: 4px; border: 1px solid #d1c4e9; background: #ede7f6\">La<span style=\"vertical-align: middle; margin-left: 2px; font-size: 0.7em; color: #9575cd;\">I-LOC</span></span> <span style=\"padding: 2px; border-radius: 4px; border: 1px solid #d1c4e9; background: #ede7f6\">Anita<span style=\"vertical-align: middle; margin-left: 2px; font-size: 0.7em; color: #9575cd;\">I-LOC</span></span> <span style=\"padding: 2px; border-radius: 4px; border: 1px solid #c8e6c9; background: #e8f5e9\">,<span style=\"vertical-align: middle; margin-left: 2px; font-size: 0.7em; color: #66bb6a;\">O</span></span> <span style=\"padding: 2px; border-radius: 4px; border: 1px solid #c8e6c9; background: #e8f5e9\">in<span style=\"vertical-align: middle; margin-left: 2px; font-size: 0.7em; color: #66bb6a;\">O</span></span> <span style=\"padding: 2px; border-radius: 4px; border: 1px solid #c8e6c9; background: #e8f5e9\">southern<span style=\"vertical-align: middle; margin-left: 2px; font-size: 0.7em; color: #66bb6a;\">O</span></span> <span style=\"padding: 2px; border-radius: 4px; border: 1px solid #d1c4e9; background: #ede7f6\">Santa<span style=\"vertical-align: middle; margin-left: 2px; font-size: 0.7em; color: #9575cd;\">I-LOC</span></span> <span style=\"padding: 2px; border-radius: 4px; border: 1px solid #d1c4e9; background: #ede7f6\">Cruz<span style=\"vertical-align: middle; margin-left: 2px; font-size: 0.7em; color: #9575cd;\">I-LOC</span></span> <span style=\"padding: 2px; border-radius: 4px; border: 1px solid #c8e6c9; background: #e8f5e9\">province<span style=\"vertical-align: middle; margin-left: 2px; font-size: 0.7em; color: #66bb6a;\">O</span></span> <span style=\"padding: 2px; border-radius: 4px; border: 1px solid #c8e6c9; background: #e8f5e9\">.<span style=\"vertical-align: middle; margin-left: 2px; font-size: 0.7em; color: #66bb6a;\">O</span></span></div>"
            ],
            "text/plain": [
              "<IPython.core.display.HTML object>"
            ]
          },
          "metadata": {
            "tags": []
          }
        },
        {
          "output_type": "display_data",
          "data": {
            "text/html": [
              "<div class=\"tex2jax_ignore\" style=\"white-space: pre-wrap\"><span style=\"padding: 2px; border-radius: 4px; border: 1px solid #c8e6c9; background: #e8f5e9\">The<span style=\"vertical-align: middle; margin-left: 2px; font-size: 0.7em; color: #66bb6a;\">O</span></span> <span style=\"padding: 2px; border-radius: 4px; border: 1px solid #c8e6c9; background: #e8f5e9\">rehearsal<span style=\"vertical-align: middle; margin-left: 2px; font-size: 0.7em; color: #66bb6a;\">O</span></span> <span style=\"padding: 2px; border-radius: 4px; border: 1px solid #c8e6c9; background: #e8f5e9\">at<span style=\"vertical-align: middle; margin-left: 2px; font-size: 0.7em; color: #66bb6a;\">O</span></span> <span style=\"padding: 2px; border-radius: 4px; border: 1px solid #bbdefb; background: #e3f2fd\">Kennedy<span style=\"vertical-align: middle; margin-left: 2px; font-size: 0.7em; color: #64b5f6;\">I-PER</span></span> <span style=\"padding: 2px; border-radius: 4px; border: 1px solid #bbdefb; background: #e3f2fd\">Space<span style=\"vertical-align: middle; margin-left: 2px; font-size: 0.7em; color: #64b5f6;\">I-PER</span></span> <span style=\"padding: 2px; border-radius: 4px; border: 1px solid #bbdefb; background: #e3f2fd\">Center<span style=\"vertical-align: middle; margin-left: 2px; font-size: 0.7em; color: #64b5f6;\">I-PER</span></span> <span style=\"padding: 2px; border-radius: 4px; border: 1px solid #c8e6c9; background: #e8f5e9\">saw<span style=\"vertical-align: middle; margin-left: 2px; font-size: 0.7em; color: #66bb6a;\">O</span></span> <span style=\"padding: 2px; border-radius: 4px; border: 1px solid #c8e6c9; background: #e8f5e9\">a<span style=\"vertical-align: middle; margin-left: 2px; font-size: 0.7em; color: #66bb6a;\">O</span></span> <span style=\"padding: 2px; border-radius: 4px; border: 1px solid #c8e6c9; background: #e8f5e9\">Falcon-9<span style=\"vertical-align: middle; margin-left: 2px; font-size: 0.7em; color: #66bb6a;\">O</span></span> <span style=\"padding: 2px; border-radius: 4px; border: 1px solid #c8e6c9; background: #e8f5e9\">vehicle<span style=\"vertical-align: middle; margin-left: 2px; font-size: 0.7em; color: #66bb6a;\">O</span></span> <span style=\"padding: 2px; border-radius: 4px; border: 1px solid #c8e6c9; background: #e8f5e9\">&#x27;s<span style=\"vertical-align: middle; margin-left: 2px; font-size: 0.7em; color: #66bb6a;\">O</span></span> <span style=\"padding: 2px; border-radius: 4px; border: 1px solid #c8e6c9; background: #e8f5e9\">ascent<span style=\"vertical-align: middle; margin-left: 2px; font-size: 0.7em; color: #66bb6a;\">O</span></span> <span style=\"padding: 2px; border-radius: 4px; border: 1px solid #c8e6c9; background: #e8f5e9\">into<span style=\"vertical-align: middle; margin-left: 2px; font-size: 0.7em; color: #66bb6a;\">O</span></span> <span style=\"padding: 2px; border-radius: 4px; border: 1px solid #c8e6c9; background: #e8f5e9\">the<span style=\"vertical-align: middle; margin-left: 2px; font-size: 0.7em; color: #66bb6a;\">O</span></span> <span style=\"padding: 2px; border-radius: 4px; border: 1px solid #c8e6c9; background: #e8f5e9\">sky<span style=\"vertical-align: middle; margin-left: 2px; font-size: 0.7em; color: #66bb6a;\">O</span></span> <span style=\"padding: 2px; border-radius: 4px; border: 1px solid #c8e6c9; background: #e8f5e9\">deliberately<span style=\"vertical-align: middle; margin-left: 2px; font-size: 0.7em; color: #66bb6a;\">O</span></span> <span style=\"padding: 2px; border-radius: 4px; border: 1px solid #c8e6c9; background: #e8f5e9\">terminated<span style=\"vertical-align: middle; margin-left: 2px; font-size: 0.7em; color: #66bb6a;\">O</span></span> <span style=\"padding: 2px; border-radius: 4px; border: 1px solid #c8e6c9; background: #e8f5e9\">just<span style=\"vertical-align: middle; margin-left: 2px; font-size: 0.7em; color: #66bb6a;\">O</span></span> <span style=\"padding: 2px; border-radius: 4px; border: 1px solid #c8e6c9; background: #e8f5e9\">80<span style=\"vertical-align: middle; margin-left: 2px; font-size: 0.7em; color: #66bb6a;\">O</span></span> <span style=\"padding: 2px; border-radius: 4px; border: 1px solid #c8e6c9; background: #e8f5e9\">seconds<span style=\"vertical-align: middle; margin-left: 2px; font-size: 0.7em; color: #66bb6a;\">O</span></span> <span style=\"padding: 2px; border-radius: 4px; border: 1px solid #c8e6c9; background: #e8f5e9\">after<span style=\"vertical-align: middle; margin-left: 2px; font-size: 0.7em; color: #66bb6a;\">O</span></span> <span style=\"padding: 2px; border-radius: 4px; border: 1px solid #c8e6c9; background: #e8f5e9\">lift<span style=\"vertical-align: middle; margin-left: 2px; font-size: 0.7em; color: #66bb6a;\">O</span></span> <span style=\"padding: 2px; border-radius: 4px; border: 1px solid #c8e6c9; background: #e8f5e9\">-<span style=\"vertical-align: middle; margin-left: 2px; font-size: 0.7em; color: #66bb6a;\">O</span></span> <span style=\"padding: 2px; border-radius: 4px; border: 1px solid #c8e6c9; background: #e8f5e9\">off<span style=\"vertical-align: middle; margin-left: 2px; font-size: 0.7em; color: #66bb6a;\">O</span></span> <span style=\"padding: 2px; border-radius: 4px; border: 1px solid #c8e6c9; background: #e8f5e9\">.<span style=\"vertical-align: middle; margin-left: 2px; font-size: 0.7em; color: #66bb6a;\">O</span></span></div>"
            ],
            "text/plain": [
              "<IPython.core.display.HTML object>"
            ]
          },
          "metadata": {
            "tags": []
          }
        }
      ]
    },
    {
      "cell_type": "code",
      "metadata": {
        "id": "0TxnNyQs0c8P",
        "colab_type": "code",
        "colab": {}
      },
      "source": [
        ""
      ],
      "execution_count": 0,
      "outputs": []
    }
  ]
}