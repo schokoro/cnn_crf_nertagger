{
 "cells": [
  {
   "cell_type": "markdown",
   "metadata": {
    "colab_type": "text",
    "id": "view-in-github"
   },
   "source": [
    "<a href=\"https://colab.research.google.com/github/schokoro/cnn_crf_nertagger/blob/master/NER_tagger.ipynb\" target=\"_parent\"><img src=\"https://colab.research.google.com/assets/colab-badge.svg\" alt=\"Open In Colab\"/></a>"
   ]
  },
  {
   "cell_type": "markdown",
   "metadata": {
    "colab_type": "text",
    "id": "p_aAUmhzgFqt"
   },
   "source": [
    "# CNN и CRF для извлечения именованных сущностей\n",
    "\n"
   ]
  },
  {
   "cell_type": "code",
   "execution_count": null,
   "metadata": {
    "colab": {
     "base_uri": "https://localhost:8080/",
     "height": 33
    },
    "colab_type": "code",
    "id": "kVSH61-2h4l6",
    "outputId": "3b33989e-dc5a-4718-fdd4-0139f55eaf3b"
   },
   "outputs": [],
   "source": [
    "import torch"
   ]
  },
  {
   "cell_type": "code",
   "execution_count": null,
   "metadata": {
    "colab": {
     "base_uri": "https://localhost:8080/",
     "height": 33
    },
    "colab_type": "code",
    "id": "kVSH61-2h4l6",
    "outputId": "3b33989e-dc5a-4718-fdd4-0139f55eaf3b"
   },
   "outputs": [],
   "source": [
    "device = torch.device(\"cuda:0\" if torch.cuda.is_available() else \"cpu\")\n",
    "device"
   ]
  },
  {
   "cell_type": "code",
   "execution_count": null,
   "metadata": {
    "colab": {
     "base_uri": "https://localhost:8080/",
     "height": 33
    },
    "colab_type": "code",
    "id": "kVSH61-2h4l6",
    "outputId": "3b33989e-dc5a-4718-fdd4-0139f55eaf3b"
   },
   "outputs": [],
   "source": [
    "if device == 'cpu':\n",
    "    print('cpu')\n",
    "else:\n",
    "    n_gpu = torch.cuda.device_count()\n",
    "    print(torch.cuda.get_device_name(0))\n",
    "    "
   ]
  },
  {
   "cell_type": "raw",
   "metadata": {
    "colab": {},
    "colab_type": "code",
    "id": "yS5uM1WVOCz8"
   },
   "source": [
    "import sys\n",
    "sys.path.append('/content/cnn_crf_nertagger')"
   ]
  },
  {
   "cell_type": "code",
   "execution_count": null,
   "metadata": {},
   "outputs": [],
   "source": [
    "import sys\n",
    "sys.path.append('cnn_crf_nertagger')"
   ]
  },
  {
   "cell_type": "raw",
   "metadata": {
    "colab": {
     "base_uri": "https://localhost:8080/",
     "height": 98
    },
    "colab_type": "code",
    "id": "2BZw4sQ4gFrj",
    "outputId": "1848e4cd-85fb-48c6-a09a-1f1d208ab1e5"
   },
   "source": [
    "!rm -rf cnn_crf_nertagger/\n",
    "!git clone -b dev https://github.com/schokoro/cnn_crf_nertagger.git > /dev/null\n",
    "!pip install allennlp wget youtokentome ipymarkup seqeval livelossplot> /dev/null\n"
   ]
  },
  {
   "cell_type": "code",
   "execution_count": null,
   "metadata": {
    "ExecuteTime": {
     "end_time": "2019-10-29T19:49:34.549739Z",
     "start_time": "2019-10-29T19:49:32.179692Z"
    },
    "colab": {},
    "colab_type": "code",
    "id": "ol61j2fHgFsh"
   },
   "outputs": [],
   "source": [
    "%load_ext autoreload\n",
    "%autoreload 2\n",
    "\n",
    "import spacy\n",
    "import warnings\n",
    "warnings.filterwarnings('ignore')\n",
    "import numpy as np\n",
    "from torch.nn import functional as F\n",
    "from torch.utils.data import TensorDataset\n",
    "from allennlp.data.dataset_readers.conll2003 import Conll2003DatasetReader\n",
    "from allennlp.common.util import ensure_list\n",
    "# from allennlp.data.vocabulary import Vocabulary\n",
    "from allennlp.training.metrics import SpanBasedF1Measure\n",
    "from torch import nn\n",
    "from torch.nn import functional as F\n",
    "# from torch.utils.data import TensorDataset\n",
    "from pdb import set_trace\n",
    "from gc import collect\n",
    "from tqdm.auto import tqdm, trange\n",
    "import wget\n",
    "from multiprocessing import cpu_count\n",
    "import cnn_crf_nertagger\n",
    "from cnn_crf_nertagger.modules.modules import NERTaggerModel, NERTagger\n",
    "from cnn_crf_nertagger.utils.pipeline import train_eval_loop, predict_with_model\n",
    "from cnn_crf_nertagger.utils.prepare import tag_corpus_to_tensor, tokenize_corpus, make_yttm_tokenizer, highlight_text, tensor_to_tags, ConllDataset\n",
    "from os import path, listdir\n",
    "import pandas as pd\n",
    "import seaborn as sns\n",
    "from matplotlib import rcParams\n",
    "from seqeval.metrics import classification_report\n",
    "sns.set()\n",
    "%matplotlib inline\n",
    "\n",
    "rcParams['figure.figsize'] = 12, 12\n",
    "torch.backends.cudnn.deterministic=False "
   ]
  },
  {
   "cell_type": "markdown",
   "metadata": {
    "colab_type": "text",
    "id": "inP4QwcDgFs3"
   },
   "source": [
    "## Подготовка данных\n",
    "\n"
   ]
  },
  {
   "cell_type": "markdown",
   "metadata": {
    "colab_type": "text",
    "id": "aXvdhaF5nPcQ"
   },
   "source": [
    "\n",
    "### Загружаем корпуса"
   ]
  },
  {
   "cell_type": "raw",
   "metadata": {
    "colab": {
     "base_uri": "https://localhost:8080/",
     "height": 33
    },
    "colab_type": "code",
    "id": "7HUaGBS4nD1g",
    "outputId": "4d960e93-32ed-496a-d32f-351887b038cc"
   },
   "source": [
    "!rm -fv /content/cnn_crf_nertagger/data/*\n"
   ]
  },
  {
   "cell_type": "code",
   "execution_count": null,
   "metadata": {
    "ExecuteTime": {
     "end_time": "2019-10-29T19:49:56.525561Z",
     "start_time": "2019-10-29T19:49:37.315213Z"
    },
    "colab": {},
    "colab_type": "code",
    "id": "uo0ZTJ1FgFti"
   },
   "outputs": [],
   "source": [
    "data_path = 'data'\n",
    "path_data = f'./data/'\n",
    "path_train = f'{data_path}/eng.train'\n",
    "path_valid = f'{data_path}/eng.testa'\n",
    "path_test = f'{data_path}/eng.testb'\n",
    "\n",
    "# dataset_urls = {\n",
    "#     'eng.testa': 'https://raw.githubusercontent.com/synalp/NER/master/corpus/CoNLL-2003/eng.testa',\n",
    "#     'eng.testb': 'https://raw.githubusercontent.com/synalp/NER/master/corpus/CoNLL-2003/eng.testb',\n",
    "#     'eng.train': 'https://raw.githubusercontent.com/synalp/NER/master/corpus/CoNLL-2003/eng.train'}\n",
    "# for file_name in dataset_urls:\n",
    "#     wget.download(dataset_urls[file_name], path.join(path_data, file_name))"
   ]
  },
  {
   "cell_type": "code",
   "execution_count": null,
   "metadata": {
    "colab": {
     "base_uri": "https://localhost:8080/",
     "height": 98
    },
    "colab_type": "code",
    "id": "r6AABrk05iiC",
    "outputId": "1d863752-6f5e-4799-8889-8fa5445405b0"
   },
   "outputs": [],
   "source": [
    "%%time\n",
    "conll_reader = Conll2003DatasetReader()\n",
    "train_conll = ensure_list(conll_reader.read(path_train))\n",
    "valid_conll = ensure_list(conll_reader.read(path_valid))\n",
    "test_conll = ensure_list(conll_reader.read(path_test))"
   ]
  },
  {
   "cell_type": "code",
   "execution_count": null,
   "metadata": {
    "colab": {
     "base_uri": "https://localhost:8080/",
     "height": 33
    },
    "colab_type": "code",
    "id": "WCYr630b8O5w",
    "outputId": "841762c3-26d7-476c-fce1-bac2e2d9e68b"
   },
   "outputs": [],
   "source": [
    "all_conll = train_conll + valid_conll + test_conll\n",
    "len(all_conll), len(train_conll), len(valid_conll), len(test_conll)"
   ]
  },
  {
   "cell_type": "markdown",
   "metadata": {
    "colab_type": "text",
    "id": "LeAP6B5WfzoR"
   },
   "source": [
    "### Готовим словари соответсвия тег-id и bpe - токенизатор\n",
    "\n"
   ]
  },
  {
   "cell_type": "code",
   "execution_count": null,
   "metadata": {
    "colab": {
     "base_uri": "https://localhost:8080/",
     "height": 33
    },
    "colab_type": "code",
    "id": "joAECv5_8htA",
    "outputId": "c284860d-53cf-4fd5-8e82-2982e8d4e6b4"
   },
   "outputs": [],
   "source": [
    "tags = set()\n",
    "tokens = set()\n",
    "\n",
    "max_sent_len = 0\n",
    "for instance in all_conll[: ]:\n",
    "    if len(instance['tokens']) >  max_sent_len:\n",
    "        max_sent_len = len(instance['tokens'])\n",
    "    tags.update(instance['tags'])\n",
    "    tokens.update([t.text for t in instance['tokens']])\n",
    "    \n",
    "print(f'Максимальная длина предложения: {max_sent_len} токенов')"
   ]
  },
  {
   "cell_type": "code",
   "execution_count": null,
   "metadata": {},
   "outputs": [],
   "source": []
  },
  {
   "cell_type": "code",
   "execution_count": null,
   "metadata": {
    "colab": {
     "base_uri": "https://localhost:8080/",
     "height": 50
    },
    "colab_type": "code",
    "id": "l75L7ILeme3k",
    "outputId": "0239b0e1-55c7-4ad5-97b7-94215e40582b"
   },
   "outputs": [],
   "source": [
    "%time bpe_tokenizer = make_yttm_tokenizer(train_conll, 400)"
   ]
  },
  {
   "cell_type": "code",
   "execution_count": null,
   "metadata": {
    "colab": {
     "base_uri": "https://localhost:8080/",
     "height": 113,
     "referenced_widgets": [
      "81346ae859874463a1a3ccf53d6e08f6",
      "38398f962793460db46f9a14739ec324",
      "3adfaf84860a4aed8e0881aac74d66b9",
      "999de6917a584c209497eb48c9782025",
      "6f87dd817a4e4cb5a87d68a19a7c2200",
      "f866fa72b3024555b8ab26e46fdfd7dd",
      "3cc329f62dc24361a6442ea13387d52f",
      "0713b549e7de43abb728a232cafd53f6"
     ]
    },
    "colab_type": "code",
    "id": "SaDuu3t_8hqd",
    "outputId": "0f440a50-412b-40f1-caee-0bde8f0ac710"
   },
   "outputs": [],
   "source": [
    "%%time\n",
    "max_token_len = 0\n",
    "for p in trange(101):\n",
    "    len_tokens = [len(bpe_tokenizer.encode(token, dropout_prob=p/100))  for token in tokens]\n",
    "    if max(len_tokens) > max_token_len:\n",
    "        p_dropout = .01 * p\n",
    "        max_token_len = max(len_tokens)\n",
    "\n",
    "print(f'Максимальная длина токена: {max_token_len} субтокенов при вероятности дропаута {p_dropout}')"
   ]
  },
  {
   "cell_type": "code",
   "execution_count": null,
   "metadata": {
    "ExecuteTime": {
     "end_time": "2019-10-29T19:49:58.524125Z",
     "start_time": "2019-10-29T19:49:58.125577Z"
    },
    "colab": {},
    "colab_type": "code",
    "id": "WzDDott3gFul"
   },
   "outputs": [],
   "source": [
    "tag2id = {tag: num for num, tag in enumerate(['<NOTAG>'] + list(tags))}"
   ]
  },
  {
   "cell_type": "markdown",
   "metadata": {
    "colab_type": "text",
    "id": "AiqJ56QiAsZF"
   },
   "source": [
    "В датасете присутствует очень мало тегов вида B-XXX. Попробуем чуть размножить предложения с этими тегами. Использование дропаута в bpe внесёт немного разнообразия в эти предложения."
   ]
  },
  {
   "cell_type": "code",
   "execution_count": null,
   "metadata": {
    "colab": {},
    "colab_type": "code",
    "id": "-OFmMzN9Fo-M"
   },
   "outputs": [],
   "source": []
  },
  {
   "cell_type": "code",
   "execution_count": null,
   "metadata": {
    "colab": {
     "base_uri": "https://localhost:8080/",
     "height": 50
    },
    "colab_type": "code",
    "id": "bL-haaq9GD26",
    "outputId": "ba730c86-3353-4e04-9707-9e01cb63e7b4"
   },
   "outputs": [],
   "source": [
    "%%time\n",
    "BPE_DROPOUT = .25\n",
    "train_dataset = ConllDataset(train_conll, bpe_tokenizer, tag2id, max_sent_len, max_token_len, 50, BPE_DROPOUT)\n",
    "valid_dataset = ConllDataset(valid_conll, bpe_tokenizer, tag2id, max_sent_len, max_token_len)\n",
    "test_dataset = ConllDataset(test_conll, bpe_tokenizer, tag2id, max_sent_len, max_token_len)\n"
   ]
  },
  {
   "cell_type": "code",
   "execution_count": null,
   "metadata": {
    "colab": {
     "base_uri": "https://localhost:8080/",
     "height": 33
    },
    "colab_type": "code",
    "id": "EdK-vuKoVpen",
    "outputId": "76eda54e-448a-402f-f08e-a5c8cae2e855"
   },
   "outputs": [],
   "source": [
    "len(train_dataset), len(valid_dataset), len(test_dataset) "
   ]
  },
  {
   "cell_type": "markdown",
   "metadata": {
    "colab_type": "text",
    "id": "V0KNokGoadtA"
   },
   "source": [
    "## Создаём и обучаем сеть"
   ]
  },
  {
   "cell_type": "code",
   "execution_count": null,
   "metadata": {
    "colab": {},
    "colab_type": "code",
    "id": "U5k4Z4b6craL"
   },
   "outputs": [],
   "source": [
    "models_path = './models/best_model.pth'"
   ]
  },
  {
   "cell_type": "code",
   "execution_count": null,
   "metadata": {
    "colab": {
     "base_uri": "https://localhost:8080/",
     "height": 33
    },
    "colab_type": "code",
    "id": "DfRjCwqZu4BW",
    "outputId": "7b89be9c-d320-4ac1-9450-d94f9fd22139"
   },
   "outputs": [],
   "source": [
    "try:\n",
    "    del model    \n",
    "    collect()\n",
    "except:\n",
    "    print('no model')\n",
    "finally:\n",
    "    torch.cuda.empty_cache()\n"
   ]
  },
  {
   "cell_type": "markdown",
   "metadata": {
    "colab_type": "text",
    "id": "yYZiVrJYFCC1"
   },
   "source": [
    "Сеть состоит из двух однотипных свёрточных блоков и CRF. На первом уровне мы осуществляем свёртку над субтокенами и делаем глобал-пуллинг. Затем получившиеся эмбедденги токенов передаём на следующий свёрточный блок. Он значительно глубже, чтобы увеличить рецептивное поле. Выход второго блока передаём в CRF, который возвращает нам `log-likelihood`."
   ]
  },
  {
   "cell_type": "code",
   "execution_count": null,
   "metadata": {
    "ExecuteTime": {
     "end_time": "2019-10-29T19:47:48.326925Z",
     "start_time": "2019-10-29T19:46:50.310Z"
    },
    "colab": {
     "base_uri": "https://localhost:8080/",
     "height": 33
    },
    "colab_type": "code",
    "id": "jj9cwrRBgFwR",
    "outputId": "e5af8cd8-be27-4880-ed18-45cfe0eb7dea"
   },
   "outputs": [],
   "source": [
    "torch.cuda.empty_cache()\n",
    "model = NERTaggerModel(len(bpe_tokenizer.vocab()), len(tag2id), tag2id, embedding_size=64,\n",
    "                                              single_backbone_kwargs=dict(layers_n=3, kernel_size=3, dropout=0.2, dilation=[1, 1, 1]),\n",
    "                                              context_backbone_kwargs=dict(layers_n=6, kernel_size=3, dropout=0.1, dilation=[1, 1, 1, 2, 2 , 2]))\n",
    "print('Количество параметров', sum(np.product(t.shape) for t in model.parameters()))"
   ]
  },
  {
   "cell_type": "code",
   "execution_count": null,
   "metadata": {
    "colab": {},
    "colab_type": "code",
    "id": "luP8K58IIlw8"
   },
   "outputs": [],
   "source": [
    "# try:\n",
    "#     model.load_state_dict(torch.load(models_path))\n",
    "# except:\n",
    "#     print('no model')"
   ]
  },
  {
   "cell_type": "code",
   "execution_count": null,
   "metadata": {
    "colab": {},
    "colab_type": "code",
    "id": "1lRzQca4fXdc"
   },
   "outputs": [],
   "source": [
    "losses = {}"
   ]
  },
  {
   "cell_type": "code",
   "execution_count": null,
   "metadata": {
    "ExecuteTime": {
     "end_time": "2019-10-29T19:47:48.327888Z",
     "start_time": "2019-10-29T19:46:50.737Z"
    },
    "colab": {
     "base_uri": "https://localhost:8080/",
     "height": 1000
    },
    "colab_type": "code",
    "id": "4aa02MY9gFwZ",
    "outputId": "13bfd219-f872-40d0-d10b-1f87b0b5cdf6"
   },
   "outputs": [],
   "source": [
    "(best_val_loss,\n",
    " best_model,\n",
    " losses) = train_eval_loop(\n",
    "    model,\n",
    "    train_dataset,\n",
    "    valid_dataset,\n",
    "    lr=5e-3,\n",
    "    epoch_n=200,\n",
    "    batch_size=400,\n",
    "    device=device,\n",
    "    early_stopping_patience=8,\n",
    "    l2_reg_alpha = 1e-6,\n",
    "    max_batches_per_epoch_train=50,\n",
    "    max_batches_per_epoch_val=50,\n",
    "    dataloader_workers_n=cpu_count(),\n",
    "    # optimizer_ctor=lambda params: torch.optim.SGD(\n",
    "    #     params,\n",
    "    #     lr=4e-3,\n",
    "    #     momentum=0.9,\n",
    "    #     weight_decay=1e-6\n",
    "    # ),\n",
    "    lr_scheduler_ctor=lambda optim: torch.optim.lr_scheduler.ReduceLROnPlateau(\n",
    "        optim, patience=4,\n",
    "        factor=0.1,\n",
    "        threshold=1e-2,\n",
    "        verbose=True,\n",
    "        min_lr=1e-7),\n",
    "    verbose_batch=False,\n",
    "    verbose_liveloss=False,\n",
    "    prev_loss=losses\n",
    ")\n",
    " \n",
    "torch.save(best_model.state_dict(), models_path)"
   ]
  },
  {
   "cell_type": "code",
   "execution_count": null,
   "metadata": {
    "colab": {
     "base_uri": "https://localhost:8080/",
     "height": 702
    },
    "colab_type": "code",
    "id": "ghe0zoP4c3vt",
    "outputId": "db6de453-515c-4715-fbda-dc9f0f1dc718"
   },
   "outputs": [],
   "source": [
    "pd.DataFrame(losses).plot();"
   ]
  },
  {
   "cell_type": "code",
   "execution_count": null,
   "metadata": {
    "ExecuteTime": {
     "end_time": "2019-08-29T13:56:16.564926Z",
     "start_time": "2019-08-29T13:56:16.544481Z"
    },
    "colab": {
     "base_uri": "https://localhost:8080/",
     "height": 33
    },
    "colab_type": "code",
    "id": "j6_Z8S3SgFwn",
    "outputId": "4a9ae5cb-c9e8-4789-bd79-fcb5e64d59f7"
   },
   "outputs": [],
   "source": [
    "model.load_state_dict(torch.load(models_path))"
   ]
  },
  {
   "cell_type": "markdown",
   "metadata": {
    "colab_type": "text",
    "id": "9yBwoQnWypb5"
   },
   "source": [
    "## Проверки"
   ]
  },
  {
   "cell_type": "code",
   "execution_count": null,
   "metadata": {
    "colab": {},
    "colab_type": "code",
    "id": "rDx8tvIeyoe0"
   },
   "outputs": [],
   "source": [
    "id2tag = {item[1]: item[0] for item in tag2id.items()}\n",
    "UNIQUE_TAGS = [id2tag[i] for i in range(len(tag2id))]\n"
   ]
  },
  {
   "cell_type": "markdown",
   "metadata": {
    "colab_type": "text",
    "id": "vaq1J92ryPNx"
   },
   "source": [
    "### Проверка - train"
   ]
  },
  {
   "cell_type": "code",
   "execution_count": null,
   "metadata": {
    "colab": {
     "base_uri": "https://localhost:8080/",
     "height": 50
    },
    "colab_type": "code",
    "id": "jrgKw3hxYiS5",
    "outputId": "6257af79-1f76-41d2-aef6-d038353dd592"
   },
   "outputs": [],
   "source": [
    "%%time \n",
    "train_targets = [item[1] for item in train_dataset]\n",
    "train_targets = torch.stack(train_targets)\n",
    "train_targets.shape"
   ]
  },
  {
   "cell_type": "code",
   "execution_count": null,
   "metadata": {
    "colab": {
     "base_uri": "https://localhost:8080/",
     "height": 326
    },
    "colab_type": "code",
    "id": "3aNr47CYdSFa",
    "outputId": "12239ba9-f358-40fc-f00a-7fc9a0329509"
   },
   "outputs": [],
   "source": [
    "train_pred = predict_with_model(model, train_dataset)\n",
    "train_golden_tags = tensor_to_tags(train_targets, id2tag)\n",
    "train_pred_tags = tensor_to_tags(train_pred, id2tag)\n",
    "print(classification_report(train_golden_tags, train_pred_tags, digits=4))\n",
    "print(classification_report(train_golden_tags, train_pred_tags, digits=4, suffix=True))\n"
   ]
  },
  {
   "cell_type": "markdown",
   "metadata": {
    "colab_type": "text",
    "id": "5p2jdVB-yUHQ"
   },
   "source": [
    "### Проверка - valid"
   ]
  },
  {
   "cell_type": "code",
   "execution_count": null,
   "metadata": {
    "colab": {
     "base_uri": "https://localhost:8080/",
     "height": 50
    },
    "colab_type": "code",
    "id": "dvJuUNPzaG35",
    "outputId": "3dbebbd8-e013-423f-e9fe-18d641a7e528"
   },
   "outputs": [],
   "source": [
    "%%time \n",
    "valid_targets = [item[1] for item in valid_dataset]\n",
    "valid_targets = torch.stack(valid_targets)\n",
    "valid_targets.shape"
   ]
  },
  {
   "cell_type": "code",
   "execution_count": null,
   "metadata": {
    "colab": {
     "base_uri": "https://localhost:8080/",
     "height": 326
    },
    "colab_type": "code",
    "id": "qAh6GumkdR4G",
    "outputId": "039d124d-a5a3-45b5-dd25-47ce00abafa5"
   },
   "outputs": [],
   "source": [
    "valid_pred = predict_with_model(model, valid_dataset)\n",
    "\n",
    " \n",
    "valid_golden_tags = tensor_to_tags(valid_targets, id2tag)\n",
    "valid_pred_tags = tensor_to_tags(valid_pred, id2tag)\n",
    "print(classification_report(valid_golden_tags, valid_pred_tags, digits=4))\n",
    "print(classification_report(valid_golden_tags, valid_pred_tags, digits=4, suffix=True))\n"
   ]
  },
  {
   "cell_type": "markdown",
   "metadata": {
    "colab_type": "text",
    "id": "CtXo2-Ioybnx"
   },
   "source": [
    "### Проверка - test"
   ]
  },
  {
   "cell_type": "code",
   "execution_count": null,
   "metadata": {
    "colab": {
     "base_uri": "https://localhost:8080/",
     "height": 50
    },
    "colab_type": "code",
    "id": "2EIZF08wahVv",
    "outputId": "7c2fb147-7aa0-4032-f302-c65562a39f00"
   },
   "outputs": [],
   "source": [
    "%%time \n",
    "test_targets = [item[1] for item in test_dataset]\n",
    "test_targets = torch.stack(test_targets)\n",
    "test_targets.shape"
   ]
  },
  {
   "cell_type": "code",
   "execution_count": null,
   "metadata": {
    "colab": {
     "base_uri": "https://localhost:8080/",
     "height": 326
    },
    "colab_type": "code",
    "id": "pIC16ECm_58u",
    "outputId": "aa5c3191-1663-494c-df30-777bf345b18c"
   },
   "outputs": [],
   "source": [
    "test_pred = predict_with_model(model, test_dataset)\n",
    " \n",
    "test_golden_tags = tensor_to_tags(test_targets, id2tag)\n",
    "test_pred_tags = tensor_to_tags(test_pred, id2tag)\n",
    "print(classification_report(test_golden_tags, test_pred_tags, digits=4))\n",
    "print(classification_report(test_golden_tags, test_pred_tags, digits=4, suffix=True))"
   ]
  },
  {
   "cell_type": "markdown",
   "metadata": {
    "colab_type": "text",
    "id": "8tZ3TbhngFxV"
   },
   "source": [
    "## Применение теггера"
   ]
  },
  {
   "cell_type": "code",
   "execution_count": null,
   "metadata": {
    "colab": {},
    "colab_type": "code",
    "id": "dBORSeRvdITg"
   },
   "outputs": [],
   "source": [
    "!python -m spacy download en_core_web_sm > /dev/null\n",
    "nlp = spacy.load('en_core_web_sm')"
   ]
  },
  {
   "cell_type": "code",
   "execution_count": null,
   "metadata": {
    "ExecuteTime": {
     "end_time": "2019-08-29T13:56:42.105418Z",
     "start_time": "2019-08-29T13:56:42.093744Z"
    },
    "colab": {},
    "colab_type": "code",
    "id": "gM1646Q7gFxX"
   },
   "outputs": [],
   "source": [
    "\n",
    "ner_tagger = NERTagger(model, bpe_tokenizer, UNIQUE_TAGS, max_sent_len, max_token_len, 0)"
   ]
  },
  {
   "cell_type": "markdown",
   "metadata": {
    "colab_type": "text",
    "id": "qGbRPrQ1oMM_"
   },
   "source": [
    "Несколько предложений из новостей с сайта [BBC](https://www.bbc.com/news)"
   ]
  },
  {
   "cell_type": "code",
   "execution_count": null,
   "metadata": {
    "ExecuteTime": {
     "end_time": "2019-08-29T13:56:42.125540Z",
     "start_time": "2019-08-29T13:56:42.106771Z"
    },
    "colab": {},
    "colab_type": "code",
    "id": "JHOY3BpZgFxd"
   },
   "outputs": [],
   "source": [
    "test_sentences = [\n",
    "    'Mr Trump said Mr Linick no longer had his full confidence and that he would be removed in 30 days.',\n",
    "    'Mr Linick had begun investigating Secretary of State Mike Pompeo for suspected abuse of office, reports say.',\n",
    "    'Democrats say Mr Trump is retaliating against public servants who want to hold his administration to account.',\n",
    "    'Donald Trump, who is campaigning for re-election in November, has stepped up his attacks on China in recent weeks, blaming it for the spread of Covid-19.',\n",
    "    'The team led by Fernando Novas from the Natural Sciences Museum in Buenos Aires discovered many fossils during its month-long field work in Estancia La Anita, in southern Santa Cruz province.',\n",
    "    \"The rehearsal at Kennedy Space Center saw a Falcon-9 vehicle's ascent into the sky deliberately terminated just 80 seconds after lift-off.\"\n",
    "]\n",
    "test_sentences_tokenized = tokenize_corpus(test_sentences)\n",
    "# test_sentences_tokenized = [[token.text for token in nlp.tokenizer(sent) ] for sent in test_sentences]"
   ]
  },
  {
   "cell_type": "code",
   "execution_count": null,
   "metadata": {
    "colab": {
     "base_uri": "https://localhost:8080/",
     "height": 147
    },
    "colab_type": "code",
    "id": "TxHF5NAVFuvi",
    "outputId": "62cc565c-b735-40da-f509-4b5123b4d395"
   },
   "outputs": [],
   "source": [
    "for sent_tokens, sent_tags in zip(test_sentences_tokenized, ner_tagger(test_sentences)):\n",
    "    highlight_text(sent_tokens, sent_tags)"
   ]
  },
  {
   "cell_type": "code",
   "execution_count": null,
   "metadata": {
    "colab": {},
    "colab_type": "code",
    "id": "0TxnNyQs0c8P"
   },
   "outputs": [],
   "source": []
  },
  {
   "cell_type": "code",
   "execution_count": null,
   "metadata": {
    "collapsed": false,
    "jupyter": {
     "outputs_hidden": false
    },
    "pycharm": {
     "name": "#%%\n"
    }
   },
   "outputs": [],
   "source": []
  }
 ],
 "metadata": {
  "accelerator": "GPU",
  "colab": {
   "collapsed_sections": [],
   "include_colab_link": true,
   "name": "NER_tagger.ipynb",
   "provenance": []
  },
  "kernelspec": {
   "display_name": "Python 3 (ipykernel)",
   "language": "python",
   "name": "python3"
  },
  "language_info": {
   "codemirror_mode": {
    "name": "ipython",
    "version": 3
   },
   "file_extension": ".py",
   "mimetype": "text/x-python",
   "name": "python",
   "nbconvert_exporter": "python",
   "pygments_lexer": "ipython3",
   "version": "3.8.12"
  },
  "latex_envs": {
   "LaTeX_envs_menu_present": true,
   "autoclose": false,
   "autocomplete": true,
   "bibliofile": "biblio.bib",
   "cite_by": "apalike",
   "current_citInitial": 1,
   "eqLabelWithNumbers": true,
   "eqNumInitial": 1,
   "hotkeys": {
    "equation": "Ctrl-E",
    "itemize": "Ctrl-I"
   },
   "labels_anchors": false,
   "latex_user_defs": false,
   "report_style_numbering": false,
   "user_envs_cfg": false
  },
  "toc": {
   "base_numbering": 1,
   "nav_menu": {},
   "number_sections": true,
   "sideBar": true,
   "skip_h1_title": false,
   "title_cell": "Table of Contents",
   "title_sidebar": "Contents",
   "toc_cell": false,
   "toc_position": {},
   "toc_section_display": true,
   "toc_window_display": true
  },
  "widgets": {
   "application/vnd.jupyter.widget-state+json": {
    "0713b549e7de43abb728a232cafd53f6": {
     "model_module": "@jupyter-widgets/base",
     "model_name": "LayoutModel",
     "state": {
      "_model_module": "@jupyter-widgets/base",
      "_model_module_version": "1.2.0",
      "_model_name": "LayoutModel",
      "_view_count": null,
      "_view_module": "@jupyter-widgets/base",
      "_view_module_version": "1.2.0",
      "_view_name": "LayoutView",
      "align_content": null,
      "align_items": null,
      "align_self": null,
      "border": null,
      "bottom": null,
      "display": null,
      "flex": null,
      "flex_flow": null,
      "grid_area": null,
      "grid_auto_columns": null,
      "grid_auto_flow": null,
      "grid_auto_rows": null,
      "grid_column": null,
      "grid_gap": null,
      "grid_row": null,
      "grid_template_areas": null,
      "grid_template_columns": null,
      "grid_template_rows": null,
      "height": null,
      "justify_content": null,
      "justify_items": null,
      "left": null,
      "margin": null,
      "max_height": null,
      "max_width": null,
      "min_height": null,
      "min_width": null,
      "object_fit": null,
      "object_position": null,
      "order": null,
      "overflow": null,
      "overflow_x": null,
      "overflow_y": null,
      "padding": null,
      "right": null,
      "top": null,
      "visibility": null,
      "width": null
     }
    },
    "38398f962793460db46f9a14739ec324": {
     "model_module": "@jupyter-widgets/base",
     "model_name": "LayoutModel",
     "state": {
      "_model_module": "@jupyter-widgets/base",
      "_model_module_version": "1.2.0",
      "_model_name": "LayoutModel",
      "_view_count": null,
      "_view_module": "@jupyter-widgets/base",
      "_view_module_version": "1.2.0",
      "_view_name": "LayoutView",
      "align_content": null,
      "align_items": null,
      "align_self": null,
      "border": null,
      "bottom": null,
      "display": null,
      "flex": null,
      "flex_flow": null,
      "grid_area": null,
      "grid_auto_columns": null,
      "grid_auto_flow": null,
      "grid_auto_rows": null,
      "grid_column": null,
      "grid_gap": null,
      "grid_row": null,
      "grid_template_areas": null,
      "grid_template_columns": null,
      "grid_template_rows": null,
      "height": null,
      "justify_content": null,
      "justify_items": null,
      "left": null,
      "margin": null,
      "max_height": null,
      "max_width": null,
      "min_height": null,
      "min_width": null,
      "object_fit": null,
      "object_position": null,
      "order": null,
      "overflow": null,
      "overflow_x": null,
      "overflow_y": null,
      "padding": null,
      "right": null,
      "top": null,
      "visibility": null,
      "width": null
     }
    },
    "3adfaf84860a4aed8e0881aac74d66b9": {
     "model_module": "@jupyter-widgets/controls",
     "model_name": "FloatProgressModel",
     "state": {
      "_dom_classes": [],
      "_model_module": "@jupyter-widgets/controls",
      "_model_module_version": "1.5.0",
      "_model_name": "FloatProgressModel",
      "_view_count": null,
      "_view_module": "@jupyter-widgets/controls",
      "_view_module_version": "1.5.0",
      "_view_name": "ProgressView",
      "bar_style": "success",
      "description": "100%",
      "description_tooltip": null,
      "layout": "IPY_MODEL_f866fa72b3024555b8ab26e46fdfd7dd",
      "max": 101,
      "min": 0,
      "orientation": "horizontal",
      "style": "IPY_MODEL_6f87dd817a4e4cb5a87d68a19a7c2200",
      "value": 101
     }
    },
    "3cc329f62dc24361a6442ea13387d52f": {
     "model_module": "@jupyter-widgets/controls",
     "model_name": "DescriptionStyleModel",
     "state": {
      "_model_module": "@jupyter-widgets/controls",
      "_model_module_version": "1.5.0",
      "_model_name": "DescriptionStyleModel",
      "_view_count": null,
      "_view_module": "@jupyter-widgets/base",
      "_view_module_version": "1.2.0",
      "_view_name": "StyleView",
      "description_width": ""
     }
    },
    "6f87dd817a4e4cb5a87d68a19a7c2200": {
     "model_module": "@jupyter-widgets/controls",
     "model_name": "ProgressStyleModel",
     "state": {
      "_model_module": "@jupyter-widgets/controls",
      "_model_module_version": "1.5.0",
      "_model_name": "ProgressStyleModel",
      "_view_count": null,
      "_view_module": "@jupyter-widgets/base",
      "_view_module_version": "1.2.0",
      "_view_name": "StyleView",
      "bar_color": null,
      "description_width": "initial"
     }
    },
    "81346ae859874463a1a3ccf53d6e08f6": {
     "model_module": "@jupyter-widgets/controls",
     "model_name": "HBoxModel",
     "state": {
      "_dom_classes": [],
      "_model_module": "@jupyter-widgets/controls",
      "_model_module_version": "1.5.0",
      "_model_name": "HBoxModel",
      "_view_count": null,
      "_view_module": "@jupyter-widgets/controls",
      "_view_module_version": "1.5.0",
      "_view_name": "HBoxView",
      "box_style": "",
      "children": [
       "IPY_MODEL_3adfaf84860a4aed8e0881aac74d66b9",
       "IPY_MODEL_999de6917a584c209497eb48c9782025"
      ],
      "layout": "IPY_MODEL_38398f962793460db46f9a14739ec324"
     }
    },
    "999de6917a584c209497eb48c9782025": {
     "model_module": "@jupyter-widgets/controls",
     "model_name": "HTMLModel",
     "state": {
      "_dom_classes": [],
      "_model_module": "@jupyter-widgets/controls",
      "_model_module_version": "1.5.0",
      "_model_name": "HTMLModel",
      "_view_count": null,
      "_view_module": "@jupyter-widgets/controls",
      "_view_module_version": "1.5.0",
      "_view_name": "HTMLView",
      "description": "",
      "description_tooltip": null,
      "layout": "IPY_MODEL_0713b549e7de43abb728a232cafd53f6",
      "placeholder": "​",
      "style": "IPY_MODEL_3cc329f62dc24361a6442ea13387d52f",
      "value": " 101/101 [00:09&lt;00:00, 10.50it/s]"
     }
    },
    "f866fa72b3024555b8ab26e46fdfd7dd": {
     "model_module": "@jupyter-widgets/base",
     "model_name": "LayoutModel",
     "state": {
      "_model_module": "@jupyter-widgets/base",
      "_model_module_version": "1.2.0",
      "_model_name": "LayoutModel",
      "_view_count": null,
      "_view_module": "@jupyter-widgets/base",
      "_view_module_version": "1.2.0",
      "_view_name": "LayoutView",
      "align_content": null,
      "align_items": null,
      "align_self": null,
      "border": null,
      "bottom": null,
      "display": null,
      "flex": null,
      "flex_flow": null,
      "grid_area": null,
      "grid_auto_columns": null,
      "grid_auto_flow": null,
      "grid_auto_rows": null,
      "grid_column": null,
      "grid_gap": null,
      "grid_row": null,
      "grid_template_areas": null,
      "grid_template_columns": null,
      "grid_template_rows": null,
      "height": null,
      "justify_content": null,
      "justify_items": null,
      "left": null,
      "margin": null,
      "max_height": null,
      "max_width": null,
      "min_height": null,
      "min_width": null,
      "object_fit": null,
      "object_position": null,
      "order": null,
      "overflow": null,
      "overflow_x": null,
      "overflow_y": null,
      "padding": null,
      "right": null,
      "top": null,
      "visibility": null,
      "width": null
     }
    }
   }
  }
 },
 "nbformat": 4,
 "nbformat_minor": 4
}
