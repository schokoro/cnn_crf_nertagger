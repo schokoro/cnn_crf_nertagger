{
  "nbformat": 4,
  "nbformat_minor": 0,
  "metadata": {
    "kernelspec": {
      "name": "python3",
      "display_name": "Python 3"
    },
    "language_info": {
      "codemirror_mode": {
        "name": "ipython",
        "version": 3
      },
      "file_extension": ".py",
      "mimetype": "text/x-python",
      "name": "python",
      "nbconvert_exporter": "python",
      "pygments_lexer": "ipython3",
      "version": "3.7.1"
    },
    "latex_envs": {
      "LaTeX_envs_menu_present": true,
      "autoclose": false,
      "autocomplete": true,
      "bibliofile": "biblio.bib",
      "cite_by": "apalike",
      "current_citInitial": 1,
      "eqLabelWithNumbers": true,
      "eqNumInitial": 1,
      "hotkeys": {
        "equation": "Ctrl-E",
        "itemize": "Ctrl-I"
      },
      "labels_anchors": false,
      "latex_user_defs": false,
      "report_style_numbering": false,
      "user_envs_cfg": false
    },
    "toc": {
      "base_numbering": 1,
      "nav_menu": {},
      "number_sections": true,
      "sideBar": true,
      "skip_h1_title": false,
      "title_cell": "Table of Contents",
      "title_sidebar": "Contents",
      "toc_cell": false,
      "toc_position": {},
      "toc_section_display": true,
      "toc_window_display": true
    },
    "colab": {
      "name": "NER_tagger.ipynb",
      "provenance": [],
      "collapsed_sections": [],
      "toc_visible": true,
      "include_colab_link": true
    },
    "accelerator": "GPU",
    "widgets": {
      "application/vnd.jupyter.widget-state+json": {
        "e9b8c03a52e541eabcf83feabc4ef0f8": {
          "model_module": "@jupyter-widgets/controls",
          "model_name": "HBoxModel",
          "state": {
            "_view_name": "HBoxView",
            "_dom_classes": [],
            "_model_name": "HBoxModel",
            "_view_module": "@jupyter-widgets/controls",
            "_model_module_version": "1.5.0",
            "_view_count": null,
            "_view_module_version": "1.5.0",
            "box_style": "",
            "layout": "IPY_MODEL_1449a0ba2ba64923855a1dee43edf324",
            "_model_module": "@jupyter-widgets/controls",
            "children": [
              "IPY_MODEL_0eac7ebd070d489c9c12ea1ecfdb5ef7",
              "IPY_MODEL_8054eb31363d497d86425bfaa7034eea"
            ]
          }
        },
        "1449a0ba2ba64923855a1dee43edf324": {
          "model_module": "@jupyter-widgets/base",
          "model_name": "LayoutModel",
          "state": {
            "_view_name": "LayoutView",
            "grid_template_rows": null,
            "right": null,
            "justify_content": null,
            "_view_module": "@jupyter-widgets/base",
            "overflow": null,
            "_model_module_version": "1.2.0",
            "_view_count": null,
            "flex_flow": null,
            "width": null,
            "min_width": null,
            "border": null,
            "align_items": null,
            "bottom": null,
            "_model_module": "@jupyter-widgets/base",
            "top": null,
            "grid_column": null,
            "overflow_y": null,
            "overflow_x": null,
            "grid_auto_flow": null,
            "grid_area": null,
            "grid_template_columns": null,
            "flex": null,
            "_model_name": "LayoutModel",
            "justify_items": null,
            "grid_row": null,
            "max_height": null,
            "align_content": null,
            "visibility": null,
            "align_self": null,
            "height": null,
            "min_height": null,
            "padding": null,
            "grid_auto_rows": null,
            "grid_gap": null,
            "max_width": null,
            "order": null,
            "_view_module_version": "1.2.0",
            "grid_template_areas": null,
            "object_position": null,
            "object_fit": null,
            "grid_auto_columns": null,
            "margin": null,
            "display": null,
            "left": null
          }
        },
        "0eac7ebd070d489c9c12ea1ecfdb5ef7": {
          "model_module": "@jupyter-widgets/controls",
          "model_name": "FloatProgressModel",
          "state": {
            "_view_name": "ProgressView",
            "style": "IPY_MODEL_8938fc1b51cb4da3ba1c84f74c5178c9",
            "_dom_classes": [],
            "description": "100%",
            "_model_name": "FloatProgressModel",
            "bar_style": "success",
            "max": 101,
            "_view_module": "@jupyter-widgets/controls",
            "_model_module_version": "1.5.0",
            "value": 101,
            "_view_count": null,
            "_view_module_version": "1.5.0",
            "orientation": "horizontal",
            "min": 0,
            "description_tooltip": null,
            "_model_module": "@jupyter-widgets/controls",
            "layout": "IPY_MODEL_6c9b4f75f0824641b2794df592b1e6ac"
          }
        },
        "8054eb31363d497d86425bfaa7034eea": {
          "model_module": "@jupyter-widgets/controls",
          "model_name": "HTMLModel",
          "state": {
            "_view_name": "HTMLView",
            "style": "IPY_MODEL_096f0d8db81b4b86bdb46c858dbd69fd",
            "_dom_classes": [],
            "description": "",
            "_model_name": "HTMLModel",
            "placeholder": "​",
            "_view_module": "@jupyter-widgets/controls",
            "_model_module_version": "1.5.0",
            "value": " 101/101 [00:09&lt;00:00, 11.09it/s]",
            "_view_count": null,
            "_view_module_version": "1.5.0",
            "description_tooltip": null,
            "_model_module": "@jupyter-widgets/controls",
            "layout": "IPY_MODEL_dab04394443d4f7cbf971fb791b9177d"
          }
        },
        "8938fc1b51cb4da3ba1c84f74c5178c9": {
          "model_module": "@jupyter-widgets/controls",
          "model_name": "ProgressStyleModel",
          "state": {
            "_view_name": "StyleView",
            "_model_name": "ProgressStyleModel",
            "description_width": "initial",
            "_view_module": "@jupyter-widgets/base",
            "_model_module_version": "1.5.0",
            "_view_count": null,
            "_view_module_version": "1.2.0",
            "bar_color": null,
            "_model_module": "@jupyter-widgets/controls"
          }
        },
        "6c9b4f75f0824641b2794df592b1e6ac": {
          "model_module": "@jupyter-widgets/base",
          "model_name": "LayoutModel",
          "state": {
            "_view_name": "LayoutView",
            "grid_template_rows": null,
            "right": null,
            "justify_content": null,
            "_view_module": "@jupyter-widgets/base",
            "overflow": null,
            "_model_module_version": "1.2.0",
            "_view_count": null,
            "flex_flow": null,
            "width": null,
            "min_width": null,
            "border": null,
            "align_items": null,
            "bottom": null,
            "_model_module": "@jupyter-widgets/base",
            "top": null,
            "grid_column": null,
            "overflow_y": null,
            "overflow_x": null,
            "grid_auto_flow": null,
            "grid_area": null,
            "grid_template_columns": null,
            "flex": null,
            "_model_name": "LayoutModel",
            "justify_items": null,
            "grid_row": null,
            "max_height": null,
            "align_content": null,
            "visibility": null,
            "align_self": null,
            "height": null,
            "min_height": null,
            "padding": null,
            "grid_auto_rows": null,
            "grid_gap": null,
            "max_width": null,
            "order": null,
            "_view_module_version": "1.2.0",
            "grid_template_areas": null,
            "object_position": null,
            "object_fit": null,
            "grid_auto_columns": null,
            "margin": null,
            "display": null,
            "left": null
          }
        },
        "096f0d8db81b4b86bdb46c858dbd69fd": {
          "model_module": "@jupyter-widgets/controls",
          "model_name": "DescriptionStyleModel",
          "state": {
            "_view_name": "StyleView",
            "_model_name": "DescriptionStyleModel",
            "description_width": "",
            "_view_module": "@jupyter-widgets/base",
            "_model_module_version": "1.5.0",
            "_view_count": null,
            "_view_module_version": "1.2.0",
            "_model_module": "@jupyter-widgets/controls"
          }
        },
        "dab04394443d4f7cbf971fb791b9177d": {
          "model_module": "@jupyter-widgets/base",
          "model_name": "LayoutModel",
          "state": {
            "_view_name": "LayoutView",
            "grid_template_rows": null,
            "right": null,
            "justify_content": null,
            "_view_module": "@jupyter-widgets/base",
            "overflow": null,
            "_model_module_version": "1.2.0",
            "_view_count": null,
            "flex_flow": null,
            "width": null,
            "min_width": null,
            "border": null,
            "align_items": null,
            "bottom": null,
            "_model_module": "@jupyter-widgets/base",
            "top": null,
            "grid_column": null,
            "overflow_y": null,
            "overflow_x": null,
            "grid_auto_flow": null,
            "grid_area": null,
            "grid_template_columns": null,
            "flex": null,
            "_model_name": "LayoutModel",
            "justify_items": null,
            "grid_row": null,
            "max_height": null,
            "align_content": null,
            "visibility": null,
            "align_self": null,
            "height": null,
            "min_height": null,
            "padding": null,
            "grid_auto_rows": null,
            "grid_gap": null,
            "max_width": null,
            "order": null,
            "_view_module_version": "1.2.0",
            "grid_template_areas": null,
            "object_position": null,
            "object_fit": null,
            "grid_auto_columns": null,
            "margin": null,
            "display": null,
            "left": null
          }
        }
      }
    }
  },
  "cells": [
    {
      "cell_type": "markdown",
      "metadata": {
        "id": "view-in-github",
        "colab_type": "text"
      },
      "source": [
        "<a href=\"https://colab.research.google.com/github/schokoro/cnn_crf_nertagger/blob/master/NER_tagger.ipynb\" target=\"_parent\"><img src=\"https://colab.research.google.com/assets/colab-badge.svg\" alt=\"Open In Colab\"/></a>"
      ]
    },
    {
      "cell_type": "markdown",
      "metadata": {
        "id": "p_aAUmhzgFqt",
        "colab_type": "text"
      },
      "source": [
        "# CNN и CRF для извлечения именованных сущностей\n",
        "\n"
      ]
    },
    {
      "cell_type": "code",
      "metadata": {
        "id": "kVSH61-2h4l6",
        "colab_type": "code",
        "outputId": "dab0ba7e-d044-4683-de4e-4063f33e5ad3",
        "colab": {
          "base_uri": "https://localhost:8080/",
          "height": 33
        }
      },
      "source": [
        "import torch\n",
        "device = torch.device(\"cuda:0\" if torch.cuda.is_available() else \"cpu\")\n",
        "if device == 'cpu':\n",
        "    print('cpu')\n",
        "else:\n",
        "    n_gpu = torch.cuda.device_count()\n",
        "    print(torch.cuda.get_device_name(0))\n",
        "    "
      ],
      "execution_count": 0,
      "outputs": [
        {
          "output_type": "stream",
          "text": [
            "Tesla T4\n"
          ],
          "name": "stdout"
        }
      ]
    },
    {
      "cell_type": "code",
      "metadata": {
        "id": "yS5uM1WVOCz8",
        "colab_type": "code",
        "colab": {}
      },
      "source": [
        "import sys\n",
        "sys.path.append('/content/cnn_crf_nertagger')"
      ],
      "execution_count": 0,
      "outputs": []
    },
    {
      "cell_type": "code",
      "metadata": {
        "id": "SVzEU3MPb8nK",
        "colab_type": "code",
        "colab": {}
      },
      "source": [
        "!rm -rf cnn_crf_nertagger/"
      ],
      "execution_count": 0,
      "outputs": []
    },
    {
      "cell_type": "code",
      "metadata": {
        "id": "2BZw4sQ4gFrj",
        "colab_type": "code",
        "outputId": "0f0b0088-d94b-455f-dc73-210902a4a019",
        "colab": {
          "base_uri": "https://localhost:8080/",
          "height": 133
        }
      },
      "source": [
        "!git clone -b master https://github.com/schokoro/cnn_crf_nertagger.git > /dev/null\n",
        "!pip install allennlp wget youtokentome> /dev/null\n"
      ],
      "execution_count": 0,
      "outputs": [
        {
          "output_type": "stream",
          "text": [
            "Cloning into 'cnn_crf_nertagger'...\n",
            "remote: Enumerating objects: 154, done.\u001b[K\n",
            "remote: Counting objects:   0% (1/154)\u001b[K\rremote: Counting objects:   1% (2/154)\u001b[K\rremote: Counting objects:   2% (4/154)\u001b[K\rremote: Counting objects:   3% (5/154)\u001b[K\rremote: Counting objects:   4% (7/154)\u001b[K\rremote: Counting objects:   5% (8/154)\u001b[K\rremote: Counting objects:   6% (10/154)\u001b[K\rremote: Counting objects:   7% (11/154)\u001b[K\rremote: Counting objects:   8% (13/154)\u001b[K\rremote: Counting objects:   9% (14/154)\u001b[K\rremote: Counting objects:  10% (16/154)\u001b[K\rremote: Counting objects:  11% (17/154)\u001b[K\rremote: Counting objects:  12% (19/154)\u001b[K\rremote: Counting objects:  13% (21/154)\u001b[K\rremote: Counting objects:  14% (22/154)\u001b[K\rremote: Counting objects:  15% (24/154)\u001b[K\rremote: Counting objects:  16% (25/154)\u001b[K\rremote: Counting objects:  17% (27/154)\u001b[K\rremote: Counting objects:  18% (28/154)\u001b[K\rremote: Counting objects:  19% (30/154)\u001b[K\rremote: Counting objects:  20% (31/154)\u001b[K\rremote: Counting objects:  21% (33/154)\u001b[K\rremote: Counting objects:  22% (34/154)\u001b[K\rremote: Counting objects:  23% (36/154)\u001b[K\rremote: Counting objects:  24% (37/154)\u001b[K\rremote: Counting objects:  25% (39/154)\u001b[K\rremote: Counting objects:  26% (41/154)\u001b[K\rremote: Counting objects:  27% (42/154)\u001b[K\rremote: Counting objects:  28% (44/154)\u001b[K\rremote: Counting objects:  29% (45/154)\u001b[K\rremote: Counting objects:  30% (47/154)\u001b[K\rremote: Counting objects:  31% (48/154)\u001b[K\rremote: Counting objects:  32% (50/154)\u001b[K\rremote: Counting objects:  33% (51/154)\u001b[K\rremote: Counting objects:  34% (53/154)\u001b[K\rremote: Counting objects:  35% (54/154)\u001b[K\rremote: Counting objects:  36% (56/154)\u001b[K\rremote: Counting objects:  37% (57/154)\u001b[K\rremote: Counting objects:  38% (59/154)\u001b[K\rremote: Counting objects:  39% (61/154)\u001b[K\rremote: Counting objects:  40% (62/154)\u001b[K\rremote: Counting objects:  41% (64/154)\u001b[K\rremote: Counting objects:  42% (65/154)\u001b[K\rremote: Counting objects:  43% (67/154)\u001b[K\rremote: Counting objects:  44% (68/154)\u001b[K\rremote: Counting objects:  45% (70/154)\u001b[K\rremote: Counting objects:  46% (71/154)\u001b[K\rremote: Counting objects:  47% (73/154)\u001b[K\rremote: Counting objects:  48% (74/154)\u001b[K\rremote: Counting objects:  49% (76/154)\u001b[K\rremote: Counting objects:  50% (77/154)\u001b[K\rremote: Counting objects:  51% (79/154)\u001b[K\rremote: Counting objects:  52% (81/154)\u001b[K\rremote: Counting objects:  53% (82/154)\u001b[K\rremote: Counting objects:  54% (84/154)\u001b[K\rremote: Counting objects:  55% (85/154)\u001b[K\rremote: Counting objects:  56% (87/154)\u001b[K\rremote: Counting objects:  57% (88/154)\u001b[K\rremote: Counting objects:  58% (90/154)\u001b[K\rremote: Counting objects:  59% (91/154)\u001b[K\rremote: Counting objects:  60% (93/154)\u001b[K\rremote: Counting objects:  61% (94/154)\u001b[K\rremote: Counting objects:  62% (96/154)\u001b[K\rremote: Counting objects:  63% (98/154)\u001b[K\rremote: Counting objects:  64% (99/154)\u001b[K\rremote: Counting objects:  65% (101/154)\u001b[K\rremote: Counting objects:  66% (102/154)\u001b[K\rremote: Counting objects:  67% (104/154)\u001b[K\rremote: Counting objects:  68% (105/154)\u001b[K\rremote: Counting objects:  69% (107/154)\u001b[K\rremote: Counting objects:  70% (108/154)\u001b[K\rremote: Counting objects:  71% (110/154)\u001b[K\rremote: Counting objects:  72% (111/154)\u001b[K\rremote: Counting objects:  73% (113/154)\u001b[K\rremote: Counting objects:  74% (114/154)\u001b[K\rremote: Counting objects:  75% (116/154)\u001b[K\rremote: Counting objects:  76% (118/154)\u001b[K\rremote: Counting objects:  77% (119/154)\u001b[K\rremote: Counting objects:  78% (121/154)\u001b[K\rremote: Counting objects:  79% (122/154)\u001b[K\rremote: Counting objects:  80% (124/154)\u001b[K\rremote: Counting objects:  81% (125/154)\u001b[K\rremote: Counting objects:  82% (127/154)\u001b[K\rremote: Counting objects:  83% (128/154)\u001b[K\rremote: Counting objects:  84% (130/154)\u001b[K\rremote: Counting objects:  85% (131/154)\u001b[K\rremote: Counting objects:  86% (133/154)\u001b[K\rremote: Counting objects:  87% (134/154)\u001b[K\rremote: Counting objects:  88% (136/154)\u001b[K\rremote: Counting objects:  89% (138/154)\u001b[K\rremote: Counting objects:  90% (139/154)\u001b[K\rremote: Counting objects:  91% (141/154)\u001b[K\rremote: Counting objects:  92% (142/154)\u001b[K\rremote: Counting objects:  93% (144/154)\u001b[K\rremote: Counting objects:  94% (145/154)\u001b[K\rremote: Counting objects:  95% (147/154)\u001b[K\rremote: Counting objects:  96% (148/154)\u001b[K\rremote: Counting objects:  97% (150/154)\u001b[K\rremote: Counting objects:  98% (151/154)\u001b[K\rremote: Counting objects:  99% (153/154)\u001b[K\rremote: Counting objects: 100% (154/154)\u001b[K\rremote: Counting objects: 100% (154/154), done.\u001b[K\n",
            "remote: Compressing objects:   1% (1/89)\u001b[K\rremote: Compressing objects:   2% (2/89)\u001b[K\rremote: Compressing objects:   3% (3/89)\u001b[K\rremote: Compressing objects:   4% (4/89)\u001b[K\rremote: Compressing objects:   5% (5/89)\u001b[K\rremote: Compressing objects:   6% (6/89)\u001b[K\rremote: Compressing objects:   7% (7/89)\u001b[K\rremote: Compressing objects:   8% (8/89)\u001b[K\rremote: Compressing objects:  10% (9/89)\u001b[K\rremote: Compressing objects:  11% (10/89)\u001b[K\rremote: Compressing objects:  12% (11/89)\u001b[K\rremote: Compressing objects:  13% (12/89)\u001b[K\rremote: Compressing objects:  14% (13/89)\u001b[K\rremote: Compressing objects:  15% (14/89)\u001b[K\rremote: Compressing objects:  16% (15/89)\u001b[K\rremote: Compressing objects:  17% (16/89)\u001b[K\rremote: Compressing objects:  19% (17/89)\u001b[K\rremote: Compressing objects:  20% (18/89)\u001b[K\rremote: Compressing objects:  21% (19/89)\u001b[K\rremote: Compressing objects:  22% (20/89)\u001b[K\rremote: Compressing objects:  23% (21/89)\u001b[K\rremote: Compressing objects:  24% (22/89)\u001b[K\rremote: Compressing objects:  25% (23/89)\u001b[K\rremote: Compressing objects:  26% (24/89)\u001b[K\rremote: Compressing objects:  28% (25/89)\u001b[K\rremote: Compressing objects:  29% (26/89)\u001b[K\rremote: Compressing objects:  30% (27/89)\u001b[K\rremote: Compressing objects:  31% (28/89)\u001b[K\rremote: Compressing objects:  32% (29/89)\u001b[K\rremote: Compressing objects:  33% (30/89)\u001b[K\rremote: Compressing objects:  34% (31/89)\u001b[K\rremote: Compressing objects:  35% (32/89)\u001b[K\rremote: Compressing objects:  37% (33/89)\u001b[K\rremote: Compressing objects:  38% (34/89)\u001b[K\rremote: Compressing objects:  39% (35/89)\u001b[K\rremote: Compressing objects:  40% (36/89)\u001b[K\rremote: Compressing objects:  41% (37/89)\u001b[K\rremote: Compressing objects:  42% (38/89)\u001b[K\rremote: Compressing objects:  43% (39/89)\u001b[K\rremote: Compressing objects:  44% (40/89)\u001b[K\rremote: Compressing objects:  46% (41/89)\u001b[K\rremote: Compressing objects:  47% (42/89)\u001b[K\rremote: Compressing objects:  48% (43/89)\u001b[K\rremote: Compressing objects:  49% (44/89)\u001b[K\rremote: Compressing objects:  50% (45/89)\u001b[K\rremote: Compressing objects:  51% (46/89)\u001b[K\rremote: Compressing objects:  52% (47/89)\u001b[K\rremote: Compressing objects:  53% (48/89)\u001b[K\rremote: Compressing objects:  55% (49/89)\u001b[K\rremote: Compressing objects:  56% (50/89)\u001b[K\rremote: Compressing objects:  57% (51/89)\u001b[K\rremote: Compressing objects:  58% (52/89)\u001b[K\rremote: Compressing objects:  59% (53/89)\u001b[K\rremote: Compressing objects:  60% (54/89)\u001b[K\rremote: Compressing objects:  61% (55/89)\u001b[K\rremote: Compressing objects:  62% (56/89)\u001b[K\rremote: Compressing objects:  64% (57/89)\u001b[K\rremote: Compressing objects:  65% (58/89)\u001b[K\rremote: Compressing objects:  66% (59/89)\u001b[K\rremote: Compressing objects:  67% (60/89)\u001b[K\rremote: Compressing objects:  68% (61/89)\u001b[K\rremote: Compressing objects:  69% (62/89)\u001b[K\rremote: Compressing objects:  70% (63/89)\u001b[K\rremote: Compressing objects:  71% (64/89)\u001b[K\rremote: Compressing objects:  73% (65/89)\u001b[K\rremote: Compressing objects:  74% (66/89)\u001b[K\rremote: Compressing objects:  75% (67/89)\u001b[K\rremote: Compressing objects:  76% (68/89)\u001b[K\rremote: Compressing objects:  77% (69/89)\u001b[K\rremote: Compressing objects:  78% (70/89)\u001b[K\rremote: Compressing objects:  79% (71/89)\u001b[K\rremote: Compressing objects:  80% (72/89)\u001b[K\rremote: Compressing objects:  82% (73/89)\u001b[K\rremote: Compressing objects:  83% (74/89)\u001b[K\rremote: Compressing objects:  84% (75/89)\u001b[K\rremote: Compressing objects:  85% (76/89)\u001b[K\rremote: Compressing objects:  86% (77/89)\u001b[K\rremote: Compressing objects:  87% (78/89)\u001b[K\rremote: Compressing objects:  88% (79/89)\u001b[K\rremote: Compressing objects:  89% (80/89)\u001b[K\rremote: Compressing objects:  91% (81/89)\u001b[K\rremote: Compressing objects:  92% (82/89)\u001b[K\rremote: Compressing objects:  93% (83/89)\u001b[K\rremote: Compressing objects:  94% (84/89)\u001b[K\rremote: Compressing objects:  95% (85/89)\u001b[K\rremote: Compressing objects:  96% (86/89)\u001b[K\rremote: Compressing objects:  97% (87/89)\u001b[K\rremote: Compressing objects:  98% (88/89)\u001b[K\rremote: Compressing objects: 100% (89/89)\u001b[K\rremote: Compressing objects: 100% (89/89), done.\u001b[K\n",
            "Receiving objects:   0% (1/154)   \rReceiving objects:   1% (2/154)   \rReceiving objects:   2% (4/154)   \rReceiving objects:   3% (5/154)   \rReceiving objects:   4% (7/154)   \rReceiving objects:   5% (8/154)   \rReceiving objects:   6% (10/154)   \rReceiving objects:   7% (11/154)   \rReceiving objects:   8% (13/154)   \rReceiving objects:   9% (14/154)   \rReceiving objects:  10% (16/154)   \rReceiving objects:  11% (17/154)   \rReceiving objects:  12% (19/154)   \rReceiving objects:  13% (21/154)   \rReceiving objects:  14% (22/154)   \rReceiving objects:  15% (24/154)   \rReceiving objects:  16% (25/154)   \rReceiving objects:  17% (27/154)   \rReceiving objects:  18% (28/154)   \rReceiving objects:  19% (30/154)   \rReceiving objects:  20% (31/154)   \rReceiving objects:  21% (33/154)   \rReceiving objects:  22% (34/154)   \rReceiving objects:  23% (36/154)   \rReceiving objects:  24% (37/154)   \rReceiving objects:  25% (39/154)   \rReceiving objects:  26% (41/154)   \rReceiving objects:  27% (42/154)   \rReceiving objects:  28% (44/154)   \rReceiving objects:  29% (45/154)   \rReceiving objects:  30% (47/154)   \rReceiving objects:  31% (48/154)   \rReceiving objects:  32% (50/154)   \rReceiving objects:  33% (51/154)   \rReceiving objects:  34% (53/154)   \rReceiving objects:  35% (54/154)   \rReceiving objects:  36% (56/154)   \rReceiving objects:  37% (57/154)   \rReceiving objects:  38% (59/154)   \rReceiving objects:  39% (61/154)   \rReceiving objects:  40% (62/154)   \rReceiving objects:  41% (64/154)   \rReceiving objects:  42% (65/154)   \rReceiving objects:  43% (67/154)   \rReceiving objects:  44% (68/154)   \rReceiving objects:  45% (70/154)   \rReceiving objects:  46% (71/154)   \rReceiving objects:  47% (73/154)   \rReceiving objects:  48% (74/154)   \rReceiving objects:  49% (76/154)   \rReceiving objects:  50% (77/154)   \rReceiving objects:  51% (79/154)   \rReceiving objects:  52% (81/154)   \rReceiving objects:  53% (82/154)   \rReceiving objects:  54% (84/154)   \rReceiving objects:  55% (85/154)   \rReceiving objects:  56% (87/154)   \rReceiving objects:  57% (88/154)   \rReceiving objects:  58% (90/154)   \rReceiving objects:  59% (91/154)   \rReceiving objects:  60% (93/154)   \rReceiving objects:  61% (94/154)   \rReceiving objects:  62% (96/154)   \rReceiving objects:  63% (98/154)   \rReceiving objects:  64% (99/154)   \rReceiving objects:  65% (101/154)   \rReceiving objects:  66% (102/154)   \rReceiving objects:  67% (104/154)   \rremote: Total 154 (delta 70), reused 124 (delta 48), pack-reused 0\u001b[K\n",
            "Receiving objects:  68% (105/154)   \rReceiving objects:  69% (107/154)   \rReceiving objects:  70% (108/154)   \rReceiving objects:  71% (110/154)   \rReceiving objects:  72% (111/154)   \rReceiving objects:  73% (113/154)   \rReceiving objects:  74% (114/154)   \rReceiving objects:  75% (116/154)   \rReceiving objects:  76% (118/154)   \rReceiving objects:  77% (119/154)   \rReceiving objects:  78% (121/154)   \rReceiving objects:  79% (122/154)   \rReceiving objects:  80% (124/154)   \rReceiving objects:  81% (125/154)   \rReceiving objects:  82% (127/154)   \rReceiving objects:  83% (128/154)   \rReceiving objects:  84% (130/154)   \rReceiving objects:  85% (131/154)   \rReceiving objects:  86% (133/154)   \rReceiving objects:  87% (134/154)   \rReceiving objects:  88% (136/154)   \rReceiving objects:  89% (138/154)   \rReceiving objects:  90% (139/154)   \rReceiving objects:  91% (141/154)   \rReceiving objects:  92% (142/154)   \rReceiving objects:  93% (144/154)   \rReceiving objects:  94% (145/154)   \rReceiving objects:  95% (147/154)   \rReceiving objects:  96% (148/154)   \rReceiving objects:  97% (150/154)   \rReceiving objects:  98% (151/154)   \rReceiving objects:  99% (153/154)   \rReceiving objects: 100% (154/154)   \rReceiving objects: 100% (154/154), 43.67 KiB | 532.00 KiB/s, done.\n",
            "Resolving deltas:   0% (0/70)   \rResolving deltas:   7% (5/70)   \rResolving deltas:  50% (35/70)   \rResolving deltas:  51% (36/70)   \rResolving deltas:  67% (47/70)   \rResolving deltas:  82% (58/70)   \rResolving deltas:  95% (67/70)   \rResolving deltas:  97% (68/70)   \rResolving deltas: 100% (70/70)   \rResolving deltas: 100% (70/70), done.\n"
          ],
          "name": "stdout"
        }
      ]
    },
    {
      "cell_type": "code",
      "metadata": {
        "ExecuteTime": {
          "end_time": "2019-10-29T19:49:34.549739Z",
          "start_time": "2019-10-29T19:49:32.179692Z"
        },
        "id": "ol61j2fHgFsh",
        "colab_type": "code",
        "colab": {}
      },
      "source": [
        "%load_ext autoreload\n",
        "%autoreload 2\n",
        "\n",
        "import spacy\n",
        "import warnings\n",
        "warnings.filterwarnings('ignore')\n",
        "from sklearn.metrics import classification_report\n",
        "import numpy as np\n",
        "from torch.nn import functional as F\n",
        "from torch.utils.data import TensorDataset\n",
        "from allennlp.data.dataset_readers.conll2003 import Conll2003DatasetReader\n",
        "from allennlp.common.util import ensure_list\n",
        "from torch import nn\n",
        "from torch.nn import functional as F\n",
        "from torch.utils.data import TensorDataset\n",
        "from pdb import set_trace\n",
        "from gc import collect\n",
        "from tqdm.notebook import tqdm\n",
        "import wget\n",
        "import cnn_crf_nertagger\n",
        "from cnn_crf_nertagger.modules.modules import NERTaggerModel, NERTagger\n",
        "from cnn_crf_nertagger.utils.pipeline import train_eval_loop, predict_with_model\n",
        "from cnn_crf_nertagger.utils.prepare import tag_corpus_to_tensor, tokenize_corpus, make_yttm_tokenizer\n",
        "from os import path, listdir\n",
        "import pandas as pd\n",
        "import seaborn as sns\n",
        "from matplotlib import rcParams\n",
        "sns.set()\n",
        "%matplotlib inline\n",
        "\n",
        "rcParams['figure.figsize'] = 12, 12\n",
        "# torch.backends.cudnn.deterministic=False "
      ],
      "execution_count": 0,
      "outputs": []
    },
    {
      "cell_type": "markdown",
      "metadata": {
        "id": "inP4QwcDgFs3",
        "colab_type": "text"
      },
      "source": [
        "## Подготовка данных\n",
        "\n"
      ]
    },
    {
      "cell_type": "markdown",
      "metadata": {
        "id": "aXvdhaF5nPcQ",
        "colab_type": "text"
      },
      "source": [
        "\n",
        "### Загружаем корпуса"
      ]
    },
    {
      "cell_type": "code",
      "metadata": {
        "id": "7HUaGBS4nD1g",
        "colab_type": "code",
        "outputId": "565be1fb-7a0b-4e44-fecb-b05696f54bd9",
        "colab": {
          "base_uri": "https://localhost:8080/",
          "height": 33
        }
      },
      "source": [
        "!rm -fv /content/cnn_crf_nertagger/data/*\n"
      ],
      "execution_count": 0,
      "outputs": [
        {
          "output_type": "stream",
          "text": [
            "removed '/content/cnn_crf_nertagger/data/readme.txt'\n"
          ],
          "name": "stdout"
        }
      ]
    },
    {
      "cell_type": "code",
      "metadata": {
        "ExecuteTime": {
          "end_time": "2019-10-29T19:49:56.525561Z",
          "start_time": "2019-10-29T19:49:37.315213Z"
        },
        "id": "uo0ZTJ1FgFti",
        "colab_type": "code",
        "colab": {}
      },
      "source": [
        "path_data = '/content/cnn_crf_nertagger/data/'\n",
        "path_train = '/content/cnn_crf_nertagger/data/eng.train'\n",
        "path_valid = '/content/cnn_crf_nertagger/data/eng.testa'\n",
        "path_test = '/content/cnn_crf_nertagger/data/eng.testb'\n",
        "\n",
        "dataset_urls = {\n",
        "    'eng.testa': 'https://raw.githubusercontent.com/synalp/NER/master/corpus/CoNLL-2003/eng.testa',\n",
        "    'eng.testb': 'https://raw.githubusercontent.com/synalp/NER/master/corpus/CoNLL-2003/eng.testb',\n",
        "    'eng.train': 'https://raw.githubusercontent.com/synalp/NER/master/corpus/CoNLL-2003/eng.train'}\n",
        "for file_name in dataset_urls:\n",
        "    wget.download(dataset_urls[file_name], path.join(path_data, file_name))"
      ],
      "execution_count": 0,
      "outputs": []
    },
    {
      "cell_type": "code",
      "metadata": {
        "id": "r6AABrk05iiC",
        "colab_type": "code",
        "outputId": "4be342bd-abe4-457f-bfaa-c6e0ab41eb64",
        "colab": {
          "base_uri": "https://localhost:8080/",
          "height": 100
        }
      },
      "source": [
        "%%time\n",
        "conll_reader = Conll2003DatasetReader()\n",
        "train_conll = ensure_list(conll_reader.read(path_train))\n",
        "valid_conll = ensure_list(conll_reader.read(path_valid))\n",
        "test_conll = ensure_list(conll_reader.read(path_test))"
      ],
      "execution_count": 0,
      "outputs": [
        {
          "output_type": "stream",
          "text": [
            "14041it [00:01, 13022.50it/s]\n",
            "3250it [00:00, 9462.97it/s]\n",
            "3453it [00:00, 25533.95it/s]"
          ],
          "name": "stderr"
        },
        {
          "output_type": "stream",
          "text": [
            "CPU times: user 1.5 s, sys: 63.8 ms, total: 1.56 s\n",
            "Wall time: 1.56 s\n"
          ],
          "name": "stdout"
        },
        {
          "output_type": "stream",
          "text": [
            "\n"
          ],
          "name": "stderr"
        }
      ]
    },
    {
      "cell_type": "code",
      "metadata": {
        "id": "WCYr630b8O5w",
        "colab_type": "code",
        "outputId": "5e9f6958-5c95-4469-8014-f6d70308fa34",
        "colab": {
          "base_uri": "https://localhost:8080/",
          "height": 33
        }
      },
      "source": [
        "all_conll = train_conll + valid_conll + test_conll\n",
        "len(all_conll), len(train_conll), len(valid_conll), len(test_conll)"
      ],
      "execution_count": 0,
      "outputs": [
        {
          "output_type": "execute_result",
          "data": {
            "text/plain": [
              "(20744, 14041, 3250, 3453)"
            ]
          },
          "metadata": {
            "tags": []
          },
          "execution_count": 9
        }
      ]
    },
    {
      "cell_type": "markdown",
      "metadata": {
        "id": "LeAP6B5WfzoR",
        "colab_type": "text"
      },
      "source": [
        "### Готовим словари соответсвия тег-id и bpe - токенизатор\n",
        "\n"
      ]
    },
    {
      "cell_type": "code",
      "metadata": {
        "id": "joAECv5_8htA",
        "colab_type": "code",
        "outputId": "0c5ebc5e-70ac-4972-ea46-1a9112f55f38",
        "colab": {
          "base_uri": "https://localhost:8080/",
          "height": 33
        }
      },
      "source": [
        "tags = set()\n",
        "tokens = set()\n",
        "\n",
        "max_sent_len = 0\n",
        "for instance in all_conll[: ]:\n",
        "    if len(instance['tokens']) >  max_sent_len:\n",
        "        max_sent_len = len(instance['tokens'])\n",
        "    tags.update(instance['tags'])\n",
        "    tokens.update(instance['tokens'])\n",
        "    \n",
        "print(f'Максимальная длина предложения: {max_sent_len} токенов')"
      ],
      "execution_count": 0,
      "outputs": [
        {
          "output_type": "stream",
          "text": [
            "Максимальная длина предложения: 124 токенов\n"
          ],
          "name": "stdout"
        }
      ]
    },
    {
      "cell_type": "code",
      "metadata": {
        "id": "l75L7ILeme3k",
        "colab_type": "code",
        "outputId": "ead83748-fd9d-47b0-e3be-77df265ec93a",
        "colab": {
          "base_uri": "https://localhost:8080/",
          "height": 50
        }
      },
      "source": [
        "%time bpe_tokenizer = make_yttm_tokenizer(train_conll, 400)"
      ],
      "execution_count": 0,
      "outputs": [
        {
          "output_type": "stream",
          "text": [
            "CPU times: user 143 ms, sys: 31.4 ms, total: 175 ms\n",
            "Wall time: 130 ms\n"
          ],
          "name": "stdout"
        }
      ]
    },
    {
      "cell_type": "code",
      "metadata": {
        "id": "SaDuu3t_8hqd",
        "colab_type": "code",
        "outputId": "1f0ac842-f47b-4365-e75f-10fcfe473724",
        "colab": {
          "base_uri": "https://localhost:8080/",
          "height": 115,
          "referenced_widgets": [
            "e9b8c03a52e541eabcf83feabc4ef0f8",
            "1449a0ba2ba64923855a1dee43edf324",
            "0eac7ebd070d489c9c12ea1ecfdb5ef7",
            "8054eb31363d497d86425bfaa7034eea",
            "8938fc1b51cb4da3ba1c84f74c5178c9",
            "6c9b4f75f0824641b2794df592b1e6ac",
            "096f0d8db81b4b86bdb46c858dbd69fd",
            "dab04394443d4f7cbf971fb791b9177d"
          ]
        }
      },
      "source": [
        "%%time\n",
        "max_token_len = 0\n",
        "for p in tqdm(range(101)):\n",
        "    len_tokens = [len(bpe_tokenizer.encode(token.text, dropout_prob=p/100))  for token in tokens]\n",
        "    if max(len_tokens) > max_token_len:\n",
        "        p_dropout = .01 * p\n",
        "        max_token_len = max(len_tokens)\n",
        "\n",
        "print(f'Максимальная длина токена: {max_token_len} субтокенов при вероятности дропаута {p_dropout}')"
      ],
      "execution_count": 0,
      "outputs": [
        {
          "output_type": "display_data",
          "data": {
            "application/vnd.jupyter.widget-view+json": {
              "model_id": "e9b8c03a52e541eabcf83feabc4ef0f8",
              "version_minor": 0,
              "version_major": 2
            },
            "text/plain": [
              "HBox(children=(FloatProgress(value=0.0, max=101.0), HTML(value='')))"
            ]
          },
          "metadata": {
            "tags": []
          }
        },
        {
          "output_type": "stream",
          "text": [
            "\n",
            "Максимальная длина токена: 62 субтокенов при вероятности дропаута 0.12\n",
            "CPU times: user 9.02 s, sys: 49.1 ms, total: 9.07 s\n",
            "Wall time: 9.1 s\n"
          ],
          "name": "stdout"
        }
      ]
    },
    {
      "cell_type": "code",
      "metadata": {
        "ExecuteTime": {
          "end_time": "2019-10-29T19:49:58.524125Z",
          "start_time": "2019-10-29T19:49:58.125577Z"
        },
        "id": "WzDDott3gFul",
        "colab_type": "code",
        "colab": {}
      },
      "source": [
        "tag2id = {tag: num for num, tag in enumerate(['<NOTAG>'] + list(tags))}\n",
        "# char2id = {char: num+1 for num, char in enumerate(chars)}\n",
        "# id2char = {item[1]: item[0] for item in char2id.items()}"
      ],
      "execution_count": 0,
      "outputs": []
    },
    {
      "cell_type": "code",
      "metadata": {
        "id": "C5R5GbuZAp_r",
        "colab_type": "code",
        "colab": {}
      },
      "source": [
        ""
      ],
      "execution_count": 0,
      "outputs": []
    },
    {
      "cell_type": "markdown",
      "metadata": {
        "id": "AiqJ56QiAsZF",
        "colab_type": "text"
      },
      "source": [
        "В датасете присутствует очень мало тегов вида B-XXX. Попробуем чуть размножить предложения с этими тегами. Использование дропаута в bpe внесёт немного разнообразия в эти предложения."
      ]
    },
    {
      "cell_type": "code",
      "metadata": {
        "id": "GO0uquKu87yj",
        "colab_type": "code",
        "outputId": "1e91c868-cdfe-4938-a12e-abc4342cf749",
        "colab": {
          "base_uri": "https://localhost:8080/",
          "height": 100
        }
      },
      "source": [
        "%%time\n",
        "BPE_DROPOUT = .1\n",
        "train_inputs, train_targets = tag_corpus_to_tensor(train_conll, bpe_tokenizer, tag2id, max_sent_len, max_token_len, 20, dropout=BPE_DROPOUT)\n",
        "valid_inputs, valid_targets = tag_corpus_to_tensor(valid_conll, bpe_tokenizer, tag2id, max_sent_len, max_token_len, dropout=BPE_DROPOUT)\n",
        "test_inputs, test_targets = tag_corpus_to_tensor(test_conll, bpe_tokenizer, tag2id, max_sent_len, max_token_len, dropout=BPE_DROPOUT)"
      ],
      "execution_count": 0,
      "outputs": [
        {
          "output_type": "stream",
          "text": [
            "100%|██████████| 14041/14041 [00:06<00:00, 2227.15it/s]\n",
            "100%|██████████| 3250/3250 [00:01<00:00, 2034.77it/s]\n",
            "100%|██████████| 3453/3453 [00:01<00:00, 2376.36it/s]"
          ],
          "name": "stderr"
        },
        {
          "output_type": "stream",
          "text": [
            "CPU times: user 9.59 s, sys: 771 ms, total: 10.4 s\n",
            "Wall time: 10.4 s\n"
          ],
          "name": "stdout"
        },
        {
          "output_type": "stream",
          "text": [
            "\n"
          ],
          "name": "stderr"
        }
      ]
    },
    {
      "cell_type": "code",
      "metadata": {
        "ExecuteTime": {
          "end_time": "2019-10-29T19:49:58.752672Z",
          "start_time": "2019-10-29T19:49:58.526431Z"
        },
        "id": "K_03GuyhgFur",
        "colab_type": "code",
        "colab": {}
      },
      "source": [
        "train_dataset = TensorDataset(train_inputs, train_targets)\n",
        "valid_dataset = TensorDataset(valid_inputs, valid_targets)\n",
        "test_dataset = TensorDataset(test_inputs, test_targets)"
      ],
      "execution_count": 0,
      "outputs": []
    },
    {
      "cell_type": "markdown",
      "metadata": {
        "id": "V0KNokGoadtA",
        "colab_type": "text"
      },
      "source": [
        "## Создаём и обучаем сеть"
      ]
    },
    {
      "cell_type": "code",
      "metadata": {
        "id": "U5k4Z4b6craL",
        "colab_type": "code",
        "colab": {}
      },
      "source": [
        "models_path = '/content/cnn_crf_nertagger/models/best_model.pth'"
      ],
      "execution_count": 0,
      "outputs": []
    },
    {
      "cell_type": "code",
      "metadata": {
        "id": "DfRjCwqZu4BW",
        "colab_type": "code",
        "outputId": "46ae55ec-c981-4ae3-a633-c959694f6e5a",
        "colab": {
          "base_uri": "https://localhost:8080/",
          "height": 33
        }
      },
      "source": [
        "try:\n",
        "    del model    \n",
        "    collect()\n",
        "except:\n",
        "    print('no model')\n",
        "finally:\n",
        "    torch.cuda.empty_cache()\n"
      ],
      "execution_count": 0,
      "outputs": [
        {
          "output_type": "stream",
          "text": [
            "no model\n"
          ],
          "name": "stdout"
        }
      ]
    },
    {
      "cell_type": "markdown",
      "metadata": {
        "id": "yYZiVrJYFCC1",
        "colab_type": "text"
      },
      "source": [
        "Сеть состоит из двух однотипных свёрточных блоков и CRF. На первом уровне мы осуществляем свёртку над субтокенами и делаем глобал-пуллинг. Затем получившиеся эмбедденги токенов передаём на следующий свёрточный блок. Он значительно глубже, чтобы увеличить рецептивное поле. Выход второго блока передаём в CRF, который возвращает нам `log-likelihood`."
      ]
    },
    {
      "cell_type": "code",
      "metadata": {
        "ExecuteTime": {
          "end_time": "2019-10-29T19:47:48.326925Z",
          "start_time": "2019-10-29T19:46:50.310Z"
        },
        "id": "jj9cwrRBgFwR",
        "colab_type": "code",
        "outputId": "e43ed61b-9076-490a-f655-83305e704e96",
        "colab": {
          "base_uri": "https://localhost:8080/",
          "height": 33
        }
      },
      "source": [
        "torch.cuda.empty_cache()\n",
        "model = NERTaggerModel(len(bpe_tokenizer.vocab()), len(tag2id), tag2id, embedding_size=64,\n",
        "                                              single_backbone_kwargs=dict(layers_n=2, kernel_size=3, dropout=0.3, dilation=None),\n",
        "                                              context_backbone_kwargs=dict(layers_n=5, kernel_size=3, dropout=0.3, dilation=[1, 1, 2 , 2, 1]))\n",
        "print('Количество параметров', sum(np.product(t.shape) for t in model.parameters()))"
      ],
      "execution_count": 0,
      "outputs": [
        {
          "output_type": "stream",
          "text": [
            "Количество параметров 112869\n"
          ],
          "name": "stdout"
        }
      ]
    },
    {
      "cell_type": "code",
      "metadata": {
        "id": "luP8K58IIlw8",
        "colab_type": "code",
        "colab": {}
      },
      "source": [
        "# try:\n",
        "#     model.load_state_dict(torch.load(models_path))\n",
        "# except:\n",
        "#     print('no model')"
      ],
      "execution_count": 0,
      "outputs": []
    },
    {
      "cell_type": "code",
      "metadata": {
        "ExecuteTime": {
          "end_time": "2019-10-29T19:47:48.327888Z",
          "start_time": "2019-10-29T19:46:50.737Z"
        },
        "scrolled": false,
        "id": "4aa02MY9gFwZ",
        "colab_type": "code",
        "outputId": "2ee0fe3c-3b21-4449-8639-ebbe33b78cfe",
        "colab": {
          "base_uri": "https://localhost:8080/",
          "height": 1000
        }
      },
      "source": [
        "(best_val_loss,\n",
        " best_model,\n",
        " losses) = train_eval_loop(model,\n",
        "                               train_dataset,\n",
        "                               valid_dataset,\n",
        "                               lr=1.25e-3,\n",
        "                               epoch_n=200,\n",
        "                               batch_size=128,\n",
        "                               device=device,\n",
        "                               early_stopping_patience=8,\n",
        "                               l2_reg_alpha = 1e-6,\n",
        "                               max_batches_per_epoch_train=100,\n",
        "                               max_batches_per_epoch_val=100,\n",
        "                               lr_scheduler_ctor=lambda optim: torch.optim.lr_scheduler.ReduceLROnPlateau(\n",
        "                                                                                     optim, patience=3,\n",
        "                                                                                     factor=0.2,\n",
        "                                                                                     threshold=1e-3,\n",
        "                                                                                     verbose=True),\n",
        "                               verbose_batch=False)\n",
        " \n",
        "torch.save(best_model.state_dict(), models_path)"
      ],
      "execution_count": 0,
      "outputs": [
        {
          "output_type": "stream",
          "text": [
            "Эпоха 0\n",
            "Эпоха: 101 итераций, 22.87 сек\n",
            "Среднее значение функции потерь на обучении 9.416808524934373\n",
            "Среднее значение функции потерь на валидации 4.7430995519344625\n",
            "Новая лучшая модель!\n",
            "\n",
            "Эпоха 1\n",
            "Эпоха: 101 итераций, 22.89 сек\n",
            "Среднее значение функции потерь на обучении 4.201901331986531\n",
            "Среднее значение функции потерь на валидации 3.4011924404364366\n",
            "Новая лучшая модель!\n",
            "\n",
            "Эпоха 2\n",
            "Эпоха: 101 итераций, 22.84 сек\n",
            "Среднее значение функции потерь на обучении 3.1742055770194177\n",
            "Среднее значение функции потерь на валидации 2.7983909203455997\n",
            "Новая лучшая модель!\n",
            "\n",
            "Эпоха 3\n",
            "Эпоха: 101 итераций, 23.09 сек\n",
            "Среднее значение функции потерь на обучении 2.682133466890543\n",
            "Среднее значение функции потерь на валидации 2.4445137542027693\n",
            "Новая лучшая модель!\n",
            "\n",
            "Эпоха 4\n",
            "Эпоха: 101 итераций, 23.61 сек\n",
            "Среднее значение функции потерь на обучении 2.3278534034691236\n",
            "Среднее значение функции потерь на валидации 2.2063632974257836\n",
            "Новая лучшая модель!\n",
            "\n",
            "Эпоха 5\n",
            "Эпоха: 101 итераций, 23.88 сек\n",
            "Среднее значение функции потерь на обучении 2.0843652545815647\n",
            "Среднее значение функции потерь на валидации 2.1013433669622126\n",
            "Новая лучшая модель!\n",
            "\n",
            "Эпоха 6\n",
            "Эпоха: 101 итераций, 23.59 сек\n",
            "Среднее значение функции потерь на обучении 1.911322287993856\n",
            "Среднее значение функции потерь на валидации 2.0166637886029024\n",
            "Новая лучшая модель!\n",
            "\n",
            "Эпоха 7\n",
            "Эпоха: 101 итераций, 23.81 сек\n",
            "Среднее значение функции потерь на обучении 1.7873093963849662\n",
            "Среднее значение функции потерь на валидации 1.8839875069948344\n",
            "Новая лучшая модель!\n",
            "\n",
            "Эпоха 8\n",
            "Эпоха: 101 итераций, 23.56 сек\n",
            "Среднее значение функции потерь на обучении 1.659567915567077\n",
            "Среднее значение функции потерь на валидации 1.7848323503365884\n",
            "Новая лучшая модель!\n",
            "\n",
            "Эпоха 9\n",
            "Эпоха: 101 итераций, 23.73 сек\n",
            "Среднее значение функции потерь на обучении 1.5609339351701264\n",
            "Среднее значение функции потерь на валидации 1.7195087751516929\n",
            "Новая лучшая модель!\n",
            "\n",
            "Эпоха 10\n",
            "Эпоха: 101 итераций, 23.56 сек\n",
            "Среднее значение функции потерь на обучении 1.4764866309590858\n",
            "Среднее значение функции потерь на валидации 1.6128443158589876\n",
            "Новая лучшая модель!\n",
            "\n",
            "Эпоха 11\n",
            "Эпоха: 101 итераций, 23.66 сек\n",
            "Среднее значение функции потерь на обучении 1.3963994212669901\n",
            "Среднее значение функции потерь на валидации 1.574073688342021\n",
            "Новая лучшая модель!\n",
            "\n",
            "Эпоха 12\n",
            "Эпоха: 101 итераций, 23.76 сек\n",
            "Среднее значение функции потерь на обучении 1.3342942076154274\n",
            "Среднее значение функции потерь на валидации 1.529989588719148\n",
            "Новая лучшая модель!\n",
            "\n",
            "Эпоха 13\n",
            "Эпоха: 101 итераций, 23.71 сек\n",
            "Среднее значение функции потерь на обучении 1.2823907372975114\n",
            "Среднее значение функции потерь на валидации 1.4704749171550457\n",
            "Новая лучшая модель!\n",
            "\n",
            "Эпоха 14\n",
            "Эпоха: 101 итераций, 23.75 сек\n",
            "Среднее значение функции потерь на обучении 1.2298489047749208\n",
            "Среднее значение функции потерь на валидации 1.4510438551123326\n",
            "Новая лучшая модель!\n",
            "\n",
            "Эпоха 15\n",
            "Эпоха: 101 итераций, 23.58 сек\n",
            "Среднее значение функции потерь на обучении 1.1840263746752597\n",
            "Среднее значение функции потерь на валидации 1.412759355054452\n",
            "Новая лучшая модель!\n",
            "\n",
            "Эпоха 16\n",
            "Эпоха: 101 итераций, 23.70 сек\n",
            "Среднее значение функции потерь на обучении 1.1387049443650954\n",
            "Среднее значение функции потерь на валидации 1.3840316488192632\n",
            "Новая лучшая модель!\n",
            "\n",
            "Эпоха 17\n",
            "Эпоха: 101 итераций, 23.63 сек\n",
            "Среднее значение функции потерь на обучении 1.0946490982971568\n",
            "Среднее значение функции потерь на валидации 1.385393320941008\n",
            "\n",
            "Эпоха 18\n",
            "Эпоха: 101 итераций, 23.70 сек\n",
            "Среднее значение функции потерь на обучении 1.062810976906578\n",
            "Среднее значение функции потерь на валидации 1.3303361248511534\n",
            "Новая лучшая модель!\n",
            "\n",
            "Эпоха 19\n",
            "Эпоха: 101 итераций, 23.92 сек\n",
            "Среднее значение функции потерь на обучении 1.0217641869393905\n",
            "Среднее значение функции потерь на валидации 1.3360840225448976\n",
            "\n",
            "Эпоха 20\n",
            "Эпоха: 101 итераций, 23.77 сек\n",
            "Среднее значение функции потерь на обучении 0.9995753062833653\n",
            "Среднее значение функции потерь на валидации 1.297574292581815\n",
            "Новая лучшая модель!\n",
            "\n",
            "Эпоха 21\n",
            "Эпоха: 101 итераций, 23.58 сек\n",
            "Среднее значение функции потерь на обучении 0.966363506151898\n",
            "Среднее значение функции потерь на валидации 1.3272427744590318\n",
            "\n",
            "Эпоха 22\n",
            "Эпоха: 101 итераций, 23.67 сек\n",
            "Среднее значение функции потерь на обучении 0.9264992611242993\n",
            "Среднее значение функции потерь на валидации 1.2525044989127379\n",
            "Новая лучшая модель!\n",
            "\n",
            "Эпоха 23\n",
            "Эпоха: 101 итераций, 23.66 сек\n",
            "Среднее значение функции потерь на обучении 0.9181053886319152\n",
            "Среднее значение функции потерь на валидации 1.2420957896571894\n",
            "Новая лучшая модель!\n",
            "\n",
            "Эпоха 24\n",
            "Эпоха: 101 итераций, 23.77 сек\n",
            "Среднее значение функции потерь на обучении 0.8919433343528521\n",
            "Среднее значение функции потерь на валидации 1.2534318812764609\n",
            "\n",
            "Эпоха 25\n",
            "Эпоха: 101 итераций, 23.88 сек\n",
            "Среднее значение функции потерь на обучении 0.8734215905170629\n",
            "Среднее значение функции потерь на валидации 1.2538844897196844\n",
            "\n",
            "Эпоха 26\n",
            "Эпоха: 101 итераций, 23.84 сек\n",
            "Среднее значение функции потерь на обучении 0.8504400772623496\n",
            "Среднее значение функции потерь на валидации 1.2159088282630994\n",
            "Новая лучшая модель!\n",
            "\n",
            "Эпоха 27\n",
            "Эпоха: 101 итераций, 23.92 сек\n",
            "Среднее значение функции потерь на обучении 0.8279720447441139\n",
            "Среднее значение функции потерь на валидации 1.2125829739066272\n",
            "Новая лучшая модель!\n",
            "\n",
            "Эпоха 28\n",
            "Эпоха: 101 итераций, 23.77 сек\n",
            "Среднее значение функции потерь на обучении 0.7860522641993986\n",
            "Среднее значение функции потерь на валидации 1.1743789063050196\n",
            "Новая лучшая модель!\n",
            "\n",
            "Эпоха 29\n",
            "Эпоха: 101 итераций, 23.82 сек\n",
            "Среднее значение функции потерь на обучении 0.7802406398966761\n",
            "Среднее значение функции потерь на валидации 1.2017064547309508\n",
            "\n",
            "Эпоха 30\n",
            "Эпоха: 101 итераций, 23.92 сек\n",
            "Среднее значение функции потерь на обучении 0.7716513872146606\n",
            "Среднее значение функции потерь на валидации 1.1691279313885248\n",
            "Новая лучшая модель!\n",
            "\n",
            "Эпоха 31\n",
            "Эпоха: 101 итераций, 23.95 сек\n",
            "Среднее значение функции потерь на обучении 0.7482319391599976\n",
            "Среднее значение функции потерь на валидации 1.1592883055026715\n",
            "Новая лучшая модель!\n",
            "\n",
            "Эпоха 32\n",
            "Эпоха: 101 итераций, 24.00 сек\n",
            "Среднее значение функции потерь на обучении 0.7375251807198666\n",
            "Среднее значение функции потерь на валидации 1.1606079208163114\n",
            "\n",
            "Эпоха 33\n",
            "Эпоха: 101 итераций, 23.91 сек\n",
            "Среднее значение функции потерь на обучении 0.7090621870933193\n",
            "Среднее значение функции потерь на валидации 1.1704801699289908\n",
            "\n",
            "Эпоха 34\n",
            "Эпоха: 101 итераций, 23.93 сек\n",
            "Среднее значение функции потерь на обучении 0.6923098348745025\n",
            "Среднее значение функции потерь на валидации 1.1274238635714238\n",
            "Новая лучшая модель!\n",
            "\n",
            "Эпоха 35\n",
            "Эпоха: 101 итераций, 23.93 сек\n",
            "Среднее значение функции потерь на обучении 0.6894349668285634\n",
            "Среднее значение функции потерь на валидации 1.1945321468206553\n",
            "\n",
            "Эпоха 36\n",
            "Эпоха: 101 итераций, 24.03 сек\n",
            "Среднее значение функции потерь на обучении 0.6931375492327284\n",
            "Среднее значение функции потерь на валидации 1.1335084340893304\n",
            "\n",
            "Эпоха 37\n",
            "Эпоха: 101 итераций, 23.99 сек\n",
            "Среднее значение функции потерь на обучении 0.6693716279350885\n",
            "Среднее значение функции потерь на валидации 1.12744746529139\n",
            "\n",
            "Эпоха 38\n",
            "Эпоха: 101 итераций, 23.93 сек\n",
            "Среднее значение функции потерь на обучении 0.6519015224853365\n",
            "Среднее значение функции потерь на валидации 1.150764456162086\n",
            "Epoch    39: reducing learning rate of group 0 to 2.5000e-04.\n",
            "\n",
            "Эпоха 39\n",
            "Эпоха: 101 итераций, 23.99 сек\n",
            "Среднее значение функции потерь на обучении 0.5933823898287103\n",
            "Среднее значение функции потерь на валидации 1.1346511474022498\n",
            "\n",
            "Эпоха 40\n",
            "Эпоха: 101 итераций, 23.91 сек\n",
            "Среднее значение функции потерь на обучении 0.5510739852296244\n",
            "Среднее значение функции потерь на валидации 1.132154336342445\n",
            "\n",
            "Эпоха 41\n",
            "Эпоха: 101 итераций, 23.83 сек\n",
            "Среднее значение функции потерь на обучении 0.5517332149614201\n",
            "Среднее значение функции потерь на валидации 1.110836583834428\n",
            "Новая лучшая модель!\n",
            "\n",
            "Эпоха 42\n",
            "Эпоха: 101 итераций, 24.11 сек\n",
            "Среднее значение функции потерь на обучении 0.5418722366932596\n",
            "Среднее значение функции потерь на валидации 1.1093551785900042\n",
            "Новая лучшая модель!\n",
            "\n",
            "Эпоха 43\n",
            "Эпоха: 101 итераций, 24.01 сек\n",
            "Среднее значение функции потерь на обучении 0.5421714160111871\n",
            "Среднее значение функции потерь на валидации 1.0981506203802733\n",
            "Новая лучшая модель!\n",
            "\n",
            "Эпоха 44\n",
            "Эпоха: 101 итераций, 24.09 сек\n",
            "Среднее значение функции потерь на обучении 0.5340976529192216\n",
            "Среднее значение функции потерь на валидации 1.0981288025012383\n",
            "Новая лучшая модель!\n",
            "\n",
            "Эпоха 45\n",
            "Эпоха: 101 итераций, 24.02 сек\n",
            "Среднее значение функции потерь на обучении 0.5223987273650594\n",
            "Среднее значение функции потерь на валидации 1.0878063686765158\n",
            "Новая лучшая модель!\n",
            "\n",
            "Эпоха 46\n",
            "Эпоха: 101 итераций, 23.87 сек\n",
            "Среднее значение функции потерь на обучении 0.514249727572545\n",
            "Среднее значение функции потерь на валидации 1.0963281203921025\n",
            "\n",
            "Эпоха 47\n",
            "Эпоха: 101 итераций, 23.90 сек\n",
            "Среднее значение функции потерь на обучении 0.5056516159288954\n",
            "Среднее значение функции потерь на валидации 1.0978604835959582\n",
            "\n",
            "Эпоха 48\n",
            "Эпоха: 101 итераций, 24.05 сек\n",
            "Среднее значение функции потерь на обучении 0.5081842110888792\n",
            "Среднее значение функции потерь на валидации 1.0813242632609148\n",
            "Новая лучшая модель!\n",
            "\n",
            "Эпоха 49\n",
            "Эпоха: 101 итераций, 24.02 сек\n",
            "Среднее значение функции потерь на обучении 0.5010075129494809\n",
            "Среднее значение функции потерь на валидации 1.0919074398966937\n",
            "\n",
            "Эпоха 50\n",
            "Эпоха: 101 итераций, 23.83 сек\n",
            "Среднее значение функции потерь на обучении 0.5022696755310097\n",
            "Среднее значение функции потерь на валидации 1.104363576723979\n",
            "\n",
            "Эпоха 51\n",
            "Эпоха: 101 итераций, 23.98 сек\n",
            "Среднее значение функции потерь на обучении 0.4957588518610095\n",
            "Среднее значение функции потерь на валидации 1.0754020629593959\n",
            "Новая лучшая модель!\n",
            "\n",
            "Эпоха 52\n",
            "Эпоха: 101 итераций, 23.83 сек\n",
            "Среднее значение функции потерь на обучении 0.48436708320485483\n",
            "Среднее значение функции потерь на валидации 1.0852494678245141\n",
            "\n",
            "Эпоха 53\n",
            "Эпоха: 101 итераций, 23.88 сек\n",
            "Среднее значение функции потерь на обучении 0.5001873136451929\n",
            "Среднее значение функции потерь на валидации 1.093991313702785\n",
            "\n",
            "Эпоха 54\n",
            "Эпоха: 101 итераций, 24.00 сек\n",
            "Среднее значение функции потерь на обучении 0.49198912866044753\n",
            "Среднее значение функции потерь на валидации 1.1073930458380625\n",
            "\n",
            "Эпоха 55\n",
            "Эпоха: 101 итераций, 23.99 сек\n",
            "Среднее значение функции потерь на обучении 0.48227882444268405\n",
            "Среднее значение функции потерь на валидации 1.0997738124659429\n",
            "Epoch    56: reducing learning rate of group 0 to 5.0000e-05.\n",
            "\n",
            "Эпоха 56\n",
            "Эпоха: 101 итераций, 23.81 сек\n",
            "Среднее значение функции потерь на обучении 0.4776512472936423\n",
            "Среднее значение функции потерь на валидации 1.0805184525939135\n",
            "\n",
            "Эпоха 57\n",
            "Эпоха: 101 итераций, 23.80 сек\n",
            "Среднее значение функции потерь на обучении 0.4617085642743819\n",
            "Среднее значение функции потерь на валидации 1.0857395948125765\n",
            "\n",
            "Эпоха 58\n",
            "Эпоха: 101 итераций, 23.91 сек\n",
            "Среднее значение функции потерь на обучении 0.4435080602617547\n",
            "Среднее значение функции потерь на валидации 1.0921839406857123\n",
            "\n",
            "Эпоха 59\n",
            "Эпоха: 101 итераций, 23.91 сек\n",
            "Среднее значение функции потерь на обучении 0.4680513975643876\n",
            "Среднее значение функции потерь на валидации 1.084423884176291\n",
            "Epoch    60: reducing learning rate of group 0 to 1.0000e-05.\n",
            "\n",
            "Эпоха 60\n",
            "Эпоха: 101 итераций, 24.02 сек\n",
            "Среднее значение функции потерь на обучении 0.45672318708188464\n",
            "Среднее значение функции потерь на валидации 1.0814438743086963\n",
            "Модель не улучшилась за последние 8 эпох, прекращаем обучение\n"
          ],
          "name": "stdout"
        }
      ]
    },
    {
      "cell_type": "code",
      "metadata": {
        "id": "ghe0zoP4c3vt",
        "colab_type": "code",
        "outputId": "7b676b53-09db-48f8-f27b-9a9dbf28674e",
        "colab": {
          "base_uri": "https://localhost:8080/",
          "height": 703
        }
      },
      "source": [
        "pd.DataFrame(losses).plot();"
      ],
      "execution_count": 0,
      "outputs": [
        {
          "output_type": "display_data",
          "data": {
            "image/png": "[encoded data removed]",
            "text/plain": [
              "<Figure size 864x864 with 1 Axes>"
            ]
          },
          "metadata": {
            "tags": [],
            "needs_background": "light"
          }
        }
      ]
    },
    {
      "cell_type": "code",
      "metadata": {
        "ExecuteTime": {
          "end_time": "2019-08-29T13:56:16.564926Z",
          "start_time": "2019-08-29T13:56:16.544481Z"
        },
        "id": "j6_Z8S3SgFwn",
        "colab_type": "code",
        "outputId": "8746baab-4415-4f54-9572-08890da51885",
        "colab": {
          "base_uri": "https://localhost:8080/",
          "height": 33
        }
      },
      "source": [
        "model.load_state_dict(torch.load(models_path))"
      ],
      "execution_count": 0,
      "outputs": [
        {
          "output_type": "execute_result",
          "data": {
            "text/plain": [
              "<All keys matched successfully>"
            ]
          },
          "metadata": {
            "tags": []
          },
          "execution_count": 22
        }
      ]
    },
    {
      "cell_type": "markdown",
      "metadata": {
        "id": "9yBwoQnWypb5",
        "colab_type": "text"
      },
      "source": [
        "## Проверки"
      ]
    },
    {
      "cell_type": "code",
      "metadata": {
        "id": "rDx8tvIeyoe0",
        "colab_type": "code",
        "colab": {}
      },
      "source": [
        "id2tag = {item[1]: item[0] for item in tag2id.items()}\n",
        "UNIQUE_TAGS = [id2tag[i] for i in range(len(tag2id))]\n"
      ],
      "execution_count": 0,
      "outputs": []
    },
    {
      "cell_type": "markdown",
      "metadata": {
        "id": "vaq1J92ryPNx",
        "colab_type": "text"
      },
      "source": [
        "### Проверка - train"
      ]
    },
    {
      "cell_type": "code",
      "metadata": {
        "id": "3aNr47CYdSFa",
        "colab_type": "code",
        "outputId": "2d503b11-feae-4ddd-983e-28d7c0fa8f73",
        "colab": {
          "base_uri": "https://localhost:8080/",
          "height": 300
        }
      },
      "source": [
        "train_pred = predict_with_model(model, train_dataset)\n",
        "print(classification_report(train_targets.view(-1), train_pred.reshape(-1), target_names=UNIQUE_TAGS))"
      ],
      "execution_count": 0,
      "outputs": [
        {
          "output_type": "stream",
          "text": [
            "472it [00:17, 27.56it/s]                               \n"
          ],
          "name": "stderr"
        },
        {
          "output_type": "stream",
          "text": [
            "              precision    recall  f1-score   support\n",
            "\n",
            "     <NOTAG>       1.00      1.00      1.00   1646703\n",
            "       I-LOC       0.94      0.98      0.96      9166\n",
            "       I-PER       0.98      0.99      0.99     11588\n",
            "       I-ORG       0.94      0.96      0.95     10721\n",
            "       B-LOC       1.00      0.09      0.17       231\n",
            "      B-MISC       0.97      0.68      0.80       777\n",
            "       B-ORG       1.00      0.50      0.67       504\n",
            "           O       1.00      1.00      1.00    184278\n",
            "      I-MISC       0.93      0.97      0.95      6076\n",
            "\n",
            "    accuracy                           1.00   1870044\n",
            "   macro avg       0.97      0.80      0.83   1870044\n",
            "weighted avg       1.00      1.00      1.00   1870044\n",
            "\n"
          ],
          "name": "stdout"
        }
      ]
    },
    {
      "cell_type": "markdown",
      "metadata": {
        "id": "5p2jdVB-yUHQ",
        "colab_type": "text"
      },
      "source": [
        "### Проверка - valid"
      ]
    },
    {
      "cell_type": "code",
      "metadata": {
        "id": "qAh6GumkdR4G",
        "colab_type": "code",
        "colab": {}
      },
      "source": [
        "# valid_pred = predict_with_model(model, valid_dataset)\n",
        "\n",
        "\n",
        "# print(classification_report(valid_targets.view(-1), valid_pred.reshape(-1), target_names=UNIQUE_TAGS))"
      ],
      "execution_count": 0,
      "outputs": []
    },
    {
      "cell_type": "markdown",
      "metadata": {
        "id": "CtXo2-Ioybnx",
        "colab_type": "text"
      },
      "source": [
        "### Проверка - test"
      ]
    },
    {
      "cell_type": "code",
      "metadata": {
        "id": "pIC16ECm_58u",
        "colab_type": "code",
        "outputId": "15eaf30d-9aec-4041-c9a8-d4ab4bfca72b",
        "colab": {
          "base_uri": "https://localhost:8080/",
          "height": 300
        }
      },
      "source": [
        "test_pred = predict_with_model(model, test_dataset)\n",
        "\n",
        "print(classification_report(test_targets.view(-1), test_pred.reshape(-1), target_names=UNIQUE_TAGS))"
      ],
      "execution_count": 0,
      "outputs": [
        {
          "output_type": "stream",
          "text": [
            "100%|██████████| 108/107.90625 [00:03<00:00, 27.72it/s]\n"
          ],
          "name": "stderr"
        },
        {
          "output_type": "stream",
          "text": [
            "              precision    recall  f1-score   support\n",
            "\n",
            "     <NOTAG>       1.00      1.00      1.00    381737\n",
            "       I-LOC       0.78      0.86      0.82      1919\n",
            "       I-PER       0.88      0.89      0.88      2773\n",
            "       I-ORG       0.76      0.77      0.77      2491\n",
            "       B-LOC       0.00      0.00      0.00         6\n",
            "      B-MISC       0.33      0.11      0.17         9\n",
            "       B-ORG       0.00      0.00      0.00         5\n",
            "           O       0.99      0.98      0.99     38323\n",
            "      I-MISC       0.71      0.76      0.74       909\n",
            "\n",
            "    accuracy                           1.00    428172\n",
            "   macro avg       0.61      0.60      0.60    428172\n",
            "weighted avg       1.00      1.00      1.00    428172\n",
            "\n"
          ],
          "name": "stdout"
        }
      ]
    },
    {
      "cell_type": "markdown",
      "metadata": {
        "id": "8tZ3TbhngFxV",
        "colab_type": "text"
      },
      "source": [
        "## Применение теггера"
      ]
    },
    {
      "cell_type": "code",
      "metadata": {
        "id": "dBORSeRvdITg",
        "colab_type": "code",
        "colab": {}
      },
      "source": [
        "!python -m spacy download en_core_web_sm > /dev/null"
      ],
      "execution_count": 0,
      "outputs": []
    },
    {
      "cell_type": "code",
      "metadata": {
        "ExecuteTime": {
          "end_time": "2019-08-29T13:56:42.105418Z",
          "start_time": "2019-08-29T13:56:42.093744Z"
        },
        "id": "gM1646Q7gFxX",
        "colab_type": "code",
        "colab": {}
      },
      "source": [
        "\n",
        "ner_tagger = NERTagger(model, bpe_tokenizer, UNIQUE_TAGS, max_sent_len, max_token_len, BPE_DROPOUT)"
      ],
      "execution_count": 0,
      "outputs": []
    },
    {
      "cell_type": "code",
      "metadata": {
        "id": "XnZHW0OKbcLO",
        "colab_type": "code",
        "colab": {}
      },
      "source": [
        "nlp = spacy.load('en_core_web_sm')\n"
      ],
      "execution_count": 0,
      "outputs": []
    },
    {
      "cell_type": "code",
      "metadata": {
        "ExecuteTime": {
          "end_time": "2019-08-29T13:56:42.125540Z",
          "start_time": "2019-08-29T13:56:42.106771Z"
        },
        "id": "JHOY3BpZgFxd",
        "colab_type": "code",
        "colab": {}
      },
      "source": [
        "test_sentences = [\n",
        "    'Mr Trump said Mr Linick no longer had his full confidence and that he would be removed in 30 days.',\n",
        "    'Mr Linick had begun investigating Secretary of State Mike Pompeo for suspected abuse of office, reports say.',\n",
        "    'Democrats say Mr Trump is retaliating against public servants who want to hold his administration to account.',\n",
        "    'Donald Trump, who is campaigning for re-election in November, has stepped up his attacks on China in recent weeks, blaming it for the spread of Covid-19.',\n",
        "    'The team led by Fernando Novas from the Natural Sciences Museum in Buenos Aires discovered many fossils during its month-long field work in Estancia La Anita, in southern Santa Cruz province.',\n",
        "    \"The rehearsal at Kennedy Space Center saw a Falcon-9 vehicle's ascent into the sky deliberately terminated just 80 seconds after lift-off.\"\n",
        "]\n",
        "test_sentences_tokenized = tokenize_corpus(test_sentences)\n",
        "# test_sentences_tokenized = [[token.text for token in nlp.tokenizer(sent) ] for sent in test_sentences]"
      ],
      "execution_count": 0,
      "outputs": []
    },
    {
      "cell_type": "code",
      "metadata": {
        "ExecuteTime": {
          "end_time": "2019-08-29T13:56:42.168810Z",
          "start_time": "2019-08-29T13:56:42.149698Z"
        },
        "id": "vbozpJwYgFxs",
        "colab_type": "code",
        "outputId": "882a3a44-9c40-47c7-a576-2ca622bb1b7c",
        "colab": {
          "base_uri": "https://localhost:8080/",
          "height": 253
        }
      },
      "source": [
        "for sent_tokens, sent_tags in zip(test_sentences_tokenized, ner_tagger(test_sentences)):\n",
        "    print()\n",
        "    assert len(sent_tokens) == len(sent_tags)\n",
        "    print(' '.join('{}-{}'.format(tok, tag) for tok, tag in zip(sent_tokens, sent_tags)))"
      ],
      "execution_count": 0,
      "outputs": [
        {
          "output_type": "stream",
          "text": [
            "1it [00:00, 73.92it/s]                    "
          ],
          "name": "stderr"
        },
        {
          "output_type": "stream",
          "text": [
            "\n",
            "Mr-I-PER Trump-I-PER said-O Mr-O Linick-I-PER no-O longer-O had-O his-O full-O confidence-O and-O that-O he-O would-O be-O removed-O in-O 30-O days-O .-O\n",
            "\n",
            "Mr-I-PER Linick-I-PER had-O begun-O investigating-O Secretary-O of-O State-O Mike-I-PER Pompeo-O for-O suspected-O abuse-O of-O office-O ,-O reports-O say-O .-O\n",
            "\n",
            "Democrats-I-MISC say-O Mr-O Trump-I-LOC is-O retaliating-O against-O public-O servants-O who-O want-O to-O hold-O his-O administration-O to-O account-O .-O\n",
            "\n",
            "Donald-I-PER Trump-I-PER ,-O who-O is-O campaigning-O for-O re-O --O election-O in-O November-O ,-O has-O stepped-O up-O his-O attacks-O on-O China-I-LOC in-O recent-O weeks-O ,-O blaming-O it-O for-O the-O spread-O of-O Covid-19-O .-O\n",
            "\n",
            "The-O team-O led-O by-O Fernando-I-PER Novas-I-PER from-O the-O Natural-I-ORG Sciences-I-ORG Museum-I-ORG in-O Buenos-I-LOC Aires-I-LOC discovered-O many-O fossils-O during-O its-O month-O --O long-O field-O work-O in-O Estancia-I-LOC La-I-LOC Anita-I-LOC ,-O in-O southern-O Santa-I-LOC Cruz-I-LOC province-O .-O\n",
            "\n",
            "The-O rehearsal-O at-O Kennedy-I-ORG Space-I-ORG Center-I-ORG saw-O a-O Falcon-9-O vehicle-O 's-O ascent-O into-O the-O sky-O deliberately-O terminated-O just-O 80-O seconds-O after-O lift-O --O off-O .-O\n"
          ],
          "name": "stdout"
        },
        {
          "output_type": "stream",
          "text": [
            "\n"
          ],
          "name": "stderr"
        }
      ]
    },
    {
      "cell_type": "code",
      "metadata": {
        "id": "TxHF5NAVFuvi",
        "colab_type": "code",
        "colab": {}
      },
      "source": [
        ""
      ],
      "execution_count": 0,
      "outputs": []
    }
  ]
}