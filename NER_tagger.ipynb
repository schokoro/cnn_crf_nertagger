{
  "nbformat": 4,
  "nbformat_minor": 0,
  "metadata": {
    "kernelspec": {
      "name": "python3",
      "display_name": "Python 3"
    },
    "language_info": {
      "codemirror_mode": {
        "name": "ipython",
        "version": 3
      },
      "file_extension": ".py",
      "mimetype": "text/x-python",
      "name": "python",
      "nbconvert_exporter": "python",
      "pygments_lexer": "ipython3",
      "version": "3.7.1"
    },
    "latex_envs": {
      "LaTeX_envs_menu_present": true,
      "autoclose": false,
      "autocomplete": true,
      "bibliofile": "biblio.bib",
      "cite_by": "apalike",
      "current_citInitial": 1,
      "eqLabelWithNumbers": true,
      "eqNumInitial": 1,
      "hotkeys": {
        "equation": "Ctrl-E",
        "itemize": "Ctrl-I"
      },
      "labels_anchors": false,
      "latex_user_defs": false,
      "report_style_numbering": false,
      "user_envs_cfg": false
    },
    "toc": {
      "base_numbering": 1,
      "nav_menu": {},
      "number_sections": true,
      "sideBar": true,
      "skip_h1_title": false,
      "title_cell": "Table of Contents",
      "title_sidebar": "Contents",
      "toc_cell": false,
      "toc_position": {},
      "toc_section_display": true,
      "toc_window_display": true
    },
    "colab": {
      "name": "NER_tagger.ipynb",
      "provenance": [],
      "collapsed_sections": [],
      "toc_visible": true,
      "include_colab_link": true
    },
    "accelerator": "GPU",
    "widgets": {
      "application/vnd.jupyter.widget-state+json": {
        "4bc5186160bd4ac69db622e0c6c02f54": {
          "model_module": "@jupyter-widgets/controls",
          "model_name": "HBoxModel",
          "state": {
            "_view_name": "HBoxView",
            "_dom_classes": [],
            "_model_name": "HBoxModel",
            "_view_module": "@jupyter-widgets/controls",
            "_model_module_version": "1.5.0",
            "_view_count": null,
            "_view_module_version": "1.5.0",
            "box_style": "",
            "layout": "IPY_MODEL_11ea460772df48949152e78b0ed0157c",
            "_model_module": "@jupyter-widgets/controls",
            "children": [
              "IPY_MODEL_d5c4db5c9c0f48b2872913ba4426b9c8",
              "IPY_MODEL_84a264b0e7b84f6eb5be515dde9a8da7"
            ]
          }
        },
        "11ea460772df48949152e78b0ed0157c": {
          "model_module": "@jupyter-widgets/base",
          "model_name": "LayoutModel",
          "state": {
            "_view_name": "LayoutView",
            "grid_template_rows": null,
            "right": null,
            "justify_content": null,
            "_view_module": "@jupyter-widgets/base",
            "overflow": null,
            "_model_module_version": "1.2.0",
            "_view_count": null,
            "flex_flow": null,
            "width": null,
            "min_width": null,
            "border": null,
            "align_items": null,
            "bottom": null,
            "_model_module": "@jupyter-widgets/base",
            "top": null,
            "grid_column": null,
            "overflow_y": null,
            "overflow_x": null,
            "grid_auto_flow": null,
            "grid_area": null,
            "grid_template_columns": null,
            "flex": null,
            "_model_name": "LayoutModel",
            "justify_items": null,
            "grid_row": null,
            "max_height": null,
            "align_content": null,
            "visibility": null,
            "align_self": null,
            "height": null,
            "min_height": null,
            "padding": null,
            "grid_auto_rows": null,
            "grid_gap": null,
            "max_width": null,
            "order": null,
            "_view_module_version": "1.2.0",
            "grid_template_areas": null,
            "object_position": null,
            "object_fit": null,
            "grid_auto_columns": null,
            "margin": null,
            "display": null,
            "left": null
          }
        },
        "d5c4db5c9c0f48b2872913ba4426b9c8": {
          "model_module": "@jupyter-widgets/controls",
          "model_name": "FloatProgressModel",
          "state": {
            "_view_name": "ProgressView",
            "style": "IPY_MODEL_812a8bf36b85484b8ae22462dd999920",
            "_dom_classes": [],
            "description": "100%",
            "_model_name": "FloatProgressModel",
            "bar_style": "success",
            "max": 101,
            "_view_module": "@jupyter-widgets/controls",
            "_model_module_version": "1.5.0",
            "value": 101,
            "_view_count": null,
            "_view_module_version": "1.5.0",
            "orientation": "horizontal",
            "min": 0,
            "description_tooltip": null,
            "_model_module": "@jupyter-widgets/controls",
            "layout": "IPY_MODEL_fadf5b93c71b4e57894af5293182e86b"
          }
        },
        "84a264b0e7b84f6eb5be515dde9a8da7": {
          "model_module": "@jupyter-widgets/controls",
          "model_name": "HTMLModel",
          "state": {
            "_view_name": "HTMLView",
            "style": "IPY_MODEL_226fe3c91c3148b89e0d208ce1065c8f",
            "_dom_classes": [],
            "description": "",
            "_model_name": "HTMLModel",
            "placeholder": "​",
            "_view_module": "@jupyter-widgets/controls",
            "_model_module_version": "1.5.0",
            "value": " 101/101 [00:10&lt;00:00,  9.85it/s]",
            "_view_count": null,
            "_view_module_version": "1.5.0",
            "description_tooltip": null,
            "_model_module": "@jupyter-widgets/controls",
            "layout": "IPY_MODEL_814525cfcbd04e76a7b7cd55d6417689"
          }
        },
        "812a8bf36b85484b8ae22462dd999920": {
          "model_module": "@jupyter-widgets/controls",
          "model_name": "ProgressStyleModel",
          "state": {
            "_view_name": "StyleView",
            "_model_name": "ProgressStyleModel",
            "description_width": "initial",
            "_view_module": "@jupyter-widgets/base",
            "_model_module_version": "1.5.0",
            "_view_count": null,
            "_view_module_version": "1.2.0",
            "bar_color": null,
            "_model_module": "@jupyter-widgets/controls"
          }
        },
        "fadf5b93c71b4e57894af5293182e86b": {
          "model_module": "@jupyter-widgets/base",
          "model_name": "LayoutModel",
          "state": {
            "_view_name": "LayoutView",
            "grid_template_rows": null,
            "right": null,
            "justify_content": null,
            "_view_module": "@jupyter-widgets/base",
            "overflow": null,
            "_model_module_version": "1.2.0",
            "_view_count": null,
            "flex_flow": null,
            "width": null,
            "min_width": null,
            "border": null,
            "align_items": null,
            "bottom": null,
            "_model_module": "@jupyter-widgets/base",
            "top": null,
            "grid_column": null,
            "overflow_y": null,
            "overflow_x": null,
            "grid_auto_flow": null,
            "grid_area": null,
            "grid_template_columns": null,
            "flex": null,
            "_model_name": "LayoutModel",
            "justify_items": null,
            "grid_row": null,
            "max_height": null,
            "align_content": null,
            "visibility": null,
            "align_self": null,
            "height": null,
            "min_height": null,
            "padding": null,
            "grid_auto_rows": null,
            "grid_gap": null,
            "max_width": null,
            "order": null,
            "_view_module_version": "1.2.0",
            "grid_template_areas": null,
            "object_position": null,
            "object_fit": null,
            "grid_auto_columns": null,
            "margin": null,
            "display": null,
            "left": null
          }
        },
        "226fe3c91c3148b89e0d208ce1065c8f": {
          "model_module": "@jupyter-widgets/controls",
          "model_name": "DescriptionStyleModel",
          "state": {
            "_view_name": "StyleView",
            "_model_name": "DescriptionStyleModel",
            "description_width": "",
            "_view_module": "@jupyter-widgets/base",
            "_model_module_version": "1.5.0",
            "_view_count": null,
            "_view_module_version": "1.2.0",
            "_model_module": "@jupyter-widgets/controls"
          }
        },
        "814525cfcbd04e76a7b7cd55d6417689": {
          "model_module": "@jupyter-widgets/base",
          "model_name": "LayoutModel",
          "state": {
            "_view_name": "LayoutView",
            "grid_template_rows": null,
            "right": null,
            "justify_content": null,
            "_view_module": "@jupyter-widgets/base",
            "overflow": null,
            "_model_module_version": "1.2.0",
            "_view_count": null,
            "flex_flow": null,
            "width": null,
            "min_width": null,
            "border": null,
            "align_items": null,
            "bottom": null,
            "_model_module": "@jupyter-widgets/base",
            "top": null,
            "grid_column": null,
            "overflow_y": null,
            "overflow_x": null,
            "grid_auto_flow": null,
            "grid_area": null,
            "grid_template_columns": null,
            "flex": null,
            "_model_name": "LayoutModel",
            "justify_items": null,
            "grid_row": null,
            "max_height": null,
            "align_content": null,
            "visibility": null,
            "align_self": null,
            "height": null,
            "min_height": null,
            "padding": null,
            "grid_auto_rows": null,
            "grid_gap": null,
            "max_width": null,
            "order": null,
            "_view_module_version": "1.2.0",
            "grid_template_areas": null,
            "object_position": null,
            "object_fit": null,
            "grid_auto_columns": null,
            "margin": null,
            "display": null,
            "left": null
          }
        }
      }
    }
  },
  "cells": [
    {
      "cell_type": "markdown",
      "metadata": {
        "id": "view-in-github",
        "colab_type": "text"
      },
      "source": [
        "<a href=\"https://colab.research.google.com/github/schokoro/cnn_crf_nertagger/blob/dataset/NER_tagger.ipynb\" target=\"_parent\"><img src=\"https://colab.research.google.com/assets/colab-badge.svg\" alt=\"Open In Colab\"/></a>"
      ]
    },
    {
      "cell_type": "markdown",
      "metadata": {
        "id": "p_aAUmhzgFqt",
        "colab_type": "text"
      },
      "source": [
        "# CNN и CRF для извлечения именованных сущностей\n",
        "\n"
      ]
    },
    {
      "cell_type": "code",
      "metadata": {
        "id": "kVSH61-2h4l6",
        "colab_type": "code",
        "outputId": "e31b564e-0553-4757-f3ef-4868354d5cfb",
        "colab": {
          "base_uri": "https://localhost:8080/",
          "height": 34
        }
      },
      "source": [
        "import torch\n",
        "device = torch.device(\"cuda:0\" if torch.cuda.is_available() else \"cpu\")\n",
        "if device == 'cpu':\n",
        "    print('cpu')\n",
        "else:\n",
        "    n_gpu = torch.cuda.device_count()\n",
        "    print(torch.cuda.get_device_name(0))\n",
        "    "
      ],
      "execution_count": 0,
      "outputs": [
        {
          "output_type": "stream",
          "text": [
            "Tesla T4\n"
          ],
          "name": "stdout"
        }
      ]
    },
    {
      "cell_type": "code",
      "metadata": {
        "id": "yS5uM1WVOCz8",
        "colab_type": "code",
        "colab": {}
      },
      "source": [
        "import sys\n",
        "sys.path.append('/content/cnn_crf_nertagger')"
      ],
      "execution_count": 0,
      "outputs": []
    },
    {
      "cell_type": "code",
      "metadata": {
        "id": "SVzEU3MPb8nK",
        "colab_type": "code",
        "colab": {}
      },
      "source": [
        "!rm -rf cnn_crf_nertagger/"
      ],
      "execution_count": 0,
      "outputs": []
    },
    {
      "cell_type": "code",
      "metadata": {
        "id": "2BZw4sQ4gFrj",
        "colab_type": "code",
        "outputId": "d4a6aa97-b690-4562-839e-81ac08ca46b2",
        "colab": {
          "base_uri": "https://localhost:8080/",
          "height": 136
        }
      },
      "source": [
        "!git clone -b dataset https://github.com/schokoro/cnn_crf_nertagger.git > /dev/null\n",
        "!pip install allennlp wget youtokentome ipymarkup seqeval> /dev/null\n"
      ],
      "execution_count": 0,
      "outputs": [
        {
          "output_type": "stream",
          "text": [
            "Cloning into 'cnn_crf_nertagger'...\n",
            "remote: Enumerating objects: 210, done.\u001b[K\n",
            "remote: Counting objects: 100% (210/210), done.\u001b[K\n",
            "remote: Compressing objects: 100% (128/128), done.\u001b[K\n",
            "remote: Total 210 (delta 103), reused 160 (delta 65), pack-reused 0\u001b[K\n",
            "Receiving objects: 100% (210/210), 198.63 KiB | 318.00 KiB/s, done.\n",
            "Resolving deltas: 100% (103/103), done.\n"
          ],
          "name": "stdout"
        }
      ]
    },
    {
      "cell_type": "code",
      "metadata": {
        "ExecuteTime": {
          "end_time": "2019-10-29T19:49:34.549739Z",
          "start_time": "2019-10-29T19:49:32.179692Z"
        },
        "id": "ol61j2fHgFsh",
        "colab_type": "code",
        "colab": {}
      },
      "source": [
        "%load_ext autoreload\n",
        "%autoreload 2\n",
        "\n",
        "import spacy\n",
        "import warnings\n",
        "warnings.filterwarnings('ignore')\n",
        "import numpy as np\n",
        "from torch.nn import functional as F\n",
        "from torch.utils.data import TensorDataset\n",
        "from allennlp.data.dataset_readers.conll2003 import Conll2003DatasetReader\n",
        "from allennlp.common.util import ensure_list\n",
        "from allennlp.data.vocabulary import Vocabulary\n",
        "from allennlp.training.metrics import SpanBasedF1Measure\n",
        "from torch import nn\n",
        "from torch.nn import functional as F\n",
        "# from torch.utils.data import TensorDataset\n",
        "from pdb import set_trace\n",
        "from gc import collect\n",
        "from tqdm.notebook import tqdm\n",
        "import wget\n",
        "from multiprocessing import cpu_count\n",
        "import cnn_crf_nertagger\n",
        "from cnn_crf_nertagger.modules.modules import NERTaggerModel, NERTagger\n",
        "from cnn_crf_nertagger.utils.pipeline import train_eval_loop, predict_with_model\n",
        "from cnn_crf_nertagger.utils.prepare import tag_corpus_to_tensor, tokenize_corpus, make_yttm_tokenizer, highlight_text, tensor_to_tags, ConllDataset\n",
        "from os import path, listdir\n",
        "import pandas as pd\n",
        "import seaborn as sns\n",
        "from matplotlib import rcParams\n",
        "from seqeval.metrics import classification_report\n",
        "sns.set()\n",
        "%matplotlib inline\n",
        "\n",
        "rcParams['figure.figsize'] = 12, 12\n",
        "torch.backends.cudnn.deterministic=False "
      ],
      "execution_count": 0,
      "outputs": []
    },
    {
      "cell_type": "markdown",
      "metadata": {
        "id": "inP4QwcDgFs3",
        "colab_type": "text"
      },
      "source": [
        "## Подготовка данных\n",
        "\n"
      ]
    },
    {
      "cell_type": "markdown",
      "metadata": {
        "id": "aXvdhaF5nPcQ",
        "colab_type": "text"
      },
      "source": [
        "\n",
        "### Загружаем корпуса"
      ]
    },
    {
      "cell_type": "code",
      "metadata": {
        "id": "7HUaGBS4nD1g",
        "colab_type": "code",
        "outputId": "c78eeaa8-e91a-4779-ad50-e5e6ef8cda46",
        "colab": {
          "base_uri": "https://localhost:8080/",
          "height": 34
        }
      },
      "source": [
        "!rm -fv /content/cnn_crf_nertagger/data/*\n"
      ],
      "execution_count": 0,
      "outputs": [
        {
          "output_type": "stream",
          "text": [
            "removed '/content/cnn_crf_nertagger/data/readme.txt'\n"
          ],
          "name": "stdout"
        }
      ]
    },
    {
      "cell_type": "code",
      "metadata": {
        "ExecuteTime": {
          "end_time": "2019-10-29T19:49:56.525561Z",
          "start_time": "2019-10-29T19:49:37.315213Z"
        },
        "id": "uo0ZTJ1FgFti",
        "colab_type": "code",
        "colab": {}
      },
      "source": [
        "path_data = '/content/cnn_crf_nertagger/data/'\n",
        "path_train = '/content/cnn_crf_nertagger/data/eng.train'\n",
        "path_valid = '/content/cnn_crf_nertagger/data/eng.testa'\n",
        "path_test = '/content/cnn_crf_nertagger/data/eng.testb'\n",
        "\n",
        "dataset_urls = {\n",
        "    'eng.testa': 'https://raw.githubusercontent.com/synalp/NER/master/corpus/CoNLL-2003/eng.testa',\n",
        "    'eng.testb': 'https://raw.githubusercontent.com/synalp/NER/master/corpus/CoNLL-2003/eng.testb',\n",
        "    'eng.train': 'https://raw.githubusercontent.com/synalp/NER/master/corpus/CoNLL-2003/eng.train'}\n",
        "for file_name in dataset_urls:\n",
        "    wget.download(dataset_urls[file_name], path.join(path_data, file_name))"
      ],
      "execution_count": 0,
      "outputs": []
    },
    {
      "cell_type": "code",
      "metadata": {
        "id": "r6AABrk05iiC",
        "colab_type": "code",
        "outputId": "541efcf8-9ad3-4255-f5ee-6e521b269830",
        "colab": {
          "base_uri": "https://localhost:8080/",
          "height": 102
        }
      },
      "source": [
        "%%time\n",
        "conll_reader = Conll2003DatasetReader()\n",
        "train_conll = ensure_list(conll_reader.read(path_train))\n",
        "valid_conll = ensure_list(conll_reader.read(path_valid))\n",
        "test_conll = ensure_list(conll_reader.read(path_test))"
      ],
      "execution_count": 0,
      "outputs": [
        {
          "output_type": "stream",
          "text": [
            "14041it [00:01, 12731.85it/s]\n",
            "3250it [00:00, 9210.15it/s]\n",
            "3453it [00:00, 25483.36it/s]"
          ],
          "name": "stderr"
        },
        {
          "output_type": "stream",
          "text": [
            "CPU times: user 1.52 s, sys: 73.7 ms, total: 1.6 s\n",
            "Wall time: 1.6 s\n"
          ],
          "name": "stdout"
        },
        {
          "output_type": "stream",
          "text": [
            "\n"
          ],
          "name": "stderr"
        }
      ]
    },
    {
      "cell_type": "code",
      "metadata": {
        "id": "WCYr630b8O5w",
        "colab_type": "code",
        "outputId": "fec08676-5c35-4031-b0c2-9790ac6c0bea",
        "colab": {
          "base_uri": "https://localhost:8080/",
          "height": 34
        }
      },
      "source": [
        "all_conll = train_conll + valid_conll + test_conll\n",
        "len(all_conll), len(train_conll), len(valid_conll), len(test_conll)"
      ],
      "execution_count": 0,
      "outputs": [
        {
          "output_type": "execute_result",
          "data": {
            "text/plain": [
              "(20744, 14041, 3250, 3453)"
            ]
          },
          "metadata": {
            "tags": []
          },
          "execution_count": 9
        }
      ]
    },
    {
      "cell_type": "markdown",
      "metadata": {
        "id": "LeAP6B5WfzoR",
        "colab_type": "text"
      },
      "source": [
        "### Готовим словари соответсвия тег-id и bpe - токенизатор\n",
        "\n"
      ]
    },
    {
      "cell_type": "code",
      "metadata": {
        "id": "R5x_B53yTRo3",
        "colab_type": "code",
        "colab": {}
      },
      "source": [
        "vocab = Vocabulary.from_instances(all_conll)\n",
        "vocab.add_token_to_namespace('[PAD]', 'labels')"
      ],
      "execution_count": 0,
      "outputs": []
    },
    {
      "cell_type": "code",
      "metadata": {
        "id": "joAECv5_8htA",
        "colab_type": "code",
        "outputId": "67dced91-099b-4fbe-fcd8-261c06a15951",
        "colab": {
          "base_uri": "https://localhost:8080/",
          "height": 34
        }
      },
      "source": [
        "\n",
        "max_sent_len = 0\n",
        "for instance in all_conll[: ]:\n",
        "    if len(instance['tokens']) >  max_sent_len:\n",
        "        max_sent_len = len(instance['tokens'])\n",
        "    \n",
        "print(f'Максимальная длина предложения: {max_sent_len} токенов')"
      ],
      "execution_count": 0,
      "outputs": [
        {
          "output_type": "stream",
          "text": [
            "Максимальная длина предложения: 124 токенов\n"
          ],
          "name": "stdout"
        }
      ]
    },
    {
      "cell_type": "code",
      "metadata": {
        "id": "l75L7ILeme3k",
        "colab_type": "code",
        "outputId": "967075ee-2a0f-4b5e-8a0c-3b0c97f5180f",
        "colab": {
          "base_uri": "https://localhost:8080/",
          "height": 51
        }
      },
      "source": [
        "%time bpe_tokenizer = make_yttm_tokenizer(train_conll, 500)"
      ],
      "execution_count": 0,
      "outputs": [
        {
          "output_type": "stream",
          "text": [
            "CPU times: user 147 ms, sys: 34.1 ms, total: 181 ms\n",
            "Wall time: 133 ms\n"
          ],
          "name": "stdout"
        }
      ]
    },
    {
      "cell_type": "code",
      "metadata": {
        "id": "SaDuu3t_8hqd",
        "colab_type": "code",
        "outputId": "ec400ac4-1597-44ff-982f-c864d24af189",
        "colab": {
          "base_uri": "https://localhost:8080/",
          "height": 117,
          "referenced_widgets": [
            "4bc5186160bd4ac69db622e0c6c02f54",
            "11ea460772df48949152e78b0ed0157c",
            "d5c4db5c9c0f48b2872913ba4426b9c8",
            "84a264b0e7b84f6eb5be515dde9a8da7",
            "812a8bf36b85484b8ae22462dd999920",
            "fadf5b93c71b4e57894af5293182e86b",
            "226fe3c91c3148b89e0d208ce1065c8f",
            "814525cfcbd04e76a7b7cd55d6417689"
          ]
        }
      },
      "source": [
        "%%time\n",
        "max_token_len = 0\n",
        "for p in tqdm(range(101)):\n",
        "    len_tokens = [len(bpe_tokenizer.encode(token.text, dropout_prob=p/100))  for token in tokens]\n",
        "    if max(len_tokens) > max_token_len:\n",
        "        p_dropout = .01 * p\n",
        "        max_token_len = max(len_tokens)\n",
        "\n",
        "print(f'Максимальная длина токена: {max_token_len} субтокенов при вероятности дропаута {p_dropout}')"
      ],
      "execution_count": 0,
      "outputs": [
        {
          "output_type": "display_data",
          "data": {
            "application/vnd.jupyter.widget-view+json": {
              "model_id": "4bc5186160bd4ac69db622e0c6c02f54",
              "version_minor": 0,
              "version_major": 2
            },
            "text/plain": [
              "HBox(children=(FloatProgress(value=0.0, max=101.0), HTML(value='')))"
            ]
          },
          "metadata": {
            "tags": []
          }
        },
        {
          "output_type": "stream",
          "text": [
            "\n",
            "Максимальная длина токена: 62 субтокенов при вероятности дропаута 0.1\n",
            "CPU times: user 10.2 s, sys: 57.3 ms, total: 10.2 s\n",
            "Wall time: 10.2 s\n"
          ],
          "name": "stdout"
        }
      ]
    },
    {
      "cell_type": "code",
      "metadata": {
        "ExecuteTime": {
          "end_time": "2019-10-29T19:49:58.524125Z",
          "start_time": "2019-10-29T19:49:58.125577Z"
        },
        "id": "WzDDott3gFul",
        "colab_type": "code",
        "colab": {}
      },
      "source": [
        ""
      ],
      "execution_count": 0,
      "outputs": []
    },
    {
      "cell_type": "code",
      "metadata": {
        "id": "C5R5GbuZAp_r",
        "colab_type": "code",
        "colab": {}
      },
      "source": [
        ""
      ],
      "execution_count": 0,
      "outputs": []
    },
    {
      "cell_type": "markdown",
      "metadata": {
        "id": "AiqJ56QiAsZF",
        "colab_type": "text"
      },
      "source": [
        "В датасете присутствует очень мало тегов вида B-XXX. Попробуем чуть размножить предложения с этими тегами. Использование дропаута в bpe внесёт немного разнообразия в эти предложения."
      ]
    },
    {
      "cell_type": "code",
      "metadata": {
        "id": "-OFmMzN9Fo-M",
        "colab_type": "code",
        "colab": {}
      },
      "source": [
        ""
      ],
      "execution_count": 0,
      "outputs": []
    },
    {
      "cell_type": "code",
      "metadata": {
        "id": "bL-haaq9GD26",
        "colab_type": "code",
        "outputId": "60a69af1-f0c1-49d1-ec33-4f4f6cb0f648",
        "colab": {
          "base_uri": "https://localhost:8080/",
          "height": 51
        }
      },
      "source": [
        "%%time\n",
        "BPE_DROPOUT = .5\n",
        "train_dataset = ConllDataset(train_conll, bpe_tokenizer, vocab, max_sent_len, max_token_len, 200, BPE_DROPOUT)\n",
        "valid_dataset = ConllDataset(valid_conll, bpe_tokenizer, vocab, max_sent_len, max_token_len)\n",
        "test_dataset = ConllDataset(test_conll, bpe_tokenizer, vocab, max_sent_len, max_token_len)\n"
      ],
      "execution_count": 0,
      "outputs": [
        {
          "output_type": "stream",
          "text": [
            "CPU times: user 16.4 ms, sys: 0 ns, total: 16.4 ms\n",
            "Wall time: 16.4 ms\n"
          ],
          "name": "stdout"
        }
      ]
    },
    {
      "cell_type": "code",
      "metadata": {
        "id": "EdK-vuKoVpen",
        "colab_type": "code",
        "outputId": "bc81644a-cb34-4822-9a61-f5cf1345af1c",
        "colab": {
          "base_uri": "https://localhost:8080/",
          "height": 34
        }
      },
      "source": [
        "len(train_dataset), len(valid_dataset), len(test_dataset) "
      ],
      "execution_count": 0,
      "outputs": [
        {
          "output_type": "execute_result",
          "data": {
            "text/plain": [
              "(24441, 3250, 3453)"
            ]
          },
          "metadata": {
            "tags": []
          },
          "execution_count": 15
        }
      ]
    },
    {
      "cell_type": "markdown",
      "metadata": {
        "id": "V0KNokGoadtA",
        "colab_type": "text"
      },
      "source": [
        "## Создаём и обучаем сеть"
      ]
    },
    {
      "cell_type": "code",
      "metadata": {
        "id": "U5k4Z4b6craL",
        "colab_type": "code",
        "colab": {}
      },
      "source": [
        "models_path = '/content/cnn_crf_nertagger/models/best_model.pth'"
      ],
      "execution_count": 0,
      "outputs": []
    },
    {
      "cell_type": "code",
      "metadata": {
        "id": "DfRjCwqZu4BW",
        "colab_type": "code",
        "outputId": "febe4d6e-89c6-420b-c9fa-fb71353833da",
        "colab": {
          "base_uri": "https://localhost:8080/",
          "height": 34
        }
      },
      "source": [
        "try:\n",
        "    del model    \n",
        "    collect()\n",
        "except:\n",
        "    print('no model')\n",
        "finally:\n",
        "    torch.cuda.empty_cache()\n"
      ],
      "execution_count": 0,
      "outputs": [
        {
          "output_type": "stream",
          "text": [
            "no model\n"
          ],
          "name": "stdout"
        }
      ]
    },
    {
      "cell_type": "markdown",
      "metadata": {
        "id": "yYZiVrJYFCC1",
        "colab_type": "text"
      },
      "source": [
        "Сеть состоит из двух однотипных свёрточных блоков и CRF. На первом уровне мы осуществляем свёртку над субтокенами и делаем глобал-пуллинг. Затем получившиеся эмбедденги токенов передаём на следующий свёрточный блок. Он значительно глубже, чтобы увеличить рецептивное поле. Выход второго блока передаём в CRF, который возвращает нам `log-likelihood`."
      ]
    },
    {
      "cell_type": "code",
      "metadata": {
        "ExecuteTime": {
          "end_time": "2019-10-29T19:47:48.326925Z",
          "start_time": "2019-10-29T19:46:50.310Z"
        },
        "id": "jj9cwrRBgFwR",
        "colab_type": "code",
        "outputId": "c5e0c23b-8626-40b2-d73e-5f795497af86",
        "colab": {
          "base_uri": "https://localhost:8080/",
          "height": 34
        }
      },
      "source": [
        "torch.cuda.empty_cache()\n",
        "model = NERTaggerModel(len(bpe_tokenizer.vocab()), len(tag2id), tag2id, embedding_size=64,\n",
        "                                              single_backbone_kwargs=dict(layers_n=3, kernel_size=3, dropout=0.3, dilation=None),\n",
        "                                              context_backbone_kwargs=dict(layers_n=5, kernel_size=3, dropout=0.3, dilation=[1, 1, 2 , 2, 2]))\n",
        "print('Количество параметров', sum(np.product(t.shape) for t in model.parameters()))"
      ],
      "execution_count": 0,
      "outputs": [
        {
          "output_type": "stream",
          "text": [
            "Количество параметров 131621\n"
          ],
          "name": "stdout"
        }
      ]
    },
    {
      "cell_type": "code",
      "metadata": {
        "id": "luP8K58IIlw8",
        "colab_type": "code",
        "colab": {}
      },
      "source": [
        "# try:\n",
        "#     model.load_state_dict(torch.load(models_path))\n",
        "# except:\n",
        "#     print('no model')"
      ],
      "execution_count": 0,
      "outputs": []
    },
    {
      "cell_type": "code",
      "metadata": {
        "id": "1lRzQca4fXdc",
        "colab_type": "code",
        "colab": {}
      },
      "source": [
        "losses = {}"
      ],
      "execution_count": 0,
      "outputs": []
    },
    {
      "cell_type": "code",
      "metadata": {
        "ExecuteTime": {
          "end_time": "2019-10-29T19:47:48.327888Z",
          "start_time": "2019-10-29T19:46:50.737Z"
        },
        "scrolled": false,
        "id": "4aa02MY9gFwZ",
        "colab_type": "code",
        "outputId": "abb85293-3000-4061-9eb8-0dc19ccfb49a",
        "colab": {
          "base_uri": "https://localhost:8080/",
          "height": 1000
        }
      },
      "source": [
        "(best_val_loss,\n",
        " best_model,\n",
        " losses) = train_eval_loop(\n",
        "     model,\n",
        "     train_dataset,\n",
        "     valid_dataset,\n",
        "     lr=1e-3,\n",
        "     epoch_n=200,\n",
        "     batch_size=256,\n",
        "     device=device,\n",
        "     early_stopping_patience=10,\n",
        "     l2_reg_alpha = 1e-6,\n",
        "     max_batches_per_epoch_train=50,\n",
        "     max_batches_per_epoch_val=100,\n",
        "     dataloader_workers_n=cpu_count(),\n",
        "     lr_scheduler_ctor=lambda optim: torch.optim.lr_scheduler.ReduceLROnPlateau(\n",
        "         optim, patience=4,\n",
        "         factor=0.1,\n",
        "         threshold=1e-3,\n",
        "         verbose=True),\n",
        "     verbose_batch=False,\n",
        "     prev_loss=losses\n",
        "    )\n",
        " \n",
        "torch.save(best_model.state_dict(), models_path)"
      ],
      "execution_count": 0,
      "outputs": [
        {
          "output_type": "stream",
          "text": [
            "Эпоха 0\n",
            "Эпоха: 51 итераций, 27.64 сек\n",
            "Среднее значение функции потерь на обучении 22.60297296561447\n",
            "Среднее значение функции потерь на валидации 11.368022918701172\n",
            "Новая лучшая модель!\n",
            "\n",
            "Эпоха 1\n",
            "Эпоха: 51 итераций, 28.58 сек\n",
            "Среднее значение функции потерь на обучении 9.692762290730196\n",
            "Среднее значение функции потерь на валидации 8.114393197573149\n",
            "Новая лучшая модель!\n",
            "\n",
            "Эпоха 2\n",
            "Эпоха: 51 итераций, 27.33 сек\n",
            "Среднее значение функции потерь на обучении 6.5182739800097895\n",
            "Среднее значение функции потерь на валидации 6.348157809330867\n",
            "Новая лучшая модель!\n",
            "\n",
            "Эпоха 3\n",
            "Эпоха: 51 итераций, 27.67 сек\n",
            "Среднее значение функции потерь на обучении 4.962647914886475\n",
            "Среднее значение функции потерь на валидации 5.22773893062885\n",
            "Новая лучшая модель!\n",
            "\n",
            "Эпоха 4\n",
            "Эпоха: 51 итераций, 28.45 сек\n",
            "Среднее значение функции потерь на обучении 4.01747794712291\n",
            "Среднее значение функции потерь на валидации 4.534874274180486\n",
            "Новая лучшая модель!\n",
            "\n",
            "Эпоха 5\n",
            "Эпоха: 51 итераций, 27.83 сек\n",
            "Среднее значение функции потерь на обучении 3.4621922175089517\n",
            "Среднее значение функции потерь на валидации 4.129645237555871\n",
            "Новая лучшая модель!\n",
            "\n",
            "Эпоха 6\n",
            "Эпоха: 51 итераций, 27.60 сек\n",
            "Среднее значение функции потерь на обучении 3.117530116847917\n",
            "Среднее значение функции потерь на валидации 3.7708460367642918\n",
            "Новая лучшая модель!\n",
            "\n",
            "Эпоха 7\n",
            "Эпоха: 51 итераций, 27.92 сек\n",
            "Среднее значение функции потерь на обучении 2.830585605957929\n",
            "Среднее значение функции потерь на валидации 3.5153308648329515\n",
            "Новая лучшая модель!\n",
            "\n",
            "Эпоха 8\n",
            "Эпоха: 51 итераций, 28.24 сек\n",
            "Среднее значение функции потерь на обучении 2.6053762903400495\n",
            "Среднее значение функции потерь на валидации 3.2511530105884257\n",
            "Новая лучшая модель!\n",
            "\n",
            "Эпоха 9\n",
            "Эпоха: 51 итераций, 27.81 сек\n",
            "Среднее значение функции потерь на обучении 2.475580276227465\n",
            "Среднее значение функции потерь на валидации 3.0715479117173414\n",
            "Новая лучшая модель!\n",
            "\n",
            "Эпоха 10\n",
            "Эпоха: 51 итераций, 27.72 сек\n",
            "Среднее значение функции потерь на обучении 2.2562106006285725\n",
            "Среднее значение функции потерь на валидации 2.9475250977736254\n",
            "Новая лучшая модель!\n",
            "\n",
            "Эпоха 11\n",
            "Эпоха: 51 итераций, 27.69 сек\n",
            "Среднее значение функции потерь на обучении 2.176221623140223\n",
            "Среднее значение функции потерь на валидации 2.7924881073144765\n",
            "Новая лучшая модель!\n",
            "\n",
            "Эпоха 12\n",
            "Эпоха: 51 итераций, 28.14 сек\n",
            "Среднее значение функции потерь на обучении 2.0260401052587174\n",
            "Среднее значение функции потерь на валидации 2.6780176162719727\n",
            "Новая лучшая модель!\n",
            "\n",
            "Эпоха 13\n",
            "Эпоха: 51 итераций, 28.30 сек\n",
            "Среднее значение функции потерь на обучении 1.9833351303549374\n",
            "Среднее значение функции потерь на валидации 2.591109725145193\n",
            "Новая лучшая модель!\n",
            "\n",
            "Эпоха 14\n",
            "Эпоха: 51 итераций, 27.66 сек\n",
            "Среднее значение функции потерь на обучении 1.8411365981195487\n",
            "Среднее значение функции потерь на валидации 2.496486883897048\n",
            "Новая лучшая модель!\n",
            "\n",
            "Эпоха 15\n",
            "Эпоха: 51 итераций, 28.54 сек\n",
            "Среднее значение функции потерь на обучении 1.790764946563571\n",
            "Среднее значение функции потерь на валидации 2.4316304280207706\n",
            "Новая лучшая модель!\n",
            "\n",
            "Эпоха 16\n",
            "Эпоха: 51 итераций, 27.59 сек\n",
            "Среднее значение функции потерь на обучении 1.7386492654389025\n",
            "Среднее значение функции потерь на валидации 2.3348753727399387\n",
            "Новая лучшая модель!\n",
            "\n",
            "Эпоха 17\n",
            "Эпоха: 51 итераций, 27.55 сек\n",
            "Среднее значение функции потерь на обучении 1.6808611668792426\n",
            "Среднее значение функции потерь на валидации 2.266114363303551\n",
            "Новая лучшая модель!\n",
            "\n",
            "Эпоха 18\n",
            "Эпоха: 51 итераций, 27.32 сек\n",
            "Среднее значение функции потерь на обучении 1.608217433387158\n",
            "Среднее значение функции потерь на валидации 2.1932150767399716\n",
            "Новая лучшая модель!\n",
            "\n",
            "Эпоха 19\n",
            "Эпоха: 51 итераций, 27.55 сек\n",
            "Среднее значение функции потерь на обучении 1.6129723740558999\n",
            "Среднее значение функции потерь на валидации 2.1439471061413107\n",
            "Новая лучшая модель!\n",
            "\n",
            "Эпоха 20\n",
            "Эпоха: 51 итераций, 27.23 сек\n",
            "Среднее значение функции потерь на обучении 1.5021707941504086\n",
            "Среднее значение функции потерь на валидации 2.1117888413942776\n",
            "Новая лучшая модель!\n",
            "\n",
            "Эпоха 21\n",
            "Эпоха: 51 итераций, 27.58 сек\n",
            "Среднее значение функции потерь на обучении 1.5190728598949956\n",
            "Среднее значение функции потерь на валидации 2.0370678443175096\n",
            "Новая лучшая модель!\n",
            "\n",
            "Эпоха 22\n",
            "Эпоха: 51 итераций, 27.83 сек\n",
            "Среднее значение функции потерь на обучении 1.4341184064453723\n",
            "Среднее значение функции потерь на валидации 2.015300677372859\n",
            "Новая лучшая модель!\n",
            "\n",
            "Эпоха 23\n",
            "Эпоха: 51 итераций, 27.88 сек\n",
            "Среднее значение функции потерь на обучении 1.391968713087194\n",
            "Среднее значение функции потерь на валидации 1.998268989416269\n",
            "Новая лучшая модель!\n",
            "\n",
            "Эпоха 24\n",
            "Эпоха: 51 итераций, 28.14 сек\n",
            "Среднее значение функции потерь на обучении 1.3895254625993616\n",
            "Среднее значение функции потерь на валидации 1.9264214222247784\n",
            "Новая лучшая модель!\n",
            "\n",
            "Эпоха 25\n",
            "Эпоха: 51 итераций, 27.69 сек\n",
            "Среднее значение функции потерь на обучении 1.3543217860016168\n",
            "Среднее значение функции потерь на валидации 1.9088352276728704\n",
            "Новая лучшая модель!\n",
            "\n",
            "Эпоха 26\n",
            "Эпоха: 51 итераций, 27.54 сек\n",
            "Среднее значение функции потерь на обучении 1.3059143903208714\n",
            "Среднее значение функции потерь на валидации 1.8546765125714815\n",
            "Новая лучшая модель!\n",
            "\n",
            "Эпоха 27\n",
            "Эпоха: 51 итераций, 27.34 сек\n",
            "Среднее значение функции потерь на обучении 1.3172895592801712\n",
            "Среднее значение функции потерь на валидации 1.8387783215596125\n",
            "Новая лучшая модель!\n",
            "\n",
            "Эпоха 28\n",
            "Эпоха: 51 итераций, 27.90 сек\n",
            "Среднее значение функции потерь на обучении 1.2787497300727695\n",
            "Среднее значение функции потерь на валидации 1.7957964768776526\n",
            "Новая лучшая модель!\n",
            "\n",
            "Эпоха 29\n",
            "Эпоха: 51 итераций, 27.18 сек\n",
            "Среднее значение функции потерь на обучении 1.2728770410313326\n",
            "Среднее значение функции потерь на валидации 1.7712143109394953\n",
            "Новая лучшая модель!\n",
            "\n",
            "Эпоха 30\n",
            "Эпоха: 51 итераций, 27.37 сек\n",
            "Среднее значение функции потерь на обучении 1.240878560963799\n",
            "Среднее значение функции потерь на валидации 1.7703409470044649\n",
            "Новая лучшая модель!\n",
            "\n",
            "Эпоха 31\n",
            "Эпоха: 51 итераций, 28.17 сек\n",
            "Среднее значение функции потерь на обучении 1.1933456250265533\n",
            "Среднее значение функции потерь на валидации 1.7082692843217115\n",
            "Новая лучшая модель!\n",
            "\n",
            "Эпоха 32\n",
            "Эпоха: 51 итераций, 27.64 сек\n",
            "Среднее значение функции потерь на обучении 1.2058199515529708\n",
            "Среднее значение функции потерь на валидации 1.701186817425948\n",
            "Новая лучшая модель!\n",
            "\n",
            "Эпоха 33\n",
            "Эпоха: 51 итераций, 28.23 сек\n",
            "Среднее значение функции потерь на обучении 1.166437583811143\n",
            "Среднее значение функции потерь на валидации 1.6863709550637465\n",
            "Новая лучшая модель!\n",
            "\n",
            "Эпоха 34\n",
            "Эпоха: 51 итераций, 27.87 сек\n",
            "Среднее значение функции потерь на обучении 1.15201037420946\n",
            "Среднее значение функции потерь на валидации 1.6720317602157593\n",
            "Новая лучшая модель!\n",
            "\n",
            "Эпоха 35\n",
            "Эпоха: 51 итераций, 27.66 сек\n",
            "Среднее значение функции потерь на обучении 1.1347833474477131\n",
            "Среднее значение функции потерь на валидации 1.6337850735737727\n",
            "Новая лучшая модель!\n",
            "\n",
            "Эпоха 36\n",
            "Эпоха: 51 итераций, 27.51 сек\n",
            "Среднее значение функции потерь на обучении 1.1396907696536942\n",
            "Среднее значение функции потерь на валидации 1.6521009619419391\n",
            "\n",
            "Эпоха 37\n",
            "Эпоха: 51 итераций, 27.91 сек\n",
            "Среднее значение функции потерь на обучении 1.1229893343121398\n",
            "Среднее значение функции потерь на валидации 1.6240556240081787\n",
            "Новая лучшая модель!\n",
            "\n",
            "Эпоха 38\n",
            "Эпоха: 51 итераций, 27.64 сек\n",
            "Среднее значение функции потерь на обучении 1.073023121730954\n",
            "Среднее значение функции потерь на валидации 1.5580882751024687\n",
            "Новая лучшая модель!\n",
            "\n",
            "Эпоха 39\n",
            "Эпоха: 51 итераций, 27.72 сек\n",
            "Среднее значение функции потерь на обучении 1.0519740768507415\n",
            "Среднее значение функции потерь на валидации 1.5647637568987334\n",
            "\n",
            "Эпоха 40\n",
            "Эпоха: 51 итераций, 27.70 сек\n",
            "Среднее значение функции потерь на обучении 1.0629959410312129\n",
            "Среднее значение функции потерь на валидации 1.5698599448570838\n",
            "\n",
            "Эпоха 41\n",
            "Эпоха: 51 итераций, 28.11 сек\n",
            "Среднее значение функции потерь на обучении 1.0492062615413291\n",
            "Среднее значение функции потерь на валидации 1.5175088277229896\n",
            "Новая лучшая модель!\n",
            "\n",
            "Эпоха 42\n",
            "Эпоха: 51 итераций, 28.11 сек\n",
            "Среднее значение функции потерь на обучении 1.0211002230644226\n",
            "Среднее значение функции потерь на валидации 1.4969118741842418\n",
            "Новая лучшая модель!\n",
            "\n",
            "Эпоха 43\n",
            "Эпоха: 51 итераций, 27.96 сек\n",
            "Среднее значение функции потерь на обучении 1.0134172778503567\n",
            "Среднее значение функции потерь на валидации 1.5049017392672026\n",
            "\n",
            "Эпоха 44\n",
            "Эпоха: 51 итераций, 28.31 сек\n",
            "Среднее значение функции потерь на обучении 1.0080293416976929\n",
            "Среднее значение функции потерь на валидации 1.4790653357139\n",
            "Новая лучшая модель!\n",
            "\n",
            "Эпоха 45\n",
            "Эпоха: 51 итераций, 27.98 сек\n",
            "Среднее значение функции потерь на обучении 1.0044271092788846\n",
            "Среднее значение функции потерь на валидации 1.4615685022794282\n",
            "Новая лучшая модель!\n",
            "\n",
            "Эпоха 46\n",
            "Эпоха: 51 итераций, 28.07 сек\n",
            "Среднее значение функции потерь на обучении 0.9982874171406615\n",
            "Среднее значение функции потерь на валидации 1.447816816660074\n",
            "Новая лучшая модель!\n",
            "\n",
            "Эпоха 47\n",
            "Эпоха: 51 итераций, 27.58 сек\n",
            "Среднее значение функции потерь на обучении 0.9715078601650163\n",
            "Среднее значение функции потерь на валидации 1.4441377933208759\n",
            "Новая лучшая модель!\n",
            "\n",
            "Эпоха 48\n",
            "Эпоха: 51 итераций, 27.26 сек\n",
            "Среднее значение функции потерь на обучении 0.9169292636946136\n",
            "Среднее значение функции потерь на валидации 1.4193251545612628\n",
            "Новая лучшая модель!\n",
            "\n",
            "Эпоха 49\n",
            "Эпоха: 51 итераций, 28.70 сек\n",
            "Среднее значение функции потерь на обучении 0.931504603694467\n",
            "Среднее значение функции потерь на валидации 1.4201159477233887\n",
            "\n",
            "Эпоха 50\n",
            "Эпоха: 51 итераций, 27.50 сек\n",
            "Среднее значение функции потерь на обучении 0.9302022690866508\n",
            "Среднее значение функции потерь на валидации 1.408140934430636\n",
            "Новая лучшая модель!\n",
            "\n",
            "Эпоха 51\n",
            "Эпоха: 51 итераций, 28.23 сек\n",
            "Среднее значение функции потерь на обучении 0.9024514614367017\n",
            "Среднее значение функции потерь на валидации 1.3769363806797907\n",
            "Новая лучшая модель!\n",
            "\n",
            "Эпоха 52\n",
            "Эпоха: 51 итераций, 28.15 сек\n",
            "Среднее значение функции потерь на обучении 0.913148397324132\n",
            "Среднее значение функции потерь на валидации 1.3834120126870961\n",
            "\n",
            "Эпоха 53\n",
            "Эпоха: 51 итераций, 27.74 сек\n",
            "Среднее значение функции потерь на обучении 0.8837702870368958\n",
            "Среднее значение функции потерь на валидации 1.359276363482842\n",
            "Новая лучшая модель!\n",
            "\n",
            "Эпоха 54\n",
            "Эпоха: 51 итераций, 27.85 сек\n",
            "Среднее значение функции потерь на обучении 0.8720930043388816\n",
            "Среднее значение функции потерь на валидации 1.3718763177211468\n",
            "\n",
            "Эпоха 55\n",
            "Эпоха: 51 итераций, 28.24 сек\n",
            "Среднее значение функции потерь на обучении 0.8791087456777984\n",
            "Среднее значение функции потерь на валидации 1.3410668327258184\n",
            "Новая лучшая модель!\n",
            "\n",
            "Эпоха 56\n",
            "Эпоха: 51 итераций, 27.62 сек\n",
            "Среднее значение функции потерь на обучении 0.8754308270473107\n",
            "Среднее значение функции потерь на валидации 1.3349913496237535\n",
            "Новая лучшая модель!\n",
            "\n",
            "Эпоха 57\n",
            "Эпоха: 51 итераций, 27.61 сек\n",
            "Среднее значение функции потерь на обучении 0.871946231991637\n",
            "Среднее значение функции потерь на валидации 1.3387414813041687\n",
            "\n",
            "Эпоха 58\n",
            "Эпоха: 51 итераций, 27.72 сек\n",
            "Среднее значение функции потерь на обучении 0.874988410987106\n",
            "Среднее значение функции потерь на валидации 1.3076179440204914\n",
            "Новая лучшая модель!\n",
            "\n",
            "Эпоха 59\n",
            "Эпоха: 51 итераций, 27.73 сек\n",
            "Среднее значение функции потерь на обучении 0.8240657518891727\n",
            "Среднее значение функции потерь на валидации 1.2895530370565562\n",
            "Новая лучшая модель!\n",
            "\n",
            "Эпоха 60\n",
            "Эпоха: 51 итераций, 27.44 сек\n",
            "Среднее значение функции потерь на обучении 0.8251315308552162\n",
            "Среднее значение функции потерь на валидации 1.2833971243638258\n",
            "Новая лучшая модель!\n",
            "\n",
            "Эпоха 61\n",
            "Эпоха: 51 итераций, 28.43 сек\n",
            "Среднее значение функции потерь на обучении 0.8245952526728312\n",
            "Среднее значение функции потерь на валидации 1.2636377719732432\n",
            "Новая лучшая модель!\n",
            "\n",
            "Эпоха 62\n",
            "Эпоха: 51 итераций, 27.61 сек\n",
            "Среднее значение функции потерь на обучении 0.832802392688452\n",
            "Среднее значение функции потерь на валидации 1.2781489399763255\n",
            "\n",
            "Эпоха 63\n",
            "Эпоха: 51 итераций, 27.41 сек\n",
            "Среднее значение функции потерь на обучении 0.8324519664633507\n",
            "Среднее значение функции потерь на валидации 1.2617953098737276\n",
            "Новая лучшая модель!\n",
            "\n",
            "Эпоха 64\n",
            "Эпоха: 51 итераций, 28.22 сек\n",
            "Среднее значение функции потерь на обучении 0.8061260873196172\n",
            "Среднее значение функции потерь на валидации 1.2445866557267995\n",
            "Новая лучшая модель!\n",
            "\n",
            "Эпоха 65\n",
            "Эпоха: 51 итераций, 27.42 сек\n",
            "Среднее значение функции потерь на обучении 0.7894843641449424\n",
            "Среднее значение функции потерь на валидации 1.2436134081620436\n",
            "Новая лучшая модель!\n",
            "\n",
            "Эпоха 66\n",
            "Эпоха: 51 итераций, 27.89 сек\n",
            "Среднее значение функции потерь на обучении 0.7867261042781905\n",
            "Среднее значение функции потерь на валидации 1.2517519272290742\n",
            "\n",
            "Эпоха 67\n",
            "Эпоха: 51 итераций, 27.53 сек\n",
            "Среднее значение функции потерь на обучении 0.7866132037312377\n",
            "Среднее значение функции потерь на валидации 1.2474747345997736\n",
            "\n",
            "Эпоха 68\n",
            "Эпоха: 51 итераций, 27.64 сек\n",
            "Среднее значение функции потерь на обучении 0.7706561497613496\n",
            "Среднее значение функции потерь на валидации 1.2488251282618597\n",
            "\n",
            "Эпоха 69\n",
            "Эпоха: 51 итераций, 28.01 сек\n",
            "Среднее значение функции потерь на обучении 0.7618437491211236\n",
            "Среднее значение функции потерь на валидации 1.2247888583403368\n",
            "Новая лучшая модель!\n",
            "\n",
            "Эпоха 70\n",
            "Эпоха: 51 итераций, 27.78 сек\n",
            "Среднее значение функции потерь на обучении 0.7468389237628263\n",
            "Среднее значение функции потерь на валидации 1.2182605312420771\n",
            "Новая лучшая модель!\n",
            "\n",
            "Эпоха 71\n",
            "Эпоха: 51 итераций, 27.30 сек\n",
            "Среднее значение функции потерь на обучении 0.7711317106789234\n",
            "Среднее значение функции потерь на валидации 1.199082755125486\n",
            "Новая лучшая модель!\n",
            "\n",
            "Эпоха 72\n",
            "Эпоха: 51 итераций, 27.14 сек\n",
            "Среднее значение функции потерь на обучении 0.7497393897935456\n",
            "Среднее значение функции потерь на валидации 1.1891079315772424\n",
            "Новая лучшая модель!\n",
            "\n",
            "Эпоха 73\n",
            "Эпоха: 51 итераций, 27.05 сек\n",
            "Среднее значение функции потерь на обучении 0.7584425888809503\n",
            "Среднее значение функции потерь на валидации 1.1831996899384718\n",
            "Новая лучшая модель!\n",
            "\n",
            "Эпоха 74\n",
            "Эпоха: 51 итераций, 27.45 сек\n",
            "Среднее значение функции потерь на обучении 0.7171099256066715\n",
            "Среднее значение функции потерь на валидации 1.2047523305966303\n",
            "\n",
            "Эпоха 75\n",
            "Эпоха: 51 итераций, 27.31 сек\n",
            "Среднее значение функции потерь на обучении 0.7328027907539817\n",
            "Среднее значение функции потерь на валидации 1.181988266798166\n",
            "Новая лучшая модель!\n",
            "\n",
            "Эпоха 76\n",
            "Эпоха: 51 итераций, 27.49 сек\n",
            "Среднее значение функции потерь на обучении 0.7175985937025032\n",
            "Среднее значение функции потерь на валидации 1.1810125066683843\n",
            "Новая лучшая модель!\n",
            "\n",
            "Эпоха 77\n",
            "Эпоха: 51 итераций, 27.55 сек\n",
            "Среднее значение функции потерь на обучении 0.7080512444178263\n",
            "Среднее значение функции потерь на валидации 1.190559914478889\n",
            "\n",
            "Эпоха 78\n",
            "Эпоха: 51 итераций, 26.99 сек\n",
            "Среднее значение функции потерь на обучении 0.6980502663874159\n",
            "Среднее значение функции потерь на валидации 1.1995618389202998\n",
            "\n",
            "Эпоха 79\n",
            "Эпоха: 51 итераций, 27.36 сек\n",
            "Среднее значение функции потерь на обучении 0.7027394327462888\n",
            "Среднее значение функции потерь на валидации 1.15473879300631\n",
            "Новая лучшая модель!\n",
            "\n",
            "Эпоха 80\n",
            "Эпоха: 51 итераций, 28.02 сек\n",
            "Среднее значение функции потерь на обучении 0.7180214045094508\n",
            "Среднее значение функции потерь на валидации 1.146606472822336\n",
            "Новая лучшая модель!\n",
            "\n",
            "Эпоха 81\n",
            "Эпоха: 51 итераций, 27.96 сек\n",
            "Среднее значение функции потерь на обучении 0.7216643539129519\n",
            "Среднее значение функции потерь на валидации 1.1632437247496386\n",
            "\n",
            "Эпоха 82\n",
            "Эпоха: 51 итераций, 27.59 сек\n",
            "Среднее значение функции потерь на обучении 0.7179716509931228\n",
            "Среднее значение функции потерь на валидации 1.154485555795523\n",
            "\n",
            "Эпоха 83\n"
          ],
          "name": "stdout"
        }
      ]
    },
    {
      "cell_type": "code",
      "metadata": {
        "id": "ghe0zoP4c3vt",
        "colab_type": "code",
        "colab": {}
      },
      "source": [
        "pd.DataFrame(losses).plot();"
      ],
      "execution_count": 0,
      "outputs": []
    },
    {
      "cell_type": "code",
      "metadata": {
        "ExecuteTime": {
          "end_time": "2019-08-29T13:56:16.564926Z",
          "start_time": "2019-08-29T13:56:16.544481Z"
        },
        "id": "j6_Z8S3SgFwn",
        "colab_type": "code",
        "colab": {}
      },
      "source": [
        "model.load_state_dict(torch.load(models_path))"
      ],
      "execution_count": 0,
      "outputs": []
    },
    {
      "cell_type": "markdown",
      "metadata": {
        "id": "9yBwoQnWypb5",
        "colab_type": "text"
      },
      "source": [
        "## Проверки"
      ]
    },
    {
      "cell_type": "code",
      "metadata": {
        "id": "rDx8tvIeyoe0",
        "colab_type": "code",
        "colab": {}
      },
      "source": [
        "id2tag = {item[1]: item[0] for item in tag2id.items()}\n",
        "UNIQUE_TAGS = [id2tag[i] for i in range(len(tag2id))]\n"
      ],
      "execution_count": 0,
      "outputs": []
    },
    {
      "cell_type": "markdown",
      "metadata": {
        "id": "vaq1J92ryPNx",
        "colab_type": "text"
      },
      "source": [
        "### Проверка - train"
      ]
    },
    {
      "cell_type": "code",
      "metadata": {
        "id": "jrgKw3hxYiS5",
        "colab_type": "code",
        "colab": {}
      },
      "source": [
        "%%time \n",
        "train_targets = [item[1] for item in train_dataset]\n",
        "train_targets = torch.stack(train_targets)\n",
        "train_targets.shape"
      ],
      "execution_count": 0,
      "outputs": []
    },
    {
      "cell_type": "code",
      "metadata": {
        "id": "3aNr47CYdSFa",
        "colab_type": "code",
        "colab": {}
      },
      "source": [
        "train_pred = predict_with_model(model, train_dataset)\n",
        "train_golden_tags = tensor_to_tags(train_targets, id2tag)\n",
        "train_pred_tags = tensor_to_tags(train_pred, id2tag)\n",
        "print(classification_report(train_golden_tags, train_pred_tags))\n",
        "print(classification_report(train_golden_tags, train_pred_tags, suffix=True))\n"
      ],
      "execution_count": 0,
      "outputs": []
    },
    {
      "cell_type": "code",
      "metadata": {
        "id": "fw3YNFEfm8va",
        "colab_type": "code",
        "colab": {}
      },
      "source": [
        ""
      ],
      "execution_count": 0,
      "outputs": []
    },
    {
      "cell_type": "markdown",
      "metadata": {
        "id": "5p2jdVB-yUHQ",
        "colab_type": "text"
      },
      "source": [
        "### Проверка - valid"
      ]
    },
    {
      "cell_type": "code",
      "metadata": {
        "id": "dvJuUNPzaG35",
        "colab_type": "code",
        "colab": {}
      },
      "source": [
        "%%time \n",
        "valid_targets = [item[1] for item in valid_dataset]\n",
        "valid_targets = torch.stack(valid_targets)\n",
        "valid_targets.shape"
      ],
      "execution_count": 0,
      "outputs": []
    },
    {
      "cell_type": "code",
      "metadata": {
        "id": "qAh6GumkdR4G",
        "colab_type": "code",
        "colab": {}
      },
      "source": [
        "valid_pred = predict_with_model(model, valid_dataset)\n",
        "\n",
        " \n",
        "valid_golden_tags = tensor_to_tags(valid_targets, id2tag)\n",
        "valid_pred_tags = tensor_to_tags(valid_pred, id2tag)\n",
        "print(classification_report(valid_golden_tags, valid_pred_tags))\n",
        "print(classification_report(valid_golden_tags, valid_pred_tags, suffix=True))\n"
      ],
      "execution_count": 0,
      "outputs": []
    },
    {
      "cell_type": "markdown",
      "metadata": {
        "id": "CtXo2-Ioybnx",
        "colab_type": "text"
      },
      "source": [
        "### Проверка - test"
      ]
    },
    {
      "cell_type": "code",
      "metadata": {
        "id": "2EIZF08wahVv",
        "colab_type": "code",
        "colab": {}
      },
      "source": [
        "%%time \n",
        "test_targets = [item[1] for item in test_dataset]\n",
        "test_targets = torch.stack(test_targets)\n",
        "test_targets.shape"
      ],
      "execution_count": 0,
      "outputs": []
    },
    {
      "cell_type": "code",
      "metadata": {
        "id": "pIC16ECm_58u",
        "colab_type": "code",
        "colab": {}
      },
      "source": [
        "test_pred = predict_with_model(model, test_dataset)\n",
        " \n",
        "test_golden_tags = tensor_to_tags(test_targets, id2tag)\n",
        "test_pred_tags = tensor_to_tags(test_pred, id2tag)\n",
        "print(classification_report(test_golden_tags, test_pred_tags))\n",
        "print(classification_report(test_golden_tags, test_pred_tags, suffix=True))"
      ],
      "execution_count": 0,
      "outputs": []
    },
    {
      "cell_type": "markdown",
      "metadata": {
        "id": "YJFiJ4uo70T_",
        "colab_type": "text"
      },
      "source": [
        "           precision    recall  f1-score   support\n",
        "\n",
        "      PER       0.86      0.84      0.85      1617\n",
        "      LOC       0.81      0.87      0.84      1668\n",
        "      ORG       0.72      0.77      0.74      1661\n",
        "     MISC       0.75      0.73      0.74       702\n",
        "\n",
        "    micro avg   0.79      0.81      0.80      5648\n",
        "    macro avg   0.79      0.81      0.80      5648\n",
        "\n",
        "           precision    recall  f1-score   support\n",
        "\n",
        "        I       0.91      0.94      0.92      5599\n",
        "        B       0.11      0.06      0.07        18\n",
        "\n",
        "    micro avg   0.91      0.94      0.92      5617\n",
        "    macro avg   0.91      0.94      0.92      5617\n"
      ]
    },
    {
      "cell_type": "markdown",
      "metadata": {
        "id": "8tZ3TbhngFxV",
        "colab_type": "text"
      },
      "source": [
        "## Применение теггера"
      ]
    },
    {
      "cell_type": "code",
      "metadata": {
        "id": "dBORSeRvdITg",
        "colab_type": "code",
        "colab": {}
      },
      "source": [
        "!python -m spacy download en_core_web_sm > /dev/null\n",
        "nlp = spacy.load('en_core_web_sm')"
      ],
      "execution_count": 0,
      "outputs": []
    },
    {
      "cell_type": "code",
      "metadata": {
        "ExecuteTime": {
          "end_time": "2019-08-29T13:56:42.105418Z",
          "start_time": "2019-08-29T13:56:42.093744Z"
        },
        "id": "gM1646Q7gFxX",
        "colab_type": "code",
        "colab": {}
      },
      "source": [
        "\n",
        "ner_tagger = NERTagger(model, bpe_tokenizer, UNIQUE_TAGS, max_sent_len, max_token_len, 0)"
      ],
      "execution_count": 0,
      "outputs": []
    },
    {
      "cell_type": "markdown",
      "metadata": {
        "id": "qGbRPrQ1oMM_",
        "colab_type": "text"
      },
      "source": [
        "Несколько предложений из новостей с сайта [BBC](https://www.bbc.com/news)"
      ]
    },
    {
      "cell_type": "code",
      "metadata": {
        "ExecuteTime": {
          "end_time": "2019-08-29T13:56:42.125540Z",
          "start_time": "2019-08-29T13:56:42.106771Z"
        },
        "id": "JHOY3BpZgFxd",
        "colab_type": "code",
        "colab": {}
      },
      "source": [
        "test_sentences = [\n",
        "    'Mr Trump said Mr Linick no longer had his full confidence and that he would be removed in 30 days.',\n",
        "    'Mr Linick had begun investigating Secretary of State Mike Pompeo for suspected abuse of office, reports say.',\n",
        "    'Democrats say Mr Trump is retaliating against public servants who want to hold his administration to account.',\n",
        "    'Donald Trump, who is campaigning for re-election in November, has stepped up his attacks on China in recent weeks, blaming it for the spread of Covid-19.',\n",
        "    'The team led by Fernando Novas from the Natural Sciences Museum in Buenos Aires discovered many fossils during its month-long field work in Estancia La Anita, in southern Santa Cruz province.',\n",
        "    \"The rehearsal at Kennedy Space Center saw a Falcon-9 vehicle's ascent into the sky deliberately terminated just 80 seconds after lift-off.\"\n",
        "]\n",
        "test_sentences_tokenized = tokenize_corpus(test_sentences)\n",
        "# test_sentences_tokenized = [[token.text for token in nlp.tokenizer(sent) ] for sent in test_sentences]"
      ],
      "execution_count": 0,
      "outputs": []
    },
    {
      "cell_type": "code",
      "metadata": {
        "id": "TxHF5NAVFuvi",
        "colab_type": "code",
        "colab": {}
      },
      "source": [
        "for sent_tokens, sent_tags in zip(test_sentences_tokenized, ner_tagger(test_sentences)):\n",
        "    highlight_text(sent_tokens, sent_tags)"
      ],
      "execution_count": 0,
      "outputs": []
    },
    {
      "cell_type": "code",
      "metadata": {
        "id": "0TxnNyQs0c8P",
        "colab_type": "code",
        "colab": {}
      },
      "source": [
        ""
      ],
      "execution_count": 0,
      "outputs": []
    }
  ]
}