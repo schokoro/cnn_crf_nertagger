{
  "nbformat": 4,
  "nbformat_minor": 0,
  "metadata": {
    "kernelspec": {
      "name": "python3",
      "display_name": "Python 3"
    },
    "language_info": {
      "codemirror_mode": {
        "name": "ipython",
        "version": 3
      },
      "file_extension": ".py",
      "mimetype": "text/x-python",
      "name": "python",
      "nbconvert_exporter": "python",
      "pygments_lexer": "ipython3",
      "version": "3.7.1"
    },
    "latex_envs": {
      "LaTeX_envs_menu_present": true,
      "autoclose": false,
      "autocomplete": true,
      "bibliofile": "biblio.bib",
      "cite_by": "apalike",
      "current_citInitial": 1,
      "eqLabelWithNumbers": true,
      "eqNumInitial": 1,
      "hotkeys": {
        "equation": "Ctrl-E",
        "itemize": "Ctrl-I"
      },
      "labels_anchors": false,
      "latex_user_defs": false,
      "report_style_numbering": false,
      "user_envs_cfg": false
    },
    "toc": {
      "base_numbering": 1,
      "nav_menu": {},
      "number_sections": true,
      "sideBar": true,
      "skip_h1_title": false,
      "title_cell": "Table of Contents",
      "title_sidebar": "Contents",
      "toc_cell": false,
      "toc_position": {},
      "toc_section_display": true,
      "toc_window_display": true
    },
    "colab": {
      "name": "NER_tagger.ipynb",
      "provenance": [],
      "collapsed_sections": [],
      "include_colab_link": true
    },
    "accelerator": "GPU",
    "widgets": {
      "application/vnd.jupyter.widget-state+json": {
        "e6b344bc5a2f4a00a32c218cbb834f13": {
          "model_module": "@jupyter-widgets/controls",
          "model_name": "HBoxModel",
          "state": {
            "_view_name": "HBoxView",
            "_dom_classes": [],
            "_model_name": "HBoxModel",
            "_view_module": "@jupyter-widgets/controls",
            "_model_module_version": "1.5.0",
            "_view_count": null,
            "_view_module_version": "1.5.0",
            "box_style": "",
            "layout": "IPY_MODEL_cb9dfea748f447bf812f2f364210f472",
            "_model_module": "@jupyter-widgets/controls",
            "children": [
              "IPY_MODEL_6b5e36cf2f7540c2a957f7b89e9c9d59",
              "IPY_MODEL_890adef34df04ee3b73007d1277a1823"
            ]
          }
        },
        "cb9dfea748f447bf812f2f364210f472": {
          "model_module": "@jupyter-widgets/base",
          "model_name": "LayoutModel",
          "state": {
            "_view_name": "LayoutView",
            "grid_template_rows": null,
            "right": null,
            "justify_content": null,
            "_view_module": "@jupyter-widgets/base",
            "overflow": null,
            "_model_module_version": "1.2.0",
            "_view_count": null,
            "flex_flow": null,
            "width": null,
            "min_width": null,
            "border": null,
            "align_items": null,
            "bottom": null,
            "_model_module": "@jupyter-widgets/base",
            "top": null,
            "grid_column": null,
            "overflow_y": null,
            "overflow_x": null,
            "grid_auto_flow": null,
            "grid_area": null,
            "grid_template_columns": null,
            "flex": null,
            "_model_name": "LayoutModel",
            "justify_items": null,
            "grid_row": null,
            "max_height": null,
            "align_content": null,
            "visibility": null,
            "align_self": null,
            "height": null,
            "min_height": null,
            "padding": null,
            "grid_auto_rows": null,
            "grid_gap": null,
            "max_width": null,
            "order": null,
            "_view_module_version": "1.2.0",
            "grid_template_areas": null,
            "object_position": null,
            "object_fit": null,
            "grid_auto_columns": null,
            "margin": null,
            "display": null,
            "left": null
          }
        },
        "6b5e36cf2f7540c2a957f7b89e9c9d59": {
          "model_module": "@jupyter-widgets/controls",
          "model_name": "FloatProgressModel",
          "state": {
            "_view_name": "ProgressView",
            "style": "IPY_MODEL_6f3fdfc025144adf839af9ff28c9e231",
            "_dom_classes": [],
            "description": "100%",
            "_model_name": "FloatProgressModel",
            "bar_style": "success",
            "max": 101,
            "_view_module": "@jupyter-widgets/controls",
            "_model_module_version": "1.5.0",
            "value": 101,
            "_view_count": null,
            "_view_module_version": "1.5.0",
            "orientation": "horizontal",
            "min": 0,
            "description_tooltip": null,
            "_model_module": "@jupyter-widgets/controls",
            "layout": "IPY_MODEL_0d4e92d799cb4f7cb7cf7646193348dc"
          }
        },
        "890adef34df04ee3b73007d1277a1823": {
          "model_module": "@jupyter-widgets/controls",
          "model_name": "HTMLModel",
          "state": {
            "_view_name": "HTMLView",
            "style": "IPY_MODEL_11ebbf10ab464fc9bc7fcbc5ce7475e0",
            "_dom_classes": [],
            "description": "",
            "_model_name": "HTMLModel",
            "placeholder": "​",
            "_view_module": "@jupyter-widgets/controls",
            "_model_module_version": "1.5.0",
            "value": " 101/101 [00:09&lt;00:00, 10.80it/s]",
            "_view_count": null,
            "_view_module_version": "1.5.0",
            "description_tooltip": null,
            "_model_module": "@jupyter-widgets/controls",
            "layout": "IPY_MODEL_21ee3f9ab070442ab1d231fccb76bdad"
          }
        },
        "6f3fdfc025144adf839af9ff28c9e231": {
          "model_module": "@jupyter-widgets/controls",
          "model_name": "ProgressStyleModel",
          "state": {
            "_view_name": "StyleView",
            "_model_name": "ProgressStyleModel",
            "description_width": "initial",
            "_view_module": "@jupyter-widgets/base",
            "_model_module_version": "1.5.0",
            "_view_count": null,
            "_view_module_version": "1.2.0",
            "bar_color": null,
            "_model_module": "@jupyter-widgets/controls"
          }
        },
        "0d4e92d799cb4f7cb7cf7646193348dc": {
          "model_module": "@jupyter-widgets/base",
          "model_name": "LayoutModel",
          "state": {
            "_view_name": "LayoutView",
            "grid_template_rows": null,
            "right": null,
            "justify_content": null,
            "_view_module": "@jupyter-widgets/base",
            "overflow": null,
            "_model_module_version": "1.2.0",
            "_view_count": null,
            "flex_flow": null,
            "width": null,
            "min_width": null,
            "border": null,
            "align_items": null,
            "bottom": null,
            "_model_module": "@jupyter-widgets/base",
            "top": null,
            "grid_column": null,
            "overflow_y": null,
            "overflow_x": null,
            "grid_auto_flow": null,
            "grid_area": null,
            "grid_template_columns": null,
            "flex": null,
            "_model_name": "LayoutModel",
            "justify_items": null,
            "grid_row": null,
            "max_height": null,
            "align_content": null,
            "visibility": null,
            "align_self": null,
            "height": null,
            "min_height": null,
            "padding": null,
            "grid_auto_rows": null,
            "grid_gap": null,
            "max_width": null,
            "order": null,
            "_view_module_version": "1.2.0",
            "grid_template_areas": null,
            "object_position": null,
            "object_fit": null,
            "grid_auto_columns": null,
            "margin": null,
            "display": null,
            "left": null
          }
        },
        "11ebbf10ab464fc9bc7fcbc5ce7475e0": {
          "model_module": "@jupyter-widgets/controls",
          "model_name": "DescriptionStyleModel",
          "state": {
            "_view_name": "StyleView",
            "_model_name": "DescriptionStyleModel",
            "description_width": "",
            "_view_module": "@jupyter-widgets/base",
            "_model_module_version": "1.5.0",
            "_view_count": null,
            "_view_module_version": "1.2.0",
            "_model_module": "@jupyter-widgets/controls"
          }
        },
        "21ee3f9ab070442ab1d231fccb76bdad": {
          "model_module": "@jupyter-widgets/base",
          "model_name": "LayoutModel",
          "state": {
            "_view_name": "LayoutView",
            "grid_template_rows": null,
            "right": null,
            "justify_content": null,
            "_view_module": "@jupyter-widgets/base",
            "overflow": null,
            "_model_module_version": "1.2.0",
            "_view_count": null,
            "flex_flow": null,
            "width": null,
            "min_width": null,
            "border": null,
            "align_items": null,
            "bottom": null,
            "_model_module": "@jupyter-widgets/base",
            "top": null,
            "grid_column": null,
            "overflow_y": null,
            "overflow_x": null,
            "grid_auto_flow": null,
            "grid_area": null,
            "grid_template_columns": null,
            "flex": null,
            "_model_name": "LayoutModel",
            "justify_items": null,
            "grid_row": null,
            "max_height": null,
            "align_content": null,
            "visibility": null,
            "align_self": null,
            "height": null,
            "min_height": null,
            "padding": null,
            "grid_auto_rows": null,
            "grid_gap": null,
            "max_width": null,
            "order": null,
            "_view_module_version": "1.2.0",
            "grid_template_areas": null,
            "object_position": null,
            "object_fit": null,
            "grid_auto_columns": null,
            "margin": null,
            "display": null,
            "left": null
          }
        }
      }
    }
  },
  "cells": [
    {
      "cell_type": "markdown",
      "metadata": {
        "id": "view-in-github",
        "colab_type": "text"
      },
      "source": [
        "<a href=\"https://colab.research.google.com/github/schokoro/cnn_crf_nertagger/blob/master/NER_tagger.ipynb\" target=\"_parent\"><img src=\"https://colab.research.google.com/assets/colab-badge.svg\" alt=\"Open In Colab\"/></a>"
      ]
    },
    {
      "cell_type": "markdown",
      "metadata": {
        "id": "p_aAUmhzgFqt",
        "colab_type": "text"
      },
      "source": [
        "# CNN и CRF для извлечения именованных сущностей\n",
        "\n"
      ]
    },
    {
      "cell_type": "code",
      "metadata": {
        "id": "kVSH61-2h4l6",
        "colab_type": "code",
        "outputId": "61728af6-cf43-4ea0-e7a7-058366222bf9",
        "colab": {
          "base_uri": "https://localhost:8080/",
          "height": 33
        }
      },
      "source": [
        "import torch\n",
        "device = torch.device(\"cuda:0\" if torch.cuda.is_available() else \"cpu\")\n",
        "if device == 'cpu':\n",
        "    print('cpu')\n",
        "else:\n",
        "    n_gpu = torch.cuda.device_count()\n",
        "    print(torch.cuda.get_device_name(0))\n",
        "    "
      ],
      "execution_count": 1,
      "outputs": [
        {
          "output_type": "stream",
          "text": [
            "Tesla T4\n"
          ],
          "name": "stdout"
        }
      ]
    },
    {
      "cell_type": "code",
      "metadata": {
        "id": "yS5uM1WVOCz8",
        "colab_type": "code",
        "colab": {}
      },
      "source": [
        "import sys\n",
        "sys.path.append('/content/cnn_crf_nertagger')"
      ],
      "execution_count": 0,
      "outputs": []
    },
    {
      "cell_type": "code",
      "metadata": {
        "id": "2BZw4sQ4gFrj",
        "colab_type": "code",
        "outputId": "dbf05f03-d46b-412c-de70-6d4e21cafaa5",
        "colab": {
          "base_uri": "https://localhost:8080/",
          "height": 131
        }
      },
      "source": [
        "!rm -rf cnn_crf_nertagger/\n",
        "!git clone -b dev https://github.com/schokoro/cnn_crf_nertagger.git > /dev/null\n",
        "!pip install allennlp wget youtokentome ipymarkup seqeval livelossplot> /dev/null\n"
      ],
      "execution_count": 3,
      "outputs": [
        {
          "output_type": "stream",
          "text": [
            "Cloning into 'cnn_crf_nertagger'...\n",
            "remote: Enumerating objects: 276, done.\u001b[K\n",
            "remote: Counting objects:   0% (1/276)\u001b[K\rremote: Counting objects:   1% (3/276)\u001b[K\rremote: Counting objects:   2% (6/276)\u001b[K\rremote: Counting objects:   3% (9/276)\u001b[K\rremote: Counting objects:   4% (12/276)\u001b[K\rremote: Counting objects:   5% (14/276)\u001b[K\rremote: Counting objects:   6% (17/276)\u001b[K\rremote: Counting objects:   7% (20/276)\u001b[K\rremote: Counting objects:   8% (23/276)\u001b[K\rremote: Counting objects:   9% (25/276)\u001b[K\rremote: Counting objects:  10% (28/276)\u001b[K\rremote: Counting objects:  11% (31/276)\u001b[K\rremote: Counting objects:  12% (34/276)\u001b[K\rremote: Counting objects:  13% (36/276)\u001b[K\rremote: Counting objects:  14% (39/276)\u001b[K\rremote: Counting objects:  15% (42/276)\u001b[K\rremote: Counting objects:  16% (45/276)\u001b[K\rremote: Counting objects:  17% (47/276)\u001b[K\rremote: Counting objects:  18% (50/276)\u001b[K\rremote: Counting objects:  19% (53/276)\u001b[K\rremote: Counting objects:  20% (56/276)\u001b[K\rremote: Counting objects:  21% (58/276)\u001b[K\rremote: Counting objects:  22% (61/276)\u001b[K\rremote: Counting objects:  23% (64/276)\u001b[K\rremote: Counting objects:  24% (67/276)\u001b[K\rremote: Counting objects:  25% (69/276)\u001b[K\rremote: Counting objects:  26% (72/276)\u001b[K\rremote: Counting objects:  27% (75/276)\u001b[K\rremote: Counting objects:  28% (78/276)\u001b[K\rremote: Counting objects:  29% (81/276)\u001b[K\rremote: Counting objects:  30% (83/276)\u001b[K\rremote: Counting objects:  31% (86/276)\u001b[K\rremote: Counting objects:  32% (89/276)\u001b[K\rremote: Counting objects:  33% (92/276)\u001b[K\rremote: Counting objects:  34% (94/276)\u001b[K\rremote: Counting objects:  35% (97/276)\u001b[K\rremote: Counting objects:  36% (100/276)\u001b[K\rremote: Counting objects:  37% (103/276)\u001b[K\rremote: Counting objects:  38% (105/276)\u001b[K\rremote: Counting objects:  39% (108/276)\u001b[K\rremote: Counting objects:  40% (111/276)\u001b[K\rremote: Counting objects:  41% (114/276)\u001b[K\rremote: Counting objects:  42% (116/276)\u001b[K\rremote: Counting objects:  43% (119/276)\u001b[K\rremote: Counting objects:  44% (122/276)\u001b[K\rremote: Counting objects:  45% (125/276)\u001b[K\rremote: Counting objects:  46% (127/276)\u001b[K\rremote: Counting objects:  47% (130/276)\u001b[K\rremote: Counting objects:  48% (133/276)\u001b[K\rremote: Counting objects:  49% (136/276)\u001b[K\rremote: Counting objects:  50% (138/276)\u001b[K\rremote: Counting objects:  51% (141/276)\u001b[K\rremote: Counting objects:  52% (144/276)\u001b[K\rremote: Counting objects:  53% (147/276)\u001b[K\rremote: Counting objects:  54% (150/276)\u001b[K\rremote: Counting objects:  55% (152/276)\u001b[K\rremote: Counting objects:  56% (155/276)\u001b[K\rremote: Counting objects:  57% (158/276)\u001b[K\rremote: Counting objects:  58% (161/276)\u001b[K\rremote: Counting objects:  59% (163/276)\u001b[K\rremote: Counting objects:  60% (166/276)\u001b[K\rremote: Counting objects:  61% (169/276)\u001b[K\rremote: Counting objects:  62% (172/276)\u001b[K\rremote: Counting objects:  63% (174/276)\u001b[K\rremote: Counting objects:  64% (177/276)\u001b[K\rremote: Counting objects:  65% (180/276)\u001b[K\rremote: Counting objects:  66% (183/276)\u001b[K\rremote: Counting objects:  67% (185/276)\u001b[K\rremote: Counting objects:  68% (188/276)\u001b[K\rremote: Counting objects:  69% (191/276)\u001b[K\rremote: Counting objects:  70% (194/276)\u001b[K\rremote: Counting objects:  71% (196/276)\u001b[K\rremote: Counting objects:  72% (199/276)\u001b[K\rremote: Counting objects:  73% (202/276)\u001b[K\rremote: Counting objects:  74% (205/276)\u001b[K\rremote: Counting objects:  75% (207/276)\u001b[K\rremote: Counting objects:  76% (210/276)\u001b[K\rremote: Counting objects:  77% (213/276)\u001b[K\rremote: Counting objects:  78% (216/276)\u001b[K\rremote: Counting objects:  79% (219/276)\u001b[K\rremote: Counting objects:  80% (221/276)\u001b[K\rremote: Counting objects:  81% (224/276)\u001b[K\rremote: Counting objects:  82% (227/276)\u001b[K\rremote: Counting objects:  83% (230/276)\u001b[K\rremote: Counting objects:  84% (232/276)\u001b[K\rremote: Counting objects:  85% (235/276)\u001b[K\rremote: Counting objects:  86% (238/276)\u001b[K\rremote: Counting objects:  87% (241/276)\u001b[K\rremote: Counting objects:  88% (243/276)\u001b[K\rremote: Counting objects:  89% (246/276)\u001b[K\rremote: Counting objects:  90% (249/276)\u001b[K\rremote: Counting objects:  91% (252/276)\u001b[K\rremote: Counting objects:  92% (254/276)\u001b[K\rremote: Counting objects:  93% (257/276)\u001b[K\rremote: Counting objects:  94% (260/276)\u001b[K\rremote: Counting objects:  95% (263/276)\u001b[K\rremote: Counting objects:  96% (265/276)\u001b[K\rremote: Counting objects:  97% (268/276)\u001b[K\rremote: Counting objects:  98% (271/276)\u001b[K\rremote: Counting objects:  99% (274/276)\u001b[K\rremote: Counting objects: 100% (276/276)\u001b[K\rremote: Counting objects: 100% (276/276), done.\u001b[K\n",
            "remote: Compressing objects:   0% (1/176)\u001b[K\rremote: Compressing objects:   1% (2/176)\u001b[K\rremote: Compressing objects:   2% (4/176)\u001b[K\rremote: Compressing objects:   3% (6/176)\u001b[K\rremote: Compressing objects:   4% (8/176)\u001b[K\rremote: Compressing objects:   5% (9/176)\u001b[K\rremote: Compressing objects:   6% (11/176)\u001b[K\rremote: Compressing objects:   7% (13/176)\u001b[K\rremote: Compressing objects:   8% (15/176)\u001b[K\rremote: Compressing objects:   9% (16/176)\u001b[K\rremote: Compressing objects:  10% (18/176)\u001b[K\rremote: Compressing objects:  11% (20/176)\u001b[K\rremote: Compressing objects:  12% (22/176)\u001b[K\rremote: Compressing objects:  13% (23/176)\u001b[K\rremote: Compressing objects:  14% (25/176)\u001b[K\rremote: Compressing objects:  15% (27/176)\u001b[K\rremote: Compressing objects:  16% (29/176)\u001b[K\rremote: Compressing objects:  17% (30/176)\u001b[K\rremote: Compressing objects:  18% (32/176)\u001b[K\rremote: Compressing objects:  19% (34/176)\u001b[K\rremote: Compressing objects:  20% (36/176)\u001b[K\rremote: Compressing objects:  21% (37/176)\u001b[K\rremote: Compressing objects:  22% (39/176)\u001b[K\rremote: Compressing objects:  23% (41/176)\u001b[K\rremote: Compressing objects:  24% (43/176)\u001b[K\rremote: Compressing objects:  25% (44/176)\u001b[K\rremote: Compressing objects:  26% (46/176)\u001b[K\rremote: Compressing objects:  27% (48/176)\u001b[K\rremote: Compressing objects:  28% (50/176)\u001b[K\rremote: Compressing objects:  29% (52/176)\u001b[K\rremote: Compressing objects:  30% (53/176)\u001b[K\rremote: Compressing objects:  31% (55/176)\u001b[K\rremote: Compressing objects:  32% (57/176)\u001b[K\rremote: Compressing objects:  33% (59/176)\u001b[K\rremote: Compressing objects:  34% (60/176)\u001b[K\rremote: Compressing objects:  35% (62/176)\u001b[K\rremote: Compressing objects:  36% (64/176)\u001b[K\rremote: Compressing objects:  37% (66/176)\u001b[K\rremote: Compressing objects:  38% (67/176)\u001b[K\rremote: Compressing objects:  39% (69/176)\u001b[K\rremote: Compressing objects:  40% (71/176)\u001b[K\rremote: Compressing objects:  41% (73/176)\u001b[K\rremote: Compressing objects:  42% (74/176)\u001b[K\rremote: Compressing objects:  43% (76/176)\u001b[K\rremote: Compressing objects:  44% (78/176)\u001b[K\rremote: Compressing objects:  45% (80/176)\u001b[K\rremote: Compressing objects:  46% (81/176)\u001b[K\rremote: Compressing objects:  47% (83/176)\u001b[K\rremote: Compressing objects:  48% (85/176)\u001b[K\rremote: Compressing objects:  49% (87/176)\u001b[K\rremote: Compressing objects:  50% (88/176)\u001b[K\rremote: Compressing objects:  51% (90/176)\u001b[K\rremote: Compressing objects:  52% (92/176)\u001b[K\rremote: Compressing objects:  53% (94/176)\u001b[K\rremote: Compressing objects:  54% (96/176)\u001b[K\rremote: Compressing objects:  55% (97/176)\u001b[K\rremote: Compressing objects:  56% (99/176)\u001b[K\rremote: Compressing objects:  57% (101/176)\u001b[K\rremote: Compressing objects:  58% (103/176)\u001b[K\rremote: Compressing objects:  59% (104/176)\u001b[K\rremote: Compressing objects:  60% (106/176)\u001b[K\rremote: Compressing objects:  61% (108/176)\u001b[K\rremote: Compressing objects:  62% (110/176)\u001b[K\rremote: Compressing objects:  63% (111/176)\u001b[K\rremote: Compressing objects:  64% (113/176)\u001b[K\rremote: Compressing objects:  65% (115/176)\u001b[K\rremote: Compressing objects:  66% (117/176)\u001b[K\rremote: Compressing objects:  67% (118/176)\u001b[K\rremote: Compressing objects:  68% (120/176)\u001b[K\rremote: Compressing objects:  69% (122/176)\u001b[K\rremote: Compressing objects:  70% (124/176)\u001b[K\rremote: Compressing objects:  71% (125/176)\u001b[K\rremote: Compressing objects:  72% (127/176)\u001b[K\rremote: Compressing objects:  73% (129/176)\u001b[K\rremote: Compressing objects:  74% (131/176)\u001b[K\rremote: Compressing objects:  75% (132/176)\u001b[K\rremote: Compressing objects:  76% (134/176)\u001b[K\rremote: Compressing objects:  77% (136/176)\u001b[K\rremote: Compressing objects:  78% (138/176)\u001b[K\rremote: Compressing objects:  79% (140/176)\u001b[K\rremote: Compressing objects:  80% (141/176)\u001b[K\rremote: Compressing objects:  81% (143/176)\u001b[K\rremote: Compressing objects:  82% (145/176)\u001b[K\rremote: Compressing objects:  83% (147/176)\u001b[K\rremote: Compressing objects:  84% (148/176)\u001b[K\rremote: Compressing objects:  85% (150/176)\u001b[K\rremote: Compressing objects:  86% (152/176)\u001b[K\rremote: Compressing objects:  87% (154/176)\u001b[K\rremote: Compressing objects:  88% (155/176)\u001b[K\rremote: Compressing objects:  89% (157/176)\u001b[K\rremote: Compressing objects:  90% (159/176)\u001b[K\rremote: Compressing objects:  91% (161/176)\u001b[K\rremote: Compressing objects:  92% (162/176)\u001b[K\rremote: Compressing objects:  93% (164/176)\u001b[K\rremote: Compressing objects:  94% (166/176)\u001b[K\rremote: Compressing objects:  95% (168/176)\u001b[K\rremote: Compressing objects:  96% (169/176)\u001b[K\rremote: Compressing objects:  97% (171/176)\u001b[K\rremote: Compressing objects:  98% (173/176)\u001b[K\rremote: Compressing objects:  99% (175/176)\u001b[K\rremote: Compressing objects: 100% (176/176)\u001b[K\rremote: Compressing objects: 100% (176/176), done.\u001b[K\n",
            "Receiving objects:   0% (1/276)   \rReceiving objects:   1% (3/276)   \rReceiving objects:   2% (6/276)   \rReceiving objects:   3% (9/276)   \rReceiving objects:   4% (12/276)   \rReceiving objects:   5% (14/276)   \rReceiving objects:   6% (17/276)   \rReceiving objects:   7% (20/276)   \rReceiving objects:   8% (23/276)   \rReceiving objects:   9% (25/276)   \rReceiving objects:  10% (28/276)   \rReceiving objects:  11% (31/276)   \rReceiving objects:  12% (34/276)   \rReceiving objects:  13% (36/276)   \rReceiving objects:  14% (39/276)   \rReceiving objects:  15% (42/276)   \rReceiving objects:  16% (45/276)   \rReceiving objects:  17% (47/276)   \rReceiving objects:  18% (50/276)   \rReceiving objects:  19% (53/276)   \rReceiving objects:  20% (56/276)   \rReceiving objects:  21% (58/276)   \rReceiving objects:  22% (61/276)   \rReceiving objects:  23% (64/276)   \rReceiving objects:  24% (67/276)   \rReceiving objects:  25% (69/276)   \rReceiving objects:  26% (72/276)   \rReceiving objects:  27% (75/276)   \rReceiving objects:  28% (78/276)   \rReceiving objects:  29% (81/276)   \rReceiving objects:  30% (83/276)   \rReceiving objects:  31% (86/276)   \rReceiving objects:  32% (89/276)   \rReceiving objects:  33% (92/276)   \rReceiving objects:  34% (94/276)   \rReceiving objects:  35% (97/276)   \rReceiving objects:  36% (100/276)   \rReceiving objects:  37% (103/276)   \rReceiving objects:  38% (105/276)   \rReceiving objects:  39% (108/276)   \rReceiving objects:  40% (111/276)   \rReceiving objects:  41% (114/276)   \rReceiving objects:  42% (116/276)   \rReceiving objects:  43% (119/276)   \rReceiving objects:  44% (122/276)   \rReceiving objects:  45% (125/276)   \rReceiving objects:  46% (127/276)   \rReceiving objects:  47% (130/276)   \rReceiving objects:  48% (133/276)   \rReceiving objects:  49% (136/276)   \rReceiving objects:  50% (138/276)   \rReceiving objects:  51% (141/276)   \rReceiving objects:  52% (144/276)   \rReceiving objects:  53% (147/276)   \rReceiving objects:  54% (150/276)   \rReceiving objects:  55% (152/276)   \rReceiving objects:  56% (155/276)   \rReceiving objects:  57% (158/276)   \rReceiving objects:  58% (161/276)   \rReceiving objects:  59% (163/276)   \rReceiving objects:  60% (166/276)   \rReceiving objects:  61% (169/276)   \rReceiving objects:  62% (172/276)   \rReceiving objects:  63% (174/276)   \rReceiving objects:  64% (177/276)   \rReceiving objects:  65% (180/276)   \rremote: Total 276 (delta 137), reused 203 (delta 79), pack-reused 0\u001b[K\n",
            "Receiving objects:  66% (183/276)   \rReceiving objects:  67% (185/276)   \rReceiving objects:  68% (188/276)   \rReceiving objects:  69% (191/276)   \rReceiving objects:  70% (194/276)   \rReceiving objects:  71% (196/276)   \rReceiving objects:  72% (199/276)   \rReceiving objects:  73% (202/276)   \rReceiving objects:  74% (205/276)   \rReceiving objects:  75% (207/276)   \rReceiving objects:  76% (210/276)   \rReceiving objects:  77% (213/276)   \rReceiving objects:  78% (216/276)   \rReceiving objects:  79% (219/276)   \rReceiving objects:  80% (221/276)   \rReceiving objects:  81% (224/276)   \rReceiving objects:  82% (227/276)   \rReceiving objects:  83% (230/276)   \rReceiving objects:  84% (232/276)   \rReceiving objects:  85% (235/276)   \rReceiving objects:  86% (238/276)   \rReceiving objects:  87% (241/276)   \rReceiving objects:  88% (243/276)   \rReceiving objects:  89% (246/276)   \rReceiving objects:  90% (249/276)   \rReceiving objects:  91% (252/276)   \rReceiving objects:  92% (254/276)   \rReceiving objects:  93% (257/276)   \rReceiving objects:  94% (260/276)   \rReceiving objects:  95% (263/276)   \rReceiving objects:  96% (265/276)   \rReceiving objects:  97% (268/276)   \rReceiving objects:  98% (271/276)   \rReceiving objects:  99% (274/276)   \rReceiving objects: 100% (276/276)   \rReceiving objects: 100% (276/276), 241.87 KiB | 956.00 KiB/s, done.\n",
            "Resolving deltas:   0% (0/137)   \rResolving deltas:   2% (3/137)   \rResolving deltas:  48% (67/137)   \rResolving deltas:  59% (82/137)   \rResolving deltas:  60% (83/137)   \rResolving deltas:  75% (104/137)   \rResolving deltas:  89% (122/137)   \rResolving deltas:  90% (124/137)   \rResolving deltas:  91% (126/137)   \rResolving deltas: 100% (137/137)   \rResolving deltas: 100% (137/137), done.\n"
          ],
          "name": "stdout"
        }
      ]
    },
    {
      "cell_type": "code",
      "metadata": {
        "ExecuteTime": {
          "end_time": "2019-10-29T19:49:34.549739Z",
          "start_time": "2019-10-29T19:49:32.179692Z"
        },
        "id": "ol61j2fHgFsh",
        "colab_type": "code",
        "colab": {}
      },
      "source": [
        "%load_ext autoreload\n",
        "%autoreload 2\n",
        "\n",
        "import spacy\n",
        "import warnings\n",
        "warnings.filterwarnings('ignore')\n",
        "import numpy as np\n",
        "from torch.nn import functional as F\n",
        "from torch.utils.data import TensorDataset\n",
        "from allennlp.data.dataset_readers.conll2003 import Conll2003DatasetReader\n",
        "from allennlp.common.util import ensure_list\n",
        "# from allennlp.data.vocabulary import Vocabulary\n",
        "from allennlp.training.metrics import SpanBasedF1Measure\n",
        "from torch import nn\n",
        "from torch.nn import functional as F\n",
        "# from torch.utils.data import TensorDataset\n",
        "from pdb import set_trace\n",
        "from gc import collect\n",
        "from tqdm.notebook import tqdm\n",
        "import wget\n",
        "from multiprocessing import cpu_count\n",
        "import cnn_crf_nertagger\n",
        "from cnn_crf_nertagger.modules.modules import NERTaggerModel, NERTagger\n",
        "from cnn_crf_nertagger.utils.pipeline import train_eval_loop, predict_with_model\n",
        "from cnn_crf_nertagger.utils.prepare import tag_corpus_to_tensor, tokenize_corpus, make_yttm_tokenizer, highlight_text, tensor_to_tags, ConllDataset\n",
        "from os import path, listdir\n",
        "import pandas as pd\n",
        "import seaborn as sns\n",
        "from matplotlib import rcParams\n",
        "from seqeval.metrics import classification_report\n",
        "sns.set()\n",
        "%matplotlib inline\n",
        "\n",
        "rcParams['figure.figsize'] = 12, 12\n",
        "torch.backends.cudnn.deterministic=False "
      ],
      "execution_count": 0,
      "outputs": []
    },
    {
      "cell_type": "markdown",
      "metadata": {
        "id": "inP4QwcDgFs3",
        "colab_type": "text"
      },
      "source": [
        "## Подготовка данных\n",
        "\n"
      ]
    },
    {
      "cell_type": "markdown",
      "metadata": {
        "id": "aXvdhaF5nPcQ",
        "colab_type": "text"
      },
      "source": [
        "\n",
        "### Загружаем корпуса"
      ]
    },
    {
      "cell_type": "code",
      "metadata": {
        "id": "7HUaGBS4nD1g",
        "colab_type": "code",
        "outputId": "d841f3cc-2baa-42c1-cee6-c1beb40e3bbd",
        "colab": {
          "base_uri": "https://localhost:8080/",
          "height": 33
        }
      },
      "source": [
        "!rm -fv /content/cnn_crf_nertagger/data/*\n"
      ],
      "execution_count": 5,
      "outputs": [
        {
          "output_type": "stream",
          "text": [
            "removed '/content/cnn_crf_nertagger/data/readme.txt'\n"
          ],
          "name": "stdout"
        }
      ]
    },
    {
      "cell_type": "code",
      "metadata": {
        "ExecuteTime": {
          "end_time": "2019-10-29T19:49:56.525561Z",
          "start_time": "2019-10-29T19:49:37.315213Z"
        },
        "id": "uo0ZTJ1FgFti",
        "colab_type": "code",
        "colab": {}
      },
      "source": [
        "path_data = '/content/cnn_crf_nertagger/data/'\n",
        "path_train = '/content/cnn_crf_nertagger/data/eng.train'\n",
        "path_valid = '/content/cnn_crf_nertagger/data/eng.testa'\n",
        "path_test = '/content/cnn_crf_nertagger/data/eng.testb'\n",
        "\n",
        "dataset_urls = {\n",
        "    'eng.testa': 'https://raw.githubusercontent.com/synalp/NER/master/corpus/CoNLL-2003/eng.testa',\n",
        "    'eng.testb': 'https://raw.githubusercontent.com/synalp/NER/master/corpus/CoNLL-2003/eng.testb',\n",
        "    'eng.train': 'https://raw.githubusercontent.com/synalp/NER/master/corpus/CoNLL-2003/eng.train'}\n",
        "for file_name in dataset_urls:\n",
        "    wget.download(dataset_urls[file_name], path.join(path_data, file_name))"
      ],
      "execution_count": 0,
      "outputs": []
    },
    {
      "cell_type": "code",
      "metadata": {
        "id": "r6AABrk05iiC",
        "colab_type": "code",
        "outputId": "d16c39ea-3156-4468-ac53-f80e5d6df94d",
        "colab": {
          "base_uri": "https://localhost:8080/",
          "height": 98
        }
      },
      "source": [
        "%%time\n",
        "conll_reader = Conll2003DatasetReader()\n",
        "train_conll = ensure_list(conll_reader.read(path_train))\n",
        "valid_conll = ensure_list(conll_reader.read(path_valid))\n",
        "test_conll = ensure_list(conll_reader.read(path_test))"
      ],
      "execution_count": 7,
      "outputs": [
        {
          "output_type": "stream",
          "text": [
            "14041it [00:01, 12564.88it/s]\n",
            "3250it [00:00, 9325.29it/s]\n",
            "3453it [00:00, 26139.79it/s]"
          ],
          "name": "stderr"
        },
        {
          "output_type": "stream",
          "text": [
            "CPU times: user 1.53 s, sys: 72.3 ms, total: 1.6 s\n",
            "Wall time: 1.6 s\n"
          ],
          "name": "stdout"
        },
        {
          "output_type": "stream",
          "text": [
            "\n"
          ],
          "name": "stderr"
        }
      ]
    },
    {
      "cell_type": "code",
      "metadata": {
        "id": "WCYr630b8O5w",
        "colab_type": "code",
        "outputId": "b425dd15-63a1-49d2-9fee-afdfce16567b",
        "colab": {
          "base_uri": "https://localhost:8080/",
          "height": 33
        }
      },
      "source": [
        "all_conll = train_conll + valid_conll + test_conll\n",
        "len(all_conll), len(train_conll), len(valid_conll), len(test_conll)"
      ],
      "execution_count": 8,
      "outputs": [
        {
          "output_type": "execute_result",
          "data": {
            "text/plain": [
              "(20744, 14041, 3250, 3453)"
            ]
          },
          "metadata": {
            "tags": []
          },
          "execution_count": 8
        }
      ]
    },
    {
      "cell_type": "markdown",
      "metadata": {
        "id": "LeAP6B5WfzoR",
        "colab_type": "text"
      },
      "source": [
        "### Готовим словари соответсвия тег-id и bpe - токенизатор\n",
        "\n"
      ]
    },
    {
      "cell_type": "code",
      "metadata": {
        "id": "joAECv5_8htA",
        "colab_type": "code",
        "outputId": "c19c2e79-e850-4edd-a5ec-c3539403d5d5",
        "colab": {
          "base_uri": "https://localhost:8080/",
          "height": 33
        }
      },
      "source": [
        "tags = set()\n",
        "tokens = set()\n",
        "\n",
        "max_sent_len = 0\n",
        "for instance in all_conll[: ]:\n",
        "    if len(instance['tokens']) >  max_sent_len:\n",
        "        max_sent_len = len(instance['tokens'])\n",
        "    tags.update(instance['tags'])\n",
        "    tokens.update(instance['tokens'])\n",
        "    \n",
        "print(f'Максимальная длина предложения: {max_sent_len} токенов')"
      ],
      "execution_count": 9,
      "outputs": [
        {
          "output_type": "stream",
          "text": [
            "Максимальная длина предложения: 124 токенов\n"
          ],
          "name": "stdout"
        }
      ]
    },
    {
      "cell_type": "code",
      "metadata": {
        "id": "l75L7ILeme3k",
        "colab_type": "code",
        "outputId": "ef0a62e9-060e-46bb-dada-7312600ef544",
        "colab": {
          "base_uri": "https://localhost:8080/",
          "height": 50
        }
      },
      "source": [
        "%time bpe_tokenizer = make_yttm_tokenizer(train_conll, 400)"
      ],
      "execution_count": 10,
      "outputs": [
        {
          "output_type": "stream",
          "text": [
            "CPU times: user 150 ms, sys: 20.9 ms, total: 171 ms\n",
            "Wall time: 138 ms\n"
          ],
          "name": "stdout"
        }
      ]
    },
    {
      "cell_type": "code",
      "metadata": {
        "id": "SaDuu3t_8hqd",
        "colab_type": "code",
        "outputId": "0df12b53-e9ac-44ba-d545-0e6faa795553",
        "colab": {
          "base_uri": "https://localhost:8080/",
          "height": 113,
          "referenced_widgets": [
            "e6b344bc5a2f4a00a32c218cbb834f13",
            "cb9dfea748f447bf812f2f364210f472",
            "6b5e36cf2f7540c2a957f7b89e9c9d59",
            "890adef34df04ee3b73007d1277a1823",
            "6f3fdfc025144adf839af9ff28c9e231",
            "0d4e92d799cb4f7cb7cf7646193348dc",
            "11ebbf10ab464fc9bc7fcbc5ce7475e0",
            "21ee3f9ab070442ab1d231fccb76bdad"
          ]
        }
      },
      "source": [
        "%%time\n",
        "max_token_len = 0\n",
        "for p in tqdm(range(101)):\n",
        "    len_tokens = [len(bpe_tokenizer.encode(token.text, dropout_prob=p/100))  for token in tokens]\n",
        "    if max(len_tokens) > max_token_len:\n",
        "        p_dropout = .01 * p\n",
        "        max_token_len = max(len_tokens)\n",
        "\n",
        "print(f'Максимальная длина токена: {max_token_len} субтокенов при вероятности дропаута {p_dropout}')"
      ],
      "execution_count": 11,
      "outputs": [
        {
          "output_type": "display_data",
          "data": {
            "application/vnd.jupyter.widget-view+json": {
              "model_id": "e6b344bc5a2f4a00a32c218cbb834f13",
              "version_minor": 0,
              "version_major": 2
            },
            "text/plain": [
              "HBox(children=(FloatProgress(value=0.0, max=101.0), HTML(value='')))"
            ]
          },
          "metadata": {
            "tags": []
          }
        },
        {
          "output_type": "stream",
          "text": [
            "\n",
            "Максимальная длина токена: 62 субтокенов при вероятности дропаута 0.11\n",
            "CPU times: user 9.26 s, sys: 57.4 ms, total: 9.32 s\n",
            "Wall time: 9.34 s\n"
          ],
          "name": "stdout"
        }
      ]
    },
    {
      "cell_type": "code",
      "metadata": {
        "ExecuteTime": {
          "end_time": "2019-10-29T19:49:58.524125Z",
          "start_time": "2019-10-29T19:49:58.125577Z"
        },
        "id": "WzDDott3gFul",
        "colab_type": "code",
        "colab": {}
      },
      "source": [
        "tag2id = {tag: num for num, tag in enumerate(['<NOTAG>'] + list(tags))}"
      ],
      "execution_count": 0,
      "outputs": []
    },
    {
      "cell_type": "markdown",
      "metadata": {
        "id": "AiqJ56QiAsZF",
        "colab_type": "text"
      },
      "source": [
        "В датасете присутствует очень мало тегов вида B-XXX. Попробуем чуть размножить предложения с этими тегами. Использование дропаута в bpe внесёт немного разнообразия в эти предложения."
      ]
    },
    {
      "cell_type": "code",
      "metadata": {
        "id": "-OFmMzN9Fo-M",
        "colab_type": "code",
        "colab": {}
      },
      "source": [
        ""
      ],
      "execution_count": 0,
      "outputs": []
    },
    {
      "cell_type": "code",
      "metadata": {
        "id": "bL-haaq9GD26",
        "colab_type": "code",
        "outputId": "67141ce7-346f-4acb-ae01-3ca11b19cce5",
        "colab": {
          "base_uri": "https://localhost:8080/",
          "height": 50
        }
      },
      "source": [
        "%%time\n",
        "BPE_DROPOUT = .2\n",
        "train_dataset = ConllDataset(train_conll, bpe_tokenizer, tag2id, max_sent_len, max_token_len, 50, BPE_DROPOUT)\n",
        "valid_dataset = ConllDataset(valid_conll, bpe_tokenizer, tag2id, max_sent_len, max_token_len)\n",
        "test_dataset = ConllDataset(test_conll, bpe_tokenizer, tag2id, max_sent_len, max_token_len)\n"
      ],
      "execution_count": 13,
      "outputs": [
        {
          "output_type": "stream",
          "text": [
            "CPU times: user 17.1 ms, sys: 1.01 ms, total: 18.1 ms\n",
            "Wall time: 18.1 ms\n"
          ],
          "name": "stdout"
        }
      ]
    },
    {
      "cell_type": "code",
      "metadata": {
        "id": "EdK-vuKoVpen",
        "colab_type": "code",
        "outputId": "ad22f27e-cb71-402a-a765-b7955398096c",
        "colab": {
          "base_uri": "https://localhost:8080/",
          "height": 33
        }
      },
      "source": [
        "len(train_dataset), len(valid_dataset), len(test_dataset) "
      ],
      "execution_count": 14,
      "outputs": [
        {
          "output_type": "execute_result",
          "data": {
            "text/plain": [
              "(16641, 3250, 3453)"
            ]
          },
          "metadata": {
            "tags": []
          },
          "execution_count": 14
        }
      ]
    },
    {
      "cell_type": "markdown",
      "metadata": {
        "id": "V0KNokGoadtA",
        "colab_type": "text"
      },
      "source": [
        "## Создаём и обучаем сеть"
      ]
    },
    {
      "cell_type": "code",
      "metadata": {
        "id": "U5k4Z4b6craL",
        "colab_type": "code",
        "colab": {}
      },
      "source": [
        "models_path = '/content/cnn_crf_nertagger/models/best_model.pth'"
      ],
      "execution_count": 0,
      "outputs": []
    },
    {
      "cell_type": "code",
      "metadata": {
        "id": "DfRjCwqZu4BW",
        "colab_type": "code",
        "outputId": "62ea5911-5f64-4647-d275-b3d97b250ab7",
        "colab": {
          "base_uri": "https://localhost:8080/",
          "height": 33
        }
      },
      "source": [
        "try:\n",
        "    del model    \n",
        "    collect()\n",
        "except:\n",
        "    print('no model')\n",
        "finally:\n",
        "    torch.cuda.empty_cache()\n"
      ],
      "execution_count": 16,
      "outputs": [
        {
          "output_type": "stream",
          "text": [
            "no model\n"
          ],
          "name": "stdout"
        }
      ]
    },
    {
      "cell_type": "markdown",
      "metadata": {
        "id": "yYZiVrJYFCC1",
        "colab_type": "text"
      },
      "source": [
        "Сеть состоит из двух однотипных свёрточных блоков и CRF. На первом уровне мы осуществляем свёртку над субтокенами и делаем глобал-пуллинг. Затем получившиеся эмбедденги токенов передаём на следующий свёрточный блок. Он значительно глубже, чтобы увеличить рецептивное поле. Выход второго блока передаём в CRF, который возвращает нам `log-likelihood`."
      ]
    },
    {
      "cell_type": "code",
      "metadata": {
        "ExecuteTime": {
          "end_time": "2019-10-29T19:47:48.326925Z",
          "start_time": "2019-10-29T19:46:50.310Z"
        },
        "id": "jj9cwrRBgFwR",
        "colab_type": "code",
        "outputId": "8dafa142-4e65-44c8-a122-c477612c3442",
        "colab": {
          "base_uri": "https://localhost:8080/",
          "height": 33
        }
      },
      "source": [
        "torch.cuda.empty_cache()\n",
        "model = NERTaggerModel(len(bpe_tokenizer.vocab()), len(tag2id), tag2id, embedding_size=64,\n",
        "                                              single_backbone_kwargs=dict(layers_n=2, kernel_size=3, dropout=0.3, dilation=[1, 1]),\n",
        "                                              context_backbone_kwargs=dict(layers_n=5, kernel_size=3, dropout=0.2, dilation=[1, 1, 1, 2 , 2]))\n",
        "print('Количество параметров', sum(np.product(t.shape) for t in model.parameters()))"
      ],
      "execution_count": 17,
      "outputs": [
        {
          "output_type": "stream",
          "text": [
            "Количество параметров 112869\n"
          ],
          "name": "stdout"
        }
      ]
    },
    {
      "cell_type": "code",
      "metadata": {
        "id": "luP8K58IIlw8",
        "colab_type": "code",
        "colab": {}
      },
      "source": [
        "# try:\n",
        "#     model.load_state_dict(torch.load(models_path))\n",
        "# except:\n",
        "#     print('no model')"
      ],
      "execution_count": 0,
      "outputs": []
    },
    {
      "cell_type": "code",
      "metadata": {
        "id": "1lRzQca4fXdc",
        "colab_type": "code",
        "colab": {}
      },
      "source": [
        "losses = {}"
      ],
      "execution_count": 0,
      "outputs": []
    },
    {
      "cell_type": "code",
      "metadata": {
        "ExecuteTime": {
          "end_time": "2019-10-29T19:47:48.327888Z",
          "start_time": "2019-10-29T19:46:50.737Z"
        },
        "scrolled": false,
        "id": "4aa02MY9gFwZ",
        "colab_type": "code",
        "outputId": "7e395cf6-d6f3-4bc5-d71a-9441113adb71",
        "colab": {
          "base_uri": "https://localhost:8080/",
          "height": 1000
        }
      },
      "source": [
        "(best_val_loss,\n",
        " best_model,\n",
        " losses) = train_eval_loop(\n",
        "     model,\n",
        "     train_dataset,\n",
        "     valid_dataset,\n",
        "     lr=5e-3,\n",
        "     epoch_n=200,\n",
        "     batch_size=128,\n",
        "     device=device,\n",
        "     early_stopping_patience=8,\n",
        "     l2_reg_alpha = 1e-6,\n",
        "     max_batches_per_epoch_train=100,\n",
        "     max_batches_per_epoch_val=100,\n",
        "     dataloader_workers_n=cpu_count(),\n",
        "     lr_scheduler_ctor=lambda optim: torch.optim.lr_scheduler.ReduceLROnPlateau(\n",
        "         optim, patience=4,\n",
        "         factor=0.1,\n",
        "         threshold=1e-2,\n",
        "         verbose=True,\n",
        "         min_lr=1e-6),\n",
        "     verbose_batch=False,\n",
        "     verbose_liveloss=False,\n",
        "     prev_loss=losses\n",
        "    )\n",
        " \n",
        "torch.save(best_model.state_dict(), models_path)"
      ],
      "execution_count": 20,
      "outputs": [
        {
          "output_type": "stream",
          "text": [
            "Эпоха 0\n",
            "Эпоха: 101 итераций, 25.38 сек\n",
            "Среднее значение функции потерь на обучении 9.792157059848899\n",
            "Среднее значение функции потерь на валидации 4.076191494098077\n",
            "Новая лучшая модель!\n",
            "\n",
            "Эпоха 1\n",
            "Эпоха: 101 итераций, 25.64 сек\n",
            "Среднее значение функции потерь на обучении 3.3796063531743417\n",
            "Среднее значение функции потерь на валидации 2.698754445864604\n",
            "Новая лучшая модель!\n",
            "\n",
            "Эпоха 2\n",
            "Эпоха: 101 итераций, 25.64 сек\n",
            "Среднее значение функции потерь на обучении 2.4288056144619934\n",
            "Среднее значение функции потерь на валидации 2.1360879299732356\n",
            "Новая лучшая модель!\n",
            "\n",
            "Эпоха 3\n",
            "Эпоха: 101 итераций, 26.32 сек\n",
            "Среднее значение функции потерь на обучении 1.9965834617614746\n",
            "Среднее значение функции потерь на валидации 1.8926157160447195\n",
            "Новая лучшая модель!\n",
            "\n",
            "Эпоха 4\n",
            "Эпоха: 101 итераций, 25.51 сек\n",
            "Среднее значение функции потерь на обучении 1.7334256703310673\n",
            "Среднее значение функции потерь на валидации 1.6595477564976766\n",
            "Новая лучшая модель!\n",
            "\n",
            "Эпоха 5\n",
            "Эпоха: 101 итераций, 26.25 сек\n",
            "Среднее значение функции потерь на обучении 1.6025689238368874\n",
            "Среднее значение функции потерь на валидации 1.5950344170515354\n",
            "Новая лучшая модель!\n",
            "\n",
            "Эпоха 6\n",
            "Эпоха: 101 итераций, 26.08 сек\n",
            "Среднее значение функции потерь на обучении 1.4843514461328489\n",
            "Среднее значение функции потерь на валидации 1.4784610259991426\n",
            "Новая лучшая модель!\n",
            "\n",
            "Эпоха 7\n",
            "Эпоха: 101 итераций, 26.09 сек\n",
            "Среднее значение функции потерь на обучении 1.3734683901956766\n",
            "Среднее значение функции потерь на валидации 1.44720613440642\n",
            "Новая лучшая модель!\n",
            "\n",
            "Эпоха 8\n",
            "Эпоха: 101 итераций, 26.55 сек\n",
            "Среднее значение функции потерь на обучении 1.2848183512687683\n",
            "Среднее значение функции потерь на валидации 1.3497741296887398\n",
            "Новая лучшая модель!\n",
            "\n",
            "Эпоха 9\n",
            "Эпоха: 101 итераций, 26.64 сек\n",
            "Среднее значение функции потерь на обучении 1.245818064944579\n",
            "Среднее значение функции потерь на валидации 1.321582590158169\n",
            "Новая лучшая модель!\n",
            "\n",
            "Эпоха 10\n",
            "Эпоха: 101 итераций, 26.91 сек\n",
            "Среднее значение функции потерь на обучении 1.1867899251456309\n",
            "Среднее значение функции потерь на валидации 1.3603574473124285\n",
            "\n",
            "Эпоха 11\n",
            "Эпоха: 101 итераций, 25.89 сек\n",
            "Среднее значение функции потерь на обучении 1.161003040795279\n",
            "Среднее значение функции потерь на валидации 1.272822067141533\n",
            "Новая лучшая модель!\n",
            "\n",
            "Эпоха 12\n",
            "Эпоха: 101 итераций, 25.86 сек\n",
            "Среднее значение функции потерь на обучении 1.1073450959554993\n",
            "Среднее значение функции потерь на валидации 1.224625554222327\n",
            "Новая лучшая модель!\n",
            "\n",
            "Эпоха 13\n",
            "Эпоха: 101 итераций, 26.36 сек\n",
            "Среднее значение функции потерь на обучении 1.0687151645669843\n",
            "Среднее значение функции потерь на валидации 1.2081343388328185\n",
            "Новая лучшая модель!\n",
            "\n",
            "Эпоха 14\n",
            "Эпоха: 101 итераций, 26.13 сек\n",
            "Среднее значение функции потерь на обучении 1.0344905469677237\n",
            "Среднее значение функции потерь на валидации 1.2073323491674204\n",
            "Новая лучшая модель!\n",
            "\n",
            "Эпоха 15\n",
            "Эпоха: 101 итераций, 26.38 сек\n",
            "Среднее значение функции потерь на обучении 1.0177223015539716\n",
            "Среднее значение функции потерь на валидации 1.1441058333103473\n",
            "Новая лучшая модель!\n",
            "\n",
            "Эпоха 16\n",
            "Эпоха: 101 итераций, 26.44 сек\n",
            "Среднее значение функции потерь на обучении 0.9834817538757136\n",
            "Среднее значение функции потерь на валидации 1.1456849282750716\n",
            "\n",
            "Эпоха 17\n",
            "Эпоха: 101 итераций, 26.24 сек\n",
            "Среднее значение функции потерь на обучении 0.9581708589402755\n",
            "Среднее значение функции потерь на валидации 1.2226685308493102\n",
            "\n",
            "Эпоха 18\n",
            "Эпоха: 101 итераций, 26.32 сек\n",
            "Среднее значение функции потерь на обучении 0.9774444569455515\n",
            "Среднее значение функции потерь на валидации 1.1207977602115045\n",
            "Новая лучшая модель!\n",
            "\n",
            "Эпоха 19\n",
            "Эпоха: 101 итераций, 26.53 сек\n",
            "Среднее значение функции потерь на обучении 0.9095005971370357\n",
            "Среднее значение функции потерь на валидации 1.1448581556861217\n",
            "\n",
            "Эпоха 20\n",
            "Эпоха: 101 итераций, 25.95 сек\n",
            "Среднее значение функции потерь на обучении 0.8954062302513878\n",
            "Среднее значение функции потерь на валидации 1.1178996270665755\n",
            "Новая лучшая модель!\n",
            "\n",
            "Эпоха 21\n",
            "Эпоха: 101 итераций, 26.38 сек\n",
            "Среднее значение функции потерь на обучении 0.8751426569306024\n",
            "Среднее значение функции потерь на валидации 1.0893846463698607\n",
            "Новая лучшая модель!\n",
            "\n",
            "Эпоха 22\n",
            "Эпоха: 101 итераций, 26.64 сек\n",
            "Среднее значение функции потерь на обучении 0.8660762162491826\n",
            "Среднее значение функции потерь на валидации 1.1330907935133347\n",
            "\n",
            "Эпоха 23\n",
            "Эпоха: 101 итераций, 27.17 сек\n",
            "Среднее значение функции потерь на обучении 0.8513928834754642\n",
            "Среднее значение функции потерь на валидации 1.0842962121734252\n",
            "Новая лучшая модель!\n",
            "\n",
            "Эпоха 24\n",
            "Эпоха: 101 итераций, 26.12 сек\n",
            "Среднее значение функции потерь на обучении 0.8404746610339325\n",
            "Среднее значение функции потерь на валидации 1.096495893712227\n",
            "\n",
            "Эпоха 25\n",
            "Эпоха: 101 итераций, 26.09 сек\n",
            "Среднее значение функции потерь на обучении 0.8359567086295326\n",
            "Среднее значение функции потерь на валидации 1.079513247196491\n",
            "Новая лучшая модель!\n",
            "\n",
            "Эпоха 26\n",
            "Эпоха: 101 итераций, 25.54 сек\n",
            "Среднее значение функции потерь на обучении 0.8059399632534178\n",
            "Среднее значение функции потерь на валидации 1.0829449083942633\n",
            "Epoch    27: reducing learning rate of group 0 to 5.0000e-04.\n",
            "\n",
            "Эпоха 27\n",
            "Эпоха: 101 итераций, 25.91 сек\n",
            "Среднее значение функции потерь на обучении 0.7273304902090885\n",
            "Среднее значение функции потерь на валидации 1.0281413443959677\n",
            "Новая лучшая модель!\n",
            "\n",
            "Эпоха 28\n",
            "Эпоха: 101 итераций, 25.70 сек\n",
            "Среднее значение функции потерь на обучении 0.6831109644752917\n",
            "Среднее значение функции потерь на валидации 1.015231233376723\n",
            "Новая лучшая модель!\n",
            "\n",
            "Эпоха 29\n",
            "Эпоха: 101 итераций, 26.14 сек\n",
            "Среднее значение функции потерь на обучении 0.6633781994333362\n",
            "Среднее значение функции потерь на валидации 1.0077521941409662\n",
            "Новая лучшая модель!\n",
            "\n",
            "Эпоха 30\n",
            "Эпоха: 101 итераций, 26.34 сек\n",
            "Среднее значение функции потерь на обучении 0.6520024555744511\n",
            "Среднее значение функции потерь на валидации 1.0026053290527601\n",
            "Новая лучшая модель!\n",
            "\n",
            "Эпоха 31\n",
            "Эпоха: 101 итераций, 25.79 сек\n",
            "Среднее значение функции потерь на обучении 0.6517861547446487\n",
            "Среднее значение функции потерь на валидации 0.9960513209494261\n",
            "Новая лучшая модель!\n",
            "\n",
            "Эпоха 32\n",
            "Эпоха: 101 итераций, 26.12 сек\n",
            "Среднее значение функции потерь на обучении 0.6372487483048203\n",
            "Среднее значение функции потерь на валидации 0.9871181771159172\n",
            "Новая лучшая модель!\n",
            "\n",
            "Эпоха 33\n",
            "Эпоха: 101 итераций, 26.19 сек\n",
            "Среднее значение функции потерь на обучении 0.6357332406067612\n",
            "Среднее значение функции потерь на валидации 0.9869962217142949\n",
            "Новая лучшая модель!\n",
            "\n",
            "Эпоха 34\n",
            "Эпоха: 101 итераций, 26.25 сек\n",
            "Среднее значение функции потерь на обучении 0.6374529700468082\n",
            "Среднее значение функции потерь на валидации 0.9806297367008833\n",
            "Новая лучшая модель!\n",
            "\n",
            "Эпоха 35\n",
            "Эпоха: 101 итераций, 26.98 сек\n",
            "Среднее значение функции потерь на обучении 0.6152870764236639\n",
            "Среднее значение функции потерь на валидации 0.9733834493045623\n",
            "Новая лучшая модель!\n",
            "\n",
            "Эпоха 36\n",
            "Эпоха: 101 итераций, 26.15 сек\n",
            "Среднее значение функции потерь на обучении 0.6205417083041502\n",
            "Среднее значение функции потерь на валидации 0.9734501036313864\n",
            "\n",
            "Эпоха 37\n",
            "Эпоха: 101 итераций, 26.02 сек\n",
            "Среднее значение функции потерь на обучении 0.6208911431897984\n",
            "Среднее значение функции потерь на валидации 0.9733763159467623\n",
            "Новая лучшая модель!\n",
            "\n",
            "Эпоха 38\n",
            "Эпоха: 101 итераций, 26.07 сек\n",
            "Среднее значение функции потерь на обучении 0.6020433867331778\n",
            "Среднее значение функции потерь на валидации 0.9755495806726125\n",
            "\n",
            "Эпоха 39\n",
            "Эпоха: 101 итераций, 26.20 сек\n",
            "Среднее значение функции потерь на обучении 0.6097533277945943\n",
            "Среднее значение функции потерь на валидации 0.9718698122753546\n",
            "Новая лучшая модель!\n",
            "\n",
            "Эпоха 40\n",
            "Эпоха: 101 итераций, 25.75 сек\n",
            "Среднее значение функции потерь на обучении 0.5855181506364653\n",
            "Среднее значение функции потерь на валидации 0.9801697645049828\n",
            "Epoch    41: reducing learning rate of group 0 to 5.0000e-05.\n",
            "\n",
            "Эпоха 41\n",
            "Эпоха: 101 итераций, 26.16 сек\n",
            "Среднее значение функции потерь на обучении 0.5718720142203982\n",
            "Среднее значение функции потерь на валидации 0.974143070097153\n",
            "\n",
            "Эпоха 42\n",
            "Эпоха: 101 итераций, 26.09 сек\n",
            "Среднее значение функции потерь на обучении 0.595946346474166\n",
            "Среднее значение функции потерь на валидации 0.9729366924327153\n",
            "\n",
            "Эпоха 43\n",
            "Эпоха: 101 итераций, 26.67 сек\n",
            "Среднее значение функции потерь на обучении 0.5759253493039915\n",
            "Среднее значение функции потерь на валидации 0.9712877697669543\n",
            "Новая лучшая модель!\n",
            "\n",
            "Эпоха 44\n",
            "Эпоха: 101 итераций, 25.74 сек\n",
            "Среднее значение функции потерь на обучении 0.5818507491361977\n",
            "Среднее значение функции потерь на валидации 0.9713640035345004\n",
            "\n",
            "Эпоха 45\n",
            "Эпоха: 101 итераций, 26.05 сек\n",
            "Среднее значение функции потерь на обучении 0.5673936546438991\n",
            "Среднее значение функции потерь на валидации 0.9714693094675357\n",
            "Epoch    46: reducing learning rate of group 0 to 5.0000e-06.\n",
            "\n",
            "Эпоха 46\n",
            "Эпоха: 101 итераций, 25.65 сек\n",
            "Среднее значение функции потерь на обучении 0.5923053902564662\n",
            "Среднее значение функции потерь на валидации 0.9714953535451338\n",
            "\n",
            "Эпоха 47\n",
            "Эпоха: 101 итераций, 26.45 сек\n",
            "Среднее значение функции потерь на обучении 0.5832925258886696\n",
            "Среднее значение функции потерь на валидации 0.9712058228368943\n",
            "Новая лучшая модель!\n",
            "\n",
            "Эпоха 48\n",
            "Эпоха: 101 итераций, 25.75 сек\n",
            "Среднее значение функции потерь на обучении 0.5892177392350565\n",
            "Среднее значение функции потерь на валидации 0.9714709912928251\n",
            "\n",
            "Эпоха 49\n",
            "Эпоха: 101 итераций, 25.83 сек\n",
            "Среднее значение функции потерь на обучении 0.5724854994528364\n",
            "Среднее значение функции потерь на валидации 0.971679930216991\n",
            "\n",
            "Эпоха 50\n",
            "Эпоха: 101 итераций, 25.89 сек\n",
            "Среднее значение функции потерь на обучении 0.5871962686576465\n",
            "Среднее значение функции потерь на валидации 0.9717901191459253\n",
            "Epoch    51: reducing learning rate of group 0 to 1.0000e-06.\n",
            "\n",
            "Эпоха 51\n",
            "Эпоха: 101 итераций, 25.74 сек\n",
            "Среднее значение функции потерь на обучении 0.5988450312968527\n",
            "Среднее значение функции потерь на валидации 0.9716518847988203\n",
            "\n",
            "Эпоха 52\n",
            "Эпоха: 101 итераций, 25.61 сек\n",
            "Среднее значение функции потерь на обучении 0.5730665447098193\n",
            "Среднее значение функции потерь на валидации 0.9715985423670366\n",
            "\n",
            "Эпоха 53\n",
            "Эпоха: 101 итераций, 26.45 сек\n",
            "Среднее значение функции потерь на обучении 0.596675043944085\n",
            "Среднее значение функции потерь на валидации 0.9716627087730628\n",
            "\n",
            "Эпоха 54\n",
            "Эпоха: 101 итераций, 26.43 сек\n",
            "Среднее значение функции потерь на обучении 0.5706748924042919\n",
            "Среднее значение функции потерь на валидации 0.971623136733587\n",
            "\n",
            "Эпоха 55\n",
            "Эпоха: 101 итераций, 26.05 сек\n",
            "Среднее значение функции потерь на обучении 0.5848527066778428\n",
            "Среднее значение функции потерь на валидации 0.9716382181415191\n",
            "\n",
            "Эпоха 56\n",
            "Эпоха: 101 итераций, 26.07 сек\n",
            "Среднее значение функции потерь на обучении 0.5802356456175889\n",
            "Среднее значение функции потерь на валидации 0.9716627368560204\n",
            "Модель не улучшилась за последние 8 эпох, прекращаем обучение\n"
          ],
          "name": "stdout"
        }
      ]
    },
    {
      "cell_type": "code",
      "metadata": {
        "id": "ghe0zoP4c3vt",
        "colab_type": "code",
        "outputId": "aa57db04-ffbc-46ef-9322-bf72ebfbb44f",
        "colab": {
          "base_uri": "https://localhost:8080/",
          "height": 702
        }
      },
      "source": [
        "pd.DataFrame(losses).plot();"
      ],
      "execution_count": 21,
      "outputs": [
        {
          "output_type": "display_data",
          "data": {
            "image/png": "[encoded data removed]",
            "text/plain": [
              "<Figure size 864x864 with 1 Axes>"
            ]
          },
          "metadata": {
            "tags": [],
            "needs_background": "light"
          }
        }
      ]
    },
    {
      "cell_type": "code",
      "metadata": {
        "ExecuteTime": {
          "end_time": "2019-08-29T13:56:16.564926Z",
          "start_time": "2019-08-29T13:56:16.544481Z"
        },
        "id": "j6_Z8S3SgFwn",
        "colab_type": "code",
        "outputId": "61db58f5-d3d5-49aa-c59f-232156633457",
        "colab": {
          "base_uri": "https://localhost:8080/",
          "height": 33
        }
      },
      "source": [
        "model.load_state_dict(torch.load(models_path))"
      ],
      "execution_count": 22,
      "outputs": [
        {
          "output_type": "execute_result",
          "data": {
            "text/plain": [
              "<All keys matched successfully>"
            ]
          },
          "metadata": {
            "tags": []
          },
          "execution_count": 22
        }
      ]
    },
    {
      "cell_type": "markdown",
      "metadata": {
        "id": "9yBwoQnWypb5",
        "colab_type": "text"
      },
      "source": [
        "## Проверки"
      ]
    },
    {
      "cell_type": "code",
      "metadata": {
        "id": "rDx8tvIeyoe0",
        "colab_type": "code",
        "colab": {}
      },
      "source": [
        "id2tag = {item[1]: item[0] for item in tag2id.items()}\n",
        "UNIQUE_TAGS = [id2tag[i] for i in range(len(tag2id))]\n"
      ],
      "execution_count": 0,
      "outputs": []
    },
    {
      "cell_type": "markdown",
      "metadata": {
        "id": "vaq1J92ryPNx",
        "colab_type": "text"
      },
      "source": [
        "### Проверка - train"
      ]
    },
    {
      "cell_type": "code",
      "metadata": {
        "id": "jrgKw3hxYiS5",
        "colab_type": "code",
        "outputId": "229e6876-b06e-492d-bcb0-80721293d408",
        "colab": {
          "base_uri": "https://localhost:8080/",
          "height": 50
        }
      },
      "source": [
        "%%time \n",
        "train_targets = [item[1] for item in train_dataset]\n",
        "train_targets = torch.stack(train_targets)\n",
        "train_targets.shape"
      ],
      "execution_count": 24,
      "outputs": [
        {
          "output_type": "stream",
          "text": [
            "CPU times: user 6.46 s, sys: 41.8 ms, total: 6.51 s\n",
            "Wall time: 6.51 s\n"
          ],
          "name": "stdout"
        }
      ]
    },
    {
      "cell_type": "code",
      "metadata": {
        "id": "3aNr47CYdSFa",
        "colab_type": "code",
        "outputId": "4d20b232-2bf9-4ac0-bbb2-bf305f86e169",
        "colab": {
          "base_uri": "https://localhost:8080/",
          "height": 326
        }
      },
      "source": [
        "train_pred = predict_with_model(model, train_dataset)\n",
        "train_golden_tags = tensor_to_tags(train_targets, id2tag)\n",
        "train_pred_tags = tensor_to_tags(train_pred, id2tag)\n",
        "print(classification_report(train_golden_tags, train_pred_tags, digits=4))\n",
        "print(classification_report(train_golden_tags, train_pred_tags, digits=4, suffix=True))\n"
      ],
      "execution_count": 25,
      "outputs": [
        {
          "output_type": "stream",
          "text": [
            "521it [00:29, 17.91it/s]                               \n"
          ],
          "name": "stderr"
        },
        {
          "output_type": "stream",
          "text": [
            "           precision    recall  f1-score   support\n",
            "\n",
            "      LOC     0.9100    0.8631    0.8859      9540\n",
            "      ORG     0.8230    0.7668    0.7939      8521\n",
            "      PER     0.9391    0.9570    0.9479      7250\n",
            "     MISC     0.8413    0.8102    0.8255      7588\n",
            "\n",
            "micro avg     0.8791    0.8467    0.8626     32899\n",
            "macro avg     0.8780    0.8467    0.8618     32899\n",
            "\n",
            "           precision    recall  f1-score   support\n",
            "\n",
            "        I     0.9049    0.9373    0.9208     30278\n",
            "        B     0.7191    0.5940    0.6506      2754\n",
            "\n",
            "micro avg     0.8923    0.9087    0.9004     33032\n",
            "macro avg     0.8894    0.9087    0.8983     33032\n",
            "\n"
          ],
          "name": "stdout"
        }
      ]
    },
    {
      "cell_type": "markdown",
      "metadata": {
        "id": "5p2jdVB-yUHQ",
        "colab_type": "text"
      },
      "source": [
        "### Проверка - valid"
      ]
    },
    {
      "cell_type": "code",
      "metadata": {
        "id": "dvJuUNPzaG35",
        "colab_type": "code",
        "outputId": "309eb133-c038-437a-ce6d-14470bc0b831",
        "colab": {
          "base_uri": "https://localhost:8080/",
          "height": 50
        }
      },
      "source": [
        "%%time \n",
        "valid_targets = [item[1] for item in valid_dataset]\n",
        "valid_targets = torch.stack(valid_targets)\n",
        "valid_targets.shape"
      ],
      "execution_count": 26,
      "outputs": [
        {
          "output_type": "stream",
          "text": [
            "CPU times: user 1.54 s, sys: 10 ms, total: 1.55 s\n",
            "Wall time: 1.55 s\n"
          ],
          "name": "stdout"
        }
      ]
    },
    {
      "cell_type": "code",
      "metadata": {
        "id": "qAh6GumkdR4G",
        "colab_type": "code",
        "outputId": "8d5d6d29-1a00-4e9f-ea09-54f467b6d8e1",
        "colab": {
          "base_uri": "https://localhost:8080/",
          "height": 326
        }
      },
      "source": [
        "valid_pred = predict_with_model(model, valid_dataset)\n",
        "\n",
        " \n",
        "valid_golden_tags = tensor_to_tags(valid_targets, id2tag)\n",
        "valid_pred_tags = tensor_to_tags(valid_pred, id2tag)\n",
        "print(classification_report(valid_golden_tags, valid_pred_tags, digits=4))\n",
        "print(classification_report(valid_golden_tags, valid_pred_tags, digits=4, suffix=True))\n"
      ],
      "execution_count": 27,
      "outputs": [
        {
          "output_type": "stream",
          "text": [
            "100%|██████████| 102/101.5625 [00:06<00:00, 16.70it/s]\n"
          ],
          "name": "stderr"
        },
        {
          "output_type": "stream",
          "text": [
            "           precision    recall  f1-score   support\n",
            "\n",
            "      PER     0.8874    0.8898    0.8886      1842\n",
            "      ORG     0.7810    0.7524    0.7664      1341\n",
            "     MISC     0.8210    0.7961    0.8084       922\n",
            "      LOC     0.8751    0.8922    0.8836      1837\n",
            "\n",
            "micro avg     0.8502    0.8450    0.8476      5942\n",
            "macro avg     0.8493    0.8450    0.8470      5942\n",
            "\n",
            "           precision    recall  f1-score   support\n",
            "\n",
            "        I     0.9292    0.9280    0.9286      5899\n",
            "        B     0.1250    0.2500    0.1667         4\n",
            "\n",
            "micro avg     0.9281    0.9275    0.9278      5903\n",
            "macro avg     0.9287    0.9275    0.9281      5903\n",
            "\n"
          ],
          "name": "stdout"
        }
      ]
    },
    {
      "cell_type": "markdown",
      "metadata": {
        "id": "CtXo2-Ioybnx",
        "colab_type": "text"
      },
      "source": [
        "### Проверка - test"
      ]
    },
    {
      "cell_type": "code",
      "metadata": {
        "id": "2EIZF08wahVv",
        "colab_type": "code",
        "outputId": "42c454b2-1f4d-4a6e-9280-7dc97b7d4ce3",
        "colab": {
          "base_uri": "https://localhost:8080/",
          "height": 50
        }
      },
      "source": [
        "%%time \n",
        "test_targets = [item[1] for item in test_dataset]\n",
        "test_targets = torch.stack(test_targets)\n",
        "test_targets.shape"
      ],
      "execution_count": 28,
      "outputs": [
        {
          "output_type": "stream",
          "text": [
            "CPU times: user 1.1 s, sys: 6 ms, total: 1.11 s\n",
            "Wall time: 1.11 s\n"
          ],
          "name": "stdout"
        }
      ]
    },
    {
      "cell_type": "code",
      "metadata": {
        "id": "pIC16ECm_58u",
        "colab_type": "code",
        "outputId": "c7f699f5-e6dd-4050-c4ca-80679a44febc",
        "colab": {
          "base_uri": "https://localhost:8080/",
          "height": 326
        }
      },
      "source": [
        "test_pred = predict_with_model(model, test_dataset)\n",
        " \n",
        "test_golden_tags = tensor_to_tags(test_targets, id2tag)\n",
        "test_pred_tags = tensor_to_tags(test_pred, id2tag)\n",
        "print(classification_report(test_golden_tags, test_pred_tags, digits=4))\n",
        "print(classification_report(test_golden_tags, test_pred_tags, digits=4, suffix=True))"
      ],
      "execution_count": 29,
      "outputs": [
        {
          "output_type": "stream",
          "text": [
            "100%|██████████| 108/107.90625 [00:05<00:00, 20.36it/s]\n"
          ],
          "name": "stderr"
        },
        {
          "output_type": "stream",
          "text": [
            "           precision    recall  f1-score   support\n",
            "\n",
            "      LOC     0.8185    0.8627    0.8400      1668\n",
            "     MISC     0.6223    0.6994    0.6586       702\n",
            "      ORG     0.7557    0.7225    0.7387      1661\n",
            "      PER     0.8562    0.8503    0.8532      1617\n",
            "\n",
            "micro avg     0.7847    0.7976    0.7911      5648\n",
            "macro avg     0.7864    0.7976    0.7915      5648\n",
            "\n",
            "           precision    recall  f1-score   support\n",
            "\n",
            "        I     0.9011    0.9209    0.9109      5599\n",
            "        B     0.1250    0.0556    0.0769        18\n",
            "\n",
            "micro avg     0.9000    0.9181    0.9090      5617\n",
            "macro avg     0.8986    0.9181    0.9082      5617\n",
            "\n"
          ],
          "name": "stdout"
        }
      ]
    },
    {
      "cell_type": "markdown",
      "metadata": {
        "id": "8tZ3TbhngFxV",
        "colab_type": "text"
      },
      "source": [
        "## Применение теггера"
      ]
    },
    {
      "cell_type": "code",
      "metadata": {
        "id": "dBORSeRvdITg",
        "colab_type": "code",
        "colab": {}
      },
      "source": [
        "!python -m spacy download en_core_web_sm > /dev/null\n",
        "nlp = spacy.load('en_core_web_sm')"
      ],
      "execution_count": 0,
      "outputs": []
    },
    {
      "cell_type": "code",
      "metadata": {
        "ExecuteTime": {
          "end_time": "2019-08-29T13:56:42.105418Z",
          "start_time": "2019-08-29T13:56:42.093744Z"
        },
        "id": "gM1646Q7gFxX",
        "colab_type": "code",
        "colab": {}
      },
      "source": [
        "\n",
        "ner_tagger = NERTagger(model, bpe_tokenizer, UNIQUE_TAGS, max_sent_len, max_token_len, 0)"
      ],
      "execution_count": 0,
      "outputs": []
    },
    {
      "cell_type": "markdown",
      "metadata": {
        "id": "qGbRPrQ1oMM_",
        "colab_type": "text"
      },
      "source": [
        "Несколько предложений из новостей с сайта [BBC](https://www.bbc.com/news)"
      ]
    },
    {
      "cell_type": "code",
      "metadata": {
        "ExecuteTime": {
          "end_time": "2019-08-29T13:56:42.125540Z",
          "start_time": "2019-08-29T13:56:42.106771Z"
        },
        "id": "JHOY3BpZgFxd",
        "colab_type": "code",
        "colab": {}
      },
      "source": [
        "test_sentences = [\n",
        "    'Mr Trump said Mr Linick no longer had his full confidence and that he would be removed in 30 days.',\n",
        "    'Mr Linick had begun investigating Secretary of State Mike Pompeo for suspected abuse of office, reports say.',\n",
        "    'Democrats say Mr Trump is retaliating against public servants who want to hold his administration to account.',\n",
        "    'Donald Trump, who is campaigning for re-election in November, has stepped up his attacks on China in recent weeks, blaming it for the spread of Covid-19.',\n",
        "    'The team led by Fernando Novas from the Natural Sciences Museum in Buenos Aires discovered many fossils during its month-long field work in Estancia La Anita, in southern Santa Cruz province.',\n",
        "    \"The rehearsal at Kennedy Space Center saw a Falcon-9 vehicle's ascent into the sky deliberately terminated just 80 seconds after lift-off.\"\n",
        "]\n",
        "test_sentences_tokenized = tokenize_corpus(test_sentences)\n",
        "# test_sentences_tokenized = [[token.text for token in nlp.tokenizer(sent) ] for sent in test_sentences]"
      ],
      "execution_count": 0,
      "outputs": []
    },
    {
      "cell_type": "code",
      "metadata": {
        "id": "TxHF5NAVFuvi",
        "colab_type": "code",
        "outputId": "0688d56c-f5ca-4068-8734-daf64a5def9a",
        "colab": {
          "base_uri": "https://localhost:8080/",
          "height": 147
        }
      },
      "source": [
        "for sent_tokens, sent_tags in zip(test_sentences_tokenized, ner_tagger(test_sentences)):\n",
        "    highlight_text(sent_tokens, sent_tags)"
      ],
      "execution_count": 33,
      "outputs": [
        {
          "output_type": "stream",
          "text": [
            "1it [00:00, 79.49it/s]                    \n"
          ],
          "name": "stderr"
        },
        {
          "output_type": "display_data",
          "data": {
            "text/html": [
              "<div class=\"tex2jax_ignore\" style=\"white-space: pre-wrap\"><span style=\"padding: 2px; border-radius: 4px; border: 1px solid #bbdefb; background: #e3f2fd\">Mr<span style=\"vertical-align: middle; margin-left: 2px; font-size: 0.7em; color: #64b5f6;\">I-ORG</span></span> <span style=\"padding: 2px; border-radius: 4px; border: 1px solid #bbdefb; background: #e3f2fd\">Trump<span style=\"vertical-align: middle; margin-left: 2px; font-size: 0.7em; color: #64b5f6;\">I-ORG</span></span> <span style=\"padding: 2px; border-radius: 4px; border: 1px solid #c8e6c9; background: #e8f5e9\">said<span style=\"vertical-align: middle; margin-left: 2px; font-size: 0.7em; color: #66bb6a;\">O</span></span> <span style=\"padding: 2px; border-radius: 4px; border: 1px solid #ffcdd2; background: #ffebee\">Mr<span style=\"vertical-align: middle; margin-left: 2px; font-size: 0.7em; color: #e57373;\">I-PER</span></span> <span style=\"padding: 2px; border-radius: 4px; border: 1px solid #ffcdd2; background: #ffebee\">Linick<span style=\"vertical-align: middle; margin-left: 2px; font-size: 0.7em; color: #e57373;\">I-PER</span></span> <span style=\"padding: 2px; border-radius: 4px; border: 1px solid #c8e6c9; background: #e8f5e9\">no<span style=\"vertical-align: middle; margin-left: 2px; font-size: 0.7em; color: #66bb6a;\">O</span></span> <span style=\"padding: 2px; border-radius: 4px; border: 1px solid #c8e6c9; background: #e8f5e9\">longer<span style=\"vertical-align: middle; margin-left: 2px; font-size: 0.7em; color: #66bb6a;\">O</span></span> <span style=\"padding: 2px; border-radius: 4px; border: 1px solid #c8e6c9; background: #e8f5e9\">had<span style=\"vertical-align: middle; margin-left: 2px; font-size: 0.7em; color: #66bb6a;\">O</span></span> <span style=\"padding: 2px; border-radius: 4px; border: 1px solid #c8e6c9; background: #e8f5e9\">his<span style=\"vertical-align: middle; margin-left: 2px; font-size: 0.7em; color: #66bb6a;\">O</span></span> <span style=\"padding: 2px; border-radius: 4px; border: 1px solid #c8e6c9; background: #e8f5e9\">full<span style=\"vertical-align: middle; margin-left: 2px; font-size: 0.7em; color: #66bb6a;\">O</span></span> <span style=\"padding: 2px; border-radius: 4px; border: 1px solid #c8e6c9; background: #e8f5e9\">confidence<span style=\"vertical-align: middle; margin-left: 2px; font-size: 0.7em; color: #66bb6a;\">O</span></span> <span style=\"padding: 2px; border-radius: 4px; border: 1px solid #c8e6c9; background: #e8f5e9\">and<span style=\"vertical-align: middle; margin-left: 2px; font-size: 0.7em; color: #66bb6a;\">O</span></span> <span style=\"padding: 2px; border-radius: 4px; border: 1px solid #c8e6c9; background: #e8f5e9\">that<span style=\"vertical-align: middle; margin-left: 2px; font-size: 0.7em; color: #66bb6a;\">O</span></span> <span style=\"padding: 2px; border-radius: 4px; border: 1px solid #c8e6c9; background: #e8f5e9\">he<span style=\"vertical-align: middle; margin-left: 2px; font-size: 0.7em; color: #66bb6a;\">O</span></span> <span style=\"padding: 2px; border-radius: 4px; border: 1px solid #c8e6c9; background: #e8f5e9\">would<span style=\"vertical-align: middle; margin-left: 2px; font-size: 0.7em; color: #66bb6a;\">O</span></span> <span style=\"padding: 2px; border-radius: 4px; border: 1px solid #c8e6c9; background: #e8f5e9\">be<span style=\"vertical-align: middle; margin-left: 2px; font-size: 0.7em; color: #66bb6a;\">O</span></span> <span style=\"padding: 2px; border-radius: 4px; border: 1px solid #c8e6c9; background: #e8f5e9\">removed<span style=\"vertical-align: middle; margin-left: 2px; font-size: 0.7em; color: #66bb6a;\">O</span></span> <span style=\"padding: 2px; border-radius: 4px; border: 1px solid #c8e6c9; background: #e8f5e9\">in<span style=\"vertical-align: middle; margin-left: 2px; font-size: 0.7em; color: #66bb6a;\">O</span></span> <span style=\"padding: 2px; border-radius: 4px; border: 1px solid #c8e6c9; background: #e8f5e9\">30<span style=\"vertical-align: middle; margin-left: 2px; font-size: 0.7em; color: #66bb6a;\">O</span></span> <span style=\"padding: 2px; border-radius: 4px; border: 1px solid #c8e6c9; background: #e8f5e9\">days<span style=\"vertical-align: middle; margin-left: 2px; font-size: 0.7em; color: #66bb6a;\">O</span></span> <span style=\"padding: 2px; border-radius: 4px; border: 1px solid #c8e6c9; background: #e8f5e9\">.<span style=\"vertical-align: middle; margin-left: 2px; font-size: 0.7em; color: #66bb6a;\">O</span></span></div>"
            ],
            "text/plain": [
              "<IPython.core.display.HTML object>"
            ]
          },
          "metadata": {
            "tags": []
          }
        },
        {
          "output_type": "display_data",
          "data": {
            "text/html": [
              "<div class=\"tex2jax_ignore\" style=\"white-space: pre-wrap\"><span style=\"padding: 2px; border-radius: 4px; border: 1px solid #c8e6c9; background: #e8f5e9\">Mr<span style=\"vertical-align: middle; margin-left: 2px; font-size: 0.7em; color: #66bb6a;\">O</span></span> <span style=\"padding: 2px; border-radius: 4px; border: 1px solid #ffcdd2; background: #ffebee\">Linick<span style=\"vertical-align: middle; margin-left: 2px; font-size: 0.7em; color: #e57373;\">I-PER</span></span> <span style=\"padding: 2px; border-radius: 4px; border: 1px solid #c8e6c9; background: #e8f5e9\">had<span style=\"vertical-align: middle; margin-left: 2px; font-size: 0.7em; color: #66bb6a;\">O</span></span> <span style=\"padding: 2px; border-radius: 4px; border: 1px solid #c8e6c9; background: #e8f5e9\">begun<span style=\"vertical-align: middle; margin-left: 2px; font-size: 0.7em; color: #66bb6a;\">O</span></span> <span style=\"padding: 2px; border-radius: 4px; border: 1px solid #c8e6c9; background: #e8f5e9\">investigating<span style=\"vertical-align: middle; margin-left: 2px; font-size: 0.7em; color: #66bb6a;\">O</span></span> <span style=\"padding: 2px; border-radius: 4px; border: 1px solid #c8e6c9; background: #e8f5e9\">Secretary<span style=\"vertical-align: middle; margin-left: 2px; font-size: 0.7em; color: #66bb6a;\">O</span></span> <span style=\"padding: 2px; border-radius: 4px; border: 1px solid #c8e6c9; background: #e8f5e9\">of<span style=\"vertical-align: middle; margin-left: 2px; font-size: 0.7em; color: #66bb6a;\">O</span></span> <span style=\"padding: 2px; border-radius: 4px; border: 1px solid #ffe0b2; background: #fff3e0\">State<span style=\"vertical-align: middle; margin-left: 2px; font-size: 0.7em; color: #ffb74d;\">I-LOC</span></span> <span style=\"padding: 2px; border-radius: 4px; border: 1px solid #ffe0b2; background: #fff3e0\">Mike<span style=\"vertical-align: middle; margin-left: 2px; font-size: 0.7em; color: #ffb74d;\">I-LOC</span></span> <span style=\"padding: 2px; border-radius: 4px; border: 1px solid #ffe0b2; background: #fff3e0\">Pompeo<span style=\"vertical-align: middle; margin-left: 2px; font-size: 0.7em; color: #ffb74d;\">I-LOC</span></span> <span style=\"padding: 2px; border-radius: 4px; border: 1px solid #c8e6c9; background: #e8f5e9\">for<span style=\"vertical-align: middle; margin-left: 2px; font-size: 0.7em; color: #66bb6a;\">O</span></span> <span style=\"padding: 2px; border-radius: 4px; border: 1px solid #c8e6c9; background: #e8f5e9\">suspected<span style=\"vertical-align: middle; margin-left: 2px; font-size: 0.7em; color: #66bb6a;\">O</span></span> <span style=\"padding: 2px; border-radius: 4px; border: 1px solid #c8e6c9; background: #e8f5e9\">abuse<span style=\"vertical-align: middle; margin-left: 2px; font-size: 0.7em; color: #66bb6a;\">O</span></span> <span style=\"padding: 2px; border-radius: 4px; border: 1px solid #c8e6c9; background: #e8f5e9\">of<span style=\"vertical-align: middle; margin-left: 2px; font-size: 0.7em; color: #66bb6a;\">O</span></span> <span style=\"padding: 2px; border-radius: 4px; border: 1px solid #c8e6c9; background: #e8f5e9\">office<span style=\"vertical-align: middle; margin-left: 2px; font-size: 0.7em; color: #66bb6a;\">O</span></span> <span style=\"padding: 2px; border-radius: 4px; border: 1px solid #c8e6c9; background: #e8f5e9\">,<span style=\"vertical-align: middle; margin-left: 2px; font-size: 0.7em; color: #66bb6a;\">O</span></span> <span style=\"padding: 2px; border-radius: 4px; border: 1px solid #c8e6c9; background: #e8f5e9\">reports<span style=\"vertical-align: middle; margin-left: 2px; font-size: 0.7em; color: #66bb6a;\">O</span></span> <span style=\"padding: 2px; border-radius: 4px; border: 1px solid #c8e6c9; background: #e8f5e9\">say<span style=\"vertical-align: middle; margin-left: 2px; font-size: 0.7em; color: #66bb6a;\">O</span></span> <span style=\"padding: 2px; border-radius: 4px; border: 1px solid #c8e6c9; background: #e8f5e9\">.<span style=\"vertical-align: middle; margin-left: 2px; font-size: 0.7em; color: #66bb6a;\">O</span></span></div>"
            ],
            "text/plain": [
              "<IPython.core.display.HTML object>"
            ]
          },
          "metadata": {
            "tags": []
          }
        },
        {
          "output_type": "display_data",
          "data": {
            "text/html": [
              "<div class=\"tex2jax_ignore\" style=\"white-space: pre-wrap\"><span style=\"padding: 2px; border-radius: 4px; border: 1px solid #d1c4e9; background: #ede7f6\">Democrats<span style=\"vertical-align: middle; margin-left: 2px; font-size: 0.7em; color: #9575cd;\">I-MISC</span></span> <span style=\"padding: 2px; border-radius: 4px; border: 1px solid #c8e6c9; background: #e8f5e9\">say<span style=\"vertical-align: middle; margin-left: 2px; font-size: 0.7em; color: #66bb6a;\">O</span></span> <span style=\"padding: 2px; border-radius: 4px; border: 1px solid #c8e6c9; background: #e8f5e9\">Mr<span style=\"vertical-align: middle; margin-left: 2px; font-size: 0.7em; color: #66bb6a;\">O</span></span> <span style=\"padding: 2px; border-radius: 4px; border: 1px solid #bbdefb; background: #e3f2fd\">Trump<span style=\"vertical-align: middle; margin-left: 2px; font-size: 0.7em; color: #64b5f6;\">I-ORG</span></span> <span style=\"padding: 2px; border-radius: 4px; border: 1px solid #c8e6c9; background: #e8f5e9\">is<span style=\"vertical-align: middle; margin-left: 2px; font-size: 0.7em; color: #66bb6a;\">O</span></span> <span style=\"padding: 2px; border-radius: 4px; border: 1px solid #c8e6c9; background: #e8f5e9\">retaliating<span style=\"vertical-align: middle; margin-left: 2px; font-size: 0.7em; color: #66bb6a;\">O</span></span> <span style=\"padding: 2px; border-radius: 4px; border: 1px solid #c8e6c9; background: #e8f5e9\">against<span style=\"vertical-align: middle; margin-left: 2px; font-size: 0.7em; color: #66bb6a;\">O</span></span> <span style=\"padding: 2px; border-radius: 4px; border: 1px solid #c8e6c9; background: #e8f5e9\">public<span style=\"vertical-align: middle; margin-left: 2px; font-size: 0.7em; color: #66bb6a;\">O</span></span> <span style=\"padding: 2px; border-radius: 4px; border: 1px solid #c8e6c9; background: #e8f5e9\">servants<span style=\"vertical-align: middle; margin-left: 2px; font-size: 0.7em; color: #66bb6a;\">O</span></span> <span style=\"padding: 2px; border-radius: 4px; border: 1px solid #c8e6c9; background: #e8f5e9\">who<span style=\"vertical-align: middle; margin-left: 2px; font-size: 0.7em; color: #66bb6a;\">O</span></span> <span style=\"padding: 2px; border-radius: 4px; border: 1px solid #c8e6c9; background: #e8f5e9\">want<span style=\"vertical-align: middle; margin-left: 2px; font-size: 0.7em; color: #66bb6a;\">O</span></span> <span style=\"padding: 2px; border-radius: 4px; border: 1px solid #c8e6c9; background: #e8f5e9\">to<span style=\"vertical-align: middle; margin-left: 2px; font-size: 0.7em; color: #66bb6a;\">O</span></span> <span style=\"padding: 2px; border-radius: 4px; border: 1px solid #c8e6c9; background: #e8f5e9\">hold<span style=\"vertical-align: middle; margin-left: 2px; font-size: 0.7em; color: #66bb6a;\">O</span></span> <span style=\"padding: 2px; border-radius: 4px; border: 1px solid #c8e6c9; background: #e8f5e9\">his<span style=\"vertical-align: middle; margin-left: 2px; font-size: 0.7em; color: #66bb6a;\">O</span></span> <span style=\"padding: 2px; border-radius: 4px; border: 1px solid #c8e6c9; background: #e8f5e9\">administration<span style=\"vertical-align: middle; margin-left: 2px; font-size: 0.7em; color: #66bb6a;\">O</span></span> <span style=\"padding: 2px; border-radius: 4px; border: 1px solid #c8e6c9; background: #e8f5e9\">to<span style=\"vertical-align: middle; margin-left: 2px; font-size: 0.7em; color: #66bb6a;\">O</span></span> <span style=\"padding: 2px; border-radius: 4px; border: 1px solid #c8e6c9; background: #e8f5e9\">account<span style=\"vertical-align: middle; margin-left: 2px; font-size: 0.7em; color: #66bb6a;\">O</span></span> <span style=\"padding: 2px; border-radius: 4px; border: 1px solid #c8e6c9; background: #e8f5e9\">.<span style=\"vertical-align: middle; margin-left: 2px; font-size: 0.7em; color: #66bb6a;\">O</span></span></div>"
            ],
            "text/plain": [
              "<IPython.core.display.HTML object>"
            ]
          },
          "metadata": {
            "tags": []
          }
        },
        {
          "output_type": "display_data",
          "data": {
            "text/html": [
              "<div class=\"tex2jax_ignore\" style=\"white-space: pre-wrap\"><span style=\"padding: 2px; border-radius: 4px; border: 1px solid #ffcdd2; background: #ffebee\">Donald<span style=\"vertical-align: middle; margin-left: 2px; font-size: 0.7em; color: #e57373;\">I-PER</span></span> <span style=\"padding: 2px; border-radius: 4px; border: 1px solid #ffcdd2; background: #ffebee\">Trump<span style=\"vertical-align: middle; margin-left: 2px; font-size: 0.7em; color: #e57373;\">I-PER</span></span> <span style=\"padding: 2px; border-radius: 4px; border: 1px solid #c8e6c9; background: #e8f5e9\">,<span style=\"vertical-align: middle; margin-left: 2px; font-size: 0.7em; color: #66bb6a;\">O</span></span> <span style=\"padding: 2px; border-radius: 4px; border: 1px solid #c8e6c9; background: #e8f5e9\">who<span style=\"vertical-align: middle; margin-left: 2px; font-size: 0.7em; color: #66bb6a;\">O</span></span> <span style=\"padding: 2px; border-radius: 4px; border: 1px solid #c8e6c9; background: #e8f5e9\">is<span style=\"vertical-align: middle; margin-left: 2px; font-size: 0.7em; color: #66bb6a;\">O</span></span> <span style=\"padding: 2px; border-radius: 4px; border: 1px solid #c8e6c9; background: #e8f5e9\">campaigning<span style=\"vertical-align: middle; margin-left: 2px; font-size: 0.7em; color: #66bb6a;\">O</span></span> <span style=\"padding: 2px; border-radius: 4px; border: 1px solid #c8e6c9; background: #e8f5e9\">for<span style=\"vertical-align: middle; margin-left: 2px; font-size: 0.7em; color: #66bb6a;\">O</span></span> <span style=\"padding: 2px; border-radius: 4px; border: 1px solid #c8e6c9; background: #e8f5e9\">re<span style=\"vertical-align: middle; margin-left: 2px; font-size: 0.7em; color: #66bb6a;\">O</span></span> <span style=\"padding: 2px; border-radius: 4px; border: 1px solid #c8e6c9; background: #e8f5e9\">-<span style=\"vertical-align: middle; margin-left: 2px; font-size: 0.7em; color: #66bb6a;\">O</span></span> <span style=\"padding: 2px; border-radius: 4px; border: 1px solid #c8e6c9; background: #e8f5e9\">election<span style=\"vertical-align: middle; margin-left: 2px; font-size: 0.7em; color: #66bb6a;\">O</span></span> <span style=\"padding: 2px; border-radius: 4px; border: 1px solid #c8e6c9; background: #e8f5e9\">in<span style=\"vertical-align: middle; margin-left: 2px; font-size: 0.7em; color: #66bb6a;\">O</span></span> <span style=\"padding: 2px; border-radius: 4px; border: 1px solid #c8e6c9; background: #e8f5e9\">November<span style=\"vertical-align: middle; margin-left: 2px; font-size: 0.7em; color: #66bb6a;\">O</span></span> <span style=\"padding: 2px; border-radius: 4px; border: 1px solid #c8e6c9; background: #e8f5e9\">,<span style=\"vertical-align: middle; margin-left: 2px; font-size: 0.7em; color: #66bb6a;\">O</span></span> <span style=\"padding: 2px; border-radius: 4px; border: 1px solid #c8e6c9; background: #e8f5e9\">has<span style=\"vertical-align: middle; margin-left: 2px; font-size: 0.7em; color: #66bb6a;\">O</span></span> <span style=\"padding: 2px; border-radius: 4px; border: 1px solid #c8e6c9; background: #e8f5e9\">stepped<span style=\"vertical-align: middle; margin-left: 2px; font-size: 0.7em; color: #66bb6a;\">O</span></span> <span style=\"padding: 2px; border-radius: 4px; border: 1px solid #c8e6c9; background: #e8f5e9\">up<span style=\"vertical-align: middle; margin-left: 2px; font-size: 0.7em; color: #66bb6a;\">O</span></span> <span style=\"padding: 2px; border-radius: 4px; border: 1px solid #c8e6c9; background: #e8f5e9\">his<span style=\"vertical-align: middle; margin-left: 2px; font-size: 0.7em; color: #66bb6a;\">O</span></span> <span style=\"padding: 2px; border-radius: 4px; border: 1px solid #c8e6c9; background: #e8f5e9\">attacks<span style=\"vertical-align: middle; margin-left: 2px; font-size: 0.7em; color: #66bb6a;\">O</span></span> <span style=\"padding: 2px; border-radius: 4px; border: 1px solid #c8e6c9; background: #e8f5e9\">on<span style=\"vertical-align: middle; margin-left: 2px; font-size: 0.7em; color: #66bb6a;\">O</span></span> <span style=\"padding: 2px; border-radius: 4px; border: 1px solid #ffe0b2; background: #fff3e0\">China<span style=\"vertical-align: middle; margin-left: 2px; font-size: 0.7em; color: #ffb74d;\">I-LOC</span></span> <span style=\"padding: 2px; border-radius: 4px; border: 1px solid #c8e6c9; background: #e8f5e9\">in<span style=\"vertical-align: middle; margin-left: 2px; font-size: 0.7em; color: #66bb6a;\">O</span></span> <span style=\"padding: 2px; border-radius: 4px; border: 1px solid #c8e6c9; background: #e8f5e9\">recent<span style=\"vertical-align: middle; margin-left: 2px; font-size: 0.7em; color: #66bb6a;\">O</span></span> <span style=\"padding: 2px; border-radius: 4px; border: 1px solid #c8e6c9; background: #e8f5e9\">weeks<span style=\"vertical-align: middle; margin-left: 2px; font-size: 0.7em; color: #66bb6a;\">O</span></span> <span style=\"padding: 2px; border-radius: 4px; border: 1px solid #c8e6c9; background: #e8f5e9\">,<span style=\"vertical-align: middle; margin-left: 2px; font-size: 0.7em; color: #66bb6a;\">O</span></span> <span style=\"padding: 2px; border-radius: 4px; border: 1px solid #c8e6c9; background: #e8f5e9\">blaming<span style=\"vertical-align: middle; margin-left: 2px; font-size: 0.7em; color: #66bb6a;\">O</span></span> <span style=\"padding: 2px; border-radius: 4px; border: 1px solid #c8e6c9; background: #e8f5e9\">it<span style=\"vertical-align: middle; margin-left: 2px; font-size: 0.7em; color: #66bb6a;\">O</span></span> <span style=\"padding: 2px; border-radius: 4px; border: 1px solid #c8e6c9; background: #e8f5e9\">for<span style=\"vertical-align: middle; margin-left: 2px; font-size: 0.7em; color: #66bb6a;\">O</span></span> <span style=\"padding: 2px; border-radius: 4px; border: 1px solid #c8e6c9; background: #e8f5e9\">the<span style=\"vertical-align: middle; margin-left: 2px; font-size: 0.7em; color: #66bb6a;\">O</span></span> <span style=\"padding: 2px; border-radius: 4px; border: 1px solid #c8e6c9; background: #e8f5e9\">spread<span style=\"vertical-align: middle; margin-left: 2px; font-size: 0.7em; color: #66bb6a;\">O</span></span> <span style=\"padding: 2px; border-radius: 4px; border: 1px solid #c8e6c9; background: #e8f5e9\">of<span style=\"vertical-align: middle; margin-left: 2px; font-size: 0.7em; color: #66bb6a;\">O</span></span> <span style=\"padding: 2px; border-radius: 4px; border: 1px solid #c8e6c9; background: #e8f5e9\">Covid-19<span style=\"vertical-align: middle; margin-left: 2px; font-size: 0.7em; color: #66bb6a;\">O</span></span> <span style=\"padding: 2px; border-radius: 4px; border: 1px solid #c8e6c9; background: #e8f5e9\">.<span style=\"vertical-align: middle; margin-left: 2px; font-size: 0.7em; color: #66bb6a;\">O</span></span></div>"
            ],
            "text/plain": [
              "<IPython.core.display.HTML object>"
            ]
          },
          "metadata": {
            "tags": []
          }
        },
        {
          "output_type": "display_data",
          "data": {
            "text/html": [
              "<div class=\"tex2jax_ignore\" style=\"white-space: pre-wrap\"><span style=\"padding: 2px; border-radius: 4px; border: 1px solid #c8e6c9; background: #e8f5e9\">The<span style=\"vertical-align: middle; margin-left: 2px; font-size: 0.7em; color: #66bb6a;\">O</span></span> <span style=\"padding: 2px; border-radius: 4px; border: 1px solid #c8e6c9; background: #e8f5e9\">team<span style=\"vertical-align: middle; margin-left: 2px; font-size: 0.7em; color: #66bb6a;\">O</span></span> <span style=\"padding: 2px; border-radius: 4px; border: 1px solid #c8e6c9; background: #e8f5e9\">led<span style=\"vertical-align: middle; margin-left: 2px; font-size: 0.7em; color: #66bb6a;\">O</span></span> <span style=\"padding: 2px; border-radius: 4px; border: 1px solid #c8e6c9; background: #e8f5e9\">by<span style=\"vertical-align: middle; margin-left: 2px; font-size: 0.7em; color: #66bb6a;\">O</span></span> <span style=\"padding: 2px; border-radius: 4px; border: 1px solid #ffcdd2; background: #ffebee\">Fernando<span style=\"vertical-align: middle; margin-left: 2px; font-size: 0.7em; color: #e57373;\">I-PER</span></span> <span style=\"padding: 2px; border-radius: 4px; border: 1px solid #ffcdd2; background: #ffebee\">Novas<span style=\"vertical-align: middle; margin-left: 2px; font-size: 0.7em; color: #e57373;\">I-PER</span></span> <span style=\"padding: 2px; border-radius: 4px; border: 1px solid #c8e6c9; background: #e8f5e9\">from<span style=\"vertical-align: middle; margin-left: 2px; font-size: 0.7em; color: #66bb6a;\">O</span></span> <span style=\"padding: 2px; border-radius: 4px; border: 1px solid #c8e6c9; background: #e8f5e9\">the<span style=\"vertical-align: middle; margin-left: 2px; font-size: 0.7em; color: #66bb6a;\">O</span></span> <span style=\"padding: 2px; border-radius: 4px; border: 1px solid #bbdefb; background: #e3f2fd\">Natural<span style=\"vertical-align: middle; margin-left: 2px; font-size: 0.7em; color: #64b5f6;\">I-ORG</span></span> <span style=\"padding: 2px; border-radius: 4px; border: 1px solid #bbdefb; background: #e3f2fd\">Sciences<span style=\"vertical-align: middle; margin-left: 2px; font-size: 0.7em; color: #64b5f6;\">I-ORG</span></span> <span style=\"padding: 2px; border-radius: 4px; border: 1px solid #bbdefb; background: #e3f2fd\">Museum<span style=\"vertical-align: middle; margin-left: 2px; font-size: 0.7em; color: #64b5f6;\">I-ORG</span></span> <span style=\"padding: 2px; border-radius: 4px; border: 1px solid #c8e6c9; background: #e8f5e9\">in<span style=\"vertical-align: middle; margin-left: 2px; font-size: 0.7em; color: #66bb6a;\">O</span></span> <span style=\"padding: 2px; border-radius: 4px; border: 1px solid #ffe0b2; background: #fff3e0\">Buenos<span style=\"vertical-align: middle; margin-left: 2px; font-size: 0.7em; color: #ffb74d;\">I-LOC</span></span> <span style=\"padding: 2px; border-radius: 4px; border: 1px solid #ffe0b2; background: #fff3e0\">Aires<span style=\"vertical-align: middle; margin-left: 2px; font-size: 0.7em; color: #ffb74d;\">I-LOC</span></span> <span style=\"padding: 2px; border-radius: 4px; border: 1px solid #c8e6c9; background: #e8f5e9\">discovered<span style=\"vertical-align: middle; margin-left: 2px; font-size: 0.7em; color: #66bb6a;\">O</span></span> <span style=\"padding: 2px; border-radius: 4px; border: 1px solid #c8e6c9; background: #e8f5e9\">many<span style=\"vertical-align: middle; margin-left: 2px; font-size: 0.7em; color: #66bb6a;\">O</span></span> <span style=\"padding: 2px; border-radius: 4px; border: 1px solid #c8e6c9; background: #e8f5e9\">fossils<span style=\"vertical-align: middle; margin-left: 2px; font-size: 0.7em; color: #66bb6a;\">O</span></span> <span style=\"padding: 2px; border-radius: 4px; border: 1px solid #c8e6c9; background: #e8f5e9\">during<span style=\"vertical-align: middle; margin-left: 2px; font-size: 0.7em; color: #66bb6a;\">O</span></span> <span style=\"padding: 2px; border-radius: 4px; border: 1px solid #c8e6c9; background: #e8f5e9\">its<span style=\"vertical-align: middle; margin-left: 2px; font-size: 0.7em; color: #66bb6a;\">O</span></span> <span style=\"padding: 2px; border-radius: 4px; border: 1px solid #c8e6c9; background: #e8f5e9\">month<span style=\"vertical-align: middle; margin-left: 2px; font-size: 0.7em; color: #66bb6a;\">O</span></span> <span style=\"padding: 2px; border-radius: 4px; border: 1px solid #c8e6c9; background: #e8f5e9\">-<span style=\"vertical-align: middle; margin-left: 2px; font-size: 0.7em; color: #66bb6a;\">O</span></span> <span style=\"padding: 2px; border-radius: 4px; border: 1px solid #c8e6c9; background: #e8f5e9\">long<span style=\"vertical-align: middle; margin-left: 2px; font-size: 0.7em; color: #66bb6a;\">O</span></span> <span style=\"padding: 2px; border-radius: 4px; border: 1px solid #c8e6c9; background: #e8f5e9\">field<span style=\"vertical-align: middle; margin-left: 2px; font-size: 0.7em; color: #66bb6a;\">O</span></span> <span style=\"padding: 2px; border-radius: 4px; border: 1px solid #c8e6c9; background: #e8f5e9\">work<span style=\"vertical-align: middle; margin-left: 2px; font-size: 0.7em; color: #66bb6a;\">O</span></span> <span style=\"padding: 2px; border-radius: 4px; border: 1px solid #c8e6c9; background: #e8f5e9\">in<span style=\"vertical-align: middle; margin-left: 2px; font-size: 0.7em; color: #66bb6a;\">O</span></span> <span style=\"padding: 2px; border-radius: 4px; border: 1px solid #ffe0b2; background: #fff3e0\">Estancia<span style=\"vertical-align: middle; margin-left: 2px; font-size: 0.7em; color: #ffb74d;\">I-LOC</span></span> <span style=\"padding: 2px; border-radius: 4px; border: 1px solid #ffe0b2; background: #fff3e0\">La<span style=\"vertical-align: middle; margin-left: 2px; font-size: 0.7em; color: #ffb74d;\">I-LOC</span></span> <span style=\"padding: 2px; border-radius: 4px; border: 1px solid #ffe0b2; background: #fff3e0\">Anita<span style=\"vertical-align: middle; margin-left: 2px; font-size: 0.7em; color: #ffb74d;\">I-LOC</span></span> <span style=\"padding: 2px; border-radius: 4px; border: 1px solid #c8e6c9; background: #e8f5e9\">,<span style=\"vertical-align: middle; margin-left: 2px; font-size: 0.7em; color: #66bb6a;\">O</span></span> <span style=\"padding: 2px; border-radius: 4px; border: 1px solid #c8e6c9; background: #e8f5e9\">in<span style=\"vertical-align: middle; margin-left: 2px; font-size: 0.7em; color: #66bb6a;\">O</span></span> <span style=\"padding: 2px; border-radius: 4px; border: 1px solid #c8e6c9; background: #e8f5e9\">southern<span style=\"vertical-align: middle; margin-left: 2px; font-size: 0.7em; color: #66bb6a;\">O</span></span> <span style=\"padding: 2px; border-radius: 4px; border: 1px solid #ffe0b2; background: #fff3e0\">Santa<span style=\"vertical-align: middle; margin-left: 2px; font-size: 0.7em; color: #ffb74d;\">I-LOC</span></span> <span style=\"padding: 2px; border-radius: 4px; border: 1px solid #ffe0b2; background: #fff3e0\">Cruz<span style=\"vertical-align: middle; margin-left: 2px; font-size: 0.7em; color: #ffb74d;\">I-LOC</span></span> <span style=\"padding: 2px; border-radius: 4px; border: 1px solid #c8e6c9; background: #e8f5e9\">province<span style=\"vertical-align: middle; margin-left: 2px; font-size: 0.7em; color: #66bb6a;\">O</span></span> <span style=\"padding: 2px; border-radius: 4px; border: 1px solid #c8e6c9; background: #e8f5e9\">.<span style=\"vertical-align: middle; margin-left: 2px; font-size: 0.7em; color: #66bb6a;\">O</span></span></div>"
            ],
            "text/plain": [
              "<IPython.core.display.HTML object>"
            ]
          },
          "metadata": {
            "tags": []
          }
        },
        {
          "output_type": "display_data",
          "data": {
            "text/html": [
              "<div class=\"tex2jax_ignore\" style=\"white-space: pre-wrap\"><span style=\"padding: 2px; border-radius: 4px; border: 1px solid #c8e6c9; background: #e8f5e9\">The<span style=\"vertical-align: middle; margin-left: 2px; font-size: 0.7em; color: #66bb6a;\">O</span></span> <span style=\"padding: 2px; border-radius: 4px; border: 1px solid #c8e6c9; background: #e8f5e9\">rehearsal<span style=\"vertical-align: middle; margin-left: 2px; font-size: 0.7em; color: #66bb6a;\">O</span></span> <span style=\"padding: 2px; border-radius: 4px; border: 1px solid #c8e6c9; background: #e8f5e9\">at<span style=\"vertical-align: middle; margin-left: 2px; font-size: 0.7em; color: #66bb6a;\">O</span></span> <span style=\"padding: 2px; border-radius: 4px; border: 1px solid #bbdefb; background: #e3f2fd\">Kennedy<span style=\"vertical-align: middle; margin-left: 2px; font-size: 0.7em; color: #64b5f6;\">I-ORG</span></span> <span style=\"padding: 2px; border-radius: 4px; border: 1px solid #bbdefb; background: #e3f2fd\">Space<span style=\"vertical-align: middle; margin-left: 2px; font-size: 0.7em; color: #64b5f6;\">I-ORG</span></span> <span style=\"padding: 2px; border-radius: 4px; border: 1px solid #bbdefb; background: #e3f2fd\">Center<span style=\"vertical-align: middle; margin-left: 2px; font-size: 0.7em; color: #64b5f6;\">I-ORG</span></span> <span style=\"padding: 2px; border-radius: 4px; border: 1px solid #c8e6c9; background: #e8f5e9\">saw<span style=\"vertical-align: middle; margin-left: 2px; font-size: 0.7em; color: #66bb6a;\">O</span></span> <span style=\"padding: 2px; border-radius: 4px; border: 1px solid #c8e6c9; background: #e8f5e9\">a<span style=\"vertical-align: middle; margin-left: 2px; font-size: 0.7em; color: #66bb6a;\">O</span></span> <span style=\"padding: 2px; border-radius: 4px; border: 1px solid #c8e6c9; background: #e8f5e9\">Falcon-9<span style=\"vertical-align: middle; margin-left: 2px; font-size: 0.7em; color: #66bb6a;\">O</span></span> <span style=\"padding: 2px; border-radius: 4px; border: 1px solid #c8e6c9; background: #e8f5e9\">vehicle<span style=\"vertical-align: middle; margin-left: 2px; font-size: 0.7em; color: #66bb6a;\">O</span></span> <span style=\"padding: 2px; border-radius: 4px; border: 1px solid #c8e6c9; background: #e8f5e9\">&#x27;s<span style=\"vertical-align: middle; margin-left: 2px; font-size: 0.7em; color: #66bb6a;\">O</span></span> <span style=\"padding: 2px; border-radius: 4px; border: 1px solid #c8e6c9; background: #e8f5e9\">ascent<span style=\"vertical-align: middle; margin-left: 2px; font-size: 0.7em; color: #66bb6a;\">O</span></span> <span style=\"padding: 2px; border-radius: 4px; border: 1px solid #c8e6c9; background: #e8f5e9\">into<span style=\"vertical-align: middle; margin-left: 2px; font-size: 0.7em; color: #66bb6a;\">O</span></span> <span style=\"padding: 2px; border-radius: 4px; border: 1px solid #c8e6c9; background: #e8f5e9\">the<span style=\"vertical-align: middle; margin-left: 2px; font-size: 0.7em; color: #66bb6a;\">O</span></span> <span style=\"padding: 2px; border-radius: 4px; border: 1px solid #c8e6c9; background: #e8f5e9\">sky<span style=\"vertical-align: middle; margin-left: 2px; font-size: 0.7em; color: #66bb6a;\">O</span></span> <span style=\"padding: 2px; border-radius: 4px; border: 1px solid #c8e6c9; background: #e8f5e9\">deliberately<span style=\"vertical-align: middle; margin-left: 2px; font-size: 0.7em; color: #66bb6a;\">O</span></span> <span style=\"padding: 2px; border-radius: 4px; border: 1px solid #c8e6c9; background: #e8f5e9\">terminated<span style=\"vertical-align: middle; margin-left: 2px; font-size: 0.7em; color: #66bb6a;\">O</span></span> <span style=\"padding: 2px; border-radius: 4px; border: 1px solid #c8e6c9; background: #e8f5e9\">just<span style=\"vertical-align: middle; margin-left: 2px; font-size: 0.7em; color: #66bb6a;\">O</span></span> <span style=\"padding: 2px; border-radius: 4px; border: 1px solid #c8e6c9; background: #e8f5e9\">80<span style=\"vertical-align: middle; margin-left: 2px; font-size: 0.7em; color: #66bb6a;\">O</span></span> <span style=\"padding: 2px; border-radius: 4px; border: 1px solid #c8e6c9; background: #e8f5e9\">seconds<span style=\"vertical-align: middle; margin-left: 2px; font-size: 0.7em; color: #66bb6a;\">O</span></span> <span style=\"padding: 2px; border-radius: 4px; border: 1px solid #c8e6c9; background: #e8f5e9\">after<span style=\"vertical-align: middle; margin-left: 2px; font-size: 0.7em; color: #66bb6a;\">O</span></span> <span style=\"padding: 2px; border-radius: 4px; border: 1px solid #c8e6c9; background: #e8f5e9\">lift<span style=\"vertical-align: middle; margin-left: 2px; font-size: 0.7em; color: #66bb6a;\">O</span></span> <span style=\"padding: 2px; border-radius: 4px; border: 1px solid #c8e6c9; background: #e8f5e9\">-<span style=\"vertical-align: middle; margin-left: 2px; font-size: 0.7em; color: #66bb6a;\">O</span></span> <span style=\"padding: 2px; border-radius: 4px; border: 1px solid #c8e6c9; background: #e8f5e9\">off<span style=\"vertical-align: middle; margin-left: 2px; font-size: 0.7em; color: #66bb6a;\">O</span></span> <span style=\"padding: 2px; border-radius: 4px; border: 1px solid #c8e6c9; background: #e8f5e9\">.<span style=\"vertical-align: middle; margin-left: 2px; font-size: 0.7em; color: #66bb6a;\">O</span></span></div>"
            ],
            "text/plain": [
              "<IPython.core.display.HTML object>"
            ]
          },
          "metadata": {
            "tags": []
          }
        }
      ]
    },
    {
      "cell_type": "code",
      "metadata": {
        "id": "0TxnNyQs0c8P",
        "colab_type": "code",
        "colab": {}
      },
      "source": [
        ""
      ],
      "execution_count": 0,
      "outputs": []
    }
  ]
}